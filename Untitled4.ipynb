{
 "cells": [
  {
   "cell_type": "code",
   "execution_count": 1,
   "metadata": {
    "collapsed": true
   },
   "outputs": [],
   "source": [
    "import pandas as pd\n",
    "import numpy as np"
   ]
  },
  {
   "cell_type": "code",
   "execution_count": 2,
   "metadata": {
    "collapsed": true
   },
   "outputs": [],
   "source": [
    "tp=pd.read_csv('/home/mako0970/RTpaper/data/Sandy_search_tweetsFull.csv',sep=';',\\\n",
    "iterator=True, chunksize=1000,usecols=['id','username','date','coordinates', 'geo_enabled'])\n",
    "data=pd.concat(list(tp), ignore_index=True)"
   ]
  },
  {
   "cell_type": "code",
   "execution_count": 3,
   "metadata": {},
   "outputs": [
    {
     "data": {
      "text/plain": [
       "22159690"
      ]
     },
     "execution_count": 3,
     "metadata": {},
     "output_type": "execute_result"
    }
   ],
   "source": [
    "len(data)"
   ]
  },
  {
   "cell_type": "code",
   "execution_count": 8,
   "metadata": {},
   "outputs": [
    {
     "data": {
      "text/plain": [
       "272876"
      ]
     },
     "execution_count": 8,
     "metadata": {},
     "output_type": "execute_result"
    }
   ],
   "source": [
    "len(data.coordinates[data.coordinates!='0'])"
   ]
  },
  {
   "cell_type": "code",
   "execution_count": 9,
   "metadata": {},
   "outputs": [
    {
     "data": {
      "text/plain": [
       "0.012314071180598645"
      ]
     },
     "execution_count": 9,
     "metadata": {},
     "output_type": "execute_result"
    }
   ],
   "source": [
    "Out[8]/float(Out[3])"
   ]
  },
  {
   "cell_type": "code",
   "execution_count": 13,
   "metadata": {},
   "outputs": [],
   "source": [
    "geloc_users=data.username[data.coordinates!='0']"
   ]
  },
  {
   "cell_type": "code",
   "execution_count": 17,
   "metadata": {},
   "outputs": [
    {
     "data": {
      "text/plain": [
       "163629"
      ]
     },
     "execution_count": 17,
     "metadata": {},
     "output_type": "execute_result"
    }
   ],
   "source": [
    "len(geloc_users.unique())"
   ]
  },
  {
   "cell_type": "code",
   "execution_count": 20,
   "metadata": {},
   "outputs": [
    {
     "data": {
      "text/plain": [
       "8174979"
      ]
     },
     "execution_count": 20,
     "metadata": {},
     "output_type": "execute_result"
    }
   ],
   "source": [
    "len(data.username.unique())"
   ]
  },
  {
   "cell_type": "code",
   "execution_count": 21,
   "metadata": {},
   "outputs": [
    {
     "data": {
      "text/plain": [
       "0.020015831233327938"
      ]
     },
     "execution_count": 21,
     "metadata": {},
     "output_type": "execute_result"
    }
   ],
   "source": [
    "Out[17]/float(Out[20])"
   ]
  },
  {
   "cell_type": "code",
   "execution_count": 23,
   "metadata": {},
   "outputs": [
    {
     "data": {
      "text/plain": [
       "0           2012-10-25 17:20:44\n",
       "1           2012-10-25 17:20:49\n",
       "2           2012-10-25 17:20:50\n",
       "3           2012-10-25 17:20:51\n",
       "4           2012-10-25 17:21:26\n",
       "5           2012-10-25 17:23:26\n",
       "6           2012-10-25 17:23:48\n",
       "7           2012-10-25 17:24:59\n",
       "8           2012-10-25 17:25:57\n",
       "9           2012-10-25 17:34:06\n",
       "10          2012-10-25 17:35:11\n",
       "11          2012-10-25 17:35:28\n",
       "12          2012-10-25 17:35:31\n",
       "13          2012-10-25 17:35:57\n",
       "14          2012-10-25 17:36:11\n",
       "15          2012-10-25 17:37:38\n",
       "16          2012-10-25 17:37:46\n",
       "17          2012-10-25 17:37:50\n",
       "18          2012-10-25 17:38:12\n",
       "19          2012-10-25 17:39:04\n",
       "20          2012-10-25 17:39:12\n",
       "21          2012-10-25 17:39:39\n",
       "22          2012-10-25 17:42:15\n",
       "23          2012-10-25 17:44:06\n",
       "24          2012-10-25 17:44:07\n",
       "25          2012-10-25 17:44:21\n",
       "26          2012-10-25 17:45:18\n",
       "27          2012-10-25 17:45:53\n",
       "28          2012-10-25 17:46:43\n",
       "29          2012-10-25 17:48:09\n",
       "                   ...         \n",
       "22159660    2013-04-05 16:00:48\n",
       "22159661    2013-04-05 11:39:42\n",
       "22159662    2013-04-05 15:14:43\n",
       "22159663    2013-04-05 02:38:43\n",
       "22159664    2013-04-05 03:43:48\n",
       "22159665    2013-04-05 13:35:21\n",
       "22159666    2013-04-05 02:41:37\n",
       "22159667    2013-04-05 02:41:53\n",
       "22159668    2013-04-05 16:06:45\n",
       "22159669    2013-04-05 02:19:24\n",
       "22159670    2013-04-05 03:03:14\n",
       "22159671    2013-04-05 17:03:38\n",
       "22159672    2013-04-05 02:45:43\n",
       "22159673    2013-04-05 02:38:14\n",
       "22159674    2013-04-05 02:43:43\n",
       "22159675    2013-04-05 14:12:54\n",
       "22159676    2013-04-05 18:29:23\n",
       "22159677    2013-04-05 02:42:11\n",
       "22159678    2013-04-05 20:18:50\n",
       "22159679    2013-04-05 01:24:56\n",
       "22159680    2013-04-05 02:05:15\n",
       "22159681    2013-04-05 14:13:14\n",
       "22159682    2013-04-05 02:42:26\n",
       "22159683    2013-04-05 03:03:06\n",
       "22159684    2013-04-05 16:08:42\n",
       "22159685    2013-04-05 02:42:52\n",
       "22159686    2013-04-05 14:10:36\n",
       "22159687    2013-04-05 16:03:27\n",
       "22159688    2013-04-05 00:52:35\n",
       "22159689    2013-04-05 02:39:29\n",
       "Name: date, Length: 22159690, dtype: object"
      ]
     },
     "execution_count": 23,
     "metadata": {},
     "output_type": "execute_result"
    }
   ],
   "source": [
    "data.date"
   ]
  },
  {
   "cell_type": "code",
   "execution_count": 24,
   "metadata": {},
   "outputs": [],
   "source": [
    "data['date_obj']=pd.to_datetime(data.date, format='%Y-%m-%d %H:%M:%S', errors='coerce')"
   ]
  },
  {
   "cell_type": "code",
   "execution_count": 25,
   "metadata": {},
   "outputs": [
    {
     "data": {
      "text/plain": [
       "0          2012-10-25 17:20:44\n",
       "1          2012-10-25 17:20:49\n",
       "2          2012-10-25 17:20:50\n",
       "3          2012-10-25 17:20:51\n",
       "4          2012-10-25 17:21:26\n",
       "5          2012-10-25 17:23:26\n",
       "6          2012-10-25 17:23:48\n",
       "7          2012-10-25 17:24:59\n",
       "8          2012-10-25 17:25:57\n",
       "9          2012-10-25 17:34:06\n",
       "10         2012-10-25 17:35:11\n",
       "11         2012-10-25 17:35:28\n",
       "12         2012-10-25 17:35:31\n",
       "13         2012-10-25 17:35:57\n",
       "14         2012-10-25 17:36:11\n",
       "15         2012-10-25 17:37:38\n",
       "16         2012-10-25 17:37:46\n",
       "17         2012-10-25 17:37:50\n",
       "18         2012-10-25 17:38:12\n",
       "19         2012-10-25 17:39:04\n",
       "20         2012-10-25 17:39:12\n",
       "21         2012-10-25 17:39:39\n",
       "22         2012-10-25 17:42:15\n",
       "23         2012-10-25 17:44:06\n",
       "24         2012-10-25 17:44:07\n",
       "25         2012-10-25 17:44:21\n",
       "26         2012-10-25 17:45:18\n",
       "27         2012-10-25 17:45:53\n",
       "28         2012-10-25 17:46:43\n",
       "29         2012-10-25 17:48:09\n",
       "                   ...        \n",
       "22159660   2013-04-05 16:00:48\n",
       "22159661   2013-04-05 11:39:42\n",
       "22159662   2013-04-05 15:14:43\n",
       "22159663   2013-04-05 02:38:43\n",
       "22159664   2013-04-05 03:43:48\n",
       "22159665   2013-04-05 13:35:21\n",
       "22159666   2013-04-05 02:41:37\n",
       "22159667   2013-04-05 02:41:53\n",
       "22159668   2013-04-05 16:06:45\n",
       "22159669   2013-04-05 02:19:24\n",
       "22159670   2013-04-05 03:03:14\n",
       "22159671   2013-04-05 17:03:38\n",
       "22159672   2013-04-05 02:45:43\n",
       "22159673   2013-04-05 02:38:14\n",
       "22159674   2013-04-05 02:43:43\n",
       "22159675   2013-04-05 14:12:54\n",
       "22159676   2013-04-05 18:29:23\n",
       "22159677   2013-04-05 02:42:11\n",
       "22159678   2013-04-05 20:18:50\n",
       "22159679   2013-04-05 01:24:56\n",
       "22159680   2013-04-05 02:05:15\n",
       "22159681   2013-04-05 14:13:14\n",
       "22159682   2013-04-05 02:42:26\n",
       "22159683   2013-04-05 03:03:06\n",
       "22159684   2013-04-05 16:08:42\n",
       "22159685   2013-04-05 02:42:52\n",
       "22159686   2013-04-05 14:10:36\n",
       "22159687   2013-04-05 16:03:27\n",
       "22159688   2013-04-05 00:52:35\n",
       "22159689   2013-04-05 02:39:29\n",
       "Name: date_obj, Length: 22159690, dtype: datetime64[ns]"
      ]
     },
     "execution_count": 25,
     "metadata": {},
     "output_type": "execute_result"
    }
   ],
   "source": [
    "data.date_obj"
   ]
  },
  {
   "cell_type": "code",
   "execution_count": 26,
   "metadata": {
    "collapsed": true
   },
   "outputs": [],
   "source": [
    "temporal=data[(data.date_obj>=pd.to_datetime('2012-10-13 00:00:00')) & (data.date_obj<=pd.to_datetime('2012-11-30 23:59:59'))]"
   ]
  },
  {
   "cell_type": "code",
   "execution_count": 27,
   "metadata": {},
   "outputs": [
    {
     "data": {
      "text/plain": [
       "107240"
      ]
     },
     "execution_count": 27,
     "metadata": {},
     "output_type": "execute_result"
    }
   ],
   "source": [
    "len(temporal.username[temporal.coordinates!='0'].unique())"
   ]
  },
  {
   "cell_type": "code",
   "execution_count": 28,
   "metadata": {},
   "outputs": [
    {
     "data": {
      "text/plain": [
       "5888758"
      ]
     },
     "execution_count": 28,
     "metadata": {},
     "output_type": "execute_result"
    }
   ],
   "source": [
    "len(temporal.usernameername.unique())"
   ]
  },
  {
   "cell_type": "code",
   "execution_count": 29,
   "metadata": {},
   "outputs": [
    {
     "data": {
      "text/plain": [
       "0.018210970802332173"
      ]
     },
     "execution_count": 29,
     "metadata": {},
     "output_type": "execute_result"
    }
   ],
   "source": [
    "107240.0/5888758"
   ]
  },
  {
   "cell_type": "code",
   "execution_count": null,
   "metadata": {
    "collapsed": true
   },
   "outputs": [],
   "source": []
  }
 ],
 "metadata": {
  "kernelspec": {
   "display_name": "Python 3",
   "language": "python",
   "name": "python3"
  },
  "language_info": {
   "codemirror_mode": {
    "name": "ipython",
    "version": 3
   },
   "file_extension": ".py",
   "mimetype": "text/x-python",
   "name": "python",
   "nbconvert_exporter": "python",
   "pygments_lexer": "ipython3",
   "version": "3.5.2"
  }
 },
 "nbformat": 4,
 "nbformat_minor": 2
}
