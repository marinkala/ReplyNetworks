{
 "cells": [
  {
   "cell_type": "code",
   "execution_count": 1,
   "metadata": {
    "collapsed": true
   },
   "outputs": [],
   "source": [
    "import pandas as pd"
   ]
  },
  {
   "cell_type": "code",
   "execution_count": 2,
   "metadata": {
    "collapsed": false
   },
   "outputs": [
    {
     "name": "stderr",
     "output_type": "stream",
     "text": [
      "/usr/lib/python3/dist-packages/IPython/core/interactiveshell.py:2661: DtypeWarning: Columns (67,68,69,71,72,73,75,76,77,79,80,81,83,84,85,87,88,89,91,92,93,95,96,97,99,100,101,103,104,105,107,108,109,111,112,113,115,116,117,119,120,121,123,124,125,127,128,129,131,132,133,135,136,137,139,140,141,143,144,145,147,148,149,151,152,153,155,156,157,159,160,161,163,164,165,167,168,169,171,172,173) have mixed types. Specify dtype option on import or set low_memory=False.\n",
      "  interactivity=interactivity, compiler=compiler)\n"
     ]
    }
   ],
   "source": [
    "convs=pd.read_csv('../data/bbAllFullConvosAWRandSort.csv',sep=';')"
   ]
  },
  {
   "cell_type": "code",
   "execution_count": 3,
   "metadata": {
    "collapsed": false,
    "scrolled": true
   },
   "outputs": [
    {
     "name": "stderr",
     "output_type": "stream",
     "text": [
      "/usr/lib/python3/dist-packages/IPython/core/interactiveshell.py:2661: DtypeWarning: Columns (39,40,41,43,44,45,47,48,49,51,52,53,55,56,57,59,60,61,63,64,65,67,68,69,71,72,73,75,76,77,79,80,81,83,84,85,87,88,89,91,92,93,95,96,97,99,100,101,103,104,105,107,108,109,111,112,113,115,116,117,119,120,121,123,124,125,127,128,129,131,132,133,135,136,137,139,140,141,143,144,145,147,148,149,151,152,153,155,156,157,159,160,161,163,164,165,167,168,169,171,172,173,190,191) have mixed types. Specify dtype option on import or set low_memory=False.\n",
      "  interactivity=interactivity, compiler=compiler)\n"
     ]
    }
   ],
   "source": [
    "lostDayDF=pd.read_csv('../data/bbAllFullConvosAW.csv',sep=';')"
   ]
  },
  {
   "cell_type": "code",
   "execution_count": 4,
   "metadata": {
    "collapsed": false
   },
   "outputs": [
    {
     "data": {
      "text/plain": [
       "5279"
      ]
     },
     "execution_count": 4,
     "metadata": {},
     "output_type": "execute_result"
    }
   ],
   "source": [
    "len(convs)"
   ]
  },
  {
   "cell_type": "code",
   "execution_count": 5,
   "metadata": {
    "collapsed": false
   },
   "outputs": [
    {
     "data": {
      "text/plain": [
       "5357"
      ]
     },
     "execution_count": 5,
     "metadata": {},
     "output_type": "execute_result"
    }
   ],
   "source": [
    "len(lostDayDF)"
   ]
  },
  {
   "cell_type": "code",
   "execution_count": 6,
   "metadata": {
    "collapsed": false
   },
   "outputs": [
    {
     "data": {
      "text/plain": [
       "{'code', 'ontopicConvo', 'rand'}"
      ]
     },
     "execution_count": 6,
     "metadata": {},
     "output_type": "execute_result"
    }
   ],
   "source": [
    "set(convs.columns.values)-set(lostDayDF.columns.values)"
   ]
  },
  {
   "cell_type": "code",
   "execution_count": 11,
   "metadata": {
    "collapsed": false
   },
   "outputs": [],
   "source": [
    "def ReplyTweetSet(row):\n",
    "    chain=set()\n",
    "    for i in range(44):\n",
    "        colName='tweet'+str(i)\n",
    "        if str(row[colName])!='0':\n",
    "            chain=chain | set([row[colName]])\n",
    "    return str(sorted(list(chain)))"
   ]
  },
  {
   "cell_type": "code",
   "execution_count": 17,
   "metadata": {
    "collapsed": false
   },
   "outputs": [],
   "source": [
    "convs['tweetSet']=convs.apply(ReplyTweetSet, axis=1)"
   ]
  },
  {
   "cell_type": "code",
   "execution_count": 18,
   "metadata": {
    "collapsed": false
   },
   "outputs": [],
   "source": [
    "lostDayDF['tweetSet']=lostDayDF.apply(ReplyTweetSet, axis=1)"
   ]
  },
  {
   "cell_type": "code",
   "execution_count": 22,
   "metadata": {
    "collapsed": false
   },
   "outputs": [],
   "source": [
    "convs.tweetSet=convs.tweetSet.apply(lambda x: tuple(x))"
   ]
  },
  {
   "cell_type": "code",
   "execution_count": 23,
   "metadata": {
    "collapsed": false
   },
   "outputs": [],
   "source": [
    "lostDayDF.tweetSet=lostDayDF.tweetSet.apply(lambda x: tuple(x))"
   ]
  },
  {
   "cell_type": "code",
   "execution_count": 24,
   "metadata": {
    "collapsed": false
   },
   "outputs": [
    {
     "data": {
      "text/plain": [
       "(270566698342559744, 270566805980975104)"
      ]
     },
     "execution_count": 24,
     "metadata": {},
     "output_type": "execute_result"
    }
   ],
   "source": [
    "convs.tweetSet.loc[0]"
   ]
  },
  {
   "cell_type": "code",
   "execution_count": 28,
   "metadata": {
    "collapsed": false
   },
   "outputs": [],
   "source": [
    "temp=lostDayDF.merge(convs[['code','rand','tweetSet']], how='left',left_on='tweetSet',right_on='tweetSet')"
   ]
  },
  {
   "cell_type": "code",
   "execution_count": 29,
   "metadata": {
    "collapsed": false
   },
   "outputs": [
    {
     "data": {
      "text/plain": [
       "5357"
      ]
     },
     "execution_count": 29,
     "metadata": {},
     "output_type": "execute_result"
    }
   ],
   "source": [
    "len(temp)"
   ]
  },
  {
   "cell_type": "code",
   "execution_count": 30,
   "metadata": {
    "collapsed": false
   },
   "outputs": [
    {
     "data": {
      "text/plain": [
       "array(['Unnamed: 0', 'Unnamed: 0.1', 'tweet0', 'date0', 'username0',\n",
       "       'text0', 'tweet1', 'date1', 'username1', 'text1', 'tweet2', 'date2',\n",
       "       'username2', 'text2', 'tweet3', 'date3', 'username3', 'text3',\n",
       "       'tweet4', 'date4', 'username4', 'text4', 'tweet5', 'date5',\n",
       "       'username5', 'text5', 'tweet6', 'date6', 'username6', 'text6',\n",
       "       'tweet7', 'date7', 'username7', 'text7', 'tweet8', 'date8',\n",
       "       'username8', 'text8', 'tweet9', 'date9', 'username9', 'text9',\n",
       "       'tweet10', 'date10', 'username10', 'text10', 'tweet11', 'date11',\n",
       "       'username11', 'text11', 'tweet12', 'date12', 'username12', 'text12',\n",
       "       'tweet13', 'date13', 'username13', 'text13', 'tweet14', 'date14',\n",
       "       'username14', 'text14', 'tweet15', 'date15', 'username15', 'text15',\n",
       "       'tweet16', 'date16', 'username16', 'text16', 'tweet17', 'date17',\n",
       "       'username17', 'text17', 'tweet18', 'date18', 'username18', 'text18',\n",
       "       'tweet19', 'date19', 'username19', 'text19', 'tweet20', 'date20',\n",
       "       'username20', 'text20', 'tweet21', 'date21', 'username21', 'text21',\n",
       "       'tweet22', 'date22', 'username22', 'text22', 'tweet23', 'date23',\n",
       "       'username23', 'text23', 'tweet24', 'date24', 'username24', 'text24',\n",
       "       'tweet25', 'date25', 'username25', 'text25', 'tweet26', 'date26',\n",
       "       'username26', 'text26', 'tweet27', 'date27', 'username27', 'text27',\n",
       "       'tweet28', 'date28', 'username28', 'text28', 'tweet29', 'date29',\n",
       "       'username29', 'text29', 'tweet30', 'date30', 'username30', 'text30',\n",
       "       'tweet31', 'date31', 'username31', 'text31', 'tweet32', 'date32',\n",
       "       'username32', 'text32', 'tweet33', 'date33', 'username33', 'text33',\n",
       "       'tweet34', 'date34', 'username34', 'text34', 'tweet35', 'date35',\n",
       "       'username35', 'text35', 'tweet36', 'date36', 'username36', 'text36',\n",
       "       'tweet37', 'date37', 'username37', 'text37', 'tweet38', 'date38',\n",
       "       'username38', 'text38', 'tweet39', 'date39', 'username39', 'text39',\n",
       "       'tweet40', 'date40', 'username40', 'text40', 'tweet41', 'date41',\n",
       "       'username41', 'text41', 'tweet42', 'date42', 'username42', 'text42',\n",
       "       'tweet43', 'date43', 'username43', 'text43', 'branching',\n",
       "       'convSize', 'allNames', 'convoEndTime', 'convoLen', 'userSetLen',\n",
       "       'avgTimePerReply', 'longTailed', 'medianReplyTime', 'convoUser0',\n",
       "       'convoUser1', 'convoUser2', 'convoUser3', 'convoUser4',\n",
       "       'followersUser0', 'friendsUser0', 'favesUser0', 'tweetCountUser0',\n",
       "       'followersUser1', 'friendsUser1', 'favesUser1', 'tweetCountUser1',\n",
       "       'followersUser2', 'friendsUser2', 'favesUser2', 'tweetCountUser2',\n",
       "       'followersUser3', 'friendsUser3', 'favesUser3', 'tweetCountUser3',\n",
       "       'followersUser4', 'friendsUser4', 'favesUser4', 'tweetCountUser4',\n",
       "       'highFollowUser0', 'highFollowUser1', 'highFollowUser2',\n",
       "       'highFollowUser3', 'allHighFollowUsers', 'strongTiesUser0',\n",
       "       'strongTiesUser1', 'strongTiesUser2', 'strongTiesUser3',\n",
       "       'strongTiesAllUsers', 'tweetSet', 'code', 'rand'], dtype=object)"
      ]
     },
     "execution_count": 30,
     "metadata": {},
     "output_type": "execute_result"
    }
   ],
   "source": [
    "temp.columns.values"
   ]
  },
  {
   "cell_type": "code",
   "execution_count": 35,
   "metadata": {
    "collapsed": false
   },
   "outputs": [
    {
     "data": {
      "text/plain": [
       "78"
      ]
     },
     "execution_count": 35,
     "metadata": {},
     "output_type": "execute_result"
    }
   ],
   "source": [
    "len(temp[temp.rand.isnull()])"
   ]
  },
  {
   "cell_type": "code",
   "execution_count": 40,
   "metadata": {
    "collapsed": false
   },
   "outputs": [],
   "source": [
    "import random\n",
    "temp.loc[temp.rand.isnull(),'rand']=random.sample(range(5279,5358), 78)"
   ]
  },
  {
   "cell_type": "code",
   "execution_count": 126,
   "metadata": {
    "collapsed": false
   },
   "outputs": [],
   "source": [
    "finalDF=temp.sort_values('rand')"
   ]
  },
  {
   "cell_type": "code",
   "execution_count": 129,
   "metadata": {
    "collapsed": false
   },
   "outputs": [],
   "source": [
    "del finalDF['code']"
   ]
  },
  {
   "cell_type": "code",
   "execution_count": 130,
   "metadata": {
    "collapsed": true
   },
   "outputs": [],
   "source": [
    "del finalDF['Unnamed: 0']"
   ]
  },
  {
   "cell_type": "code",
   "execution_count": 131,
   "metadata": {
    "collapsed": true
   },
   "outputs": [],
   "source": [
    "del finalDF['Unnamed: 0.1']"
   ]
  },
  {
   "cell_type": "code",
   "execution_count": 132,
   "metadata": {
    "collapsed": true
   },
   "outputs": [],
   "source": [
    "finalDF.to_csv('../data/bbAllFullConvosAWRandSortExtraDay.csv',sep=';', index=False)"
   ]
  }
 ],
 "metadata": {
  "kernelspec": {
   "display_name": "IPython (Python 3)",
   "language": "python",
   "name": "python3"
  },
  "language_info": {
   "name": "python",
   "version": "3.4.3"
  }
 },
 "nbformat": 4,
 "nbformat_minor": 1
}
