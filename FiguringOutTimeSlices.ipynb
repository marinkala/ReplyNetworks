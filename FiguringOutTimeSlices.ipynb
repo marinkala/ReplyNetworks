{
 "cells": [
  {
   "cell_type": "code",
   "execution_count": 2,
   "metadata": {
    "collapsed": true
   },
   "outputs": [],
   "source": [
    "import pandas as pd\n",
    "import numpy as np\n",
    "import ast\n",
    "import collections as c\n",
    "import matplotlib.pyplot as plt\n",
    "\n",
    "%matplotlib inline"
   ]
  },
  {
   "cell_type": "code",
   "execution_count": 5,
   "metadata": {
    "collapsed": false
   },
   "outputs": [
    {
     "name": "stderr",
     "output_type": "stream",
     "text": [
      "/home/mako0970/.local/lib/python2.7/site-packages/IPython/core/interactiveshell.py:2902: DtypeWarning: Columns (38,39,42,43,46,47,50,51,54,55,58,59,62,63,66,67,70,71,74,75,78,79,82,83,86,87,90,91,94,95,98,99,102,103,106,107,110,111,114,115,118,119,122,123,126,127,130,131,134,135,138,139,142,143,146,147,150,151,154,155,158,159,162,163,166,167,170,171,174,175) have mixed types. Specify dtype option on import or set low_memory=False.\n",
      "  interactivity=interactivity, compiler=compiler, result=result)\n"
     ]
    }
   ],
   "source": [
    "convs=pd.read_csv('../data/bbAllFullConvosCorrectTimeZone.csv',sep=';')"
   ]
  },
  {
   "cell_type": "code",
   "execution_count": 6,
   "metadata": {
    "collapsed": false
   },
   "outputs": [
    {
     "data": {
      "text/plain": [
       "Timestamp('2012-11-30 18:14:10')"
      ]
     },
     "execution_count": 6,
     "metadata": {},
     "output_type": "execute_result"
    }
   ],
   "source": [
    "max(pd.to_datetime(convs.date0))"
   ]
  },
  {
   "cell_type": "markdown",
   "metadata": {},
   "source": [
    "Time zone is already adjusted in the above file (for all teh dates)"
   ]
  },
  {
   "cell_type": "code",
   "execution_count": 7,
   "metadata": {
    "collapsed": false
   },
   "outputs": [
    {
     "data": {
      "text/plain": [
       "array(['tweet0', 'date0', 'username0', 'text0', 'tweet1', 'date1',\n",
       "       'username1', 'text1', 'tweet2', 'date2', 'username2', 'text2',\n",
       "       'tweet3', 'date3', 'username3', 'text3', 'tweet4', 'date4',\n",
       "       'username4', 'text4', 'tweet5', 'date5', 'username5', 'text5',\n",
       "       'tweet6', 'date6', 'username6', 'text6', 'tweet7', 'date7',\n",
       "       'username7', 'text7', 'tweet8', 'date8', 'username8', 'text8',\n",
       "       'tweet9', 'date9', 'username9', 'text9', 'tweet10', 'date10',\n",
       "       'username10', 'text10', 'tweet11', 'date11', 'username11', 'text11',\n",
       "       'tweet12', 'date12', 'username12', 'text12', 'tweet13', 'date13',\n",
       "       'username13', 'text13', 'tweet14', 'date14', 'username14', 'text14',\n",
       "       'tweet15', 'date15', 'username15', 'text15', 'tweet16', 'date16',\n",
       "       'username16', 'text16', 'tweet17', 'date17', 'username17', 'text17',\n",
       "       'tweet18', 'date18', 'username18', 'text18', 'tweet19', 'date19',\n",
       "       'username19', 'text19', 'tweet20', 'date20', 'username20', 'text20',\n",
       "       'tweet21', 'date21', 'username21', 'text21', 'tweet22', 'date22',\n",
       "       'username22', 'text22', 'tweet23', 'date23', 'username23', 'text23',\n",
       "       'tweet24', 'date24', 'username24', 'text24', 'tweet25', 'date25',\n",
       "       'username25', 'text25', 'tweet26', 'date26', 'username26', 'text26',\n",
       "       'tweet27', 'date27', 'username27', 'text27', 'tweet28', 'date28',\n",
       "       'username28', 'text28', 'tweet29', 'date29', 'username29', 'text29',\n",
       "       'tweet30', 'date30', 'username30', 'text30', 'tweet31', 'date31',\n",
       "       'username31', 'text31', 'tweet32', 'date32', 'username32', 'text32',\n",
       "       'tweet33', 'date33', 'username33', 'text33', 'tweet34', 'date34',\n",
       "       'username34', 'text34', 'tweet35', 'date35', 'username35', 'text35',\n",
       "       'tweet36', 'date36', 'username36', 'text36', 'tweet37', 'date37',\n",
       "       'username37', 'text37', 'tweet38', 'date38', 'username38', 'text38',\n",
       "       'tweet39', 'date39', 'username39', 'text39', 'tweet40', 'date40',\n",
       "       'username40', 'text40', 'tweet41', 'date41', 'username41', 'text41',\n",
       "       'tweet42', 'date42', 'username42', 'text42', 'tweet43', 'date43',\n",
       "       'username43', 'text43', 'branching', 'convSize', 'allNames',\n",
       "       'convoEndTime'], dtype=object)"
      ]
     },
     "execution_count": 7,
     "metadata": {},
     "output_type": "execute_result"
    }
   ],
   "source": [
    "convs.columns.values"
   ]
  },
  {
   "cell_type": "code",
   "execution_count": 8,
   "metadata": {
    "collapsed": true
   },
   "outputs": [],
   "source": [
    "rpBefore=convs[(pd.to_datetime(convs.date0)>=pd.to_datetime('2012-10-15 00:00:00')) & (pd.to_datetime(convs.convoEndTime)<pd.to_datetime('2012-10-25 00:00:00'))]"
   ]
  },
  {
   "cell_type": "code",
   "execution_count": 9,
   "metadata": {
    "collapsed": true
   },
   "outputs": [],
   "source": [
    "rpDuring=convs[(pd.to_datetime(convs.date0)>=pd.to_datetime('2012-10-25 00:00:00')) & (pd.to_datetime(convs.convoEndTime)<pd.to_datetime('2012-11-04 00:00:00'))]"
   ]
  },
  {
   "cell_type": "code",
   "execution_count": 10,
   "metadata": {
    "collapsed": true
   },
   "outputs": [],
   "source": [
    "rpAfter=convs[(pd.to_datetime(convs.date0)>=pd.to_datetime('2012-11-04 00:00:00')) & (pd.to_datetime(convs.convoEndTime)<pd.to_datetime('2012-11-14 00:00:00'))]"
   ]
  },
  {
   "cell_type": "code",
   "execution_count": 11,
   "metadata": {
    "collapsed": false
   },
   "outputs": [],
   "source": [
    "rpLafter=convs[(pd.to_datetime(convs.date0)>=pd.to_datetime('2012-11-14 00:00:00')) & (pd.to_datetime(convs.convoEndTime)<pd.to_datetime('2012-11-24 00:00:00'))]"
   ]
  },
  {
   "cell_type": "code",
   "execution_count": 12,
   "metadata": {
    "collapsed": false
   },
   "outputs": [
    {
     "data": {
      "text/plain": [
       "5281"
      ]
     },
     "execution_count": 12,
     "metadata": {},
     "output_type": "execute_result"
    }
   ],
   "source": [
    "len(rpBefore)+len(rpDuring)+len(rpAfter)+len(rpLafter)"
   ]
  },
  {
   "cell_type": "code",
   "execution_count": 13,
   "metadata": {
    "collapsed": false
   },
   "outputs": [],
   "source": [
    "convs=convs[(pd.to_datetime(convs.date0)>=pd.to_datetime('2012-10-15 00:00:00')) & (pd.to_datetime(convs.convoEndTime)<pd.to_datetime('2012-11-24 00:00:00'))]"
   ]
  },
  {
   "cell_type": "code",
   "execution_count": 14,
   "metadata": {
    "collapsed": false
   },
   "outputs": [
    {
     "data": {
      "text/plain": [
       "5350"
      ]
     },
     "execution_count": 14,
     "metadata": {},
     "output_type": "execute_result"
    }
   ],
   "source": [
    "len(convs)"
   ]
  },
  {
   "cell_type": "code",
   "execution_count": 15,
   "metadata": {
    "collapsed": false
   },
   "outputs": [],
   "source": [
    "convs.to_csv('../data/bbAllFullConvosAWCorrectTimeZone.csv',sep=';', index=False)"
   ]
  }
 ],
 "metadata": {
  "kernelspec": {
   "display_name": "Python 2",
   "language": "python",
   "name": "python2"
  },
  "language_info": {
   "codemirror_mode": {
    "name": "ipython",
    "version": 2
   },
   "file_extension": ".py",
   "mimetype": "text/x-python",
   "name": "python",
   "nbconvert_exporter": "python",
   "pygments_lexer": "ipython2",
   "version": "2.7.6"
  }
 },
 "nbformat": 4,
 "nbformat_minor": 1
}
