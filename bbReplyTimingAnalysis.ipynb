{
 "cells": [
  {
   "cell_type": "code",
   "execution_count": 438,
   "metadata": {
    "collapsed": true
   },
   "outputs": [],
   "source": [
    "import pandas as pd\n",
    "import numpy as np\n",
    "import matplotlib.pyplot as plt\n",
    "import collections as c\n",
    "\n",
    "%matplotlib inline"
   ]
  },
  {
   "cell_type": "code",
   "execution_count": 2,
   "metadata": {
    "collapsed": false
   },
   "outputs": [
    {
     "name": "stderr",
     "output_type": "stream",
     "text": [
      "/home/mako0970/.local/lib/python2.7/site-packages/IPython/core/interactiveshell.py:2902: DtypeWarning: Columns (31,32,34,35,36,38,39,40,42,43,44,46,47,48,50,51,52,54,55,56,58,59,60,62,63,64,66,67,68,70,71,72,74,75,76,78,79,80,82,83,84,86,87,88,90,91,92,94,95,96,98,99,100,102,103,104,106,107,108,110,111,112,114,115,116,118,119,120,122,123,124,126,127,128,130,131,132,134,135,136,138,139,140,142,143,144,146,147,148,150,151,152,154,155,156,158,159,160,162,163,164,166,167,168,170,171,172,174,175,176,178,179,180,182,183,184,186,187,188,190,191,192) have mixed types. Specify dtype option on import or set low_memory=False.\n",
      "  interactivity=interactivity, compiler=compiler, result=result)\n"
     ]
    }
   ],
   "source": [
    "df=pd.read_csv('../data/bbAllConvosDF.csv',sep=';')"
   ]
  },
  {
   "cell_type": "code",
   "execution_count": 3,
   "metadata": {
    "collapsed": false
   },
   "outputs": [
    {
     "data": {
      "text/plain": [
       "Index([u'id', u'username', u'user_id', u'geo_enabled', u'followCount',\n",
       "       u'friendCount', u'faveCount', u'tweetCount', u'date', u'timing',\n",
       "       ...\n",
       "       u'reply41OrigReplyWhat', u'reply41OrigReplyWho', u'reply42OrigTime',\n",
       "       u'reply42OrigText', u'reply42OrigReplyWhat', u'reply42OrigReplyWho',\n",
       "       u'reply43OrigTime', u'reply43OrigText', u'reply43OrigReplyWhat',\n",
       "       u'reply43OrigReplyWho'],\n",
       "      dtype='object', length=195)"
      ]
     },
     "execution_count": 3,
     "metadata": {},
     "output_type": "execute_result"
    }
   ],
   "source": [
    "df.columns"
   ]
  },
  {
   "cell_type": "code",
   "execution_count": 4,
   "metadata": {
    "collapsed": true
   },
   "outputs": [],
   "source": [
    "df['dateObj']=pd.to_datetime(df.date)"
   ]
  },
  {
   "cell_type": "code",
   "execution_count": 5,
   "metadata": {
    "collapsed": false
   },
   "outputs": [
    {
     "data": {
      "text/plain": [
       "625731"
      ]
     },
     "execution_count": 5,
     "metadata": {},
     "output_type": "execute_result"
    }
   ],
   "source": [
    "len(df[df.replyWhat!=0])"
   ]
  },
  {
   "cell_type": "code",
   "execution_count": 6,
   "metadata": {
    "collapsed": false
   },
   "outputs": [],
   "source": [
    "inBBreps=df[df.replyOrigTime!='0'].copy()"
   ]
  },
  {
   "cell_type": "markdown",
   "metadata": {},
   "source": [
    "** LIMIT the dataset only to tweets that reply to tweets we also have**"
   ]
  },
  {
   "cell_type": "code",
   "execution_count": 7,
   "metadata": {
    "collapsed": false
   },
   "outputs": [],
   "source": [
    "inBBreps['repSecDiff']=(inBBreps.dateObj-pd.to_datetime(inBBreps.replyOrigTime)).apply(lambda x: np.nan if pd.isnull(x) else x.item()/(10**9))"
   ]
  },
  {
   "cell_type": "code",
   "execution_count": 8,
   "metadata": {
    "collapsed": true
   },
   "outputs": [],
   "source": [
    "data = inBBreps.repSecDiff.dropna().tolist()"
   ]
  },
  {
   "cell_type": "code",
   "execution_count": 9,
   "metadata": {
    "collapsed": false
   },
   "outputs": [],
   "source": [
    "bins=np.logspace(0, int(np.log(max(data))), 100)\n",
    "width=bins[1:]-bins[:-1]"
   ]
  },
  {
   "cell_type": "code",
   "execution_count": 10,
   "metadata": {
    "collapsed": false
   },
   "outputs": [
    {
     "data": {
      "text/plain": [
       "(0, 0.08)"
      ]
     },
     "execution_count": 10,
     "metadata": {},
     "output_type": "execute_result"
    },
    {
     "data": {
      "image/png": "[encoded data removed]",
      "text/plain": [
       "<matplotlib.figure.Figure at 0x7f1aaf8136d0>"
      ]
     },
     "metadata": {},
     "output_type": "display_data"
    }
   ],
   "source": [
    "h, b=np.histogram(data,bins)\n",
    "h=h/float(sum(h))\n",
    "plt.bar(b[:-1], h, width, color='c')\n",
    "#plt.plot(bins[:-1], fit[:-1]*width, linewidth=2)\n",
    "plt.gca().set_xscale(\"log\")\n",
    "plt.xlim(xmin=0,xmax=10**6.5)\n",
    "plt.ylim(ymin=0, ymax=0.08)"
   ]
  },
  {
   "cell_type": "markdown",
   "metadata": {},
   "source": [
    "**Takeway**\n",
    "* Inter-reply patterns are similar to inter-tweet time (in bbInterReplyTimeOneSide)\n",
    "* This means that people have similar work session practices for reply activity as just tweets\n",
    "* So when they reply has more to do with their own tweeting patterns than with the timing of the tweet they are replying to?\n",
    "* The graph above somewhat confirms it: the long tail suggest that inter-arrival time seems consistent with Poisson process (?)\n",
    "* **Look into this**\n",
    "* There is a single work-session practice, but it doesn't have a meaningful center, as it's long-tailed"
   ]
  },
  {
   "cell_type": "markdown",
   "metadata": {},
   "source": [
    "# Check inter-Reply time for different disaster stages"
   ]
  },
  {
   "cell_type": "code",
   "execution_count": 11,
   "metadata": {
    "collapsed": true
   },
   "outputs": [],
   "source": [
    "before=inBBreps[inBBreps.dateObj<pd.to_datetime('2012-10-27 00:00:00')]"
   ]
  },
  {
   "cell_type": "code",
   "execution_count": 12,
   "metadata": {
    "collapsed": true
   },
   "outputs": [],
   "source": [
    "during=inBBreps[(inBBreps.dateObj>=pd.to_datetime('2012-10-27 00:00:00')) & (inBBreps.dateObj<=pd.to_datetime('2012-11-04 11:59:59'))]"
   ]
  },
  {
   "cell_type": "code",
   "execution_count": 13,
   "metadata": {
    "collapsed": true
   },
   "outputs": [],
   "source": [
    "after=inBBreps[inBBreps.dateObj>=pd.to_datetime('2012-11-05 00:00:00')]"
   ]
  },
  {
   "cell_type": "code",
   "execution_count": 14,
   "metadata": {
    "collapsed": false
   },
   "outputs": [],
   "source": [
    "bSecDiff=before.repSecDiff.dropna().tolist()\n",
    "dSecDiff=during.repSecDiff.dropna().tolist()\n",
    "aSecDiff=after.repSecDiff.dropna().tolist()"
   ]
  },
  {
   "cell_type": "code",
   "execution_count": 15,
   "metadata": {
    "collapsed": false
   },
   "outputs": [
    {
     "data": {
      "text/plain": [
       "<matplotlib.text.Text at 0x7f1ab833ee90>"
      ]
     },
     "execution_count": 15,
     "metadata": {},
     "output_type": "execute_result"
    },
    {
     "data": {
      "image/png": "[encoded data removed]",
      "text/plain": [
       "<matplotlib.figure.Figure at 0x7f1abd65c6d0>"
      ]
     },
     "metadata": {},
     "output_type": "display_data"
    }
   ],
   "source": [
    "bins=np.logspace(0, int(np.log(max(bSecDiff))), 100)\n",
    "width=bins[1:]-bins[:-1]\n",
    "h, b=np.histogram(bSecDiff,bins)\n",
    "h=h/float(sum(h))\n",
    "plt.bar(b[:-1], h, width, color='c')\n",
    "plt.gca().set_xscale(\"log\")\n",
    "plt.xlim(xmin=0,xmax=10**6.5)\n",
    "plt.ylim(ymin=0,ymax=0.08)\n",
    "plt.title('Inter-reply times BEFORE')"
   ]
  },
  {
   "cell_type": "code",
   "execution_count": 16,
   "metadata": {
    "collapsed": false
   },
   "outputs": [
    {
     "data": {
      "text/plain": [
       "<matplotlib.text.Text at 0x7f1ab7ee5250>"
      ]
     },
     "execution_count": 16,
     "metadata": {},
     "output_type": "execute_result"
    },
    {
     "data": {
      "image/png": "[encoded data removed]",
      "text/plain": [
       "<matplotlib.figure.Figure at 0x7f1aafa2b810>"
      ]
     },
     "metadata": {},
     "output_type": "display_data"
    }
   ],
   "source": [
    "bins=np.logspace(0, int(np.log(max(dSecDiff))), 100)\n",
    "width=bins[1:]-bins[:-1]\n",
    "h, b=np.histogram(dSecDiff,bins)\n",
    "h=h/float(sum(h))\n",
    "plt.bar(b[:-1], h, width, color='c')\n",
    "plt.gca().set_xscale(\"log\")\n",
    "plt.xlim(xmin=0,xmax=10**6.5)\n",
    "plt.ylim(ymin=0,ymax=0.08)\n",
    "plt.title('Inter-reply times DURING')"
   ]
  },
  {
   "cell_type": "code",
   "execution_count": 17,
   "metadata": {
    "collapsed": false
   },
   "outputs": [
    {
     "data": {
      "text/plain": [
       "<matplotlib.text.Text at 0x7f0aedeb7e50>"
      ]
     },
     "execution_count": 17,
     "metadata": {},
     "output_type": "execute_result"
    },
    {
     "data": {
      "image/png": "[encoded data removed]",
      "text/plain": [
       "<matplotlib.figure.Figure at 0x7f0aeda43610>"
      ]
     },
     "metadata": {},
     "output_type": "display_data"
    }
   ],
   "source": [
    "bins=np.logspace(0, int(np.log(max(aSecDiff))), 100)\n",
    "width=bins[1:]-bins[:-1]\n",
    "h, b=np.histogram(aSecDiff,bins)\n",
    "h=h/float(sum(h))\n",
    "plt.bar(b[:-1], h, width, color='c')\n",
    "plt.gca().set_xscale(\"log\")\n",
    "plt.xlim(xmin=0,xmax=10**6.5)\n",
    "plt.ylim(ymin=0,ymax=0.08)\n",
    "plt.title('Inter-reply times AFTER')"
   ]
  },
  {
   "cell_type": "markdown",
   "metadata": {},
   "source": [
    "# Limit data to only full conversations"
   ]
  },
  {
   "cell_type": "markdown",
   "metadata": {},
   "source": [
    "* write a function that goes through id, replyWhat, replyOrigReplyWhat, and all the replyXOrigReplyWhat (X start w/ 2) and constructs a set of them\n",
    "* apply that function to the data frame and save in its own column\n",
    "* add to new DF the rows with the longest sets\n",
    "* go through all the rows and only add rows with shorter sets that are not subsets of the longest ones"
   ]
  },
  {
   "cell_type": "code",
   "execution_count": 101,
   "metadata": {
    "collapsed": false
   },
   "outputs": [],
   "source": [
    "def ReplyChainSet(row):\n",
    "    chain=set([row.id, row.replyWhat])\n",
    "    if row.replyOrigReplyWhat!=0:\n",
    "        chain=chain | set([row.replyOrigReplyWhat])\n",
    "        for i in xrange(2,43):\n",
    "            colName='reply'+str(i)+'OrigReplyWhat'\n",
    "            if row[colName]!=0:\n",
    "                chain=chain | set([row[colName]])\n",
    "    return chain"
   ]
  },
  {
   "cell_type": "code",
   "execution_count": 18,
   "metadata": {
    "collapsed": false
   },
   "outputs": [],
   "source": [
    "inBBreps['repSet']=0"
   ]
  },
  {
   "cell_type": "code",
   "execution_count": 19,
   "metadata": {
    "collapsed": false
   },
   "outputs": [],
   "source": [
    "inBBreps.repSet=inBBreps.apply(ReplyChainSet, axis=1)"
   ]
  },
  {
   "cell_type": "code",
   "execution_count": 20,
   "metadata": {
    "collapsed": false
   },
   "outputs": [
    {
     "data": {
      "text/plain": [
       "214        set([256912333828390912, 256912725534466049])\n",
       "396        set([256917133538254848, 256916920777981952])\n",
       "443    set([256872378540384256, 256918252444327937, 2...\n",
       "525        set([256920277588512768, 256912268091080705])\n",
       "832        set([256925611031949312, 256927937700438017])\n",
       "Name: repSet, dtype: object"
      ]
     },
     "execution_count": 20,
     "metadata": {},
     "output_type": "execute_result"
    }
   ],
   "source": [
    "inBBreps.repSet.head()"
   ]
  },
  {
   "cell_type": "code",
   "execution_count": 21,
   "metadata": {
    "collapsed": true
   },
   "outputs": [],
   "source": [
    "inBBreps['lenRepSet']=inBBreps.repSet.apply(lambda x: len(x))"
   ]
  },
  {
   "cell_type": "code",
   "execution_count": 22,
   "metadata": {
    "collapsed": false
   },
   "outputs": [],
   "source": [
    "m=max(inBBreps.lenRepSet)"
   ]
  },
  {
   "cell_type": "code",
   "execution_count": 23,
   "metadata": {
    "collapsed": false
   },
   "outputs": [
    {
     "data": {
      "text/plain": [
       "44"
      ]
     },
     "execution_count": 23,
     "metadata": {},
     "output_type": "execute_result"
    }
   ],
   "source": [
    "m"
   ]
  },
  {
   "cell_type": "code",
   "execution_count": 24,
   "metadata": {
    "collapsed": false
   },
   "outputs": [
    {
     "data": {
      "text/plain": [
       "1"
      ]
     },
     "execution_count": 24,
     "metadata": {},
     "output_type": "execute_result"
    }
   ],
   "source": [
    "len(inBBreps[inBBreps.lenRepSet==m])"
   ]
  },
  {
   "cell_type": "code",
   "execution_count": 25,
   "metadata": {
    "collapsed": false
   },
   "outputs": [],
   "source": [
    "convClean=pd.DataFrame()"
   ]
  },
  {
   "cell_type": "code",
   "execution_count": 26,
   "metadata": {
    "collapsed": false
   },
   "outputs": [],
   "source": [
    "convClean=convClean.append(inBBreps[inBBreps.lenRepSet==m])"
   ]
  },
  {
   "cell_type": "code",
   "execution_count": 42,
   "metadata": {
    "collapsed": false
   },
   "outputs": [
    {
     "data": {
      "text/plain": [
       "array(['JesseCFriedman', 'Mr__Maxwell', 'binghott', ..., 'love2sellhomes',\n",
       "       'jenrosen', 'amandarosen'], dtype=object)"
      ]
     },
     "execution_count": 42,
     "metadata": {},
     "output_type": "execute_result"
    }
   ],
   "source": [
    "inBBreps.username.unique()"
   ]
  },
  {
   "cell_type": "code",
   "execution_count": 127,
   "metadata": {
    "collapsed": false
   },
   "outputs": [],
   "source": [
    "def ReplyNameSet(row):\n",
    "    chain=set([row.username, row.replyWho])\n",
    "    if row.replyOrigReplyWho!='0':\n",
    "        chain=chain | set([row.replyOrigReplyWho])\n",
    "        for i in xrange(2,43):\n",
    "            colName='reply'+str(i)+'OrigReplyWho'\n",
    "            if str(row[colName])!='0':\n",
    "                chain=chain | set([row[colName]])\n",
    "    return chain"
   ]
  },
  {
   "cell_type": "code",
   "execution_count": 128,
   "metadata": {
    "collapsed": true
   },
   "outputs": [],
   "source": [
    "inBBreps['convNames']=0"
   ]
  },
  {
   "cell_type": "code",
   "execution_count": 129,
   "metadata": {
    "collapsed": false
   },
   "outputs": [],
   "source": [
    "inBBreps.convNames=inBBreps.apply(ReplyNameSet, axis=1)"
   ]
  },
  {
   "cell_type": "code",
   "execution_count": 139,
   "metadata": {
    "collapsed": false
   },
   "outputs": [
    {
     "data": {
      "text/plain": [
       "214                            set([JesseCFriedman])\n",
       "396              set([danjulysveryown, Mr__Maxwell])\n",
       "443    set([binghott, FrankRamblings, MallorieRose])\n",
       "525              set([itslaurenbaker, dazedreverie])\n",
       "832               set([NickDidelot, MegEHarrington])\n",
       "Name: convNames, dtype: object"
      ]
     },
     "execution_count": 139,
     "metadata": {},
     "output_type": "execute_result"
    }
   ],
   "source": [
    "inBBreps.convNames.head()"
   ]
  },
  {
   "cell_type": "code",
   "execution_count": 140,
   "metadata": {
    "collapsed": false
   },
   "outputs": [],
   "source": [
    "def getOriginal(row):\n",
    "    #chain=set([row.id, row.replyWhat, row.replyOrigReplyWhat])\n",
    "    i=43\n",
    "    colName='reply'+str(i)+'OrigReplyWhat'\n",
    "    while row[colName]==0:\n",
    "        i-=1\n",
    "        colName='reply'+str(i)+'OrigReplyWhat'\n",
    "        if i==1: #if reply2OrigReplyWhat is 0\n",
    "            colName='replyOrigReplyWhat'\n",
    "        if i==0: #if replyOrigReplyWhat is 0 - only one step\n",
    "            colName='replyWhat'\n",
    "    return row[colName]"
   ]
  },
  {
   "cell_type": "code",
   "execution_count": 141,
   "metadata": {
    "collapsed": false
   },
   "outputs": [],
   "source": [
    "inBBreps['convStart']=0"
   ]
  },
  {
   "cell_type": "code",
   "execution_count": 142,
   "metadata": {
    "collapsed": false
   },
   "outputs": [],
   "source": [
    "inBBreps.convStart=inBBreps.apply(getOriginal, axis=1)"
   ]
  },
  {
   "cell_type": "code",
   "execution_count": 190,
   "metadata": {
    "collapsed": false,
    "scrolled": true
   },
   "outputs": [
    {
     "data": {
      "text/html": [
       "<div>\n",
       "<table border=\"1\" class=\"dataframe\">\n",
       "  <thead>\n",
       "    <tr style=\"text-align: right;\">\n",
       "      <th></th>\n",
       "      <th>id</th>\n",
       "      <th>username</th>\n",
       "      <th>user_id</th>\n",
       "      <th>geo_enabled</th>\n",
       "      <th>followCount</th>\n",
       "      <th>friendCount</th>\n",
       "      <th>faveCount</th>\n",
       "      <th>tweetCount</th>\n",
       "      <th>date</th>\n",
       "      <th>timing</th>\n",
       "      <th>...</th>\n",
       "      <th>reply43OrigTime</th>\n",
       "      <th>reply43OrigText</th>\n",
       "      <th>reply43OrigReplyWhat</th>\n",
       "      <th>reply43OrigReplyWho</th>\n",
       "      <th>dateObj</th>\n",
       "      <th>repSecDiff</th>\n",
       "      <th>repSet</th>\n",
       "      <th>lenRepSet</th>\n",
       "      <th>convNames</th>\n",
       "      <th>convStart</th>\n",
       "    </tr>\n",
       "  </thead>\n",
       "  <tbody>\n",
       "    <tr>\n",
       "      <th>253917</th>\n",
       "      <td>264103404769517568</td>\n",
       "      <td>itsmeaRdo</td>\n",
       "      <td>56464727</td>\n",
       "      <td>True</td>\n",
       "      <td>160</td>\n",
       "      <td>218</td>\n",
       "      <td>167</td>\n",
       "      <td>3903</td>\n",
       "      <td>2012-11-01 20:35:33</td>\n",
       "      <td>after</td>\n",
       "      <td>...</td>\n",
       "      <td>0</td>\n",
       "      <td>0</td>\n",
       "      <td>0</td>\n",
       "      <td>0</td>\n",
       "      <td>2012-11-01 20:35:33</td>\n",
       "      <td>386</td>\n",
       "      <td>set([264103404769517568, 264101788569960449, 2...</td>\n",
       "      <td>3</td>\n",
       "      <td>set([itsmeaRdo, lopaz13, tirsarifka])</td>\n",
       "      <td>264101449879928832</td>\n",
       "    </tr>\n",
       "    <tr>\n",
       "      <th>253954</th>\n",
       "      <td>264104422165078017</td>\n",
       "      <td>lopaz13</td>\n",
       "      <td>329752526</td>\n",
       "      <td>True</td>\n",
       "      <td>135</td>\n",
       "      <td>175</td>\n",
       "      <td>2</td>\n",
       "      <td>1782</td>\n",
       "      <td>2012-11-01 20:39:35</td>\n",
       "      <td>after</td>\n",
       "      <td>...</td>\n",
       "      <td>0</td>\n",
       "      <td>0</td>\n",
       "      <td>0</td>\n",
       "      <td>0</td>\n",
       "      <td>2012-11-01 20:39:35</td>\n",
       "      <td>242</td>\n",
       "      <td>set([264103404769517568, 264104422165078017, 2...</td>\n",
       "      <td>4</td>\n",
       "      <td>set([itsmeaRdo, lopaz13, tirsarifka])</td>\n",
       "      <td>264101449879928832</td>\n",
       "    </tr>\n",
       "    <tr>\n",
       "      <th>254281</th>\n",
       "      <td>264110036358418432</td>\n",
       "      <td>itsmeaRdo</td>\n",
       "      <td>56464727</td>\n",
       "      <td>True</td>\n",
       "      <td>160</td>\n",
       "      <td>218</td>\n",
       "      <td>167</td>\n",
       "      <td>3903</td>\n",
       "      <td>2012-11-01 21:01:54</td>\n",
       "      <td>after</td>\n",
       "      <td>...</td>\n",
       "      <td>0</td>\n",
       "      <td>0</td>\n",
       "      <td>0</td>\n",
       "      <td>0</td>\n",
       "      <td>2012-11-01 21:01:54</td>\n",
       "      <td>1339</td>\n",
       "      <td>set([264110036358418432, 264104422165078017, 2...</td>\n",
       "      <td>5</td>\n",
       "      <td>set([itsmeaRdo, lopaz13, tirsarifka])</td>\n",
       "      <td>264101449879928832</td>\n",
       "    </tr>\n",
       "    <tr>\n",
       "      <th>254313</th>\n",
       "      <td>264110793908420608</td>\n",
       "      <td>lopaz13</td>\n",
       "      <td>329752526</td>\n",
       "      <td>True</td>\n",
       "      <td>135</td>\n",
       "      <td>175</td>\n",
       "      <td>2</td>\n",
       "      <td>1782</td>\n",
       "      <td>2012-11-01 21:04:54</td>\n",
       "      <td>after</td>\n",
       "      <td>...</td>\n",
       "      <td>0</td>\n",
       "      <td>0</td>\n",
       "      <td>0</td>\n",
       "      <td>0</td>\n",
       "      <td>2012-11-01 21:04:54</td>\n",
       "      <td>180</td>\n",
       "      <td>set([264110793908420608, 264110036358418432, 2...</td>\n",
       "      <td>6</td>\n",
       "      <td>set([itsmeaRdo, lopaz13, tirsarifka])</td>\n",
       "      <td>264101449879928832</td>\n",
       "    </tr>\n",
       "    <tr>\n",
       "      <th>254456</th>\n",
       "      <td>264113775886622720</td>\n",
       "      <td>itsmeaRdo</td>\n",
       "      <td>56464727</td>\n",
       "      <td>True</td>\n",
       "      <td>160</td>\n",
       "      <td>218</td>\n",
       "      <td>167</td>\n",
       "      <td>3903</td>\n",
       "      <td>2012-11-01 21:16:45</td>\n",
       "      <td>after</td>\n",
       "      <td>...</td>\n",
       "      <td>0</td>\n",
       "      <td>0</td>\n",
       "      <td>0</td>\n",
       "      <td>0</td>\n",
       "      <td>2012-11-01 21:16:45</td>\n",
       "      <td>711</td>\n",
       "      <td>set([264113775886622720, 264110793908420608, 2...</td>\n",
       "      <td>7</td>\n",
       "      <td>set([itsmeaRdo, lopaz13, tirsarifka])</td>\n",
       "      <td>264101449879928832</td>\n",
       "    </tr>\n",
       "    <tr>\n",
       "      <th>262550</th>\n",
       "      <td>264248584067747840</td>\n",
       "      <td>itsmeaRdo</td>\n",
       "      <td>56464727</td>\n",
       "      <td>True</td>\n",
       "      <td>160</td>\n",
       "      <td>218</td>\n",
       "      <td>167</td>\n",
       "      <td>3903</td>\n",
       "      <td>2012-11-02 06:12:26</td>\n",
       "      <td>after</td>\n",
       "      <td>...</td>\n",
       "      <td>0</td>\n",
       "      <td>0</td>\n",
       "      <td>0</td>\n",
       "      <td>0</td>\n",
       "      <td>2012-11-02 06:12:26</td>\n",
       "      <td>32852</td>\n",
       "      <td>set([264248584067747840, 264110793908420608, 2...</td>\n",
       "      <td>7</td>\n",
       "      <td>set([itsmeaRdo, lopaz13, tirsarifka])</td>\n",
       "      <td>264101449879928832</td>\n",
       "    </tr>\n",
       "    <tr>\n",
       "      <th>262557</th>\n",
       "      <td>264249298353524736</td>\n",
       "      <td>lopaz13</td>\n",
       "      <td>329752526</td>\n",
       "      <td>True</td>\n",
       "      <td>135</td>\n",
       "      <td>175</td>\n",
       "      <td>2</td>\n",
       "      <td>1782</td>\n",
       "      <td>2012-11-02 06:15:16</td>\n",
       "      <td>after</td>\n",
       "      <td>...</td>\n",
       "      <td>0</td>\n",
       "      <td>0</td>\n",
       "      <td>0</td>\n",
       "      <td>0</td>\n",
       "      <td>2012-11-02 06:15:16</td>\n",
       "      <td>170</td>\n",
       "      <td>set([264249298353524736, 264248584067747840, 2...</td>\n",
       "      <td>8</td>\n",
       "      <td>set([itsmeaRdo, lopaz13, tirsarifka])</td>\n",
       "      <td>264101449879928832</td>\n",
       "    </tr>\n",
       "    <tr>\n",
       "      <th>262566</th>\n",
       "      <td>264249636158595072</td>\n",
       "      <td>itsmeaRdo</td>\n",
       "      <td>56464727</td>\n",
       "      <td>True</td>\n",
       "      <td>160</td>\n",
       "      <td>218</td>\n",
       "      <td>167</td>\n",
       "      <td>3903</td>\n",
       "      <td>2012-11-02 06:16:37</td>\n",
       "      <td>after</td>\n",
       "      <td>...</td>\n",
       "      <td>0</td>\n",
       "      <td>0</td>\n",
       "      <td>0</td>\n",
       "      <td>0</td>\n",
       "      <td>2012-11-02 06:16:37</td>\n",
       "      <td>81</td>\n",
       "      <td>set([264249636158595072, 264249298353524736, 2...</td>\n",
       "      <td>9</td>\n",
       "      <td>set([itsmeaRdo, lopaz13, tirsarifka])</td>\n",
       "      <td>264101449879928832</td>\n",
       "    </tr>\n",
       "    <tr>\n",
       "      <th>262669</th>\n",
       "      <td>264255932849078272</td>\n",
       "      <td>lopaz13</td>\n",
       "      <td>329752526</td>\n",
       "      <td>True</td>\n",
       "      <td>135</td>\n",
       "      <td>175</td>\n",
       "      <td>2</td>\n",
       "      <td>1782</td>\n",
       "      <td>2012-11-02 06:41:38</td>\n",
       "      <td>after</td>\n",
       "      <td>...</td>\n",
       "      <td>0</td>\n",
       "      <td>0</td>\n",
       "      <td>0</td>\n",
       "      <td>0</td>\n",
       "      <td>2012-11-02 06:41:38</td>\n",
       "      <td>1501</td>\n",
       "      <td>set([264255932849078272, 264249636158595072, 2...</td>\n",
       "      <td>10</td>\n",
       "      <td>set([itsmeaRdo, lopaz13, tirsarifka])</td>\n",
       "      <td>264101449879928832</td>\n",
       "    </tr>\n",
       "    <tr>\n",
       "      <th>262675</th>\n",
       "      <td>264256331131805697</td>\n",
       "      <td>itsmeaRdo</td>\n",
       "      <td>56464727</td>\n",
       "      <td>True</td>\n",
       "      <td>160</td>\n",
       "      <td>218</td>\n",
       "      <td>167</td>\n",
       "      <td>3903</td>\n",
       "      <td>2012-11-02 06:43:13</td>\n",
       "      <td>after</td>\n",
       "      <td>...</td>\n",
       "      <td>0</td>\n",
       "      <td>0</td>\n",
       "      <td>0</td>\n",
       "      <td>0</td>\n",
       "      <td>2012-11-02 06:43:13</td>\n",
       "      <td>95</td>\n",
       "      <td>set([264255932849078272, 264256331131805697, 2...</td>\n",
       "      <td>11</td>\n",
       "      <td>set([itsmeaRdo, lopaz13, tirsarifka])</td>\n",
       "      <td>264101449879928832</td>\n",
       "    </tr>\n",
       "    <tr>\n",
       "      <th>262725</th>\n",
       "      <td>264258993323642880</td>\n",
       "      <td>lopaz13</td>\n",
       "      <td>329752526</td>\n",
       "      <td>True</td>\n",
       "      <td>135</td>\n",
       "      <td>175</td>\n",
       "      <td>2</td>\n",
       "      <td>1782</td>\n",
       "      <td>2012-11-02 06:53:48</td>\n",
       "      <td>after</td>\n",
       "      <td>...</td>\n",
       "      <td>0</td>\n",
       "      <td>0</td>\n",
       "      <td>0</td>\n",
       "      <td>0</td>\n",
       "      <td>2012-11-02 06:53:48</td>\n",
       "      <td>635</td>\n",
       "      <td>set([264258993323642880, 264256331131805697, 2...</td>\n",
       "      <td>12</td>\n",
       "      <td>set([itsmeaRdo, lopaz13, tirsarifka])</td>\n",
       "      <td>264101449879928832</td>\n",
       "    </tr>\n",
       "    <tr>\n",
       "      <th>262829</th>\n",
       "      <td>264267800158285824</td>\n",
       "      <td>itsmeaRdo</td>\n",
       "      <td>56464727</td>\n",
       "      <td>True</td>\n",
       "      <td>160</td>\n",
       "      <td>218</td>\n",
       "      <td>167</td>\n",
       "      <td>3903</td>\n",
       "      <td>2012-11-02 07:28:48</td>\n",
       "      <td>after</td>\n",
       "      <td>...</td>\n",
       "      <td>0</td>\n",
       "      <td>0</td>\n",
       "      <td>0</td>\n",
       "      <td>0</td>\n",
       "      <td>2012-11-02 07:28:48</td>\n",
       "      <td>2100</td>\n",
       "      <td>set([264267800158285824, 264258993323642880, 2...</td>\n",
       "      <td>13</td>\n",
       "      <td>set([itsmeaRdo, lopaz13, tirsarifka])</td>\n",
       "      <td>264101449879928832</td>\n",
       "    </tr>\n",
       "    <tr>\n",
       "      <th>266070</th>\n",
       "      <td>264392968893526016</td>\n",
       "      <td>lopaz13</td>\n",
       "      <td>329752526</td>\n",
       "      <td>True</td>\n",
       "      <td>135</td>\n",
       "      <td>175</td>\n",
       "      <td>2</td>\n",
       "      <td>1782</td>\n",
       "      <td>2012-11-02 15:46:10</td>\n",
       "      <td>after</td>\n",
       "      <td>...</td>\n",
       "      <td>0</td>\n",
       "      <td>0</td>\n",
       "      <td>0</td>\n",
       "      <td>0</td>\n",
       "      <td>2012-11-02 15:46:10</td>\n",
       "      <td>29842</td>\n",
       "      <td>set([264392968893526016, 264267800158285824, 2...</td>\n",
       "      <td>14</td>\n",
       "      <td>set([itsmeaRdo, lopaz13, tirsarifka])</td>\n",
       "      <td>264101449879928832</td>\n",
       "    </tr>\n",
       "    <tr>\n",
       "      <th>266081</th>\n",
       "      <td>264393192869343233</td>\n",
       "      <td>itsmeaRdo</td>\n",
       "      <td>56464727</td>\n",
       "      <td>True</td>\n",
       "      <td>160</td>\n",
       "      <td>218</td>\n",
       "      <td>167</td>\n",
       "      <td>3903</td>\n",
       "      <td>2012-11-02 15:47:04</td>\n",
       "      <td>after</td>\n",
       "      <td>...</td>\n",
       "      <td>0</td>\n",
       "      <td>0</td>\n",
       "      <td>0</td>\n",
       "      <td>0</td>\n",
       "      <td>2012-11-02 15:47:04</td>\n",
       "      <td>54</td>\n",
       "      <td>set([264392968893526016, 264393192869343233, 2...</td>\n",
       "      <td>15</td>\n",
       "      <td>set([itsmeaRdo, lopaz13, tirsarifka])</td>\n",
       "      <td>264101449879928832</td>\n",
       "    </tr>\n",
       "    <tr>\n",
       "      <th>266104</th>\n",
       "      <td>264393473308889089</td>\n",
       "      <td>lopaz13</td>\n",
       "      <td>329752526</td>\n",
       "      <td>True</td>\n",
       "      <td>135</td>\n",
       "      <td>175</td>\n",
       "      <td>2</td>\n",
       "      <td>1782</td>\n",
       "      <td>2012-11-02 15:48:10</td>\n",
       "      <td>after</td>\n",
       "      <td>...</td>\n",
       "      <td>0</td>\n",
       "      <td>0</td>\n",
       "      <td>0</td>\n",
       "      <td>0</td>\n",
       "      <td>2012-11-02 15:48:10</td>\n",
       "      <td>66</td>\n",
       "      <td>set([264392968893526016, 264393473308889089, 2...</td>\n",
       "      <td>16</td>\n",
       "      <td>set([itsmeaRdo, lopaz13, tirsarifka])</td>\n",
       "      <td>264101449879928832</td>\n",
       "    </tr>\n",
       "    <tr>\n",
       "      <th>266123</th>\n",
       "      <td>264394096989310976</td>\n",
       "      <td>itsmeaRdo</td>\n",
       "      <td>56464727</td>\n",
       "      <td>True</td>\n",
       "      <td>160</td>\n",
       "      <td>218</td>\n",
       "      <td>167</td>\n",
       "      <td>3903</td>\n",
       "      <td>2012-11-02 15:50:39</td>\n",
       "      <td>after</td>\n",
       "      <td>...</td>\n",
       "      <td>0</td>\n",
       "      <td>0</td>\n",
       "      <td>0</td>\n",
       "      <td>0</td>\n",
       "      <td>2012-11-02 15:50:39</td>\n",
       "      <td>149</td>\n",
       "      <td>set([264394096989310976, 264393473308889089, 2...</td>\n",
       "      <td>17</td>\n",
       "      <td>set([itsmeaRdo, lopaz13, tirsarifka])</td>\n",
       "      <td>264101449879928832</td>\n",
       "    </tr>\n",
       "    <tr>\n",
       "      <th>266155</th>\n",
       "      <td>264394637882576896</td>\n",
       "      <td>lopaz13</td>\n",
       "      <td>329752526</td>\n",
       "      <td>True</td>\n",
       "      <td>135</td>\n",
       "      <td>175</td>\n",
       "      <td>2</td>\n",
       "      <td>1782</td>\n",
       "      <td>2012-11-02 15:52:48</td>\n",
       "      <td>after</td>\n",
       "      <td>...</td>\n",
       "      <td>0</td>\n",
       "      <td>0</td>\n",
       "      <td>0</td>\n",
       "      <td>0</td>\n",
       "      <td>2012-11-02 15:52:48</td>\n",
       "      <td>129</td>\n",
       "      <td>set([264394637882576896, 264394096989310976, 2...</td>\n",
       "      <td>18</td>\n",
       "      <td>set([itsmeaRdo, lopaz13, tirsarifka])</td>\n",
       "      <td>264101449879928832</td>\n",
       "    </tr>\n",
       "    <tr>\n",
       "      <th>266174</th>\n",
       "      <td>264395021200003072</td>\n",
       "      <td>itsmeaRdo</td>\n",
       "      <td>56464727</td>\n",
       "      <td>True</td>\n",
       "      <td>160</td>\n",
       "      <td>218</td>\n",
       "      <td>167</td>\n",
       "      <td>3903</td>\n",
       "      <td>2012-11-02 15:54:19</td>\n",
       "      <td>after</td>\n",
       "      <td>...</td>\n",
       "      <td>0</td>\n",
       "      <td>0</td>\n",
       "      <td>0</td>\n",
       "      <td>0</td>\n",
       "      <td>2012-11-02 15:54:19</td>\n",
       "      <td>91</td>\n",
       "      <td>set([264395021200003072, 264394637882576896, 2...</td>\n",
       "      <td>19</td>\n",
       "      <td>set([itsmeaRdo, lopaz13, tirsarifka])</td>\n",
       "      <td>264101449879928832</td>\n",
       "    </tr>\n",
       "    <tr>\n",
       "      <th>266215</th>\n",
       "      <td>264395795170750465</td>\n",
       "      <td>lopaz13</td>\n",
       "      <td>329752526</td>\n",
       "      <td>True</td>\n",
       "      <td>135</td>\n",
       "      <td>175</td>\n",
       "      <td>2</td>\n",
       "      <td>1782</td>\n",
       "      <td>2012-11-02 15:57:24</td>\n",
       "      <td>after</td>\n",
       "      <td>...</td>\n",
       "      <td>0</td>\n",
       "      <td>0</td>\n",
       "      <td>0</td>\n",
       "      <td>0</td>\n",
       "      <td>2012-11-02 15:57:24</td>\n",
       "      <td>185</td>\n",
       "      <td>set([264395021200003072, 264395795170750465, 2...</td>\n",
       "      <td>20</td>\n",
       "      <td>set([itsmeaRdo, lopaz13, tirsarifka])</td>\n",
       "      <td>264101449879928832</td>\n",
       "    </tr>\n",
       "    <tr>\n",
       "      <th>266227</th>\n",
       "      <td>264396047739146241</td>\n",
       "      <td>itsmeaRdo</td>\n",
       "      <td>56464727</td>\n",
       "      <td>True</td>\n",
       "      <td>160</td>\n",
       "      <td>218</td>\n",
       "      <td>167</td>\n",
       "      <td>3903</td>\n",
       "      <td>2012-11-02 15:58:24</td>\n",
       "      <td>after</td>\n",
       "      <td>...</td>\n",
       "      <td>0</td>\n",
       "      <td>0</td>\n",
       "      <td>0</td>\n",
       "      <td>0</td>\n",
       "      <td>2012-11-02 15:58:24</td>\n",
       "      <td>60</td>\n",
       "      <td>set([264395021200003072, 264396047739146241, 2...</td>\n",
       "      <td>21</td>\n",
       "      <td>set([itsmeaRdo, lopaz13, tirsarifka])</td>\n",
       "      <td>264101449879928832</td>\n",
       "    </tr>\n",
       "    <tr>\n",
       "      <th>266230</th>\n",
       "      <td>264396138067677184</td>\n",
       "      <td>lopaz13</td>\n",
       "      <td>329752526</td>\n",
       "      <td>True</td>\n",
       "      <td>135</td>\n",
       "      <td>175</td>\n",
       "      <td>2</td>\n",
       "      <td>1782</td>\n",
       "      <td>2012-11-02 15:58:46</td>\n",
       "      <td>after</td>\n",
       "      <td>...</td>\n",
       "      <td>0</td>\n",
       "      <td>0</td>\n",
       "      <td>0</td>\n",
       "      <td>0</td>\n",
       "      <td>2012-11-02 15:58:46</td>\n",
       "      <td>22</td>\n",
       "      <td>set([264396138067677184, 264396047739146241, 2...</td>\n",
       "      <td>22</td>\n",
       "      <td>set([itsmeaRdo, lopaz13, tirsarifka])</td>\n",
       "      <td>264101449879928832</td>\n",
       "    </tr>\n",
       "    <tr>\n",
       "      <th>268834</th>\n",
       "      <td>264442226480910336</td>\n",
       "      <td>lopaz13</td>\n",
       "      <td>329752526</td>\n",
       "      <td>True</td>\n",
       "      <td>135</td>\n",
       "      <td>175</td>\n",
       "      <td>2</td>\n",
       "      <td>1782</td>\n",
       "      <td>2012-11-02 19:01:54</td>\n",
       "      <td>after</td>\n",
       "      <td>...</td>\n",
       "      <td>0</td>\n",
       "      <td>0</td>\n",
       "      <td>0</td>\n",
       "      <td>0</td>\n",
       "      <td>2012-11-02 19:01:54</td>\n",
       "      <td>78309</td>\n",
       "      <td>set([264442226480910336, 264113775886622720, 2...</td>\n",
       "      <td>8</td>\n",
       "      <td>set([itsmeaRdo, lopaz13, tirsarifka])</td>\n",
       "      <td>264101449879928832</td>\n",
       "    </tr>\n",
       "    <tr>\n",
       "      <th>268862</th>\n",
       "      <td>264442560842461184</td>\n",
       "      <td>itsmeaRdo</td>\n",
       "      <td>56464727</td>\n",
       "      <td>True</td>\n",
       "      <td>160</td>\n",
       "      <td>218</td>\n",
       "      <td>167</td>\n",
       "      <td>3903</td>\n",
       "      <td>2012-11-02 19:03:14</td>\n",
       "      <td>after</td>\n",
       "      <td>...</td>\n",
       "      <td>0</td>\n",
       "      <td>0</td>\n",
       "      <td>0</td>\n",
       "      <td>0</td>\n",
       "      <td>2012-11-02 19:03:14</td>\n",
       "      <td>80</td>\n",
       "      <td>set([264442560842461184, 264442226480910336, 2...</td>\n",
       "      <td>9</td>\n",
       "      <td>set([itsmeaRdo, lopaz13, tirsarifka])</td>\n",
       "      <td>264101449879928832</td>\n",
       "    </tr>\n",
       "    <tr>\n",
       "      <th>268924</th>\n",
       "      <td>264443588514029568</td>\n",
       "      <td>lopaz13</td>\n",
       "      <td>329752526</td>\n",
       "      <td>True</td>\n",
       "      <td>135</td>\n",
       "      <td>175</td>\n",
       "      <td>2</td>\n",
       "      <td>1782</td>\n",
       "      <td>2012-11-02 19:07:19</td>\n",
       "      <td>after</td>\n",
       "      <td>...</td>\n",
       "      <td>0</td>\n",
       "      <td>0</td>\n",
       "      <td>0</td>\n",
       "      <td>0</td>\n",
       "      <td>2012-11-02 19:07:19</td>\n",
       "      <td>245</td>\n",
       "      <td>set([264443588514029568, 264442560842461184, 2...</td>\n",
       "      <td>10</td>\n",
       "      <td>set([itsmeaRdo, lopaz13, tirsarifka])</td>\n",
       "      <td>264101449879928832</td>\n",
       "    </tr>\n",
       "    <tr>\n",
       "      <th>287483</th>\n",
       "      <td>264862834066874368</td>\n",
       "      <td>lopaz13</td>\n",
       "      <td>329752526</td>\n",
       "      <td>True</td>\n",
       "      <td>135</td>\n",
       "      <td>175</td>\n",
       "      <td>2</td>\n",
       "      <td>1782</td>\n",
       "      <td>2012-11-03 22:53:15</td>\n",
       "      <td>after</td>\n",
       "      <td>...</td>\n",
       "      <td>0</td>\n",
       "      <td>0</td>\n",
       "      <td>0</td>\n",
       "      <td>0</td>\n",
       "      <td>2012-11-03 22:53:15</td>\n",
       "      <td>111291</td>\n",
       "      <td>set([264862834066874368, 264396047739146241, 2...</td>\n",
       "      <td>22</td>\n",
       "      <td>set([itsmeaRdo, lopaz13, tirsarifka])</td>\n",
       "      <td>264101449879928832</td>\n",
       "    </tr>\n",
       "    <tr>\n",
       "      <th>287500</th>\n",
       "      <td>264863130788704256</td>\n",
       "      <td>itsmeaRdo</td>\n",
       "      <td>56464727</td>\n",
       "      <td>True</td>\n",
       "      <td>160</td>\n",
       "      <td>218</td>\n",
       "      <td>167</td>\n",
       "      <td>3903</td>\n",
       "      <td>2012-11-03 22:54:25</td>\n",
       "      <td>after</td>\n",
       "      <td>...</td>\n",
       "      <td>0</td>\n",
       "      <td>0</td>\n",
       "      <td>0</td>\n",
       "      <td>0</td>\n",
       "      <td>2012-11-03 22:54:25</td>\n",
       "      <td>70</td>\n",
       "      <td>set([264863130788704256, 264862834066874368, 2...</td>\n",
       "      <td>23</td>\n",
       "      <td>set([itsmeaRdo, lopaz13, tirsarifka])</td>\n",
       "      <td>264101449879928832</td>\n",
       "    </tr>\n",
       "    <tr>\n",
       "      <th>287525</th>\n",
       "      <td>264863529079808000</td>\n",
       "      <td>lopaz13</td>\n",
       "      <td>329752526</td>\n",
       "      <td>True</td>\n",
       "      <td>135</td>\n",
       "      <td>175</td>\n",
       "      <td>2</td>\n",
       "      <td>1782</td>\n",
       "      <td>2012-11-03 22:56:00</td>\n",
       "      <td>after</td>\n",
       "      <td>...</td>\n",
       "      <td>0</td>\n",
       "      <td>0</td>\n",
       "      <td>0</td>\n",
       "      <td>0</td>\n",
       "      <td>2012-11-03 22:56:00</td>\n",
       "      <td>95</td>\n",
       "      <td>set([264863529079808000, 264863130788704256, 2...</td>\n",
       "      <td>24</td>\n",
       "      <td>set([itsmeaRdo, lopaz13, tirsarifka])</td>\n",
       "      <td>264101449879928832</td>\n",
       "    </tr>\n",
       "    <tr>\n",
       "      <th>287556</th>\n",
       "      <td>264863932127248384</td>\n",
       "      <td>itsmeaRdo</td>\n",
       "      <td>56464727</td>\n",
       "      <td>True</td>\n",
       "      <td>160</td>\n",
       "      <td>218</td>\n",
       "      <td>167</td>\n",
       "      <td>3903</td>\n",
       "      <td>2012-11-03 22:57:37</td>\n",
       "      <td>after</td>\n",
       "      <td>...</td>\n",
       "      <td>0</td>\n",
       "      <td>0</td>\n",
       "      <td>0</td>\n",
       "      <td>0</td>\n",
       "      <td>2012-11-03 22:57:37</td>\n",
       "      <td>97</td>\n",
       "      <td>set([264863932127248384, 264863529079808000, 2...</td>\n",
       "      <td>25</td>\n",
       "      <td>set([itsmeaRdo, lopaz13, tirsarifka])</td>\n",
       "      <td>264101449879928832</td>\n",
       "    </tr>\n",
       "    <tr>\n",
       "      <th>287870</th>\n",
       "      <td>264869131688501248</td>\n",
       "      <td>lopaz13</td>\n",
       "      <td>329752526</td>\n",
       "      <td>True</td>\n",
       "      <td>135</td>\n",
       "      <td>175</td>\n",
       "      <td>2</td>\n",
       "      <td>1782</td>\n",
       "      <td>2012-11-03 23:18:16</td>\n",
       "      <td>after</td>\n",
       "      <td>...</td>\n",
       "      <td>0</td>\n",
       "      <td>0</td>\n",
       "      <td>0</td>\n",
       "      <td>0</td>\n",
       "      <td>2012-11-03 23:18:16</td>\n",
       "      <td>1239</td>\n",
       "      <td>set([264869131688501248, 264863932127248384, 2...</td>\n",
       "      <td>26</td>\n",
       "      <td>set([itsmeaRdo, lopaz13, tirsarifka])</td>\n",
       "      <td>264101449879928832</td>\n",
       "    </tr>\n",
       "    <tr>\n",
       "      <th>287929</th>\n",
       "      <td>264870109552730113</td>\n",
       "      <td>itsmeaRdo</td>\n",
       "      <td>56464727</td>\n",
       "      <td>True</td>\n",
       "      <td>160</td>\n",
       "      <td>218</td>\n",
       "      <td>167</td>\n",
       "      <td>3903</td>\n",
       "      <td>2012-11-03 23:22:09</td>\n",
       "      <td>after</td>\n",
       "      <td>...</td>\n",
       "      <td>0</td>\n",
       "      <td>0</td>\n",
       "      <td>0</td>\n",
       "      <td>0</td>\n",
       "      <td>2012-11-03 23:22:09</td>\n",
       "      <td>233</td>\n",
       "      <td>set([264869131688501248, 264870109552730113, 2...</td>\n",
       "      <td>27</td>\n",
       "      <td>set([itsmeaRdo, lopaz13, tirsarifka])</td>\n",
       "      <td>264101449879928832</td>\n",
       "    </tr>\n",
       "  </tbody>\n",
       "</table>\n",
       "<p>30 rows × 201 columns</p>\n",
       "</div>"
      ],
      "text/plain": [
       "                        id   username    user_id geo_enabled  followCount  \\\n",
       "253917  264103404769517568  itsmeaRdo   56464727        True          160   \n",
       "253954  264104422165078017    lopaz13  329752526        True          135   \n",
       "254281  264110036358418432  itsmeaRdo   56464727        True          160   \n",
       "254313  264110793908420608    lopaz13  329752526        True          135   \n",
       "254456  264113775886622720  itsmeaRdo   56464727        True          160   \n",
       "262550  264248584067747840  itsmeaRdo   56464727        True          160   \n",
       "262557  264249298353524736    lopaz13  329752526        True          135   \n",
       "262566  264249636158595072  itsmeaRdo   56464727        True          160   \n",
       "262669  264255932849078272    lopaz13  329752526        True          135   \n",
       "262675  264256331131805697  itsmeaRdo   56464727        True          160   \n",
       "262725  264258993323642880    lopaz13  329752526        True          135   \n",
       "262829  264267800158285824  itsmeaRdo   56464727        True          160   \n",
       "266070  264392968893526016    lopaz13  329752526        True          135   \n",
       "266081  264393192869343233  itsmeaRdo   56464727        True          160   \n",
       "266104  264393473308889089    lopaz13  329752526        True          135   \n",
       "266123  264394096989310976  itsmeaRdo   56464727        True          160   \n",
       "266155  264394637882576896    lopaz13  329752526        True          135   \n",
       "266174  264395021200003072  itsmeaRdo   56464727        True          160   \n",
       "266215  264395795170750465    lopaz13  329752526        True          135   \n",
       "266227  264396047739146241  itsmeaRdo   56464727        True          160   \n",
       "266230  264396138067677184    lopaz13  329752526        True          135   \n",
       "268834  264442226480910336    lopaz13  329752526        True          135   \n",
       "268862  264442560842461184  itsmeaRdo   56464727        True          160   \n",
       "268924  264443588514029568    lopaz13  329752526        True          135   \n",
       "287483  264862834066874368    lopaz13  329752526        True          135   \n",
       "287500  264863130788704256  itsmeaRdo   56464727        True          160   \n",
       "287525  264863529079808000    lopaz13  329752526        True          135   \n",
       "287556  264863932127248384  itsmeaRdo   56464727        True          160   \n",
       "287870  264869131688501248    lopaz13  329752526        True          135   \n",
       "287929  264870109552730113  itsmeaRdo   56464727        True          160   \n",
       "\n",
       "        friendCount  faveCount  tweetCount                 date timing  \\\n",
       "253917          218        167        3903  2012-11-01 20:35:33  after   \n",
       "253954          175          2        1782  2012-11-01 20:39:35  after   \n",
       "254281          218        167        3903  2012-11-01 21:01:54  after   \n",
       "254313          175          2        1782  2012-11-01 21:04:54  after   \n",
       "254456          218        167        3903  2012-11-01 21:16:45  after   \n",
       "262550          218        167        3903  2012-11-02 06:12:26  after   \n",
       "262557          175          2        1782  2012-11-02 06:15:16  after   \n",
       "262566          218        167        3903  2012-11-02 06:16:37  after   \n",
       "262669          175          2        1782  2012-11-02 06:41:38  after   \n",
       "262675          218        167        3903  2012-11-02 06:43:13  after   \n",
       "262725          175          2        1782  2012-11-02 06:53:48  after   \n",
       "262829          218        167        3903  2012-11-02 07:28:48  after   \n",
       "266070          175          2        1782  2012-11-02 15:46:10  after   \n",
       "266081          218        167        3903  2012-11-02 15:47:04  after   \n",
       "266104          175          2        1782  2012-11-02 15:48:10  after   \n",
       "266123          218        167        3903  2012-11-02 15:50:39  after   \n",
       "266155          175          2        1782  2012-11-02 15:52:48  after   \n",
       "266174          218        167        3903  2012-11-02 15:54:19  after   \n",
       "266215          175          2        1782  2012-11-02 15:57:24  after   \n",
       "266227          218        167        3903  2012-11-02 15:58:24  after   \n",
       "266230          175          2        1782  2012-11-02 15:58:46  after   \n",
       "268834          175          2        1782  2012-11-02 19:01:54  after   \n",
       "268862          218        167        3903  2012-11-02 19:03:14  after   \n",
       "268924          175          2        1782  2012-11-02 19:07:19  after   \n",
       "287483          175          2        1782  2012-11-03 22:53:15  after   \n",
       "287500          218        167        3903  2012-11-03 22:54:25  after   \n",
       "287525          175          2        1782  2012-11-03 22:56:00  after   \n",
       "287556          218        167        3903  2012-11-03 22:57:37  after   \n",
       "287870          175          2        1782  2012-11-03 23:18:16  after   \n",
       "287929          218        167        3903  2012-11-03 23:22:09  after   \n",
       "\n",
       "               ...         reply43OrigTime reply43OrigText  \\\n",
       "253917         ...                       0               0   \n",
       "253954         ...                       0               0   \n",
       "254281         ...                       0               0   \n",
       "254313         ...                       0               0   \n",
       "254456         ...                       0               0   \n",
       "262550         ...                       0               0   \n",
       "262557         ...                       0               0   \n",
       "262566         ...                       0               0   \n",
       "262669         ...                       0               0   \n",
       "262675         ...                       0               0   \n",
       "262725         ...                       0               0   \n",
       "262829         ...                       0               0   \n",
       "266070         ...                       0               0   \n",
       "266081         ...                       0               0   \n",
       "266104         ...                       0               0   \n",
       "266123         ...                       0               0   \n",
       "266155         ...                       0               0   \n",
       "266174         ...                       0               0   \n",
       "266215         ...                       0               0   \n",
       "266227         ...                       0               0   \n",
       "266230         ...                       0               0   \n",
       "268834         ...                       0               0   \n",
       "268862         ...                       0               0   \n",
       "268924         ...                       0               0   \n",
       "287483         ...                       0               0   \n",
       "287500         ...                       0               0   \n",
       "287525         ...                       0               0   \n",
       "287556         ...                       0               0   \n",
       "287870         ...                       0               0   \n",
       "287929         ...                       0               0   \n",
       "\n",
       "       reply43OrigReplyWhat  reply43OrigReplyWho             dateObj  \\\n",
       "253917                    0                    0 2012-11-01 20:35:33   \n",
       "253954                    0                    0 2012-11-01 20:39:35   \n",
       "254281                    0                    0 2012-11-01 21:01:54   \n",
       "254313                    0                    0 2012-11-01 21:04:54   \n",
       "254456                    0                    0 2012-11-01 21:16:45   \n",
       "262550                    0                    0 2012-11-02 06:12:26   \n",
       "262557                    0                    0 2012-11-02 06:15:16   \n",
       "262566                    0                    0 2012-11-02 06:16:37   \n",
       "262669                    0                    0 2012-11-02 06:41:38   \n",
       "262675                    0                    0 2012-11-02 06:43:13   \n",
       "262725                    0                    0 2012-11-02 06:53:48   \n",
       "262829                    0                    0 2012-11-02 07:28:48   \n",
       "266070                    0                    0 2012-11-02 15:46:10   \n",
       "266081                    0                    0 2012-11-02 15:47:04   \n",
       "266104                    0                    0 2012-11-02 15:48:10   \n",
       "266123                    0                    0 2012-11-02 15:50:39   \n",
       "266155                    0                    0 2012-11-02 15:52:48   \n",
       "266174                    0                    0 2012-11-02 15:54:19   \n",
       "266215                    0                    0 2012-11-02 15:57:24   \n",
       "266227                    0                    0 2012-11-02 15:58:24   \n",
       "266230                    0                    0 2012-11-02 15:58:46   \n",
       "268834                    0                    0 2012-11-02 19:01:54   \n",
       "268862                    0                    0 2012-11-02 19:03:14   \n",
       "268924                    0                    0 2012-11-02 19:07:19   \n",
       "287483                    0                    0 2012-11-03 22:53:15   \n",
       "287500                    0                    0 2012-11-03 22:54:25   \n",
       "287525                    0                    0 2012-11-03 22:56:00   \n",
       "287556                    0                    0 2012-11-03 22:57:37   \n",
       "287870                    0                    0 2012-11-03 23:18:16   \n",
       "287929                    0                    0 2012-11-03 23:22:09   \n",
       "\n",
       "        repSecDiff                                             repSet  \\\n",
       "253917         386  set([264103404769517568, 264101788569960449, 2...   \n",
       "253954         242  set([264103404769517568, 264104422165078017, 2...   \n",
       "254281        1339  set([264110036358418432, 264104422165078017, 2...   \n",
       "254313         180  set([264110793908420608, 264110036358418432, 2...   \n",
       "254456         711  set([264113775886622720, 264110793908420608, 2...   \n",
       "262550       32852  set([264248584067747840, 264110793908420608, 2...   \n",
       "262557         170  set([264249298353524736, 264248584067747840, 2...   \n",
       "262566          81  set([264249636158595072, 264249298353524736, 2...   \n",
       "262669        1501  set([264255932849078272, 264249636158595072, 2...   \n",
       "262675          95  set([264255932849078272, 264256331131805697, 2...   \n",
       "262725         635  set([264258993323642880, 264256331131805697, 2...   \n",
       "262829        2100  set([264267800158285824, 264258993323642880, 2...   \n",
       "266070       29842  set([264392968893526016, 264267800158285824, 2...   \n",
       "266081          54  set([264392968893526016, 264393192869343233, 2...   \n",
       "266104          66  set([264392968893526016, 264393473308889089, 2...   \n",
       "266123         149  set([264394096989310976, 264393473308889089, 2...   \n",
       "266155         129  set([264394637882576896, 264394096989310976, 2...   \n",
       "266174          91  set([264395021200003072, 264394637882576896, 2...   \n",
       "266215         185  set([264395021200003072, 264395795170750465, 2...   \n",
       "266227          60  set([264395021200003072, 264396047739146241, 2...   \n",
       "266230          22  set([264396138067677184, 264396047739146241, 2...   \n",
       "268834       78309  set([264442226480910336, 264113775886622720, 2...   \n",
       "268862          80  set([264442560842461184, 264442226480910336, 2...   \n",
       "268924         245  set([264443588514029568, 264442560842461184, 2...   \n",
       "287483      111291  set([264862834066874368, 264396047739146241, 2...   \n",
       "287500          70  set([264863130788704256, 264862834066874368, 2...   \n",
       "287525          95  set([264863529079808000, 264863130788704256, 2...   \n",
       "287556          97  set([264863932127248384, 264863529079808000, 2...   \n",
       "287870        1239  set([264869131688501248, 264863932127248384, 2...   \n",
       "287929         233  set([264869131688501248, 264870109552730113, 2...   \n",
       "\n",
       "       lenRepSet                              convNames           convStart  \n",
       "253917         3  set([itsmeaRdo, lopaz13, tirsarifka])  264101449879928832  \n",
       "253954         4  set([itsmeaRdo, lopaz13, tirsarifka])  264101449879928832  \n",
       "254281         5  set([itsmeaRdo, lopaz13, tirsarifka])  264101449879928832  \n",
       "254313         6  set([itsmeaRdo, lopaz13, tirsarifka])  264101449879928832  \n",
       "254456         7  set([itsmeaRdo, lopaz13, tirsarifka])  264101449879928832  \n",
       "262550         7  set([itsmeaRdo, lopaz13, tirsarifka])  264101449879928832  \n",
       "262557         8  set([itsmeaRdo, lopaz13, tirsarifka])  264101449879928832  \n",
       "262566         9  set([itsmeaRdo, lopaz13, tirsarifka])  264101449879928832  \n",
       "262669        10  set([itsmeaRdo, lopaz13, tirsarifka])  264101449879928832  \n",
       "262675        11  set([itsmeaRdo, lopaz13, tirsarifka])  264101449879928832  \n",
       "262725        12  set([itsmeaRdo, lopaz13, tirsarifka])  264101449879928832  \n",
       "262829        13  set([itsmeaRdo, lopaz13, tirsarifka])  264101449879928832  \n",
       "266070        14  set([itsmeaRdo, lopaz13, tirsarifka])  264101449879928832  \n",
       "266081        15  set([itsmeaRdo, lopaz13, tirsarifka])  264101449879928832  \n",
       "266104        16  set([itsmeaRdo, lopaz13, tirsarifka])  264101449879928832  \n",
       "266123        17  set([itsmeaRdo, lopaz13, tirsarifka])  264101449879928832  \n",
       "266155        18  set([itsmeaRdo, lopaz13, tirsarifka])  264101449879928832  \n",
       "266174        19  set([itsmeaRdo, lopaz13, tirsarifka])  264101449879928832  \n",
       "266215        20  set([itsmeaRdo, lopaz13, tirsarifka])  264101449879928832  \n",
       "266227        21  set([itsmeaRdo, lopaz13, tirsarifka])  264101449879928832  \n",
       "266230        22  set([itsmeaRdo, lopaz13, tirsarifka])  264101449879928832  \n",
       "268834         8  set([itsmeaRdo, lopaz13, tirsarifka])  264101449879928832  \n",
       "268862         9  set([itsmeaRdo, lopaz13, tirsarifka])  264101449879928832  \n",
       "268924        10  set([itsmeaRdo, lopaz13, tirsarifka])  264101449879928832  \n",
       "287483        22  set([itsmeaRdo, lopaz13, tirsarifka])  264101449879928832  \n",
       "287500        23  set([itsmeaRdo, lopaz13, tirsarifka])  264101449879928832  \n",
       "287525        24  set([itsmeaRdo, lopaz13, tirsarifka])  264101449879928832  \n",
       "287556        25  set([itsmeaRdo, lopaz13, tirsarifka])  264101449879928832  \n",
       "287870        26  set([itsmeaRdo, lopaz13, tirsarifka])  264101449879928832  \n",
       "287929        27  set([itsmeaRdo, lopaz13, tirsarifka])  264101449879928832  \n",
       "\n",
       "[30 rows x 201 columns]"
      ]
     },
     "execution_count": 190,
     "metadata": {},
     "output_type": "execute_result"
    }
   ],
   "source": [
    "inBBreps[inBBreps.convStart==264101449879928832]"
   ]
  },
  {
   "cell_type": "markdown",
   "metadata": {},
   "source": [
    "**Important**\n",
    "\n",
    "The conversationstarting with tweet 264101449879928832 branched twice. So there are two partials of the length 7 and two partials of the length 22. \n",
    "\n",
    "What constitutes a conversation? The whole path or chunks?"
   ]
  },
  {
   "cell_type": "markdown",
   "metadata": {},
   "source": [
    "# Check how many conversations branch"
   ]
  },
  {
   "cell_type": "code",
   "execution_count": 244,
   "metadata": {
    "collapsed": true
   },
   "outputs": [],
   "source": [
    "grouped=inBBreps.groupby('convStart')"
   ]
  },
  {
   "cell_type": "code",
   "execution_count": 250,
   "metadata": {
    "collapsed": false
   },
   "outputs": [
    {
     "data": {
      "text/plain": [
       "6175"
      ]
     },
     "execution_count": 250,
     "metadata": {},
     "output_type": "execute_result"
    }
   ],
   "source": [
    "len(grouped)"
   ]
  },
  {
   "cell_type": "markdown",
   "metadata": {},
   "source": [
    "6175 unique original tweets - conversation starters; means most conversations (defined by initial tweet) are short"
   ]
  },
  {
   "cell_type": "code",
   "execution_count": 252,
   "metadata": {
    "collapsed": false
   },
   "outputs": [],
   "source": [
    "convLength=1+grouped.size()"
   ]
  },
  {
   "cell_type": "code",
   "execution_count": 260,
   "metadata": {
    "collapsed": false
   },
   "outputs": [
    {
     "data": {
      "text/plain": [
       "(array([  4.26500000e+03,   1.04300000e+03,   4.02000000e+02,\n",
       "          2.08000000e+02,   9.50000000e+01,   6.80000000e+01,\n",
       "          2.90000000e+01,   2.30000000e+01,   9.00000000e+00,\n",
       "          7.00000000e+00,   6.00000000e+00,   1.00000000e+00,\n",
       "          2.00000000e+00,   0.00000000e+00,   3.00000000e+00,\n",
       "          2.00000000e+00,   1.00000000e+00,   0.00000000e+00,\n",
       "          0.00000000e+00,   0.00000000e+00,   0.00000000e+00,\n",
       "          0.00000000e+00,   0.00000000e+00,   1.00000000e+00,\n",
       "          1.00000000e+00,   0.00000000e+00,   1.00000000e+00,\n",
       "          0.00000000e+00,   1.00000000e+00,   1.00000000e+00,\n",
       "          0.00000000e+00,   0.00000000e+00,   1.00000000e+00,\n",
       "          0.00000000e+00,   1.00000000e+00,   0.00000000e+00,\n",
       "          1.00000000e+00,   0.00000000e+00,   0.00000000e+00,\n",
       "          1.00000000e+00,   0.00000000e+00,   2.00000000e+00]),\n",
       " array([  2.,   3.,   4.,   5.,   6.,   7.,   8.,   9.,  10.,  11.,  12.,\n",
       "         13.,  14.,  15.,  16.,  17.,  18.,  19.,  20.,  21.,  22.,  23.,\n",
       "         24.,  25.,  26.,  27.,  28.,  29.,  30.,  31.,  32.,  33.,  34.,\n",
       "         35.,  36.,  37.,  38.,  39.,  40.,  41.,  42.,  43.,  44.]),\n",
       " <a list of 42 Patch objects>)"
      ]
     },
     "execution_count": 260,
     "metadata": {},
     "output_type": "execute_result"
    },
    {
     "data": {
      "image/png": "[encoded data removed]",
      "text/plain": [
       "<matplotlib.figure.Figure at 0x7f1ab7694fd0>"
      ]
     },
     "metadata": {},
     "output_type": "display_data"
    }
   ],
   "source": [
    "plt.hist(convLength.tolist(),42)"
   ]
  },
  {
   "cell_type": "markdown",
   "metadata": {},
   "source": [
    "So yes, most conversations (defined by initial tweet) are very short"
   ]
  },
  {
   "cell_type": "code",
   "execution_count": 262,
   "metadata": {
    "collapsed": false
   },
   "outputs": [
    {
     "data": {
      "text/plain": [
       "5"
      ]
     },
     "execution_count": 262,
     "metadata": {},
     "output_type": "execute_result"
    }
   ],
   "source": [
    "sum(inBBreps[inBBreps.convStart==264101449879928832].duplicated('lenRepSet'))"
   ]
  },
  {
   "cell_type": "code",
   "execution_count": 270,
   "metadata": {
    "collapsed": false
   },
   "outputs": [],
   "source": [
    "t=grouped.apply(lambda x: sum(x.duplicated('lenRepSet')))"
   ]
  },
  {
   "cell_type": "markdown",
   "metadata": {},
   "source": [
    "find groups (convStarters) where there are duplicates (>0)"
   ]
  },
  {
   "cell_type": "code",
   "execution_count": 276,
   "metadata": {
    "collapsed": false
   },
   "outputs": [
    {
     "data": {
      "text/plain": [
       "369"
      ]
     },
     "execution_count": 276,
     "metadata": {},
     "output_type": "execute_result"
    }
   ],
   "source": [
    "len(t[t>0])"
   ]
  },
  {
   "cell_type": "markdown",
   "metadata": {},
   "source": [
    "So out of 6175 potential conversations, 369 have branching\n",
    "\n",
    "So I can't just ignore these"
   ]
  },
  {
   "cell_type": "code",
   "execution_count": 280,
   "metadata": {
    "collapsed": false
   },
   "outputs": [
    {
     "data": {
      "text/plain": [
       "281"
      ]
     },
     "execution_count": 280,
     "metadata": {},
     "output_type": "execute_result"
    }
   ],
   "source": [
    "len(t[t==1])"
   ]
  },
  {
   "cell_type": "markdown",
   "metadata": {},
   "source": [
    "* 281 of those that have only one duplicate - definitely only 1 branch\n",
    "* For these, we should just definitely combine it into a single conversation?"
   ]
  },
  {
   "cell_type": "code",
   "execution_count": 288,
   "metadata": {
    "collapsed": false
   },
   "outputs": [],
   "source": [
    "t=t[t>0]"
   ]
  },
  {
   "cell_type": "code",
   "execution_count": 313,
   "metadata": {
    "collapsed": false,
    "scrolled": false
   },
   "outputs": [],
   "source": [
    "inBBreps['branchConvo']=0"
   ]
  },
  {
   "cell_type": "code",
   "execution_count": 319,
   "metadata": {
    "collapsed": false
   },
   "outputs": [],
   "source": [
    "inBBreps.branchConvo=inBBreps.convStart.apply(lambda x: 1 if x in t.index.values else 0)"
   ]
  },
  {
   "cell_type": "code",
   "execution_count": 444,
   "metadata": {
    "collapsed": true
   },
   "outputs": [],
   "source": [
    "inBBreps.to_csv('../data/bbAllConvosDFmore.csv',sep=';')"
   ]
  },
  {
   "cell_type": "markdown",
   "metadata": {},
   "source": [
    "How to handle conversational flow:\n",
    "* for conversations with no branches, just pick the longest with this particular original\n",
    "* for conversation with one branch: drop partials below the duplicate AND attach two branches (somehow)\n",
    "* look into the cases with more than two branches to figure out how to stitch them together\n",
    "* OR should I not?"
   ]
  },
  {
   "cell_type": "markdown",
   "metadata": {},
   "source": [
    "# Construct DF for non-branching conversations"
   ]
  },
  {
   "cell_type": "code",
   "execution_count": 341,
   "metadata": {
    "collapsed": false
   },
   "outputs": [],
   "source": [
    "def getLongest(group):\n",
    "    return group[group.lenRepSet==max(group.lenRepSet)]"
   ]
  },
  {
   "cell_type": "code",
   "execution_count": 348,
   "metadata": {
    "collapsed": false
   },
   "outputs": [],
   "source": [
    "g=(inBBreps[inBBreps.branchConvo==0]).groupby('convStart', as_index=False)"
   ]
  },
  {
   "cell_type": "code",
   "execution_count": 355,
   "metadata": {
    "collapsed": false
   },
   "outputs": [],
   "source": [
    "nonBranchConvos=g.apply(getLongest)"
   ]
  },
  {
   "cell_type": "code",
   "execution_count": 358,
   "metadata": {
    "collapsed": false
   },
   "outputs": [
    {
     "data": {
      "text/plain": [
       "5806"
      ]
     },
     "execution_count": 358,
     "metadata": {},
     "output_type": "execute_result"
    }
   ],
   "source": [
    "len(nonBranchConvos)"
   ]
  },
  {
   "cell_type": "code",
   "execution_count": 404,
   "metadata": {
    "collapsed": false
   },
   "outputs": [],
   "source": [
    "def getOrigTime(row):\n",
    "    i=43\n",
    "    colName='reply'+str(i)+'OrigTime'\n",
    "    while str(row[colName])=='0':\n",
    "        i-=1\n",
    "        colName='reply'+str(i)+'OrigTime'\n",
    "        if i==1: #if reply2OrigTime is 0 - only one step\n",
    "            colName='replyOrigTime'\n",
    "    return row[colName]"
   ]
  },
  {
   "cell_type": "code",
   "execution_count": 399,
   "metadata": {
    "collapsed": false,
    "scrolled": true
   },
   "outputs": [],
   "source": [
    "nonBranchConvos['convStartTime']=0"
   ]
  },
  {
   "cell_type": "code",
   "execution_count": 405,
   "metadata": {
    "collapsed": false
   },
   "outputs": [],
   "source": [
    "nonBranchConvos.convStartTime=nonBranchConvos.apply(getOrigTime, axis=1)"
   ]
  },
  {
   "cell_type": "code",
   "execution_count": 429,
   "metadata": {
    "collapsed": false,
    "scrolled": true
   },
   "outputs": [],
   "source": [
    "nonBranchConvos['convLength']=(nonBranchConvos.dateObj-pd.to_datetime(nonBranchConvos.convStartTime)).apply(lambda x: np.nan if pd.isnull(x) else x.item()/(10**9))"
   ]
  },
  {
   "cell_type": "code",
   "execution_count": 430,
   "metadata": {
    "collapsed": true
   },
   "outputs": [],
   "source": [
    "data=nonBranchConvos.convLength.dropna().tolist()"
   ]
  },
  {
   "cell_type": "code",
   "execution_count": 432,
   "metadata": {
    "collapsed": false
   },
   "outputs": [
    {
     "data": {
      "text/plain": [
       "<matplotlib.text.Text at 0x7f1a7e0b1550>"
      ]
     },
     "execution_count": 432,
     "metadata": {},
     "output_type": "execute_result"
    },
    {
     "data": {
      "image/png": "[encoded data removed]",
      "text/plain": [
       "<matplotlib.figure.Figure at 0x7f1a3699ac90>"
      ]
     },
     "metadata": {},
     "output_type": "display_data"
    }
   ],
   "source": [
    "bins=np.logspace(0, int(np.log(max(data))), 100)\n",
    "width=bins[1:]-bins[:-1]\n",
    "h, b=np.histogram(data,bins)\n",
    "h=h/float(sum(h))\n",
    "plt.bar(b[:-1], h, width, color='c')\n",
    "plt.gca().set_xscale(\"log\")\n",
    "plt.xlim(xmin=0,xmax=10**6.5)\n",
    "plt.ylim(ymin=0,ymax=0.08)\n",
    "plt.title('Non-branching Conversation Lengths (seconds)')"
   ]
  },
  {
   "cell_type": "code",
   "execution_count": 433,
   "metadata": {
    "collapsed": false
   },
   "outputs": [],
   "source": [
    "steps=nonBranchConvos.lenRepSet.dropna().tolist()"
   ]
  },
  {
   "cell_type": "code",
   "execution_count": 442,
   "metadata": {
    "collapsed": false
   },
   "outputs": [
    {
     "data": {
      "text/plain": [
       "<matplotlib.legend.Legend at 0x7f1a7ae3f650>"
      ]
     },
     "execution_count": 442,
     "metadata": {},
     "output_type": "execute_result"
    },
    {
     "data": {
      "image/png": "[encoded data removed]",
      "text/plain": [
       "<matplotlib.figure.Figure at 0x7f1a7d9681d0>"
      ]
     },
     "metadata": {},
     "output_type": "display_data"
    }
   ],
   "source": [
    "freq=c.Counter(steps)\n",
    "y=freq.values()\n",
    "x=freq.keys()\n",
    "logx=np.log(x)\n",
    "logy=np.log(y)\n",
    "coeffs=np.polyfit(logx,logy,deg=1)\n",
    "poly=np.poly1d(coeffs)\n",
    "a=np.exp(coeffs[1])\n",
    "b=coeffs[0]\n",
    "eq='y='+str(round(a,2))+'*x^('+str(round(b,2))+')'\n",
    "\n",
    "plt.figure()\n",
    "plt.loglog(x,y,'co') \n",
    "plt.xlabel('Number of tweets in the conversation')\n",
    "plt.ylabel('Frequency')\n",
    "plt.title('Loglog plot of conversation lengths')\n",
    "plt.xlim(xmin=-0,xmax=45)\n",
    "plt.ylim(ymin=0,ymax=10**3.7)\n",
    "yfit = lambda x: np.exp(poly(np.log(x)))\n",
    "plt.loglog(x,yfit(x),linewidth=2,c='r',label=eq)\n",
    "plt.legend(loc=\"upper right\")"
   ]
  },
  {
   "cell_type": "markdown",
   "metadata": {
    "collapsed": true
   },
   "source": [
    "# Construct branching convesations"
   ]
  },
  {
   "cell_type": "code",
   "execution_count": 447,
   "metadata": {
    "collapsed": false
   },
   "outputs": [],
   "source": [
    "branch=inBBreps[inBBreps.branchConvo>0]"
   ]
  },
  {
   "cell_type": "code",
   "execution_count": 449,
   "metadata": {
    "collapsed": false
   },
   "outputs": [
    {
     "data": {
      "text/html": [
       "<div>\n",
       "<table border=\"1\" class=\"dataframe\">\n",
       "  <thead>\n",
       "    <tr style=\"text-align: right;\">\n",
       "      <th></th>\n",
       "      <th>id</th>\n",
       "      <th>username</th>\n",
       "      <th>user_id</th>\n",
       "      <th>geo_enabled</th>\n",
       "      <th>followCount</th>\n",
       "      <th>friendCount</th>\n",
       "      <th>faveCount</th>\n",
       "      <th>tweetCount</th>\n",
       "      <th>date</th>\n",
       "      <th>timing</th>\n",
       "      <th>...</th>\n",
       "      <th>reply43OrigText</th>\n",
       "      <th>reply43OrigReplyWhat</th>\n",
       "      <th>reply43OrigReplyWho</th>\n",
       "      <th>dateObj</th>\n",
       "      <th>repSecDiff</th>\n",
       "      <th>repSet</th>\n",
       "      <th>lenRepSet</th>\n",
       "      <th>convNames</th>\n",
       "      <th>convStart</th>\n",
       "      <th>branchConvo</th>\n",
       "    </tr>\n",
       "  </thead>\n",
       "  <tbody>\n",
       "    <tr>\n",
       "      <th>3493</th>\n",
       "      <td>257086128446906368</td>\n",
       "      <td>terrymarley</td>\n",
       "      <td>24914924</td>\n",
       "      <td>True</td>\n",
       "      <td>584</td>\n",
       "      <td>676</td>\n",
       "      <td>36</td>\n",
       "      <td>5289</td>\n",
       "      <td>2012-10-13 11:51:24</td>\n",
       "      <td>before</td>\n",
       "      <td>...</td>\n",
       "      <td>0</td>\n",
       "      <td>0</td>\n",
       "      <td>0</td>\n",
       "      <td>2012-10-13 11:51:24</td>\n",
       "      <td>654</td>\n",
       "      <td>set([257086128446906368, 257083385405661184])</td>\n",
       "      <td>2</td>\n",
       "      <td>set([DalilaRobin, terrymarley])</td>\n",
       "      <td>257083385405661184</td>\n",
       "      <td>1</td>\n",
       "    </tr>\n",
       "    <tr>\n",
       "      <th>3501</th>\n",
       "      <td>257086614071816192</td>\n",
       "      <td>terrymarley</td>\n",
       "      <td>24914924</td>\n",
       "      <td>True</td>\n",
       "      <td>584</td>\n",
       "      <td>676</td>\n",
       "      <td>36</td>\n",
       "      <td>5289</td>\n",
       "      <td>2012-10-13 11:53:19</td>\n",
       "      <td>before</td>\n",
       "      <td>...</td>\n",
       "      <td>0</td>\n",
       "      <td>0</td>\n",
       "      <td>0</td>\n",
       "      <td>2012-10-13 11:53:19</td>\n",
       "      <td>769</td>\n",
       "      <td>set([257086614071816192, 257083385405661184])</td>\n",
       "      <td>2</td>\n",
       "      <td>set([DalilaRobin, terrymarley])</td>\n",
       "      <td>257083385405661184</td>\n",
       "      <td>1</td>\n",
       "    </tr>\n",
       "    <tr>\n",
       "      <th>9760</th>\n",
       "      <td>257310275651383296</td>\n",
       "      <td>SGottiR</td>\n",
       "      <td>187969481</td>\n",
       "      <td>True</td>\n",
       "      <td>131</td>\n",
       "      <td>249</td>\n",
       "      <td>519</td>\n",
       "      <td>8408</td>\n",
       "      <td>2012-10-14 02:42:04</td>\n",
       "      <td>before</td>\n",
       "      <td>...</td>\n",
       "      <td>0</td>\n",
       "      <td>0</td>\n",
       "      <td>0</td>\n",
       "      <td>2012-10-14 02:42:04</td>\n",
       "      <td>93</td>\n",
       "      <td>set([257310275651383296, 257309882582192128])</td>\n",
       "      <td>2</td>\n",
       "      <td>set([alexrodriguezNY, SGottiR])</td>\n",
       "      <td>257309882582192128</td>\n",
       "      <td>1</td>\n",
       "    </tr>\n",
       "    <tr>\n",
       "      <th>9762</th>\n",
       "      <td>257310426839257090</td>\n",
       "      <td>SGottiR</td>\n",
       "      <td>187969481</td>\n",
       "      <td>True</td>\n",
       "      <td>131</td>\n",
       "      <td>249</td>\n",
       "      <td>519</td>\n",
       "      <td>8408</td>\n",
       "      <td>2012-10-14 02:42:41</td>\n",
       "      <td>before</td>\n",
       "      <td>...</td>\n",
       "      <td>0</td>\n",
       "      <td>0</td>\n",
       "      <td>0</td>\n",
       "      <td>2012-10-14 02:42:41</td>\n",
       "      <td>130</td>\n",
       "      <td>set([257309882582192128, 257310426839257090])</td>\n",
       "      <td>2</td>\n",
       "      <td>set([alexrodriguezNY, SGottiR])</td>\n",
       "      <td>257309882582192128</td>\n",
       "      <td>1</td>\n",
       "    </tr>\n",
       "    <tr>\n",
       "      <th>10247</th>\n",
       "      <td>257325017489104896</td>\n",
       "      <td>mlbrisson</td>\n",
       "      <td>334286835</td>\n",
       "      <td>True</td>\n",
       "      <td>240</td>\n",
       "      <td>438</td>\n",
       "      <td>711</td>\n",
       "      <td>839</td>\n",
       "      <td>2012-10-14 03:40:39</td>\n",
       "      <td>before</td>\n",
       "      <td>...</td>\n",
       "      <td>0</td>\n",
       "      <td>0</td>\n",
       "      <td>0</td>\n",
       "      <td>2012-10-14 03:40:39</td>\n",
       "      <td>3441</td>\n",
       "      <td>set([257325017489104896, 257310585488809984])</td>\n",
       "      <td>2</td>\n",
       "      <td>set([adamebnit, mlbrisson])</td>\n",
       "      <td>257310585488809984</td>\n",
       "      <td>1</td>\n",
       "    </tr>\n",
       "  </tbody>\n",
       "</table>\n",
       "<p>5 rows × 202 columns</p>\n",
       "</div>"
      ],
      "text/plain": [
       "                       id     username    user_id geo_enabled  followCount  \\\n",
       "3493   257086128446906368  terrymarley   24914924        True          584   \n",
       "3501   257086614071816192  terrymarley   24914924        True          584   \n",
       "9760   257310275651383296      SGottiR  187969481        True          131   \n",
       "9762   257310426839257090      SGottiR  187969481        True          131   \n",
       "10247  257325017489104896    mlbrisson  334286835        True          240   \n",
       "\n",
       "       friendCount  faveCount  tweetCount                 date  timing  \\\n",
       "3493           676         36        5289  2012-10-13 11:51:24  before   \n",
       "3501           676         36        5289  2012-10-13 11:53:19  before   \n",
       "9760           249        519        8408  2012-10-14 02:42:04  before   \n",
       "9762           249        519        8408  2012-10-14 02:42:41  before   \n",
       "10247          438        711         839  2012-10-14 03:40:39  before   \n",
       "\n",
       "          ...     reply43OrigText reply43OrigReplyWhat reply43OrigReplyWho  \\\n",
       "3493      ...                   0                    0                   0   \n",
       "3501      ...                   0                    0                   0   \n",
       "9760      ...                   0                    0                   0   \n",
       "9762      ...                   0                    0                   0   \n",
       "10247     ...                   0                    0                   0   \n",
       "\n",
       "                  dateObj repSecDiff  \\\n",
       "3493  2012-10-13 11:51:24        654   \n",
       "3501  2012-10-13 11:53:19        769   \n",
       "9760  2012-10-14 02:42:04         93   \n",
       "9762  2012-10-14 02:42:41        130   \n",
       "10247 2012-10-14 03:40:39       3441   \n",
       "\n",
       "                                              repSet lenRepSet  \\\n",
       "3493   set([257086128446906368, 257083385405661184])         2   \n",
       "3501   set([257086614071816192, 257083385405661184])         2   \n",
       "9760   set([257310275651383296, 257309882582192128])         2   \n",
       "9762   set([257309882582192128, 257310426839257090])         2   \n",
       "10247  set([257325017489104896, 257310585488809984])         2   \n",
       "\n",
       "                             convNames           convStart branchConvo  \n",
       "3493   set([DalilaRobin, terrymarley])  257083385405661184           1  \n",
       "3501   set([DalilaRobin, terrymarley])  257083385405661184           1  \n",
       "9760   set([alexrodriguezNY, SGottiR])  257309882582192128           1  \n",
       "9762   set([alexrodriguezNY, SGottiR])  257309882582192128           1  \n",
       "10247      set([adamebnit, mlbrisson])  257310585488809984           1  \n",
       "\n",
       "[5 rows x 202 columns]"
      ]
     },
     "execution_count": 449,
     "metadata": {},
     "output_type": "execute_result"
    }
   ],
   "source": [
    "branch.head()"
   ]
  },
  {
   "cell_type": "code",
   "execution_count": 452,
   "metadata": {
    "collapsed": false
   },
   "outputs": [],
   "source": [
    "grouped=branch.groupby('convStart', as_index=False)"
   ]
  },
  {
   "cell_type": "code",
   "execution_count": 453,
   "metadata": {
    "collapsed": false
   },
   "outputs": [
    {
     "data": {
      "text/plain": [
       "369"
      ]
     },
     "execution_count": 453,
     "metadata": {},
     "output_type": "execute_result"
    }
   ],
   "source": [
    "len(grouped)"
   ]
  },
  {
   "cell_type": "code",
   "execution_count": 457,
   "metadata": {
    "collapsed": false
   },
   "outputs": [],
   "source": [
    "b=branch.convStart[branch.lenRepSet==max(branch.lenRepSet)]"
   ]
  },
  {
   "cell_type": "code",
   "execution_count": 463,
   "metadata": {
    "collapsed": false
   },
   "outputs": [
    {
     "data": {
      "text/html": [
       "<div>\n",
       "<table border=\"1\" class=\"dataframe\">\n",
       "  <thead>\n",
       "    <tr style=\"text-align: right;\">\n",
       "      <th></th>\n",
       "      <th>id</th>\n",
       "      <th>username</th>\n",
       "      <th>user_id</th>\n",
       "      <th>geo_enabled</th>\n",
       "      <th>followCount</th>\n",
       "      <th>friendCount</th>\n",
       "      <th>faveCount</th>\n",
       "      <th>tweetCount</th>\n",
       "      <th>date</th>\n",
       "      <th>timing</th>\n",
       "      <th>...</th>\n",
       "      <th>reply43OrigText</th>\n",
       "      <th>reply43OrigReplyWhat</th>\n",
       "      <th>reply43OrigReplyWho</th>\n",
       "      <th>dateObj</th>\n",
       "      <th>repSecDiff</th>\n",
       "      <th>repSet</th>\n",
       "      <th>lenRepSet</th>\n",
       "      <th>convNames</th>\n",
       "      <th>convStart</th>\n",
       "      <th>branchConvo</th>\n",
       "    </tr>\n",
       "  </thead>\n",
       "  <tbody>\n",
       "    <tr>\n",
       "      <th>253917</th>\n",
       "      <td>264103404769517568</td>\n",
       "      <td>itsmeaRdo</td>\n",
       "      <td>56464727</td>\n",
       "      <td>True</td>\n",
       "      <td>160</td>\n",
       "      <td>218</td>\n",
       "      <td>167</td>\n",
       "      <td>3903</td>\n",
       "      <td>2012-11-01 20:35:33</td>\n",
       "      <td>after</td>\n",
       "      <td>...</td>\n",
       "      <td>0</td>\n",
       "      <td>0</td>\n",
       "      <td>0</td>\n",
       "      <td>2012-11-01 20:35:33</td>\n",
       "      <td>386</td>\n",
       "      <td>set([264103404769517568, 264101788569960449, 2...</td>\n",
       "      <td>3</td>\n",
       "      <td>set([itsmeaRdo, lopaz13, tirsarifka])</td>\n",
       "      <td>264101449879928832</td>\n",
       "      <td>1</td>\n",
       "    </tr>\n",
       "    <tr>\n",
       "      <th>253954</th>\n",
       "      <td>264104422165078017</td>\n",
       "      <td>lopaz13</td>\n",
       "      <td>329752526</td>\n",
       "      <td>True</td>\n",
       "      <td>135</td>\n",
       "      <td>175</td>\n",
       "      <td>2</td>\n",
       "      <td>1782</td>\n",
       "      <td>2012-11-01 20:39:35</td>\n",
       "      <td>after</td>\n",
       "      <td>...</td>\n",
       "      <td>0</td>\n",
       "      <td>0</td>\n",
       "      <td>0</td>\n",
       "      <td>2012-11-01 20:39:35</td>\n",
       "      <td>242</td>\n",
       "      <td>set([264103404769517568, 264104422165078017, 2...</td>\n",
       "      <td>4</td>\n",
       "      <td>set([itsmeaRdo, lopaz13, tirsarifka])</td>\n",
       "      <td>264101449879928832</td>\n",
       "      <td>1</td>\n",
       "    </tr>\n",
       "    <tr>\n",
       "      <th>254281</th>\n",
       "      <td>264110036358418432</td>\n",
       "      <td>itsmeaRdo</td>\n",
       "      <td>56464727</td>\n",
       "      <td>True</td>\n",
       "      <td>160</td>\n",
       "      <td>218</td>\n",
       "      <td>167</td>\n",
       "      <td>3903</td>\n",
       "      <td>2012-11-01 21:01:54</td>\n",
       "      <td>after</td>\n",
       "      <td>...</td>\n",
       "      <td>0</td>\n",
       "      <td>0</td>\n",
       "      <td>0</td>\n",
       "      <td>2012-11-01 21:01:54</td>\n",
       "      <td>1339</td>\n",
       "      <td>set([264110036358418432, 264104422165078017, 2...</td>\n",
       "      <td>5</td>\n",
       "      <td>set([itsmeaRdo, lopaz13, tirsarifka])</td>\n",
       "      <td>264101449879928832</td>\n",
       "      <td>1</td>\n",
       "    </tr>\n",
       "    <tr>\n",
       "      <th>254313</th>\n",
       "      <td>264110793908420608</td>\n",
       "      <td>lopaz13</td>\n",
       "      <td>329752526</td>\n",
       "      <td>True</td>\n",
       "      <td>135</td>\n",
       "      <td>175</td>\n",
       "      <td>2</td>\n",
       "      <td>1782</td>\n",
       "      <td>2012-11-01 21:04:54</td>\n",
       "      <td>after</td>\n",
       "      <td>...</td>\n",
       "      <td>0</td>\n",
       "      <td>0</td>\n",
       "      <td>0</td>\n",
       "      <td>2012-11-01 21:04:54</td>\n",
       "      <td>180</td>\n",
       "      <td>set([264110793908420608, 264110036358418432, 2...</td>\n",
       "      <td>6</td>\n",
       "      <td>set([itsmeaRdo, lopaz13, tirsarifka])</td>\n",
       "      <td>264101449879928832</td>\n",
       "      <td>1</td>\n",
       "    </tr>\n",
       "    <tr>\n",
       "      <th>254456</th>\n",
       "      <td>264113775886622720</td>\n",
       "      <td>itsmeaRdo</td>\n",
       "      <td>56464727</td>\n",
       "      <td>True</td>\n",
       "      <td>160</td>\n",
       "      <td>218</td>\n",
       "      <td>167</td>\n",
       "      <td>3903</td>\n",
       "      <td>2012-11-01 21:16:45</td>\n",
       "      <td>after</td>\n",
       "      <td>...</td>\n",
       "      <td>0</td>\n",
       "      <td>0</td>\n",
       "      <td>0</td>\n",
       "      <td>2012-11-01 21:16:45</td>\n",
       "      <td>711</td>\n",
       "      <td>set([264113775886622720, 264110793908420608, 2...</td>\n",
       "      <td>7</td>\n",
       "      <td>set([itsmeaRdo, lopaz13, tirsarifka])</td>\n",
       "      <td>264101449879928832</td>\n",
       "      <td>1</td>\n",
       "    </tr>\n",
       "    <tr>\n",
       "      <th>262550</th>\n",
       "      <td>264248584067747840</td>\n",
       "      <td>itsmeaRdo</td>\n",
       "      <td>56464727</td>\n",
       "      <td>True</td>\n",
       "      <td>160</td>\n",
       "      <td>218</td>\n",
       "      <td>167</td>\n",
       "      <td>3903</td>\n",
       "      <td>2012-11-02 06:12:26</td>\n",
       "      <td>after</td>\n",
       "      <td>...</td>\n",
       "      <td>0</td>\n",
       "      <td>0</td>\n",
       "      <td>0</td>\n",
       "      <td>2012-11-02 06:12:26</td>\n",
       "      <td>32852</td>\n",
       "      <td>set([264248584067747840, 264110793908420608, 2...</td>\n",
       "      <td>7</td>\n",
       "      <td>set([itsmeaRdo, lopaz13, tirsarifka])</td>\n",
       "      <td>264101449879928832</td>\n",
       "      <td>1</td>\n",
       "    </tr>\n",
       "    <tr>\n",
       "      <th>262557</th>\n",
       "      <td>264249298353524736</td>\n",
       "      <td>lopaz13</td>\n",
       "      <td>329752526</td>\n",
       "      <td>True</td>\n",
       "      <td>135</td>\n",
       "      <td>175</td>\n",
       "      <td>2</td>\n",
       "      <td>1782</td>\n",
       "      <td>2012-11-02 06:15:16</td>\n",
       "      <td>after</td>\n",
       "      <td>...</td>\n",
       "      <td>0</td>\n",
       "      <td>0</td>\n",
       "      <td>0</td>\n",
       "      <td>2012-11-02 06:15:16</td>\n",
       "      <td>170</td>\n",
       "      <td>set([264249298353524736, 264248584067747840, 2...</td>\n",
       "      <td>8</td>\n",
       "      <td>set([itsmeaRdo, lopaz13, tirsarifka])</td>\n",
       "      <td>264101449879928832</td>\n",
       "      <td>1</td>\n",
       "    </tr>\n",
       "    <tr>\n",
       "      <th>262566</th>\n",
       "      <td>264249636158595072</td>\n",
       "      <td>itsmeaRdo</td>\n",
       "      <td>56464727</td>\n",
       "      <td>True</td>\n",
       "      <td>160</td>\n",
       "      <td>218</td>\n",
       "      <td>167</td>\n",
       "      <td>3903</td>\n",
       "      <td>2012-11-02 06:16:37</td>\n",
       "      <td>after</td>\n",
       "      <td>...</td>\n",
       "      <td>0</td>\n",
       "      <td>0</td>\n",
       "      <td>0</td>\n",
       "      <td>2012-11-02 06:16:37</td>\n",
       "      <td>81</td>\n",
       "      <td>set([264249636158595072, 264249298353524736, 2...</td>\n",
       "      <td>9</td>\n",
       "      <td>set([itsmeaRdo, lopaz13, tirsarifka])</td>\n",
       "      <td>264101449879928832</td>\n",
       "      <td>1</td>\n",
       "    </tr>\n",
       "    <tr>\n",
       "      <th>262669</th>\n",
       "      <td>264255932849078272</td>\n",
       "      <td>lopaz13</td>\n",
       "      <td>329752526</td>\n",
       "      <td>True</td>\n",
       "      <td>135</td>\n",
       "      <td>175</td>\n",
       "      <td>2</td>\n",
       "      <td>1782</td>\n",
       "      <td>2012-11-02 06:41:38</td>\n",
       "      <td>after</td>\n",
       "      <td>...</td>\n",
       "      <td>0</td>\n",
       "      <td>0</td>\n",
       "      <td>0</td>\n",
       "      <td>2012-11-02 06:41:38</td>\n",
       "      <td>1501</td>\n",
       "      <td>set([264255932849078272, 264249636158595072, 2...</td>\n",
       "      <td>10</td>\n",
       "      <td>set([itsmeaRdo, lopaz13, tirsarifka])</td>\n",
       "      <td>264101449879928832</td>\n",
       "      <td>1</td>\n",
       "    </tr>\n",
       "    <tr>\n",
       "      <th>262675</th>\n",
       "      <td>264256331131805697</td>\n",
       "      <td>itsmeaRdo</td>\n",
       "      <td>56464727</td>\n",
       "      <td>True</td>\n",
       "      <td>160</td>\n",
       "      <td>218</td>\n",
       "      <td>167</td>\n",
       "      <td>3903</td>\n",
       "      <td>2012-11-02 06:43:13</td>\n",
       "      <td>after</td>\n",
       "      <td>...</td>\n",
       "      <td>0</td>\n",
       "      <td>0</td>\n",
       "      <td>0</td>\n",
       "      <td>2012-11-02 06:43:13</td>\n",
       "      <td>95</td>\n",
       "      <td>set([264255932849078272, 264256331131805697, 2...</td>\n",
       "      <td>11</td>\n",
       "      <td>set([itsmeaRdo, lopaz13, tirsarifka])</td>\n",
       "      <td>264101449879928832</td>\n",
       "      <td>1</td>\n",
       "    </tr>\n",
       "    <tr>\n",
       "      <th>262725</th>\n",
       "      <td>264258993323642880</td>\n",
       "      <td>lopaz13</td>\n",
       "      <td>329752526</td>\n",
       "      <td>True</td>\n",
       "      <td>135</td>\n",
       "      <td>175</td>\n",
       "      <td>2</td>\n",
       "      <td>1782</td>\n",
       "      <td>2012-11-02 06:53:48</td>\n",
       "      <td>after</td>\n",
       "      <td>...</td>\n",
       "      <td>0</td>\n",
       "      <td>0</td>\n",
       "      <td>0</td>\n",
       "      <td>2012-11-02 06:53:48</td>\n",
       "      <td>635</td>\n",
       "      <td>set([264258993323642880, 264256331131805697, 2...</td>\n",
       "      <td>12</td>\n",
       "      <td>set([itsmeaRdo, lopaz13, tirsarifka])</td>\n",
       "      <td>264101449879928832</td>\n",
       "      <td>1</td>\n",
       "    </tr>\n",
       "    <tr>\n",
       "      <th>262829</th>\n",
       "      <td>264267800158285824</td>\n",
       "      <td>itsmeaRdo</td>\n",
       "      <td>56464727</td>\n",
       "      <td>True</td>\n",
       "      <td>160</td>\n",
       "      <td>218</td>\n",
       "      <td>167</td>\n",
       "      <td>3903</td>\n",
       "      <td>2012-11-02 07:28:48</td>\n",
       "      <td>after</td>\n",
       "      <td>...</td>\n",
       "      <td>0</td>\n",
       "      <td>0</td>\n",
       "      <td>0</td>\n",
       "      <td>2012-11-02 07:28:48</td>\n",
       "      <td>2100</td>\n",
       "      <td>set([264267800158285824, 264258993323642880, 2...</td>\n",
       "      <td>13</td>\n",
       "      <td>set([itsmeaRdo, lopaz13, tirsarifka])</td>\n",
       "      <td>264101449879928832</td>\n",
       "      <td>1</td>\n",
       "    </tr>\n",
       "    <tr>\n",
       "      <th>266070</th>\n",
       "      <td>264392968893526016</td>\n",
       "      <td>lopaz13</td>\n",
       "      <td>329752526</td>\n",
       "      <td>True</td>\n",
       "      <td>135</td>\n",
       "      <td>175</td>\n",
       "      <td>2</td>\n",
       "      <td>1782</td>\n",
       "      <td>2012-11-02 15:46:10</td>\n",
       "      <td>after</td>\n",
       "      <td>...</td>\n",
       "      <td>0</td>\n",
       "      <td>0</td>\n",
       "      <td>0</td>\n",
       "      <td>2012-11-02 15:46:10</td>\n",
       "      <td>29842</td>\n",
       "      <td>set([264392968893526016, 264267800158285824, 2...</td>\n",
       "      <td>14</td>\n",
       "      <td>set([itsmeaRdo, lopaz13, tirsarifka])</td>\n",
       "      <td>264101449879928832</td>\n",
       "      <td>1</td>\n",
       "    </tr>\n",
       "    <tr>\n",
       "      <th>266081</th>\n",
       "      <td>264393192869343233</td>\n",
       "      <td>itsmeaRdo</td>\n",
       "      <td>56464727</td>\n",
       "      <td>True</td>\n",
       "      <td>160</td>\n",
       "      <td>218</td>\n",
       "      <td>167</td>\n",
       "      <td>3903</td>\n",
       "      <td>2012-11-02 15:47:04</td>\n",
       "      <td>after</td>\n",
       "      <td>...</td>\n",
       "      <td>0</td>\n",
       "      <td>0</td>\n",
       "      <td>0</td>\n",
       "      <td>2012-11-02 15:47:04</td>\n",
       "      <td>54</td>\n",
       "      <td>set([264392968893526016, 264393192869343233, 2...</td>\n",
       "      <td>15</td>\n",
       "      <td>set([itsmeaRdo, lopaz13, tirsarifka])</td>\n",
       "      <td>264101449879928832</td>\n",
       "      <td>1</td>\n",
       "    </tr>\n",
       "    <tr>\n",
       "      <th>266104</th>\n",
       "      <td>264393473308889089</td>\n",
       "      <td>lopaz13</td>\n",
       "      <td>329752526</td>\n",
       "      <td>True</td>\n",
       "      <td>135</td>\n",
       "      <td>175</td>\n",
       "      <td>2</td>\n",
       "      <td>1782</td>\n",
       "      <td>2012-11-02 15:48:10</td>\n",
       "      <td>after</td>\n",
       "      <td>...</td>\n",
       "      <td>0</td>\n",
       "      <td>0</td>\n",
       "      <td>0</td>\n",
       "      <td>2012-11-02 15:48:10</td>\n",
       "      <td>66</td>\n",
       "      <td>set([264392968893526016, 264393473308889089, 2...</td>\n",
       "      <td>16</td>\n",
       "      <td>set([itsmeaRdo, lopaz13, tirsarifka])</td>\n",
       "      <td>264101449879928832</td>\n",
       "      <td>1</td>\n",
       "    </tr>\n",
       "    <tr>\n",
       "      <th>266123</th>\n",
       "      <td>264394096989310976</td>\n",
       "      <td>itsmeaRdo</td>\n",
       "      <td>56464727</td>\n",
       "      <td>True</td>\n",
       "      <td>160</td>\n",
       "      <td>218</td>\n",
       "      <td>167</td>\n",
       "      <td>3903</td>\n",
       "      <td>2012-11-02 15:50:39</td>\n",
       "      <td>after</td>\n",
       "      <td>...</td>\n",
       "      <td>0</td>\n",
       "      <td>0</td>\n",
       "      <td>0</td>\n",
       "      <td>2012-11-02 15:50:39</td>\n",
       "      <td>149</td>\n",
       "      <td>set([264394096989310976, 264393473308889089, 2...</td>\n",
       "      <td>17</td>\n",
       "      <td>set([itsmeaRdo, lopaz13, tirsarifka])</td>\n",
       "      <td>264101449879928832</td>\n",
       "      <td>1</td>\n",
       "    </tr>\n",
       "    <tr>\n",
       "      <th>266155</th>\n",
       "      <td>264394637882576896</td>\n",
       "      <td>lopaz13</td>\n",
       "      <td>329752526</td>\n",
       "      <td>True</td>\n",
       "      <td>135</td>\n",
       "      <td>175</td>\n",
       "      <td>2</td>\n",
       "      <td>1782</td>\n",
       "      <td>2012-11-02 15:52:48</td>\n",
       "      <td>after</td>\n",
       "      <td>...</td>\n",
       "      <td>0</td>\n",
       "      <td>0</td>\n",
       "      <td>0</td>\n",
       "      <td>2012-11-02 15:52:48</td>\n",
       "      <td>129</td>\n",
       "      <td>set([264394637882576896, 264394096989310976, 2...</td>\n",
       "      <td>18</td>\n",
       "      <td>set([itsmeaRdo, lopaz13, tirsarifka])</td>\n",
       "      <td>264101449879928832</td>\n",
       "      <td>1</td>\n",
       "    </tr>\n",
       "    <tr>\n",
       "      <th>266174</th>\n",
       "      <td>264395021200003072</td>\n",
       "      <td>itsmeaRdo</td>\n",
       "      <td>56464727</td>\n",
       "      <td>True</td>\n",
       "      <td>160</td>\n",
       "      <td>218</td>\n",
       "      <td>167</td>\n",
       "      <td>3903</td>\n",
       "      <td>2012-11-02 15:54:19</td>\n",
       "      <td>after</td>\n",
       "      <td>...</td>\n",
       "      <td>0</td>\n",
       "      <td>0</td>\n",
       "      <td>0</td>\n",
       "      <td>2012-11-02 15:54:19</td>\n",
       "      <td>91</td>\n",
       "      <td>set([264395021200003072, 264394637882576896, 2...</td>\n",
       "      <td>19</td>\n",
       "      <td>set([itsmeaRdo, lopaz13, tirsarifka])</td>\n",
       "      <td>264101449879928832</td>\n",
       "      <td>1</td>\n",
       "    </tr>\n",
       "    <tr>\n",
       "      <th>266215</th>\n",
       "      <td>264395795170750465</td>\n",
       "      <td>lopaz13</td>\n",
       "      <td>329752526</td>\n",
       "      <td>True</td>\n",
       "      <td>135</td>\n",
       "      <td>175</td>\n",
       "      <td>2</td>\n",
       "      <td>1782</td>\n",
       "      <td>2012-11-02 15:57:24</td>\n",
       "      <td>after</td>\n",
       "      <td>...</td>\n",
       "      <td>0</td>\n",
       "      <td>0</td>\n",
       "      <td>0</td>\n",
       "      <td>2012-11-02 15:57:24</td>\n",
       "      <td>185</td>\n",
       "      <td>set([264395021200003072, 264395795170750465, 2...</td>\n",
       "      <td>20</td>\n",
       "      <td>set([itsmeaRdo, lopaz13, tirsarifka])</td>\n",
       "      <td>264101449879928832</td>\n",
       "      <td>1</td>\n",
       "    </tr>\n",
       "    <tr>\n",
       "      <th>266227</th>\n",
       "      <td>264396047739146241</td>\n",
       "      <td>itsmeaRdo</td>\n",
       "      <td>56464727</td>\n",
       "      <td>True</td>\n",
       "      <td>160</td>\n",
       "      <td>218</td>\n",
       "      <td>167</td>\n",
       "      <td>3903</td>\n",
       "      <td>2012-11-02 15:58:24</td>\n",
       "      <td>after</td>\n",
       "      <td>...</td>\n",
       "      <td>0</td>\n",
       "      <td>0</td>\n",
       "      <td>0</td>\n",
       "      <td>2012-11-02 15:58:24</td>\n",
       "      <td>60</td>\n",
       "      <td>set([264395021200003072, 264396047739146241, 2...</td>\n",
       "      <td>21</td>\n",
       "      <td>set([itsmeaRdo, lopaz13, tirsarifka])</td>\n",
       "      <td>264101449879928832</td>\n",
       "      <td>1</td>\n",
       "    </tr>\n",
       "    <tr>\n",
       "      <th>266230</th>\n",
       "      <td>264396138067677184</td>\n",
       "      <td>lopaz13</td>\n",
       "      <td>329752526</td>\n",
       "      <td>True</td>\n",
       "      <td>135</td>\n",
       "      <td>175</td>\n",
       "      <td>2</td>\n",
       "      <td>1782</td>\n",
       "      <td>2012-11-02 15:58:46</td>\n",
       "      <td>after</td>\n",
       "      <td>...</td>\n",
       "      <td>0</td>\n",
       "      <td>0</td>\n",
       "      <td>0</td>\n",
       "      <td>2012-11-02 15:58:46</td>\n",
       "      <td>22</td>\n",
       "      <td>set([264396138067677184, 264396047739146241, 2...</td>\n",
       "      <td>22</td>\n",
       "      <td>set([itsmeaRdo, lopaz13, tirsarifka])</td>\n",
       "      <td>264101449879928832</td>\n",
       "      <td>1</td>\n",
       "    </tr>\n",
       "    <tr>\n",
       "      <th>268834</th>\n",
       "      <td>264442226480910336</td>\n",
       "      <td>lopaz13</td>\n",
       "      <td>329752526</td>\n",
       "      <td>True</td>\n",
       "      <td>135</td>\n",
       "      <td>175</td>\n",
       "      <td>2</td>\n",
       "      <td>1782</td>\n",
       "      <td>2012-11-02 19:01:54</td>\n",
       "      <td>after</td>\n",
       "      <td>...</td>\n",
       "      <td>0</td>\n",
       "      <td>0</td>\n",
       "      <td>0</td>\n",
       "      <td>2012-11-02 19:01:54</td>\n",
       "      <td>78309</td>\n",
       "      <td>set([264442226480910336, 264113775886622720, 2...</td>\n",
       "      <td>8</td>\n",
       "      <td>set([itsmeaRdo, lopaz13, tirsarifka])</td>\n",
       "      <td>264101449879928832</td>\n",
       "      <td>1</td>\n",
       "    </tr>\n",
       "    <tr>\n",
       "      <th>268862</th>\n",
       "      <td>264442560842461184</td>\n",
       "      <td>itsmeaRdo</td>\n",
       "      <td>56464727</td>\n",
       "      <td>True</td>\n",
       "      <td>160</td>\n",
       "      <td>218</td>\n",
       "      <td>167</td>\n",
       "      <td>3903</td>\n",
       "      <td>2012-11-02 19:03:14</td>\n",
       "      <td>after</td>\n",
       "      <td>...</td>\n",
       "      <td>0</td>\n",
       "      <td>0</td>\n",
       "      <td>0</td>\n",
       "      <td>2012-11-02 19:03:14</td>\n",
       "      <td>80</td>\n",
       "      <td>set([264442560842461184, 264442226480910336, 2...</td>\n",
       "      <td>9</td>\n",
       "      <td>set([itsmeaRdo, lopaz13, tirsarifka])</td>\n",
       "      <td>264101449879928832</td>\n",
       "      <td>1</td>\n",
       "    </tr>\n",
       "    <tr>\n",
       "      <th>268924</th>\n",
       "      <td>264443588514029568</td>\n",
       "      <td>lopaz13</td>\n",
       "      <td>329752526</td>\n",
       "      <td>True</td>\n",
       "      <td>135</td>\n",
       "      <td>175</td>\n",
       "      <td>2</td>\n",
       "      <td>1782</td>\n",
       "      <td>2012-11-02 19:07:19</td>\n",
       "      <td>after</td>\n",
       "      <td>...</td>\n",
       "      <td>0</td>\n",
       "      <td>0</td>\n",
       "      <td>0</td>\n",
       "      <td>2012-11-02 19:07:19</td>\n",
       "      <td>245</td>\n",
       "      <td>set([264443588514029568, 264442560842461184, 2...</td>\n",
       "      <td>10</td>\n",
       "      <td>set([itsmeaRdo, lopaz13, tirsarifka])</td>\n",
       "      <td>264101449879928832</td>\n",
       "      <td>1</td>\n",
       "    </tr>\n",
       "    <tr>\n",
       "      <th>287483</th>\n",
       "      <td>264862834066874368</td>\n",
       "      <td>lopaz13</td>\n",
       "      <td>329752526</td>\n",
       "      <td>True</td>\n",
       "      <td>135</td>\n",
       "      <td>175</td>\n",
       "      <td>2</td>\n",
       "      <td>1782</td>\n",
       "      <td>2012-11-03 22:53:15</td>\n",
       "      <td>after</td>\n",
       "      <td>...</td>\n",
       "      <td>0</td>\n",
       "      <td>0</td>\n",
       "      <td>0</td>\n",
       "      <td>2012-11-03 22:53:15</td>\n",
       "      <td>111291</td>\n",
       "      <td>set([264862834066874368, 264396047739146241, 2...</td>\n",
       "      <td>22</td>\n",
       "      <td>set([itsmeaRdo, lopaz13, tirsarifka])</td>\n",
       "      <td>264101449879928832</td>\n",
       "      <td>1</td>\n",
       "    </tr>\n",
       "    <tr>\n",
       "      <th>287500</th>\n",
       "      <td>264863130788704256</td>\n",
       "      <td>itsmeaRdo</td>\n",
       "      <td>56464727</td>\n",
       "      <td>True</td>\n",
       "      <td>160</td>\n",
       "      <td>218</td>\n",
       "      <td>167</td>\n",
       "      <td>3903</td>\n",
       "      <td>2012-11-03 22:54:25</td>\n",
       "      <td>after</td>\n",
       "      <td>...</td>\n",
       "      <td>0</td>\n",
       "      <td>0</td>\n",
       "      <td>0</td>\n",
       "      <td>2012-11-03 22:54:25</td>\n",
       "      <td>70</td>\n",
       "      <td>set([264863130788704256, 264862834066874368, 2...</td>\n",
       "      <td>23</td>\n",
       "      <td>set([itsmeaRdo, lopaz13, tirsarifka])</td>\n",
       "      <td>264101449879928832</td>\n",
       "      <td>1</td>\n",
       "    </tr>\n",
       "    <tr>\n",
       "      <th>287525</th>\n",
       "      <td>264863529079808000</td>\n",
       "      <td>lopaz13</td>\n",
       "      <td>329752526</td>\n",
       "      <td>True</td>\n",
       "      <td>135</td>\n",
       "      <td>175</td>\n",
       "      <td>2</td>\n",
       "      <td>1782</td>\n",
       "      <td>2012-11-03 22:56:00</td>\n",
       "      <td>after</td>\n",
       "      <td>...</td>\n",
       "      <td>0</td>\n",
       "      <td>0</td>\n",
       "      <td>0</td>\n",
       "      <td>2012-11-03 22:56:00</td>\n",
       "      <td>95</td>\n",
       "      <td>set([264863529079808000, 264863130788704256, 2...</td>\n",
       "      <td>24</td>\n",
       "      <td>set([itsmeaRdo, lopaz13, tirsarifka])</td>\n",
       "      <td>264101449879928832</td>\n",
       "      <td>1</td>\n",
       "    </tr>\n",
       "    <tr>\n",
       "      <th>287556</th>\n",
       "      <td>264863932127248384</td>\n",
       "      <td>itsmeaRdo</td>\n",
       "      <td>56464727</td>\n",
       "      <td>True</td>\n",
       "      <td>160</td>\n",
       "      <td>218</td>\n",
       "      <td>167</td>\n",
       "      <td>3903</td>\n",
       "      <td>2012-11-03 22:57:37</td>\n",
       "      <td>after</td>\n",
       "      <td>...</td>\n",
       "      <td>0</td>\n",
       "      <td>0</td>\n",
       "      <td>0</td>\n",
       "      <td>2012-11-03 22:57:37</td>\n",
       "      <td>97</td>\n",
       "      <td>set([264863932127248384, 264863529079808000, 2...</td>\n",
       "      <td>25</td>\n",
       "      <td>set([itsmeaRdo, lopaz13, tirsarifka])</td>\n",
       "      <td>264101449879928832</td>\n",
       "      <td>1</td>\n",
       "    </tr>\n",
       "    <tr>\n",
       "      <th>287870</th>\n",
       "      <td>264869131688501248</td>\n",
       "      <td>lopaz13</td>\n",
       "      <td>329752526</td>\n",
       "      <td>True</td>\n",
       "      <td>135</td>\n",
       "      <td>175</td>\n",
       "      <td>2</td>\n",
       "      <td>1782</td>\n",
       "      <td>2012-11-03 23:18:16</td>\n",
       "      <td>after</td>\n",
       "      <td>...</td>\n",
       "      <td>0</td>\n",
       "      <td>0</td>\n",
       "      <td>0</td>\n",
       "      <td>2012-11-03 23:18:16</td>\n",
       "      <td>1239</td>\n",
       "      <td>set([264869131688501248, 264863932127248384, 2...</td>\n",
       "      <td>26</td>\n",
       "      <td>set([itsmeaRdo, lopaz13, tirsarifka])</td>\n",
       "      <td>264101449879928832</td>\n",
       "      <td>1</td>\n",
       "    </tr>\n",
       "    <tr>\n",
       "      <th>287929</th>\n",
       "      <td>264870109552730113</td>\n",
       "      <td>itsmeaRdo</td>\n",
       "      <td>56464727</td>\n",
       "      <td>True</td>\n",
       "      <td>160</td>\n",
       "      <td>218</td>\n",
       "      <td>167</td>\n",
       "      <td>3903</td>\n",
       "      <td>2012-11-03 23:22:09</td>\n",
       "      <td>after</td>\n",
       "      <td>...</td>\n",
       "      <td>0</td>\n",
       "      <td>0</td>\n",
       "      <td>0</td>\n",
       "      <td>2012-11-03 23:22:09</td>\n",
       "      <td>233</td>\n",
       "      <td>set([264869131688501248, 264870109552730113, 2...</td>\n",
       "      <td>27</td>\n",
       "      <td>set([itsmeaRdo, lopaz13, tirsarifka])</td>\n",
       "      <td>264101449879928832</td>\n",
       "      <td>1</td>\n",
       "    </tr>\n",
       "  </tbody>\n",
       "</table>\n",
       "<p>30 rows × 202 columns</p>\n",
       "</div>"
      ],
      "text/plain": [
       "                        id   username    user_id geo_enabled  followCount  \\\n",
       "253917  264103404769517568  itsmeaRdo   56464727        True          160   \n",
       "253954  264104422165078017    lopaz13  329752526        True          135   \n",
       "254281  264110036358418432  itsmeaRdo   56464727        True          160   \n",
       "254313  264110793908420608    lopaz13  329752526        True          135   \n",
       "254456  264113775886622720  itsmeaRdo   56464727        True          160   \n",
       "262550  264248584067747840  itsmeaRdo   56464727        True          160   \n",
       "262557  264249298353524736    lopaz13  329752526        True          135   \n",
       "262566  264249636158595072  itsmeaRdo   56464727        True          160   \n",
       "262669  264255932849078272    lopaz13  329752526        True          135   \n",
       "262675  264256331131805697  itsmeaRdo   56464727        True          160   \n",
       "262725  264258993323642880    lopaz13  329752526        True          135   \n",
       "262829  264267800158285824  itsmeaRdo   56464727        True          160   \n",
       "266070  264392968893526016    lopaz13  329752526        True          135   \n",
       "266081  264393192869343233  itsmeaRdo   56464727        True          160   \n",
       "266104  264393473308889089    lopaz13  329752526        True          135   \n",
       "266123  264394096989310976  itsmeaRdo   56464727        True          160   \n",
       "266155  264394637882576896    lopaz13  329752526        True          135   \n",
       "266174  264395021200003072  itsmeaRdo   56464727        True          160   \n",
       "266215  264395795170750465    lopaz13  329752526        True          135   \n",
       "266227  264396047739146241  itsmeaRdo   56464727        True          160   \n",
       "266230  264396138067677184    lopaz13  329752526        True          135   \n",
       "268834  264442226480910336    lopaz13  329752526        True          135   \n",
       "268862  264442560842461184  itsmeaRdo   56464727        True          160   \n",
       "268924  264443588514029568    lopaz13  329752526        True          135   \n",
       "287483  264862834066874368    lopaz13  329752526        True          135   \n",
       "287500  264863130788704256  itsmeaRdo   56464727        True          160   \n",
       "287525  264863529079808000    lopaz13  329752526        True          135   \n",
       "287556  264863932127248384  itsmeaRdo   56464727        True          160   \n",
       "287870  264869131688501248    lopaz13  329752526        True          135   \n",
       "287929  264870109552730113  itsmeaRdo   56464727        True          160   \n",
       "\n",
       "        friendCount  faveCount  tweetCount                 date timing  \\\n",
       "253917          218        167        3903  2012-11-01 20:35:33  after   \n",
       "253954          175          2        1782  2012-11-01 20:39:35  after   \n",
       "254281          218        167        3903  2012-11-01 21:01:54  after   \n",
       "254313          175          2        1782  2012-11-01 21:04:54  after   \n",
       "254456          218        167        3903  2012-11-01 21:16:45  after   \n",
       "262550          218        167        3903  2012-11-02 06:12:26  after   \n",
       "262557          175          2        1782  2012-11-02 06:15:16  after   \n",
       "262566          218        167        3903  2012-11-02 06:16:37  after   \n",
       "262669          175          2        1782  2012-11-02 06:41:38  after   \n",
       "262675          218        167        3903  2012-11-02 06:43:13  after   \n",
       "262725          175          2        1782  2012-11-02 06:53:48  after   \n",
       "262829          218        167        3903  2012-11-02 07:28:48  after   \n",
       "266070          175          2        1782  2012-11-02 15:46:10  after   \n",
       "266081          218        167        3903  2012-11-02 15:47:04  after   \n",
       "266104          175          2        1782  2012-11-02 15:48:10  after   \n",
       "266123          218        167        3903  2012-11-02 15:50:39  after   \n",
       "266155          175          2        1782  2012-11-02 15:52:48  after   \n",
       "266174          218        167        3903  2012-11-02 15:54:19  after   \n",
       "266215          175          2        1782  2012-11-02 15:57:24  after   \n",
       "266227          218        167        3903  2012-11-02 15:58:24  after   \n",
       "266230          175          2        1782  2012-11-02 15:58:46  after   \n",
       "268834          175          2        1782  2012-11-02 19:01:54  after   \n",
       "268862          218        167        3903  2012-11-02 19:03:14  after   \n",
       "268924          175          2        1782  2012-11-02 19:07:19  after   \n",
       "287483          175          2        1782  2012-11-03 22:53:15  after   \n",
       "287500          218        167        3903  2012-11-03 22:54:25  after   \n",
       "287525          175          2        1782  2012-11-03 22:56:00  after   \n",
       "287556          218        167        3903  2012-11-03 22:57:37  after   \n",
       "287870          175          2        1782  2012-11-03 23:18:16  after   \n",
       "287929          218        167        3903  2012-11-03 23:22:09  after   \n",
       "\n",
       "           ...     reply43OrigText reply43OrigReplyWhat reply43OrigReplyWho  \\\n",
       "253917     ...                   0                    0                   0   \n",
       "253954     ...                   0                    0                   0   \n",
       "254281     ...                   0                    0                   0   \n",
       "254313     ...                   0                    0                   0   \n",
       "254456     ...                   0                    0                   0   \n",
       "262550     ...                   0                    0                   0   \n",
       "262557     ...                   0                    0                   0   \n",
       "262566     ...                   0                    0                   0   \n",
       "262669     ...                   0                    0                   0   \n",
       "262675     ...                   0                    0                   0   \n",
       "262725     ...                   0                    0                   0   \n",
       "262829     ...                   0                    0                   0   \n",
       "266070     ...                   0                    0                   0   \n",
       "266081     ...                   0                    0                   0   \n",
       "266104     ...                   0                    0                   0   \n",
       "266123     ...                   0                    0                   0   \n",
       "266155     ...                   0                    0                   0   \n",
       "266174     ...                   0                    0                   0   \n",
       "266215     ...                   0                    0                   0   \n",
       "266227     ...                   0                    0                   0   \n",
       "266230     ...                   0                    0                   0   \n",
       "268834     ...                   0                    0                   0   \n",
       "268862     ...                   0                    0                   0   \n",
       "268924     ...                   0                    0                   0   \n",
       "287483     ...                   0                    0                   0   \n",
       "287500     ...                   0                    0                   0   \n",
       "287525     ...                   0                    0                   0   \n",
       "287556     ...                   0                    0                   0   \n",
       "287870     ...                   0                    0                   0   \n",
       "287929     ...                   0                    0                   0   \n",
       "\n",
       "                   dateObj repSecDiff  \\\n",
       "253917 2012-11-01 20:35:33        386   \n",
       "253954 2012-11-01 20:39:35        242   \n",
       "254281 2012-11-01 21:01:54       1339   \n",
       "254313 2012-11-01 21:04:54        180   \n",
       "254456 2012-11-01 21:16:45        711   \n",
       "262550 2012-11-02 06:12:26      32852   \n",
       "262557 2012-11-02 06:15:16        170   \n",
       "262566 2012-11-02 06:16:37         81   \n",
       "262669 2012-11-02 06:41:38       1501   \n",
       "262675 2012-11-02 06:43:13         95   \n",
       "262725 2012-11-02 06:53:48        635   \n",
       "262829 2012-11-02 07:28:48       2100   \n",
       "266070 2012-11-02 15:46:10      29842   \n",
       "266081 2012-11-02 15:47:04         54   \n",
       "266104 2012-11-02 15:48:10         66   \n",
       "266123 2012-11-02 15:50:39        149   \n",
       "266155 2012-11-02 15:52:48        129   \n",
       "266174 2012-11-02 15:54:19         91   \n",
       "266215 2012-11-02 15:57:24        185   \n",
       "266227 2012-11-02 15:58:24         60   \n",
       "266230 2012-11-02 15:58:46         22   \n",
       "268834 2012-11-02 19:01:54      78309   \n",
       "268862 2012-11-02 19:03:14         80   \n",
       "268924 2012-11-02 19:07:19        245   \n",
       "287483 2012-11-03 22:53:15     111291   \n",
       "287500 2012-11-03 22:54:25         70   \n",
       "287525 2012-11-03 22:56:00         95   \n",
       "287556 2012-11-03 22:57:37         97   \n",
       "287870 2012-11-03 23:18:16       1239   \n",
       "287929 2012-11-03 23:22:09        233   \n",
       "\n",
       "                                                   repSet lenRepSet  \\\n",
       "253917  set([264103404769517568, 264101788569960449, 2...         3   \n",
       "253954  set([264103404769517568, 264104422165078017, 2...         4   \n",
       "254281  set([264110036358418432, 264104422165078017, 2...         5   \n",
       "254313  set([264110793908420608, 264110036358418432, 2...         6   \n",
       "254456  set([264113775886622720, 264110793908420608, 2...         7   \n",
       "262550  set([264248584067747840, 264110793908420608, 2...         7   \n",
       "262557  set([264249298353524736, 264248584067747840, 2...         8   \n",
       "262566  set([264249636158595072, 264249298353524736, 2...         9   \n",
       "262669  set([264255932849078272, 264249636158595072, 2...        10   \n",
       "262675  set([264255932849078272, 264256331131805697, 2...        11   \n",
       "262725  set([264258993323642880, 264256331131805697, 2...        12   \n",
       "262829  set([264267800158285824, 264258993323642880, 2...        13   \n",
       "266070  set([264392968893526016, 264267800158285824, 2...        14   \n",
       "266081  set([264392968893526016, 264393192869343233, 2...        15   \n",
       "266104  set([264392968893526016, 264393473308889089, 2...        16   \n",
       "266123  set([264394096989310976, 264393473308889089, 2...        17   \n",
       "266155  set([264394637882576896, 264394096989310976, 2...        18   \n",
       "266174  set([264395021200003072, 264394637882576896, 2...        19   \n",
       "266215  set([264395021200003072, 264395795170750465, 2...        20   \n",
       "266227  set([264395021200003072, 264396047739146241, 2...        21   \n",
       "266230  set([264396138067677184, 264396047739146241, 2...        22   \n",
       "268834  set([264442226480910336, 264113775886622720, 2...         8   \n",
       "268862  set([264442560842461184, 264442226480910336, 2...         9   \n",
       "268924  set([264443588514029568, 264442560842461184, 2...        10   \n",
       "287483  set([264862834066874368, 264396047739146241, 2...        22   \n",
       "287500  set([264863130788704256, 264862834066874368, 2...        23   \n",
       "287525  set([264863529079808000, 264863130788704256, 2...        24   \n",
       "287556  set([264863932127248384, 264863529079808000, 2...        25   \n",
       "287870  set([264869131688501248, 264863932127248384, 2...        26   \n",
       "287929  set([264869131688501248, 264870109552730113, 2...        27   \n",
       "\n",
       "                                    convNames           convStart branchConvo  \n",
       "253917  set([itsmeaRdo, lopaz13, tirsarifka])  264101449879928832           1  \n",
       "253954  set([itsmeaRdo, lopaz13, tirsarifka])  264101449879928832           1  \n",
       "254281  set([itsmeaRdo, lopaz13, tirsarifka])  264101449879928832           1  \n",
       "254313  set([itsmeaRdo, lopaz13, tirsarifka])  264101449879928832           1  \n",
       "254456  set([itsmeaRdo, lopaz13, tirsarifka])  264101449879928832           1  \n",
       "262550  set([itsmeaRdo, lopaz13, tirsarifka])  264101449879928832           1  \n",
       "262557  set([itsmeaRdo, lopaz13, tirsarifka])  264101449879928832           1  \n",
       "262566  set([itsmeaRdo, lopaz13, tirsarifka])  264101449879928832           1  \n",
       "262669  set([itsmeaRdo, lopaz13, tirsarifka])  264101449879928832           1  \n",
       "262675  set([itsmeaRdo, lopaz13, tirsarifka])  264101449879928832           1  \n",
       "262725  set([itsmeaRdo, lopaz13, tirsarifka])  264101449879928832           1  \n",
       "262829  set([itsmeaRdo, lopaz13, tirsarifka])  264101449879928832           1  \n",
       "266070  set([itsmeaRdo, lopaz13, tirsarifka])  264101449879928832           1  \n",
       "266081  set([itsmeaRdo, lopaz13, tirsarifka])  264101449879928832           1  \n",
       "266104  set([itsmeaRdo, lopaz13, tirsarifka])  264101449879928832           1  \n",
       "266123  set([itsmeaRdo, lopaz13, tirsarifka])  264101449879928832           1  \n",
       "266155  set([itsmeaRdo, lopaz13, tirsarifka])  264101449879928832           1  \n",
       "266174  set([itsmeaRdo, lopaz13, tirsarifka])  264101449879928832           1  \n",
       "266215  set([itsmeaRdo, lopaz13, tirsarifka])  264101449879928832           1  \n",
       "266227  set([itsmeaRdo, lopaz13, tirsarifka])  264101449879928832           1  \n",
       "266230  set([itsmeaRdo, lopaz13, tirsarifka])  264101449879928832           1  \n",
       "268834  set([itsmeaRdo, lopaz13, tirsarifka])  264101449879928832           1  \n",
       "268862  set([itsmeaRdo, lopaz13, tirsarifka])  264101449879928832           1  \n",
       "268924  set([itsmeaRdo, lopaz13, tirsarifka])  264101449879928832           1  \n",
       "287483  set([itsmeaRdo, lopaz13, tirsarifka])  264101449879928832           1  \n",
       "287500  set([itsmeaRdo, lopaz13, tirsarifka])  264101449879928832           1  \n",
       "287525  set([itsmeaRdo, lopaz13, tirsarifka])  264101449879928832           1  \n",
       "287556  set([itsmeaRdo, lopaz13, tirsarifka])  264101449879928832           1  \n",
       "287870  set([itsmeaRdo, lopaz13, tirsarifka])  264101449879928832           1  \n",
       "287929  set([itsmeaRdo, lopaz13, tirsarifka])  264101449879928832           1  \n",
       "\n",
       "[30 rows x 202 columns]"
      ]
     },
     "execution_count": 463,
     "metadata": {},
     "output_type": "execute_result"
    }
   ],
   "source": [
    "branch[branch.convStart==b.values[0]]"
   ]
  },
  {
   "cell_type": "markdown",
   "metadata": {},
   "source": [
    "How to deal with branching conversations:\n",
    "* check how many of these potential convos (organized by the original) have more than 2 participants\n",
    "* construct a set of all the tweets for each potential convo\n",
    "* organize them by time and put into a data frame (see if there is a more efficient way - piecing them from existing)"
   ]
  },
  {
   "cell_type": "code",
   "execution_count": 471,
   "metadata": {
    "collapsed": true
   },
   "outputs": [],
   "source": [
    "def getBiggestGroup(group):\n",
    "    m=max(group.convNames.apply(lambda x: len(x)))\n",
    "    return m"
   ]
  },
  {
   "cell_type": "code",
   "execution_count": 474,
   "metadata": {
    "collapsed": false
   },
   "outputs": [],
   "source": [
    "convPeople=grouped.apply(getBiggestGroup)"
   ]
  },
  {
   "cell_type": "code",
   "execution_count": 475,
   "metadata": {
    "collapsed": false
   },
   "outputs": [
    {
     "data": {
      "text/plain": [
       "60"
      ]
     },
     "execution_count": 475,
     "metadata": {},
     "output_type": "execute_result"
    }
   ],
   "source": [
    "len(convPeople[convPeople>2])"
   ]
  },
  {
   "cell_type": "code",
   "execution_count": 476,
   "metadata": {
    "collapsed": false
   },
   "outputs": [
    {
     "data": {
      "text/plain": [
       "4"
      ]
     },
     "execution_count": 476,
     "metadata": {},
     "output_type": "execute_result"
    }
   ],
   "source": [
    "max(convPeople)"
   ]
  },
  {
   "cell_type": "markdown",
   "metadata": {},
   "source": [
    "So 60 out of the 369 branching conversations are with **three** or **four** people"
   ]
  }
 ],
 "metadata": {
  "kernelspec": {
   "display_name": "Python 2",
   "language": "python",
   "name": "python2"
  },
  "language_info": {
   "codemirror_mode": {
    "name": "ipython",
    "version": 2
   },
   "file_extension": ".py",
   "mimetype": "text/x-python",
   "name": "python",
   "nbconvert_exporter": "python",
   "pygments_lexer": "ipython2",
   "version": "2.7.6"
  }
 },
 "nbformat": 4,
 "nbformat_minor": 0
}
