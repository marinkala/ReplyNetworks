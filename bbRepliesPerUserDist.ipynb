{
 "cells": [
  {
   "cell_type": "markdown",
   "metadata": {},
   "source": [
    "Basic analytics of bounding box ontopic replies data sets (repliers only and both repliers and replied tos)"
   ]
  },
  {
   "cell_type": "code",
   "execution_count": 1,
   "metadata": {
    "collapsed": false
   },
   "outputs": [],
   "source": [
    "import pandas as pd\n",
    "import numpy as np\n",
    "import matplotlib\n",
    "from collections import Counter\n",
    "\n",
    "%matplotlib inline"
   ]
  },
  {
   "cell_type": "code",
   "execution_count": 2,
   "metadata": {
    "collapsed": false
   },
   "outputs": [],
   "source": [
    "import matplotlib.pyplot as plt"
   ]
  },
  {
   "cell_type": "code",
   "execution_count": 3,
   "metadata": {
    "collapsed": false
   },
   "outputs": [],
   "source": [
    "df_oneSide=pd.read_csv('bbContextOntopicRepliesOnlyDF.csv',sep=';')"
   ]
  },
  {
   "cell_type": "code",
   "execution_count": 4,
   "metadata": {
    "collapsed": false
   },
   "outputs": [
    {
     "data": {
      "text/plain": [
       "Index([u'id', u'username', u'user_id', u'geo_enabled', u'followCount',\n",
       "       u'friendCount', u'faveCount', u'tweetCount', u'date', u'timing',\n",
       "       u'coordinates', u'location', u'source', u'retweetCount', u'isRetweet',\n",
       "       u'origTweet', u'origUser', u'origTime', u'origPlace',\n",
       "       u'origUserCreated', u'contributors', u'hashtags', u'has_media', u'urls',\n",
       "       u'mentions', u'replyWho', u'replyWhat', u'text'],\n",
       "      dtype='object')"
      ]
     },
     "execution_count": 4,
     "metadata": {},
     "output_type": "execute_result"
    }
   ],
   "source": [
    "df_oneSide.columns"
   ]
  },
  {
   "cell_type": "code",
   "execution_count": 56,
   "metadata": {
    "collapsed": true
   },
   "outputs": [],
   "source": [
    "df_oneSide['dateObj']=pd.to_datetime(df_oneSide.date)"
   ]
  },
  {
   "cell_type": "code",
   "execution_count": 57,
   "metadata": {
    "collapsed": true
   },
   "outputs": [],
   "source": [
    "replies=df_oneSide[df_oneSide.replyWho!='0']"
   ]
  },
  {
   "cell_type": "code",
   "execution_count": 7,
   "metadata": {
    "collapsed": false
   },
   "outputs": [
    {
     "data": {
      "text/plain": [
       "562512"
      ]
     },
     "execution_count": 7,
     "metadata": {},
     "output_type": "execute_result"
    }
   ],
   "source": [
    "len(replies)"
   ]
  },
  {
   "cell_type": "markdown",
   "metadata": {},
   "source": [
    "So more than a quarter of these tweets are replies"
   ]
  },
  {
   "cell_type": "code",
   "execution_count": 8,
   "metadata": {
    "collapsed": true
   },
   "outputs": [],
   "source": [
    "grouped=df_oneSide.groupby('user_id')"
   ]
  },
  {
   "cell_type": "code",
   "execution_count": 31,
   "metadata": {
    "collapsed": true
   },
   "outputs": [],
   "source": [
    "df_oneSide['secDiff']=(grouped.dateObj.diff()).apply(lambda x: np.nan if pd.isnull(x) else x.item()/(10**9))"
   ]
  },
  {
   "cell_type": "code",
   "execution_count": 32,
   "metadata": {
    "collapsed": true
   },
   "outputs": [],
   "source": [
    "freq=Counter(df_oneSide.secDiff.dropna())"
   ]
  },
  {
   "cell_type": "code",
   "execution_count": 33,
   "metadata": {
    "collapsed": false
   },
   "outputs": [
    {
     "data": {
      "text/plain": [
       "[<matplotlib.lines.Line2D at 0x7fa148ff64d0>]"
      ]
     },
     "execution_count": 33,
     "metadata": {},
     "output_type": "execute_result"
    },
    {
     "data": {
      "image/png": "[encoded data removed]",
      "text/plain": [
       "<matplotlib.figure.Figure at 0x7fa149d33510>"
      ]
     },
     "metadata": {},
     "output_type": "display_data"
    }
   ],
   "source": [
    "plt.semilogx(freq.keys(),freq.values(),'ob')"
   ]
  },
  {
   "cell_type": "code",
   "execution_count": 36,
   "metadata": {
    "collapsed": true
   },
   "outputs": [],
   "source": [
    "tweetNum=grouped.size()"
   ]
  },
  {
   "cell_type": "code",
   "execution_count": 39,
   "metadata": {
    "collapsed": false
   },
   "outputs": [],
   "source": [
    "tweetDist=Counter(tweetNum.values)"
   ]
  },
  {
   "cell_type": "code",
   "execution_count": 41,
   "metadata": {
    "collapsed": false
   },
   "outputs": [
    {
     "data": {
      "text/plain": [
       "[<matplotlib.lines.Line2D at 0x7fa1492d3f10>]"
      ]
     },
     "execution_count": 41,
     "metadata": {},
     "output_type": "execute_result"
    },
    {
     "data": {
      "image/png": "[encoded data removed]",
      "text/plain": [
       "<matplotlib.figure.Figure at 0x7fa1493f6fd0>"
      ]
     },
     "metadata": {},
     "output_type": "display_data"
    }
   ],
   "source": [
    "plt.loglog(tweetDist.keys(), tweetDist.values(), 'mo')"
   ]
  },
  {
   "cell_type": "markdown",
   "metadata": {},
   "source": [
    "# Get the distribution of number of replies per user"
   ]
  },
  {
   "cell_type": "code",
   "execution_count": 13,
   "metadata": {
    "collapsed": false
   },
   "outputs": [],
   "source": [
    "freq=replies.groupby(replies.user_id).size()"
   ]
  },
  {
   "cell_type": "code",
   "execution_count": 14,
   "metadata": {
    "collapsed": false
   },
   "outputs": [
    {
     "data": {
      "text/plain": [
       "7205"
      ]
     },
     "execution_count": 14,
     "metadata": {},
     "output_type": "execute_result"
    }
   ],
   "source": [
    "len(freq)"
   ]
  },
  {
   "cell_type": "code",
   "execution_count": 15,
   "metadata": {
    "collapsed": false,
    "scrolled": true
   },
   "outputs": [
    {
     "data": {
      "text/plain": [
       "(array([  2.65800000e+03,   7.82000000e+02,   5.41000000e+02,\n",
       "          4.40000000e+02,   3.85000000e+02,   2.94000000e+02,\n",
       "          2.70000000e+02,   2.34000000e+02,   1.65000000e+02,\n",
       "          1.76000000e+02,   1.51000000e+02,   1.31000000e+02,\n",
       "          1.08000000e+02,   9.00000000e+01,   8.70000000e+01,\n",
       "          8.50000000e+01,   5.50000000e+01,   5.70000000e+01,\n",
       "          6.50000000e+01,   4.30000000e+01,   4.60000000e+01,\n",
       "          3.60000000e+01,   4.10000000e+01,   2.40000000e+01,\n",
       "          3.20000000e+01,   2.80000000e+01,   1.90000000e+01,\n",
       "          1.90000000e+01,   1.40000000e+01,   1.60000000e+01,\n",
       "          5.00000000e+00,   1.20000000e+01,   9.00000000e+00,\n",
       "          1.00000000e+01,   7.00000000e+00,   8.00000000e+00,\n",
       "          8.00000000e+00,   8.00000000e+00,   7.00000000e+00,\n",
       "          4.00000000e+00,   5.00000000e+00,   3.00000000e+00,\n",
       "          2.00000000e+00,   1.00000000e+00,   2.00000000e+00,\n",
       "          1.00000000e+00,   1.00000000e+00,   2.00000000e+00,\n",
       "          1.00000000e+00,   2.00000000e+00,   1.00000000e+00,\n",
       "          0.00000000e+00,   1.00000000e+00,   0.00000000e+00,\n",
       "          2.00000000e+00,   0.00000000e+00,   0.00000000e+00,\n",
       "          1.00000000e+00,   0.00000000e+00,   1.00000000e+00,\n",
       "          1.00000000e+00,   0.00000000e+00,   0.00000000e+00,\n",
       "          1.00000000e+00,   0.00000000e+00,   1.00000000e+00,\n",
       "          1.00000000e+00,   0.00000000e+00,   0.00000000e+00,\n",
       "          1.00000000e+00,   0.00000000e+00,   0.00000000e+00,\n",
       "          1.00000000e+00,   0.00000000e+00,   0.00000000e+00,\n",
       "          0.00000000e+00,   0.00000000e+00,   1.00000000e+00,\n",
       "          0.00000000e+00,   0.00000000e+00,   0.00000000e+00,\n",
       "          0.00000000e+00,   0.00000000e+00,   0.00000000e+00,\n",
       "          0.00000000e+00,   0.00000000e+00,   0.00000000e+00,\n",
       "          0.00000000e+00,   0.00000000e+00,   0.00000000e+00,\n",
       "          0.00000000e+00,   0.00000000e+00,   0.00000000e+00,\n",
       "          0.00000000e+00,   0.00000000e+00,   1.00000000e+00,\n",
       "          0.00000000e+00,   0.00000000e+00,   0.00000000e+00,\n",
       "          1.00000000e+00]),\n",
       " array([  1.00000000e+00,   1.56400000e+01,   3.02800000e+01,\n",
       "          4.49200000e+01,   5.95600000e+01,   7.42000000e+01,\n",
       "          8.88400000e+01,   1.03480000e+02,   1.18120000e+02,\n",
       "          1.32760000e+02,   1.47400000e+02,   1.62040000e+02,\n",
       "          1.76680000e+02,   1.91320000e+02,   2.05960000e+02,\n",
       "          2.20600000e+02,   2.35240000e+02,   2.49880000e+02,\n",
       "          2.64520000e+02,   2.79160000e+02,   2.93800000e+02,\n",
       "          3.08440000e+02,   3.23080000e+02,   3.37720000e+02,\n",
       "          3.52360000e+02,   3.67000000e+02,   3.81640000e+02,\n",
       "          3.96280000e+02,   4.10920000e+02,   4.25560000e+02,\n",
       "          4.40200000e+02,   4.54840000e+02,   4.69480000e+02,\n",
       "          4.84120000e+02,   4.98760000e+02,   5.13400000e+02,\n",
       "          5.28040000e+02,   5.42680000e+02,   5.57320000e+02,\n",
       "          5.71960000e+02,   5.86600000e+02,   6.01240000e+02,\n",
       "          6.15880000e+02,   6.30520000e+02,   6.45160000e+02,\n",
       "          6.59800000e+02,   6.74440000e+02,   6.89080000e+02,\n",
       "          7.03720000e+02,   7.18360000e+02,   7.33000000e+02,\n",
       "          7.47640000e+02,   7.62280000e+02,   7.76920000e+02,\n",
       "          7.91560000e+02,   8.06200000e+02,   8.20840000e+02,\n",
       "          8.35480000e+02,   8.50120000e+02,   8.64760000e+02,\n",
       "          8.79400000e+02,   8.94040000e+02,   9.08680000e+02,\n",
       "          9.23320000e+02,   9.37960000e+02,   9.52600000e+02,\n",
       "          9.67240000e+02,   9.81880000e+02,   9.96520000e+02,\n",
       "          1.01116000e+03,   1.02580000e+03,   1.04044000e+03,\n",
       "          1.05508000e+03,   1.06972000e+03,   1.08436000e+03,\n",
       "          1.09900000e+03,   1.11364000e+03,   1.12828000e+03,\n",
       "          1.14292000e+03,   1.15756000e+03,   1.17220000e+03,\n",
       "          1.18684000e+03,   1.20148000e+03,   1.21612000e+03,\n",
       "          1.23076000e+03,   1.24540000e+03,   1.26004000e+03,\n",
       "          1.27468000e+03,   1.28932000e+03,   1.30396000e+03,\n",
       "          1.31860000e+03,   1.33324000e+03,   1.34788000e+03,\n",
       "          1.36252000e+03,   1.37716000e+03,   1.39180000e+03,\n",
       "          1.40644000e+03,   1.42108000e+03,   1.43572000e+03,\n",
       "          1.45036000e+03,   1.46500000e+03]),\n",
       " <a list of 100 Patch objects>)"
      ]
     },
     "execution_count": 15,
     "metadata": {},
     "output_type": "execute_result"
    },
    {
     "data": {
      "image/png": "[encoded data removed]",
      "text/plain": [
       "<matplotlib.figure.Figure at 0x7fa1501197d0>"
      ]
     },
     "metadata": {},
     "output_type": "display_data"
    }
   ],
   "source": [
    "plt.hist(freq.values,100)"
   ]
  },
  {
   "cell_type": "code",
   "execution_count": 16,
   "metadata": {
    "collapsed": true
   },
   "outputs": [],
   "source": [
    "f=Counter(freq.values)"
   ]
  },
  {
   "cell_type": "code",
   "execution_count": 35,
   "metadata": {
    "collapsed": false
   },
   "outputs": [
    {
     "data": {
      "text/plain": [
       "[<matplotlib.lines.Line2D at 0x7fa149c27910>]"
      ]
     },
     "execution_count": 35,
     "metadata": {},
     "output_type": "execute_result"
    },
    {
     "data": {
      "image/png": "[encoded data removed]",
      "text/plain": [
       "<matplotlib.figure.Figure at 0x7fa149caac90>"
      ]
     },
     "metadata": {},
     "output_type": "display_data"
    }
   ],
   "source": [
    "plt.loglog(f.keys(),f.values(),'g*')"
   ]
  },
  {
   "cell_type": "code",
   "execution_count": 18,
   "metadata": {
    "collapsed": false
   },
   "outputs": [],
   "source": [
    "grouped=replies.groupby('user_id')"
   ]
  },
  {
   "cell_type": "code",
   "execution_count": 42,
   "metadata": {
    "collapsed": false
   },
   "outputs": [
    {
     "name": "stderr",
     "output_type": "stream",
     "text": [
      "-c:1: SettingWithCopyWarning: \n",
      "A value is trying to be set on a copy of a slice from a DataFrame.\n",
      "Try using .loc[row_indexer,col_indexer] = value instead\n",
      "\n",
      "See the caveats in the documentation: http://pandas.pydata.org/pandas-docs/stable/indexing.html#indexing-view-versus-copy\n"
     ]
    }
   ],
   "source": [
    "replies['secDiff']=(grouped.dateObj.diff()).apply(lambda x: np.nan if pd.isnull(x) else x.item()/(10**9))"
   ]
  },
  {
   "cell_type": "code",
   "execution_count": 43,
   "metadata": {
    "collapsed": false
   },
   "outputs": [],
   "source": [
    "freq=Counter(replies.secDiff.dropna())"
   ]
  },
  {
   "cell_type": "code",
   "execution_count": 44,
   "metadata": {
    "collapsed": false,
    "scrolled": true
   },
   "outputs": [
    {
     "data": {
      "text/plain": [
       "[<matplotlib.lines.Line2D at 0x7fa149156390>]"
      ]
     },
     "execution_count": 44,
     "metadata": {},
     "output_type": "execute_result"
    },
    {
     "data": {
      "image/png": "[encoded data removed]",
      "text/plain": [
       "<matplotlib.figure.Figure at 0x7fa149b5ee10>"
      ]
     },
     "metadata": {},
     "output_type": "display_data"
    }
   ],
   "source": [
    "plt.semilogx(freq.keys(), freq.values(),'ro')"
   ]
  },
  {
   "cell_type": "code",
   "execution_count": 47,
   "metadata": {
    "collapsed": false
   },
   "outputs": [
    {
     "data": {
      "text/plain": [
       "0.987191384361578"
      ]
     },
     "execution_count": 47,
     "metadata": {},
     "output_type": "execute_result"
    }
   ],
   "source": [
    "len(replies[~replies.secDiff.isnull()])/float(len(replies))"
   ]
  },
  {
   "cell_type": "code",
   "execution_count": 54,
   "metadata": {
    "collapsed": false
   },
   "outputs": [
    {
     "data": {
      "text/plain": [
       "0.8803608605135322"
      ]
     },
     "execution_count": 54,
     "metadata": {},
     "output_type": "execute_result"
    }
   ],
   "source": [
    "len((replies.user_id[~replies.secDiff.isnull()]).unique())/float(len(replies.user_id.unique()))"
   ]
  },
  {
   "cell_type": "markdown",
   "metadata": {},
   "source": [
    "So only 2% of tweets are missed, but 12% of the users don't have more than one reply"
   ]
  }
 ],
 "metadata": {
  "kernelspec": {
   "display_name": "Python 2",
   "language": "python",
   "name": "python2"
  },
  "language_info": {
   "codemirror_mode": {
    "name": "ipython",
    "version": 2
   },
   "file_extension": ".py",
   "mimetype": "text/x-python",
   "name": "python",
   "nbconvert_exporter": "python",
   "pygments_lexer": "ipython2",
   "version": "2.7.6"
  }
 },
 "nbformat": 4,
 "nbformat_minor": 0
}
