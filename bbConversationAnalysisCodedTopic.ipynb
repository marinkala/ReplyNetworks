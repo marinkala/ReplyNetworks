{
 "cells": [
  {
   "cell_type": "code",
   "execution_count": 1,
   "metadata": {
    "collapsed": true
   },
   "outputs": [],
   "source": [
    "import pandas as pd\n",
    "import numpy as np\n",
    "import ast\n",
    "import collections as c\n",
    "import matplotlib.pyplot as plt\n",
    "import scipy.stats as st\n",
    "\n",
    "%matplotlib inline"
   ]
  },
  {
   "cell_type": "code",
   "execution_count": 2,
   "metadata": {},
   "outputs": [
    {
     "name": "stderr",
     "output_type": "stream",
     "text": [
      "/usr/local/lib/python3.5/dist-packages/IPython/core/interactiveshell.py:2698: DtypeWarning: Columns (65,66,67,69,70,71,73,74,75,77,78,79,81,82,83,85,86,87,89,90,91,93,94,95,97,98,99,101,102,103,105,106,107,109,110,111,113,114,115,117,118,119,121,122,123,125,126,127,129,130,131,133,134,135,137,138,139,141,142,143,145,146,147,149,150,151,153,154,155,157,158,159,161,162,163,165,166,167,169,170,171) have mixed types. Specify dtype option on import or set low_memory=False.\n",
      "  interactivity=interactivity, compiler=compiler, result=result)\n"
     ]
    }
   ],
   "source": [
    "convs=pd.read_csv('../data/bbAllFullConvosAWRandSortExtraDay.csv',sep=';')"
   ]
  },
  {
   "cell_type": "code",
   "execution_count": 3,
   "metadata": {
    "collapsed": true
   },
   "outputs": [],
   "source": [
    "ontopic=pd.read_csv('../data/SecondCodingCSV3.csv', sep=',', header=None)"
   ]
  },
  {
   "cell_type": "code",
   "execution_count": 4,
   "metadata": {},
   "outputs": [
    {
     "data": {
      "text/html": [
       "<div>\n",
       "<table border=\"1\" class=\"dataframe\">\n",
       "  <thead>\n",
       "    <tr style=\"text-align: right;\">\n",
       "      <th></th>\n",
       "      <th>0</th>\n",
       "      <th>1</th>\n",
       "    </tr>\n",
       "  </thead>\n",
       "  <tbody>\n",
       "    <tr>\n",
       "      <th>0</th>\n",
       "      <td>0</td>\n",
       "      <td>0</td>\n",
       "    </tr>\n",
       "    <tr>\n",
       "      <th>1</th>\n",
       "      <td>1</td>\n",
       "      <td>0</td>\n",
       "    </tr>\n",
       "    <tr>\n",
       "      <th>2</th>\n",
       "      <td>2</td>\n",
       "      <td>1</td>\n",
       "    </tr>\n",
       "    <tr>\n",
       "      <th>3</th>\n",
       "      <td>3</td>\n",
       "      <td>0</td>\n",
       "    </tr>\n",
       "    <tr>\n",
       "      <th>4</th>\n",
       "      <td>4</td>\n",
       "      <td>1</td>\n",
       "    </tr>\n",
       "  </tbody>\n",
       "</table>\n",
       "</div>"
      ],
      "text/plain": [
       "   0  1\n",
       "0  0  0\n",
       "1  1  0\n",
       "2  2  1\n",
       "3  3  0\n",
       "4  4  1"
      ]
     },
     "execution_count": 4,
     "metadata": {},
     "output_type": "execute_result"
    }
   ],
   "source": [
    "ontopic.head()"
   ]
  },
  {
   "cell_type": "code",
   "execution_count": 5,
   "metadata": {
    "collapsed": true
   },
   "outputs": [],
   "source": [
    "convs['ontopicConvo']=ontopic[1]"
   ]
  },
  {
   "cell_type": "code",
   "execution_count": 6,
   "metadata": {},
   "outputs": [
    {
     "data": {
      "text/plain": [
       "1895"
      ]
     },
     "execution_count": 6,
     "metadata": {},
     "output_type": "execute_result"
    }
   ],
   "source": [
    "len(convs[convs.ontopicConvo==1])"
   ]
  },
  {
   "cell_type": "code",
   "execution_count": 7,
   "metadata": {},
   "outputs": [
    {
     "data": {
      "text/plain": [
       "3461"
      ]
     },
     "execution_count": 7,
     "metadata": {},
     "output_type": "execute_result"
    }
   ],
   "source": [
    "len(convs[convs.ontopicConvo==0])"
   ]
  },
  {
   "cell_type": "code",
   "execution_count": 9,
   "metadata": {
    "collapsed": true
   },
   "outputs": [],
   "source": [
    "codedNum=Out[8]+Out[7]"
   ]
  },
  {
   "cell_type": "code",
   "execution_count": 10,
   "metadata": {},
   "outputs": [
    {
     "data": {
      "text/plain": [
       "0.3538088125466766"
      ]
     },
     "execution_count": 10,
     "metadata": {},
     "output_type": "execute_result"
    }
   ],
   "source": [
    "len(convs[convs.ontopicConvo==1])/float(codedNum)"
   ]
  },
  {
   "cell_type": "markdown",
   "metadata": {},
   "source": [
    "* So overall, **35%** of conversations are ontopic according to my coding"
   ]
  },
  {
   "cell_type": "markdown",
   "metadata": {},
   "source": [
    "### Correct for Time Zone - add/subtract the conversations according to shifting the buckets 4/5 hours"
   ]
  },
  {
   "cell_type": "code",
   "execution_count": 4,
   "metadata": {},
   "outputs": [
    {
     "name": "stderr",
     "output_type": "stream",
     "text": [
      "/usr/local/lib/python3.5/dist-packages/IPython/core/interactiveshell.py:2698: DtypeWarning: Columns (38,39,42,43,46,47,50,51,54,55,58,59,62,63,66,67,70,71,74,75,78,79,82,83,86,87,90,91,94,95,98,99,102,103,106,107,110,111,114,115,118,119,122,123,126,127,130,131,134,135,138,139,142,143,146,147,150,151,154,155,158,159,162,163,166,167,170,171,183,188,189) have mixed types. Specify dtype option on import or set low_memory=False.\n",
      "  interactivity=interactivity, compiler=compiler, result=result)\n"
     ]
    }
   ],
   "source": [
    "convsTZ=pd.read_csv('../data/bbAllFullConvosMoreAWCorrectTimeZone.csv',sep=';')"
   ]
  },
  {
   "cell_type": "code",
   "execution_count": 7,
   "metadata": {},
   "outputs": [
    {
     "data": {
      "text/plain": [
       "5357"
      ]
     },
     "execution_count": 7,
     "metadata": {},
     "output_type": "execute_result"
    }
   ],
   "source": [
    "len(convs)"
   ]
  },
  {
   "cell_type": "code",
   "execution_count": 8,
   "metadata": {},
   "outputs": [
    {
     "data": {
      "text/plain": [
       "5350"
      ]
     },
     "execution_count": 8,
     "metadata": {},
     "output_type": "execute_result"
    }
   ],
   "source": [
    "len(convsTZ)"
   ]
  },
  {
   "cell_type": "code",
   "execution_count": 9,
   "metadata": {
    "collapsed": true
   },
   "outputs": [],
   "source": [
    "convs.tweetSet=convs.tweetSet.apply(lambda x: ast.literal_eval(x))"
   ]
  },
  {
   "cell_type": "code",
   "execution_count": 10,
   "metadata": {
    "collapsed": true
   },
   "outputs": [],
   "source": [
    "def ReplyTweetSet(row):\n",
    "    chain=set()\n",
    "    for i in range(44):\n",
    "        colName='tweet'+str(i)\n",
    "        if str(row[colName])!='0':\n",
    "            chain=chain | set([row[colName]])\n",
    "    return tuple(sorted(list(chain)))"
   ]
  },
  {
   "cell_type": "code",
   "execution_count": 11,
   "metadata": {
    "collapsed": true
   },
   "outputs": [],
   "source": [
    "convsTZ['tweetSet']=convsTZ.apply(ReplyTweetSet, axis=1)"
   ]
  },
  {
   "cell_type": "code",
   "execution_count": 14,
   "metadata": {},
   "outputs": [
    {
     "data": {
      "text/plain": [
       "0    (260471876864864256, 260472148982898690, 26047...\n",
       "1    (261510871686201345, 261511065333026819, 26151...\n",
       "2             (260941078516084736, 260941898158571523)\n",
       "3             (270363494401048581, 270364973367177216)\n",
       "4    (263381270141231105, 263382291533930496, 26339...\n",
       "Name: tweetSet, dtype: object"
      ]
     },
     "execution_count": 14,
     "metadata": {},
     "output_type": "execute_result"
    }
   ],
   "source": [
    "convsTZ.tweetSet.head()"
   ]
  },
  {
   "cell_type": "code",
   "execution_count": 15,
   "metadata": {},
   "outputs": [
    {
     "data": {
      "text/plain": [
       "0             (270566698342559744, 270566805980975104)\n",
       "1             (265820307548434432, 266174259779497984)\n",
       "2             (261512597482901506, 261512924860928001)\n",
       "3    (262725903526801408, 262726106493382656, 26272...\n",
       "4    (264445560503820288, 264455988684410881, 26446...\n",
       "Name: tweetSet, dtype: object"
      ]
     },
     "execution_count": 15,
     "metadata": {},
     "output_type": "execute_result"
    }
   ],
   "source": [
    "convs.tweetSet.head()"
   ]
  },
  {
   "cell_type": "code",
   "execution_count": 12,
   "metadata": {
    "collapsed": true
   },
   "outputs": [],
   "source": [
    "temp=convsTZ.merge(convs[['text0','ontopicConvo','tweetSet']], how='left',left_on='tweetSet',right_on='tweetSet')"
   ]
  },
  {
   "cell_type": "code",
   "execution_count": 13,
   "metadata": {},
   "outputs": [
    {
     "data": {
      "text/plain": [
       "5350"
      ]
     },
     "execution_count": 13,
     "metadata": {},
     "output_type": "execute_result"
    }
   ],
   "source": [
    "len(temp)"
   ]
  },
  {
   "cell_type": "code",
   "execution_count": 14,
   "metadata": {
    "collapsed": true
   },
   "outputs": [],
   "source": [
    "temp.text0_x=temp.text0_y"
   ]
  },
  {
   "cell_type": "code",
   "execution_count": 15,
   "metadata": {
    "collapsed": true
   },
   "outputs": [],
   "source": [
    "temp=temp.rename(index=str, columns={\"text0_x\": \"text0\"})"
   ]
  },
  {
   "cell_type": "code",
   "execution_count": 16,
   "metadata": {
    "collapsed": true
   },
   "outputs": [],
   "source": [
    "del temp['text0_y']"
   ]
  },
  {
   "cell_type": "code",
   "execution_count": 17,
   "metadata": {},
   "outputs": [
    {
     "data": {
      "text/plain": [
       "15"
      ]
     },
     "execution_count": 17,
     "metadata": {},
     "output_type": "execute_result"
    }
   ],
   "source": [
    "len(temp[temp.ontopicConvo.isnull()])"
   ]
  },
  {
   "cell_type": "code",
   "execution_count": 18,
   "metadata": {},
   "outputs": [
    {
     "name": "stderr",
     "output_type": "stream",
     "text": [
      "/usr/local/lib/python2.7/dist-packages/ipykernel/__main__.py:1: SettingWithCopyWarning: \n",
      "A value is trying to be set on a copy of a slice from a DataFrame\n",
      "\n",
      "See the caveats in the documentation: http://pandas.pydata.org/pandas-docs/stable/indexing.html#indexing-view-versus-copy\n",
      "  if __name__ == '__main__':\n"
     ]
    }
   ],
   "source": [
    "temp.ontopicConvo[temp.ontopicConvo.isnull()]=0"
   ]
  },
  {
   "cell_type": "code",
   "execution_count": 19,
   "metadata": {
    "collapsed": true
   },
   "outputs": [],
   "source": [
    "convs=temp"
   ]
  },
  {
   "cell_type": "code",
   "execution_count": 41,
   "metadata": {
    "collapsed": true
   },
   "outputs": [],
   "source": [
    "convs.to_csv('../data/bbAllFullConvosCodedAWCorrectTimeZone.csv',sep=';')"
   ]
  },
  {
   "cell_type": "code",
   "execution_count": 2,
   "metadata": {},
   "outputs": [
    {
     "name": "stderr",
     "output_type": "stream",
     "text": [
      "/usr/local/lib/python3.5/dist-packages/IPython/core/interactiveshell.py:2698: DtypeWarning: Columns (39,40,43,44,47,48,51,52,55,56,59,60,63,64,67,68,71,72,75,76,79,80,83,84,87,88,91,92,95,96,99,100,103,104,107,108,111,112,115,116,119,120,123,124,127,128,131,132,135,136,139,140,143,144,147,148,151,152,155,156,159,160,163,164,167,168,171,172,184,189,190) have mixed types. Specify dtype option on import or set low_memory=False.\n",
      "  interactivity=interactivity, compiler=compiler, result=result)\n"
     ]
    }
   ],
   "source": [
    "convs=pd.read_csv('../data/bbAllFullConvosCodedAWCorrectTimeZone.csv',sep=';')"
   ]
  },
  {
   "cell_type": "code",
   "execution_count": 3,
   "metadata": {},
   "outputs": [
    {
     "data": {
      "text/plain": [
       "1895"
      ]
     },
     "execution_count": 3,
     "metadata": {},
     "output_type": "execute_result"
    }
   ],
   "source": [
    "len(convs[convs.ontopicConvo==1])"
   ]
  },
  {
   "cell_type": "code",
   "execution_count": 4,
   "metadata": {},
   "outputs": [
    {
     "data": {
      "text/plain": [
       "3455"
      ]
     },
     "execution_count": 4,
     "metadata": {},
     "output_type": "execute_result"
    }
   ],
   "source": [
    "len(convs[convs.ontopicConvo==0])"
   ]
  },
  {
   "cell_type": "code",
   "execution_count": 5,
   "metadata": {
    "collapsed": true
   },
   "outputs": [],
   "source": [
    "codedNum=Out[3]+Out[4]"
   ]
  },
  {
   "cell_type": "code",
   "execution_count": 6,
   "metadata": {},
   "outputs": [
    {
     "data": {
      "text/plain": [
       "0.3542056074766355"
      ]
     },
     "execution_count": 6,
     "metadata": {},
     "output_type": "execute_result"
    }
   ],
   "source": [
    "len(convs[convs.ontopicConvo==1])/float(codedNum)"
   ]
  },
  {
   "cell_type": "code",
   "execution_count": 7,
   "metadata": {},
   "outputs": [],
   "source": [
    "convs.allNames=convs.allNames.apply(lambda x: ast.literal_eval(x))"
   ]
  },
  {
   "cell_type": "markdown",
   "metadata": {
    "collapsed": true
   },
   "source": [
    "# Break down ontopic by Time"
   ]
  },
  {
   "cell_type": "code",
   "execution_count": 8,
   "metadata": {
    "collapsed": true
   },
   "outputs": [],
   "source": [
    "before=convs[(pd.to_datetime(convs.date0)>=pd.to_datetime('2012-10-15 00:00:00')) & (pd.to_datetime(convs.convoEndTime)<pd.to_datetime('2012-10-25 00:00:00'))]"
   ]
  },
  {
   "cell_type": "code",
   "execution_count": 9,
   "metadata": {
    "collapsed": true
   },
   "outputs": [],
   "source": [
    "during=convs[(pd.to_datetime(convs.date0)>=pd.to_datetime('2012-10-25 00:00:00')) & (pd.to_datetime(convs.convoEndTime)<pd.to_datetime('2012-11-04 00:00:00'))]"
   ]
  },
  {
   "cell_type": "code",
   "execution_count": 10,
   "metadata": {
    "collapsed": true
   },
   "outputs": [],
   "source": [
    "after=convs[(pd.to_datetime(convs.date0)>=pd.to_datetime('2012-11-04 00:00:00')) & (pd.to_datetime(convs.convoEndTime)<pd.to_datetime('2012-11-14 00:00:00'))]"
   ]
  },
  {
   "cell_type": "code",
   "execution_count": 11,
   "metadata": {
    "collapsed": true
   },
   "outputs": [],
   "source": [
    "lafter=convs[(pd.to_datetime(convs.date0)>=pd.to_datetime('2012-11-14 00:00:00')) & (pd.to_datetime(convs.convoEndTime)<pd.to_datetime('2012-11-24 00:00:00'))]"
   ]
  },
  {
   "cell_type": "code",
   "execution_count": 12,
   "metadata": {},
   "outputs": [
    {
     "data": {
      "text/plain": [
       "14"
      ]
     },
     "execution_count": 12,
     "metadata": {},
     "output_type": "execute_result"
    }
   ],
   "source": [
    "len(set(lafter.tweetSet.sum()))"
   ]
  },
  {
   "cell_type": "code",
   "execution_count": 13,
   "metadata": {
    "collapsed": true
   },
   "outputs": [],
   "source": [
    "numConvs=len(before)+len(after)+len(during)+len(lafter)"
   ]
  },
  {
   "cell_type": "code",
   "execution_count": 14,
   "metadata": {},
   "outputs": [
    {
     "data": {
      "text/plain": [
       "0.15584169664836206"
      ]
     },
     "execution_count": 14,
     "metadata": {},
     "output_type": "execute_result"
    }
   ],
   "source": [
    "len(before)/float(numConvs)"
   ]
  },
  {
   "cell_type": "code",
   "execution_count": 15,
   "metadata": {},
   "outputs": [
    {
     "data": {
      "text/plain": [
       "0.39954554061730735"
      ]
     },
     "execution_count": 15,
     "metadata": {},
     "output_type": "execute_result"
    }
   ],
   "source": [
    "len(during)/float(numConvs)"
   ]
  },
  {
   "cell_type": "code",
   "execution_count": 16,
   "metadata": {},
   "outputs": [
    {
     "data": {
      "text/plain": [
       "0.2685097519409203"
      ]
     },
     "execution_count": 16,
     "metadata": {},
     "output_type": "execute_result"
    }
   ],
   "source": [
    "len(after)/float(numConvs)"
   ]
  },
  {
   "cell_type": "code",
   "execution_count": 17,
   "metadata": {},
   "outputs": [
    {
     "data": {
      "text/plain": [
       "0.17610301079341034"
      ]
     },
     "execution_count": 17,
     "metadata": {},
     "output_type": "execute_result"
    }
   ],
   "source": [
    "len(lafter)/float(numConvs)"
   ]
  },
  {
   "cell_type": "markdown",
   "metadata": {},
   "source": [
    "**So for the ALL conversations:**\n",
    "* 15% happen Before\n",
    "* 40% happen During\n",
    "* 27% happen After\n",
    "* and 18% happen Long After"
   ]
  },
  {
   "cell_type": "code",
   "execution_count": 124,
   "metadata": {},
   "outputs": [
    {
     "data": {
      "text/plain": [
       "0.0036939313984168864"
      ]
     },
     "execution_count": 124,
     "metadata": {},
     "output_type": "execute_result"
    }
   ],
   "source": [
    "len(before[before.ontopicConvo==1])/float(len(convs[convs.ontopicConvo==1]))"
   ]
  },
  {
   "cell_type": "code",
   "execution_count": 125,
   "metadata": {},
   "outputs": [
    {
     "data": {
      "text/plain": [
       "0.7224274406332454"
      ]
     },
     "execution_count": 125,
     "metadata": {},
     "output_type": "execute_result"
    }
   ],
   "source": [
    "len(during[during.ontopicConvo==1])/float(len(convs[convs.ontopicConvo==1]))"
   ]
  },
  {
   "cell_type": "code",
   "execution_count": 126,
   "metadata": {},
   "outputs": [
    {
     "data": {
      "text/plain": [
       "0.21055408970976253"
      ]
     },
     "execution_count": 126,
     "metadata": {},
     "output_type": "execute_result"
    }
   ],
   "source": [
    "len(after[after.ontopicConvo==1])/float(len(convs[convs.ontopicConvo==1]))"
   ]
  },
  {
   "cell_type": "code",
   "execution_count": 127,
   "metadata": {},
   "outputs": [
    {
     "data": {
      "text/plain": [
       "0.04802110817941953"
      ]
     },
     "execution_count": 127,
     "metadata": {},
     "output_type": "execute_result"
    }
   ],
   "source": [
    "len(lafter[lafter.ontopicConvo==1])/float(len(convs[convs.ontopicConvo==1]))"
   ]
  },
  {
   "cell_type": "markdown",
   "metadata": {},
   "source": [
    "##### **Ontopic Conversations:**\n",
    "* Are non-existant in Before (people didn't know yet)\n",
    "* Are over-represented in During - 72% of ontopic conversations fall into During, whereas only 39% of all coded conversations happen in During\n",
    "* Are slighlty under-represented in After and especially Long After (21% and 5% compared to 27% and 18% for all coded)"
   ]
  },
  {
   "cell_type": "code",
   "execution_count": 128,
   "metadata": {},
   "outputs": [
    {
     "data": {
      "text/plain": [
       "0.00850546780072904"
      ]
     },
     "execution_count": 128,
     "metadata": {},
     "output_type": "execute_result"
    }
   ],
   "source": [
    "len(before[before.ontopicConvo==1])/float(len(before))"
   ]
  },
  {
   "cell_type": "code",
   "execution_count": 129,
   "metadata": {},
   "outputs": [
    {
     "data": {
      "text/plain": [
       "0.6488151658767772"
      ]
     },
     "execution_count": 129,
     "metadata": {},
     "output_type": "execute_result"
    }
   ],
   "source": [
    "len(during[during.ontopicConvo==1])/float(len(during))"
   ]
  },
  {
   "cell_type": "code",
   "execution_count": 130,
   "metadata": {},
   "outputs": [
    {
     "data": {
      "text/plain": [
       "0.28138222849083216"
      ]
     },
     "execution_count": 130,
     "metadata": {},
     "output_type": "execute_result"
    }
   ],
   "source": [
    "len(after[after.ontopicConvo==1])/float(len(after))"
   ]
  },
  {
   "cell_type": "code",
   "execution_count": 131,
   "metadata": {},
   "outputs": [
    {
     "data": {
      "text/plain": [
       "0.0978494623655914"
      ]
     },
     "execution_count": 131,
     "metadata": {},
     "output_type": "execute_result"
    }
   ],
   "source": [
    "len(lafter[lafter.ontopicConvo==1])/float(len(lafter))"
   ]
  },
  {
   "cell_type": "markdown",
   "metadata": {},
   "source": [
    "**Takeway:**\n",
    "* Ontopic conversations comprise 65% of all the During conversations"
   ]
  },
  {
   "cell_type": "markdown",
   "metadata": {},
   "source": [
    "#### Chi-square"
   ]
  },
  {
   "cell_type": "code",
   "execution_count": 44,
   "metadata": {},
   "outputs": [
    {
     "data": {
      "text/plain": [
       "7"
      ]
     },
     "execution_count": 44,
     "metadata": {},
     "output_type": "execute_result"
    }
   ],
   "source": [
    "b_on=len(before[before.ontopicConvo==1])"
   ]
  },
  {
   "cell_type": "code",
   "execution_count": 45,
   "metadata": {},
   "outputs": [
    {
     "data": {
      "text/plain": [
       "1369"
      ]
     },
     "execution_count": 45,
     "metadata": {},
     "output_type": "execute_result"
    }
   ],
   "source": [
    "d_on=len(during[during.ontopicConvo==1])"
   ]
  },
  {
   "cell_type": "code",
   "execution_count": 46,
   "metadata": {},
   "outputs": [
    {
     "data": {
      "text/plain": [
       "399"
      ]
     },
     "execution_count": 46,
     "metadata": {},
     "output_type": "execute_result"
    }
   ],
   "source": [
    "a_on=len(after[after.ontopicConvo==1])"
   ]
  },
  {
   "cell_type": "code",
   "execution_count": 47,
   "metadata": {},
   "outputs": [
    {
     "data": {
      "text/plain": [
       "91"
      ]
     },
     "execution_count": 47,
     "metadata": {},
     "output_type": "execute_result"
    }
   ],
   "source": [
    "la_on=len(lafter[lafter.ontopicConvo==1])"
   ]
  },
  {
   "cell_type": "code",
   "execution_count": 48,
   "metadata": {},
   "outputs": [
    {
     "data": {
      "text/plain": [
       "816"
      ]
     },
     "execution_count": 48,
     "metadata": {},
     "output_type": "execute_result"
    }
   ],
   "source": [
    "b_off=len(before[before.ontopicConvo==0])"
   ]
  },
  {
   "cell_type": "code",
   "execution_count": 49,
   "metadata": {},
   "outputs": [
    {
     "data": {
      "text/plain": [
       "741"
      ]
     },
     "execution_count": 49,
     "metadata": {},
     "output_type": "execute_result"
    }
   ],
   "source": [
    "d_off=len(during[during.ontopicConvo==0])"
   ]
  },
  {
   "cell_type": "code",
   "execution_count": 50,
   "metadata": {},
   "outputs": [
    {
     "data": {
      "text/plain": [
       "1019"
      ]
     },
     "execution_count": 50,
     "metadata": {},
     "output_type": "execute_result"
    }
   ],
   "source": [
    "a_off=len(after[after.ontopicConvo==0])"
   ]
  },
  {
   "cell_type": "code",
   "execution_count": 51,
   "metadata": {},
   "outputs": [
    {
     "data": {
      "text/plain": [
       "839"
      ]
     },
     "execution_count": 51,
     "metadata": {},
     "output_type": "execute_result"
    }
   ],
   "source": [
    "la_off=len(lafter[lafter.ontopicConvo==0])"
   ]
  },
  {
   "cell_type": "code",
   "execution_count": 33,
   "metadata": {
    "collapsed": true
   },
   "outputs": [],
   "source": [
    "N=len(before)+len(during)+len(after)+len(lafter)"
   ]
  },
  {
   "cell_type": "code",
   "execution_count": 35,
   "metadata": {
    "collapsed": true
   },
   "outputs": [],
   "source": [
    "exp_b_on=len(before)*len(convs[convs.ontopicConvo==1])/N"
   ]
  },
  {
   "cell_type": "code",
   "execution_count": 36,
   "metadata": {
    "collapsed": true
   },
   "outputs": [],
   "source": [
    "exp_d_on=len(during)*len(convs[convs.ontopicConvo==1])/N"
   ]
  },
  {
   "cell_type": "code",
   "execution_count": 37,
   "metadata": {
    "collapsed": true
   },
   "outputs": [],
   "source": [
    "exp_a_on=len(after)*len(convs[convs.ontopicConvo==1])/N"
   ]
  },
  {
   "cell_type": "code",
   "execution_count": 38,
   "metadata": {
    "collapsed": true
   },
   "outputs": [],
   "source": [
    "exp_la_on=len(lafter)*len(convs[convs.ontopicConvo==1])/N"
   ]
  },
  {
   "cell_type": "code",
   "execution_count": 39,
   "metadata": {
    "collapsed": true
   },
   "outputs": [],
   "source": [
    "exp_b_off=len(before)*len(convs[convs.ontopicConvo==0])/N"
   ]
  },
  {
   "cell_type": "code",
   "execution_count": 40,
   "metadata": {
    "collapsed": true
   },
   "outputs": [],
   "source": [
    "exp_d_off=len(during)*len(convs[convs.ontopicConvo==0])/N"
   ]
  },
  {
   "cell_type": "code",
   "execution_count": 41,
   "metadata": {
    "collapsed": true
   },
   "outputs": [],
   "source": [
    "exp_a_off=len(after)*len(convs[convs.ontopicConvo==0])/N"
   ]
  },
  {
   "cell_type": "code",
   "execution_count": 42,
   "metadata": {
    "collapsed": true
   },
   "outputs": [],
   "source": [
    "exp_la_off=len(lafter)*len(convs[convs.ontopicConvo==0])/N"
   ]
  },
  {
   "cell_type": "code",
   "execution_count": 43,
   "metadata": {},
   "outputs": [
    {
     "data": {
      "text/plain": [
       "(1511.6265446086304, 0.0)"
      ]
     },
     "execution_count": 43,
     "metadata": {},
     "output_type": "execute_result"
    }
   ],
   "source": [
    "st.chisquare([b_on, d_on, a_on, la_on, b_off,d_off,a_off,la_off],f_exp=[exp_b_on,exp_d_on,exp_a_on,exp_la_on,exp_b_off,exp_d_off,exp_a_off,exp_la_off])"
   ]
  },
  {
   "cell_type": "markdown",
   "metadata": {},
   "source": [
    "## Conversation size, length, and tempo for ontopic vs offtopic conversations"
   ]
  },
  {
   "cell_type": "code",
   "execution_count": 132,
   "metadata": {},
   "outputs": [
    {
     "data": {
      "text/plain": [
       "2.0"
      ]
     },
     "execution_count": 132,
     "metadata": {},
     "output_type": "execute_result"
    }
   ],
   "source": [
    "np.median(convs.convSize[convs.ontopicConvo==1])"
   ]
  },
  {
   "cell_type": "code",
   "execution_count": 133,
   "metadata": {},
   "outputs": [
    {
     "data": {
      "text/plain": [
       "2.0"
      ]
     },
     "execution_count": 133,
     "metadata": {},
     "output_type": "execute_result"
    }
   ],
   "source": [
    "np.median(convs.convSize[convs.ontopicConvo==0])"
   ]
  },
  {
   "cell_type": "code",
   "execution_count": 134,
   "metadata": {},
   "outputs": [
    {
     "data": {
      "text/plain": [
       "4.0"
      ]
     },
     "execution_count": 134,
     "metadata": {},
     "output_type": "execute_result"
    }
   ],
   "source": [
    "np.percentile(convs.convSize[convs.ontopicConvo==1], 90)"
   ]
  },
  {
   "cell_type": "markdown",
   "metadata": {},
   "source": [
    "**THIS CHANGED!!!!!**"
   ]
  },
  {
   "cell_type": "code",
   "execution_count": 135,
   "metadata": {},
   "outputs": [
    {
     "data": {
      "text/plain": [
       "4.0"
      ]
     },
     "execution_count": 135,
     "metadata": {},
     "output_type": "execute_result"
    }
   ],
   "source": [
    "np.percentile(convs.convSize[convs.ontopicConvo==0], 90)"
   ]
  },
  {
   "cell_type": "code",
   "execution_count": 20,
   "metadata": {},
   "outputs": [
    {
     "data": {
      "text/plain": [
       "<matplotlib.text.Text at 0x7f1abca59c88>"
      ]
     },
     "execution_count": 20,
     "metadata": {},
     "output_type": "execute_result"
    },
    {
     "data": {
      "image/png": "[encoded data removed]",
      "text/plain": [
       "<matplotlib.figure.Figure at 0x7f1aba0c22b0>"
      ]
     },
     "metadata": {},
     "output_type": "display_data"
    }
   ],
   "source": [
    "topConvoLen = convs.convoLen[convs.ontopicConvo==1].dropna().tolist()\n",
    "bins=np.logspace(0, int(np.log(max(topConvoLen))), 100)\n",
    "width=bins[1:]-bins[:-1]\n",
    "h, b=np.histogram(topConvoLen,bins)\n",
    "h=h/float(sum(h))\n",
    "plt.bar(b[:-1], h, width, color='c')\n",
    "#plt.plot(bins[:-1], fit[:-1]*width, linewidth=2)\n",
    "plt.gca().set_xscale(\"log\")\n",
    "plt.xlim(xmin=0,xmax=10**6.5)\n",
    "plt.ylim(ymin=0, ymax=0.08)\n",
    "plt.title('Ontopic conversation lengths in seconds')"
   ]
  },
  {
   "cell_type": "code",
   "execution_count": 21,
   "metadata": {},
   "outputs": [
    {
     "data": {
      "text/plain": [
       "858.0"
      ]
     },
     "execution_count": 21,
     "metadata": {},
     "output_type": "execute_result"
    }
   ],
   "source": [
    "np.median(topConvoLen)"
   ]
  },
  {
   "cell_type": "code",
   "execution_count": 18,
   "metadata": {},
   "outputs": [
    {
     "data": {
      "text/plain": [
       "<matplotlib.text.Text at 0x7f1abcc368d0>"
      ]
     },
     "execution_count": 18,
     "metadata": {},
     "output_type": "execute_result"
    },
    {
     "data": {
      "image/png": "[encoded data removed]",
      "text/plain": [
       "<matplotlib.figure.Figure at 0x7f1abcca6da0>"
      ]
     },
     "metadata": {},
     "output_type": "display_data"
    }
   ],
   "source": [
    "nontopConvoLen = convs.convoLen[convs.ontopicConvo==0].dropna().tolist()\n",
    "bins=np.logspace(0, int(np.log(max(nontopConvoLen))), 100)\n",
    "width=bins[1:]-bins[:-1]\n",
    "h, b=np.histogram(nontopConvoLen,bins)\n",
    "h=h/float(sum(h))\n",
    "plt.bar(b[:-1], h, width, color='c')\n",
    "#plt.plot(bins[:-1], fit[:-1]*width, linewidth=2)\n",
    "plt.gca().set_xscale(\"log\")\n",
    "plt.xlim(xmin=0,xmax=10**6.5)\n",
    "plt.ylim(ymin=0, ymax=0.08)\n",
    "plt.title('Offtopic conversation lengths in seconds')"
   ]
  },
  {
   "cell_type": "code",
   "execution_count": 19,
   "metadata": {},
   "outputs": [
    {
     "data": {
      "text/plain": [
       "671.0"
      ]
     },
     "execution_count": 19,
     "metadata": {},
     "output_type": "execute_result"
    }
   ],
   "source": [
    "np.median(nontopConvoLen)"
   ]
  },
  {
   "cell_type": "code",
   "execution_count": 22,
   "metadata": {},
   "outputs": [
    {
     "data": {
      "text/plain": [
       "<matplotlib.text.Text at 0x7f1aba00b630>"
      ]
     },
     "execution_count": 22,
     "metadata": {},
     "output_type": "execute_result"
    },
    {
     "data": {
      "image/png": "[encoded data removed]",
      "text/plain": [
       "<matplotlib.figure.Figure at 0x7f1abca77748>"
      ]
     },
     "metadata": {},
     "output_type": "display_data"
    }
   ],
   "source": [
    "topMedRepTime=convs.medianReplyTime[convs.ontopicConvo==1].dropna().tolist()\n",
    "bins=np.logspace(0, int(np.log(max(topMedRepTime))), 100)\n",
    "width=bins[1:]-bins[:-1]\n",
    "h, b=np.histogram(topMedRepTime,bins)\n",
    "h=h/float(sum(h))\n",
    "plt.bar(b[:-1], h, width, color='c')\n",
    "#plt.plot(bins[:-1], fit[:-1]*width, linewidth=2)\n",
    "plt.gca().set_xscale(\"log\")\n",
    "plt.xlim(xmin=0,xmax=10**6.5)\n",
    "plt.ylim(ymin=0, ymax=0.08)\n",
    "plt.title('Median time (s) between turns in ontopic conversations')"
   ]
  },
  {
   "cell_type": "code",
   "execution_count": 23,
   "metadata": {},
   "outputs": [
    {
     "data": {
      "text/plain": [
       "498.75"
      ]
     },
     "execution_count": 23,
     "metadata": {},
     "output_type": "execute_result"
    }
   ],
   "source": [
    "np.median(topMedRepTime)"
   ]
  },
  {
   "cell_type": "code",
   "execution_count": 24,
   "metadata": {},
   "outputs": [
    {
     "data": {
      "text/plain": [
       "<matplotlib.text.Text at 0x7f1ab9d97be0>"
      ]
     },
     "execution_count": 24,
     "metadata": {},
     "output_type": "execute_result"
    },
    {
     "data": {
      "image/png": "[encoded data removed]",
      "text/plain": [
       "<matplotlib.figure.Figure at 0x7f1ab9bb4710>"
      ]
     },
     "metadata": {},
     "output_type": "display_data"
    }
   ],
   "source": [
    "nontopMedRepTime=convs.medianReplyTime[convs.ontopicConvo==0].dropna().tolist()\n",
    "bins=np.logspace(0, int(np.log(max(nontopMedRepTime))), 100)\n",
    "width=bins[1:]-bins[:-1]\n",
    "h, b=np.histogram(nontopMedRepTime,bins)\n",
    "h=h/float(sum(h))\n",
    "plt.bar(b[:-1], h, width, color='c')\n",
    "#plt.plot(bins[:-1], fit[:-1]*width, linewidth=2)\n",
    "plt.gca().set_xscale(\"log\")\n",
    "plt.xlim(xmin=0,xmax=10**6.5)\n",
    "plt.ylim(ymin=0, ymax=0.08)\n",
    "plt.title('Median time (s) between turns in offtopic conversations')"
   ]
  },
  {
   "cell_type": "code",
   "execution_count": 25,
   "metadata": {},
   "outputs": [
    {
     "data": {
      "text/plain": [
       "402.0"
      ]
     },
     "execution_count": 25,
     "metadata": {},
     "output_type": "execute_result"
    }
   ],
   "source": [
    "np.median(nontopMedRepTime)"
   ]
  },
  {
   "cell_type": "code",
   "execution_count": 26,
   "metadata": {},
   "outputs": [
    {
     "data": {
      "text/plain": [
       "MannwhitneyuResult(statistic=3040391.0, pvalue=7.933040094171022e-06)"
      ]
     },
     "execution_count": 26,
     "metadata": {},
     "output_type": "execute_result"
    }
   ],
   "source": [
    "st.mannwhitneyu(nontopConvoLen, topConvoLen)"
   ]
  },
  {
   "cell_type": "code",
   "execution_count": 27,
   "metadata": {},
   "outputs": [
    {
     "data": {
      "text/plain": [
       "MannwhitneyuResult(statistic=3066680.0, pvalue=7.2595378003012929e-05)"
      ]
     },
     "execution_count": 27,
     "metadata": {},
     "output_type": "execute_result"
    }
   ],
   "source": [
    "st.mannwhitneyu(nontopMedRepTime,topMedRepTime)"
   ]
  },
  {
   "cell_type": "markdown",
   "metadata": {},
   "source": [
    "## Ontopic conversations and user configurations"
   ]
  },
  {
   "cell_type": "code",
   "execution_count": 52,
   "metadata": {
    "collapsed": true
   },
   "outputs": [],
   "source": [
    "ontopic=convs[convs.ontopicConvo==1]"
   ]
  },
  {
   "cell_type": "code",
   "execution_count": 53,
   "metadata": {
    "collapsed": true
   },
   "outputs": [],
   "source": [
    "offtopic=convs[convs.ontopicConvo==0]"
   ]
  },
  {
   "cell_type": "markdown",
   "metadata": {},
   "source": [
    "#### Check distribution for user configurations for the ONTOPIC conversations"
   ]
  },
  {
   "cell_type": "code",
   "execution_count": 149,
   "metadata": {},
   "outputs": [
    {
     "data": {
      "text/plain": [
       "0.1467018469656992"
      ]
     },
     "execution_count": 149,
     "metadata": {},
     "output_type": "execute_result"
    }
   ],
   "source": [
    "len(ontopic[ontopic.userSetLen==1])/float(len(ontopic))"
   ]
  },
  {
   "cell_type": "code",
   "execution_count": 150,
   "metadata": {},
   "outputs": [
    {
     "data": {
      "text/plain": [
       "0.8211081794195251"
      ]
     },
     "execution_count": 150,
     "metadata": {},
     "output_type": "execute_result"
    }
   ],
   "source": [
    "len(ontopic[ontopic.userSetLen==2])/float(len(ontopic))"
   ]
  },
  {
   "cell_type": "code",
   "execution_count": 151,
   "metadata": {},
   "outputs": [
    {
     "data": {
      "text/plain": [
       "0.03218997361477573"
      ]
     },
     "execution_count": 151,
     "metadata": {},
     "output_type": "execute_result"
    }
   ],
   "source": [
    "len(ontopic[ontopic.userSetLen>2])/float(len(ontopic))"
   ]
  },
  {
   "cell_type": "markdown",
   "metadata": {},
   "source": [
    "** Ontopic conversations:**\n",
    "* Are under-represnted among the monologs (15% instead of 25% in overall/coded)\n",
    "* Are over-represented among the dialogs (82% instead of 73% in overall/coded)\n",
    "* And very slightly overrpresented among the group discussions(3% vs 2% in overall/coded)"
   ]
  },
  {
   "cell_type": "code",
   "execution_count": 152,
   "metadata": {},
   "outputs": [
    {
     "data": {
      "text/plain": [
       "0.3065123010130246"
      ]
     },
     "execution_count": 152,
     "metadata": {},
     "output_type": "execute_result"
    }
   ],
   "source": [
    "len(offtopic[offtopic.userSetLen==1])/float(len(offtopic))"
   ]
  },
  {
   "cell_type": "code",
   "execution_count": 153,
   "metadata": {},
   "outputs": [
    {
     "data": {
      "text/plain": [
       "0.6850940665701881"
      ]
     },
     "execution_count": 153,
     "metadata": {},
     "output_type": "execute_result"
    }
   ],
   "source": [
    "len(offtopic[offtopic.userSetLen==2])/float(len(offtopic))"
   ]
  },
  {
   "cell_type": "code",
   "execution_count": 154,
   "metadata": {},
   "outputs": [
    {
     "data": {
      "text/plain": [
       "0.008393632416787264"
      ]
     },
     "execution_count": 154,
     "metadata": {},
     "output_type": "execute_result"
    }
   ],
   "source": [
    "len(offtopic[offtopic.userSetLen>2])/float(len(offtopic))"
   ]
  },
  {
   "cell_type": "markdown",
   "metadata": {},
   "source": [
    "** Off-topic conversations:**\n",
    "* Are over-represnted among the monologs (31% instead of 25% in overall/coded)\n",
    "* Are under-represented among the dialogs (68% instead of 73% in overall/coded)\n",
    "* And very slightly under-rpresented among the group discussions (1% vs 2% in overall/coded)"
   ]
  },
  {
   "cell_type": "code",
   "execution_count": 155,
   "metadata": {},
   "outputs": [
    {
     "data": {
      "text/plain": [
       "0.20792819745699326"
      ]
     },
     "execution_count": 155,
     "metadata": {},
     "output_type": "execute_result"
    }
   ],
   "source": [
    "len(ontopic[ontopic.userSetLen==1])/float(len(convs[convs.userSetLen==1]))"
   ]
  },
  {
   "cell_type": "code",
   "execution_count": 156,
   "metadata": {},
   "outputs": [
    {
     "data": {
      "text/plain": [
       "0.39663522814172825"
      ]
     },
     "execution_count": 156,
     "metadata": {},
     "output_type": "execute_result"
    }
   ],
   "source": [
    "len(ontopic[ontopic.userSetLen==2])/float(len(convs[convs.userSetLen==2]))"
   ]
  },
  {
   "cell_type": "code",
   "execution_count": 157,
   "metadata": {},
   "outputs": [
    {
     "data": {
      "text/plain": [
       "0.6777777777777778"
      ]
     },
     "execution_count": 157,
     "metadata": {},
     "output_type": "execute_result"
    }
   ],
   "source": [
    "len(ontopic[ontopic.userSetLen>2])/float(len(convs[convs.userSetLen>2]))"
   ]
  },
  {
   "cell_type": "code",
   "execution_count": 158,
   "metadata": {},
   "outputs": [
    {
     "data": {
      "text/plain": [
       "0.7920718025430067"
      ]
     },
     "execution_count": 158,
     "metadata": {},
     "output_type": "execute_result"
    }
   ],
   "source": [
    "len(offtopic[offtopic.userSetLen==1])/float(len(convs[convs.userSetLen==1]))"
   ]
  },
  {
   "cell_type": "code",
   "execution_count": 159,
   "metadata": {},
   "outputs": [
    {
     "data": {
      "text/plain": [
       "0.6033647718582718"
      ]
     },
     "execution_count": 159,
     "metadata": {},
     "output_type": "execute_result"
    }
   ],
   "source": [
    "len(offtopic[offtopic.userSetLen==2])/float(len(convs[convs.userSetLen==2]))"
   ]
  },
  {
   "cell_type": "code",
   "execution_count": 160,
   "metadata": {},
   "outputs": [
    {
     "data": {
      "text/plain": [
       "0.32222222222222224"
      ]
     },
     "execution_count": 160,
     "metadata": {},
     "output_type": "execute_result"
    }
   ],
   "source": [
    "len(offtopic[offtopic.userSetLen>2])/float(len(convs[convs.userSetLen>2]))"
   ]
  },
  {
   "cell_type": "markdown",
   "metadata": {},
   "source": [
    "** On-topic conversations:**\n",
    "* Make up 21% of monologs\n",
    "* Make up 40% of dialogs\n",
    "* And makeup 69% of group chats\n",
    "\n",
    "** Off-topic conversations:**\n",
    "* Make up 79% of monologs\n",
    "* Make up 60% of dialogs\n",
    "* And makeup 32% of group chats\n",
    "\n",
    "\n",
    "* So monologs tend to be off-topic (self-correction in most cases)\n",
    "* Dialogs are still more often off-topic (60%) than on (40%), but dialogs are much more often on-topic than monologs\n",
    "* And most group conversations are on-topic"
   ]
  },
  {
   "cell_type": "code",
   "execution_count": 54,
   "metadata": {},
   "outputs": [
    {
     "data": {
      "text/plain": [
       "278"
      ]
     },
     "execution_count": 54,
     "metadata": {},
     "output_type": "execute_result"
    }
   ],
   "source": [
    "on_mono=len(ontopic[ontopic.userSetLen==1])"
   ]
  },
  {
   "cell_type": "code",
   "execution_count": 55,
   "metadata": {},
   "outputs": [
    {
     "data": {
      "text/plain": [
       "1556"
      ]
     },
     "execution_count": 55,
     "metadata": {},
     "output_type": "execute_result"
    }
   ],
   "source": [
    "on_dia=len(ontopic[ontopic.userSetLen==2])"
   ]
  },
  {
   "cell_type": "code",
   "execution_count": 56,
   "metadata": {},
   "outputs": [
    {
     "data": {
      "text/plain": [
       "61"
      ]
     },
     "execution_count": 56,
     "metadata": {},
     "output_type": "execute_result"
    }
   ],
   "source": [
    "on_group=len(ontopic[ontopic.userSetLen>2])"
   ]
  },
  {
   "cell_type": "code",
   "execution_count": 57,
   "metadata": {},
   "outputs": [
    {
     "data": {
      "text/plain": [
       "1059"
      ]
     },
     "execution_count": 57,
     "metadata": {},
     "output_type": "execute_result"
    }
   ],
   "source": [
    "off_mono=len(offtopic[offtopic.userSetLen==1])"
   ]
  },
  {
   "cell_type": "code",
   "execution_count": 58,
   "metadata": {},
   "outputs": [
    {
     "data": {
      "text/plain": [
       "2367"
      ]
     },
     "execution_count": 58,
     "metadata": {},
     "output_type": "execute_result"
    }
   ],
   "source": [
    "off_dia=len(offtopic[offtopic.userSetLen==2])"
   ]
  },
  {
   "cell_type": "code",
   "execution_count": 59,
   "metadata": {},
   "outputs": [
    {
     "data": {
      "text/plain": [
       "29"
      ]
     },
     "execution_count": 59,
     "metadata": {},
     "output_type": "execute_result"
    }
   ],
   "source": [
    "off_group=len(offtopic[offtopic.userSetLen>2])"
   ]
  },
  {
   "cell_type": "markdown",
   "metadata": {},
   "source": [
    "## Ontopic/offtopic conversations and high-follower users"
   ]
  },
  {
   "cell_type": "code",
   "execution_count": 161,
   "metadata": {},
   "outputs": [
    {
     "data": {
      "text/plain": [
       "0.2594568380213385"
      ]
     },
     "execution_count": 161,
     "metadata": {},
     "output_type": "execute_result"
    }
   ],
   "source": [
    "len(ontopic[ontopic.allHighFollowUsers==0])/float(len(convs[convs.allHighFollowUsers==0]))"
   ]
  },
  {
   "cell_type": "code",
   "execution_count": 162,
   "metadata": {},
   "outputs": [
    {
     "data": {
      "text/plain": [
       "0.41362530413625304"
      ]
     },
     "execution_count": 162,
     "metadata": {},
     "output_type": "execute_result"
    }
   ],
   "source": [
    "len(ontopic[ontopic.allHighFollowUsers>0])/float(len(convs[convs.allHighFollowUsers>0]))"
   ]
  },
  {
   "cell_type": "code",
   "execution_count": 163,
   "metadata": {},
   "outputs": [
    {
     "data": {
      "text/plain": [
       "0.7405431619786615"
      ]
     },
     "execution_count": 163,
     "metadata": {},
     "output_type": "execute_result"
    }
   ],
   "source": [
    "len(offtopic[offtopic.allHighFollowUsers==0])/float(len(convs[convs.allHighFollowUsers==0]))"
   ]
  },
  {
   "cell_type": "code",
   "execution_count": 164,
   "metadata": {},
   "outputs": [
    {
     "data": {
      "text/plain": [
       "0.5863746958637469"
      ]
     },
     "execution_count": 164,
     "metadata": {},
     "output_type": "execute_result"
    }
   ],
   "source": [
    "len(offtopic[offtopic.allHighFollowUsers>0])/float(len(convs[convs.allHighFollowUsers>0]))"
   ]
  },
  {
   "cell_type": "markdown",
   "metadata": {},
   "source": [
    "** Conversations with NO Popular Users:**\n",
    "* Are 26% on-topic\n",
    "* And 74% off-topic\n",
    "\n",
    "** Conversations with Popular Users:**\n",
    "* Are 41% on-topic\n",
    "* And 59% off-topic\n",
    "\n",
    "\n",
    "* So conversations with Popular Users are more likely to be on-topic\n",
    "* These are often news and government accounts that provide official information\n",
    "* So conversations with them are more likely to be ontopic\n",
    "* JUST represent ontopic % in the TEXT"
   ]
  },
  {
   "cell_type": "markdown",
   "metadata": {},
   "source": [
    "### Ontopic and high-followers over time"
   ]
  },
  {
   "cell_type": "code",
   "execution_count": 165,
   "metadata": {},
   "outputs": [
    {
     "data": {
      "text/plain": [
       "0.004860267314702308"
      ]
     },
     "execution_count": 165,
     "metadata": {},
     "output_type": "execute_result"
    }
   ],
   "source": [
    "len(before[(before.ontopicConvo==1) & (before.allHighFollowUsers>0)])/float(len(before.allHighFollowUsers>0))"
   ]
  },
  {
   "cell_type": "code",
   "execution_count": 166,
   "metadata": {},
   "outputs": [
    {
     "data": {
      "text/plain": [
       "0.46208530805687204"
      ]
     },
     "execution_count": 166,
     "metadata": {},
     "output_type": "execute_result"
    }
   ],
   "source": [
    "len(during[(during.ontopicConvo==1) & (during.allHighFollowUsers>0)])/float(len(during.allHighFollowUsers>0))"
   ]
  },
  {
   "cell_type": "code",
   "execution_count": 167,
   "metadata": {},
   "outputs": [
    {
     "data": {
      "text/plain": [
       "0.2066290550070522"
      ]
     },
     "execution_count": 167,
     "metadata": {},
     "output_type": "execute_result"
    }
   ],
   "source": [
    "len(after[(after.ontopicConvo==1) & (after.allHighFollowUsers>0)])/float(len(after.allHighFollowUsers>0))"
   ]
  },
  {
   "cell_type": "code",
   "execution_count": 168,
   "metadata": {},
   "outputs": [
    {
     "data": {
      "text/plain": [
       "0.07419354838709677"
      ]
     },
     "execution_count": 168,
     "metadata": {},
     "output_type": "execute_result"
    }
   ],
   "source": [
    "len(lafter[(lafter.ontopicConvo==1) & (lafter.allHighFollowUsers>0)])/float(len(lafter.allHighFollowUsers>0))"
   ]
  },
  {
   "cell_type": "markdown",
   "metadata": {},
   "source": [
    "**Over Time Periods:**\n",
    "* Conversations with Popular Users are most often on-topic in the During period (46% of During conversations with Popular Users)\n",
    "* Less frequently after (21% of After conversations with Popular Users)\n",
    "* And only 7% for Long After conversations with Popular Users\n",
    "* Again, this points to the fact the Popular users with whom the geo-vulnerable engage during are carriers of relevant information\n",
    "* Represent as BAR CHART - this and below?"
   ]
  },
  {
   "cell_type": "code",
   "execution_count": 169,
   "metadata": {},
   "outputs": [
    {
     "data": {
      "text/plain": [
       "0.0036452004860267314"
      ]
     },
     "execution_count": 169,
     "metadata": {},
     "output_type": "execute_result"
    }
   ],
   "source": [
    "len(before[(before.ontopicConvo==1) & (before.allHighFollowUsers==0)])/float(len(before.allHighFollowUsers==0))"
   ]
  },
  {
   "cell_type": "code",
   "execution_count": 170,
   "metadata": {},
   "outputs": [
    {
     "data": {
      "text/plain": [
       "0.18672985781990523"
      ]
     },
     "execution_count": 170,
     "metadata": {},
     "output_type": "execute_result"
    }
   ],
   "source": [
    "len(during[(during.ontopicConvo==1) & (during.allHighFollowUsers==0)])/float(len(during.allHighFollowUsers==0))"
   ]
  },
  {
   "cell_type": "code",
   "execution_count": 171,
   "metadata": {},
   "outputs": [
    {
     "data": {
      "text/plain": [
       "0.07475317348377997"
      ]
     },
     "execution_count": 171,
     "metadata": {},
     "output_type": "execute_result"
    }
   ],
   "source": [
    "len(after[(after.ontopicConvo==1) & (after.allHighFollowUsers==0)])/float(len(after.allHighFollowUsers==0))"
   ]
  },
  {
   "cell_type": "code",
   "execution_count": 172,
   "metadata": {},
   "outputs": [
    {
     "data": {
      "text/plain": [
       "0.023655913978494623"
      ]
     },
     "execution_count": 172,
     "metadata": {},
     "output_type": "execute_result"
    }
   ],
   "source": [
    "len(lafter[(lafter.ontopicConvo==1) & (lafter.allHighFollowUsers==0)])/float(len(lafter.allHighFollowUsers==0))"
   ]
  },
  {
   "cell_type": "markdown",
   "metadata": {},
   "source": [
    "* Conversations with NO Popular users are also most often on-topic During, but with only 18% of these conversations being on-topic in that time period"
   ]
  },
  {
   "cell_type": "markdown",
   "metadata": {},
   "source": [
    "## Ontopic/offtopic conversations and freq conversationalists"
   ]
  },
  {
   "cell_type": "code",
   "execution_count": 173,
   "metadata": {},
   "outputs": [
    {
     "data": {
      "text/plain": [
       "0.37386215864759426"
      ]
     },
     "execution_count": 173,
     "metadata": {},
     "output_type": "execute_result"
    }
   ],
   "source": [
    "len(ontopic[ontopic.strongTiesAllUsers<2])/float(len(convs[convs.strongTiesAllUsers<2]))"
   ]
  },
  {
   "cell_type": "code",
   "execution_count": 174,
   "metadata": {},
   "outputs": [
    {
     "data": {
      "text/plain": [
       "0.3276165347405453"
      ]
     },
     "execution_count": 174,
     "metadata": {},
     "output_type": "execute_result"
    }
   ],
   "source": [
    "len(ontopic[ontopic.strongTiesAllUsers>1])/float(len(convs[convs.strongTiesAllUsers>1]))"
   ]
  },
  {
   "cell_type": "code",
   "execution_count": 175,
   "metadata": {},
   "outputs": [
    {
     "data": {
      "text/plain": [
       "0.6261378413524057"
      ]
     },
     "execution_count": 175,
     "metadata": {},
     "output_type": "execute_result"
    }
   ],
   "source": [
    "len(offtopic[offtopic.strongTiesAllUsers<2])/float(len(convs[convs.strongTiesAllUsers<2]))"
   ]
  },
  {
   "cell_type": "code",
   "execution_count": 176,
   "metadata": {},
   "outputs": [
    {
     "data": {
      "text/plain": [
       "0.6723834652594547"
      ]
     },
     "execution_count": 176,
     "metadata": {},
     "output_type": "execute_result"
    }
   ],
   "source": [
    "len(offtopic[offtopic.strongTiesAllUsers>1])/float(len(convs[convs.strongTiesAllUsers>1]))"
   ]
  },
  {
   "cell_type": "markdown",
   "metadata": {},
   "source": [
    "**Conversations with less-than-two \"freq conv\" users:**\n",
    "* Are 37% on-topic\n",
    "* 63% on-topic\n",
    "\n",
    "**Conversation with two-or-more \"freq conv\" users:**\n",
    "* Are 33% on-topic\n",
    "* 67% off-topic\n",
    "\n",
    "\n",
    "* Not a strong difference (CHECK if stat sig)\n",
    "* But it seems that conversation with less-than-two thick reply tie users are a bit more often on topic"
   ]
  },
  {
   "cell_type": "code",
   "execution_count": 60,
   "metadata": {},
   "outputs": [
    {
     "data": {
      "text/plain": [
       "1150"
      ]
     },
     "execution_count": 60,
     "metadata": {},
     "output_type": "execute_result"
    }
   ],
   "source": [
    "len(ontopic[ontopic.strongTiesAllUsers<2])"
   ]
  },
  {
   "cell_type": "code",
   "execution_count": 61,
   "metadata": {},
   "outputs": [
    {
     "data": {
      "text/plain": [
       "745"
      ]
     },
     "execution_count": 61,
     "metadata": {},
     "output_type": "execute_result"
    }
   ],
   "source": [
    "len(ontopic[ontopic.strongTiesAllUsers>1])"
   ]
  },
  {
   "cell_type": "code",
   "execution_count": 62,
   "metadata": {},
   "outputs": [
    {
     "data": {
      "text/plain": [
       "1926"
      ]
     },
     "execution_count": 62,
     "metadata": {},
     "output_type": "execute_result"
    }
   ],
   "source": [
    "len(offtopic[offtopic.strongTiesAllUsers<2])"
   ]
  },
  {
   "cell_type": "code",
   "execution_count": 63,
   "metadata": {},
   "outputs": [
    {
     "data": {
      "text/plain": [
       "1529"
      ]
     },
     "execution_count": 63,
     "metadata": {},
     "output_type": "execute_result"
    }
   ],
   "source": [
    "len(offtopic[offtopic.strongTiesAllUsers>1])"
   ]
  },
  {
   "cell_type": "markdown",
   "metadata": {},
   "source": [
    "<img src=\"../data/ChiSqOntopicFreqConversationist.png\" width=500>"
   ]
  },
  {
   "cell_type": "markdown",
   "metadata": {},
   "source": [
    "### Check with some vs none (as opposed to 0-1 vs >1)"
   ]
  },
  {
   "cell_type": "code",
   "execution_count": 177,
   "metadata": {},
   "outputs": [
    {
     "data": {
      "text/plain": [
       "0.4151436031331593"
      ]
     },
     "execution_count": 177,
     "metadata": {},
     "output_type": "execute_result"
    }
   ],
   "source": [
    "len(ontopic[ontopic.strongTiesAllUsers==0])/float(len(convs[convs.strongTiesAllUsers==0]))"
   ]
  },
  {
   "cell_type": "code",
   "execution_count": 178,
   "metadata": {},
   "outputs": [
    {
     "data": {
      "text/plain": [
       "0.3297537977998952"
      ]
     },
     "execution_count": 178,
     "metadata": {},
     "output_type": "execute_result"
    }
   ],
   "source": [
    "len(ontopic[ontopic.strongTiesAllUsers>0])/float(len(convs[convs.strongTiesAllUsers>0]))"
   ]
  },
  {
   "cell_type": "markdown",
   "metadata": {},
   "source": [
    "**This makes the difference STRONGER:**\n",
    "* 42% of conversations with no thick-reply-tie users are on-topic\n",
    "* And 33% of conversations with thick-reply-tie users are on-topic"
   ]
  },
  {
   "cell_type": "code",
   "execution_count": 179,
   "metadata": {},
   "outputs": [
    {
     "data": {
      "text/plain": [
       "0.6068601583113457"
      ]
     },
     "execution_count": 179,
     "metadata": {},
     "output_type": "execute_result"
    }
   ],
   "source": [
    "len(ontopic[ontopic.strongTiesAllUsers<2])/float(len(ontopic))"
   ]
  },
  {
   "cell_type": "code",
   "execution_count": 180,
   "metadata": {},
   "outputs": [
    {
     "data": {
      "text/plain": [
       "0.39313984168865435"
      ]
     },
     "execution_count": 180,
     "metadata": {},
     "output_type": "execute_result"
    }
   ],
   "source": [
    "len(ontopic[ontopic.strongTiesAllUsers>1])/float(len(ontopic))"
   ]
  },
  {
   "cell_type": "markdown",
   "metadata": {},
   "source": [
    "### Excluding high follower-count users"
   ]
  },
  {
   "cell_type": "code",
   "execution_count": 181,
   "metadata": {},
   "outputs": [
    {
     "data": {
      "text/plain": [
       "0.26241660489251295"
      ]
     },
     "execution_count": 181,
     "metadata": {},
     "output_type": "execute_result"
    }
   ],
   "source": [
    "len(ontopic[(ontopic.strongTiesAllUsers<2) & (ontopic.allHighFollowUsers==0)])/float(len(convs[(convs.strongTiesAllUsers<2) & (convs.allHighFollowUsers==0)]))"
   ]
  },
  {
   "cell_type": "code",
   "execution_count": 182,
   "metadata": {},
   "outputs": [
    {
     "data": {
      "text/plain": [
       "0.2538569424964937"
      ]
     },
     "execution_count": 182,
     "metadata": {},
     "output_type": "execute_result"
    }
   ],
   "source": [
    "len(ontopic[(ontopic.strongTiesAllUsers>1)&(ontopic.allHighFollowUsers==0)])/float(len(convs[(convs.strongTiesAllUsers>1)&(convs.allHighFollowUsers==0)]))"
   ]
  },
  {
   "cell_type": "markdown",
   "metadata": {},
   "source": [
    "### Ontopic and frequent conversationalists over time"
   ]
  },
  {
   "cell_type": "markdown",
   "metadata": {},
   "source": [
    "#### Many freq conv tie users"
   ]
  },
  {
   "cell_type": "code",
   "execution_count": 191,
   "metadata": {},
   "outputs": [
    {
     "data": {
      "text/plain": [
       "0.004860267314702308"
      ]
     },
     "execution_count": 191,
     "metadata": {},
     "output_type": "execute_result"
    }
   ],
   "source": [
    "len(before[(before.ontopicConvo==1) & (before.strongTiesAllUsers>1)])/float(len(before.strongTiesAllUsers>1))"
   ]
  },
  {
   "cell_type": "code",
   "execution_count": 192,
   "metadata": {},
   "outputs": [
    {
     "data": {
      "text/plain": [
       "0.24454976303317535"
      ]
     },
     "execution_count": 192,
     "metadata": {},
     "output_type": "execute_result"
    }
   ],
   "source": [
    "len(during[(during.ontopicConvo==1) & (during.strongTiesAllUsers>1)])/float(len(during.strongTiesAllUsers>1))"
   ]
  },
  {
   "cell_type": "code",
   "execution_count": 193,
   "metadata": {},
   "outputs": [
    {
     "data": {
      "text/plain": [
       "0.11988716502115655"
      ]
     },
     "execution_count": 193,
     "metadata": {},
     "output_type": "execute_result"
    }
   ],
   "source": [
    "len(after[(after.ontopicConvo==1) & (after.strongTiesAllUsers>1)])/float(len(after.strongTiesAllUsers>1))"
   ]
  },
  {
   "cell_type": "code",
   "execution_count": 194,
   "metadata": {},
   "outputs": [
    {
     "data": {
      "text/plain": [
       "0.04838709677419355"
      ]
     },
     "execution_count": 194,
     "metadata": {},
     "output_type": "execute_result"
    }
   ],
   "source": [
    "len(lafter[(lafter.ontopicConvo==1) & (lafter.strongTiesAllUsers>1)])/float(len(lafter.strongTiesAllUsers>1))"
   ]
  },
  {
   "cell_type": "markdown",
   "metadata": {},
   "source": [
    "#### Few freq conv users"
   ]
  },
  {
   "cell_type": "code",
   "execution_count": 195,
   "metadata": {},
   "outputs": [
    {
     "data": {
      "text/plain": [
       "0.0036452004860267314"
      ]
     },
     "execution_count": 195,
     "metadata": {},
     "output_type": "execute_result"
    }
   ],
   "source": [
    "len(before[(before.ontopicConvo==1) & (before.strongTiesAllUsers<2)])/float(len(before.strongTiesAllUsers<2))"
   ]
  },
  {
   "cell_type": "code",
   "execution_count": 196,
   "metadata": {},
   "outputs": [
    {
     "data": {
      "text/plain": [
       "0.4042654028436019"
      ]
     },
     "execution_count": 196,
     "metadata": {},
     "output_type": "execute_result"
    }
   ],
   "source": [
    "len(during[(during.ontopicConvo==1) & (during.strongTiesAllUsers<2)])/float(len(during.strongTiesAllUsers<2))"
   ]
  },
  {
   "cell_type": "code",
   "execution_count": 197,
   "metadata": {},
   "outputs": [
    {
     "data": {
      "text/plain": [
       "0.1614950634696756"
      ]
     },
     "execution_count": 197,
     "metadata": {},
     "output_type": "execute_result"
    }
   ],
   "source": [
    "len(after[(after.ontopicConvo==1) & (after.strongTiesAllUsers<2)])/float(len(after.strongTiesAllUsers<2))"
   ]
  },
  {
   "cell_type": "code",
   "execution_count": 198,
   "metadata": {},
   "outputs": [
    {
     "data": {
      "text/plain": [
       "0.04946236559139785"
      ]
     },
     "execution_count": 198,
     "metadata": {},
     "output_type": "execute_result"
    }
   ],
   "source": [
    "len(lafter[(lafter.ontopicConvo==1) & (lafter.strongTiesAllUsers<2)])/float(len(lafter.strongTiesAllUsers<2))"
   ]
  },
  {
   "cell_type": "markdown",
   "metadata": {},
   "source": [
    "#### For Chi-square"
   ]
  },
  {
   "cell_type": "code",
   "execution_count": 64,
   "metadata": {},
   "outputs": [
    {
     "data": {
      "text/plain": [
       "853"
      ]
     },
     "execution_count": 64,
     "metadata": {},
     "output_type": "execute_result"
    }
   ],
   "source": [
    "len(during[(during.ontopicConvo==1)&(during.strongTiesAllUsers<2)])"
   ]
  },
  {
   "cell_type": "code",
   "execution_count": 65,
   "metadata": {},
   "outputs": [
    {
     "data": {
      "text/plain": [
       "414"
      ]
     },
     "execution_count": 65,
     "metadata": {},
     "output_type": "execute_result"
    }
   ],
   "source": [
    "len(during[(during.ontopicConvo==0)&(during.strongTiesAllUsers<2)])"
   ]
  },
  {
   "cell_type": "code",
   "execution_count": 66,
   "metadata": {},
   "outputs": [
    {
     "data": {
      "text/plain": [
       "516"
      ]
     },
     "execution_count": 66,
     "metadata": {},
     "output_type": "execute_result"
    }
   ],
   "source": [
    "len(during[(during.ontopicConvo==1)&(during.strongTiesAllUsers>1)])"
   ]
  },
  {
   "cell_type": "code",
   "execution_count": 67,
   "metadata": {},
   "outputs": [
    {
     "data": {
      "text/plain": [
       "327"
      ]
     },
     "execution_count": 67,
     "metadata": {},
     "output_type": "execute_result"
    }
   ],
   "source": [
    "len(during[(during.ontopicConvo==0)&(during.strongTiesAllUsers>1)])"
   ]
  },
  {
   "cell_type": "markdown",
   "metadata": {},
   "source": [
    "### Check with some vs none (as opposed to 0-1 vs >1)"
   ]
  },
  {
   "cell_type": "markdown",
   "metadata": {},
   "source": [
    "#### Any freq conv users"
   ]
  },
  {
   "cell_type": "code",
   "execution_count": 199,
   "metadata": {},
   "outputs": [
    {
     "data": {
      "text/plain": [
       "0.007290400972053463"
      ]
     },
     "execution_count": 199,
     "metadata": {},
     "output_type": "execute_result"
    }
   ],
   "source": [
    "len(before[(before.ontopicConvo==1) & (before.strongTiesAllUsers>0)])/float(len(before.strongTiesAllUsers>0))"
   ]
  },
  {
   "cell_type": "code",
   "execution_count": 200,
   "metadata": {},
   "outputs": [
    {
     "data": {
      "text/plain": [
       "0.41137440758293836"
      ]
     },
     "execution_count": 200,
     "metadata": {},
     "output_type": "execute_result"
    }
   ],
   "source": [
    "len(during[(during.ontopicConvo==1) & (during.strongTiesAllUsers>0)])/float(len(during.strongTiesAllUsers>0))"
   ]
  },
  {
   "cell_type": "code",
   "execution_count": 201,
   "metadata": {},
   "outputs": [
    {
     "data": {
      "text/plain": [
       "0.2073342736248237"
      ]
     },
     "execution_count": 201,
     "metadata": {},
     "output_type": "execute_result"
    }
   ],
   "source": [
    "len(after[(after.ontopicConvo==1) & (after.strongTiesAllUsers>0)])/float(len(after.strongTiesAllUsers>0))"
   ]
  },
  {
   "cell_type": "code",
   "execution_count": 202,
   "metadata": {},
   "outputs": [
    {
     "data": {
      "text/plain": [
       "0.07419354838709677"
      ]
     },
     "execution_count": 202,
     "metadata": {},
     "output_type": "execute_result"
    }
   ],
   "source": [
    "len(lafter[(lafter.ontopicConvo==1) & (lafter.strongTiesAllUsers>0)])/float(len(lafter.strongTiesAllUsers>0))"
   ]
  },
  {
   "cell_type": "markdown",
   "metadata": {},
   "source": [
    "#### No freq conv users"
   ]
  },
  {
   "cell_type": "code",
   "execution_count": 203,
   "metadata": {},
   "outputs": [
    {
     "data": {
      "text/plain": [
       "0.001215066828675577"
      ]
     },
     "execution_count": 203,
     "metadata": {},
     "output_type": "execute_result"
    }
   ],
   "source": [
    "len(before[(before.ontopicConvo==1) & (before.strongTiesAllUsers==0)])/float(len(before.strongTiesAllUsers==0))"
   ]
  },
  {
   "cell_type": "code",
   "execution_count": 204,
   "metadata": {},
   "outputs": [
    {
     "data": {
      "text/plain": [
       "0.23744075829383887"
      ]
     },
     "execution_count": 204,
     "metadata": {},
     "output_type": "execute_result"
    }
   ],
   "source": [
    "len(during[(during.ontopicConvo==1) & (during.strongTiesAllUsers==0)])/float(len(during.strongTiesAllUsers==0))"
   ]
  },
  {
   "cell_type": "code",
   "execution_count": 205,
   "metadata": {},
   "outputs": [
    {
     "data": {
      "text/plain": [
       "0.07404795486600846"
      ]
     },
     "execution_count": 205,
     "metadata": {},
     "output_type": "execute_result"
    }
   ],
   "source": [
    "len(after[(after.ontopicConvo==1) & (after.strongTiesAllUsers==0)])/float(len(after.strongTiesAllUsers==0))"
   ]
  },
  {
   "cell_type": "code",
   "execution_count": 206,
   "metadata": {},
   "outputs": [
    {
     "data": {
      "text/plain": [
       "0.023655913978494623"
      ]
     },
     "execution_count": 206,
     "metadata": {},
     "output_type": "execute_result"
    }
   ],
   "source": [
    "len(lafter[(lafter.ontopicConvo==1) & (lafter.strongTiesAllUsers==0)])/float(len(lafter.strongTiesAllUsers==0))"
   ]
  },
  {
   "cell_type": "markdown",
   "metadata": {
    "collapsed": true
   },
   "source": [
    "**I'm SO confused!!!:**\n",
    "* I think it's the conversations with freq conv user that decide everything\n",
    "* And depending on how you fold them in you get different results\n",
    "* I think we need to investigate THREE CATEGORY here"
   ]
  },
  {
   "cell_type": "markdown",
   "metadata": {},
   "source": [
    "### With THREE Category"
   ]
  },
  {
   "cell_type": "code",
   "execution_count": 207,
   "metadata": {},
   "outputs": [
    {
     "data": {
      "text/plain": [
       "0.4151436031331593"
      ]
     },
     "execution_count": 207,
     "metadata": {},
     "output_type": "execute_result"
    }
   ],
   "source": [
    "len(ontopic[ontopic.strongTiesAllUsers==0])/float(len(convs[convs.strongTiesAllUsers==0]))"
   ]
  },
  {
   "cell_type": "code",
   "execution_count": 208,
   "metadata": {},
   "outputs": [
    {
     "data": {
      "text/plain": [
       "0.3329015544041451"
      ]
     },
     "execution_count": 208,
     "metadata": {},
     "output_type": "execute_result"
    }
   ],
   "source": [
    "len(ontopic[ontopic.strongTiesAllUsers==1])/float(len(convs[convs.strongTiesAllUsers==1]))"
   ]
  },
  {
   "cell_type": "code",
   "execution_count": 209,
   "metadata": {},
   "outputs": [
    {
     "data": {
      "text/plain": [
       "0.3276165347405453"
      ]
     },
     "execution_count": 209,
     "metadata": {},
     "output_type": "execute_result"
    }
   ],
   "source": [
    "len(ontopic[ontopic.strongTiesAllUsers>1])/float(len(convs[convs.strongTiesAllUsers>1]))"
   ]
  },
  {
   "cell_type": "code",
   "execution_count": 210,
   "metadata": {},
   "outputs": [
    {
     "data": {
      "text/plain": [
       "0.33562005277044854"
      ]
     },
     "execution_count": 210,
     "metadata": {},
     "output_type": "execute_result"
    }
   ],
   "source": [
    "len(ontopic[ontopic.strongTiesAllUsers==0])/float(len(ontopic))"
   ]
  },
  {
   "cell_type": "code",
   "execution_count": 211,
   "metadata": {},
   "outputs": [
    {
     "data": {
      "text/plain": [
       "0.2712401055408971"
      ]
     },
     "execution_count": 211,
     "metadata": {},
     "output_type": "execute_result"
    }
   ],
   "source": [
    "len(ontopic[ontopic.strongTiesAllUsers==1])/float(len(ontopic))"
   ]
  },
  {
   "cell_type": "code",
   "execution_count": 212,
   "metadata": {},
   "outputs": [
    {
     "data": {
      "text/plain": [
       "0.39313984168865435"
      ]
     },
     "execution_count": 212,
     "metadata": {},
     "output_type": "execute_result"
    }
   ],
   "source": [
    "len(ontopic[ontopic.strongTiesAllUsers>1])/float(len(ontopic))"
   ]
  },
  {
   "cell_type": "markdown",
   "metadata": {},
   "source": [
    "#### No freq conv users"
   ]
  },
  {
   "cell_type": "code",
   "execution_count": 213,
   "metadata": {},
   "outputs": [
    {
     "data": {
      "text/plain": [
       "0.001215066828675577"
      ]
     },
     "execution_count": 213,
     "metadata": {},
     "output_type": "execute_result"
    }
   ],
   "source": [
    "len(before[(before.ontopicConvo==1) & (before.strongTiesAllUsers==0)])/float(len(before.strongTiesAllUsers==0))"
   ]
  },
  {
   "cell_type": "code",
   "execution_count": 214,
   "metadata": {},
   "outputs": [
    {
     "data": {
      "text/plain": [
       "0.23744075829383887"
      ]
     },
     "execution_count": 214,
     "metadata": {},
     "output_type": "execute_result"
    }
   ],
   "source": [
    "len(during[(during.ontopicConvo==1) & (during.strongTiesAllUsers==0)])/float(len(during.strongTiesAllUsers==0))"
   ]
  },
  {
   "cell_type": "code",
   "execution_count": 215,
   "metadata": {},
   "outputs": [
    {
     "data": {
      "text/plain": [
       "0.07404795486600846"
      ]
     },
     "execution_count": 215,
     "metadata": {},
     "output_type": "execute_result"
    }
   ],
   "source": [
    "len(after[(after.ontopicConvo==1) & (after.strongTiesAllUsers==0)])/float(len(after.strongTiesAllUsers==0))"
   ]
  },
  {
   "cell_type": "code",
   "execution_count": 216,
   "metadata": {},
   "outputs": [
    {
     "data": {
      "text/plain": [
       "0.023655913978494623"
      ]
     },
     "execution_count": 216,
     "metadata": {},
     "output_type": "execute_result"
    }
   ],
   "source": [
    "len(lafter[(lafter.ontopicConvo==1) & (lafter.strongTiesAllUsers==0)])/float(len(lafter.strongTiesAllUsers==0))"
   ]
  },
  {
   "cell_type": "markdown",
   "metadata": {},
   "source": [
    "#### One freq conversationalist"
   ]
  },
  {
   "cell_type": "code",
   "execution_count": 217,
   "metadata": {},
   "outputs": [
    {
     "data": {
      "text/plain": [
       "0.002430133657351154"
      ]
     },
     "execution_count": 217,
     "metadata": {},
     "output_type": "execute_result"
    }
   ],
   "source": [
    "len(before[(before.ontopicConvo==1) & (before.strongTiesAllUsers==1)])/float(len(before.strongTiesAllUsers==1))"
   ]
  },
  {
   "cell_type": "code",
   "execution_count": 218,
   "metadata": {},
   "outputs": [
    {
     "data": {
      "text/plain": [
       "0.16682464454976303"
      ]
     },
     "execution_count": 218,
     "metadata": {},
     "output_type": "execute_result"
    }
   ],
   "source": [
    "len(during[(during.ontopicConvo==1) & (during.strongTiesAllUsers==1)])/float(len(during.strongTiesAllUsers==1))"
   ]
  },
  {
   "cell_type": "code",
   "execution_count": 219,
   "metadata": {},
   "outputs": [
    {
     "data": {
      "text/plain": [
       "0.08744710860366714"
      ]
     },
     "execution_count": 219,
     "metadata": {},
     "output_type": "execute_result"
    }
   ],
   "source": [
    "len(after[(after.ontopicConvo==1) & (after.strongTiesAllUsers==1)])/float(len(after.strongTiesAllUsers==1))"
   ]
  },
  {
   "cell_type": "code",
   "execution_count": 220,
   "metadata": {},
   "outputs": [
    {
     "data": {
      "text/plain": [
       "0.025806451612903226"
      ]
     },
     "execution_count": 220,
     "metadata": {},
     "output_type": "execute_result"
    }
   ],
   "source": [
    "len(lafter[(lafter.ontopicConvo==1) & (lafter.strongTiesAllUsers==1)])/float(len(lafter.strongTiesAllUsers==1))"
   ]
  },
  {
   "cell_type": "markdown",
   "metadata": {},
   "source": [
    "#### Many freq conv users"
   ]
  },
  {
   "cell_type": "code",
   "execution_count": 221,
   "metadata": {},
   "outputs": [
    {
     "data": {
      "text/plain": [
       "0.004860267314702308"
      ]
     },
     "execution_count": 221,
     "metadata": {},
     "output_type": "execute_result"
    }
   ],
   "source": [
    "len(before[(before.ontopicConvo==1) & (before.strongTiesAllUsers>1)])/float(len(before.strongTiesAllUsers>1))"
   ]
  },
  {
   "cell_type": "code",
   "execution_count": 222,
   "metadata": {},
   "outputs": [
    {
     "data": {
      "text/plain": [
       "0.24454976303317535"
      ]
     },
     "execution_count": 222,
     "metadata": {},
     "output_type": "execute_result"
    }
   ],
   "source": [
    "len(during[(during.ontopicConvo==1) & (during.strongTiesAllUsers>1)])/float(len(during.strongTiesAllUsers>1))"
   ]
  },
  {
   "cell_type": "code",
   "execution_count": 223,
   "metadata": {},
   "outputs": [
    {
     "data": {
      "text/plain": [
       "0.11988716502115655"
      ]
     },
     "execution_count": 223,
     "metadata": {},
     "output_type": "execute_result"
    }
   ],
   "source": [
    "len(after[(after.ontopicConvo==1) & (after.strongTiesAllUsers>1)])/float(len(after.strongTiesAllUsers>1))"
   ]
  },
  {
   "cell_type": "code",
   "execution_count": 224,
   "metadata": {},
   "outputs": [
    {
     "data": {
      "text/plain": [
       "0.04838709677419355"
      ]
     },
     "execution_count": 224,
     "metadata": {},
     "output_type": "execute_result"
    }
   ],
   "source": [
    "len(lafter[(lafter.ontopicConvo==1) & (lafter.strongTiesAllUsers>1)])/float(len(lafter.strongTiesAllUsers>1))"
   ]
  },
  {
   "cell_type": "markdown",
   "metadata": {},
   "source": [
    "## Check if new pairs come up during"
   ]
  },
  {
   "cell_type": "code",
   "execution_count": 33,
   "metadata": {
    "collapsed": true
   },
   "outputs": [],
   "source": [
    "convs.allNames=convs.allNames.apply(lambda x: ast.literal_eval(x))"
   ]
  },
  {
   "cell_type": "code",
   "execution_count": 34,
   "metadata": {
    "collapsed": true
   },
   "outputs": [],
   "source": [
    "convs.allNames=convs.allNames.apply(lambda x: str(sorted(x)))"
   ]
  },
  {
   "cell_type": "code",
   "execution_count": 35,
   "metadata": {},
   "outputs": [
    {
     "data": {
      "text/plain": [
       "823"
      ]
     },
     "execution_count": 35,
     "metadata": {},
     "output_type": "execute_result"
    }
   ],
   "source": [
    "len(before.allNames)"
   ]
  },
  {
   "cell_type": "code",
   "execution_count": 36,
   "metadata": {},
   "outputs": [
    {
     "data": {
      "text/plain": [
       "603"
      ]
     },
     "execution_count": 36,
     "metadata": {},
     "output_type": "execute_result"
    }
   ],
   "source": [
    "len(set(before.allNames))"
   ]
  },
  {
   "cell_type": "markdown",
   "metadata": {},
   "source": [
    "* So coded Before has 823 conversations with 603 unique sets of user"
   ]
  },
  {
   "cell_type": "code",
   "execution_count": 37,
   "metadata": {},
   "outputs": [
    {
     "data": {
      "text/plain": [
       "2110"
      ]
     },
     "execution_count": 37,
     "metadata": {},
     "output_type": "execute_result"
    }
   ],
   "source": [
    "len(during.allNames)"
   ]
  },
  {
   "cell_type": "code",
   "execution_count": 38,
   "metadata": {},
   "outputs": [
    {
     "data": {
      "text/plain": [
       "1516"
      ]
     },
     "execution_count": 38,
     "metadata": {},
     "output_type": "execute_result"
    }
   ],
   "source": [
    "len(set(during.allNames))"
   ]
  },
  {
   "cell_type": "markdown",
   "metadata": {},
   "source": [
    "* So coded Before has 2110 conversations with 1516 unique sets of user"
   ]
  },
  {
   "cell_type": "code",
   "execution_count": 231,
   "metadata": {},
   "outputs": [
    {
     "data": {
      "text/plain": [
       "1418"
      ]
     },
     "execution_count": 231,
     "metadata": {},
     "output_type": "execute_result"
    }
   ],
   "source": [
    "len(after.allNames)"
   ]
  },
  {
   "cell_type": "code",
   "execution_count": 232,
   "metadata": {},
   "outputs": [
    {
     "data": {
      "text/plain": [
       "961"
      ]
     },
     "execution_count": 232,
     "metadata": {},
     "output_type": "execute_result"
    }
   ],
   "source": [
    "len(set(after.allNames))"
   ]
  },
  {
   "cell_type": "code",
   "execution_count": 40,
   "metadata": {},
   "outputs": [
    {
     "data": {
      "text/plain": [
       "0.3416252072968491"
      ]
     },
     "execution_count": 40,
     "metadata": {},
     "output_type": "execute_result"
    }
   ],
   "source": [
    "len(set(before.allNames)& set(during.allNames))/float(len(set(before.allNames)))"
   ]
  },
  {
   "cell_type": "code",
   "execution_count": 234,
   "metadata": {},
   "outputs": [
    {
     "data": {
      "text/plain": [
       "0.23714759535655058"
      ]
     },
     "execution_count": 234,
     "metadata": {},
     "output_type": "execute_result"
    }
   ],
   "source": [
    "len(set(before.allNames)& set(after.allNames))/float(len(set(before.allNames)))"
   ]
  },
  {
   "cell_type": "code",
   "execution_count": 235,
   "metadata": {},
   "outputs": [
    {
     "data": {
      "text/plain": [
       "0.208955223880597"
      ]
     },
     "execution_count": 235,
     "metadata": {},
     "output_type": "execute_result"
    }
   ],
   "source": [
    "len(set(before.allNames)& set(lafter.allNames))/float(len(set(before.allNames)))"
   ]
  },
  {
   "cell_type": "code",
   "execution_count": 236,
   "metadata": {},
   "outputs": [
    {
     "data": {
      "text/plain": [
       "0.19656992084432717"
      ]
     },
     "execution_count": 236,
     "metadata": {},
     "output_type": "execute_result"
    }
   ],
   "source": [
    "len(set(during.allNames) & set(after.allNames))/float(len(set(during.allNames)))"
   ]
  },
  {
   "cell_type": "code",
   "execution_count": 237,
   "metadata": {},
   "outputs": [
    {
     "data": {
      "text/plain": [
       "0.1358839050131926"
      ]
     },
     "execution_count": 237,
     "metadata": {},
     "output_type": "execute_result"
    }
   ],
   "source": [
    "len(set(during.allNames) & set(lafter.allNames))/float(len(set(during.allNames)))"
   ]
  },
  {
   "cell_type": "code",
   "execution_count": 238,
   "metadata": {},
   "outputs": [
    {
     "data": {
      "text/plain": [
       "0.21227887617065558"
      ]
     },
     "execution_count": 238,
     "metadata": {},
     "output_type": "execute_result"
    }
   ],
   "source": [
    "len(set(after.allNames) & set(lafter.allNames))/float(len(set(after.allNames)))"
   ]
  },
  {
   "cell_type": "code",
   "execution_count": 239,
   "metadata": {
    "collapsed": true
   },
   "outputs": [],
   "source": [
    "newFronBtoD=set(during.allNames)-set(before.allNames)"
   ]
  },
  {
   "cell_type": "code",
   "execution_count": 240,
   "metadata": {
    "collapsed": true
   },
   "outputs": [],
   "source": [
    "newDFforBtoD=during[during.allNames.isin(newFronBtoD)]"
   ]
  },
  {
   "cell_type": "code",
   "execution_count": 241,
   "metadata": {
    "collapsed": true
   },
   "outputs": [],
   "source": [
    "tieStrength=newDFforBtoD.strongTiesAllUsers.groupby(newDFforBtoD.allNames).first()"
   ]
  },
  {
   "cell_type": "code",
   "execution_count": 242,
   "metadata": {},
   "outputs": [
    {
     "data": {
      "text/plain": [
       "0.7526717557251908"
      ]
     },
     "execution_count": 242,
     "metadata": {},
     "output_type": "execute_result"
    }
   ],
   "source": [
    "len(tieStrength[tieStrength<2])/float(len(tieStrength))"
   ]
  },
  {
   "cell_type": "markdown",
   "metadata": {},
   "source": [
    "So **75%** of new pairings that emerge from Before to During are with **less than two frequent conversationalists**"
   ]
  },
  {
   "cell_type": "code",
   "execution_count": 243,
   "metadata": {},
   "outputs": [
    {
     "data": {
      "text/plain": [
       "array([[261510871686201345, '2012-10-25 12:53:45', 'rjgoldsborough', ...,\n",
       "        1,\n",
       "        (261510871686201345, 261511065333026819, 261511305444356097, 261514050192670722, 261676431480872960, 261677375350263808, 262658949185150976),\n",
       "        1.0],\n",
       "       [262244577438740480, '2012-10-27 13:29:14', 'davidhorvitz', ..., 0,\n",
       "        (262244577438740480, 262251799594008577), 0.0],\n",
       "       [263712548598190081, '2012-10-31 14:42:25', 'SGottiR', ..., 0,\n",
       "        (263712548598190081, 263713016892248065, 263713107917025280), 1.0],\n",
       "       [263033538545319937, '2012-10-29 17:44:17', 'kessler', ..., 1,\n",
       "        (263033538545319937, 263033997746126848), 0.0],\n",
       "       [262596466143535105, '2012-10-28 12:47:30', 'DeonTheFireGuy', ...,\n",
       "        0, (262596466143535105, 262596604895313923, 262597083071148033),\n",
       "        1.0]], dtype=object)"
      ]
     },
     "execution_count": 243,
     "metadata": {},
     "output_type": "execute_result"
    }
   ],
   "source": [
    "newDFforBtoD.head().values"
   ]
  },
  {
   "cell_type": "markdown",
   "metadata": {},
   "source": [
    "## Look at conversations with Many frequent conversationalists"
   ]
  },
  {
   "cell_type": "code",
   "execution_count": 244,
   "metadata": {
    "collapsed": true
   },
   "outputs": [],
   "source": [
    "manyStrongTie=convs[convs.strongTiesAllUsers>1]"
   ]
  },
  {
   "cell_type": "code",
   "execution_count": 245,
   "metadata": {},
   "outputs": [
    {
     "data": {
      "text/plain": [
       "2274"
      ]
     },
     "execution_count": 245,
     "metadata": {},
     "output_type": "execute_result"
    }
   ],
   "source": [
    "len(manyStrongTie)"
   ]
  },
  {
   "cell_type": "code",
   "execution_count": 246,
   "metadata": {
    "collapsed": true
   },
   "outputs": [],
   "source": [
    "sample=manyStrongTie.head(228)"
   ]
  },
  {
   "cell_type": "code",
   "execution_count": 247,
   "metadata": {},
   "outputs": [
    {
     "name": "stderr",
     "output_type": "stream",
     "text": [
      "/home/mako0970/.local/lib/python2.7/site-packages/pandas/core/indexing.py:260: SettingWithCopyWarning: \n",
      "A value is trying to be set on a copy of a slice from a DataFrame.\n",
      "Try using .loc[row_indexer,col_indexer] = value instead\n",
      "\n",
      "See the caveats in the documentation: http://pandas.pydata.org/pandas-docs/stable/indexing.html#indexing-view-versus-copy\n",
      "  self.obj[key] = _infer_fill_value(value)\n",
      "/home/mako0970/.local/lib/python2.7/site-packages/pandas/core/indexing.py:420: SettingWithCopyWarning: \n",
      "A value is trying to be set on a copy of a slice from a DataFrame.\n",
      "Try using .loc[row_indexer,col_indexer] = value instead\n",
      "\n",
      "See the caveats in the documentation: http://pandas.pydata.org/pandas-docs/stable/indexing.html#indexing-view-versus-copy\n",
      "  self.obj[item] = s\n"
     ]
    }
   ],
   "source": [
    "sample.loc[:,'newInd']=xrange(228)"
   ]
  },
  {
   "cell_type": "code",
   "execution_count": 248,
   "metadata": {},
   "outputs": [
    {
     "data": {
      "text/plain": [
       "array([[266628329531121664, '2012-11-08 14:48:42', 'lupopelupope',\n",
       "        '@LanaStraps @arimwhite @rchieB taras bar downtown? BIRTHDAI WEEKEND HAY',\n",
       "        266628903739719680, '2012-11-08 14:50:59', 'rchieB',\n",
       "        \"@lupopelupope @LanaStraps @arimwhite I'm djing tonight and tomorrow night. #djrichieisabitch she always ruins the bday fun timez. TEQUILA?\",\n",
       "        266628461228072961, '2012-11-08 14:49:13', 'arimwhite',\n",
       "        '@lupopelupope I dig it', 0, '1970-01-01 00:00:00', '0', '0', 0,\n",
       "        '1970-01-01 00:00:00', '0', '0', 0, '1970-01-01 00:00:00', '0',\n",
       "        '0', 0, '1970-01-01 00:00:00', '0', '0', 0, '1970-01-01 00:00:00',\n",
       "        '0', '0', 0, '1970-01-01 00:00:00', '0', '0', 0,\n",
       "        '1970-01-01 00:00:00', '0', '0', 0, '1970-01-01 00:00:00', '0',\n",
       "        '0', 0, '1970-01-01 00:00:00', '0', '0', 0, '1970-01-01 00:00:00',\n",
       "        '0', '0', 0, '1970-01-01 00:00:00', '0', '0', 0,\n",
       "        '1970-01-01 00:00:00', '0', '0', 0, '1970-01-01 00:00:00', '0',\n",
       "        '0', 0, '1970-01-01 00:00:00', '0', '0', 0, '1970-01-01 00:00:00',\n",
       "        '0', '0', 0, '1970-01-01 00:00:00', '0', '0', 0,\n",
       "        '1970-01-01 00:00:00', '0', '0', 0, '1970-01-01 00:00:00', '0',\n",
       "        '0', 0, '1970-01-01 00:00:00', '0', '0', 0, '1970-01-01 00:00:00',\n",
       "        '0', '0', 0, '1970-01-01 00:00:00', '0', '0', 0,\n",
       "        '1970-01-01 00:00:00', '0', '0', 0, '1970-01-01 00:00:00', '0',\n",
       "        '0', 0, '1970-01-01 00:00:00', '0', '0', 0, '1970-01-01 00:00:00',\n",
       "        '0', '0', 0, '1970-01-01 00:00:00', '0', '0', 0,\n",
       "        '1970-01-01 00:00:00', '0', '0', 0, '1970-01-01 00:00:00', '0',\n",
       "        '0', 0, '1970-01-01 00:00:00', '0', '0', 0, '1970-01-01 00:00:00',\n",
       "        '0', '0', 0, '1970-01-01 00:00:00', '0', '0', 0,\n",
       "        '1970-01-01 00:00:00', '0', '0', 0, '1970-01-01 00:00:00', '0',\n",
       "        '0', 0, '1970-01-01 00:00:00', '0', '0', 0, '1970-01-01 00:00:00',\n",
       "        '0', '0', 0, '1970-01-01 00:00:00', '0', '0', 0,\n",
       "        '1970-01-01 00:00:00', '0', '0', 0, '1970-01-01 00:00:00', '0',\n",
       "        '0', 0, '1970-01-01 00:00:00', '0', '0', 0, '1970-01-01 00:00:00',\n",
       "        '0', '0', 0, '1970-01-01 00:00:00', 0, 0, True, 3,\n",
       "        \"['arimwhite', 'lupopelupope', 'rchieB']\", '2012-11-08 14:49:13',\n",
       "        31, 3, 15.5, False, 137.0, 'arimwhite', 'lupopelupope', 'rchieB',\n",
       "        '0', '0', 103.0, 200.0, 212.0, 993.0, 196.0, 397.0, 1173.0, 7135.0,\n",
       "        87.0, 92.0, 699.0, 1506.0, nan, nan, nan, nan, nan, nan, nan, nan,\n",
       "        0, 0, 0, 0, 0, 1, 1, 1, 0, 3,\n",
       "        (266628329531121664, 266628461228072961, 266628903739719680), 0.0,\n",
       "        41]], dtype=object)"
      ]
     },
     "execution_count": 248,
     "metadata": {},
     "output_type": "execute_result"
    }
   ],
   "source": [
    "sample[sample.newInd==41].values"
   ]
  },
  {
   "cell_type": "code",
   "execution_count": 249,
   "metadata": {
    "collapsed": true
   },
   "outputs": [],
   "source": [
    "fewStrongTie=convs[convs.strongTiesAllUsers<=1]"
   ]
  },
  {
   "cell_type": "code",
   "execution_count": 250,
   "metadata": {},
   "outputs": [
    {
     "data": {
      "text/plain": [
       "3076"
      ]
     },
     "execution_count": 250,
     "metadata": {},
     "output_type": "execute_result"
    }
   ],
   "source": [
    "len(fewStrongTie)"
   ]
  },
  {
   "cell_type": "code",
   "execution_count": 251,
   "metadata": {
    "collapsed": true
   },
   "outputs": [],
   "source": [
    "sample=fewStrongTie.head(307)"
   ]
  },
  {
   "cell_type": "code",
   "execution_count": 252,
   "metadata": {
    "collapsed": true
   },
   "outputs": [],
   "source": [
    "sample.loc[:,'newInd']=xrange(307)"
   ]
  },
  {
   "cell_type": "code",
   "execution_count": 249,
   "metadata": {},
   "outputs": [
    {
     "data": {
      "text/plain": [
       "array([[258968704287637504, '2012-10-18 16:32:05', 'kkoopers',\n",
       "        '@blockedbyleann  hear that @leannrimes @marcelpariseau? Seriously Marcel, UR the worst PR rep.',\n",
       "        258968922290806784, '2012-10-18 16:32:57', 'kkoopers',\n",
       "        \"@kkoopers @blockedbyleann @leannrimes @MarcelPariseau Isn't ur job to advise ur client so they look good to the public, not to be a yes man?\",\n",
       "        0, '0', '0', '0', 0, '0', '0', '0', 0, '0', '0', '0', 0, '0', '0',\n",
       "        '0', 0, '0', '0', '0', 0, '0', '0', '0', 0, '0', '0', '0', 0, '0',\n",
       "        '0', '0', 0, '0', '0', '0', 0, '0', '0', '0', 0, '0', '0', '0', 0,\n",
       "        '0', '0', '0', 0, '0', '0', '0', 0, '0', '0', '0', 0, '0', '0',\n",
       "        '0', 0, '0', '0', '0', 0, '0', '0', '0', 0, '0', '0', '0', 0, '0',\n",
       "        '0', '0', 0, '0', '0', '0', 0, '0', '0', '0', 0, '0', '0', '0', 0,\n",
       "        '0', '0', '0', 0, '0', '0', '0', 0, '0', '0', '0', 0, '0', '0',\n",
       "        '0', 0, '0', '0', '0', 0, '0', '0', '0', 0, '0', '0', '0', 0, '0',\n",
       "        '0', '0', 0, '0', '0', '0', 0, '0', '0', '0', 0, '0', '0', '0', 0,\n",
       "        '0', '0', '0', 0, '0', '0', '0', 0, '0', '0', '0', 0, '0', '0',\n",
       "        '0', 0, '0', '0', '0', 0, '0', '0', '0', 0, '0', '0', '0', 0, '0',\n",
       "        '0', '0', 0, 0, 0, 0, False, 2, ['kkoopers'],\n",
       "        '2012-10-18 16:32:57', 52, 1, 52.0, False, 52.0, 'kkoopers', '0',\n",
       "        '0', '0', '0', 262.0, 792.0, 30.0, 1916.0, nan, nan, nan, nan, nan,\n",
       "        nan, nan, nan, nan, nan, nan, nan, nan, nan, nan, nan, 0, 0, 0, 0,\n",
       "        0, 1, 0, 0, 0, 1, '(258968704287637504, 258968922290806784)', 76.0,\n",
       "        0.0, 37]], dtype=object)"
      ]
     },
     "execution_count": 249,
     "metadata": {},
     "output_type": "execute_result"
    }
   ],
   "source": [
    "sample[sample.newInd==37].values"
   ]
  },
  {
   "cell_type": "markdown",
   "metadata": {},
   "source": [
    "## Links New to During"
   ]
  },
  {
   "cell_type": "code",
   "execution_count": 253,
   "metadata": {},
   "outputs": [
    {
     "data": {
      "text/plain": [
       "1673"
      ]
     },
     "execution_count": 253,
     "metadata": {},
     "output_type": "execute_result"
    }
   ],
   "source": [
    "len(newDFforBtoD)"
   ]
  },
  {
   "cell_type": "code",
   "execution_count": 254,
   "metadata": {
    "collapsed": true
   },
   "outputs": [],
   "source": [
    "sample=newDFforBtoD.head(164)"
   ]
  },
  {
   "cell_type": "code",
   "execution_count": 255,
   "metadata": {
    "collapsed": true
   },
   "outputs": [],
   "source": [
    "sample.loc[:,'newInd']=xrange(164)"
   ]
  },
  {
   "cell_type": "code",
   "execution_count": 256,
   "metadata": {},
   "outputs": [
    {
     "data": {
      "text/plain": [
       "array([[262944034715205632, '2012-10-29 11:48:37', 'NYCMayorsOffice',\n",
       "        \"Mayor: City government is open for business today. We're here to serve New Yorkers when they need help. #Sandy\",\n",
       "        262951049957089280, '2012-10-29 12:16:30', 'porcinea',\n",
       "        \". @NYCMayorsOffice what are you doing for inmates on Riker's island, which is in zone A, but has not been evacuated?\",\n",
       "        0, '1970-01-01 00:00:00', '0', '0', 0, '1970-01-01 00:00:00', '0',\n",
       "        '0', 0, '1970-01-01 00:00:00', '0', '0', 0, '1970-01-01 00:00:00',\n",
       "        '0', '0', 0, '1970-01-01 00:00:00', '0', '0', 0,\n",
       "        '1970-01-01 00:00:00', '0', '0', 0, '1970-01-01 00:00:00', '0',\n",
       "        '0', 0, '1970-01-01 00:00:00', '0', '0', 0, '1970-01-01 00:00:00',\n",
       "        '0', '0', 0, '1970-01-01 00:00:00', '0', '0', 0,\n",
       "        '1970-01-01 00:00:00', '0', '0', 0, '1970-01-01 00:00:00', '0',\n",
       "        '0', 0, '1970-01-01 00:00:00', '0', '0', 0, '1970-01-01 00:00:00',\n",
       "        '0', '0', 0, '1970-01-01 00:00:00', '0', '0', 0,\n",
       "        '1970-01-01 00:00:00', '0', '0', 0, '1970-01-01 00:00:00', '0',\n",
       "        '0', 0, '1970-01-01 00:00:00', '0', '0', 0, '1970-01-01 00:00:00',\n",
       "        '0', '0', 0, '1970-01-01 00:00:00', '0', '0', 0,\n",
       "        '1970-01-01 00:00:00', '0', '0', 0, '1970-01-01 00:00:00', '0',\n",
       "        '0', 0, '1970-01-01 00:00:00', '0', '0', 0, '1970-01-01 00:00:00',\n",
       "        '0', '0', 0, '1970-01-01 00:00:00', '0', '0', 0,\n",
       "        '1970-01-01 00:00:00', '0', '0', 0, '1970-01-01 00:00:00', '0',\n",
       "        '0', 0, '1970-01-01 00:00:00', '0', '0', 0, '1970-01-01 00:00:00',\n",
       "        '0', '0', 0, '1970-01-01 00:00:00', '0', '0', 0,\n",
       "        '1970-01-01 00:00:00', '0', '0', 0, '1970-01-01 00:00:00', '0',\n",
       "        '0', 0, '1970-01-01 00:00:00', '0', '0', 0, '1970-01-01 00:00:00',\n",
       "        '0', '0', 0, '1970-01-01 00:00:00', '0', '0', 0,\n",
       "        '1970-01-01 00:00:00', '0', '0', 0, '1970-01-01 00:00:00', '0',\n",
       "        '0', 0, '1970-01-01 00:00:00', '0', '0', 0, '1970-01-01 00:00:00',\n",
       "        '0', '0', 0, '1970-01-01 00:00:00', '0', '0', 0,\n",
       "        '1970-01-01 00:00:00', '0', '0', 0, '1970-01-01 00:00:00', 0, 0,\n",
       "        False, 2, \"['porcinea', 'NYCMayorsOffice']\", '2012-10-29 12:16:30',\n",
       "        1673, 2, 1673.0, False, 1673.0, 'porcinea', 'NYCMayorsOffice', '0',\n",
       "        '0', '0', 273.0, 362.0, 10.0, 22139.0, 144023.0, 406.0, 16.0,\n",
       "        5525.0, nan, nan, nan, nan, nan, nan, nan, nan, nan, nan, nan, nan,\n",
       "        0, 1, 0, 0, 1, 0, 0, 0, 0, 0,\n",
       "        (262944034715205632, 262951049957089280), 1.0, 148]], dtype=object)"
      ]
     },
     "execution_count": 256,
     "metadata": {},
     "output_type": "execute_result"
    }
   ],
   "source": [
    "sample[sample.newInd==148].values"
   ]
  },
  {
   "cell_type": "code",
   "execution_count": null,
   "metadata": {
    "collapsed": true
   },
   "outputs": [],
   "source": []
  }
 ],
 "metadata": {
  "kernelspec": {
   "display_name": "Python 3",
   "language": "python",
   "name": "python3"
  },
  "language_info": {
   "codemirror_mode": {
    "name": "ipython",
    "version": 3
   },
   "file_extension": ".py",
   "mimetype": "text/x-python",
   "name": "python",
   "nbconvert_exporter": "python",
   "pygments_lexer": "ipython3",
   "version": "3.5.2"
  }
 },
 "nbformat": 4,
 "nbformat_minor": 1
}
