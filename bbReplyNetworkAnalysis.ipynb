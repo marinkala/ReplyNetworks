{
 "cells": [
  {
   "cell_type": "code",
   "execution_count": 116,
   "metadata": {
    "collapsed": true
   },
   "outputs": [],
   "source": [
    "import pandas as pd\n",
    "import numpy as np\n",
    "import networkx as nx\n",
    "import collections as c\n",
    "import matplotlib.pyplot as plt\n",
    "from operator import truediv\n",
    "\n",
    "%matplotlib inline"
   ]
  },
  {
   "cell_type": "code",
   "execution_count": 2,
   "metadata": {
    "collapsed": false
   },
   "outputs": [
    {
     "name": "stderr",
     "output_type": "stream",
     "text": [
      "/home/mako0970/.local/lib/python2.7/site-packages/IPython/core/interactiveshell.py:2902: DtypeWarning: Columns (124,125,127,128,129,131,132,133,135,136,137,139,140,141,143,144,145,147,148,149,151,152,153,155,156,157,159,160,161,163,164,165,167,168,169,171,172,173,175,176,177,179,180,181,183,184,185,187,188,189,191,192,193) have mixed types. Specify dtype option on import or set low_memory=False.\n",
      "  interactivity=interactivity, compiler=compiler, result=result)\n"
     ]
    }
   ],
   "source": [
    "df=pd.read_csv('../data/bbAllConvoLinesDFmore.csv',sep=';')"
   ]
  },
  {
   "cell_type": "code",
   "execution_count": 3,
   "metadata": {
    "collapsed": false
   },
   "outputs": [
    {
     "data": {
      "text/plain": [
       "10373"
      ]
     },
     "execution_count": 3,
     "metadata": {},
     "output_type": "execute_result"
    }
   ],
   "source": [
    "len(df)"
   ]
  },
  {
   "cell_type": "code",
   "execution_count": 11,
   "metadata": {
    "collapsed": false
   },
   "outputs": [
    {
     "data": {
      "text/plain": [
       "Index([u'Unnamed: 0', u'id', u'username', u'user_id', u'geo_enabled',\n",
       "       u'followCount', u'friendCount', u'faveCount', u'tweetCount', u'date',\n",
       "       ...\n",
       "       u'reply43OrigText', u'reply43OrigReplyWhat', u'reply43OrigReplyWho',\n",
       "       u'dateObj', u'repSecDiff', u'repSet', u'lenRepSet', u'convNames',\n",
       "       u'convStart', u'branchConvo'],\n",
       "      dtype='object', length=203)"
      ]
     },
     "execution_count": 11,
     "metadata": {},
     "output_type": "execute_result"
    }
   ],
   "source": [
    "df.columns"
   ]
  },
  {
   "cell_type": "markdown",
   "metadata": {},
   "source": [
    "### Limit data to the time frame of analysis"
   ]
  },
  {
   "cell_type": "code",
   "execution_count": 12,
   "metadata": {
    "collapsed": true
   },
   "outputs": [],
   "source": [
    "df=df[(pd.to_datetime(df.replyOrigTime)>=pd.to_datetime('2012-10-15 00:00:00')) & (pd.to_datetime(df.date)<pd.to_datetime('2012-11-23 00:00:00'))]"
   ]
  },
  {
   "cell_type": "code",
   "execution_count": 33,
   "metadata": {
    "collapsed": false
   },
   "outputs": [
    {
     "data": {
      "text/plain": [
       "8846"
      ]
     },
     "execution_count": 33,
     "metadata": {},
     "output_type": "execute_result"
    }
   ],
   "source": [
    "len(df)"
   ]
  },
  {
   "cell_type": "code",
   "execution_count": 13,
   "metadata": {
    "collapsed": true
   },
   "outputs": [],
   "source": [
    "userEdgeList=df[['username', 'replyWho']]"
   ]
  },
  {
   "cell_type": "code",
   "execution_count": 36,
   "metadata": {
    "collapsed": false
   },
   "outputs": [],
   "source": [
    "weighted=userEdgeList.groupby(['username', 'replyWho']).size()"
   ]
  },
  {
   "cell_type": "code",
   "execution_count": 39,
   "metadata": {
    "collapsed": true
   },
   "outputs": [],
   "source": [
    "weighted.to_csv('../data/replyUserNetOverall.csv',sep=',', header=False, index=True)"
   ]
  },
  {
   "cell_type": "code",
   "execution_count": 15,
   "metadata": {
    "collapsed": false
   },
   "outputs": [],
   "source": [
    "before=df[(pd.to_datetime(df.replyOrigTime)>=pd.to_datetime('2012-10-15 00:00:00')) & (pd.to_datetime(df.date)<pd.to_datetime('2012-10-25 00:00:00'))]"
   ]
  },
  {
   "cell_type": "code",
   "execution_count": 17,
   "metadata": {
    "collapsed": false
   },
   "outputs": [],
   "source": [
    "during=df[(pd.to_datetime(df.replyOrigTime)>=pd.to_datetime('2012-10-25 00:00:00')) & (pd.to_datetime(df.date)<pd.to_datetime('2012-11-04 00:00:00'))]"
   ]
  },
  {
   "cell_type": "code",
   "execution_count": 19,
   "metadata": {
    "collapsed": false
   },
   "outputs": [],
   "source": [
    "after=df[(pd.to_datetime(df.replyOrigTime)>=pd.to_datetime('2012-11-04 00:00:00')) & (pd.to_datetime(df.date)<pd.to_datetime('2012-11-14 00:00:00'))]"
   ]
  },
  {
   "cell_type": "code",
   "execution_count": 20,
   "metadata": {
    "collapsed": true
   },
   "outputs": [],
   "source": [
    "lafter=df[(pd.to_datetime(df.replyOrigTime)>=pd.to_datetime('2012-11-14 00:00:00')) & (pd.to_datetime(df.date)<pd.to_datetime('2012-11-23 00:00:00'))]"
   ]
  },
  {
   "cell_type": "code",
   "execution_count": 21,
   "metadata": {
    "collapsed": true
   },
   "outputs": [],
   "source": [
    "bUserEdgeList=before[['username', 'replyWho']]"
   ]
  },
  {
   "cell_type": "code",
   "execution_count": 40,
   "metadata": {
    "collapsed": true
   },
   "outputs": [],
   "source": [
    "bWeighted=bUserEdgeList.groupby(['username', 'replyWho']).size()"
   ]
  },
  {
   "cell_type": "code",
   "execution_count": 41,
   "metadata": {
    "collapsed": true
   },
   "outputs": [],
   "source": [
    "bWeighted.to_csv('../data/replyUserNetBefore.csv',sep=',', header=False, index=True)"
   ]
  },
  {
   "cell_type": "code",
   "execution_count": 23,
   "metadata": {
    "collapsed": true
   },
   "outputs": [],
   "source": [
    "dUserEdgeList=during[['username', 'replyWho']]"
   ]
  },
  {
   "cell_type": "code",
   "execution_count": 42,
   "metadata": {
    "collapsed": true
   },
   "outputs": [],
   "source": [
    "dWeighted=dUserEdgeList.groupby(['username', 'replyWho']).size()"
   ]
  },
  {
   "cell_type": "code",
   "execution_count": 43,
   "metadata": {
    "collapsed": true
   },
   "outputs": [],
   "source": [
    "dWeighted.to_csv('../data/replyUserNetDuring.csv',sep=',', header=False, index=True)"
   ]
  },
  {
   "cell_type": "code",
   "execution_count": 25,
   "metadata": {
    "collapsed": true
   },
   "outputs": [],
   "source": [
    "aUserEdgeList=after[['username', 'replyWho']]"
   ]
  },
  {
   "cell_type": "code",
   "execution_count": 44,
   "metadata": {
    "collapsed": true
   },
   "outputs": [],
   "source": [
    "aWeighted=aUserEdgeList.groupby(['username', 'replyWho']).size()"
   ]
  },
  {
   "cell_type": "code",
   "execution_count": 45,
   "metadata": {
    "collapsed": true
   },
   "outputs": [],
   "source": [
    "aWeighted.to_csv('../data/replyUserNetAfter.csv',sep=',', header=False, index=True)"
   ]
  },
  {
   "cell_type": "code",
   "execution_count": 27,
   "metadata": {
    "collapsed": true
   },
   "outputs": [],
   "source": [
    "laUserEdgeList=lafter[['username', 'replyWho']]"
   ]
  },
  {
   "cell_type": "code",
   "execution_count": 46,
   "metadata": {
    "collapsed": true
   },
   "outputs": [],
   "source": [
    "laWeighted=laUserEdgeList.groupby(['username', 'replyWho']).size()"
   ]
  },
  {
   "cell_type": "code",
   "execution_count": 47,
   "metadata": {
    "collapsed": true
   },
   "outputs": [],
   "source": [
    "laWeighted.to_csv('../data/replyUserNetLafter.csv',sep=',', header=False, index=True)"
   ]
  },
  {
   "cell_type": "markdown",
   "metadata": {},
   "source": [
    "## Overall network analysis"
   ]
  },
  {
   "cell_type": "code",
   "execution_count": 48,
   "metadata": {
    "collapsed": true
   },
   "outputs": [],
   "source": [
    "G=nx.read_weighted_edgelist('../data/replyUserNetOverall.csv',delimiter=',',create_using=nx.DiGraph())"
   ]
  },
  {
   "cell_type": "code",
   "execution_count": 49,
   "metadata": {
    "collapsed": false
   },
   "outputs": [
    {
     "data": {
      "text/plain": [
       "2755"
      ]
     },
     "execution_count": 49,
     "metadata": {},
     "output_type": "execute_result"
    }
   ],
   "source": [
    "len(G)"
   ]
  },
  {
   "cell_type": "code",
   "execution_count": 50,
   "metadata": {
    "collapsed": false
   },
   "outputs": [
    {
     "data": {
      "text/plain": [
       "3755"
      ]
     },
     "execution_count": 50,
     "metadata": {},
     "output_type": "execute_result"
    }
   ],
   "source": [
    "G.number_of_edges()"
   ]
  },
  {
   "cell_type": "code",
   "execution_count": 67,
   "metadata": {
    "collapsed": false
   },
   "outputs": [],
   "source": [
    "str_comps=nx.strongly_connected_component_subgraphs(G)"
   ]
  },
  {
   "cell_type": "code",
   "execution_count": 68,
   "metadata": {
    "collapsed": false
   },
   "outputs": [
    {
     "data": {
      "text/plain": [
       "1865"
      ]
     },
     "execution_count": 68,
     "metadata": {},
     "output_type": "execute_result"
    }
   ],
   "source": [
    "len(list(str_comps))"
   ]
  },
  {
   "cell_type": "code",
   "execution_count": 59,
   "metadata": {
    "collapsed": false
   },
   "outputs": [],
   "source": [
    "weak_comps=nx.weakly_connected_component_subgraphs(G)"
   ]
  },
  {
   "cell_type": "code",
   "execution_count": 60,
   "metadata": {
    "collapsed": false
   },
   "outputs": [
    {
     "data": {
      "text/plain": [
       "1046"
      ]
     },
     "execution_count": 60,
     "metadata": {},
     "output_type": "execute_result"
    }
   ],
   "source": [
    "len(list(weak_comps))"
   ]
  },
  {
   "cell_type": "code",
   "execution_count": 70,
   "metadata": {
    "collapsed": true
   },
   "outputs": [],
   "source": [
    "strong=sorted(nx.strongly_connected_component_subgraphs(G), key = len, reverse=True)"
   ]
  },
  {
   "cell_type": "code",
   "execution_count": 73,
   "metadata": {
    "collapsed": false
   },
   "outputs": [
    {
     "data": {
      "text/plain": [
       "289"
      ]
     },
     "execution_count": 73,
     "metadata": {},
     "output_type": "execute_result"
    }
   ],
   "source": [
    "len(strong[0])"
   ]
  },
  {
   "cell_type": "code",
   "execution_count": 74,
   "metadata": {
    "collapsed": true
   },
   "outputs": [],
   "source": [
    "weak=sorted(nx.weakly_connected_component_subgraphs(G), key = len, reverse=True)"
   ]
  },
  {
   "cell_type": "code",
   "execution_count": 75,
   "metadata": {
    "collapsed": false
   },
   "outputs": [
    {
     "data": {
      "text/plain": [
       "992"
      ]
     },
     "execution_count": 75,
     "metadata": {},
     "output_type": "execute_result"
    }
   ],
   "source": [
    "len(weak[0])"
   ]
  },
  {
   "cell_type": "code",
   "execution_count": 80,
   "metadata": {
    "collapsed": false
   },
   "outputs": [
    {
     "data": {
      "text/plain": [
       "0.3600725952813067"
      ]
     },
     "execution_count": 80,
     "metadata": {},
     "output_type": "execute_result"
    }
   ],
   "source": [
    "len(weak[0])/float(len(G))"
   ]
  },
  {
   "cell_type": "code",
   "execution_count": 81,
   "metadata": {
    "collapsed": false
   },
   "outputs": [
    {
     "data": {
      "text/plain": [
       "0.10490018148820326"
      ]
     },
     "execution_count": 81,
     "metadata": {},
     "output_type": "execute_result"
    }
   ],
   "source": [
    "len(strong[0])/float(len(G))"
   ]
  },
  {
   "cell_type": "markdown",
   "metadata": {},
   "source": [
    "**Takeway:**\n",
    "* More than one third of the local users talk to each other in some way (over the whole time period)\n",
    "* 10% of the local users talk to each other so you can get to them from one reply to another\n",
    "* Considering that these are replies (not mentions, not RTs) - this is pretty remarkable"
   ]
  },
  {
   "cell_type": "code",
   "execution_count": 82,
   "metadata": {
    "collapsed": true
   },
   "outputs": [],
   "source": [
    "degree=nx.degree(G)"
   ]
  },
  {
   "cell_type": "code",
   "execution_count": 89,
   "metadata": {
    "collapsed": false
   },
   "outputs": [
    {
     "data": {
      "text/plain": [
       "(0.0, 30)"
      ]
     },
     "execution_count": 89,
     "metadata": {},
     "output_type": "execute_result"
    },
    {
     "data": {
      "image/png": "[encoded data removed]",
      "text/plain": [
       "<matplotlib.figure.Figure at 0x7fbbbef90a10>"
      ]
     },
     "metadata": {},
     "output_type": "display_data"
    }
   ],
   "source": [
    "plt.hist(degree.values(), max(degree.values())-1)\n",
    "plt.xlim(xmax=30)"
   ]
  },
  {
   "cell_type": "markdown",
   "metadata": {},
   "source": [
    "* While the highest degree is 80 (cut off), overall this is not super long-tailed\n",
    "* Also really interesting that the highest peak is 2\n",
    "* So most local users talk to 2 other local users\n",
    "* And then it looks a bit step-wise (noise?)"
   ]
  },
  {
   "cell_type": "markdown",
   "metadata": {},
   "source": [
    "### Incorporate  edge weights into the degree distribution"
   ]
  },
  {
   "cell_type": "code",
   "execution_count": 96,
   "metadata": {
    "collapsed": false
   },
   "outputs": [],
   "source": [
    "A=nx.adjacency_matrix(G)\n",
    "strength=A.sum(axis=1)"
   ]
  },
  {
   "cell_type": "code",
   "execution_count": 103,
   "metadata": {
    "collapsed": false
   },
   "outputs": [
    {
     "data": {
      "text/plain": [
       "(0.0, 40)"
      ]
     },
     "execution_count": 103,
     "metadata": {},
     "output_type": "execute_result"
    },
    {
     "data": {
      "image/png": "[encoded data removed]",
      "text/plain": [
       "<matplotlib.figure.Figure at 0x7fbbbed8d8d0>"
      ]
     },
     "metadata": {},
     "output_type": "display_data"
    }
   ],
   "source": [
    "plt.hist(strength, 125)\n",
    "plt.xlim(xmax=40)"
   ]
  },
  {
   "cell_type": "code",
   "execution_count": 113,
   "metadata": {
    "collapsed": false
   },
   "outputs": [
    {
     "data": {
      "text/plain": [
       "<matplotlib.text.Text at 0x7fbbbd01a690>"
      ]
     },
     "execution_count": 113,
     "metadata": {},
     "output_type": "execute_result"
    },
    {
     "data": {
      "image/png": "[encoded data removed]",
      "text/plain": [
       "<matplotlib.figure.Figure at 0x7fbbbd047350>"
      ]
     },
     "metadata": {},
     "output_type": "display_data"
    }
   ],
   "source": [
    "plt.scatter(degree.values(), strength.tolist())\n",
    "plt.xlim(xmin=0)\n",
    "plt.ylim(ymin=0)\n",
    "plt.xlabel('Node degree')\n",
    "plt.ylabel('Node strength')"
   ]
  },
  {
   "cell_type": "markdown",
   "metadata": {},
   "source": [
    "* So the really high degree users have low strength - many infrequent contacts\n",
    "* And the really frequent interactions happen to the low-degree users - few high-frequency conversation partners "
   ]
  },
  {
   "cell_type": "code",
   "execution_count": 130,
   "metadata": {
    "collapsed": false
   },
   "outputs": [],
   "source": [
    "ratio=[x[0]/y for x, y in zip(strength.tolist(), degree.values())]"
   ]
  },
  {
   "cell_type": "code",
   "execution_count": 138,
   "metadata": {
    "collapsed": false
   },
   "outputs": [
    {
     "data": {
      "text/plain": [
       "{u'LaurenLaCapra': 1,\n",
       " u'healysnow': 2,\n",
       " u'KimClune': 1,\n",
       " u'saetre_hanssen': 2,\n",
       " u'jenbee': 4,\n",
       " u'AAlampi': 2,\n",
       " u'kim617': 10,\n",
       " u'libbylt': 2,\n",
       " u'GregSleter': 5,\n",
       " u'marijopuleo': 3,\n",
       " u'tsaponaro83': 1,\n",
       " u'MariaJesusV': 5,\n",
       " u'Rosie22572': 2,\n",
       " u'therealPhillyD': 2,\n",
       " u'kcimc': 4,\n",
       " u'devin04': 3,\n",
       " u'dcilea': 6,\n",
       " u'MTTeloki': 2,\n",
       " u'markdorison': 2,\n",
       " u'sgnyco': 1,\n",
       " u'ThisMikeLee': 2,\n",
       " u'ChloeTroia': 2,\n",
       " u'SRuhle': 3,\n",
       " u'NBCPhiladelphia': 7,\n",
       " u'RachidRouis': 2,\n",
       " u'corweezy30': 4,\n",
       " u'M3lissaSays': 4,\n",
       " u'loloaguilera': 2,\n",
       " u'JackReichert': 3,\n",
       " u'jeneralcuster': 2,\n",
       " u'brightfactor': 1,\n",
       " u'Dani_Marie92': 2,\n",
       " u'GoHildy': 1,\n",
       " u'JohnSurico': 1,\n",
       " u'MIKESMD77': 2,\n",
       " u'rabbilaufer': 1,\n",
       " u'litt1ed0g_red': 2,\n",
       " u'ErrieWirriams': 3,\n",
       " u'BobbyCz123': 3,\n",
       " u'spiceyhotbj': 2,\n",
       " u'_eddylir': 2,\n",
       " u'PatPizzy': 4,\n",
       " u'jessheehan': 4,\n",
       " u'RealtimeRyan': 2,\n",
       " u'msorvam': 2,\n",
       " u'AmbieeeDawnx3': 2,\n",
       " u'JarrettBarrios': 1,\n",
       " u'AmyPlsnc': 2,\n",
       " u'DiogenesBjay': 2,\n",
       " u'SuperGreek': 5,\n",
       " u'megan_porn': 1,\n",
       " u'jfryer2000': 5,\n",
       " u'HectorSuave': 1,\n",
       " u'ekeneijeoma': 4,\n",
       " u'JimenaCardona': 2,\n",
       " u'nathanewilson': 4,\n",
       " u'MelodyGambino': 3,\n",
       " u'mcserrano': 2,\n",
       " u'ChrisBarrett': 1,\n",
       " u'BUTTLES': 1,\n",
       " u'minetti05': 5,\n",
       " u'mdelprior': 1,\n",
       " u'KenKoc1': 2,\n",
       " u'J_VanoreIII': 4,\n",
       " u'thenotoriousmeg': 5,\n",
       " u'JeffPinilla': 5,\n",
       " u'KCJamesLamboMO': 2,\n",
       " u'Chef_Bryan13': 2,\n",
       " u'natalie4287': 3,\n",
       " u'Thomas_Wendt': 9,\n",
       " u'CALLMEBLONDY': 1,\n",
       " u'jesselamb': 4,\n",
       " u'kerrybarger': 2,\n",
       " u'ascollins': 2,\n",
       " u'BeChicMag': 2,\n",
       " u'SamEwen': 3,\n",
       " u'timewarp64': 4,\n",
       " u'JUSTmeALISEO': 2,\n",
       " u'michael_chis': 2,\n",
       " u'JennaMucha': 1,\n",
       " u'DaveCayshe': 2,\n",
       " u'gmatrix29': 2,\n",
       " u'johndeguzman': 1,\n",
       " u'rastafanahy': 2,\n",
       " u'shumeyko': 2,\n",
       " u'chajax': 2,\n",
       " u'Shaila': 10,\n",
       " u'Josh_Halladay': 1,\n",
       " u'LouisTrapani': 3,\n",
       " u'MrMooreTPS': 2,\n",
       " u'projectCORN': 1,\n",
       " u'rcreiner': 2,\n",
       " u'ArckiiART': 2,\n",
       " u'JeffQXR': 1,\n",
       " u'JessKraus': 1,\n",
       " u'elisebartlett': 4,\n",
       " u'knvet': 4,\n",
       " u'coreykronengold': 6,\n",
       " u'JMannnnn20': 2,\n",
       " u'acdcrocker94': 2,\n",
       " u'burbsmama': 5,\n",
       " u'Michael_Simon': 1,\n",
       " u'knight_kat': 2,\n",
       " u'Booby_August': 2,\n",
       " u'laurenfrancesca': 2,\n",
       " u'DaGirlNxDoor': 4,\n",
       " u'Jeraldd11': 2,\n",
       " u'Corey0Smith': 1,\n",
       " u'SydneyReising': 2,\n",
       " u'Arthur_Bovino': 7,\n",
       " u'abrackin': 1,\n",
       " u'MikeGangeHTV': 1,\n",
       " u'GwynnettSt': 3,\n",
       " u'c4milo': 8,\n",
       " u'Angela2828HH': 2,\n",
       " u'rupalparekh': 4,\n",
       " u'Krystle_Light': 1,\n",
       " u'eltehero': 2,\n",
       " u'NewpurposeYoung': 2,\n",
       " u'Barbie_Serrani': 2,\n",
       " u'Loudmouthkid62': 1,\n",
       " u'Dicky_Trix79': 3,\n",
       " u'globalmoxie': 2,\n",
       " u'jschenck': 2,\n",
       " u'ValleyIndy': 1,\n",
       " u'jasonaron': 4,\n",
       " u'EVP_Kris': 2,\n",
       " u'newspeddler': 6,\n",
       " u'Kelimaggie': 1,\n",
       " u'colleenk7': 3,\n",
       " u'_WapKonJorge': 2,\n",
       " u'jennydeluxe': 8,\n",
       " u'TheRealSpiceBoy': 1,\n",
       " u'sototallyunhip': 2,\n",
       " u'nancy2714': 2,\n",
       " u'theroyceabides': 4,\n",
       " u'philcorso': 1,\n",
       " u'VicentSobrinho': 2,\n",
       " u'Dukes_John': 2,\n",
       " u'placenamehere': 4,\n",
       " u'DDimaps': 2,\n",
       " u'TDaneNYC': 7,\n",
       " u'meghankathleen': 6,\n",
       " u'Lindenmanb': 2,\n",
       " u'rjacoby13': 3,\n",
       " u'MyrathePigeon': 3,\n",
       " u'0brayan9': 2,\n",
       " u'Ran_Sizzle': 2,\n",
       " u'timvickibrewer': 2,\n",
       " u'ad454': 2,\n",
       " u'dannybrookings': 2,\n",
       " u'GioNaps': 2,\n",
       " u'ellactricitee': 14,\n",
       " u'MikePaldino': 4,\n",
       " u'rouster2': 2,\n",
       " u'FilmBizRecyclin': 3,\n",
       " u'MoFoMonroe': 2,\n",
       " u'cloudred': 2,\n",
       " u'RobbyDuncan': 1,\n",
       " u'seankmcginnis': 4,\n",
       " u'DiVaTuDe1168': 2,\n",
       " u'PLeiaPrinSass': 2,\n",
       " u'TeachOnTheEdge': 3,\n",
       " u'quixado': 1,\n",
       " u'CWSeignious': 2,\n",
       " u'Littlebethell': 2,\n",
       " u'missmeiks': 5,\n",
       " u'JoAnneMcCusker': 3,\n",
       " u'S_Evangelina': 1,\n",
       " u'StephLauren': 1,\n",
       " u'franklyalvarado': 2,\n",
       " u'dylanschenker': 2,\n",
       " u'nmsgr0': 1,\n",
       " u'matgod': 5,\n",
       " u'katiestereo': 1,\n",
       " u'Kristinkrebsd': 4,\n",
       " u'digenger': 4,\n",
       " u'TilxDead': 2,\n",
       " u'joenicoletti19': 1,\n",
       " u'henrikberggren': 4,\n",
       " u'michelevarian': 1,\n",
       " u'HobokenREnews': 3,\n",
       " u'DesignLightning': 3,\n",
       " u'KevDNY': 2,\n",
       " u'_Nataliea': 2,\n",
       " u'Angelicerrrr': 1,\n",
       " u'kurometarikku': 1,\n",
       " u'TrinityWallSt': 3,\n",
       " u'SLMx0': 1,\n",
       " u'brettking': 5,\n",
       " u'Cat_Marnell': 1,\n",
       " u'JunkCrunk': 2,\n",
       " u'tommullen': 2,\n",
       " u'Amanda_B_Miller': 2,\n",
       " u'alexromanovich': 1,\n",
       " u'Mikey4058': 2,\n",
       " u'JAMALIGLE': 1,\n",
       " u'MiddletnCTPatch': 2,\n",
       " u'iTravelandDine': 1,\n",
       " u'TommyBennett': 3,\n",
       " u'gabypierogies': 1,\n",
       " u'zackseward': 2,\n",
       " u'malemode': 2,\n",
       " u'amysrosenberg': 9,\n",
       " u'MarcoRLamas': 1,\n",
       " u'adamebnit': 4,\n",
       " u'atogle': 2,\n",
       " u'PhillyPartTwo': 2,\n",
       " u'mlkshNYC': 4,\n",
       " u'LJRoRo': 2,\n",
       " u'JenniferHavey': 1,\n",
       " u'JNewmanNYC': 2,\n",
       " u'PaulWontorek': 3,\n",
       " u'songadaymann': 4,\n",
       " u'MaLe_AuLC': 2,\n",
       " u'SimsJames': 5,\n",
       " u'lisasoverino': 2,\n",
       " u'CreativeEnabler': 1,\n",
       " u'Lavrusik': 1,\n",
       " u'heysuburban': 2,\n",
       " u'tettemer': 6,\n",
       " u'GarciaaLater': 2,\n",
       " u'MISSMEENA': 2,\n",
       " u'KejanHaynes': 1,\n",
       " u'PerryShall': 2,\n",
       " u'lizadye': 3,\n",
       " u'kate_bellan': 2,\n",
       " u'arojass': 2,\n",
       " u'jessindemaio': 1,\n",
       " u'Muchisgiven': 2,\n",
       " u'bethieso': 6,\n",
       " u'kcastrox3': 2,\n",
       " u'spencerhawes00': 3,\n",
       " u'AT_Diamond': 2,\n",
       " u'MicroMandigo': 1,\n",
       " u'TKJames13': 3,\n",
       " u'AwitdaK': 2,\n",
       " u'bhutson718': 3,\n",
       " u'gob': 6,\n",
       " u'J3ff_07': 2,\n",
       " u'BurkeCherrie': 2,\n",
       " u'bdickason': 4,\n",
       " u'ChefEvaBBQs': 1,\n",
       " u'CraveJams': 6,\n",
       " u'mactruckny': 1,\n",
       " u'Remtheyr': 2,\n",
       " u'send2ana': 2,\n",
       " u'audiomixer': 2,\n",
       " u'MSVB28': 2,\n",
       " u'divyasukumar': 2,\n",
       " u'rpolanskyWFSB': 5,\n",
       " u'BBTF_Dana': 2,\n",
       " u'jenakingsley': 2,\n",
       " u'eddiesunday': 1,\n",
       " u'ALConsultingSvc': 1,\n",
       " u'MatthewWells': 5,\n",
       " u'DJTonyGia': 4,\n",
       " u'CaptainChest': 2,\n",
       " u'JoveMeyer': 2,\n",
       " u'HudsonNYC': 2,\n",
       " u'a0k': 13,\n",
       " u'MAJMikeLyons': 3,\n",
       " u'DillonMeg': 2,\n",
       " u'bobbyberk': 2,\n",
       " u'erinolan': 3,\n",
       " u'phyllis4fitness': 2,\n",
       " u'kkoopers': 2,\n",
       " u'1938loren': 2,\n",
       " u'JenniferVaz36': 1,\n",
       " u'ArielStJeanos': 2,\n",
       " u'BieberGomezTour': 1,\n",
       " u'gonzni': 2,\n",
       " u'Miss_AngieLove': 3,\n",
       " u'lisamilgram141': 8,\n",
       " u'PatFrmMoonachie': 1,\n",
       " u'Nicole_M_Wright': 2,\n",
       " u'_ChelleyO': 1,\n",
       " u'donnaeri': 2,\n",
       " u'frankmorano': 8,\n",
       " u'RayClothier': 2,\n",
       " u'praptism': 2,\n",
       " u'TylerBoudreau72': 2,\n",
       " u'FlemingPhD': 1,\n",
       " u'ElinsTV2no': 4,\n",
       " u'CatherineNBarde': 4,\n",
       " u'unitof': 2,\n",
       " u'cmaccc': 2,\n",
       " u'ChelseaGrippe': 1,\n",
       " u'OriginalPING': 1,\n",
       " u'MommyFactor': 1,\n",
       " u'caitiecoll': 12,\n",
       " u'Ashepheard': 1,\n",
       " u'KyleB': 3,\n",
       " u'kramerbpm': 2,\n",
       " u'neiki2u': 15,\n",
       " u'BrandonGlinsky': 1,\n",
       " u'gabor': 1,\n",
       " u'mastodonte27': 2,\n",
       " u'NYCMayorsOffice': 80,\n",
       " u'IronHillWilm': 2,\n",
       " u'ltdad613': 2,\n",
       " u'JorgeO': 15,\n",
       " u'VoiceStreet': 2,\n",
       " u'JMWEIN01': 4,\n",
       " u'MsEngInAction': 1,\n",
       " u'Mopeman': 2,\n",
       " u'exigeante': 1,\n",
       " u'jimmygore': 2,\n",
       " u'everythingsjake': 1,\n",
       " u'amartinmedia': 1,\n",
       " u'johnbowen3': 2,\n",
       " u'kirchbabe': 1,\n",
       " u'typertist': 2,\n",
       " u'HeyVeronica': 1,\n",
       " u'chriskenny233': 2,\n",
       " u'AlleyNYC': 1,\n",
       " u'jdegroot': 1,\n",
       " u'FoxyQuant': 2,\n",
       " u'uriroos': 2,\n",
       " u'highlinenyc': 1,\n",
       " u'BMAN_YRGGlobal': 2,\n",
       " u'MaggieBoruk': 7,\n",
       " u'brandon': 4,\n",
       " u'rey_rey95': 2,\n",
       " u'DarinCredible': 2,\n",
       " u'sammers133': 6,\n",
       " u'ErRrrLokiLlo': 1,\n",
       " u'omarventura2494': 2,\n",
       " u'jennicolemarie': 2,\n",
       " u'JackAttack522': 3,\n",
       " u'tonymayes': 3,\n",
       " u'GalacticSpic': 1,\n",
       " u'mattswen': 2,\n",
       " u'mokindo': 2,\n",
       " u'NewYork_Girl24': 1,\n",
       " u'dazedreverie': 2,\n",
       " u'noneck': 19,\n",
       " u'robertgorell': 7,\n",
       " u'gangsta_leen': 7,\n",
       " u'White_Crush': 2,\n",
       " u'mattreadjunk': 4,\n",
       " u'_TheBigRed_': 1,\n",
       " u'JennDMode': 1,\n",
       " u'FrancescaTW94': 2,\n",
       " u'WillyBMum': 6,\n",
       " u'FelCassan': 2,\n",
       " u'kennethkyrell': 2,\n",
       " u'dttrace': 2,\n",
       " u'johnmccann17': 2,\n",
       " u'chic0mak': 2,\n",
       " u'JeffStoecker': 5,\n",
       " u'danideluna': 1,\n",
       " u'TheSaccAttack': 3,\n",
       " u'htmiguel': 4,\n",
       " u'MetalGearrr': 1,\n",
       " u'shmangelina': 2,\n",
       " u'NyChicky': 2,\n",
       " u'pubrelationprof': 2,\n",
       " u'PiroBerrazueta': 2,\n",
       " u'missbell512': 2,\n",
       " u'kessler': 13,\n",
       " u'davesurber': 3,\n",
       " u'onetonnoodle': 1,\n",
       " u'JohnDavdPittman': 2,\n",
       " u'MyTwoSonnys': 2,\n",
       " u'ClareHiler': 2,\n",
       " u'AdamGabbatt': 3,\n",
       " u'sammycrazy': 1,\n",
       " u'jillianclairee': 2,\n",
       " u'carrieimpactpr': 1,\n",
       " u'omarabreu92': 2,\n",
       " u'BobbyHertz': 3,\n",
       " u'FrancisMoreau': 2,\n",
       " u'schnurrple': 2,\n",
       " u'ant_cyrus816': 1,\n",
       " u'nlgrenfell': 3,\n",
       " u'sarah_gall0': 3,\n",
       " u'WhiskeyBurrito': 2,\n",
       " u'TDeeter24': 4,\n",
       " u'mokoyfman': 4,\n",
       " u'nannburke': 1,\n",
       " u'TheAmericanPoet': 2,\n",
       " u'scoopsontherun': 1,\n",
       " u'Cflo412': 2,\n",
       " u'Omg_itsClyde': 1,\n",
       " u'THISiSMARKC': 1,\n",
       " u'marshamichelleb': 2,\n",
       " u'DanLangley': 2,\n",
       " u'PaulEWalsh': 1,\n",
       " u'xlostinthefoggx': 1,\n",
       " u'AmyZRoeder': 2,\n",
       " u'aaroncoook': 3,\n",
       " u'karenlevine': 8,\n",
       " u'ColleenBegley': 3,\n",
       " u'toebone': 1,\n",
       " u'SandersAK': 9,\n",
       " u'wilsonavg': 3,\n",
       " u'YESConeZone36': 5,\n",
       " u'krasting': 2,\n",
       " u'TigerTomBaer': 1,\n",
       " u'martintrinder': 2,\n",
       " u'KAS_712': 2,\n",
       " u'dmurrr': 3,\n",
       " u'LadyBorsa': 1,\n",
       " u'SUSHISAMBA': 3,\n",
       " u'krislas1932': 2,\n",
       " u'StephenBaldwin7': 2,\n",
       " u'alisontaylor04': 2,\n",
       " u'charliebrowncb': 2,\n",
       " u'the_REAL_cjp': 1,\n",
       " u'MLSESSOMS': 3,\n",
       " u'benleventhal': 5,\n",
       " u'AliMolham': 1,\n",
       " u'littleylittley': 6,\n",
       " u'Gusto2k': 2,\n",
       " u'abu718': 2,\n",
       " u'justinstoned': 2,\n",
       " u'Megra687': 2,\n",
       " u'LukeKingma': 4,\n",
       " u'MeaghenHarris': 1,\n",
       " u'GabrielAwan': 2,\n",
       " u'katologic': 8,\n",
       " u'BrooklynBurbs': 1,\n",
       " u'_NickVassallo': 2,\n",
       " u'raywert': 4,\n",
       " u'marianne237': 2,\n",
       " u'prettypictures5': 3,\n",
       " u'LindseySnell': 2,\n",
       " u'DJSaladBitch': 2,\n",
       " u'mslaura5284': 1,\n",
       " u'CindyOlson': 1,\n",
       " u'tconleey': 2,\n",
       " u'Mista_Anderson': 2,\n",
       " u'DeanAlanMuir': 1,\n",
       " u'benjgott': 6,\n",
       " u'AllegroTechie': 3,\n",
       " u'fishpool86': 4,\n",
       " u'CaLynnCal': 2,\n",
       " u'the_bxb': 2,\n",
       " u'DavidBisono': 2,\n",
       " u'kahvebean': 1,\n",
       " u'arainert': 29,\n",
       " u'ariellecohen': 2,\n",
       " u'Imtim2': 1,\n",
       " u'davidkonig': 2,\n",
       " u'dpwillis732': 6,\n",
       " u'cheyennesantoro': 4,\n",
       " u'suzannTee': 5,\n",
       " u'aanniemal': 1,\n",
       " u'NuttFest': 2,\n",
       " u'NickJones5050': 6,\n",
       " u'Neilstephenson': 2,\n",
       " u'mashcode': 2,\n",
       " u'Coral_ACruz': 2,\n",
       " u'Fuckyou999999': 2,\n",
       " u'ChrisWitschy': 2,\n",
       " u'amrosario': 3,\n",
       " u'robspychala': 3,\n",
       " u'RyanPaccione': 2,\n",
       " u'kasesq94': 1,\n",
       " u'_MissE_': 1,\n",
       " u'TWC_NYNJ': 8,\n",
       " u'Trapper908': 2,\n",
       " u'KzCrazy66': 2,\n",
       " u'DeidreDoom': 9,\n",
       " u'Ricky_Flores': 2,\n",
       " u'RabbiShaul': 2,\n",
       " u'iPeeWell': 2,\n",
       " u'princess5o': 2,\n",
       " u'RIEsquire': 2,\n",
       " u'sharynlinda': 3,\n",
       " u'justinography': 2,\n",
       " u'harrybeeenyc': 2,\n",
       " u'PozzoNYC': 3,\n",
       " u'owen_mas': 2,\n",
       " u'Ealz': 7,\n",
       " u'Jay75Euro': 1,\n",
       " u'andyellwood': 2,\n",
       " u'tcene': 2,\n",
       " u'sweetwii12': 2,\n",
       " u'Blanche622': 1,\n",
       " u'TrishDag319': 2,\n",
       " u'cryptor_chid': 2,\n",
       " u'Terron26': 2,\n",
       " u'GibblesnBits174': 2,\n",
       " u'Chris_OTF': 2,\n",
       " u'maryskribz': 2,\n",
       " u'yoitselo': 2,\n",
       " u'mFUNeran': 2,\n",
       " u'TheMikeValletta': 4,\n",
       " u'tessamarieog': 3,\n",
       " u'michelledozois': 10,\n",
       " u'MalikBlake': 2,\n",
       " u'Darth_Marissa': 4,\n",
       " u'socopithy': 1,\n",
       " u'bgershon': 4,\n",
       " u'tastemyrizzo': 1,\n",
       " u'giveme20dollas': 2,\n",
       " u'pghlax7': 1,\n",
       " u'Jeltevdg': 2,\n",
       " u'ADiLorenzoWFTV': 8,\n",
       " u'timcrob': 2,\n",
       " u'T__BAD': 2,\n",
       " u'JiHea': 2,\n",
       " u'ChaseNews': 4,\n",
       " u'mikel_ee': 2,\n",
       " u'filip_withan_f': 1,\n",
       " u'OhHellYes': 2,\n",
       " u'petemall': 7,\n",
       " u'CGlush': 3,\n",
       " u'epc': 5,\n",
       " u'DjMostwanted06': 2,\n",
       " u'carly_sull': 4,\n",
       " u'kcluva': 2,\n",
       " u'SirNeilTheGing': 2,\n",
       " u'cessemi': 4,\n",
       " u'BoweryBoys': 1,\n",
       " u'kaya903': 5,\n",
       " u'seektravel': 3,\n",
       " u'vu87csu90': 2,\n",
       " u'amerikag': 4,\n",
       " u'JanaeR64': 2,\n",
       " u'MegP4': 2,\n",
       " u'LindsayKordik': 1,\n",
       " u'LizaAllonardo': 2,\n",
       " u'MichaelDonnelly': 3,\n",
       " u'clm_voguette': 2,\n",
       " u'LindsayMotta24': 1,\n",
       " u'ameyapendse': 2,\n",
       " u'Cole_WorldX0': 1,\n",
       " u'cortland': 2,\n",
       " u'sosayshannah': 2,\n",
       " u'jwolffnj': 2,\n",
       " u'tarngerine': 9,\n",
       " u'deven_rocco': 2,\n",
       " u'GillesBonMaury': 1,\n",
       " u'brittabrack': 2,\n",
       " u'elierosenfeld': 2,\n",
       " u'LitosCee': 2,\n",
       " u'gregs': 2,\n",
       " u'filmfresser': 4,\n",
       " u'knowacki': 3,\n",
       " u'Bike_at_W4': 1,\n",
       " u'sebbean': 5,\n",
       " u'cupcakesriots': 1,\n",
       " u'tmeagher94': 2,\n",
       " u'handy_man': 1,\n",
       " u'whitjones': 1,\n",
       " u'laviveloz': 2,\n",
       " u'BSchrader412': 1,\n",
       " u'subinev': 4,\n",
       " u'JohnRidgeway': 2,\n",
       " u'jorgiecakes': 3,\n",
       " u'pdorrin1': 2,\n",
       " u'stacey_higgins': 1,\n",
       " u'Pattie0402': 2,\n",
       " u'abestt': 3,\n",
       " u'aidenscott': 2,\n",
       " u'MyGreatestEnemy': 2,\n",
       " u'StevenMatteo': 2,\n",
       " u'jasonkeath': 5,\n",
       " u'clickclash': 5,\n",
       " u'ebroms': 2,\n",
       " u'BlackYogis': 2,\n",
       " u'richlatour': 5,\n",
       " u'PatrickKaine': 2,\n",
       " u'ticoruddy123': 2,\n",
       " u'MissMJByrne': 3,\n",
       " u'livjenks': 2,\n",
       " u'petroleumj': 1,\n",
       " u'DaveKerpen': 1,\n",
       " u'JSanchez0720': 2,\n",
       " u'bringmedabir': 1,\n",
       " u'Alissa_SK': 2,\n",
       " u'lizzwinstead': 1,\n",
       " u'RichellaBella': 3,\n",
       " u'LizTowler': 4,\n",
       " u'FalconesPunch': 1,\n",
       " u'mac1311': 2,\n",
       " u'jimiworm': 3,\n",
       " u'angrychatel': 1,\n",
       " u'DianeCLovesJoeM': 2,\n",
       " u'PamelaAnn615': 1,\n",
       " u'RobertHenriksen': 2,\n",
       " u'jodimckee': 4,\n",
       " u'LetiPosse': 2,\n",
       " u'johnjreiser': 5,\n",
       " u'MacDaddy81889': 2,\n",
       " u'alannafiore': 2,\n",
       " u'dfibraio': 2,\n",
       " u'michyPURRRfect': 3,\n",
       " u'alittlebitetc': 2,\n",
       " u'zingbot': 6,\n",
       " u'davidsibley': 4,\n",
       " u'MeganConley_': 3,\n",
       " u'alexticas': 1,\n",
       " u'MIVenuto': 2,\n",
       " u'_Hartsock1996': 2,\n",
       " u'lrcomedy101': 2,\n",
       " u'soulellis': 1,\n",
       " u'LincolnMitchell': 4,\n",
       " u'mattbeams': 2,\n",
       " u'maddie0727': 2,\n",
       " u'Sorak': 3,\n",
       " u'HH_JHallas': 2,\n",
       " u'ninaaabOss': 2,\n",
       " u'Lariscious': 2,\n",
       " u'nikkovision': 2,\n",
       " u'chrisaldo': 1,\n",
       " u'winedanddined': 3,\n",
       " u'tiltonfenwick': 1,\n",
       " u'spizzyspike': 2,\n",
       " u'heyfeifer': 6,\n",
       " u'_AshleyGeiser': 2,\n",
       " u'_WiLDLiFEoSTYLE': 2,\n",
       " u'margaretcohn': 1,\n",
       " u'palomacv': 2,\n",
       " u'Caseygirl1225': 3,\n",
       " u'DeniseCCompton': 2,\n",
       " u'MikeWilliamA': 2,\n",
       " u'tweglein': 2,\n",
       " u'thisismikesothe': 3,\n",
       " u'jphphila': 2,\n",
       " u'Dorkstress': 2,\n",
       " u'yourpalmal': 5,\n",
       " u'Pip5422': 2,\n",
       " u'Barbie_Janice': 4,\n",
       " u'Richie382': 1,\n",
       " u'Diegobk1986': 1,\n",
       " u'bohan': 7,\n",
       " u'HadleyDKeller': 1,\n",
       " u'RGroblewski': 2,\n",
       " u'Ktwizzle9': 2,\n",
       " u'mikecherepko': 1,\n",
       " u'BenMcCool': 1,\n",
       " u'IdellRealestate': 2,\n",
       " u'tessabadrabo': 2,\n",
       " u'Sara_Persiano': 4,\n",
       " u'johannacamba': 3,\n",
       " u'40Visionz': 2,\n",
       " u'KarenBlumberg': 2,\n",
       " u'Jen1sutton': 2,\n",
       " u'brandonttmcneil': 2,\n",
       " u'claire_whalen': 2,\n",
       " u'SoopCampbell': 2,\n",
       " u'j0eybabex3': 1,\n",
       " u'KristaTerese': 4,\n",
       " u'petekachu': 3,\n",
       " u'jessicahalem': 2,\n",
       " u'MikeyG41393': 2,\n",
       " u'VictoriaCraig': 1,\n",
       " u'bordonez': 1,\n",
       " u'merkoko': 2,\n",
       " u'idancohen': 2,\n",
       " u'ohnoitsjanna': 4,\n",
       " u'AndrewVanSant': 2,\n",
       " u'ChadKaydo': 2,\n",
       " u'bgoodwin0922': 5,\n",
       " u'sandraxann': 2,\n",
       " u'NotoriousNG': 2,\n",
       " u'dmandl': 8,\n",
       " u'YelleTieleman': 2,\n",
       " u'DRussNBC': 2,\n",
       " u'rodriguez189': 1,\n",
       " u'dealonghi': 4,\n",
       " u'kellyculbertson': 2,\n",
       " u'Kapekidz': 6,\n",
       " u'njbeerco': 1,\n",
       " u'debsbalme': 2,\n",
       " u'SavorySweetLive': 3,\n",
       " u'DDougyy': 5,\n",
       " u'KianaaaBaby': 4,\n",
       " u'sschloot': 2,\n",
       " u'SpreadBagelry': 2,\n",
       " u'the59thStBridge': 3,\n",
       " u'Drew_BarkleyDCB': 2,\n",
       " u'KimmieSmithson': 4,\n",
       " u'gboruk': 5,\n",
       " u'lclambeck': 1,\n",
       " u'Psychlone': 3,\n",
       " u'SuadRujana': 2,\n",
       " u'CosmicDot': 2,\n",
       " u'madisontyler1': 4,\n",
       " u'wealthyapple': 1,\n",
       " u'DDENNNISS': 3,\n",
       " u'carlykbad': 2,\n",
       " u'jimaltmanFOXCT': 1,\n",
       " u'janatrantow': 10,\n",
       " u'evanshreds': 2,\n",
       " u'JPhilipFaranda': 2,\n",
       " u'Dr_Fiorillo': 2,\n",
       " u'Obstgarten70': 2,\n",
       " u'RoeCritch': 5,\n",
       " u'aterracciano': 6,\n",
       " u'dr_jay23': 4,\n",
       " u'm0rgannwilliams': 2,\n",
       " u'arch07js': 2,\n",
       " u'stevekinney': 2,\n",
       " u'alloannie': 1,\n",
       " u'jessehutchison': 3,\n",
       " u'jaimejin': 1,\n",
       " u'cali_swagg213': 2,\n",
       " u'bhayes76': 3,\n",
       " u'leighleighsf': 5,\n",
       " u'Natalieeinnyc': 1,\n",
       " u'DanShockley': 6,\n",
       " u'rjgoldsborough': 9,\n",
       " u'domhall': 2,\n",
       " u'Luvume1': 5,\n",
       " u'ricenbeats': 10,\n",
       " u'GenieKennon': 1,\n",
       " u'StevenWrites': 4,\n",
       " u'danlatorre': 1,\n",
       " u'ItsTrueA': 2,\n",
       " u'hragv': 1,\n",
       " u'lynd5969': 1,\n",
       " u'TheCatLD': 2,\n",
       " u'natefrench18': 1,\n",
       " u'TimeOutNewYork': 11,\n",
       " u'CMFoley91': 2,\n",
       " u'jlqiv': 2,\n",
       " u'Deshi_Basara1': 1,\n",
       " u'JohnnyGotm': 2,\n",
       " u'Kwame_Banks': 2,\n",
       " u'TheVipersNest': 4,\n",
       " u'wind142': 2,\n",
       " u'joseph_maurer': 1,\n",
       " u'Kr1stine_': 2,\n",
       " u'schutsko': 2,\n",
       " u'chenyanqing': 13,\n",
       " u'hasaccent': 1,\n",
       " u'Megglezzz': 2,\n",
       " u'nicholashuba': 10,\n",
       " u'laurenjessa': 4,\n",
       " u'amitmk': 2,\n",
       " u'ainedoley': 1,\n",
       " u'RunKino': 2,\n",
       " u'BKdotNET': 2,\n",
       " u'SteveScottWCBS': 8,\n",
       " u'Arias_Laura': 2,\n",
       " u'WilyFoxx': 2,\n",
       " u'madonnafreak18': 1,\n",
       " u'EricaLynnYoung': 5,\n",
       " u'kbliebs': 1,\n",
       " u'Saverios1Place': 2,\n",
       " u'madisonmcnabb': 2,\n",
       " u'RookStar27': 4,\n",
       " u'BenGrajeda1': 2,\n",
       " u'annaworrall': 1,\n",
       " u'bofowonasu': 4,\n",
       " u'guitardis': 2,\n",
       " u'NaStYNat322': 2,\n",
       " u'El_Hindu226': 2,\n",
       " u'BaconSeason': 10,\n",
       " u'mattcastorina': 2,\n",
       " u'CarloScissura': 4,\n",
       " u'albertochan': 5,\n",
       " u'patty_kakes7': 2,\n",
       " u'paolaess': 1,\n",
       " u'CarterBoy12': 4,\n",
       " u'JonJVogel': 2,\n",
       " u'honeyberk': 7,\n",
       " u'StacyDArtist': 2,\n",
       " u'jonthedots': 2,\n",
       " u'JulietteDeWaele': 2,\n",
       " u'janelle_byrne': 1,\n",
       " u'TomiLaffly': 1,\n",
       " u'Gina_Hackett': 1,\n",
       " u'rachio_': 1,\n",
       " u'joepetrellis': 2,\n",
       " u'kunkuCw': 1,\n",
       " u'HyunINC': 1,\n",
       " u'AstoriaHaiku': 1,\n",
       " u'GinaBoop21': 2,\n",
       " u'huntingforjoy': 2,\n",
       " u'smb326_1D': 1,\n",
       " u'JarheadPAO': 1,\n",
       " u'LindseyM_8': 2,\n",
       " u'aubreyjwhelan': 3,\n",
       " u'jimh1014': 2,\n",
       " u'Breety5': 2,\n",
       " u'Btyfuldisastr': 2,\n",
       " u'sfDOOM': 2,\n",
       " u'Belbey': 4,\n",
       " u'TheDesignerGeek': 3,\n",
       " u'Meliluv2': 2,\n",
       " u'greengart': 5,\n",
       " u'ronozer': 2,\n",
       " u'monicaweiner212': 2,\n",
       " u'SimonOh': 1,\n",
       " u'LonerganM': 3,\n",
       " u'wtorrealba': 2,\n",
       " u'CesarEnrique82': 2,\n",
       " u'rgordn': 1,\n",
       " u'Sebastian_Cosme': 2,\n",
       " u'JoeyFarina': 1,\n",
       " u'KirkMooreAPP': 13,\n",
       " u'jds2001': 1,\n",
       " u'LBombBa': 4,\n",
       " u'lugs1011': 2,\n",
       " u'MrBanry': 2,\n",
       " u'jghellum': 2,\n",
       " u'Finchmeister': 1,\n",
       " u'geofffox': 16,\n",
       " u'robinschaer': 2,\n",
       " u'Nagler': 2,\n",
       " u'moleculo77': 2,\n",
       " u'TimTurbiak_TAE': 1,\n",
       " u'Darlyn06': 2,\n",
       " u'DevinAnne': 2,\n",
       " u'katiet121': 2,\n",
       " u'brina_utd': 3,\n",
       " u'AleafApdunloh': 1,\n",
       " u'DonnaKWeaver': 3,\n",
       " u'sd': 13,\n",
       " u'akballon': 4,\n",
       " u'annemai': 3,\n",
       " u'AmazingScorpioK': 2,\n",
       " u'cicutoface': 2,\n",
       " u'christiewalsh': 2,\n",
       " u'Omar_Schefter': 2,\n",
       " u'Brokelyn': 24,\n",
       " u'Soxfan76': 2,\n",
       " u'DOriginalDonald': 1,\n",
       " u'ltornetta2': 2,\n",
       " u'kaaathryyyn': 2,\n",
       " u'samantha_moray': 2,\n",
       " u'joezen777': 1,\n",
       " u'PRknuck_PRKiss': 2,\n",
       " u'fredbenenson': 7,\n",
       " u'megetz': 1,\n",
       " u'The_Kats_Meow_': 1,\n",
       " u'wonderboymusic': 3,\n",
       " u'CUDJOE70': 3,\n",
       " u'BrianRiolo': 5,\n",
       " u'SamGentile': 2,\n",
       " u'WyndamMakowsky': 2,\n",
       " u'PetuniaTwo': 3,\n",
       " u'hdanziger112': 2,\n",
       " u'KyleCasey1294': 2,\n",
       " u'sarahsansom': 1,\n",
       " u'vikot': 1,\n",
       " u'GreyEraVintage': 2,\n",
       " u'PatrickJPerez': 1,\n",
       " u'bureaublank': 1,\n",
       " u'MarlaneB': 2,\n",
       " u'kafweeen': 2,\n",
       " u'Erik_Larsen': 7,\n",
       " u'danqdao': 1,\n",
       " u'GarciaTlapa': 2,\n",
       " u'POLAKOFFCOMM': 2,\n",
       " u'lucida_console': 2,\n",
       " u'maurilax': 1,\n",
       " u'tambobambo': 8,\n",
       " u'TurtsBlues': 5,\n",
       " u'ggrasso1962': 2,\n",
       " u'originalspin': 2,\n",
       " u'SteffEsposito': 2,\n",
       " u'LoHud': 7,\n",
       " u'richie2491': 2,\n",
       " u'brietjev': 2,\n",
       " u'BeardLoverr': 2,\n",
       " u'Ritac23': 2,\n",
       " u'jericajazz': 2,\n",
       " u'rttplumber': 2,\n",
       " u'CarlaHarshman': 4,\n",
       " u'NICKYKmusic': 2,\n",
       " u'mikespo5': 2,\n",
       " u'DJJAYSMOOVE': 3,\n",
       " u'HaraldKvam': 2,\n",
       " u'C_CBarton': 2,\n",
       " u'lauren_zychy': 2,\n",
       " u'beaulebens': 3,\n",
       " u'CaseyPooperman': 2,\n",
       " u'burghlaw': 2,\n",
       " u'KBuroojy': 3,\n",
       " u'Chris_Michael91': 2,\n",
       " u'WiredJC': 3,\n",
       " u'jenonizzle': 4,\n",
       " u'caro': 17,\n",
       " u'iamamayzing': 5,\n",
       " u'heartOFqueens': 6,\n",
       " u'lougirlie': 2,\n",
       " u'AmberAAlonzo': 2,\n",
       " u'neada_jane': 4,\n",
       " u'Chef_French': 2,\n",
       " u'KimberlyAdiyia': 2,\n",
       " u'coachkarlPA': 4,\n",
       " u'noahsussman': 1,\n",
       " u'ADaza91': 2,\n",
       " u'ryanhatesthis': 1,\n",
       " u'JamesDeanX': 6,\n",
       " u'TheChrisPags': 3,\n",
       " u'bestiecilla': 2,\n",
       " u'itsmeaRdo': 4,\n",
       " u'solomon5467': 2,\n",
       " u'zadigetmoi': 1,\n",
       " u'Johnkeys10': 3,\n",
       " u'ArnellMilton': 2,\n",
       " u'Mr_Casal': 3,\n",
       " u'jasonwhat': 2,\n",
       " u'xxmissMACxxx': 2,\n",
       " u'TeamsterNYC': 1,\n",
       " u'zgent': 1,\n",
       " u'benhand_el': 2,\n",
       " u'AnnieFeighery': 7,\n",
       " u'briweather16': 1,\n",
       " u'kariemil': 2,\n",
       " u'theHEEEM': 2,\n",
       " u'doesare': 2,\n",
       " u'raee_jay': 2,\n",
       " u'DamianDazz': 11,\n",
       " u'ewood02': 9,\n",
       " u'eelain212': 3,\n",
       " u'MikeSnyder30': 2,\n",
       " u'ChrisABarone': 2,\n",
       " u'Scuba_5teve': 2,\n",
       " u'hattuc': 2,\n",
       " u'themattnovak': 5,\n",
       " u'builtfspd2': 2,\n",
       " u'jennifersun': 1,\n",
       " u'vaingloriously': 1,\n",
       " u'ameelzs': 1,\n",
       " u'Billy_Novakk': 2,\n",
       " u'SJWhipp': 2,\n",
       " u'dbkahn': 6,\n",
       " u'alywalansky': 3,\n",
       " u'BonniesVoice': 2,\n",
       " u'CarrieStevens25': 3,\n",
       " u'selrae': 2,\n",
       " u'diawpapeomar': 2,\n",
       " u'raysr19': 4,\n",
       " u'joevitale226': 5,\n",
       " u'ECava': 3,\n",
       " u'socialdiva': 1,\n",
       " u'alexweisler': 3,\n",
       " u'mstong': 1,\n",
       " u'OMGhada': 5,\n",
       " u'jacquelinenovak': 2,\n",
       " u'TWULocal100': 5,\n",
       " u'kcholligan': 2,\n",
       " u'EsWookieGrande': 3,\n",
       " u'jessicaaraee': 4,\n",
       " u'TheOneTruePax': 5,\n",
       " u'kevthared': 2,\n",
       " u'JasonLBaptiste': 11,\n",
       " u'willmalson': 1,\n",
       " u'itsAdam': 4,\n",
       " u'NortonHolly': 3,\n",
       " u'EncoreDecor': 3,\n",
       " u'Altas6th': 1,\n",
       " u'NeverEnoughCnsl': 1,\n",
       " u'JadeArnold': 2,\n",
       " u'mikemadrigale': 2,\n",
       " u'kaylaspear': 2,\n",
       " u'darnellkmiller': 2,\n",
       " u'tammy_k': 3,\n",
       " u'ZeynoYucel': 2,\n",
       " u'MalbecBen': 4,\n",
       " u'Arc_Angel9': 1,\n",
       " u'mauricioshinepr': 1,\n",
       " u'EmileeRose': 2,\n",
       " u'PreachinGator': 2,\n",
       " u'TheHBS': 2,\n",
       " u'chadmumm': 2,\n",
       " u'michela_xo': 3,\n",
       " u'AZGiacalone': 1,\n",
       " u'James_Bicierro': 2,\n",
       " u'nicklaw01': 1,\n",
       " u'kineticsmusic': 1,\n",
       " u'toomuchnick': 1,\n",
       " u'NurseMattyC': 1,\n",
       " u'jeffchatterton': 5,\n",
       " u'ashleymadlyn': 1,\n",
       " u'kaleiox3kalani': 4,\n",
       " u'CulturedCanine': 1,\n",
       " u'CTtrombone': 2,\n",
       " u'ang_byrne': 2,\n",
       " u'JohnnyCheeks7': 3,\n",
       " u'ChumZilla': 2,\n",
       " u'heather_joness': 1,\n",
       " u'allergicgirl': 3,\n",
       " u'phunkykim': 1,\n",
       " u'KallMeKG': 9,\n",
       " u'blubullion': 2,\n",
       " u'uscanuk': 2,\n",
       " u'jdenivo': 4,\n",
       " u'SeamRahman': 2,\n",
       " u'cberniez': 2,\n",
       " u'DNDailyPolitics': 2,\n",
       " u'aallan': 2,\n",
       " u'NoFlyListShirts': 3,\n",
       " u'iVAULTiRUN': 2,\n",
       " u'TaylorSechi': 2,\n",
       " u'AngelEduardoC': 1,\n",
       " u'SanchRoy': 2,\n",
       " u'MikeIsaac': 1,\n",
       " u'kende': 4,\n",
       " u'NiktheHat': 2,\n",
       " u'MattyF410': 4,\n",
       " ...}"
      ]
     },
     "execution_count": 138,
     "metadata": {},
     "output_type": "execute_result"
    }
   ],
   "source": [
    "degree"
   ]
  },
  {
   "cell_type": "code",
   "execution_count": 145,
   "metadata": {
    "collapsed": false
   },
   "outputs": [
    {
     "data": {
      "text/plain": [
       "{}"
      ]
     },
     "execution_count": 145,
     "metadata": {},
     "output_type": "execute_result"
    }
   ],
   "source": [
    "G['LaurenLaCapra']"
   ]
  },
  {
   "cell_type": "code",
   "execution_count": null,
   "metadata": {
    "collapsed": true
   },
   "outputs": [],
   "source": []
  }
 ],
 "metadata": {
  "kernelspec": {
   "display_name": "Python 2",
   "language": "python",
   "name": "python2"
  },
  "language_info": {
   "codemirror_mode": {
    "name": "ipython",
    "version": 2
   },
   "file_extension": ".py",
   "mimetype": "text/x-python",
   "name": "python",
   "nbconvert_exporter": "python",
   "pygments_lexer": "ipython2",
   "version": "2.7.6"
  }
 },
 "nbformat": 4,
 "nbformat_minor": 1
}
