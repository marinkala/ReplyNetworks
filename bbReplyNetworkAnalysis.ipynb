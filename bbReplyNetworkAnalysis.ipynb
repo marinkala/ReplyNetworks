{
 "cells": [
  {
   "cell_type": "code",
   "execution_count": 2,
   "metadata": {
    "collapsed": true
   },
   "outputs": [],
   "source": [
    "import pandas as pd\n",
    "import numpy as np\n",
    "import networkx as nx\n",
    "import collections as c\n",
    "import matplotlib.pyplot as plt\n",
    "from operator import truediv\n",
    "\n",
    "%matplotlib inline"
   ]
  },
  {
   "cell_type": "code",
   "execution_count": 3,
   "metadata": {
    "collapsed": false
   },
   "outputs": [
    {
     "name": "stderr",
     "output_type": "stream",
     "text": [
      "/home/mako0970/.local/lib/python2.7/site-packages/IPython/core/interactiveshell.py:2902: DtypeWarning: Columns (124,125,127,128,129,131,132,133,135,136,137,139,140,141,143,144,145,147,148,149,151,152,153,155,156,157,159,160,161,163,164,165,167,168,169,171,172,173,175,176,177,179,180,181,183,184,185,187,188,189,191,192,193) have mixed types. Specify dtype option on import or set low_memory=False.\n",
      "  interactivity=interactivity, compiler=compiler, result=result)\n"
     ]
    }
   ],
   "source": [
    "df=pd.read_csv('../data/bbAllConvoLinesDFmore.csv',sep=';')"
   ]
  },
  {
   "cell_type": "code",
   "execution_count": 4,
   "metadata": {
    "collapsed": false
   },
   "outputs": [
    {
     "data": {
      "text/plain": [
       "10373"
      ]
     },
     "execution_count": 4,
     "metadata": {},
     "output_type": "execute_result"
    }
   ],
   "source": [
    "len(df)"
   ]
  },
  {
   "cell_type": "code",
   "execution_count": 5,
   "metadata": {
    "collapsed": false
   },
   "outputs": [
    {
     "data": {
      "text/plain": [
       "Index([u'Unnamed: 0', u'id', u'username', u'user_id', u'geo_enabled',\n",
       "       u'followCount', u'friendCount', u'faveCount', u'tweetCount', u'date',\n",
       "       ...\n",
       "       u'reply43OrigText', u'reply43OrigReplyWhat', u'reply43OrigReplyWho',\n",
       "       u'dateObj', u'repSecDiff', u'repSet', u'lenRepSet', u'convNames',\n",
       "       u'convStart', u'branchConvo'],\n",
       "      dtype='object', length=203)"
      ]
     },
     "execution_count": 5,
     "metadata": {},
     "output_type": "execute_result"
    }
   ],
   "source": [
    "df.columns"
   ]
  },
  {
   "cell_type": "markdown",
   "metadata": {},
   "source": [
    "### Limit data to the time frame of analysis"
   ]
  },
  {
   "cell_type": "markdown",
   "metadata": {},
   "source": [
    "* Adjust for the time zone"
   ]
  },
  {
   "cell_type": "code",
   "execution_count": 12,
   "metadata": {
    "collapsed": false
   },
   "outputs": [],
   "source": [
    "df=df[(pd.to_datetime(df.replyOrigTime)>=pd.to_datetime('2012-10-14 20:00:00')) & (pd.to_datetime(df.date)<pd.to_datetime('2012-11-23 19:00:00'))]"
   ]
  },
  {
   "cell_type": "code",
   "execution_count": 13,
   "metadata": {
    "collapsed": false
   },
   "outputs": [
    {
     "data": {
      "text/plain": [
       "8911"
      ]
     },
     "execution_count": 13,
     "metadata": {},
     "output_type": "execute_result"
    }
   ],
   "source": [
    "len(df)"
   ]
  },
  {
   "cell_type": "code",
   "execution_count": 14,
   "metadata": {
    "collapsed": true
   },
   "outputs": [],
   "source": [
    "userEdgeList=df[['username', 'replyWho']]"
   ]
  },
  {
   "cell_type": "code",
   "execution_count": 15,
   "metadata": {
    "collapsed": false
   },
   "outputs": [],
   "source": [
    "weighted=userEdgeList.groupby(['username', 'replyWho']).size()"
   ]
  },
  {
   "cell_type": "code",
   "execution_count": 16,
   "metadata": {
    "collapsed": true
   },
   "outputs": [],
   "source": [
    "weighted.to_csv('../data/replyUserNetOverall.csv',sep=',', header=False, index=True)"
   ]
  },
  {
   "cell_type": "markdown",
   "metadata": {},
   "source": [
    "### Correct the whole DF for the time zone"
   ]
  },
  {
   "cell_type": "code",
   "execution_count": 18,
   "metadata": {
    "collapsed": true
   },
   "outputs": [],
   "source": [
    "df.date=df.date.apply(lambda x: pd.to_datetime(x)+pd.to_timedelta('0 days 04:00:00') if pd.to_datetime(x)<pd.to_datetime('2012-11-03 22:00:00') else pd.to_datetime(x)+pd.to_timedelta('0 days 05:00:00'))"
   ]
  },
  {
   "cell_type": "code",
   "execution_count": 19,
   "metadata": {
    "collapsed": true
   },
   "outputs": [],
   "source": [
    "df.replyOrigTime=df.replyOrigTime.apply(lambda x: pd.to_datetime(x)+pd.to_timedelta('0 days 04:00:00') if pd.to_datetime(x)<pd.to_datetime('2012-11-03 22:00:00') else pd.to_datetime(x)+pd.to_timedelta('0 days 05:00:00'))"
   ]
  },
  {
   "cell_type": "code",
   "execution_count": 22,
   "metadata": {
    "collapsed": false
   },
   "outputs": [],
   "source": [
    "before=df[(pd.to_datetime(df.replyOrigTime)>=pd.to_datetime('2012-10-15 00:00:00')) & (pd.to_datetime(df.date)<pd.to_datetime('2012-10-25 00:00:00'))]"
   ]
  },
  {
   "cell_type": "code",
   "execution_count": 23,
   "metadata": {
    "collapsed": false
   },
   "outputs": [],
   "source": [
    "during=df[(pd.to_datetime(df.replyOrigTime)>=pd.to_datetime('2012-10-25 00:00:00')) & (pd.to_datetime(df.date)<pd.to_datetime('2012-11-04 00:00:00'))]"
   ]
  },
  {
   "cell_type": "code",
   "execution_count": 24,
   "metadata": {
    "collapsed": false
   },
   "outputs": [],
   "source": [
    "after=df[(pd.to_datetime(df.replyOrigTime)>=pd.to_datetime('2012-11-04 00:00:00')) & (pd.to_datetime(df.date)<pd.to_datetime('2012-11-14 00:00:00'))]"
   ]
  },
  {
   "cell_type": "code",
   "execution_count": 25,
   "metadata": {
    "collapsed": true
   },
   "outputs": [],
   "source": [
    "lafter=df[(pd.to_datetime(df.replyOrigTime)>=pd.to_datetime('2012-11-14 00:00:00')) & (pd.to_datetime(df.date)<pd.to_datetime('2012-11-24 00:00:00'))]"
   ]
  },
  {
   "cell_type": "code",
   "execution_count": 26,
   "metadata": {
    "collapsed": true
   },
   "outputs": [],
   "source": [
    "bUserEdgeList=before[['username', 'replyWho']]"
   ]
  },
  {
   "cell_type": "code",
   "execution_count": 27,
   "metadata": {
    "collapsed": true
   },
   "outputs": [],
   "source": [
    "bWeighted=bUserEdgeList.groupby(['username', 'replyWho']).size()"
   ]
  },
  {
   "cell_type": "code",
   "execution_count": 28,
   "metadata": {
    "collapsed": true
   },
   "outputs": [],
   "source": [
    "bWeighted.to_csv('../data/replyUserNetBefore.csv',sep=',', header=False, index=True)"
   ]
  },
  {
   "cell_type": "code",
   "execution_count": 29,
   "metadata": {
    "collapsed": true
   },
   "outputs": [],
   "source": [
    "dUserEdgeList=during[['username', 'replyWho']]"
   ]
  },
  {
   "cell_type": "code",
   "execution_count": 30,
   "metadata": {
    "collapsed": true
   },
   "outputs": [],
   "source": [
    "dWeighted=dUserEdgeList.groupby(['username', 'replyWho']).size()"
   ]
  },
  {
   "cell_type": "code",
   "execution_count": 31,
   "metadata": {
    "collapsed": true
   },
   "outputs": [],
   "source": [
    "dWeighted.to_csv('../data/replyUserNetDuring.csv',sep=',', header=False, index=True)"
   ]
  },
  {
   "cell_type": "code",
   "execution_count": 32,
   "metadata": {
    "collapsed": true
   },
   "outputs": [],
   "source": [
    "aUserEdgeList=after[['username', 'replyWho']]"
   ]
  },
  {
   "cell_type": "code",
   "execution_count": 33,
   "metadata": {
    "collapsed": true
   },
   "outputs": [],
   "source": [
    "aWeighted=aUserEdgeList.groupby(['username', 'replyWho']).size()"
   ]
  },
  {
   "cell_type": "code",
   "execution_count": 34,
   "metadata": {
    "collapsed": true
   },
   "outputs": [],
   "source": [
    "aWeighted.to_csv('../data/replyUserNetAfter.csv',sep=',', header=False, index=True)"
   ]
  },
  {
   "cell_type": "code",
   "execution_count": 35,
   "metadata": {
    "collapsed": true
   },
   "outputs": [],
   "source": [
    "laUserEdgeList=lafter[['username', 'replyWho']]"
   ]
  },
  {
   "cell_type": "code",
   "execution_count": 36,
   "metadata": {
    "collapsed": true
   },
   "outputs": [],
   "source": [
    "laWeighted=laUserEdgeList.groupby(['username', 'replyWho']).size()"
   ]
  },
  {
   "cell_type": "code",
   "execution_count": 37,
   "metadata": {
    "collapsed": true
   },
   "outputs": [],
   "source": [
    "laWeighted.to_csv('../data/replyUserNetLafter.csv',sep=',', header=False, index=True)"
   ]
  },
  {
   "cell_type": "markdown",
   "metadata": {},
   "source": [
    "## Overall network analysis"
   ]
  },
  {
   "cell_type": "code",
   "execution_count": 26,
   "metadata": {
    "collapsed": true
   },
   "outputs": [],
   "source": [
    "G=nx.read_weighted_edgelist('../data/replyUserNetOverall.csv',delimiter=',',create_using=nx.DiGraph())"
   ]
  },
  {
   "cell_type": "code",
   "execution_count": 27,
   "metadata": {
    "collapsed": false
   },
   "outputs": [
    {
     "data": {
      "text/plain": [
       "2772"
      ]
     },
     "execution_count": 27,
     "metadata": {},
     "output_type": "execute_result"
    }
   ],
   "source": [
    "len(G)"
   ]
  },
  {
   "cell_type": "code",
   "execution_count": 28,
   "metadata": {
    "collapsed": false
   },
   "outputs": [
    {
     "data": {
      "text/plain": [
       "3789"
      ]
     },
     "execution_count": 28,
     "metadata": {},
     "output_type": "execute_result"
    }
   ],
   "source": [
    "G.number_of_edges()"
   ]
  },
  {
   "cell_type": "code",
   "execution_count": 29,
   "metadata": {
    "collapsed": false
   },
   "outputs": [],
   "source": [
    "str_comps=nx.strongly_connected_component_subgraphs(G)"
   ]
  },
  {
   "cell_type": "code",
   "execution_count": 30,
   "metadata": {
    "collapsed": false
   },
   "outputs": [
    {
     "data": {
      "text/plain": [
       "1874"
      ]
     },
     "execution_count": 30,
     "metadata": {},
     "output_type": "execute_result"
    }
   ],
   "source": [
    "len(list(str_comps))"
   ]
  },
  {
   "cell_type": "code",
   "execution_count": 31,
   "metadata": {
    "collapsed": false
   },
   "outputs": [],
   "source": [
    "weak_comps=nx.weakly_connected_component_subgraphs(G)"
   ]
  },
  {
   "cell_type": "code",
   "execution_count": 32,
   "metadata": {
    "collapsed": false
   },
   "outputs": [
    {
     "data": {
      "text/plain": [
       "1052"
      ]
     },
     "execution_count": 32,
     "metadata": {},
     "output_type": "execute_result"
    }
   ],
   "source": [
    "len(list(weak_comps))"
   ]
  },
  {
   "cell_type": "code",
   "execution_count": 33,
   "metadata": {
    "collapsed": true
   },
   "outputs": [],
   "source": [
    "strong=sorted(nx.strongly_connected_component_subgraphs(G), key = len, reverse=True)"
   ]
  },
  {
   "cell_type": "code",
   "execution_count": 34,
   "metadata": {
    "collapsed": false
   },
   "outputs": [
    {
     "data": {
      "text/plain": [
       "291"
      ]
     },
     "execution_count": 34,
     "metadata": {},
     "output_type": "execute_result"
    }
   ],
   "source": [
    "len(strong[0])"
   ]
  },
  {
   "cell_type": "code",
   "execution_count": 35,
   "metadata": {
    "collapsed": true
   },
   "outputs": [],
   "source": [
    "weak=sorted(nx.weakly_connected_component_subgraphs(G), key = len, reverse=True)"
   ]
  },
  {
   "cell_type": "code",
   "execution_count": 36,
   "metadata": {
    "collapsed": false
   },
   "outputs": [
    {
     "data": {
      "text/plain": [
       "1013"
      ]
     },
     "execution_count": 36,
     "metadata": {},
     "output_type": "execute_result"
    }
   ],
   "source": [
    "len(weak[0])"
   ]
  },
  {
   "cell_type": "code",
   "execution_count": 37,
   "metadata": {
    "collapsed": false
   },
   "outputs": [
    {
     "data": {
      "text/plain": [
       "0.36544011544011545"
      ]
     },
     "execution_count": 37,
     "metadata": {},
     "output_type": "execute_result"
    }
   ],
   "source": [
    "len(weak[0])/float(len(G))"
   ]
  },
  {
   "cell_type": "code",
   "execution_count": 38,
   "metadata": {
    "collapsed": false
   },
   "outputs": [
    {
     "data": {
      "text/plain": [
       "0.10497835497835498"
      ]
     },
     "execution_count": 38,
     "metadata": {},
     "output_type": "execute_result"
    }
   ],
   "source": [
    "len(strong[0])/float(len(G))"
   ]
  },
  {
   "cell_type": "markdown",
   "metadata": {},
   "source": [
    "**Takeway:**\n",
    "* More than one third of the local users talk to each other in some way (over the whole time period)\n",
    "* 10% of the local users talk to each other so you can get to them from one reply to another\n",
    "* Considering that these are replies (not mentions, not RTs) - this is pretty remarkable"
   ]
  },
  {
   "cell_type": "code",
   "execution_count": 39,
   "metadata": {
    "collapsed": false
   },
   "outputs": [],
   "source": [
    "degree=nx.degree(G)"
   ]
  },
  {
   "cell_type": "code",
   "execution_count": 40,
   "metadata": {
    "collapsed": false
   },
   "outputs": [
    {
     "data": {
      "text/plain": [
       "<matplotlib.text.Text at 0x7ffa6eef2850>"
      ]
     },
     "execution_count": 40,
     "metadata": {},
     "output_type": "execute_result"
    },
    {
     "data": {
      "image/png": "[encoded data removed]",
      "text/plain": [
       "<matplotlib.figure.Figure at 0x7ffa6eefcb10>"
      ]
     },
     "metadata": {},
     "output_type": "display_data"
    }
   ],
   "source": [
    "plt.hist(degree.values(), max(degree.values())-1)\n",
    "plt.xlim(xmax=30)\n",
    "plt.title('Overall node degree distrbution')"
   ]
  },
  {
   "cell_type": "markdown",
   "metadata": {},
   "source": [
    "* While the highest degree is 80 (cut off), overall this is not super long-tailed\n",
    "* Also really interesting that the highest peak is 2\n",
    "* So most local users talk to 2 other local users\n",
    "* And then it looks a bit step-wise (noise?)"
   ]
  },
  {
   "cell_type": "markdown",
   "metadata": {},
   "source": [
    "### Incorporate  edge weights into the degree distribution"
   ]
  },
  {
   "cell_type": "code",
   "execution_count": 41,
   "metadata": {
    "collapsed": false
   },
   "outputs": [
    {
     "name": "stderr",
     "output_type": "stream",
     "text": [
      "/home/mako0970/.local/lib/python2.7/site-packages/numpy/core/fromnumeric.py:2641: VisibleDeprecationWarning: `rank` is deprecated; use the `ndim` attribute or function instead. To find the rank of a matrix see `numpy.linalg.matrix_rank`.\n",
      "  VisibleDeprecationWarning)\n"
     ]
    }
   ],
   "source": [
    "A=nx.adjacency_matrix(G)\n",
    "strength=np.array(A.sum(axis=1)).reshape(-1) + np.array(A.sum(axis=0)).reshape(-1)"
   ]
  },
  {
   "cell_type": "code",
   "execution_count": 42,
   "metadata": {
    "collapsed": false,
    "scrolled": true
   },
   "outputs": [
    {
     "data": {
      "text/plain": [
       "<matplotlib.text.Text at 0x7ffa6ebc02d0>"
      ]
     },
     "execution_count": 42,
     "metadata": {},
     "output_type": "execute_result"
    },
    {
     "data": {
      "image/png": "[encoded data removed]",
      "text/plain": [
       "<matplotlib.figure.Figure at 0x7ffa6ece4b50>"
      ]
     },
     "metadata": {},
     "output_type": "display_data"
    }
   ],
   "source": [
    "plt.hist(strength, 125)\n",
    "plt.xlim(xmax=50)\n",
    "plt.title('Overall node strength distribution')"
   ]
  },
  {
   "cell_type": "markdown",
   "metadata": {},
   "source": [
    "**The order of degree sequence and the order of the nodes in the adjacency matrix (nodelist) are different!!!!!**"
   ]
  },
  {
   "cell_type": "code",
   "execution_count": 43,
   "metadata": {
    "collapsed": false
   },
   "outputs": [],
   "source": [
    "nodelist=G.nodes()"
   ]
  },
  {
   "cell_type": "code",
   "execution_count": 44,
   "metadata": {
    "collapsed": false
   },
   "outputs": [],
   "source": [
    "# REORDER the degree sequence to match the nodelist\n",
    "from collections import OrderedDict\n",
    "orderedDegree=OrderedDict((n, degree[n]) for n in nodelist)"
   ]
  },
  {
   "cell_type": "code",
   "execution_count": 45,
   "metadata": {
    "collapsed": false
   },
   "outputs": [
    {
     "data": {
      "text/plain": [
       "<matplotlib.text.Text at 0x7ffa6de94f90>"
      ]
     },
     "execution_count": 45,
     "metadata": {},
     "output_type": "execute_result"
    },
    {
     "name": "stderr",
     "output_type": "stream",
     "text": [
      "/home/mako0970/.local/lib/python2.7/site-packages/matplotlib/collections.py:590: FutureWarning: elementwise comparison failed; returning scalar instead, but in the future will perform elementwise comparison\n",
      "  if self._edgecolors == str('face'):\n"
     ]
    },
    {
     "data": {
      "image/png": "[encoded data removed]",
      "text/plain": [
       "<matplotlib.figure.Figure at 0x7ffa6eb6c650>"
      ]
     },
     "metadata": {},
     "output_type": "display_data"
    }
   ],
   "source": [
    "plt.scatter(orderedDegree.values(), strength)\n",
    "plt.xlim(xmin=0)\n",
    "plt.ylim(ymin=0)\n",
    "plt.xlabel('Node degree')\n",
    "plt.ylabel('Node strength')"
   ]
  },
  {
   "cell_type": "code",
   "execution_count": 47,
   "metadata": {
    "collapsed": false
   },
   "outputs": [
    {
     "data": {
      "text/plain": [
       "u'NYCMayorsOffice'"
      ]
     },
     "execution_count": 47,
     "metadata": {},
     "output_type": "execute_result"
    }
   ],
   "source": [
    "degree.keys()[degree.values().index(81)]"
   ]
  },
  {
   "cell_type": "code",
   "execution_count": 48,
   "metadata": {
    "collapsed": false
   },
   "outputs": [
    {
     "data": {
      "text/plain": [
       "1399"
      ]
     },
     "execution_count": 48,
     "metadata": {},
     "output_type": "execute_result"
    }
   ],
   "source": [
    "nodelist.index('NYCMayorsOffice')"
   ]
  },
  {
   "cell_type": "code",
   "execution_count": 49,
   "metadata": {
    "collapsed": false
   },
   "outputs": [
    {
     "data": {
      "text/plain": [
       "110.0"
      ]
     },
     "execution_count": 49,
     "metadata": {},
     "output_type": "execute_result"
    }
   ],
   "source": [
    "strength[1399]"
   ]
  },
  {
   "cell_type": "code",
   "execution_count": 50,
   "metadata": {
    "collapsed": false
   },
   "outputs": [
    {
     "data": {
      "text/plain": [
       "u'patkiernan'"
      ]
     },
     "execution_count": 50,
     "metadata": {},
     "output_type": "execute_result"
    }
   ],
   "source": [
    "degree.keys()[degree.values().index(44)]"
   ]
  },
  {
   "cell_type": "code",
   "execution_count": 51,
   "metadata": {
    "collapsed": false
   },
   "outputs": [
    {
     "data": {
      "text/plain": [
       "2638"
      ]
     },
     "execution_count": 51,
     "metadata": {},
     "output_type": "execute_result"
    }
   ],
   "source": [
    "nodelist.index('patkiernan')"
   ]
  },
  {
   "cell_type": "code",
   "execution_count": 52,
   "metadata": {
    "collapsed": false
   },
   "outputs": [
    {
     "data": {
      "text/plain": [
       "57.0"
      ]
     },
     "execution_count": 52,
     "metadata": {},
     "output_type": "execute_result"
    }
   ],
   "source": [
    "strength[2638]"
   ]
  },
  {
   "cell_type": "code",
   "execution_count": 62,
   "metadata": {
    "collapsed": false
   },
   "outputs": [
    {
     "data": {
      "text/plain": [
       "{u'CGlush': {'weight': 1.0},\n",
       " u'EricCarvin': {'weight': 1.0},\n",
       " u'ItsMeSpector': {'weight': 1.0},\n",
       " u'KarenBlumberg': {'weight': 1.0},\n",
       " u'SteveScottWCBS': {'weight': 1.0},\n",
       " u'frankmorano': {'weight': 1.0},\n",
       " u'jfryer2000': {'weight': 1.0},\n",
       " u'jonathanmena': {'weight': 1.0},\n",
       " u'kendrad': {'weight': 1.0}}"
      ]
     },
     "execution_count": 62,
     "metadata": {},
     "output_type": "execute_result"
    }
   ],
   "source": [
    "G['patkiernan']"
   ]
  },
  {
   "cell_type": "markdown",
   "metadata": {},
   "source": [
    "**Takeways:**\n",
    "* So the really frequent interactions happen to the low-degree users - few high-frequency conversation partners\n",
    "* But then there is a diagonal trend - the bigger degree the bigger the strength\n",
    "* So for the buld of users, their interactions are more or less evenly distributed across their contacts\n",
    "* Say, 5 interactions per contact on average - adds up to a diagonal trend\n",
    "* And most volume is concetrated at the origin - most people have few friends and don't talk to them too often\n",
    "* And then there is NYCMayorsOffice - with 80 contacts and 108 conversations across them\n",
    "* We know that 10 people responded to the cancelling marathon tweet\n",
    "* People respond to it often! Not a single original tweet by it in our set\n",
    "* The other extremish case is Pat Kiernan - the morning anchor for NY1\n",
    "* He has 9 originals (or responses to others) and 47 replies to him - most are event-related"
   ]
  },
  {
   "cell_type": "code",
   "execution_count": 53,
   "metadata": {
    "collapsed": false
   },
   "outputs": [],
   "source": [
    "ratio=[x/y for x, y in zip(strength.tolist(), orderedDegree.values())]"
   ]
  },
  {
   "cell_type": "code",
   "execution_count": 54,
   "metadata": {
    "collapsed": false,
    "scrolled": true
   },
   "outputs": [
    {
     "data": {
      "text/plain": [
       "<matplotlib.text.Text at 0x7ffa6ec5f710>"
      ]
     },
     "execution_count": 54,
     "metadata": {},
     "output_type": "execute_result"
    },
    {
     "data": {
      "image/png": "[encoded data removed]",
      "text/plain": [
       "<matplotlib.figure.Figure at 0x7ffa6ec486d0>"
      ]
     },
     "metadata": {},
     "output_type": "display_data"
    }
   ],
   "source": [
    "plt.hist(ratio, 119)\n",
    "plt.xlim(xmax=30)\n",
    "plt.title('Frequency of strength to degree ratio')"
   ]
  },
  {
   "cell_type": "code",
   "execution_count": 55,
   "metadata": {
    "collapsed": false
   },
   "outputs": [
    {
     "data": {
      "text/plain": [
       "1.1909090909090909"
      ]
     },
     "execution_count": 55,
     "metadata": {},
     "output_type": "execute_result"
    }
   ],
   "source": [
    "np.median(ratio)"
   ]
  },
  {
   "cell_type": "code",
   "execution_count": 56,
   "metadata": {
    "collapsed": false
   },
   "outputs": [
    {
     "data": {
      "text/plain": [
       "748"
      ]
     },
     "execution_count": 56,
     "metadata": {},
     "output_type": "execute_result"
    }
   ],
   "source": [
    "ratio.index(120)"
   ]
  },
  {
   "cell_type": "code",
   "execution_count": 58,
   "metadata": {
    "collapsed": false
   },
   "outputs": [
    {
     "data": {
      "text/plain": [
       "u'Megglezzz'"
      ]
     },
     "execution_count": 58,
     "metadata": {},
     "output_type": "execute_result"
    }
   ],
   "source": [
    "nodelist[748]"
   ]
  },
  {
   "cell_type": "code",
   "execution_count": 59,
   "metadata": {
    "collapsed": false
   },
   "outputs": [
    {
     "data": {
      "text/plain": [
       "2"
      ]
     },
     "execution_count": 59,
     "metadata": {},
     "output_type": "execute_result"
    }
   ],
   "source": [
    "degree['Megglezzz']"
   ]
  },
  {
   "cell_type": "code",
   "execution_count": 60,
   "metadata": {
    "collapsed": false
   },
   "outputs": [
    {
     "data": {
      "text/plain": [
       "{u'DDougyy': {'weight': 117.0}}"
      ]
     },
     "execution_count": 60,
     "metadata": {},
     "output_type": "execute_result"
    }
   ],
   "source": [
    "G['Megglezzz']"
   ]
  },
  {
   "cell_type": "code",
   "execution_count": 61,
   "metadata": {
    "collapsed": false
   },
   "outputs": [
    {
     "data": {
      "text/plain": [
       "{u'Megglezzz': {'weight': 123.0},\n",
       " u'MrXiphoid': {'weight': 1.0},\n",
       " u'Rach716': {'weight': 1.0}}"
      ]
     },
     "execution_count": 61,
     "metadata": {},
     "output_type": "execute_result"
    }
   ],
   "source": [
    "G['DDougyy']"
   ]
  },
  {
   "cell_type": "markdown",
   "metadata": {},
   "source": [
    "**Takeways:**\n",
    "* Long tailed\n",
    "* Vast majority of people have on average one interaction with each contact\n",
    "* Sizable portion has two on average\n",
    "* And then there are people in the tail - max is 120\n",
    "* That's Megglezzz, who only talks to DDougyy (117 times) and he responds (123 times)\n",
    "* They also have the longest conversation (43 steps) - teenagers at the time\n",
    "* Can look at people **who have high weights** - commintment to their friend"
   ]
  },
  {
   "cell_type": "markdown",
   "metadata": {},
   "source": [
    "### In- and Out-degree and Strength Distributions"
   ]
  },
  {
   "cell_type": "markdown",
   "metadata": {},
   "source": [
    "#### In-degree"
   ]
  },
  {
   "cell_type": "code",
   "execution_count": 63,
   "metadata": {
    "collapsed": true
   },
   "outputs": [],
   "source": [
    "indeg=G.in_degree()"
   ]
  },
  {
   "cell_type": "code",
   "execution_count": 64,
   "metadata": {
    "collapsed": false
   },
   "outputs": [
    {
     "data": {
      "text/plain": [
       "<matplotlib.text.Text at 0x7ffa6daf2c10>"
      ]
     },
     "execution_count": 64,
     "metadata": {},
     "output_type": "execute_result"
    },
    {
     "data": {
      "image/png": "[encoded data removed]",
      "text/plain": [
       "<matplotlib.figure.Figure at 0x7ffa6daa09d0>"
      ]
     },
     "metadata": {},
     "output_type": "display_data"
    }
   ],
   "source": [
    "plt.hist(indeg.values(),max(indeg.values()))\n",
    "plt.xlim(xmax=20)\n",
    "plt.title('In-degree distribution')"
   ]
  },
  {
   "cell_type": "code",
   "execution_count": 65,
   "metadata": {
    "collapsed": true
   },
   "outputs": [],
   "source": [
    "in_strength=np.array(A.sum(axis=0)).reshape(-1)"
   ]
  },
  {
   "cell_type": "code",
   "execution_count": 66,
   "metadata": {
    "collapsed": false
   },
   "outputs": [
    {
     "data": {
      "text/plain": [
       "matrix([[ 1.,  1.,  1., ...,  1.,  8.,  2.]])"
      ]
     },
     "execution_count": 66,
     "metadata": {},
     "output_type": "execute_result"
    }
   ],
   "source": [
    "A.sum(axis=0)"
   ]
  },
  {
   "cell_type": "code",
   "execution_count": 67,
   "metadata": {
    "collapsed": false
   },
   "outputs": [
    {
     "data": {
      "text/plain": [
       "<matplotlib.text.Text at 0x7ffa6d813c10>"
      ]
     },
     "execution_count": 67,
     "metadata": {},
     "output_type": "execute_result"
    },
    {
     "data": {
      "image/png": "[encoded data removed]",
      "text/plain": [
       "<matplotlib.figure.Figure at 0x7ffa6d7cc590>"
      ]
     },
     "metadata": {},
     "output_type": "display_data"
    }
   ],
   "source": [
    "plt.hist(in_strength,max(in_strength))\n",
    "plt.xlim(xmax=40)\n",
    "plt.title('In-strength distribution')"
   ]
  },
  {
   "cell_type": "code",
   "execution_count": 68,
   "metadata": {
    "collapsed": true
   },
   "outputs": [],
   "source": [
    "# REORDER the in_degree sequence to match the nodelist\n",
    "ordInDegree=OrderedDict((n, indeg[n]) for n in nodelist)"
   ]
  },
  {
   "cell_type": "code",
   "execution_count": 69,
   "metadata": {
    "collapsed": false
   },
   "outputs": [
    {
     "data": {
      "text/plain": [
       "<matplotlib.text.Text at 0x7ffa6d45ba10>"
      ]
     },
     "execution_count": 69,
     "metadata": {},
     "output_type": "execute_result"
    },
    {
     "data": {
      "image/png": "[encoded data removed]",
      "text/plain": [
       "<matplotlib.figure.Figure at 0x7ffa6d6dcf90>"
      ]
     },
     "metadata": {},
     "output_type": "display_data"
    }
   ],
   "source": [
    "plt.scatter(ordInDegree.values(), in_strength)\n",
    "plt.xlim(xmin=0)\n",
    "plt.ylim(ymin=0)\n",
    "plt.xlabel('Node in-degree')\n",
    "plt.ylabel('Node in-strength')"
   ]
  },
  {
   "cell_type": "code",
   "execution_count": 70,
   "metadata": {
    "collapsed": false,
    "scrolled": true
   },
   "outputs": [
    {
     "data": {
      "text/plain": [
       "u'patkiernan'"
      ]
     },
     "execution_count": 70,
     "metadata": {},
     "output_type": "execute_result"
    }
   ],
   "source": [
    "indeg.keys()[indeg.values().index(35)]"
   ]
  },
  {
   "cell_type": "code",
   "execution_count": 71,
   "metadata": {
    "collapsed": false
   },
   "outputs": [],
   "source": [
    "in_ratio=[x/y if y!=0 else 1 for x, y in zip(in_strength.tolist(), ordInDegree.values())]"
   ]
  },
  {
   "cell_type": "code",
   "execution_count": 72,
   "metadata": {
    "collapsed": false,
    "scrolled": false
   },
   "outputs": [
    {
     "data": {
      "text/plain": [
       "<matplotlib.text.Text at 0x7ffa6d377210>"
      ]
     },
     "execution_count": 72,
     "metadata": {},
     "output_type": "execute_result"
    },
    {
     "data": {
      "image/png": "[encoded data removed]",
      "text/plain": [
       "<matplotlib.figure.Figure at 0x7ffa6daa9e50>"
      ]
     },
     "metadata": {},
     "output_type": "display_data"
    }
   ],
   "source": [
    "plt.hist(in_ratio, 119)\n",
    "plt.xlim(xmax=30)\n",
    "plt.title('Frequency of in-strength to in-degree ratio')"
   ]
  },
  {
   "cell_type": "code",
   "execution_count": 73,
   "metadata": {
    "collapsed": false
   },
   "outputs": [
    {
     "data": {
      "text/plain": [
       "1.0"
      ]
     },
     "execution_count": 73,
     "metadata": {},
     "output_type": "execute_result"
    }
   ],
   "source": [
    "np.median(in_ratio)"
   ]
  },
  {
   "cell_type": "markdown",
   "metadata": {},
   "source": [
    "**Takways:**\n",
    "* So most people are replied to by two friends\n",
    "* And for in-strength(unlike overall), two is also the highest peak\n",
    "* This means most users have to interactions, on average one per friend\n",
    "* There is still a very clear diagonal effect in the in-strength to in-degree ratio\n",
    "* This means that most users have about equal number of interactions and friends - so on avg one per friend\n",
    "* And then there are people on the left, being frequently resoponded to by a few firends\n",
    "* And the NYCMayorOffice, that received 120 replies from 80 different users\n",
    "* And Pat Kiernan who got 40 smth responses from 35 users"
   ]
  },
  {
   "cell_type": "markdown",
   "metadata": {},
   "source": [
    "#### Out-degree"
   ]
  },
  {
   "cell_type": "code",
   "execution_count": 74,
   "metadata": {
    "collapsed": true
   },
   "outputs": [],
   "source": [
    "outdeg=G.out_degree()"
   ]
  },
  {
   "cell_type": "code",
   "execution_count": 75,
   "metadata": {
    "collapsed": false
   },
   "outputs": [
    {
     "data": {
      "text/plain": [
       "<matplotlib.text.Text at 0x7ffa6d020310>"
      ]
     },
     "execution_count": 75,
     "metadata": {},
     "output_type": "execute_result"
    },
    {
     "data": {
      "image/png": "[encoded data removed]",
      "text/plain": [
       "<matplotlib.figure.Figure at 0x7ffa6d2920d0>"
      ]
     },
     "metadata": {},
     "output_type": "display_data"
    }
   ],
   "source": [
    "plt.hist(outdeg.values(),max(outdeg.values()))\n",
    "plt.xlim(xmax=20)\n",
    "plt.title('Out-degree distribution')"
   ]
  },
  {
   "cell_type": "code",
   "execution_count": 76,
   "metadata": {
    "collapsed": true
   },
   "outputs": [],
   "source": [
    "out_strength=np.array(A.sum(axis=1)).reshape(-1)"
   ]
  },
  {
   "cell_type": "code",
   "execution_count": 77,
   "metadata": {
    "collapsed": false
   },
   "outputs": [
    {
     "data": {
      "text/plain": [
       "matrix([[  0.],\n",
       "        [  1.],\n",
       "        [  0.],\n",
       "        ..., \n",
       "        [  1.],\n",
       "        [ 11.],\n",
       "        [  2.]])"
      ]
     },
     "execution_count": 77,
     "metadata": {},
     "output_type": "execute_result"
    }
   ],
   "source": [
    "A.sum(axis=1)"
   ]
  },
  {
   "cell_type": "code",
   "execution_count": 78,
   "metadata": {
    "collapsed": false
   },
   "outputs": [
    {
     "data": {
      "text/plain": [
       "<matplotlib.text.Text at 0x7ffa6cf1fd90>"
      ]
     },
     "execution_count": 78,
     "metadata": {},
     "output_type": "execute_result"
    },
    {
     "data": {
      "image/png": "[encoded data removed]",
      "text/plain": [
       "<matplotlib.figure.Figure at 0x7ffa6cf743d0>"
      ]
     },
     "metadata": {},
     "output_type": "display_data"
    }
   ],
   "source": [
    "plt.hist(out_strength,max(out_strength))\n",
    "plt.xlim(xmax=40)\n",
    "plt.title('Out-strength distribution')"
   ]
  },
  {
   "cell_type": "code",
   "execution_count": 79,
   "metadata": {
    "collapsed": true
   },
   "outputs": [],
   "source": [
    "# REORDER the out_degree sequence to match the nodelist\n",
    "ordOutDegree=OrderedDict((n, outdeg[n]) for n in nodelist)"
   ]
  },
  {
   "cell_type": "code",
   "execution_count": 80,
   "metadata": {
    "collapsed": false
   },
   "outputs": [
    {
     "data": {
      "text/plain": [
       "<matplotlib.text.Text at 0x7ffa6d098910>"
      ]
     },
     "execution_count": 80,
     "metadata": {},
     "output_type": "execute_result"
    },
    {
     "data": {
      "image/png": "[encoded data removed]",
      "text/plain": [
       "<matplotlib.figure.Figure at 0x7ffa6cc428d0>"
      ]
     },
     "metadata": {},
     "output_type": "display_data"
    }
   ],
   "source": [
    "plt.scatter(ordOutDegree.values(), out_strength)\n",
    "plt.xlim(xmin=0)\n",
    "plt.ylim(ymin=0)\n",
    "plt.xlabel('Node out-degree')\n",
    "plt.ylabel('Node out-strength')"
   ]
  },
  {
   "cell_type": "code",
   "execution_count": 81,
   "metadata": {
    "collapsed": false
   },
   "outputs": [],
   "source": [
    "out_ratio=[x/y if y!=0 else 1 for x, y in zip(out_strength.tolist(), ordOutDegree.values())]"
   ]
  },
  {
   "cell_type": "code",
   "execution_count": 82,
   "metadata": {
    "collapsed": false,
    "scrolled": false
   },
   "outputs": [
    {
     "data": {
      "text/plain": [
       "<matplotlib.text.Text at 0x7ffa6caa4c10>"
      ]
     },
     "execution_count": 82,
     "metadata": {},
     "output_type": "execute_result"
    },
    {
     "data": {
      "image/png": "[encoded data removed]",
      "text/plain": [
       "<matplotlib.figure.Figure at 0x7ffa6cc42ed0>"
      ]
     },
     "metadata": {},
     "output_type": "display_data"
    }
   ],
   "source": [
    "plt.hist(out_ratio, 119)\n",
    "plt.xlim(xmax=30)\n",
    "plt.title('Frequency of out-strength to out-degree ratio')"
   ]
  },
  {
   "cell_type": "code",
   "execution_count": 83,
   "metadata": {
    "collapsed": false
   },
   "outputs": [
    {
     "data": {
      "text/plain": [
       "1.0"
      ]
     },
     "execution_count": 83,
     "metadata": {},
     "output_type": "execute_result"
    }
   ],
   "source": [
    "np.median(out_ratio)"
   ]
  },
  {
   "cell_type": "markdown",
   "metadata": {},
   "source": [
    "**Takeways:**\n",
    "* Our data set is biased towards the in-degree, because in includes replies, including the repliedWho\n",
    "* But we don't alway have the outgoing tweets for those repliedWho users, since they might not been local\n",
    "* Though we only include replies to other relevant-user tweets, so those outgoing tweets wouldn't be excluded cause they belong to an irrelevant user\n",
    "* Should I supplement the user list from the global file?\n",
    "* But all those users show up at the origin - the other pattern is unbiased (if we had the user, we'd have all their out replies)\n",
    "* So we still have those couple users who reply a bunch to a handful of friends\n",
    "* But the rest stay under 60 throghout the degree distribution\n",
    "* This suggests that people have various degree of engagement with their friends, pretty much regardless to how many friends they reply to - but mostly users don't reply too often (more than 60 times)\n",
    "* The slight diagonal trend (very low) suggests that besides those few users who answer a lot to few friends, most people produce a consistent number of replies to their friends, no matter how many "
   ]
  },
  {
   "cell_type": "markdown",
   "metadata": {},
   "source": [
    "#### Weight distribution"
   ]
  },
  {
   "cell_type": "code",
   "execution_count": 84,
   "metadata": {
    "collapsed": false
   },
   "outputs": [],
   "source": [
    "weights=nx.get_edge_attributes(G,'weight').values()"
   ]
  },
  {
   "cell_type": "code",
   "execution_count": 85,
   "metadata": {
    "collapsed": false
   },
   "outputs": [
    {
     "data": {
      "text/plain": [
       "<matplotlib.text.Text at 0x7ffa6c6d6790>"
      ]
     },
     "execution_count": 85,
     "metadata": {},
     "output_type": "execute_result"
    },
    {
     "data": {
      "image/png": "[encoded data removed]",
      "text/plain": [
       "<matplotlib.figure.Figure at 0x7ffa6cb3d6d0>"
      ]
     },
     "metadata": {},
     "output_type": "display_data"
    }
   ],
   "source": [
    "plt.hist(weights, max(weights)-1)\n",
    "plt.xlim(xmax=20)\n",
    "plt.ylim(ymin=0)\n",
    "plt.xlabel('Edge Weight')\n",
    "plt.ylabel('Frequency')\n",
    "plt.title('Edge Weight Distribution')"
   ]
  },
  {
   "cell_type": "markdown",
   "metadata": {},
   "source": [
    "* Long tailed\n",
    "* Not surprising"
   ]
  },
  {
   "cell_type": "markdown",
   "metadata": {},
   "source": [
    "### Reciprocity, transitivity, assortativity"
   ]
  },
  {
   "cell_type": "code",
   "execution_count": 86,
   "metadata": {
    "collapsed": false
   },
   "outputs": [
    {
     "data": {
      "text/plain": [
       "23"
      ]
     },
     "execution_count": 86,
     "metadata": {},
     "output_type": "execute_result"
    }
   ],
   "source": [
    "nx.diameter(strong[0])"
   ]
  },
  {
   "cell_type": "code",
   "execution_count": 87,
   "metadata": {
    "collapsed": false
   },
   "outputs": [
    {
     "data": {
      "text/plain": [
       "25"
      ]
     },
     "execution_count": 87,
     "metadata": {},
     "output_type": "execute_result"
    }
   ],
   "source": [
    "nx.diameter(nx.Graph(weak[0]))"
   ]
  },
  {
   "cell_type": "code",
   "execution_count": 88,
   "metadata": {
    "collapsed": true
   },
   "outputs": [],
   "source": [
    "reciprocity=sum([G.has_edge(e[1], e[0]) for e in G.edges_iter()])/float(G.number_of_edges())"
   ]
  },
  {
   "cell_type": "code",
   "execution_count": 89,
   "metadata": {
    "collapsed": false
   },
   "outputs": [
    {
     "data": {
      "text/plain": [
       "0.710477698601214"
      ]
     },
     "execution_count": 89,
     "metadata": {},
     "output_type": "execute_result"
    }
   ],
   "source": [
    "reciprocity"
   ]
  },
  {
   "cell_type": "markdown",
   "metadata": {},
   "source": [
    "**Takeaways:**\n",
    "* High reciprocity 71%\n",
    "* Makes sense considering it's a reply\n",
    "* Still, there are many situations where people reply to celbrities and officials (NYCMayorOffice)\n",
    "* This means that in this dataset most replies are part of actual conversation between equals (wrt status)\n",
    "* We can see how the number of followers affects the reciprocity rate\n",
    "* Also see how reciprocity changes over time slices"
   ]
  },
  {
   "cell_type": "code",
   "execution_count": 90,
   "metadata": {
    "collapsed": true
   },
   "outputs": [],
   "source": [
    "trans=nx.transitivity(G)"
   ]
  },
  {
   "cell_type": "code",
   "execution_count": 91,
   "metadata": {
    "collapsed": false
   },
   "outputs": [
    {
     "data": {
      "text/plain": [
       "0.09569762766385204"
      ]
     },
     "execution_count": 91,
     "metadata": {},
     "output_type": "execute_result"
    }
   ],
   "source": [
    "trans"
   ]
  },
  {
   "cell_type": "markdown",
   "metadata": {},
   "source": [
    "* Low transitivity\n",
    "* If I reply to you, and you reply to Steve, I very rarely will reply to Steve also\n",
    "* The conversational relationships do not spread\n",
    "* We can also DO TRANSITIVE TRIPLE correction for directed graphs (RT paper code)"
   ]
  },
  {
   "cell_type": "code",
   "execution_count": 92,
   "metadata": {
    "collapsed": true
   },
   "outputs": [],
   "source": [
    "assort=nx.degree_assortativity_coefficient(G)"
   ]
  },
  {
   "cell_type": "code",
   "execution_count": 93,
   "metadata": {
    "collapsed": false
   },
   "outputs": [
    {
     "data": {
      "text/plain": [
       "0.050198634522847799"
      ]
     },
     "execution_count": 93,
     "metadata": {},
     "output_type": "execute_result"
    }
   ],
   "source": [
    "assort"
   ]
  },
  {
   "cell_type": "code",
   "execution_count": 94,
   "metadata": {
    "collapsed": true
   },
   "outputs": [],
   "source": [
    "in_assort=nx.degree_assortativity_coefficient(G,x='in',y='in')"
   ]
  },
  {
   "cell_type": "code",
   "execution_count": 95,
   "metadata": {
    "collapsed": false
   },
   "outputs": [
    {
     "data": {
      "text/plain": [
       "-0.012889621894762769"
      ]
     },
     "execution_count": 95,
     "metadata": {},
     "output_type": "execute_result"
    }
   ],
   "source": [
    "in_assort"
   ]
  },
  {
   "cell_type": "code",
   "execution_count": 96,
   "metadata": {
    "collapsed": true
   },
   "outputs": [],
   "source": [
    "out_assort=nx.degree_assortativity_coefficient(G,x='out',y='out')"
   ]
  },
  {
   "cell_type": "code",
   "execution_count": 97,
   "metadata": {
    "collapsed": false
   },
   "outputs": [
    {
     "data": {
      "text/plain": [
       "0.33535666625159111"
      ]
     },
     "execution_count": 97,
     "metadata": {},
     "output_type": "execute_result"
    }
   ],
   "source": [
    "out_assort"
   ]
  },
  {
   "cell_type": "code",
   "execution_count": 98,
   "metadata": {
    "collapsed": true
   },
   "outputs": [],
   "source": [
    "oi_assort=nx.degree_assortativity_coefficient(G,x='out',y='in')"
   ]
  },
  {
   "cell_type": "code",
   "execution_count": 99,
   "metadata": {
    "collapsed": false
   },
   "outputs": [
    {
     "data": {
      "text/plain": [
       "0.050198634522847799"
      ]
     },
     "execution_count": 99,
     "metadata": {},
     "output_type": "execute_result"
    }
   ],
   "source": [
    "oi_assort"
   ]
  },
  {
   "cell_type": "code",
   "execution_count": 100,
   "metadata": {
    "collapsed": true
   },
   "outputs": [],
   "source": [
    "io_assort=nx.degree_assortativity_coefficient(G,x='in',y='out')"
   ]
  },
  {
   "cell_type": "code",
   "execution_count": 101,
   "metadata": {
    "collapsed": false
   },
   "outputs": [
    {
     "data": {
      "text/plain": [
       "0.31195664478586571"
      ]
     },
     "execution_count": 101,
     "metadata": {},
     "output_type": "execute_result"
    }
   ],
   "source": [
    "io_assort"
   ]
  },
  {
   "cell_type": "markdown",
   "metadata": {},
   "source": [
    "**Takeways:**\n",
    "* Overall assortativity is positive but very low\n",
    "* So no strong relationship/clustering among people who reply and replied to a lot and others like them\n",
    "* The directed assortativity versions are more illuminating\n",
    "* Users who reply a lot are often connected to other users who reply a lot - we have these replying pairs\n",
    "* But also users who are replied to a lot a connected to people who reply a lot"
   ]
  },
  {
   "cell_type": "markdown",
   "metadata": {},
   "source": [
    "### Weighted assortativity"
   ]
  },
  {
   "cell_type": "code",
   "execution_count": 102,
   "metadata": {
    "collapsed": false
   },
   "outputs": [],
   "source": [
    "intWeights={key:int(round(val,0)) for key, val in nx.get_edge_attributes(G, 'weight').items()}"
   ]
  },
  {
   "cell_type": "code",
   "execution_count": 103,
   "metadata": {
    "collapsed": true
   },
   "outputs": [],
   "source": [
    "nx.set_edge_attributes(G,'weight', intWeights)"
   ]
  },
  {
   "cell_type": "code",
   "execution_count": 104,
   "metadata": {
    "collapsed": false
   },
   "outputs": [],
   "source": [
    "wassort=nx.degree_assortativity_coefficient(G, weight='weight')"
   ]
  },
  {
   "cell_type": "code",
   "execution_count": 105,
   "metadata": {
    "collapsed": false
   },
   "outputs": [
    {
     "data": {
      "text/plain": [
       "0.17313937714380018"
      ]
     },
     "execution_count": 105,
     "metadata": {},
     "output_type": "execute_result"
    }
   ],
   "source": [
    "wassort"
   ]
  },
  {
   "cell_type": "code",
   "execution_count": 106,
   "metadata": {
    "collapsed": true
   },
   "outputs": [],
   "source": [
    "in_wassort=nx.degree_assortativity_coefficient(G,x='in',y='in', weight='weight')"
   ]
  },
  {
   "cell_type": "code",
   "execution_count": 107,
   "metadata": {
    "collapsed": false
   },
   "outputs": [
    {
     "data": {
      "text/plain": [
       "0.13595619767937137"
      ]
     },
     "execution_count": 107,
     "metadata": {},
     "output_type": "execute_result"
    }
   ],
   "source": [
    "in_wassort"
   ]
  },
  {
   "cell_type": "code",
   "execution_count": 108,
   "metadata": {
    "collapsed": true
   },
   "outputs": [],
   "source": [
    "out_wassort=nx.degree_assortativity_coefficient(G,x='out',y='out', weight='weight')"
   ]
  },
  {
   "cell_type": "code",
   "execution_count": 109,
   "metadata": {
    "collapsed": false
   },
   "outputs": [
    {
     "data": {
      "text/plain": [
       "0.44585896336052566"
      ]
     },
     "execution_count": 109,
     "metadata": {},
     "output_type": "execute_result"
    }
   ],
   "source": [
    "out_wassort"
   ]
  },
  {
   "cell_type": "code",
   "execution_count": 110,
   "metadata": {
    "collapsed": true
   },
   "outputs": [],
   "source": [
    "oi_wassort=nx.degree_assortativity_coefficient(G,x='out',y='in', weight='weight')"
   ]
  },
  {
   "cell_type": "code",
   "execution_count": 111,
   "metadata": {
    "collapsed": false
   },
   "outputs": [
    {
     "data": {
      "text/plain": [
       "0.17313937714380018"
      ]
     },
     "execution_count": 111,
     "metadata": {},
     "output_type": "execute_result"
    }
   ],
   "source": [
    "oi_wassort"
   ]
  },
  {
   "cell_type": "code",
   "execution_count": 112,
   "metadata": {
    "collapsed": true
   },
   "outputs": [],
   "source": [
    "io_wassort=nx.degree_assortativity_coefficient(G,x='in',y='out', weight='weight')"
   ]
  },
  {
   "cell_type": "code",
   "execution_count": 113,
   "metadata": {
    "collapsed": false
   },
   "outputs": [
    {
     "data": {
      "text/plain": [
       "0.45399537106229376"
      ]
     },
     "execution_count": 113,
     "metadata": {},
     "output_type": "execute_result"
    }
   ],
   "source": [
    "io_wassort"
   ]
  },
  {
   "cell_type": "markdown",
   "metadata": {},
   "source": [
    "**Takeway:**\n",
    "* The assortative trends are even stronger (a bit) when we account for edge weights\n",
    "* So people with high out-strength reply to other people with high out-strength\n",
    "* This means that people who either reply to many people or reply to their friends often tend to reply to others like that\n",
    "* And people with high out-strength reply to people with high in-strength\n",
    "* This means that people who are either replied to by many people or thier friends reply to them often tend to be replied to by other users who reply to either many or frequently"
   ]
  },
  {
   "cell_type": "markdown",
   "metadata": {},
   "source": [
    "### Assortativity on being a conversationalist (in and out-ratio >1)"
   ]
  },
  {
   "cell_type": "code",
   "execution_count": 114,
   "metadata": {
    "collapsed": false
   },
   "outputs": [],
   "source": [
    "freqInTalk={key:True if r>1 else False for key, r in zip(ordInDegree.keys(),in_ratio)}"
   ]
  },
  {
   "cell_type": "code",
   "execution_count": 115,
   "metadata": {
    "collapsed": false
   },
   "outputs": [],
   "source": [
    "nx.set_node_attributes(G,'highInRatio',freqInTalk)"
   ]
  },
  {
   "cell_type": "code",
   "execution_count": 116,
   "metadata": {
    "collapsed": true
   },
   "outputs": [],
   "source": [
    "freqOutTalk={key:True if r>1 else False for key, r in zip(ordOutDegree.keys(),out_ratio)}"
   ]
  },
  {
   "cell_type": "code",
   "execution_count": 117,
   "metadata": {
    "collapsed": true
   },
   "outputs": [],
   "source": [
    "nx.set_node_attributes(G,'highOutRatio',freqOutTalk)"
   ]
  },
  {
   "cell_type": "code",
   "execution_count": 118,
   "metadata": {
    "collapsed": false
   },
   "outputs": [
    {
     "data": {
      "text/plain": [
       "0.4333532638096198"
      ]
     },
     "execution_count": 118,
     "metadata": {},
     "output_type": "execute_result"
    }
   ],
   "source": [
    "nx.attribute_assortativity_coefficient(G, 'highInRatio')"
   ]
  },
  {
   "cell_type": "code",
   "execution_count": 119,
   "metadata": {
    "collapsed": false
   },
   "outputs": [
    {
     "data": {
      "text/plain": [
       "0.48401240502974785"
      ]
     },
     "execution_count": 119,
     "metadata": {},
     "output_type": "execute_result"
    }
   ],
   "source": [
    "nx.attribute_assortativity_coefficient(G, 'highOutRatio')"
   ]
  },
  {
   "cell_type": "code",
   "execution_count": 120,
   "metadata": {
    "collapsed": false
   },
   "outputs": [],
   "source": [
    "bothFreqTalk={key:True if (i>1) & (o>1) else False for key,i,o in zip(ordInDegree.keys(),in_ratio,out_ratio)}"
   ]
  },
  {
   "cell_type": "code",
   "execution_count": 121,
   "metadata": {
    "collapsed": true
   },
   "outputs": [],
   "source": [
    "nx.set_node_attributes(G,'highBothRatios',bothFreqTalk)"
   ]
  },
  {
   "cell_type": "code",
   "execution_count": 122,
   "metadata": {
    "collapsed": false
   },
   "outputs": [
    {
     "data": {
      "text/plain": [
       "0.6120396208097433"
      ]
     },
     "execution_count": 122,
     "metadata": {},
     "output_type": "execute_result"
    }
   ],
   "source": [
    "nx.attribute_assortativity_coefficient(G, 'highBothRatios')"
   ]
  },
  {
   "cell_type": "markdown",
   "metadata": {},
   "source": [
    "**Takeways:**\n",
    "* 61% People who reply more than once on average to all their friends tend to talk to others like them\n",
    "* People who are replied by their friends on average more than once tend to talk to other liken them\n",
    "* And users who both reply and are replied by their friends on average more than once are VERY likely to talk to\n",
    "others like then\n",
    "* So frequent conversation is a two-way street\n",
    "* CHECK with CONFIGURATION MODEL"
   ]
  },
  {
   "cell_type": "markdown",
   "metadata": {},
   "source": [
    "### Centrality"
   ]
  },
  {
   "cell_type": "code",
   "execution_count": 211,
   "metadata": {
    "collapsed": false
   },
   "outputs": [
    {
     "data": {
      "text/plain": [
       "[(u'RickWebb', 0.20930232558139536),\n",
       " (u'steketee', 0.20382165605095542),\n",
       " (u'JamesDeanX', 0.2028169014084507),\n",
       " (u'arainert', 0.19766643788606725),\n",
       " (u'tonybgoode', 0.19341840161182),\n",
       " (u'af', 0.19290020093770932),\n",
       " (u'kristalberg', 0.1893491124260355),\n",
       " (u'harryh', 0.18872870249017037),\n",
       " (u'noneck', 0.18835840418574232),\n",
       " (u'caro', 0.18811234487263226),\n",
       " (u'dN0t', 0.18725617685305593),\n",
       " (u'Jmodio', 0.1867704280155642),\n",
       " (u'Shaila', 0.18664938431626701),\n",
       " (u'mbaratz', 0.18520900321543407),\n",
       " (u'BaconSeason', 0.18308963763509217),\n",
       " (u'cfohlin', 0.1819330385344283),\n",
       " (u'janatrantow', 0.18181818181818182),\n",
       " (u'kingsleyharris', 0.181360201511335),\n",
       " (u'helloericho', 0.180564263322884),\n",
       " (u'ckurdziel', 0.18045112781954886),\n",
       " (u'Stwo', 0.18045112781954886),\n",
       " (u'ModernUrbanLife', 0.179215930304916),\n",
       " (u'alexmiz', 0.17899316345556246),\n",
       " (u'tmilewski', 0.17899316345556246),\n",
       " (u'april_conyers', 0.17888198757763976),\n",
       " (u'smart', 0.17843866171003717),\n",
       " (u'joshspear', 0.1782178217821782),\n",
       " (u'JorgeO', 0.17766810610734116),\n",
       " (u'krysXtyna', 0.17723076923076922),\n",
       " (u'TheClayFox', 0.17723076923076922),\n",
       " (u'rich1', 0.17668711656441718),\n",
       " (u'zmccune', 0.17657878602084612),\n",
       " (u'MikeBronfman', 0.17550274223034734),\n",
       " (u'JesseCFriedman', 0.17550274223034734),\n",
       " (u'SandersAK', 0.1753958587088916),\n",
       " (u'epc', 0.17528910529519173),\n",
       " (u'MichaelBerner', 0.17454545454545456),\n",
       " (u'ceonyc', 0.17422867513611615),\n",
       " (u'DamianDazz', 0.1735985533453888),\n",
       " (u'kende', 0.17338952438290187),\n",
       " (u'emmarocks', 0.17318099819603128),\n",
       " (u'kim617', 0.17276544691061788),\n",
       " (u'anoopr', 0.17276544691061788),\n",
       " (u'bdotdub', 0.1725584182144997),\n",
       " (u'twatan', 0.17132659131469363),\n",
       " (u'eelain212', 0.1705150976909414),\n",
       " (u'kessler', 0.16981132075471697),\n",
       " (u'htmiguel', 0.16941176470588235),\n",
       " (u'mokindo', 0.16941176470588235),\n",
       " (u'MaggieBoruk', 0.16911332941867294),\n",
       " (u'tarngerine', 0.16881594372801875),\n",
       " (u'robertgorell', 0.16842105263157894),\n",
       " (u'paulbz', 0.16793002915451896),\n",
       " (u'sjkaliski', 0.16773442050087362),\n",
       " (u'kfalter', 0.1673445671121441),\n",
       " (u'bdickason', 0.1672473867595819),\n",
       " (u'epstein', 0.1667631731325999),\n",
       " (u'blake', 0.16647398843930636),\n",
       " (u'finitor', 0.16647398843930636),\n",
       " (u'leighleighsf', 0.1663778162911612),\n",
       " (u'jasonkeath', 0.1661858049624928),\n",
       " (u'Malbonnington', 0.16608996539792387),\n",
       " (u'JasonLBaptiste', 0.1659942363112392),\n",
       " (u'jesselamb', 0.16580310880829016),\n",
       " (u'Mlsif', 0.16551724137931034),\n",
       " (u'KimberlyAnneR', 0.1651376146788991),\n",
       " (u'eramirem', 0.1650429799426934),\n",
       " (u'SimsJames', 0.1641025641025641),\n",
       " (u'binghott', 0.16289592760180996),\n",
       " (u'a0k', 0.16252821670428894),\n",
       " (u'SuperGreek', 0.16234498308906425),\n",
       " (u'sd', 0.16216216216216217),\n",
       " (u'dantekgeek', 0.16216216216216217),\n",
       " (u'jsorrenti', 0.16216216216216217),\n",
       " (u'paullyoung', 0.16197975253093364),\n",
       " (u'lifeinthekey', 0.16188870151770657),\n",
       " (u'greggweiss', 0.16143497757847533),\n",
       " (u'learmonth', 0.16080402010050251),\n",
       " (u'Thomas_Wendt', 0.16071428571428573),\n",
       " (u'julian_dunn', 0.1605351170568562),\n",
       " (u'deesix', 0.15973377703826955),\n",
       " (u'Vivnsect', 0.15964523281596452),\n",
       " (u'rieglobe', 0.15946843853820597),\n",
       " (u'jenbee', 0.1592920353982301),\n",
       " (u'NicholasPClarke', 0.1588527302813017),\n",
       " (u'emilysteel', 0.15867768595041323),\n",
       " (u'EricMcClureBK', 0.15859030837004406),\n",
       " (u'twebeck', 0.15859030837004406),\n",
       " (u'papillonc', 0.15841584158415842),\n",
       " (u'DeidreDoom', 0.15824175824175823),\n",
       " (u'merrybubbles', 0.15824175824175823),\n",
       " (u'bridget_widget', 0.15789473684210525),\n",
       " (u'ATSiem', 0.1578082191780822),\n",
       " (u'neiki2u', 0.15772179627601315),\n",
       " (u'Belbey', 0.15763546798029557),\n",
       " (u'vaynerman', 0.15746309458720611),\n",
       " (u'MissMJByrne', 0.15746309458720611),\n",
       " (u'ellactricitee', 0.15575987020010817),\n",
       " (u'brianlevin', 0.15542363734484618),\n",
       " (u'ewood02', 0.15517241379310345),\n",
       " (u'Luvume1', 0.15467239527389903),\n",
       " (u'aparnamuk', 0.1542581681842528),\n",
       " (u'shaig', 0.15409309791332262),\n",
       " (u'jrlevine', 0.15409309791332262),\n",
       " (u'robspychala', 0.1536),\n",
       " (u'c4milo', 0.15254237288135594),\n",
       " (u'SeanValjean', 0.15230037017451084),\n",
       " (u'dsavel', 0.1518186610437533),\n",
       " (u'chenyanqing', 0.15118110236220472),\n",
       " (u'AnnieFeighery', 0.15118110236220472),\n",
       " (u'jeffchatterton', 0.15110178384050368),\n",
       " (u'henrikberggren', 0.15086432687270823),\n",
       " (u'katierosman', 0.15086432687270823),\n",
       " (u'MikeFraietta', 0.1496103896103896),\n",
       " (u'DTGiveBack', 0.14945511157239233),\n",
       " (u'jimmyrey', 0.14945511157239233),\n",
       " (u'jghellum', 0.14937759336099585),\n",
       " (u'tarekp', 0.14930015552099535),\n",
       " (u'hoff', 0.14883720930232558),\n",
       " (u'BobbyTBD', 0.1486835312338668),\n",
       " (u'buritica', 0.14845360824742268),\n",
       " (u'donohoe', 0.14845360824742268),\n",
       " (u'maxwyeth', 0.14837712519319937),\n",
       " (u'Keidson', 0.14791987673343607),\n",
       " (u'katologic', 0.14746543778801843),\n",
       " (u'JohnExley', 0.1473899692937564),\n",
       " (u'jaypinho', 0.147239263803681),\n",
       " (u'FrankRamblings', 0.14701378254211334),\n",
       " (u'elisebartlett', 0.14663951120162932),\n",
       " (u'Seilback', 0.14641586171835283),\n",
       " (u'lloyd_says', 0.14634146341463414),\n",
       " (u'kendrad', 0.1458227848101266),\n",
       " (u'caitiecoll', 0.14552804446690248),\n",
       " (u'FriedWontons4u', 0.14523449319213314),\n",
       " (u'MrsBigEars09', 0.14479638009049775),\n",
       " (u'gboruk', 0.14479638009049775),\n",
       " (u'raywert', 0.1442163244867301),\n",
       " (u'benjgott', 0.144),\n",
       " (u'jessehutchison', 0.14364089775561098),\n",
       " (u'CraigElimeliah', 0.1427863163113535),\n",
       " (u'brettking', 0.14271555996035679),\n",
       " (u'malbonster', 0.1426448736998514),\n",
       " (u'polinchock', 0.1426448736998514),\n",
       " (u'tommorton', 0.1425037110341415),\n",
       " (u'itsAdam', 0.14145383104125736),\n",
       " (u'vvalcu', 0.14103819784524976),\n",
       " (u'ilovenycfood', 0.14055636896046853),\n",
       " (u'riozilla', 0.13980582524271845),\n",
       " (u'candicehoyes', 0.13973799126637554),\n",
       " (u'dsaezgil', 0.1396025206010664),\n",
       " (u'wtorrealba', 0.1396025206010664),\n",
       " (u'thebobferguson', 0.1393998063891578),\n",
       " (u'LukeKingma', 0.13926499032882012),\n",
       " (u'erova', 0.13879518072289157),\n",
       " (u'EmmaBGardner', 0.13826212193951032),\n",
       " (u'shannonpareil', 0.13701236917221693),\n",
       " (u'MissVersatile', 0.13701236917221693),\n",
       " (u'DrewNeisser', 0.1368171021377672),\n",
       " (u'ikebrooker', 0.13617021276595745),\n",
       " (u'honeyberk', 0.1357210179076343),\n",
       " (u'saschasegan', 0.13565708902496468),\n",
       " (u'seektravel', 0.1354656632173095),\n",
       " (u'cdessi', 0.13527477689055895),\n",
       " (u'ricenbeats', 0.1351478179258564),\n",
       " (u'gangsta_leen', 0.1350844277673546),\n",
       " (u'blackoutpete', 0.13489461358313817),\n",
       " (u'sammandel', 0.13457943925233645),\n",
       " (u'NoahXArts', 0.13457943925233645),\n",
       " (u'gob', 0.13451658103689865),\n",
       " (u'ThisGirlCanEat', 0.1343910405972935),\n",
       " (u'jeffpulver', 0.13414066138798322),\n",
       " (u'nchirls', 0.13358070500927643),\n",
       " (u'superacidjax', 0.13358070500927643),\n",
       " (u'MallorieRose', 0.1332099907493062),\n",
       " (u'greengart', 0.1332099907493062),\n",
       " (u'mattgunn', 0.133086876155268),\n",
       " (u'merib', 0.13198900091659027),\n",
       " (u'MalbecBen', 0.1316270566727605),\n",
       " (u'athenahoya', 0.1306715063520871),\n",
       " (u'patkiernan', 0.1306715063520871),\n",
       " (u'thomaskaplan', 0.13025780189959293),\n",
       " (u'John_EL', 0.13008130081300814),\n",
       " (u'daveyarmon', 0.13008130081300814),\n",
       " (u'olaforsstrom', 0.13002257336343115),\n",
       " (u'ericgrant', 0.12972972972972974),\n",
       " (u'Dicky_Trix79', 0.12949640287769784),\n",
       " (u'adkap', 0.1293219577907499),\n",
       " (u'unitof', 0.1293219577907499),\n",
       " (u'erinolan', 0.12891674127126232),\n",
       " (u'Niketa', 0.12857142857142856),\n",
       " (u'AlexandraOstrow', 0.12839946500222915),\n",
       " (u'jenonizzle', 0.12834224598930483),\n",
       " (u'PaulWontorek', 0.1273209549071618),\n",
       " (u'dmgerbino', 0.12494577006507593),\n",
       " (u'jonthedots', 0.12489158716392021),\n",
       " (u'MMERCERBROWN', 0.12489158716392021),\n",
       " (u'scottevandavis', 0.12397761515281963),\n",
       " (u'JackReichert', 0.12334047109207709),\n",
       " (u'frankmorano', 0.12323491655969192),\n",
       " (u'digenger', 0.12312954253954682),\n",
       " (u'JBWPhoto', 0.12302434856898761),\n",
       " (u'gwhizkids', 0.12286689419795221),\n",
       " (u'chrispalle', 0.12193056731583404),\n",
       " (u'tamiiiiiiiiiiii', 0.12193056731583404),\n",
       " (u'TDaneNYC', 0.12065354000837872),\n",
       " (u'xrisfg', 0.12030075187969924),\n",
       " (u'mashcode', 0.11955168119551682),\n",
       " (u'NatashaChef', 0.11920529801324503),\n",
       " (u'Chefbriduff', 0.11910669975186104),\n",
       " (u'kenneth212', 0.11890999174236168),\n",
       " (u'friskygeek', 0.11866501854140915),\n",
       " (u'TrishDag319', 0.11832374691865243),\n",
       " (u'jonathanmena', 0.11608222490931076),\n",
       " (u'dimsumNYC', 0.11608222490931076),\n",
       " (u'amrosario', 0.11608222490931076),\n",
       " (u'TimeOutNewYork', 0.11598872331856624),\n",
       " (u'rupalparekh', 0.1158953722334004),\n",
       " (u'SteveScottWCBS', 0.11584875301689461),\n",
       " (u'Brokelyn', 0.11570912012856568),\n",
       " (u'jfryer2000', 0.11561621838619028),\n",
       " (u'ItsMeSpector', 0.11561621838619028),\n",
       " (u'TheNYCMenuGirl', 0.11561621838619028),\n",
       " (u'SavorySweetLive', 0.11561621838619028),\n",
       " (u'thejjmg', 0.11497005988023952),\n",
       " (u'geofffox', 0.11419508326724821),\n",
       " (u'zeldman', 0.11017597551644988),\n",
       " (u'SIYankeefan', 0.10975609756097561),\n",
       " (u'LiteraLee', 0.10975609756097561),\n",
       " (u'tambobambo', 0.10810810810810811),\n",
       " (u'MeeraLitaTandon', 0.10770381451009724),\n",
       " (u'layla515', 0.10442349528643945),\n",
       " (u'mariejoelle', 0.10438564697354114),\n",
       " (u'hollville', 0.10427226647356988),\n",
       " (u'jamesfacts', 0.10427226647356988),\n",
       " (u'leijudy', 0.10412147505422993),\n",
       " (u'Arthur_Bovino', 0.10412147505422993),\n",
       " (u'bhutson718', 0.10408384531984098),\n",
       " (u'MarielMendoza', 0.10404624277456648),\n",
       " (u'EricCarvin', 0.10400866738894908),\n",
       " (u'MAJMikeLyons', 0.10385863685539128),\n",
       " (u'mdlcsquared', 0.10315186246418338),\n",
       " (u'newspeddler', 0.10289389067524116),\n",
       " (u'NickAForte', 0.10267379679144385),\n",
       " (u'tvmattscott', 0.10260064125400783),\n",
       " (u'nguarracino', 0.10252758988964045),\n",
       " (u'Almorrisnews', 0.10252758988964045),\n",
       " (u'placenamehere', 0.09989594172736732),\n",
       " (u'craigkeller', 0.09941318605453918),\n",
       " (u'sebbean', 0.09927611168562564),\n",
       " (u'Sdropp39', 0.09849521203830369),\n",
       " (u'christiewalsh', 0.0975940359200271),\n",
       " (u'KallMeKG', 0.0967741935483871),\n",
       " (u'heartOFqueens', 0.09561752988047809),\n",
       " (u'ADiLorenzoWFTV', 0.09514370664023786),\n",
       " (u'kenanigdebeli', 0.09489291598023064),\n",
       " (u'jodimckee', 0.09458128078817735),\n",
       " (u'kellypurkey', 0.09458128078817735),\n",
       " (u'adriennebyard', 0.09433344251555846),\n",
       " (u'jpchan', 0.09433344251555846),\n",
       " (u'kioken', 0.09424083769633508),\n",
       " (u'burghlaw', 0.09424083769633508),\n",
       " (u'rpolanskyWFSB', 0.0933852140077821),\n",
       " (u'heyfeifer', 0.09320388349514563),\n",
       " (u'joevitale226', 0.09308338720103426),\n",
       " (u'tensafefrogs', 0.09085173501577287),\n",
       " (u'brklynwegohard', 0.09050911376492772),\n",
       " (u'gregmocker', 0.09036711641041732),\n",
       " (u'TheDitmarsStrip', 0.09025383892196803),\n",
       " (u'JeffPinilla', 0.08969168483338524),\n",
       " (u'PatricksBeer', 0.0874051593323217),\n",
       " (u'MetrovelvetTV', 0.08698278465720326),\n",
       " (u'JeffStoecker', 0.08695652173913043),\n",
       " (u'megbroph', 0.08543458914268763),\n",
       " (u'stribs', 0.08528279538051525),\n",
       " (u'ekeneijeoma', 0.08396501457725948),\n",
       " (u'shirland', 0.08302104352839434),\n",
       " (u'ad454', 0.08290155440414508),\n",
       " (u'juanguzman5422', 0.08290155440414508),\n",
       " (u'marylovesrafael', 0.08290155440414508),\n",
       " (u'typertist', 0.08290155440414508),\n",
       " (u'moughthere', 0.08290155440414508),\n",
       " (u'jakehammel', 0.08058198097369894),\n",
       " (u'AleWifey', 0.08040201005025126),\n",
       " (u'winedanddined', 0.08040201005025126),\n",
       " (u'DRussNBC', 0.08002222839677688),\n",
       " (u'zingbot', 0.0775235531628533),\n",
       " (u'FredRdgz', 0.0748051948051948),\n",
       " (u'adampdouglas', 0.07459207459207459),\n",
       " (u'atogle', 0.07196401799100449)]"
      ]
     },
     "execution_count": 211,
     "metadata": {},
     "output_type": "execute_result"
    }
   ],
   "source": [
    "sorted(nx.closeness_centrality(strong[0]).items(), key=lambda x:x[1], reverse=True)"
   ]
  },
  {
   "cell_type": "code",
   "execution_count": 213,
   "metadata": {
    "collapsed": false
   },
   "outputs": [
    {
     "data": {
      "text/plain": [
       "[(u'caro', 0.25216263075867196),\n",
       " (u'Jmodio', 0.22640764774310457),\n",
       " (u'patkiernan', 0.20550280379999494),\n",
       " (u'af', 0.1975842915242082),\n",
       " (u'RickWebb', 0.16132318218694758),\n",
       " (u'Shaila', 0.1538011190995098),\n",
       " (u'arainert', 0.14822240537907985),\n",
       " (u'SimsJames', 0.1406246360024669),\n",
       " (u'kendrad', 0.13817036736062568),\n",
       " (u'katologic', 0.12372729881817215),\n",
       " (u'saschasegan', 0.11362203417952546),\n",
       " (u'binghott', 0.10769968302361595),\n",
       " (u'tonybgoode', 0.10767061994575859),\n",
       " (u'FrankRamblings', 0.10337525310485532),\n",
       " (u'Stwo', 0.10101298319604948),\n",
       " (u'geofffox', 0.09501047370167578),\n",
       " (u'gwhizkids', 0.09418865107018412),\n",
       " (u'JesseCFriedman', 0.09393271325570285),\n",
       " (u'jeffchatterton', 0.09215771589801229),\n",
       " (u'ikebrooker', 0.08401877123929968),\n",
       " (u'alexmiz', 0.08317673075026547),\n",
       " (u'cfohlin', 0.08280596466325843),\n",
       " (u'a0k', 0.08247302742291038),\n",
       " (u'mbaratz', 0.07502926044137714),\n",
       " (u'TimeOutNewYork', 0.07410214989338103),\n",
       " (u'DamianDazz', 0.06874487345751308),\n",
       " (u'gregmocker', 0.06738433142476788),\n",
       " (u'noneck', 0.06737942628275982),\n",
       " (u'steketee', 0.06605174256329051),\n",
       " (u'dN0t', 0.06560438310315206),\n",
       " (u'harryh', 0.06342271167783858),\n",
       " (u'JamesDeanX', 0.05614647366399133),\n",
       " (u'ilovenycfood', 0.05502402010939877),\n",
       " (u'blake', 0.0534956804940408),\n",
       " (u'athenahoya', 0.05204172850260249),\n",
       " (u'kingsleyharris', 0.051539374770292426),\n",
       " (u'MissVersatile', 0.050873499806426636),\n",
       " (u'Brokelyn', 0.050159266815044984),\n",
       " (u'Thomas_Wendt', 0.04928304274889483),\n",
       " (u'kristalberg', 0.048492150121635734),\n",
       " (u'Sdropp39', 0.04840293332780265),\n",
       " (u'zeldman', 0.04787311265969803),\n",
       " (u'BaconSeason', 0.046533550009218654),\n",
       " (u'blackoutpete', 0.04627224365355901),\n",
       " (u'neiki2u', 0.04580778048490177),\n",
       " (u'kfalter', 0.04574917251456311),\n",
       " (u'tambobambo', 0.04557293106944673),\n",
       " (u'helloericho', 0.045284484401977514),\n",
       " (u'krysXtyna', 0.045039985575681236),\n",
       " (u'kim617', 0.044711101302320214),\n",
       " (u'rich1', 0.04293902988173245),\n",
       " (u'janatrantow', 0.04161946217791703),\n",
       " (u'SandersAK', 0.04012256992802872),\n",
       " (u'ceonyc', 0.03799261836528119),\n",
       " (u'zingbot', 0.037456445993031356),\n",
       " (u'JasonLBaptiste', 0.036626651401508364),\n",
       " (u'seektravel', 0.03642605585594672),\n",
       " (u'ADiLorenzoWFTV', 0.036387471655328796),\n",
       " (u'frankmorano', 0.03554056898278731),\n",
       " (u'Malbonnington', 0.03443186217576461),\n",
       " (u'dimsumNYC', 0.03443186217576461),\n",
       " (u'tarngerine', 0.03433424389253368),\n",
       " (u'JackReichert', 0.03400842044134727),\n",
       " (u'ekeneijeoma', 0.03397212543554007),\n",
       " (u'tensafefrogs', 0.033960027100271004),\n",
       " (u'placenamehere', 0.033960027100271004),\n",
       " (u'zmccune', 0.033043796059802205),\n",
       " (u'jasonkeath', 0.032473218174800624),\n",
       " (u'ellactricitee', 0.032124745592906484),\n",
       " (u'DeidreDoom', 0.031358885017421644),\n",
       " (u'KimberlyAnneR', 0.029796135049216767),\n",
       " (u'tmilewski', 0.029634739960868555),\n",
       " (u'merrybubbles', 0.029538085559427045),\n",
       " (u'kessler', 0.029108679366878148),\n",
       " (u'twatan', 0.028101256732652114),\n",
       " (u'BobbyTBD', 0.027560007742934572),\n",
       " (u'heartOFqueens', 0.026386702698480615),\n",
       " (u'AnnieFeighery', 0.026215804788594425),\n",
       " (u'Seilback', 0.02550593824004105),\n",
       " (u'CraigElimeliah', 0.025242825224037223),\n",
       " (u'april_conyers', 0.02432056454599786),\n",
       " (u'thomaskaplan', 0.02375118513057686),\n",
       " (u'joshspear', 0.023356561609258787),\n",
       " (u'sd', 0.022345669454861224),\n",
       " (u'lifeinthekey', 0.02234237021366813),\n",
       " (u'erova', 0.021998737754550513),\n",
       " (u'epc', 0.021990276683555233),\n",
       " (u'robertgorell', 0.02189570026584231),\n",
       " (u'katierosman', 0.021707012810804432),\n",
       " (u'greengart', 0.02144954187637115),\n",
       " (u'jakehammel', 0.020727472899728996),\n",
       " (u'rieglobe', 0.020642784552845527),\n",
       " (u'ModernUrbanLife', 0.020252290268985982),\n",
       " (u'benjgott', 0.019913629408402925),\n",
       " (u'ckurdziel', 0.01939021081860863),\n",
       " (u'sjkaliski', 0.018225186310980208),\n",
       " (u'MichaelBerner', 0.01757311427362014),\n",
       " (u'SteveScottWCBS', 0.017252226093689507),\n",
       " (u'kenanigdebeli', 0.017243152342237708),\n",
       " (u'FredRdgz', 0.017243152342237708),\n",
       " (u'mariejoelle', 0.017243152342237708),\n",
       " (u'MetrovelvetTV', 0.017243152342237708),\n",
       " (u'bhutson718', 0.017208502285524105),\n",
       " (u'jrlevine', 0.017130308866378497),\n",
       " (u'JorgeO', 0.016875990066832925),\n",
       " (u'chenyanqing', 0.01643542875026616),\n",
       " (u'Luvume1', 0.016386708919011474),\n",
       " (u'KallMeKG', 0.015906027044964327),\n",
       " (u'honeyberk', 0.015649196670538133),\n",
       " (u'TheDitmarsStrip', 0.015609102362953455),\n",
       " (u'Vivnsect', 0.014845928311375465),\n",
       " (u'MikeFraietta', 0.014469680257100409),\n",
       " (u'jamesfacts', 0.014407769508459492),\n",
       " (u'jonathanmena', 0.014347277832114159),\n",
       " (u'JBWPhoto', 0.014303180057027323),\n",
       " (u'jimmyrey', 0.014283906832595514),\n",
       " (u'newspeddler', 0.014120370370370372),\n",
       " (u'PatricksBeer', 0.013882436443412057),\n",
       " (u'EricCarvin', 0.013864692218350756),\n",
       " (u'ericgrant', 0.013840495547812621),\n",
       " (u'NickAForte', 0.013840495547812621),\n",
       " (u'MaggieBoruk', 0.013840495547812621),\n",
       " (u'craigkeller', 0.013840495547812621),\n",
       " (u'ewood02', 0.01382824394678647),\n",
       " (u'JeffPinilla', 0.013710553665910808),\n",
       " (u'brettking', 0.013647979953457939),\n",
       " (u'aparnamuk', 0.01361941898382085),\n",
       " (u'kende', 0.012871217253839204),\n",
       " (u'learmonth', 0.012866304515517561),\n",
       " (u'buritica', 0.012475931561206672),\n",
       " (u'mattgunn', 0.012256484161374169),\n",
       " (u'cdessi', 0.01178733734809519),\n",
       " (u'smart', 0.011678526081946314),\n",
       " (u'jeffpulver', 0.011394542111005527),\n",
       " (u'paulbz', 0.011048992342200815),\n",
       " (u'rupalparekh', 0.010880897947172629),\n",
       " (u'eramirem', 0.01086266958832327),\n",
       " (u'leighleighsf', 0.009617218233652617),\n",
       " (u'emilysteel', 0.008538016042008495),\n",
       " (u'Keidson', 0.008457414593085338),\n",
       " (u'merib', 0.008391736606566745),\n",
       " (u'donohoe', 0.008207376220587603),\n",
       " (u'Niketa', 0.0070718950219353025),\n",
       " (u'bdotdub', 0.007006812823708341),\n",
       " (u'sammandel', 0.006987091076267905),\n",
       " (u'JeffStoecker', 0.006944444444444444),\n",
       " (u'leijudy', 0.006944444444444444),\n",
       " (u'shaig', 0.006944444444444444),\n",
       " (u'malbonster', 0.006944444444444444),\n",
       " (u'polinchock', 0.006944444444444444),\n",
       " (u'SuperGreek', 0.006944444444444444),\n",
       " (u'Arthur_Bovino', 0.006944444444444444),\n",
       " (u'rpolanskyWFSB', 0.006944444444444444),\n",
       " (u'ricenbeats', 0.006944444444444444),\n",
       " (u'tvmattscott', 0.006944444444444444),\n",
       " (u'heyfeifer', 0.006944444444444444),\n",
       " (u'DTGiveBack', 0.006944444444444444),\n",
       " (u'brklynwegohard', 0.006944444444444444),\n",
       " (u'itsAdam', 0.006944444444444444),\n",
       " (u'TDaneNYC', 0.006944444444444444),\n",
       " (u'thejjmg', 0.006944444444444444),\n",
       " (u'kellypurkey', 0.006944444444444444),\n",
       " (u'MikeBronfman', 0.006657036070789696),\n",
       " (u'digenger', 0.006281042792003882),\n",
       " (u'caitiecoll', 0.006060491580503499),\n",
       " (u'paullyoung', 0.005900977866715381),\n",
       " (u'greggweiss', 0.005416285971085382),\n",
       " (u'NoahXArts', 0.005270428519194488),\n",
       " (u'xrisfg', 0.004591519873532068),\n",
       " (u'olaforsstrom', 0.004154246669309097),\n",
       " (u'deesix', 0.004127344861229878),\n",
       " (u'Mlsif', 0.004098726537206503),\n",
       " (u'henrikberggren', 0.003977236487235031),\n",
       " (u'htmiguel', 0.0039552530587664125),\n",
       " (u'LukeKingma', 0.00393659351856579),\n",
       " (u'jodimckee', 0.0034964188927603564),\n",
       " (u'jenonizzle', 0.003472222222222222),\n",
       " (u'hollville', 0.0034480255516840877),\n",
       " (u'anoopr', 0.0033962594756729455),\n",
       " (u'Belbey', 0.0027947154471545006),\n",
       " (u'vvalcu', 0.002680237350134272),\n",
       " (u'finitor', 0.002562234279150428),\n",
       " (u'PaulWontorek', 0.002133541424699961),\n",
       " (u'bdickason', 0.00208845590725236),\n",
       " (u'SeanValjean', 0.002014816169414747),\n",
       " (u'nchirls', 0.0015832194566950664),\n",
       " (u'amrosario', 0.0015770180023228803),\n",
       " (u'hoff', 0.0014521757309866603),\n",
       " (u'winedanddined', 0.0012199154729642535),\n",
       " (u'c4milo', 0.0011825461506972832),\n",
       " (u'julian_dunn', 0.0010946977029294102),\n",
       " (u'EmmaBGardner', 0.0010807856749167725),\n",
       " (u'MallorieRose', 0.0010733527828475564),\n",
       " (u'brianlevin', 0.0009529649297179785),\n",
       " (u'gob', 0.0008011387285124216),\n",
       " (u'riozilla', 0.0007830138399286796),\n",
       " (u'jesselamb', 0.0007545502778917873),\n",
       " (u'eelain212', 0.0006547769722856832),\n",
       " (u'TheClayFox', 0.0004281267065031084),\n",
       " (u'elisebartlett', 0.0004244709411284759),\n",
       " (u'DrewNeisser', 0.00011493418505613628),\n",
       " (u'AlexandraOstrow', 6.049167634533488e-06),\n",
       " (u'MrsBigEars09', 0.0),\n",
       " (u'atogle', 0.0),\n",
       " (u'tarekp', 0.0),\n",
       " (u'jenbee', 0.0),\n",
       " (u'adriennebyard', 0.0),\n",
       " (u'EricMcClureBK', 0.0),\n",
       " (u'raywert', 0.0),\n",
       " (u'christiewalsh', 0.0),\n",
       " (u'ad454', 0.0),\n",
       " (u'NicholasPClarke', 0.0),\n",
       " (u'layla515', 0.0),\n",
       " (u'jpchan', 0.0),\n",
       " (u'jonthedots', 0.0),\n",
       " (u'bridget_widget', 0.0),\n",
       " (u'vaynerman', 0.0),\n",
       " (u'kioken', 0.0),\n",
       " (u'dantekgeek', 0.0),\n",
       " (u'jessehutchison', 0.0),\n",
       " (u'epstein', 0.0),\n",
       " (u'jfryer2000', 0.0),\n",
       " (u'mdlcsquared', 0.0),\n",
       " (u'scottevandavis', 0.0),\n",
       " (u'juanguzman5422', 0.0),\n",
       " (u'ItsMeSpector', 0.0),\n",
       " (u'jaypinho', 0.0),\n",
       " (u'thebobferguson', 0.0),\n",
       " (u'MAJMikeLyons', 0.0),\n",
       " (u'MMERCERBROWN', 0.0),\n",
       " (u'nguarracino', 0.0),\n",
       " (u'SIYankeefan', 0.0),\n",
       " (u'ATSiem', 0.0),\n",
       " (u'adampdouglas', 0.0),\n",
       " (u'JohnExley', 0.0),\n",
       " (u'dmgerbino', 0.0),\n",
       " (u'LiteraLee', 0.0),\n",
       " (u'TheNYCMenuGirl', 0.0),\n",
       " (u'MissMJByrne', 0.0),\n",
       " (u'burghlaw', 0.0),\n",
       " (u'ThisGirlCanEat', 0.0),\n",
       " (u'gboruk', 0.0),\n",
       " (u'sebbean', 0.0),\n",
       " (u'Dicky_Trix79', 0.0),\n",
       " (u'shannonpareil', 0.0),\n",
       " (u'chrispalle', 0.0),\n",
       " (u'dsaezgil', 0.0),\n",
       " (u'erinolan', 0.0),\n",
       " (u'FriedWontons4u', 0.0),\n",
       " (u'AleWifey', 0.0),\n",
       " (u'John_EL', 0.0),\n",
       " (u'twebeck', 0.0),\n",
       " (u'NatashaChef', 0.0),\n",
       " (u'SavorySweetLive', 0.0),\n",
       " (u'MeeraLitaTandon', 0.0),\n",
       " (u'tommorton', 0.0),\n",
       " (u'marylovesrafael', 0.0),\n",
       " (u'papillonc', 0.0),\n",
       " (u'daveyarmon', 0.0),\n",
       " (u'jghellum', 0.0),\n",
       " (u'Almorrisnews', 0.0),\n",
       " (u'maxwyeth', 0.0),\n",
       " (u'friskygeek', 0.0),\n",
       " (u'emmarocks', 0.0),\n",
       " (u'joevitale226', 0.0),\n",
       " (u'typertist', 0.0),\n",
       " (u'robspychala', 0.0),\n",
       " (u'tamiiiiiiiiiiii', 0.0),\n",
       " (u'superacidjax', 0.0),\n",
       " (u'Chefbriduff', 0.0),\n",
       " (u'gangsta_leen', 0.0),\n",
       " (u'stribs', 0.0),\n",
       " (u'jsorrenti', 0.0),\n",
       " (u'dsavel', 0.0),\n",
       " (u'MarielMendoza', 0.0),\n",
       " (u'megbroph', 0.0),\n",
       " (u'moughthere', 0.0),\n",
       " (u'candicehoyes', 0.0),\n",
       " (u'adkap', 0.0),\n",
       " (u'TrishDag319', 0.0),\n",
       " (u'MalbecBen', 0.0),\n",
       " (u'wtorrealba', 0.0),\n",
       " (u'lloyd_says', 0.0),\n",
       " (u'mokindo', 0.0),\n",
       " (u'kenneth212', 0.0),\n",
       " (u'mashcode', 0.0),\n",
       " (u'shirland', 0.0),\n",
       " (u'unitof', 0.0),\n",
       " (u'DRussNBC', 0.0)]"
      ]
     },
     "execution_count": 213,
     "metadata": {},
     "output_type": "execute_result"
    }
   ],
   "source": [
    "sorted(nx.betweenness_centrality(strong[0]).items(), key=lambda x:x[1], reverse=True)"
   ]
  },
  {
   "cell_type": "code",
   "execution_count": 214,
   "metadata": {
    "collapsed": false
   },
   "outputs": [
    {
     "data": {
      "text/plain": [
       "[(u'neiki2u', 0.49631236569599535),\n",
       " (u'caitiecoll', 0.4782051152716978),\n",
       " (u'chenyanqing', 0.4588408823046921),\n",
       " (u'ellactricitee', 0.3876712170186493),\n",
       " (u'LukeKingma', 0.3265848613982305),\n",
       " (u'ricenbeats', 0.16419258384218507),\n",
       " (u'MalbecBen', 0.10788438301544617),\n",
       " (u'gangsta_leen', 0.10306886626368689),\n",
       " (u'jessehutchison', 0.057141662642730705),\n",
       " (u'SeanValjean', 0.05013401418673682),\n",
       " (u'elisebartlett', 0.03809444176182047),\n",
       " (u'a0k', 0.019936247888095154),\n",
       " (u'krysXtyna', 0.019311376991934734),\n",
       " (u'jasonkeath', 0.015012966652573073),\n",
       " (u'Chefbriduff', 0.006301296819863708),\n",
       " (u'twatan', 0.003499513371161888),\n",
       " (u'BaconSeason', 0.0022903587024515515),\n",
       " (u'KimberlyAnneR', 0.0017824175300187196),\n",
       " (u'alexmiz', 0.001019551989262192),\n",
       " (u'lloyd_says', 0.0009401642399408083),\n",
       " (u'Thomas_Wendt', 0.0007725250711423127),\n",
       " (u'Jmodio', 0.0006564574741831005),\n",
       " (u'Stwo', 0.0006557754373114142),\n",
       " (u'harryh', 0.0006475468570091656),\n",
       " (u'JorgeO', 0.0004892686419462507),\n",
       " (u'DeidreDoom', 0.0004553259920429577),\n",
       " (u'april_conyers', 0.00044300288990660203),\n",
       " (u'RickWebb', 0.00036277367276586205),\n",
       " (u'anoopr', 0.00026638140084353187),\n",
       " (u'arainert', 0.00023167941119366887),\n",
       " (u'finitor', 0.00022732401171497707),\n",
       " (u'af', 0.00020305666525531128),\n",
       " (u'caro', 0.00017063553554514248),\n",
       " (u'ewood02', 0.0001358713583603198),\n",
       " (u'merrybubbles', 0.0001226579598942023),\n",
       " (u'tmilewski', 9.688300516895783e-05),\n",
       " (u'dN0t', 9.455161881267268e-05),\n",
       " (u'janatrantow', 8.745162600710927e-05),\n",
       " (u'MissMJByrne', 7.566297518761223e-05),\n",
       " (u'zmccune', 6.795397311006066e-05),\n",
       " (u'steketee', 6.529168331484098e-05),\n",
       " (u'erova', 6.47933073444231e-05),\n",
       " (u'emmarocks', 6.0662870114405145e-05),\n",
       " (u'MissVersatile', 5.774622425079903e-05),\n",
       " (u'epstein', 5.5824357935957254e-05),\n",
       " (u'NicholasPClarke', 5.3712774212479645e-05),\n",
       " (u'katologic', 5.08371238590408e-05),\n",
       " (u'bridget_widget', 5.044198345840815e-05),\n",
       " (u'vaynerman', 5.044198345840815e-05),\n",
       " (u'aparnamuk', 5.0421688297692764e-05),\n",
       " (u'bdotdub', 4.5279748639002656e-05),\n",
       " (u'noneck', 4.24640556314997e-05),\n",
       " (u'DrewNeisser', 4.1774800993809485e-05),\n",
       " (u'joshspear', 3.6064969174202154e-05),\n",
       " (u'mbaratz', 3.594039459627995e-05),\n",
       " (u'MrsBigEars09', 3.5556906706467824e-05),\n",
       " (u'dsavel', 3.412691452198634e-05),\n",
       " (u'MaggieBoruk', 3.400353219771186e-05),\n",
       " (u'brettking', 2.9869177983215292e-05),\n",
       " (u'gboruk', 2.6941402459919024e-05),\n",
       " (u'Shaila', 2.6835027246548445e-05),\n",
       " (u'Belbey', 2.6827021890115757e-05),\n",
       " (u'Brokelyn', 2.5221133625715806e-05),\n",
       " (u'JasonLBaptiste', 2.4326929777971236e-05),\n",
       " (u'tonybgoode', 2.330185213479345e-05),\n",
       " (u'cfohlin', 2.022878111721405e-05),\n",
       " (u'learmonth', 2.0158533672747472e-05),\n",
       " (u'ModernUrbanLife', 1.9200967186070016e-05),\n",
       " (u'ckurdziel', 1.740924973777364e-05),\n",
       " (u'TheClayFox', 1.49390538180583e-05),\n",
       " (u'tamiiiiiiiiiiii', 1.4921555789083688e-05),\n",
       " (u'helloericho', 1.4060827886877206e-05),\n",
       " (u'MichaelBerner', 1.3451363910903225e-05),\n",
       " (u'Vivnsect', 1.3404495351323652e-05),\n",
       " (u'ceonyc', 1.2155257952969292e-05),\n",
       " (u'kessler', 1.2094885471825816e-05),\n",
       " (u'JamesDeanX', 1.1551006831046391e-05),\n",
       " (u'ThisGirlCanEat', 1.0846686956184846e-05),\n",
       " (u'Malbonnington', 9.83215165930132e-06),\n",
       " (u'htmiguel', 9.76378301210339e-06),\n",
       " (u'deesix', 9.760616385134488e-06),\n",
       " (u'eramirem', 9.588782838391835e-06),\n",
       " (u'JesseCFriedman', 8.80541867390098e-06),\n",
       " (u'kingsleyharris', 8.793815868703983e-06),\n",
       " (u'eelain212', 8.22897978345156e-06),\n",
       " (u'mokindo', 8.22897978345156e-06),\n",
       " (u'Niketa', 8.162498223873864e-06),\n",
       " (u'SimsJames', 8.159743854977232e-06),\n",
       " (u'MikeBronfman', 8.134453098120572e-06),\n",
       " (u'buritica', 7.949523954844243e-06),\n",
       " (u'kim617', 7.217038200972385e-06),\n",
       " (u'blake', 6.80235519882529e-06),\n",
       " (u'papillonc', 6.702247675661826e-06),\n",
       " (u'SandersAK', 5.8014319346722384e-06),\n",
       " (u'BobbyTBD', 5.638524345066802e-06),\n",
       " (u'greggweiss', 5.471902006368944e-06),\n",
       " (u'gob', 5.302847243149589e-06),\n",
       " (u'c4milo', 5.243715647918061e-06),\n",
       " (u'Dicky_Trix79', 5.201750370475679e-06),\n",
       " (u'jesselamb', 5.104647182968581e-06),\n",
       " (u'rich1', 4.8132044290723965e-06),\n",
       " (u'kristalberg', 4.6982755048881535e-06),\n",
       " (u'TDaneNYC', 4.631978691516633e-06),\n",
       " (u'ATSiem', 4.52260854684606e-06),\n",
       " (u'rupalparekh', 4.315706280670372e-06),\n",
       " (u'Mlsif', 4.206922939242953e-06),\n",
       " (u'shaig', 4.0737752019215735e-06),\n",
       " (u'rieglobe', 4.006476175110901e-06),\n",
       " (u'jrlevine', 3.7311364853602336e-06),\n",
       " (u'sjkaliski', 3.3863970011878155e-06),\n",
       " (u'sd', 3.2320185754072317e-06),\n",
       " (u'SuperGreek', 2.7692826131303912e-06),\n",
       " (u'dantekgeek', 2.7556298161559655e-06),\n",
       " (u'chrispalle', 2.486925964847281e-06),\n",
       " (u'emilysteel', 2.4653716779343987e-06),\n",
       " (u'kfalter', 2.3715024193556277e-06),\n",
       " (u'binghott', 2.1498616808726873e-06),\n",
       " (u'cdessi', 2.1150102399503892e-06),\n",
       " (u'saschasegan', 2.104892530958126e-06),\n",
       " (u'AnnieFeighery', 2.095789495159651e-06),\n",
       " (u'jaypinho', 1.8540422700280078e-06),\n",
       " (u'DamianDazz', 1.8128902674050541e-06),\n",
       " (u'patkiernan', 1.8046815434485742e-06),\n",
       " (u'epc', 1.7385457844085158e-06),\n",
       " (u'kende', 1.6384991367457777e-06),\n",
       " (u'EricMcClureBK', 1.6342402497036412e-06),\n",
       " (u'twebeck', 1.6342402497036412e-06),\n",
       " (u'hoff', 1.4589871969908257e-06),\n",
       " (u'FriedWontons4u', 1.4450747020012122e-06),\n",
       " (u'robertgorell', 1.331282093868259e-06),\n",
       " (u'julian_dunn', 1.2318774070365182e-06),\n",
       " (u'MallorieRose', 1.2081700352810463e-06),\n",
       " (u'mattgunn', 1.1567442551889671e-06),\n",
       " (u'dmgerbino', 1.1463805111771394e-06),\n",
       " (u'jghellum', 1.0429116563939156e-06),\n",
       " (u'superacidjax', 1.038217172734543e-06),\n",
       " (u'jsorrenti', 9.564337612218574e-07),\n",
       " (u'gregmocker', 9.00875768827317e-07),\n",
       " (u'FrankRamblings', 8.466036120718395e-07),\n",
       " (u'malbonster', 8.304092499479829e-07),\n",
       " (u'wtorrealba', 8.042758358975577e-07),\n",
       " (u'riozilla', 7.863565097599262e-07),\n",
       " (u'ikebrooker', 7.461453849625682e-07),\n",
       " (u'tarngerine', 7.288176431891537e-07),\n",
       " (u'paullyoung', 7.152559841606744e-07),\n",
       " (u'katierosman', 6.980574858994926e-07),\n",
       " (u'JBWPhoto', 6.956274411120801e-07),\n",
       " (u'tarekp', 6.714154146285644e-07),\n",
       " (u'maxwyeth', 6.357898869953807e-07),\n",
       " (u'CraigElimeliah', 6.174570724380924e-07),\n",
       " (u'leighleighsf', 5.368654518151558e-07),\n",
       " (u'polinchock', 4.144472731278596e-07),\n",
       " (u'tommorton', 4.1369277916224304e-07),\n",
       " (u'greengart', 4.1011933458111345e-07),\n",
       " (u'brianlevin', 3.774928456515055e-07),\n",
       " (u'smart', 3.6624748453230633e-07),\n",
       " (u'MeeraLitaTandon', 3.5632230481347276e-07),\n",
       " (u'zingbot', 3.5153418886967077e-07),\n",
       " (u'robspychala', 3.507715104216507e-07),\n",
       " (u'PaulWontorek', 3.413428466503873e-07),\n",
       " (u'unitof', 3.2850857484908005e-07),\n",
       " (u'NatashaChef', 3.2501826735110934e-07),\n",
       " (u'JohnExley', 2.896890683135987e-07),\n",
       " (u'ericgrant', 2.781003869596123e-07),\n",
       " (u'DTGiveBack', 2.7790249319449116e-07),\n",
       " (u'jimmyrey', 2.6885791839226885e-07),\n",
       " (u'jeffchatterton', 2.1941419849762266e-07),\n",
       " (u'shannonpareil', 2.0037528175308157e-07),\n",
       " (u'Seilback', 1.9356261487513282e-07),\n",
       " (u'jenbee', 1.8179721747155715e-07),\n",
       " (u'FredRdgz', 1.682157392895257e-07),\n",
       " (u'honeyberk', 1.6657510844535255e-07),\n",
       " (u'gwhizkids', 1.6234991071755164e-07),\n",
       " (u'nchirls', 1.61395327098279e-07),\n",
       " (u'henrikberggren', 1.4659699852373404e-07),\n",
       " (u'dsaezgil', 1.3404597264959294e-07),\n",
       " (u'Sdropp39', 1.2105769950404942e-07),\n",
       " (u'candicehoyes', 1.1424170885300891e-07),\n",
       " (u'moughthere', 1.106225308283178e-07),\n",
       " (u'MikeFraietta', 1.1012163787868471e-07),\n",
       " (u'Keidson', 9.600650526629184e-08),\n",
       " (u'kendrad', 8.932551035082522e-08),\n",
       " (u'EricCarvin', 8.329072660657386e-08),\n",
       " (u'EmmaBGardner', 8.315407553484151e-08),\n",
       " (u'frankmorano', 8.263945597954666e-08),\n",
       " (u'SteveScottWCBS', 7.91995934325473e-08),\n",
       " (u'jonathanmena', 7.539117899308121e-08),\n",
       " (u'jfryer2000', 7.539117899308121e-08),\n",
       " (u'ItsMeSpector', 7.539117899308121e-08),\n",
       " (u'TheDitmarsStrip', 7.37483538855452e-08),\n",
       " (u'typertist', 7.37483538855452e-08),\n",
       " (u'donohoe', 5.863879940949361e-08),\n",
       " (u'digenger', 5.4840717602131986e-08),\n",
       " (u'raywert', 5.3896367765457344e-08),\n",
       " (u'xrisfg', 4.809146269594805e-08),\n",
       " (u'jenonizzle', 4.313491238641821e-08),\n",
       " (u'ekeneijeoma', 4.184644489841891e-08),\n",
       " (u'marylovesrafael', 3.846248138560741e-08),\n",
       " (u'juanguzman5422', 3.68741769427726e-08),\n",
       " (u'ad454', 3.68741769427726e-08),\n",
       " (u'benjgott', 3.572800339880754e-08),\n",
       " (u'jonthedots', 3.5271537721342874e-08),\n",
       " (u'thejjmg', 2.9671887489147875e-08),\n",
       " (u'paulbz', 2.9271062556136503e-08),\n",
       " (u'merib', 2.9142152041847828e-08),\n",
       " (u'thomaskaplan', 2.623232229557579e-08),\n",
       " (u'blackoutpete', 2.12037887712854e-08),\n",
       " (u'MMERCERBROWN', 1.7603009318666777e-08),\n",
       " (u'LiteraLee', 1.7480542582758435e-08),\n",
       " (u'atogle', 1.3948814966139637e-08),\n",
       " (u'geofffox', 1.3051365381402624e-08),\n",
       " (u'John_EL', 1.0736403742591512e-08),\n",
       " (u'daveyarmon', 1.0661296098504512e-08),\n",
       " (u'jakehammel', 7.207047621061226e-09),\n",
       " (u'kioken', 7.044176955195594e-09),\n",
       " (u'MAJMikeLyons', 6.693430658064764e-09),\n",
       " (u'jeffpulver', 6.687301887834111e-09),\n",
       " (u'mashcode', 6.647721143283905e-09),\n",
       " (u'bdickason', 5.929697606186516e-09),\n",
       " (u'tambobambo', 5.336779554732445e-09),\n",
       " (u'JeffPinilla', 5.022486707830506e-09),\n",
       " (u'erinolan', 3.9030816222685125e-09),\n",
       " (u'SIYankeefan', 3.82401157442381e-09),\n",
       " (u'itsAdam', 3.7644317015592166e-09),\n",
       " (u'burghlaw', 3.522088477597797e-09),\n",
       " (u'jamesfacts', 3.1895743505396588e-09),\n",
       " (u'heartOFqueens', 3.055038012411352e-09),\n",
       " (u'mdlcsquared', 2.8827011142791213e-09),\n",
       " (u'adkap', 2.371879042474607e-09),\n",
       " (u'NoahXArts', 2.19709198737556e-09),\n",
       " (u'kenneth212', 2.1283536515874265e-09),\n",
       " (u'AlexandraOstrow', 1.8864815426143954e-09),\n",
       " (u'amrosario', 1.8459699275551021e-09),\n",
       " (u'tensafefrogs', 1.6755751124404736e-09),\n",
       " (u'Almorrisnews', 1.5068473742187463e-09),\n",
       " (u'lifeinthekey', 1.37711068231984e-09),\n",
       " (u'christiewalsh', 1.3360719228210575e-09),\n",
       " (u'olaforsstrom', 1.3131146102943604e-09),\n",
       " (u'sammandel', 1.2165906846558927e-09),\n",
       " (u'seektravel', 1.0641768257937133e-09),\n",
       " (u'NickAForte', 1.0060631484238476e-09),\n",
       " (u'adampdouglas', 6.166812691134163e-10),\n",
       " (u'ADiLorenzoWFTV', 5.426865617037262e-10),\n",
       " (u'tvmattscott', 5.031272253676633e-10),\n",
       " (u'layla515', 5.022824580729155e-10),\n",
       " (u'nguarracino', 5.022824580729155e-10),\n",
       " (u'vvalcu', 4.4397928799082094e-10),\n",
       " (u'Luvume1', 3.5590753626770733e-10),\n",
       " (u'MetrovelvetTV', 3.374958436101947e-10),\n",
       " (u'TrishDag319', 2.685670858147804e-10),\n",
       " (u'PatricksBeer', 2.5671890676904723e-10),\n",
       " (u'TimeOutNewYork', 2.230849069224891e-10),\n",
       " (u'friskygeek', 1.984339376881436e-10),\n",
       " (u'scottevandavis', 1.6744600463183035e-10),\n",
       " (u'kellypurkey', 1.389018186600079e-10),\n",
       " (u'placenamehere', 1.3459106981553408e-10),\n",
       " (u'bhutson718', 1.2725919522749402e-10),\n",
       " (u'KallMeKG', 6.565158898832774e-11),\n",
       " (u'thebobferguson', 5.3042348060688965e-11),\n",
       " (u'ilovenycfood', 5.085577805163061e-11),\n",
       " (u'heyfeifer', 3.886949379228706e-11),\n",
       " (u'joevitale226', 2.1912593496483975e-11),\n",
       " (u'JeffStoecker', 2.0998108835519836e-11),\n",
       " (u'jodimckee', 1.9327893833667842e-11),\n",
       " (u'kenanigdebeli', 1.457760452674326e-11),\n",
       " (u'winedanddined', 1.3372489360834422e-11),\n",
       " (u'AleWifey', 1.079603587091979e-11),\n",
       " (u'zeldman', 5.5286661247837455e-12),\n",
       " (u'newspeddler', 5.275979743858418e-12),\n",
       " (u'hollville', 4.236963432315088e-12),\n",
       " (u'athenahoya', 3.9048353935589485e-12),\n",
       " (u'TheNYCMenuGirl', 3.522330869883717e-12),\n",
       " (u'rpolanskyWFSB', 2.7678756623483073e-12),\n",
       " (u'DRussNBC', 2.428516642218529e-12),\n",
       " (u'stribs', 1.5583845515800439e-12),\n",
       " (u'mariejoelle', 6.353244096111759e-13),\n",
       " (u'SavorySweetLive', 5.67526427981451e-13),\n",
       " (u'dimsumNYC', 5.286871547572715e-13),\n",
       " (u'craigkeller', 4.5259397350496794e-13),\n",
       " (u'JackReichert', 4.5082072565514164e-13),\n",
       " (u'leijudy', 2.680683365495371e-13),\n",
       " (u'sebbean', 2.2541036282757082e-13),\n",
       " (u'megbroph', 2.1375041680351385e-13),\n",
       " (u'Arthur_Bovino', 5.435008987282047e-14),\n",
       " (u'brklynwegohard', 4.265260308996546e-14),\n",
       " (u'MarielMendoza', 2.654345135477473e-14),\n",
       " (u'jpchan', 2.606215342624946e-14),\n",
       " (u'shirland', 1.2412734948784275e-14),\n",
       " (u'adriennebyard', 8.347553678994454e-15)]"
      ]
     },
     "execution_count": 214,
     "metadata": {},
     "output_type": "execute_result"
    }
   ],
   "source": [
    "sorted(nx.eigenvector_centrality(strong[0]).items(), key=lambda x:x[1], reverse=True)"
   ]
  },
  {
   "cell_type": "code",
   "execution_count": 215,
   "metadata": {
    "collapsed": false
   },
   "outputs": [
    {
     "data": {
      "text/plain": [
       "[(u'patkiernan', 0.01917195806434515),\n",
       " (u'harryh', 0.01775843839273613),\n",
       " (u'Jmodio', 0.015030476371480977),\n",
       " (u'EricCarvin', 0.01484367979408208),\n",
       " (u'gregmocker', 0.013107410689166252),\n",
       " (u'RickWebb', 0.012051745297638578),\n",
       " (u'tonybgoode', 0.011757790481352316),\n",
       " (u'arainert', 0.011266349468459317),\n",
       " (u'geofffox', 0.010344257978153084),\n",
       " (u'caro', 0.009881962552500092),\n",
       " (u'JorgeO', 0.009790899343410308),\n",
       " (u'DeidreDoom', 0.009483730788564713),\n",
       " (u'buritica', 0.00913959744177275),\n",
       " (u'SteveScottWCBS', 0.009054867350110234),\n",
       " (u'rich1', 0.008069268323024197),\n",
       " (u'af', 0.008014734923249977),\n",
       " (u'JesseCFriedman', 0.007972017895314487),\n",
       " (u'chenyanqing', 0.00796985229201277),\n",
       " (u'sd', 0.007690067304820796),\n",
       " (u'frankmorano', 0.007465010668660272),\n",
       " (u'BobbyTBD', 0.007455066945301258),\n",
       " (u'ellactricitee', 0.007448023650548932),\n",
       " (u'cdessi', 0.007311909995176457),\n",
       " (u'sjkaliski', 0.007299678641896642),\n",
       " (u'MallorieRose', 0.007238462995460989),\n",
       " (u'neiki2u', 0.007170810157306489),\n",
       " (u'erova', 0.007114006693219477),\n",
       " (u'caitiecoll', 0.007026983793101205),\n",
       " (u'noneck', 0.0070080437764891545),\n",
       " (u'kioken', 0.00682334807647658),\n",
       " (u'kim617', 0.006527568551088434),\n",
       " (u'brklynwegohard', 0.006467525582050534),\n",
       " (u'dimsumNYC', 0.006382118068745885),\n",
       " (u'PatricksBeer', 0.006342326100946836),\n",
       " (u'Malbonnington', 0.006121943252631615),\n",
       " (u'twatan', 0.005989494759806148),\n",
       " (u'saschasegan', 0.005966432019606857),\n",
       " (u'steketee', 0.005915033614302559),\n",
       " (u'kendrad', 0.0058817452294831485),\n",
       " (u'anoopr', 0.005868542093995199),\n",
       " (u'Sdropp39', 0.0057956351307694165),\n",
       " (u'kfalter', 0.005522006292941018),\n",
       " (u'JBWPhoto', 0.005412824904800521),\n",
       " (u'zeldman', 0.005408336325462036),\n",
       " (u'blake', 0.0053772361017040814),\n",
       " (u'Dicky_Trix79', 0.005334574032961632),\n",
       " (u'mbaratz', 0.005228596607403108),\n",
       " (u'janatrantow', 0.005119864589070246),\n",
       " (u'tamiiiiiiiiiiii', 0.005044985994319244),\n",
       " (u'leijudy', 0.00500971374797024),\n",
       " (u'DTGiveBack', 0.004871867076796343),\n",
       " (u'greengart', 0.004807904853229488),\n",
       " (u'shirland', 0.00479046859501922),\n",
       " (u'kessler', 0.004733444370080466),\n",
       " (u'FrankRamblings', 0.0047199932542464065),\n",
       " (u'jodimckee', 0.004678121227392227),\n",
       " (u'ADiLorenzoWFTV', 0.004678091512552494),\n",
       " (u'katologic', 0.004676627895677776),\n",
       " (u'april_conyers', 0.0046664521464376925),\n",
       " (u'blackoutpete', 0.00466425431498209),\n",
       " (u'MikeBronfman', 0.004606129979066342),\n",
       " (u'finitor', 0.004602897450309847),\n",
       " (u'athenahoya', 0.004588112742652361),\n",
       " (u'ricenbeats', 0.004527927863982218),\n",
       " (u'dN0t', 0.004520428000194959),\n",
       " (u'Shaila', 0.0044597633251251875),\n",
       " (u'eramirem', 0.004452080516121295),\n",
       " (u'jeffpulver', 0.004327468800984667),\n",
       " (u'MrsBigEars09', 0.004220691711442399),\n",
       " (u'ikebrooker', 0.004101761383862687),\n",
       " (u'c4milo', 0.004087883041144745),\n",
       " (u'NatashaChef', 0.004069270480201939),\n",
       " (u'jrlevine', 0.004046006571324636),\n",
       " (u'digenger', 0.004044844679005545),\n",
       " (u'KimberlyAnneR', 0.004026687171300037),\n",
       " (u'LukeKingma', 0.003992321285148387),\n",
       " (u'MissVersatile', 0.003927379618842633),\n",
       " (u'MichaelBerner', 0.0039251746791638285),\n",
       " (u'MaggieBoruk', 0.0038910072951352094),\n",
       " (u'JeffStoecker', 0.003835273835016633),\n",
       " (u'shaig', 0.0037925197589110194),\n",
       " (u'malbonster', 0.00371270494442323),\n",
       " (u'thejjmg', 0.003712048336255664),\n",
       " (u'SandersAK', 0.0037112590676924326),\n",
       " (u'ceonyc', 0.0036944285178211692),\n",
       " (u'emilysteel', 0.00369184086070765),\n",
       " (u'burghlaw', 0.0036711896091725462),\n",
       " (u'KallMeKG', 0.0036533401039476896),\n",
       " (u'cfohlin', 0.0036323974870182242),\n",
       " (u'Stwo', 0.003618830256580779),\n",
       " (u'ewood02', 0.0036011906826737103),\n",
       " (u'MAJMikeLyons', 0.003597426889349854),\n",
       " (u'Luvume1', 0.0035835192158442195),\n",
       " (u'PaulWontorek', 0.003570885383809798),\n",
       " (u'thomaskaplan', 0.003563357518906918),\n",
       " (u'helloericho', 0.0035247299709119956),\n",
       " (u'hoff', 0.003521571023132775),\n",
       " (u'Niketa', 0.0034661456391865083),\n",
       " (u'LiteraLee', 0.003403771782278868),\n",
       " (u'joshspear', 0.0033964632597374166),\n",
       " (u'zingbot', 0.0033817669165702217),\n",
       " (u'MikeFraietta', 0.0033712169028568837),\n",
       " (u'adriennebyard', 0.003365957443002813),\n",
       " (u'MetrovelvetTV', 0.0033490443197911352),\n",
       " (u'Arthur_Bovino', 0.0033434045743151296),\n",
       " (u'tambobambo', 0.0033228591173489505),\n",
       " (u'mattgunn', 0.0033170586620509734),\n",
       " (u'jakehammel', 0.0032899713611672407),\n",
       " (u'Brokelyn', 0.0032871713733120893),\n",
       " (u'superacidjax', 0.0032822035393517196),\n",
       " (u'Mlsif', 0.0032771923697442846),\n",
       " (u'learmonth', 0.0032711170075443476),\n",
       " (u'ATSiem', 0.0032436298353106445),\n",
       " (u'AnnieFeighery', 0.0032223080158604277),\n",
       " (u'SimsJames', 0.003208433403362924),\n",
       " (u'Almorrisnews', 0.0031551688195167026),\n",
       " (u'JasonLBaptiste', 0.003148787519192954),\n",
       " (u'NickAForte', 0.0031134907694471982),\n",
       " (u'TDaneNYC', 0.003099228037239948),\n",
       " (u'Seilback', 0.003089811357312122),\n",
       " (u'moughthere', 0.0030876987822427444),\n",
       " (u'kingsleyharris', 0.003065167692274524),\n",
       " (u'lloyd_says', 0.0030645257177491984),\n",
       " (u'merrybubbles', 0.0030423616541845767),\n",
       " (u'joevitale226', 0.003028438228203703),\n",
       " (u'kellypurkey', 0.003015179529495846),\n",
       " (u'hollville', 0.003000999422177988),\n",
       " (u'olaforsstrom', 0.0029960987593766284),\n",
       " (u'ckurdziel', 0.0029849473342686197),\n",
       " (u'tmilewski', 0.0029836117470792623),\n",
       " (u'tarngerine', 0.002967718518144287),\n",
       " (u'craigkeller', 0.002966831202724756),\n",
       " (u'DRussNBC', 0.0029622614364337345),\n",
       " (u'bdotdub', 0.002952980430369745),\n",
       " (u'heartOFqueens', 0.0029493571847808387),\n",
       " (u'gob', 0.0029436141151267725),\n",
       " (u'TimeOutNewYork', 0.002934606374128696),\n",
       " (u'Vivnsect', 0.0029190567821443117),\n",
       " (u'alexmiz', 0.0029134174753718853),\n",
       " (u'DamianDazz', 0.0028901285909930267),\n",
       " (u'NoahXArts', 0.002883193142894388),\n",
       " (u'gangsta_leen', 0.002873923401131816),\n",
       " (u'jonathanmena', 0.0028467627181216096),\n",
       " (u'jfryer2000', 0.0028467627181216096),\n",
       " (u'ItsMeSpector', 0.0028467627181216096),\n",
       " (u'a0k', 0.002846666652068826),\n",
       " (u'jeffchatterton', 0.0028437594205090065),\n",
       " (u'SuperGreek', 0.002827521019674495),\n",
       " (u'sammandel', 0.0027941947659048502),\n",
       " (u'jesselamb', 0.0027849910822221107),\n",
       " (u'kristalberg', 0.0027552898453476957),\n",
       " (u'Thomas_Wendt', 0.002710459788121196),\n",
       " (u'katierosman', 0.002700723376613227),\n",
       " (u'ekeneijeoma', 0.0026747023971090706),\n",
       " (u'gwhizkids', 0.002664195969456137),\n",
       " (u'scottevandavis', 0.0026450562442601137),\n",
       " (u'benjgott', 0.002642496850365511),\n",
       " (u'polinchock', 0.0026360301680586045),\n",
       " (u'robertgorell', 0.002612565324445109),\n",
       " (u'nchirls', 0.0025888243149913403),\n",
       " (u'zmccune', 0.0025754193247956273),\n",
       " (u'gboruk', 0.0025698951351777574),\n",
       " (u'winedanddined', 0.0025695032613397813),\n",
       " (u'xrisfg', 0.0025373903532770687),\n",
       " (u'SIYankeefan', 0.002528988355152973),\n",
       " (u'placenamehere', 0.00251185712813978),\n",
       " (u'aparnamuk', 0.0024318661816838116),\n",
       " (u'friskygeek', 0.002418817141789254),\n",
       " (u'christiewalsh', 0.002401464133431619),\n",
       " (u'adampdouglas', 0.002383314175142065),\n",
       " (u'jamesfacts', 0.0023703392546756494),\n",
       " (u'TrishDag319', 0.00235817757656458),\n",
       " (u'itsAdam', 0.002357464878489948),\n",
       " (u'JackReichert', 0.0023566258522746547),\n",
       " (u'ericgrant', 0.002350124621779952),\n",
       " (u'leighleighsf', 0.0023472703232245823),\n",
       " (u'tensafefrogs', 0.0023448785590738613),\n",
       " (u'AleWifey', 0.0023164829344915223),\n",
       " (u'rpolanskyWFSB', 0.002290576971521769),\n",
       " (u'jimmyrey', 0.0022875306521614614),\n",
       " (u'TheNYCMenuGirl', 0.0022719972209977015),\n",
       " (u'ModernUrbanLife', 0.0022636886821715972),\n",
       " (u'typertist', 0.002231476235451334),\n",
       " (u'TheDitmarsStrip', 0.002231476235451334),\n",
       " (u'JamesDeanX', 0.0022224802251422007),\n",
       " (u'vvalcu', 0.00221669570541028),\n",
       " (u'epstein', 0.0022121511842669106),\n",
       " (u'BaconSeason', 0.002208619043765193),\n",
       " (u'DrewNeisser', 0.0021630075151392726),\n",
       " (u'wtorrealba', 0.0021530906030470965),\n",
       " (u'ThisGirlCanEat', 0.002148070081091357),\n",
       " (u'merib', 0.0021330561787447633),\n",
       " (u'kenneth212', 0.0021041460243754213),\n",
       " (u'rieglobe', 0.0021023671433774076),\n",
       " (u'shannonpareil', 0.0020881077652947907),\n",
       " (u'honeyberk', 0.002066651670326758),\n",
       " (u'tvmattscott', 0.0020413198892042283),\n",
       " (u'FriedWontons4u', 0.0020279072543747576),\n",
       " (u'henrikberggren', 0.002024909343513895),\n",
       " (u'dantekgeek', 0.0020181897386373528),\n",
       " (u'kende', 0.0020157116983604705),\n",
       " (u'newspeddler', 0.0020100997687437687),\n",
       " (u'CraigElimeliah', 0.0019710904077171773),\n",
       " (u'heyfeifer', 0.0019697968171013326),\n",
       " (u'donohoe', 0.001929390903870894),\n",
       " (u'deesix', 0.0019249446838657028),\n",
       " (u'stribs', 0.0018922838388847306),\n",
       " (u'greggweiss', 0.0018842168875740218),\n",
       " (u'tarekp', 0.0018709972942186842),\n",
       " (u'dsavel', 0.001841217653851741),\n",
       " (u'htmiguel', 0.001823711142411778),\n",
       " (u'emmarocks', 0.0017995717458733605),\n",
       " (u'mariejoelle', 0.0017668294814542698),\n",
       " (u'JeffPinilla', 0.0017629661418314558),\n",
       " (u'marylovesrafael', 0.001746591878713809),\n",
       " (u'julian_dunn', 0.0017462234256553839),\n",
       " (u'Belbey', 0.0017284744708301054),\n",
       " (u'papillonc', 0.001719043962006412),\n",
       " (u'brettking', 0.001641004373630117),\n",
       " (u'lifeinthekey', 0.0016345396842555246),\n",
       " (u'rupalparekh', 0.00160808620865972),\n",
       " (u'binghott', 0.0016038860761295997),\n",
       " (u'mdlcsquared', 0.0015707937112448014),\n",
       " (u'tommorton', 0.001559913915356274),\n",
       " (u'MalbecBen', 0.0015395885825727988),\n",
       " (u'Keidson', 0.001508792982205004),\n",
       " (u'brianlevin', 0.0014989365082341323),\n",
       " (u'megbroph', 0.0014926888724303982),\n",
       " (u'kenanigdebeli', 0.0014679669725114353),\n",
       " (u'sebbean', 0.0014378284970715835),\n",
       " (u'krysXtyna', 0.0014331923552459457),\n",
       " (u'jsorrenti', 0.0014215339174784977),\n",
       " (u'SavorySweetLive', 0.0014189985932370705),\n",
       " (u'NicholasPClarke', 0.0014070046059113553),\n",
       " (u'jghellum', 0.0014029178370604958),\n",
       " (u'layla515', 0.0013977437010845757),\n",
       " (u'nguarracino', 0.0013977437010845757),\n",
       " (u'MeeraLitaTandon', 0.0013972892916923165),\n",
       " (u'MissMJByrne', 0.0013899348088222234),\n",
       " (u'jasonkeath', 0.001375806558237852),\n",
       " (u'ad454', 0.001375253688659923),\n",
       " (u'juanguzman5422', 0.001375253688659923),\n",
       " (u'TheClayFox', 0.0013643956500956865),\n",
       " (u'smart', 0.0013629301577943675),\n",
       " (u'bhutson718', 0.0013543802917851708),\n",
       " (u'SeanValjean', 0.0013173295913894846),\n",
       " (u'seektravel', 0.0013115885831219668),\n",
       " (u'jonthedots', 0.0013079821717471125),\n",
       " (u'maxwyeth', 0.001298863785199787),\n",
       " (u'jpchan', 0.0012932615206991955),\n",
       " (u'chrispalle', 0.0012733569506103008),\n",
       " (u'candicehoyes', 0.0012695134652166394),\n",
       " (u'MMERCERBROWN', 0.001265907127597618),\n",
       " (u'atogle', 0.0012375882269486985),\n",
       " (u'epc', 0.00122458825377947),\n",
       " (u'ilovenycfood', 0.001190801001780349),\n",
       " (u'jessehutchison', 0.0011494805568133368),\n",
       " (u'John_EL', 0.0011106497782799461),\n",
       " (u'mashcode', 0.0011045937143123682),\n",
       " (u'bridget_widget', 0.00109963358650432),\n",
       " (u'vaynerman', 0.00109963358650432),\n",
       " (u'jenonizzle', 0.00108184499085759),\n",
       " (u'adkap', 0.0010656976970234875),\n",
       " (u'EricMcClureBK', 0.0010605867680812853),\n",
       " (u'twebeck', 0.0010605867680812853),\n",
       " (u'amrosario', 0.0010582265999309521),\n",
       " (u'JohnExley', 0.0010234101192443854),\n",
       " (u'jaypinho', 0.0010210525359582597),\n",
       " (u'eelain212', 0.0010056629869723871),\n",
       " (u'mokindo', 0.0010056629869723871),\n",
       " (u'daveyarmon', 0.0010051557270790215),\n",
       " (u'unitof', 0.001004564078910192),\n",
       " (u'jenbee', 0.0009874138791629706),\n",
       " (u'riozilla', 0.0009824533677468038),\n",
       " (u'thebobferguson', 0.000982202458495545),\n",
       " (u'AlexandraOstrow', 0.0009787802105131198),\n",
       " (u'paullyoung', 0.0009666543183350744),\n",
       " (u'raywert', 0.0009631822570773155),\n",
       " (u'elisebartlett', 0.0009393307518317285),\n",
       " (u'FredRdgz', 0.0008764368643103626),\n",
       " (u'dmgerbino', 0.0008676133434301634),\n",
       " (u'bdickason', 0.0008632711487807788),\n",
       " (u'MarielMendoza', 0.000858153508740106),\n",
       " (u'Chefbriduff', 0.0008397111563891366),\n",
       " (u'erinolan', 0.0008396626277220028),\n",
       " (u'EmmaBGardner', 0.0008233783348674871),\n",
       " (u'dsaezgil', 0.0007913743853982763),\n",
       " (u'paulbz', 0.0007712879507689595),\n",
       " (u'robspychala', 0.0006722949189254456)]"
      ]
     },
     "execution_count": 215,
     "metadata": {},
     "output_type": "execute_result"
    }
   ],
   "source": [
    "sorted(nx.pagerank(strong[0]).items(), key=lambda x:x[1], reverse=True)"
   ]
  },
  {
   "cell_type": "markdown",
   "metadata": {},
   "source": [
    "## Analysis over the time slices"
   ]
  },
  {
   "cell_type": "code",
   "execution_count": 123,
   "metadata": {
    "collapsed": true
   },
   "outputs": [],
   "source": [
    "B=nx.read_weighted_edgelist('../data/replyUserNetBefore.csv',delimiter=',',create_using=nx.DiGraph())"
   ]
  },
  {
   "cell_type": "code",
   "execution_count": 124,
   "metadata": {
    "collapsed": true
   },
   "outputs": [],
   "source": [
    "D=nx.read_weighted_edgelist('../data/replyUserNetDuring.csv',delimiter=',',create_using=nx.DiGraph())"
   ]
  },
  {
   "cell_type": "code",
   "execution_count": 125,
   "metadata": {
    "collapsed": true
   },
   "outputs": [],
   "source": [
    "A=nx.read_weighted_edgelist('../data/replyUserNetAfter.csv',delimiter=',',create_using=nx.DiGraph())"
   ]
  },
  {
   "cell_type": "code",
   "execution_count": 126,
   "metadata": {
    "collapsed": true
   },
   "outputs": [],
   "source": [
    "L=nx.read_weighted_edgelist('../data/replyUserNetLafter.csv',delimiter=',',create_using=nx.DiGraph())"
   ]
  },
  {
   "cell_type": "code",
   "execution_count": 127,
   "metadata": {
    "collapsed": false
   },
   "outputs": [
    {
     "data": {
      "text/plain": [
       "786"
      ]
     },
     "execution_count": 127,
     "metadata": {},
     "output_type": "execute_result"
    }
   ],
   "source": [
    "len(B)"
   ]
  },
  {
   "cell_type": "code",
   "execution_count": 128,
   "metadata": {
    "collapsed": false
   },
   "outputs": [
    {
     "data": {
      "text/plain": [
       "789"
      ]
     },
     "execution_count": 128,
     "metadata": {},
     "output_type": "execute_result"
    }
   ],
   "source": [
    "B.number_of_edges()"
   ]
  },
  {
   "cell_type": "code",
   "execution_count": 129,
   "metadata": {
    "collapsed": false
   },
   "outputs": [
    {
     "data": {
      "text/plain": [
       "1768"
      ]
     },
     "execution_count": 129,
     "metadata": {},
     "output_type": "execute_result"
    }
   ],
   "source": [
    "len(D)"
   ]
  },
  {
   "cell_type": "code",
   "execution_count": 130,
   "metadata": {
    "collapsed": false
   },
   "outputs": [
    {
     "data": {
      "text/plain": [
       "2000"
      ]
     },
     "execution_count": 130,
     "metadata": {},
     "output_type": "execute_result"
    }
   ],
   "source": [
    "D.number_of_edges()"
   ]
  },
  {
   "cell_type": "code",
   "execution_count": 131,
   "metadata": {
    "collapsed": false
   },
   "outputs": [
    {
     "data": {
      "text/plain": [
       "1243"
      ]
     },
     "execution_count": 131,
     "metadata": {},
     "output_type": "execute_result"
    }
   ],
   "source": [
    "len(A)"
   ]
  },
  {
   "cell_type": "code",
   "execution_count": 132,
   "metadata": {
    "collapsed": false
   },
   "outputs": [
    {
     "data": {
      "text/plain": [
       "1310"
      ]
     },
     "execution_count": 132,
     "metadata": {},
     "output_type": "execute_result"
    }
   ],
   "source": [
    "A.number_of_edges()"
   ]
  },
  {
   "cell_type": "code",
   "execution_count": 133,
   "metadata": {
    "collapsed": false
   },
   "outputs": [
    {
     "data": {
      "text/plain": [
       "890"
      ]
     },
     "execution_count": 133,
     "metadata": {},
     "output_type": "execute_result"
    }
   ],
   "source": [
    "len(L)"
   ]
  },
  {
   "cell_type": "code",
   "execution_count": 134,
   "metadata": {
    "collapsed": false
   },
   "outputs": [
    {
     "data": {
      "text/plain": [
       "892"
      ]
     },
     "execution_count": 134,
     "metadata": {},
     "output_type": "execute_result"
    }
   ],
   "source": [
    "L.number_of_edges()"
   ]
  },
  {
   "cell_type": "markdown",
   "metadata": {},
   "source": [
    "**Takeaway:**\n",
    "* All the time slice networks are sparse\n",
    "* Conversational patterns accrue over time\n",
    "* And maybe 10 days is too short to see something?"
   ]
  },
  {
   "cell_type": "markdown",
   "metadata": {},
   "source": [
    "### Components"
   ]
  },
  {
   "cell_type": "markdown",
   "metadata": {},
   "source": [
    "#### Before"
   ]
  },
  {
   "cell_type": "code",
   "execution_count": 135,
   "metadata": {
    "collapsed": false
   },
   "outputs": [],
   "source": [
    "b_str_comps=nx.strongly_connected_component_subgraphs(B)"
   ]
  },
  {
   "cell_type": "code",
   "execution_count": 136,
   "metadata": {
    "collapsed": false
   },
   "outputs": [
    {
     "data": {
      "text/plain": [
       "596"
      ]
     },
     "execution_count": 136,
     "metadata": {},
     "output_type": "execute_result"
    }
   ],
   "source": [
    "len(list(b_str_comps))"
   ]
  },
  {
   "cell_type": "code",
   "execution_count": 137,
   "metadata": {
    "collapsed": false
   },
   "outputs": [],
   "source": [
    "b_weak_comps=nx.weakly_connected_component_subgraphs(B)"
   ]
  },
  {
   "cell_type": "code",
   "execution_count": 138,
   "metadata": {
    "collapsed": false
   },
   "outputs": [
    {
     "data": {
      "text/plain": [
       "410"
      ]
     },
     "execution_count": 138,
     "metadata": {},
     "output_type": "execute_result"
    }
   ],
   "source": [
    "len(list(b_weak_comps))"
   ]
  },
  {
   "cell_type": "code",
   "execution_count": 139,
   "metadata": {
    "collapsed": true
   },
   "outputs": [],
   "source": [
    "b_strong=sorted(nx.strongly_connected_component_subgraphs(B), key = len, reverse=True)"
   ]
  },
  {
   "cell_type": "code",
   "execution_count": 140,
   "metadata": {
    "collapsed": false
   },
   "outputs": [
    {
     "data": {
      "text/plain": [
       "13"
      ]
     },
     "execution_count": 140,
     "metadata": {},
     "output_type": "execute_result"
    }
   ],
   "source": [
    "len(b_strong[0])"
   ]
  },
  {
   "cell_type": "code",
   "execution_count": 141,
   "metadata": {
    "collapsed": true
   },
   "outputs": [],
   "source": [
    "b_weak=sorted(nx.weakly_connected_component_subgraphs(B), key = len, reverse=True)"
   ]
  },
  {
   "cell_type": "code",
   "execution_count": 142,
   "metadata": {
    "collapsed": false
   },
   "outputs": [
    {
     "data": {
      "text/plain": [
       "51"
      ]
     },
     "execution_count": 142,
     "metadata": {},
     "output_type": "execute_result"
    }
   ],
   "source": [
    "len(b_weak[0])"
   ]
  },
  {
   "cell_type": "code",
   "execution_count": 143,
   "metadata": {
    "collapsed": false
   },
   "outputs": [
    {
     "data": {
      "text/plain": [
       "0.0648854961832061"
      ]
     },
     "execution_count": 143,
     "metadata": {},
     "output_type": "execute_result"
    }
   ],
   "source": [
    "len(b_weak[0])/float(len(B))"
   ]
  },
  {
   "cell_type": "code",
   "execution_count": 144,
   "metadata": {
    "collapsed": false
   },
   "outputs": [
    {
     "data": {
      "text/plain": [
       "0.01653944020356234"
      ]
     },
     "execution_count": 144,
     "metadata": {},
     "output_type": "execute_result"
    }
   ],
   "source": [
    "len(b_strong[0])/float(len(B))"
   ]
  },
  {
   "cell_type": "markdown",
   "metadata": {},
   "source": [
    "#### During"
   ]
  },
  {
   "cell_type": "code",
   "execution_count": 145,
   "metadata": {
    "collapsed": false
   },
   "outputs": [],
   "source": [
    "d_str_comps=nx.strongly_connected_component_subgraphs(D)"
   ]
  },
  {
   "cell_type": "code",
   "execution_count": 146,
   "metadata": {
    "collapsed": false
   },
   "outputs": [
    {
     "data": {
      "text/plain": [
       "1292"
      ]
     },
     "execution_count": 146,
     "metadata": {},
     "output_type": "execute_result"
    }
   ],
   "source": [
    "len(list(d_str_comps))"
   ]
  },
  {
   "cell_type": "code",
   "execution_count": 147,
   "metadata": {
    "collapsed": false
   },
   "outputs": [],
   "source": [
    "d_weak_comps=nx.weakly_connected_component_subgraphs(D)"
   ]
  },
  {
   "cell_type": "code",
   "execution_count": 148,
   "metadata": {
    "collapsed": false
   },
   "outputs": [
    {
     "data": {
      "text/plain": [
       "662"
      ]
     },
     "execution_count": 148,
     "metadata": {},
     "output_type": "execute_result"
    }
   ],
   "source": [
    "len(list(d_weak_comps))"
   ]
  },
  {
   "cell_type": "code",
   "execution_count": 149,
   "metadata": {
    "collapsed": true
   },
   "outputs": [],
   "source": [
    "d_strong=sorted(nx.strongly_connected_component_subgraphs(D), key = len, reverse=True)"
   ]
  },
  {
   "cell_type": "code",
   "execution_count": 150,
   "metadata": {
    "collapsed": false
   },
   "outputs": [
    {
     "data": {
      "text/plain": [
       "71"
      ]
     },
     "execution_count": 150,
     "metadata": {},
     "output_type": "execute_result"
    }
   ],
   "source": [
    "len(d_strong[0])"
   ]
  },
  {
   "cell_type": "code",
   "execution_count": 151,
   "metadata": {
    "collapsed": true
   },
   "outputs": [],
   "source": [
    "d_weak=sorted(nx.weakly_connected_component_subgraphs(D), key = len, reverse=True)"
   ]
  },
  {
   "cell_type": "code",
   "execution_count": 152,
   "metadata": {
    "collapsed": false
   },
   "outputs": [
    {
     "data": {
      "text/plain": [
       "527"
      ]
     },
     "execution_count": 152,
     "metadata": {},
     "output_type": "execute_result"
    }
   ],
   "source": [
    "len(d_weak[0])"
   ]
  },
  {
   "cell_type": "code",
   "execution_count": 153,
   "metadata": {
    "collapsed": false
   },
   "outputs": [
    {
     "data": {
      "text/plain": [
       "0.2980769230769231"
      ]
     },
     "execution_count": 153,
     "metadata": {},
     "output_type": "execute_result"
    }
   ],
   "source": [
    "len(d_weak[0])/float(len(D))"
   ]
  },
  {
   "cell_type": "code",
   "execution_count": 154,
   "metadata": {
    "collapsed": false
   },
   "outputs": [
    {
     "data": {
      "text/plain": [
       "0.040158371040723985"
      ]
     },
     "execution_count": 154,
     "metadata": {},
     "output_type": "execute_result"
    }
   ],
   "source": [
    "len(d_strong[0])/float(len(D))"
   ]
  },
  {
   "cell_type": "markdown",
   "metadata": {},
   "source": [
    "#### After"
   ]
  },
  {
   "cell_type": "code",
   "execution_count": 155,
   "metadata": {
    "collapsed": false
   },
   "outputs": [],
   "source": [
    "a_str_comps=nx.strongly_connected_component_subgraphs(A)"
   ]
  },
  {
   "cell_type": "code",
   "execution_count": 156,
   "metadata": {
    "collapsed": false
   },
   "outputs": [
    {
     "data": {
      "text/plain": [
       "930"
      ]
     },
     "execution_count": 156,
     "metadata": {},
     "output_type": "execute_result"
    }
   ],
   "source": [
    "len(list(a_str_comps))"
   ]
  },
  {
   "cell_type": "code",
   "execution_count": 157,
   "metadata": {
    "collapsed": false
   },
   "outputs": [],
   "source": [
    "a_weak_comps=nx.weakly_connected_component_subgraphs(A)"
   ]
  },
  {
   "cell_type": "code",
   "execution_count": 158,
   "metadata": {
    "collapsed": false
   },
   "outputs": [
    {
     "data": {
      "text/plain": [
       "570"
      ]
     },
     "execution_count": 158,
     "metadata": {},
     "output_type": "execute_result"
    }
   ],
   "source": [
    "len(list(a_weak_comps))"
   ]
  },
  {
   "cell_type": "code",
   "execution_count": 159,
   "metadata": {
    "collapsed": true
   },
   "outputs": [],
   "source": [
    "a_strong=sorted(nx.strongly_connected_component_subgraphs(A), key = len, reverse=True)"
   ]
  },
  {
   "cell_type": "code",
   "execution_count": 160,
   "metadata": {
    "collapsed": false
   },
   "outputs": [
    {
     "data": {
      "text/plain": [
       "13"
      ]
     },
     "execution_count": 160,
     "metadata": {},
     "output_type": "execute_result"
    }
   ],
   "source": [
    "len(a_strong[0])"
   ]
  },
  {
   "cell_type": "code",
   "execution_count": 161,
   "metadata": {
    "collapsed": true
   },
   "outputs": [],
   "source": [
    "a_weak=sorted(nx.weakly_connected_component_subgraphs(A), key = len, reverse=True)"
   ]
  },
  {
   "cell_type": "code",
   "execution_count": 162,
   "metadata": {
    "collapsed": false
   },
   "outputs": [
    {
     "data": {
      "text/plain": [
       "142"
      ]
     },
     "execution_count": 162,
     "metadata": {},
     "output_type": "execute_result"
    }
   ],
   "source": [
    "len(a_weak[0])"
   ]
  },
  {
   "cell_type": "code",
   "execution_count": 163,
   "metadata": {
    "collapsed": false
   },
   "outputs": [
    {
     "data": {
      "text/plain": [
       "0.11423974255832663"
      ]
     },
     "execution_count": 163,
     "metadata": {},
     "output_type": "execute_result"
    }
   ],
   "source": [
    "len(a_weak[0])/float(len(A))"
   ]
  },
  {
   "cell_type": "code",
   "execution_count": 164,
   "metadata": {
    "collapsed": false
   },
   "outputs": [
    {
     "data": {
      "text/plain": [
       "0.010458567980691875"
      ]
     },
     "execution_count": 164,
     "metadata": {},
     "output_type": "execute_result"
    }
   ],
   "source": [
    "len(a_strong[0])/float(len(A))"
   ]
  },
  {
   "cell_type": "markdown",
   "metadata": {},
   "source": [
    "#### Long After"
   ]
  },
  {
   "cell_type": "code",
   "execution_count": 165,
   "metadata": {
    "collapsed": false
   },
   "outputs": [],
   "source": [
    "l_str_comps=nx.strongly_connected_component_subgraphs(L)"
   ]
  },
  {
   "cell_type": "code",
   "execution_count": 166,
   "metadata": {
    "collapsed": false
   },
   "outputs": [
    {
     "data": {
      "text/plain": [
       "665"
      ]
     },
     "execution_count": 166,
     "metadata": {},
     "output_type": "execute_result"
    }
   ],
   "source": [
    "len(list(l_str_comps))"
   ]
  },
  {
   "cell_type": "code",
   "execution_count": 167,
   "metadata": {
    "collapsed": false
   },
   "outputs": [],
   "source": [
    "l_weak_comps=nx.weakly_connected_component_subgraphs(L)"
   ]
  },
  {
   "cell_type": "code",
   "execution_count": 168,
   "metadata": {
    "collapsed": false
   },
   "outputs": [
    {
     "data": {
      "text/plain": [
       "438"
      ]
     },
     "execution_count": 168,
     "metadata": {},
     "output_type": "execute_result"
    }
   ],
   "source": [
    "len(list(l_weak_comps))"
   ]
  },
  {
   "cell_type": "code",
   "execution_count": 169,
   "metadata": {
    "collapsed": true
   },
   "outputs": [],
   "source": [
    "l_strong=sorted(nx.strongly_connected_component_subgraphs(L), key = len, reverse=True)"
   ]
  },
  {
   "cell_type": "code",
   "execution_count": 170,
   "metadata": {
    "collapsed": false
   },
   "outputs": [
    {
     "data": {
      "text/plain": [
       "10"
      ]
     },
     "execution_count": 170,
     "metadata": {},
     "output_type": "execute_result"
    }
   ],
   "source": [
    "len(l_strong[0])"
   ]
  },
  {
   "cell_type": "code",
   "execution_count": 171,
   "metadata": {
    "collapsed": true
   },
   "outputs": [],
   "source": [
    "l_weak=sorted(nx.weakly_connected_component_subgraphs(L), key = len, reverse=True)"
   ]
  },
  {
   "cell_type": "code",
   "execution_count": 172,
   "metadata": {
    "collapsed": false
   },
   "outputs": [
    {
     "data": {
      "text/plain": [
       "26"
      ]
     },
     "execution_count": 172,
     "metadata": {},
     "output_type": "execute_result"
    }
   ],
   "source": [
    "len(l_weak[0])"
   ]
  },
  {
   "cell_type": "code",
   "execution_count": 173,
   "metadata": {
    "collapsed": false
   },
   "outputs": [
    {
     "data": {
      "text/plain": [
       "0.029213483146067417"
      ]
     },
     "execution_count": 173,
     "metadata": {},
     "output_type": "execute_result"
    }
   ],
   "source": [
    "len(l_weak[0])/float(len(L))"
   ]
  },
  {
   "cell_type": "code",
   "execution_count": 174,
   "metadata": {
    "collapsed": false
   },
   "outputs": [
    {
     "data": {
      "text/plain": [
       "0.011235955056179775"
      ]
     },
     "execution_count": 174,
     "metadata": {},
     "output_type": "execute_result"
    }
   ],
   "source": [
    "len(l_strong[0])/float(len(L))"
   ]
  },
  {
   "cell_type": "markdown",
   "metadata": {},
   "source": [
    "**Takeway:**\n",
    "* While all the networks are very sparse and don't have large strong or weakly connected components\n",
    "* The During weakly connected component is QUITE A BIT larger (30%) than Before (7%)\n",
    "* The After weakly connected component is also SLIGHTLY larger than before (11%)\n",
    "* The Long After is the worst - the weakly connected comp is only 3% of the network\n",
    "* So only in During large portion of the network (30%) is connected by people talking/replying to each other\n",
    "* Other time slices have fragmented disconnected networks\n",
    "* Do CHI-SQUARE!!!"
   ]
  },
  {
   "cell_type": "markdown",
   "metadata": {},
   "source": [
    "### Degrees"
   ]
  },
  {
   "cell_type": "code",
   "execution_count": 175,
   "metadata": {
    "collapsed": true
   },
   "outputs": [],
   "source": [
    "b_degree=nx.degree(B)"
   ]
  },
  {
   "cell_type": "code",
   "execution_count": 176,
   "metadata": {
    "collapsed": false
   },
   "outputs": [
    {
     "data": {
      "text/plain": [
       "2.0"
      ]
     },
     "execution_count": 176,
     "metadata": {},
     "output_type": "execute_result"
    }
   ],
   "source": [
    "np.median(b_degree.values())"
   ]
  },
  {
   "cell_type": "code",
   "execution_count": 177,
   "metadata": {
    "collapsed": true
   },
   "outputs": [],
   "source": [
    "d_degree=nx.degree(D)"
   ]
  },
  {
   "cell_type": "code",
   "execution_count": 178,
   "metadata": {
    "collapsed": false
   },
   "outputs": [
    {
     "data": {
      "text/plain": [
       "2.0"
      ]
     },
     "execution_count": 178,
     "metadata": {},
     "output_type": "execute_result"
    }
   ],
   "source": [
    "np.median(d_degree.values())"
   ]
  },
  {
   "cell_type": "code",
   "execution_count": 179,
   "metadata": {
    "collapsed": true
   },
   "outputs": [],
   "source": [
    "a_degree=nx.degree(A)"
   ]
  },
  {
   "cell_type": "code",
   "execution_count": 180,
   "metadata": {
    "collapsed": false
   },
   "outputs": [
    {
     "data": {
      "text/plain": [
       "2.0"
      ]
     },
     "execution_count": 180,
     "metadata": {},
     "output_type": "execute_result"
    }
   ],
   "source": [
    "np.median(a_degree.values())"
   ]
  },
  {
   "cell_type": "code",
   "execution_count": 181,
   "metadata": {
    "collapsed": true
   },
   "outputs": [],
   "source": [
    "la_degree=nx.degree(L)"
   ]
  },
  {
   "cell_type": "code",
   "execution_count": 182,
   "metadata": {
    "collapsed": false
   },
   "outputs": [
    {
     "data": {
      "text/plain": [
       "2.0"
      ]
     },
     "execution_count": 182,
     "metadata": {},
     "output_type": "execute_result"
    }
   ],
   "source": [
    "np.median(la_degree.values())"
   ]
  },
  {
   "cell_type": "markdown",
   "metadata": {},
   "source": [
    "* So all the 4 networks seem to have similar degree distribution\n",
    "* 50% of the distribution is under degree of 2\n",
    "* Meaning that half the users talk to up to two people"
   ]
  },
  {
   "cell_type": "code",
   "execution_count": 183,
   "metadata": {
    "collapsed": true
   },
   "outputs": [],
   "source": [
    "b_indeg=B.in_degree()"
   ]
  },
  {
   "cell_type": "code",
   "execution_count": 184,
   "metadata": {
    "collapsed": true
   },
   "outputs": [],
   "source": [
    "b_outdeg=B.out_degree()"
   ]
  },
  {
   "cell_type": "code",
   "execution_count": 185,
   "metadata": {
    "collapsed": false
   },
   "outputs": [
    {
     "data": {
      "text/plain": [
       "1.0"
      ]
     },
     "execution_count": 185,
     "metadata": {},
     "output_type": "execute_result"
    }
   ],
   "source": [
    "np.median(b_indeg.values())"
   ]
  },
  {
   "cell_type": "code",
   "execution_count": 186,
   "metadata": {
    "collapsed": false
   },
   "outputs": [
    {
     "data": {
      "text/plain": [
       "1.0"
      ]
     },
     "execution_count": 186,
     "metadata": {},
     "output_type": "execute_result"
    }
   ],
   "source": [
    "np.median(b_outdeg.values())"
   ]
  },
  {
   "cell_type": "code",
   "execution_count": 187,
   "metadata": {
    "collapsed": true
   },
   "outputs": [],
   "source": [
    "d_indeg=D.in_degree()"
   ]
  },
  {
   "cell_type": "code",
   "execution_count": 188,
   "metadata": {
    "collapsed": true
   },
   "outputs": [],
   "source": [
    "d_outdeg=D.out_degree()"
   ]
  },
  {
   "cell_type": "code",
   "execution_count": 189,
   "metadata": {
    "collapsed": false
   },
   "outputs": [
    {
     "data": {
      "text/plain": [
       "1.0"
      ]
     },
     "execution_count": 189,
     "metadata": {},
     "output_type": "execute_result"
    }
   ],
   "source": [
    "np.median(d_indeg.values())"
   ]
  },
  {
   "cell_type": "code",
   "execution_count": 190,
   "metadata": {
    "collapsed": false
   },
   "outputs": [
    {
     "data": {
      "text/plain": [
       "1.0"
      ]
     },
     "execution_count": 190,
     "metadata": {},
     "output_type": "execute_result"
    }
   ],
   "source": [
    "np.median(d_outdeg.values())"
   ]
  },
  {
   "cell_type": "code",
   "execution_count": 191,
   "metadata": {
    "collapsed": true
   },
   "outputs": [],
   "source": [
    "a_indeg=A.in_degree()"
   ]
  },
  {
   "cell_type": "code",
   "execution_count": 192,
   "metadata": {
    "collapsed": true
   },
   "outputs": [],
   "source": [
    "a_outdeg=A.out_degree()"
   ]
  },
  {
   "cell_type": "code",
   "execution_count": 193,
   "metadata": {
    "collapsed": false
   },
   "outputs": [
    {
     "data": {
      "text/plain": [
       "1.0"
      ]
     },
     "execution_count": 193,
     "metadata": {},
     "output_type": "execute_result"
    }
   ],
   "source": [
    "np.median(a_indeg.values())"
   ]
  },
  {
   "cell_type": "code",
   "execution_count": 194,
   "metadata": {
    "collapsed": false
   },
   "outputs": [
    {
     "data": {
      "text/plain": [
       "1.0"
      ]
     },
     "execution_count": 194,
     "metadata": {},
     "output_type": "execute_result"
    }
   ],
   "source": [
    "np.median(a_outdeg.values())"
   ]
  },
  {
   "cell_type": "code",
   "execution_count": 195,
   "metadata": {
    "collapsed": true
   },
   "outputs": [],
   "source": [
    "l_indeg=L.in_degree()"
   ]
  },
  {
   "cell_type": "code",
   "execution_count": 196,
   "metadata": {
    "collapsed": true
   },
   "outputs": [],
   "source": [
    "l_outdeg=L.out_degree()"
   ]
  },
  {
   "cell_type": "code",
   "execution_count": 197,
   "metadata": {
    "collapsed": false
   },
   "outputs": [
    {
     "data": {
      "text/plain": [
       "1.0"
      ]
     },
     "execution_count": 197,
     "metadata": {},
     "output_type": "execute_result"
    }
   ],
   "source": [
    "np.median(l_indeg.values())"
   ]
  },
  {
   "cell_type": "code",
   "execution_count": 198,
   "metadata": {
    "collapsed": false
   },
   "outputs": [
    {
     "data": {
      "text/plain": [
       "1.0"
      ]
     },
     "execution_count": 198,
     "metadata": {},
     "output_type": "execute_result"
    }
   ],
   "source": [
    "np.median(l_outdeg.values())"
   ]
  },
  {
   "cell_type": "markdown",
   "metadata": {},
   "source": [
    "* So all the 4 networks seem to have similar in and out degree distribution\n",
    "* 50% of both distribution is under degree of 1\n",
    "* Meaning that half the users reply to and are replied by one other user"
   ]
  },
  {
   "cell_type": "markdown",
   "metadata": {},
   "source": [
    "### Strength"
   ]
  },
  {
   "cell_type": "code",
   "execution_count": 199,
   "metadata": {
    "collapsed": true
   },
   "outputs": [],
   "source": [
    "bA=nx.adjacency_matrix(B)\n",
    "b_strength=np.array(bA.sum(axis=1)).reshape(-1) + np.array(bA.sum(axis=0)).reshape(-1)"
   ]
  },
  {
   "cell_type": "code",
   "execution_count": 200,
   "metadata": {
    "collapsed": false
   },
   "outputs": [
    {
     "data": {
      "text/plain": [
       "2.0"
      ]
     },
     "execution_count": 200,
     "metadata": {},
     "output_type": "execute_result"
    }
   ],
   "source": [
    "np.median(b_strength)"
   ]
  },
  {
   "cell_type": "code",
   "execution_count": 201,
   "metadata": {
    "collapsed": true
   },
   "outputs": [],
   "source": [
    "dA=nx.adjacency_matrix(D)\n",
    "d_strength=np.array(dA.sum(axis=1)).reshape(-1) + np.array(dA.sum(axis=0)).reshape(-1)"
   ]
  },
  {
   "cell_type": "code",
   "execution_count": 202,
   "metadata": {
    "collapsed": false
   },
   "outputs": [
    {
     "data": {
      "text/plain": [
       "2.0"
      ]
     },
     "execution_count": 202,
     "metadata": {},
     "output_type": "execute_result"
    }
   ],
   "source": [
    "np.median(d_strength)"
   ]
  },
  {
   "cell_type": "code",
   "execution_count": 203,
   "metadata": {
    "collapsed": true
   },
   "outputs": [],
   "source": [
    "aA=nx.adjacency_matrix(A)\n",
    "a_strength=np.array(aA.sum(axis=1)).reshape(-1) + np.array(aA.sum(axis=0)).reshape(-1)"
   ]
  },
  {
   "cell_type": "code",
   "execution_count": 204,
   "metadata": {
    "collapsed": false
   },
   "outputs": [
    {
     "data": {
      "text/plain": [
       "2.0"
      ]
     },
     "execution_count": 204,
     "metadata": {},
     "output_type": "execute_result"
    }
   ],
   "source": [
    "np.median(a_strength)"
   ]
  },
  {
   "cell_type": "code",
   "execution_count": 205,
   "metadata": {
    "collapsed": true
   },
   "outputs": [],
   "source": [
    "lA=nx.adjacency_matrix(L)\n",
    "l_strength=np.array(lA.sum(axis=1)).reshape(-1) + np.array(lA.sum(axis=0)).reshape(-1)"
   ]
  },
  {
   "cell_type": "code",
   "execution_count": 206,
   "metadata": {
    "collapsed": false
   },
   "outputs": [
    {
     "data": {
      "text/plain": [
       "2.0"
      ]
     },
     "execution_count": 206,
     "metadata": {},
     "output_type": "execute_result"
    }
   ],
   "source": [
    "np.median(l_strength)"
   ]
  },
  {
   "cell_type": "markdown",
   "metadata": {},
   "source": [
    "### In Strength to Degree Ratios"
   ]
  },
  {
   "cell_type": "markdown",
   "metadata": {},
   "source": [
    "#### Before"
   ]
  },
  {
   "cell_type": "code",
   "execution_count": 207,
   "metadata": {
    "collapsed": true
   },
   "outputs": [],
   "source": [
    "b_in_strength=np.array(bA.sum(axis=0)).reshape(-1)"
   ]
  },
  {
   "cell_type": "code",
   "execution_count": 208,
   "metadata": {
    "collapsed": false
   },
   "outputs": [],
   "source": [
    "# REORDER the in_degree sequence to match the nodelist\n",
    "b_ordInDegree=OrderedDict((n, b_indeg[n]) for n in B.nodes())"
   ]
  },
  {
   "cell_type": "code",
   "execution_count": 209,
   "metadata": {
    "collapsed": false
   },
   "outputs": [
    {
     "data": {
      "text/plain": [
       "<matplotlib.text.Text at 0x7ffa6aad9050>"
      ]
     },
     "execution_count": 209,
     "metadata": {},
     "output_type": "execute_result"
    },
    {
     "data": {
      "image/png": "[encoded data removed]",
      "text/plain": [
       "<matplotlib.figure.Figure at 0x7ffa6b3cdf50>"
      ]
     },
     "metadata": {},
     "output_type": "display_data"
    }
   ],
   "source": [
    "plt.scatter(b_ordInDegree.values(), b_in_strength)\n",
    "plt.xlim(xmin=0)\n",
    "plt.ylim(ymin=0)\n",
    "plt.xlabel('Before node in-degree')\n",
    "plt.ylabel('Before node in-strength')"
   ]
  },
  {
   "cell_type": "code",
   "execution_count": 210,
   "metadata": {
    "collapsed": false
   },
   "outputs": [],
   "source": [
    "b_in_ratio=[x/y if y!=0 else 1 for x, y in zip(b_in_strength.tolist(), b_ordInDegree.values())]"
   ]
  },
  {
   "cell_type": "code",
   "execution_count": 211,
   "metadata": {
    "collapsed": false
   },
   "outputs": [
    {
     "data": {
      "text/plain": [
       "1.0"
      ]
     },
     "execution_count": 211,
     "metadata": {},
     "output_type": "execute_result"
    }
   ],
   "source": [
    "np.median(b_in_ratio)"
   ]
  },
  {
   "cell_type": "markdown",
   "metadata": {},
   "source": [
    "#### During"
   ]
  },
  {
   "cell_type": "code",
   "execution_count": 212,
   "metadata": {
    "collapsed": true
   },
   "outputs": [],
   "source": [
    "d_in_strength=np.array(dA.sum(axis=0)).reshape(-1)"
   ]
  },
  {
   "cell_type": "code",
   "execution_count": 213,
   "metadata": {
    "collapsed": false
   },
   "outputs": [],
   "source": [
    "# REORDER the in_degree sequence to match the nodelist\n",
    "d_ordInDegree=OrderedDict((n, d_indeg[n]) for n in D.nodes())"
   ]
  },
  {
   "cell_type": "code",
   "execution_count": 214,
   "metadata": {
    "collapsed": false
   },
   "outputs": [
    {
     "data": {
      "text/plain": [
       "<matplotlib.text.Text at 0x7ffa6ab56e50>"
      ]
     },
     "execution_count": 214,
     "metadata": {},
     "output_type": "execute_result"
    },
    {
     "data": {
      "image/png": "[encoded data removed]",
      "text/plain": [
       "<matplotlib.figure.Figure at 0x7ffa6aaf86d0>"
      ]
     },
     "metadata": {},
     "output_type": "display_data"
    }
   ],
   "source": [
    "plt.scatter(d_ordInDegree.values(), d_in_strength)\n",
    "plt.xlim(xmin=0)\n",
    "plt.ylim(ymin=0)\n",
    "plt.xlabel('During node in-degree')\n",
    "plt.ylabel('During node in-strength')"
   ]
  },
  {
   "cell_type": "code",
   "execution_count": 215,
   "metadata": {
    "collapsed": false
   },
   "outputs": [],
   "source": [
    "d_in_ratio=[x/y if y!=0 else 1 for x, y in zip(d_in_strength.tolist(), d_ordInDegree.values())]"
   ]
  },
  {
   "cell_type": "code",
   "execution_count": 216,
   "metadata": {
    "collapsed": false
   },
   "outputs": [
    {
     "data": {
      "text/plain": [
       "1.0"
      ]
     },
     "execution_count": 216,
     "metadata": {},
     "output_type": "execute_result"
    }
   ],
   "source": [
    "np.median(d_in_ratio)"
   ]
  },
  {
   "cell_type": "code",
   "execution_count": 217,
   "metadata": {
    "collapsed": false
   },
   "outputs": [
    {
     "data": {
      "text/plain": [
       "u'NYCMayorsOffice'"
      ]
     },
     "execution_count": 217,
     "metadata": {},
     "output_type": "execute_result"
    }
   ],
   "source": [
    "d_indeg.keys()[d_indeg.values().index(65)]"
   ]
  },
  {
   "cell_type": "code",
   "execution_count": 218,
   "metadata": {
    "collapsed": false
   },
   "outputs": [
    {
     "data": {
      "text/plain": [
       "206"
      ]
     },
     "execution_count": 218,
     "metadata": {},
     "output_type": "execute_result"
    }
   ],
   "source": [
    "D.nodes().index('NYCMayorsOffice')"
   ]
  },
  {
   "cell_type": "code",
   "execution_count": 219,
   "metadata": {
    "collapsed": false
   },
   "outputs": [
    {
     "data": {
      "text/plain": [
       "87.0"
      ]
     },
     "execution_count": 219,
     "metadata": {},
     "output_type": "execute_result"
    }
   ],
   "source": [
    "d_in_strength[206]"
   ]
  },
  {
   "cell_type": "code",
   "execution_count": 220,
   "metadata": {
    "collapsed": false
   },
   "outputs": [
    {
     "data": {
      "text/plain": [
       "{}"
      ]
     },
     "execution_count": 220,
     "metadata": {},
     "output_type": "execute_result"
    }
   ],
   "source": [
    "D['NYCMayorsOffice']"
   ]
  },
  {
   "cell_type": "markdown",
   "metadata": {},
   "source": [
    "#### After"
   ]
  },
  {
   "cell_type": "code",
   "execution_count": 221,
   "metadata": {
    "collapsed": true
   },
   "outputs": [],
   "source": [
    "a_in_strength=np.array(aA.sum(axis=0)).reshape(-1)"
   ]
  },
  {
   "cell_type": "code",
   "execution_count": 222,
   "metadata": {
    "collapsed": false
   },
   "outputs": [],
   "source": [
    "# REORDER the in_degree sequence to match the nodelist\n",
    "a_ordInDegree=OrderedDict((n, a_indeg[n]) for n in A.nodes())"
   ]
  },
  {
   "cell_type": "code",
   "execution_count": 223,
   "metadata": {
    "collapsed": false
   },
   "outputs": [
    {
     "data": {
      "text/plain": [
       "<matplotlib.text.Text at 0x7ffa6ab56c50>"
      ]
     },
     "execution_count": 223,
     "metadata": {},
     "output_type": "execute_result"
    },
    {
     "data": {
      "image/png": "[encoded data removed]",
      "text/plain": [
       "<matplotlib.figure.Figure at 0x7ffa6a952510>"
      ]
     },
     "metadata": {},
     "output_type": "display_data"
    }
   ],
   "source": [
    "plt.scatter(a_ordInDegree.values(), a_in_strength)\n",
    "plt.xlim(xmin=0)\n",
    "plt.ylim(ymin=0)\n",
    "plt.xlabel('After node in-degree')\n",
    "plt.ylabel('After node in-strength')"
   ]
  },
  {
   "cell_type": "code",
   "execution_count": 224,
   "metadata": {
    "collapsed": false
   },
   "outputs": [],
   "source": [
    "a_in_ratio=[x/y if y!=0 else 1 for x, y in zip(a_in_strength.tolist(), a_ordInDegree.values())]"
   ]
  },
  {
   "cell_type": "code",
   "execution_count": 225,
   "metadata": {
    "collapsed": false
   },
   "outputs": [
    {
     "data": {
      "text/plain": [
       "1.0"
      ]
     },
     "execution_count": 225,
     "metadata": {},
     "output_type": "execute_result"
    }
   ],
   "source": [
    "np.median(a_in_ratio)"
   ]
  },
  {
   "cell_type": "markdown",
   "metadata": {},
   "source": [
    "#### Long After"
   ]
  },
  {
   "cell_type": "code",
   "execution_count": 226,
   "metadata": {
    "collapsed": true
   },
   "outputs": [],
   "source": [
    "l_in_strength=np.array(lA.sum(axis=0)).reshape(-1)"
   ]
  },
  {
   "cell_type": "code",
   "execution_count": 227,
   "metadata": {
    "collapsed": false
   },
   "outputs": [],
   "source": [
    "# REORDER the in_degree sequence to match the nodelist\n",
    "l_ordInDegree=OrderedDict((n, l_indeg[n]) for n in L.nodes())"
   ]
  },
  {
   "cell_type": "code",
   "execution_count": 228,
   "metadata": {
    "collapsed": false
   },
   "outputs": [
    {
     "data": {
      "text/plain": [
       "<matplotlib.text.Text at 0x7ffa6a8a0dd0>"
      ]
     },
     "execution_count": 228,
     "metadata": {},
     "output_type": "execute_result"
    },
    {
     "data": {
      "image/png": "[encoded data removed]",
      "text/plain": [
       "<matplotlib.figure.Figure at 0x7ffa6aa51150>"
      ]
     },
     "metadata": {},
     "output_type": "display_data"
    }
   ],
   "source": [
    "plt.scatter(l_ordInDegree.values(), l_in_strength)\n",
    "plt.xlim(xmin=0)\n",
    "plt.ylim(ymin=0)\n",
    "plt.xlabel('Long After node in-degree')\n",
    "plt.ylabel('Long After node in-strength')"
   ]
  },
  {
   "cell_type": "code",
   "execution_count": 229,
   "metadata": {
    "collapsed": false
   },
   "outputs": [],
   "source": [
    "l_in_ratio=[x/y if y!=0 else 1 for x, y in zip(l_in_strength.tolist(), l_ordInDegree.values())]"
   ]
  },
  {
   "cell_type": "code",
   "execution_count": 230,
   "metadata": {
    "collapsed": false
   },
   "outputs": [
    {
     "data": {
      "text/plain": [
       "1.0"
      ]
     },
     "execution_count": 230,
     "metadata": {},
     "output_type": "execute_result"
    }
   ],
   "source": [
    "np.median(l_in_ratio)"
   ]
  },
  {
   "cell_type": "markdown",
   "metadata": {},
   "source": [
    "**Takeway:**\n",
    "* Before there isn't a clear relationship between in-degree and in-strength - no matter degree, stength is mostly <10\n",
    "* During there is a clear diagonal trend and most of the data is above the diagonal - avg weight to each friend\n",
    "* After there is a also a clear diagonal trend (less steep than During) and most data is above it - with large spread\n",
    "* Long after strength is almost horizonal and below 10\n",
    "* This means that Before and Long After user receive more or less the same (low) number of replies regardless of how many friends are replying to them\n",
    "* This means that the same number of interactions (being replied to) is spread over more and more friends\n",
    "* In During and After periods, there is a clear diagonal - strength scales with degree\n",
    "* This means that every friend sends some average (more or less constant) number of replies\n",
    "* During there is also a couple of interesting outliers - especially those with few friends and many interacions\n",
    "* Long after, above the diagonal is very dispersed - for the first 4 friends, various number of interactions are divided among them"
   ]
  },
  {
   "cell_type": "markdown",
   "metadata": {},
   "source": [
    "### Out Strength to Degree Ratios"
   ]
  },
  {
   "cell_type": "markdown",
   "metadata": {},
   "source": [
    "#### Before"
   ]
  },
  {
   "cell_type": "code",
   "execution_count": 231,
   "metadata": {
    "collapsed": true
   },
   "outputs": [],
   "source": [
    "b_out_strength=np.array(bA.sum(axis=1)).reshape(-1)"
   ]
  },
  {
   "cell_type": "code",
   "execution_count": 232,
   "metadata": {
    "collapsed": false
   },
   "outputs": [],
   "source": [
    "# REORDER the in_degree sequence to match the nodelist\n",
    "b_ordOutDegree=OrderedDict((n, b_outdeg[n]) for n in B.nodes())"
   ]
  },
  {
   "cell_type": "code",
   "execution_count": 233,
   "metadata": {
    "collapsed": false
   },
   "outputs": [
    {
     "data": {
      "text/plain": [
       "<matplotlib.text.Text at 0x7ffa6a8a0710>"
      ]
     },
     "execution_count": 233,
     "metadata": {},
     "output_type": "execute_result"
    },
    {
     "data": {
      "image/png": "[encoded data removed]",
      "text/plain": [
       "<matplotlib.figure.Figure at 0x7ffa6a7db1d0>"
      ]
     },
     "metadata": {},
     "output_type": "display_data"
    }
   ],
   "source": [
    "plt.scatter(b_ordOutDegree.values(), b_out_strength)\n",
    "plt.xlim(xmin=0)\n",
    "plt.ylim(ymin=0)\n",
    "plt.xlabel('Before node out-degree')\n",
    "plt.ylabel('Before node out-strength')"
   ]
  },
  {
   "cell_type": "code",
   "execution_count": 234,
   "metadata": {
    "collapsed": false
   },
   "outputs": [],
   "source": [
    "b_out_ratio=[x/y if y!=0 else 1 for x, y in zip(b_out_strength.tolist(), b_ordOutDegree.values())]"
   ]
  },
  {
   "cell_type": "code",
   "execution_count": 235,
   "metadata": {
    "collapsed": false
   },
   "outputs": [
    {
     "data": {
      "text/plain": [
       "1.0"
      ]
     },
     "execution_count": 235,
     "metadata": {},
     "output_type": "execute_result"
    }
   ],
   "source": [
    "np.median(b_out_ratio)"
   ]
  },
  {
   "cell_type": "markdown",
   "metadata": {},
   "source": [
    "#### During"
   ]
  },
  {
   "cell_type": "code",
   "execution_count": 236,
   "metadata": {
    "collapsed": true
   },
   "outputs": [],
   "source": [
    "d_out_strength=np.array(dA.sum(axis=1)).reshape(-1)"
   ]
  },
  {
   "cell_type": "code",
   "execution_count": 237,
   "metadata": {
    "collapsed": false
   },
   "outputs": [],
   "source": [
    "# REORDER the in_degree sequence to match the nodelist\n",
    "d_ordOutDegree=OrderedDict((n, d_outdeg[n]) for n in D.nodes())"
   ]
  },
  {
   "cell_type": "code",
   "execution_count": 238,
   "metadata": {
    "collapsed": false
   },
   "outputs": [
    {
     "data": {
      "text/plain": [
       "<matplotlib.text.Text at 0x7ffa6a76cd50>"
      ]
     },
     "execution_count": 238,
     "metadata": {},
     "output_type": "execute_result"
    },
    {
     "data": {
      "image/png": "[encoded data removed]",
      "text/plain": [
       "<matplotlib.figure.Figure at 0x7ffa6a779510>"
      ]
     },
     "metadata": {},
     "output_type": "display_data"
    }
   ],
   "source": [
    "plt.scatter(d_ordOutDegree.values(), d_out_strength)\n",
    "plt.xlim(xmin=0)\n",
    "plt.ylim(ymin=0)\n",
    "plt.xlabel('During node out-degree')\n",
    "plt.ylabel('During node out-strength')"
   ]
  },
  {
   "cell_type": "code",
   "execution_count": 239,
   "metadata": {
    "collapsed": false
   },
   "outputs": [],
   "source": [
    "d_out_ratio=[x/y if y!=0 else 1 for x, y in zip(d_out_strength.tolist(), d_ordOutDegree.values())]"
   ]
  },
  {
   "cell_type": "code",
   "execution_count": 240,
   "metadata": {
    "collapsed": false
   },
   "outputs": [
    {
     "data": {
      "text/plain": [
       "1.0"
      ]
     },
     "execution_count": 240,
     "metadata": {},
     "output_type": "execute_result"
    }
   ],
   "source": [
    "np.median(d_out_ratio)"
   ]
  },
  {
   "cell_type": "markdown",
   "metadata": {},
   "source": [
    "#### After"
   ]
  },
  {
   "cell_type": "code",
   "execution_count": 241,
   "metadata": {
    "collapsed": true
   },
   "outputs": [],
   "source": [
    "a_out_strength=np.array(aA.sum(axis=1)).reshape(-1)"
   ]
  },
  {
   "cell_type": "code",
   "execution_count": 242,
   "metadata": {
    "collapsed": false
   },
   "outputs": [],
   "source": [
    "# REORDER the in_degree sequence to match the nodelist\n",
    "a_ordOutDegree=OrderedDict((n, a_outdeg[n]) for n in A.nodes())"
   ]
  },
  {
   "cell_type": "code",
   "execution_count": 243,
   "metadata": {
    "collapsed": false
   },
   "outputs": [
    {
     "data": {
      "text/plain": [
       "<matplotlib.text.Text at 0x7ffa6a682e10>"
      ]
     },
     "execution_count": 243,
     "metadata": {},
     "output_type": "execute_result"
    },
    {
     "data": {
      "image/png": "[encoded data removed]",
      "text/plain": [
       "<matplotlib.figure.Figure at 0x7ffa6a665910>"
      ]
     },
     "metadata": {},
     "output_type": "display_data"
    }
   ],
   "source": [
    "plt.scatter(a_ordOutDegree.values(), a_out_strength)\n",
    "plt.xlim(xmin=0)\n",
    "plt.ylim(ymin=0)\n",
    "plt.xlabel('After node out-degree')\n",
    "plt.ylabel('After node out-strength')"
   ]
  },
  {
   "cell_type": "code",
   "execution_count": 244,
   "metadata": {
    "collapsed": false
   },
   "outputs": [],
   "source": [
    "a_out_ratio=[x/y if y!=0 else 1 for x, y in zip(a_out_strength.tolist(), a_ordOutDegree.values())]"
   ]
  },
  {
   "cell_type": "code",
   "execution_count": 245,
   "metadata": {
    "collapsed": false
   },
   "outputs": [
    {
     "data": {
      "text/plain": [
       "1.0"
      ]
     },
     "execution_count": 245,
     "metadata": {},
     "output_type": "execute_result"
    }
   ],
   "source": [
    "np.median(a_out_ratio)"
   ]
  },
  {
   "cell_type": "markdown",
   "metadata": {},
   "source": [
    "#### Long After"
   ]
  },
  {
   "cell_type": "code",
   "execution_count": 246,
   "metadata": {
    "collapsed": true
   },
   "outputs": [],
   "source": [
    "l_out_strength=np.array(lA.sum(axis=1)).reshape(-1)"
   ]
  },
  {
   "cell_type": "code",
   "execution_count": 247,
   "metadata": {
    "collapsed": false
   },
   "outputs": [],
   "source": [
    "# REORDER the in_degree sequence to match the nodelist\n",
    "l_ordOutDegree=OrderedDict((n, l_outdeg[n]) for n in L.nodes())"
   ]
  },
  {
   "cell_type": "code",
   "execution_count": 248,
   "metadata": {
    "collapsed": false
   },
   "outputs": [
    {
     "data": {
      "text/plain": [
       "<matplotlib.text.Text at 0x7ffa6a550f50>"
      ]
     },
     "execution_count": 248,
     "metadata": {},
     "output_type": "execute_result"
    },
    {
     "data": {
      "image/png": "[encoded data removed]",
      "text/plain": [
       "<matplotlib.figure.Figure at 0x7ffa6a60ba10>"
      ]
     },
     "metadata": {},
     "output_type": "display_data"
    }
   ],
   "source": [
    "plt.scatter(l_ordOutDegree.values(), l_out_strength)\n",
    "plt.xlim(xmin=0)\n",
    "plt.ylim(ymin=0)\n",
    "plt.xlabel('Long After node out-degree')\n",
    "plt.ylabel('Long After node out-strength')"
   ]
  },
  {
   "cell_type": "code",
   "execution_count": 249,
   "metadata": {
    "collapsed": false
   },
   "outputs": [],
   "source": [
    "l_out_ratio=[x/y if y!=0 else 1 for x, y in zip(l_out_strength.tolist(), l_ordOutDegree.values())]"
   ]
  },
  {
   "cell_type": "code",
   "execution_count": 250,
   "metadata": {
    "collapsed": false
   },
   "outputs": [
    {
     "data": {
      "text/plain": [
       "1.0"
      ]
     },
     "execution_count": 250,
     "metadata": {},
     "output_type": "execute_result"
    }
   ],
   "source": [
    "np.median(l_out_ratio)"
   ]
  },
  {
   "cell_type": "markdown",
   "metadata": {},
   "source": [
    "**Takeways:**\n",
    "* There is no clear diagonal trend in any of the time slices\n",
    "* This means that the out-strength does not scale with out-degree\n",
    "* This suggests that more or less the same amount of interaction (replying) is spread around various number of friends\n",
    "* People have limited amount of replies in them?\n",
    "* How does this compare to overall out-ratio (CHECK)?"
   ]
  },
  {
   "cell_type": "markdown",
   "metadata": {},
   "source": [
    "### Reciprocity and Transitivity"
   ]
  },
  {
   "cell_type": "code",
   "execution_count": 251,
   "metadata": {
    "collapsed": false
   },
   "outputs": [
    {
     "data": {
      "text/plain": [
       "0.7465145754119138"
      ]
     },
     "execution_count": 251,
     "metadata": {},
     "output_type": "execute_result"
    }
   ],
   "source": [
    "sum([B.has_edge(e[1], e[0]) for e in B.edges_iter()])/float(B.number_of_edges())"
   ]
  },
  {
   "cell_type": "code",
   "execution_count": 252,
   "metadata": {
    "collapsed": false
   },
   "outputs": [
    {
     "data": {
      "text/plain": [
       "0.6415"
      ]
     },
     "execution_count": 252,
     "metadata": {},
     "output_type": "execute_result"
    }
   ],
   "source": [
    "sum([D.has_edge(e[1], e[0]) for e in D.edges_iter()])/float(D.number_of_edges())"
   ]
  },
  {
   "cell_type": "code",
   "execution_count": 253,
   "metadata": {
    "collapsed": false
   },
   "outputs": [
    {
     "data": {
      "text/plain": [
       "0.7068702290076336"
      ]
     },
     "execution_count": 253,
     "metadata": {},
     "output_type": "execute_result"
    }
   ],
   "source": [
    "sum([A.has_edge(e[1], e[0]) for e in A.edges_iter()])/float(A.number_of_edges())"
   ]
  },
  {
   "cell_type": "code",
   "execution_count": 254,
   "metadata": {
    "collapsed": false
   },
   "outputs": [
    {
     "data": {
      "text/plain": [
       "0.7286995515695067"
      ]
     },
     "execution_count": 254,
     "metadata": {},
     "output_type": "execute_result"
    }
   ],
   "source": [
    "sum([L.has_edge(e[1], e[0]) for e in L.edges_iter()])/float(L.number_of_edges())"
   ]
  },
  {
   "cell_type": "markdown",
   "metadata": {},
   "source": [
    "**Takeaways:**\n",
    "* Reciprocity is lowest During\n",
    "* Replying to officials which doesn't get a response\n",
    "* This is consistent with During having 65 users reply to NYCMayorsOffice 87 times\n",
    "* NYCMayorsOffice of course didn't respond to any of them back - low reciprocity"
   ]
  },
  {
   "cell_type": "code",
   "execution_count": 255,
   "metadata": {
    "collapsed": false
   },
   "outputs": [
    {
     "data": {
      "text/plain": [
       "0.08641975308641975"
      ]
     },
     "execution_count": 255,
     "metadata": {},
     "output_type": "execute_result"
    }
   ],
   "source": [
    "nx.transitivity(B)"
   ]
  },
  {
   "cell_type": "code",
   "execution_count": 256,
   "metadata": {
    "collapsed": false
   },
   "outputs": [
    {
     "data": {
      "text/plain": [
       "0.10542929292929293"
      ]
     },
     "execution_count": 256,
     "metadata": {},
     "output_type": "execute_result"
    }
   ],
   "source": [
    "nx.transitivity(D)"
   ]
  },
  {
   "cell_type": "code",
   "execution_count": 257,
   "metadata": {
    "collapsed": false
   },
   "outputs": [
    {
     "data": {
      "text/plain": [
       "0.062111801242236024"
      ]
     },
     "execution_count": 257,
     "metadata": {},
     "output_type": "execute_result"
    }
   ],
   "source": [
    "nx.transitivity(A)"
   ]
  },
  {
   "cell_type": "code",
   "execution_count": 258,
   "metadata": {
    "collapsed": false
   },
   "outputs": [
    {
     "data": {
      "text/plain": [
       "0.1412037037037037"
      ]
     },
     "execution_count": 258,
     "metadata": {},
     "output_type": "execute_result"
    }
   ],
   "source": [
    "nx.transitivity(L)"
   ]
  },
  {
   "cell_type": "markdown",
   "metadata": {},
   "source": [
    "* Low transitivity across the board\n",
    "* If I reply to you, and you reply to Steve, I very rarely will reply to Steve also\n",
    "* The conversational relationships do not spread\n",
    "* Highest for During and Long After"
   ]
  },
  {
   "cell_type": "markdown",
   "metadata": {},
   "source": [
    "### Degree Assortativity"
   ]
  },
  {
   "cell_type": "code",
   "execution_count": 259,
   "metadata": {
    "collapsed": false
   },
   "outputs": [
    {
     "data": {
      "text/plain": [
       "0.30282655446018164"
      ]
     },
     "execution_count": 259,
     "metadata": {},
     "output_type": "execute_result"
    }
   ],
   "source": [
    "nx.degree_assortativity_coefficient(B)"
   ]
  },
  {
   "cell_type": "code",
   "execution_count": 260,
   "metadata": {
    "collapsed": false
   },
   "outputs": [
    {
     "data": {
      "text/plain": [
       "0.020449025423445833"
      ]
     },
     "execution_count": 260,
     "metadata": {},
     "output_type": "execute_result"
    }
   ],
   "source": [
    "nx.degree_assortativity_coefficient(D)"
   ]
  },
  {
   "cell_type": "code",
   "execution_count": 261,
   "metadata": {
    "collapsed": false
   },
   "outputs": [
    {
     "data": {
      "text/plain": [
       "0.10049876003008404"
      ]
     },
     "execution_count": 261,
     "metadata": {},
     "output_type": "execute_result"
    }
   ],
   "source": [
    "nx.degree_assortativity_coefficient(A)"
   ]
  },
  {
   "cell_type": "code",
   "execution_count": 262,
   "metadata": {
    "collapsed": false
   },
   "outputs": [
    {
     "data": {
      "text/plain": [
       "0.18833251138697352"
      ]
     },
     "execution_count": 262,
     "metadata": {},
     "output_type": "execute_result"
    }
   ],
   "source": [
    "nx.degree_assortativity_coefficient(L)"
   ]
  },
  {
   "cell_type": "markdown",
   "metadata": {},
   "source": [
    "**Takeway:**\n",
    "* High degree assortativity BEFORE means that users who had a lot of friends talked to others with a lot of friends\n",
    "* And similarly, users with a few conversation partners talked to others like them in that respect\n",
    "* Degree assortativity drops drastically During, and starts to slowly recover in the later periods\n",
    "* This means that during the event, people were less likely to talk to others with the similar number of conversation partners\n",
    "* Communication patterns became less homogeneous"
   ]
  },
  {
   "cell_type": "code",
   "execution_count": 263,
   "metadata": {
    "collapsed": false
   },
   "outputs": [
    {
     "data": {
      "text/plain": [
       "0.23622336465204327"
      ]
     },
     "execution_count": 263,
     "metadata": {},
     "output_type": "execute_result"
    }
   ],
   "source": [
    "nx.degree_assortativity_coefficient(B,x='in',y='in')"
   ]
  },
  {
   "cell_type": "code",
   "execution_count": 264,
   "metadata": {
    "collapsed": false
   },
   "outputs": [
    {
     "data": {
      "text/plain": [
       "-0.064815067351663383"
      ]
     },
     "execution_count": 264,
     "metadata": {},
     "output_type": "execute_result"
    }
   ],
   "source": [
    "nx.degree_assortativity_coefficient(D,x='in',y='in')"
   ]
  },
  {
   "cell_type": "code",
   "execution_count": 265,
   "metadata": {
    "collapsed": false
   },
   "outputs": [
    {
     "data": {
      "text/plain": [
       "-0.015956510513852315"
      ]
     },
     "execution_count": 265,
     "metadata": {},
     "output_type": "execute_result"
    }
   ],
   "source": [
    "nx.degree_assortativity_coefficient(A,x='in',y='in')"
   ]
  },
  {
   "cell_type": "code",
   "execution_count": 266,
   "metadata": {
    "collapsed": false
   },
   "outputs": [
    {
     "data": {
      "text/plain": [
       "0.18695290285877394"
      ]
     },
     "execution_count": 266,
     "metadata": {},
     "output_type": "execute_result"
    }
   ],
   "source": [
    "nx.degree_assortativity_coefficient(L,x='in',y='in')"
   ]
  },
  {
   "cell_type": "markdown",
   "metadata": {},
   "source": [
    "* This suggests that Before people who have many reply partners were more likely to recieve replies from others who have many reply partners\n",
    "* But During this dynamic shifted, with users who have many reply partners more likely recieving replies from those who have few reply partners\n",
    "* That shift of more inhomogeneous reply behavior continued After, though less strongly\n",
    "* And by Long After it stabilized back into the assortative replying\n",
    "* NYCMayorsOffice is one example of such dissasortative mixing During - it has high in-degree, but people who reply to it do not"
   ]
  },
  {
   "cell_type": "code",
   "execution_count": 267,
   "metadata": {
    "collapsed": false
   },
   "outputs": [
    {
     "data": {
      "text/plain": [
       "0.36512734338130948"
      ]
     },
     "execution_count": 267,
     "metadata": {},
     "output_type": "execute_result"
    }
   ],
   "source": [
    "nx.degree_assortativity_coefficient(B,x='in',y='out')"
   ]
  },
  {
   "cell_type": "code",
   "execution_count": 268,
   "metadata": {
    "collapsed": false
   },
   "outputs": [
    {
     "data": {
      "text/plain": [
       "0.33049462788583339"
      ]
     },
     "execution_count": 268,
     "metadata": {},
     "output_type": "execute_result"
    }
   ],
   "source": [
    "nx.degree_assortativity_coefficient(D,x='in',y='out')"
   ]
  },
  {
   "cell_type": "code",
   "execution_count": 269,
   "metadata": {
    "collapsed": false
   },
   "outputs": [
    {
     "data": {
      "text/plain": [
       "0.34298878342836592"
      ]
     },
     "execution_count": 269,
     "metadata": {},
     "output_type": "execute_result"
    }
   ],
   "source": [
    "nx.degree_assortativity_coefficient(A,x='in',y='out')"
   ]
  },
  {
   "cell_type": "code",
   "execution_count": 379,
   "metadata": {
    "collapsed": false
   },
   "outputs": [
    {
     "data": {
      "text/plain": [
       "0.25525978670898403"
      ]
     },
     "execution_count": 379,
     "metadata": {},
     "output_type": "execute_result"
    }
   ],
   "source": [
    "nx.degree_assortativity_coefficient(L,x='in',y='out')"
   ]
  },
  {
   "cell_type": "markdown",
   "metadata": {},
   "source": [
    "* In-out assort is strong throughout\n",
    "* Because it's somewhat complementary\n",
    "* People who recieve replies from many 'friends' tend receive replies from people who reply to many friends\n",
    "* Or perhaps more intuitive: users who get replied to by a few friends receive replies from others who reply to a few friends\n",
    "* Lower in Long After - not sure why"
   ]
  },
  {
   "cell_type": "code",
   "execution_count": 270,
   "metadata": {
    "collapsed": false
   },
   "outputs": [
    {
     "data": {
      "text/plain": [
       "0.27517203598227069"
      ]
     },
     "execution_count": 270,
     "metadata": {},
     "output_type": "execute_result"
    }
   ],
   "source": [
    "nx.degree_assortativity_coefficient(B,x='out',y='out')"
   ]
  },
  {
   "cell_type": "code",
   "execution_count": 271,
   "metadata": {
    "collapsed": false
   },
   "outputs": [
    {
     "data": {
      "text/plain": [
       "0.28726996826691803"
      ]
     },
     "execution_count": 271,
     "metadata": {},
     "output_type": "execute_result"
    }
   ],
   "source": [
    "nx.degree_assortativity_coefficient(D,x='out',y='out')"
   ]
  },
  {
   "cell_type": "code",
   "execution_count": 272,
   "metadata": {
    "collapsed": false
   },
   "outputs": [
    {
     "data": {
      "text/plain": [
       "0.22005974470603265"
      ]
     },
     "execution_count": 272,
     "metadata": {},
     "output_type": "execute_result"
    }
   ],
   "source": [
    "nx.degree_assortativity_coefficient(A,x='out',y='out')"
   ]
  },
  {
   "cell_type": "code",
   "execution_count": 273,
   "metadata": {
    "collapsed": false
   },
   "outputs": [
    {
     "data": {
      "text/plain": [
       "0.16294290514888285"
      ]
     },
     "execution_count": 273,
     "metadata": {},
     "output_type": "execute_result"
    }
   ],
   "source": [
    "nx.degree_assortativity_coefficient(L,x='out',y='out')"
   ]
  },
  {
   "cell_type": "markdown",
   "metadata": {},
   "source": [
    "* The out-out also strong throughout, except dropiing a bit in Long After\n",
    "* People who sent replies to a lot of people reply to others who send replies to a lot of people\n",
    "* How is this not dampened by NYCMayorsOffice During?"
   ]
  },
  {
   "cell_type": "code",
   "execution_count": 274,
   "metadata": {
    "collapsed": false
   },
   "outputs": [
    {
     "data": {
      "text/plain": [
       "<matplotlib.text.Text at 0x7ffa6a45fa10>"
      ]
     },
     "execution_count": 274,
     "metadata": {},
     "output_type": "execute_result"
    },
    {
     "data": {
      "image/png": "[encoded data removed]",
      "text/plain": [
       "<matplotlib.figure.Figure at 0x7ffa6a48e250>"
      ]
     },
     "metadata": {},
     "output_type": "display_data"
    }
   ],
   "source": [
    "d_out_deg_con=nx.average_degree_connectivity(D, source='out',target='out')\n",
    "plt.scatter(d_out_deg_con.keys(), d_out_deg_con.values())\n",
    "plt.xlim(xmin=0,xmax=11)\n",
    "plt.ylim(ymin=0,ymax=10)\n",
    "plt.xlabel('During out-degree')\n",
    "plt.ylabel('During average neighbors out-degree ')\n",
    "plt.title('During average out-degree connectivity')"
   ]
  },
  {
   "cell_type": "markdown",
   "metadata": {},
   "source": [
    "* The relationship is positive\n",
    "* But it's not strong and the growth in avg neighbor out-degree goes up to about 4"
   ]
  },
  {
   "cell_type": "code",
   "execution_count": 275,
   "metadata": {
    "collapsed": false
   },
   "outputs": [
    {
     "data": {
      "text/plain": [
       "0.30282655446018164"
      ]
     },
     "execution_count": 275,
     "metadata": {},
     "output_type": "execute_result"
    }
   ],
   "source": [
    "nx.degree_assortativity_coefficient(B,x='out',y='in')"
   ]
  },
  {
   "cell_type": "code",
   "execution_count": 276,
   "metadata": {
    "collapsed": false
   },
   "outputs": [
    {
     "data": {
      "text/plain": [
       "0.020449025423445833"
      ]
     },
     "execution_count": 276,
     "metadata": {},
     "output_type": "execute_result"
    }
   ],
   "source": [
    "nx.degree_assortativity_coefficient(D,x='out',y='in')"
   ]
  },
  {
   "cell_type": "code",
   "execution_count": 277,
   "metadata": {
    "collapsed": false
   },
   "outputs": [
    {
     "data": {
      "text/plain": [
       "0.10049876003008404"
      ]
     },
     "execution_count": 277,
     "metadata": {},
     "output_type": "execute_result"
    }
   ],
   "source": [
    "nx.degree_assortativity_coefficient(A,x='out',y='in')"
   ]
  },
  {
   "cell_type": "code",
   "execution_count": 278,
   "metadata": {
    "collapsed": false
   },
   "outputs": [
    {
     "data": {
      "text/plain": [
       "0.18833251138697352"
      ]
     },
     "execution_count": 278,
     "metadata": {},
     "output_type": "execute_result"
    }
   ],
   "source": [
    "nx.degree_assortativity_coefficient(L,x='out',y='in')"
   ]
  },
  {
   "cell_type": "markdown",
   "metadata": {},
   "source": [
    "**Assortativity Takeways:**\n",
    "* Overall degree assortativity, in-in assortattivity, and out-in assortativity start resonably strong (0.3is) Before\n",
    "* But then During they crash - go down in overall and out-in or even go slightly negative in in-in\n",
    "* Out-in dropping suggests that During, users who replied to many reply partners were not very likely to receive a reply from others who receive replies from many conversation partners\n",
    "* This again, can be exemplifief by NYCMayorsOffice - receives lots of replies, replied to by users who do not receive or send replies to many users (***BINGO!!!!***)\n",
    "* Overall, this means that During celebrity or official accounts were getting a lot of replies from regular users\n",
    "* To some degree, this persisted into After, but then by Long After the normla assortative patterns returned"
   ]
  },
  {
   "cell_type": "markdown",
   "metadata": {},
   "source": [
    "### Strength assortativity"
   ]
  },
  {
   "cell_type": "markdown",
   "metadata": {},
   "source": [
    "#### Overall"
   ]
  },
  {
   "cell_type": "code",
   "execution_count": 279,
   "metadata": {
    "collapsed": false
   },
   "outputs": [],
   "source": [
    "b_intWeights={key:int(round(val,0)) for key, val in nx.get_edge_attributes(B, 'weight').items()}"
   ]
  },
  {
   "cell_type": "code",
   "execution_count": 280,
   "metadata": {
    "collapsed": false
   },
   "outputs": [],
   "source": [
    "nx.set_edge_attributes(B,'weight', b_intWeights)"
   ]
  },
  {
   "cell_type": "code",
   "execution_count": 281,
   "metadata": {
    "collapsed": false
   },
   "outputs": [
    {
     "data": {
      "text/plain": [
       "0.55384637762918398"
      ]
     },
     "execution_count": 281,
     "metadata": {},
     "output_type": "execute_result"
    }
   ],
   "source": [
    "nx.degree_assortativity_coefficient(B, weight='weight')"
   ]
  },
  {
   "cell_type": "code",
   "execution_count": 282,
   "metadata": {
    "collapsed": false
   },
   "outputs": [],
   "source": [
    "d_intWeights={key:int(round(val,0)) for key, val in nx.get_edge_attributes(D, 'weight').items()}"
   ]
  },
  {
   "cell_type": "code",
   "execution_count": 283,
   "metadata": {
    "collapsed": false
   },
   "outputs": [],
   "source": [
    "nx.set_edge_attributes(D,'weight', d_intWeights)"
   ]
  },
  {
   "cell_type": "code",
   "execution_count": 284,
   "metadata": {
    "collapsed": false
   },
   "outputs": [
    {
     "data": {
      "text/plain": [
       "0.10625435106934634"
      ]
     },
     "execution_count": 284,
     "metadata": {},
     "output_type": "execute_result"
    }
   ],
   "source": [
    "nx.degree_assortativity_coefficient(D, weight='weight')"
   ]
  },
  {
   "cell_type": "code",
   "execution_count": 285,
   "metadata": {
    "collapsed": false
   },
   "outputs": [],
   "source": [
    "a_intWeights={key:int(round(val,0)) for key, val in nx.get_edge_attributes(A, 'weight').items()}"
   ]
  },
  {
   "cell_type": "code",
   "execution_count": 286,
   "metadata": {
    "collapsed": false
   },
   "outputs": [],
   "source": [
    "nx.set_edge_attributes(A,'weight', a_intWeights)"
   ]
  },
  {
   "cell_type": "code",
   "execution_count": 287,
   "metadata": {
    "collapsed": false
   },
   "outputs": [
    {
     "data": {
      "text/plain": [
       "0.41966542145402713"
      ]
     },
     "execution_count": 287,
     "metadata": {},
     "output_type": "execute_result"
    }
   ],
   "source": [
    "nx.degree_assortativity_coefficient(A, weight='weight')"
   ]
  },
  {
   "cell_type": "code",
   "execution_count": 288,
   "metadata": {
    "collapsed": false
   },
   "outputs": [],
   "source": [
    "l_intWeights={key:int(round(val,0)) for key, val in nx.get_edge_attributes(L, 'weight').items()}"
   ]
  },
  {
   "cell_type": "code",
   "execution_count": 289,
   "metadata": {
    "collapsed": false
   },
   "outputs": [],
   "source": [
    "nx.set_edge_attributes(L,'weight', l_intWeights)"
   ]
  },
  {
   "cell_type": "code",
   "execution_count": 290,
   "metadata": {
    "collapsed": false
   },
   "outputs": [
    {
     "data": {
      "text/plain": [
       "0.67296678785412045"
      ]
     },
     "execution_count": 290,
     "metadata": {},
     "output_type": "execute_result"
    }
   ],
   "source": [
    "nx.degree_assortativity_coefficient(L, weight='weight')"
   ]
  },
  {
   "cell_type": "markdown",
   "metadata": {},
   "source": [
    "* Drops during\n",
    "* Very high everywhere else\n",
    "* During, people who talk to many others frequently are less likely to talk to others who talk to many others frequently\n",
    "* Can't separate many friends and frequent conversations - that's why need ratio!!!"
   ]
  },
  {
   "cell_type": "markdown",
   "metadata": {},
   "source": [
    "#### In-in"
   ]
  },
  {
   "cell_type": "code",
   "execution_count": 291,
   "metadata": {
    "collapsed": false
   },
   "outputs": [
    {
     "data": {
      "text/plain": [
       "0.54990493622603953"
      ]
     },
     "execution_count": 291,
     "metadata": {},
     "output_type": "execute_result"
    }
   ],
   "source": [
    "nx.degree_assortativity_coefficient(B,x='in',y='in', weight='weight')"
   ]
  },
  {
   "cell_type": "code",
   "execution_count": 292,
   "metadata": {
    "collapsed": false
   },
   "outputs": [
    {
     "data": {
      "text/plain": [
       "0.037402778099458155"
      ]
     },
     "execution_count": 292,
     "metadata": {},
     "output_type": "execute_result"
    }
   ],
   "source": [
    "nx.degree_assortativity_coefficient(D,x='in',y='in', weight='weight')"
   ]
  },
  {
   "cell_type": "code",
   "execution_count": 293,
   "metadata": {
    "collapsed": false
   },
   "outputs": [
    {
     "data": {
      "text/plain": [
       "0.33704577000324099"
      ]
     },
     "execution_count": 293,
     "metadata": {},
     "output_type": "execute_result"
    }
   ],
   "source": [
    "nx.degree_assortativity_coefficient(A,x='in',y='in', weight='weight')"
   ]
  },
  {
   "cell_type": "code",
   "execution_count": 294,
   "metadata": {
    "collapsed": false
   },
   "outputs": [
    {
     "data": {
      "text/plain": [
       "0.66163078559809141"
      ]
     },
     "execution_count": 294,
     "metadata": {},
     "output_type": "execute_result"
    }
   ],
   "source": [
    "nx.degree_assortativity_coefficient(L,x='in',y='in', weight='weight')"
   ]
  },
  {
   "cell_type": "markdown",
   "metadata": {},
   "source": [
    "* The edge weigths make more apparent the trends we saw in unweighted  assort\n",
    "* In-in and out-in are especially affected During"
   ]
  },
  {
   "cell_type": "markdown",
   "metadata": {},
   "source": [
    "#### Out-out"
   ]
  },
  {
   "cell_type": "code",
   "execution_count": 295,
   "metadata": {
    "collapsed": false
   },
   "outputs": [
    {
     "data": {
      "text/plain": [
       "0.49176568822183109"
      ]
     },
     "execution_count": 295,
     "metadata": {},
     "output_type": "execute_result"
    }
   ],
   "source": [
    "nx.degree_assortativity_coefficient(B,x='out',y='out', weight='weight')"
   ]
  },
  {
   "cell_type": "code",
   "execution_count": 296,
   "metadata": {
    "collapsed": false
   },
   "outputs": [
    {
     "data": {
      "text/plain": [
       "0.58936301171516714"
      ]
     },
     "execution_count": 296,
     "metadata": {},
     "output_type": "execute_result"
    }
   ],
   "source": [
    "nx.degree_assortativity_coefficient(D,x='out',y='out', weight='weight')"
   ]
  },
  {
   "cell_type": "code",
   "execution_count": 297,
   "metadata": {
    "collapsed": false
   },
   "outputs": [
    {
     "data": {
      "text/plain": [
       "0.48970993117235118"
      ]
     },
     "execution_count": 297,
     "metadata": {},
     "output_type": "execute_result"
    }
   ],
   "source": [
    "nx.degree_assortativity_coefficient(A,x='out',y='out', weight='weight')"
   ]
  },
  {
   "cell_type": "code",
   "execution_count": 298,
   "metadata": {
    "collapsed": false
   },
   "outputs": [
    {
     "data": {
      "text/plain": [
       "0.61463984913048786"
      ]
     },
     "execution_count": 298,
     "metadata": {},
     "output_type": "execute_result"
    }
   ],
   "source": [
    "nx.degree_assortativity_coefficient(L,x='out',y='out', weight='weight')"
   ]
  },
  {
   "cell_type": "markdown",
   "metadata": {
    "collapsed": false
   },
   "source": [
    "* Out-out is robust throughout\n",
    "* Actually goes up During\n",
    "* Complementarity of the conversation - so teh frequent conversation is still happenning during, despite the celebrity/official phenomenon"
   ]
  },
  {
   "cell_type": "markdown",
   "metadata": {},
   "source": [
    "#### Out-in"
   ]
  },
  {
   "cell_type": "code",
   "execution_count": 299,
   "metadata": {
    "collapsed": false
   },
   "outputs": [
    {
     "data": {
      "text/plain": [
       "0.55384637762918398"
      ]
     },
     "execution_count": 299,
     "metadata": {},
     "output_type": "execute_result"
    }
   ],
   "source": [
    "nx.degree_assortativity_coefficient(B,x='out',y='in', weight='weight')"
   ]
  },
  {
   "cell_type": "code",
   "execution_count": 300,
   "metadata": {
    "collapsed": false
   },
   "outputs": [
    {
     "data": {
      "text/plain": [
       "0.10625435106934634"
      ]
     },
     "execution_count": 300,
     "metadata": {},
     "output_type": "execute_result"
    }
   ],
   "source": [
    "nx.degree_assortativity_coefficient(D,x='out',y='in', weight='weight')"
   ]
  },
  {
   "cell_type": "code",
   "execution_count": 301,
   "metadata": {
    "collapsed": false
   },
   "outputs": [
    {
     "data": {
      "text/plain": [
       "0.41966542145402713"
      ]
     },
     "execution_count": 301,
     "metadata": {},
     "output_type": "execute_result"
    }
   ],
   "source": [
    "nx.degree_assortativity_coefficient(A,x='out',y='in', weight='weight')"
   ]
  },
  {
   "cell_type": "code",
   "execution_count": 302,
   "metadata": {
    "collapsed": false
   },
   "outputs": [
    {
     "data": {
      "text/plain": [
       "0.67296678785412045"
      ]
     },
     "execution_count": 302,
     "metadata": {},
     "output_type": "execute_result"
    }
   ],
   "source": [
    "nx.degree_assortativity_coefficient(L,x='out',y='in', weight='weight')"
   ]
  },
  {
   "cell_type": "markdown",
   "metadata": {
    "collapsed": false
   },
   "source": [
    "* Out-in also drops during\n",
    "* The celebrity/offical phenomenon"
   ]
  },
  {
   "cell_type": "markdown",
   "metadata": {},
   "source": [
    "#### In-out"
   ]
  },
  {
   "cell_type": "code",
   "execution_count": 303,
   "metadata": {
    "collapsed": false
   },
   "outputs": [
    {
     "data": {
      "text/plain": [
       "0.56781195668421824"
      ]
     },
     "execution_count": 303,
     "metadata": {},
     "output_type": "execute_result"
    }
   ],
   "source": [
    "nx.degree_assortativity_coefficient(B,x='in',y='out', weight='weight')"
   ]
  },
  {
   "cell_type": "code",
   "execution_count": 304,
   "metadata": {
    "collapsed": false
   },
   "outputs": [
    {
     "data": {
      "text/plain": [
       "0.58875579487763796"
      ]
     },
     "execution_count": 304,
     "metadata": {},
     "output_type": "execute_result"
    }
   ],
   "source": [
    "nx.degree_assortativity_coefficient(D,x='in',y='out', weight='weight')"
   ]
  },
  {
   "cell_type": "code",
   "execution_count": 305,
   "metadata": {
    "collapsed": false
   },
   "outputs": [
    {
     "data": {
      "text/plain": [
       "0.54732417163225155"
      ]
     },
     "execution_count": 305,
     "metadata": {},
     "output_type": "execute_result"
    }
   ],
   "source": [
    "nx.degree_assortativity_coefficient(A,x='in',y='out', weight='weight')"
   ]
  },
  {
   "cell_type": "code",
   "execution_count": 306,
   "metadata": {
    "collapsed": false
   },
   "outputs": [
    {
     "data": {
      "text/plain": [
       "0.68248350926658474"
      ]
     },
     "execution_count": 306,
     "metadata": {},
     "output_type": "execute_result"
    }
   ],
   "source": [
    "nx.degree_assortativity_coefficient(L,x='in',y='out', weight='weight')"
   ]
  },
  {
   "cell_type": "markdown",
   "metadata": {
    "collapsed": false
   },
   "source": [
    "* In-out is robust throughout"
   ]
  },
  {
   "cell_type": "markdown",
   "metadata": {},
   "source": [
    "### Strong tie assort"
   ]
  },
  {
   "cell_type": "markdown",
   "metadata": {},
   "source": [
    "#### Before"
   ]
  },
  {
   "cell_type": "code",
   "execution_count": 307,
   "metadata": {
    "collapsed": false
   },
   "outputs": [],
   "source": [
    "b_freqInTalk={key:True if r>1 else False for key, r in zip(b_ordInDegree.keys(),b_in_ratio)}"
   ]
  },
  {
   "cell_type": "code",
   "execution_count": 308,
   "metadata": {
    "collapsed": false
   },
   "outputs": [],
   "source": [
    "nx.set_node_attributes(B,'highInRatio',b_freqInTalk)"
   ]
  },
  {
   "cell_type": "code",
   "execution_count": 309,
   "metadata": {
    "collapsed": true
   },
   "outputs": [],
   "source": [
    "b_freqOutTalk={key:True if r>1 else False for key, r in zip(b_ordOutDegree.keys(),b_out_ratio)}"
   ]
  },
  {
   "cell_type": "code",
   "execution_count": 310,
   "metadata": {
    "collapsed": true
   },
   "outputs": [],
   "source": [
    "nx.set_node_attributes(B,'highOutRatio',b_freqOutTalk)"
   ]
  },
  {
   "cell_type": "code",
   "execution_count": 311,
   "metadata": {
    "collapsed": false
   },
   "outputs": [
    {
     "data": {
      "text/plain": [
       "0.4919510624597551"
      ]
     },
     "execution_count": 311,
     "metadata": {},
     "output_type": "execute_result"
    }
   ],
   "source": [
    "nx.attribute_assortativity_coefficient(B, 'highInRatio')"
   ]
  },
  {
   "cell_type": "code",
   "execution_count": 312,
   "metadata": {
    "collapsed": false
   },
   "outputs": [
    {
     "data": {
      "text/plain": [
       "0.4903135072572995"
      ]
     },
     "execution_count": 312,
     "metadata": {},
     "output_type": "execute_result"
    }
   ],
   "source": [
    "nx.attribute_assortativity_coefficient(B, 'highOutRatio')"
   ]
  },
  {
   "cell_type": "code",
   "execution_count": 313,
   "metadata": {
    "collapsed": false
   },
   "outputs": [],
   "source": [
    "b_bothFreqTalk={key:True if (i>1) & (o>1) else False for key,i,o in zip(b_ordInDegree.keys(),b_in_ratio,b_out_ratio)}"
   ]
  },
  {
   "cell_type": "code",
   "execution_count": 314,
   "metadata": {
    "collapsed": true
   },
   "outputs": [],
   "source": [
    "nx.set_node_attributes(B,'highBothRatios',b_bothFreqTalk)"
   ]
  },
  {
   "cell_type": "code",
   "execution_count": 315,
   "metadata": {
    "collapsed": false
   },
   "outputs": [
    {
     "data": {
      "text/plain": [
       "0.7300025665155274"
      ]
     },
     "execution_count": 315,
     "metadata": {},
     "output_type": "execute_result"
    }
   ],
   "source": [
    "nx.attribute_assortativity_coefficient(B, 'highBothRatios')"
   ]
  },
  {
   "cell_type": "markdown",
   "metadata": {},
   "source": [
    "#### During"
   ]
  },
  {
   "cell_type": "code",
   "execution_count": 316,
   "metadata": {
    "collapsed": false
   },
   "outputs": [],
   "source": [
    "d_freqInTalk={key:True if r>1 else False for key, r in zip(d_ordInDegree.keys(),d_in_ratio)}"
   ]
  },
  {
   "cell_type": "code",
   "execution_count": 317,
   "metadata": {
    "collapsed": false
   },
   "outputs": [],
   "source": [
    "nx.set_node_attributes(D,'highInRatio',d_freqInTalk)"
   ]
  },
  {
   "cell_type": "code",
   "execution_count": 318,
   "metadata": {
    "collapsed": true
   },
   "outputs": [],
   "source": [
    "d_freqOutTalk={key:True if r>1 else False for key, r in zip(d_ordOutDegree.keys(),d_out_ratio)}"
   ]
  },
  {
   "cell_type": "code",
   "execution_count": 319,
   "metadata": {
    "collapsed": true
   },
   "outputs": [],
   "source": [
    "nx.set_node_attributes(D,'highOutRatio',d_freqOutTalk)"
   ]
  },
  {
   "cell_type": "code",
   "execution_count": 320,
   "metadata": {
    "collapsed": false
   },
   "outputs": [
    {
     "data": {
      "text/plain": [
       "0.38609756341822477"
      ]
     },
     "execution_count": 320,
     "metadata": {},
     "output_type": "execute_result"
    }
   ],
   "source": [
    "nx.attribute_assortativity_coefficient(D, 'highInRatio')"
   ]
  },
  {
   "cell_type": "code",
   "execution_count": 321,
   "metadata": {
    "collapsed": false
   },
   "outputs": [
    {
     "data": {
      "text/plain": [
       "0.446654336314576"
      ]
     },
     "execution_count": 321,
     "metadata": {},
     "output_type": "execute_result"
    }
   ],
   "source": [
    "nx.attribute_assortativity_coefficient(D, 'highOutRatio')"
   ]
  },
  {
   "cell_type": "code",
   "execution_count": 322,
   "metadata": {
    "collapsed": false
   },
   "outputs": [],
   "source": [
    "d_bothFreqTalk={key:True if (i>1) & (o>1) else False for key,i,o in zip(d_ordInDegree.keys(),d_in_ratio,d_out_ratio)}"
   ]
  },
  {
   "cell_type": "code",
   "execution_count": 323,
   "metadata": {
    "collapsed": true
   },
   "outputs": [],
   "source": [
    "nx.set_node_attributes(D,'highBothRatios',d_bothFreqTalk)"
   ]
  },
  {
   "cell_type": "code",
   "execution_count": 324,
   "metadata": {
    "collapsed": false
   },
   "outputs": [
    {
     "data": {
      "text/plain": [
       "0.6356822571705618"
      ]
     },
     "execution_count": 324,
     "metadata": {},
     "output_type": "execute_result"
    }
   ],
   "source": [
    "nx.attribute_assortativity_coefficient(D, 'highBothRatios')"
   ]
  },
  {
   "cell_type": "markdown",
   "metadata": {},
   "source": [
    "* In-ratio assortativity drops During\n",
    "* People who are replied to more than once by their friends are slightly less likely to talk to others who also receive more than one reply from their friends\n",
    "* The celebrity/offical phenomenon\n",
    "* But both ratio assort went up!!!\n",
    "* People who both reply and are replied to frequently to their freinds were more likely to talk to each other"
   ]
  },
  {
   "cell_type": "markdown",
   "metadata": {},
   "source": [
    "#### After"
   ]
  },
  {
   "cell_type": "code",
   "execution_count": 325,
   "metadata": {
    "collapsed": false
   },
   "outputs": [],
   "source": [
    "a_freqInTalk={key:True if r>1 else False for key, r in zip(a_ordInDegree.keys(),a_in_ratio)}"
   ]
  },
  {
   "cell_type": "code",
   "execution_count": 326,
   "metadata": {
    "collapsed": false
   },
   "outputs": [],
   "source": [
    "nx.set_node_attributes(A,'highInRatio',a_freqInTalk)"
   ]
  },
  {
   "cell_type": "code",
   "execution_count": 327,
   "metadata": {
    "collapsed": true
   },
   "outputs": [],
   "source": [
    "a_freqOutTalk={key:True if r>1 else False for key, r in zip(a_ordOutDegree.keys(),a_out_ratio)}"
   ]
  },
  {
   "cell_type": "code",
   "execution_count": 328,
   "metadata": {
    "collapsed": true
   },
   "outputs": [],
   "source": [
    "nx.set_node_attributes(A,'highOutRatio',a_freqOutTalk)"
   ]
  },
  {
   "cell_type": "code",
   "execution_count": 329,
   "metadata": {
    "collapsed": false
   },
   "outputs": [
    {
     "data": {
      "text/plain": [
       "0.4629989882211887"
      ]
     },
     "execution_count": 329,
     "metadata": {},
     "output_type": "execute_result"
    }
   ],
   "source": [
    "nx.attribute_assortativity_coefficient(A, 'highInRatio')"
   ]
  },
  {
   "cell_type": "code",
   "execution_count": 330,
   "metadata": {
    "collapsed": false
   },
   "outputs": [
    {
     "data": {
      "text/plain": [
       "0.5209088814953609"
      ]
     },
     "execution_count": 330,
     "metadata": {},
     "output_type": "execute_result"
    }
   ],
   "source": [
    "nx.attribute_assortativity_coefficient(A, 'highOutRatio')"
   ]
  },
  {
   "cell_type": "code",
   "execution_count": 331,
   "metadata": {
    "collapsed": false
   },
   "outputs": [],
   "source": [
    "a_bothFreqTalk={key:True if (i>1) & (o>1) else False for key,i,o in zip(a_ordInDegree.keys(),a_in_ratio,a_out_ratio)}"
   ]
  },
  {
   "cell_type": "code",
   "execution_count": 332,
   "metadata": {
    "collapsed": true
   },
   "outputs": [],
   "source": [
    "nx.set_node_attributes(A,'highBothRatios',a_bothFreqTalk)"
   ]
  },
  {
   "cell_type": "code",
   "execution_count": 333,
   "metadata": {
    "collapsed": false
   },
   "outputs": [
    {
     "data": {
      "text/plain": [
       "0.7247504078303426"
      ]
     },
     "execution_count": 333,
     "metadata": {},
     "output_type": "execute_result"
    }
   ],
   "source": [
    "nx.attribute_assortativity_coefficient(A, 'highBothRatios')"
   ]
  },
  {
   "cell_type": "markdown",
   "metadata": {},
   "source": [
    "* In and out ratio assort are more or less the same After\n",
    "* But both goes up even further\n",
    "* The push for people who have strong ties to talk to each other persists and intensifies After"
   ]
  },
  {
   "cell_type": "markdown",
   "metadata": {},
   "source": [
    "#### Long After"
   ]
  },
  {
   "cell_type": "code",
   "execution_count": 334,
   "metadata": {
    "collapsed": false
   },
   "outputs": [],
   "source": [
    "l_freqInTalk={key:True if r>1 else False for key, r in zip(l_ordInDegree.keys(),l_in_ratio)}"
   ]
  },
  {
   "cell_type": "code",
   "execution_count": 335,
   "metadata": {
    "collapsed": false
   },
   "outputs": [],
   "source": [
    "nx.set_node_attributes(L,'highInRatio',l_freqInTalk)"
   ]
  },
  {
   "cell_type": "code",
   "execution_count": 336,
   "metadata": {
    "collapsed": true
   },
   "outputs": [],
   "source": [
    "l_freqOutTalk={key:True if r>1 else False for key, r in zip(l_ordOutDegree.keys(),l_out_ratio)}"
   ]
  },
  {
   "cell_type": "code",
   "execution_count": 337,
   "metadata": {
    "collapsed": true
   },
   "outputs": [],
   "source": [
    "nx.set_node_attributes(L,'highOutRatio',l_freqOutTalk)"
   ]
  },
  {
   "cell_type": "code",
   "execution_count": 338,
   "metadata": {
    "collapsed": false
   },
   "outputs": [
    {
     "data": {
      "text/plain": [
       "0.5503353533610817"
      ]
     },
     "execution_count": 338,
     "metadata": {},
     "output_type": "execute_result"
    }
   ],
   "source": [
    "nx.attribute_assortativity_coefficient(L, 'highInRatio')"
   ]
  },
  {
   "cell_type": "code",
   "execution_count": 339,
   "metadata": {
    "collapsed": false
   },
   "outputs": [
    {
     "data": {
      "text/plain": [
       "0.5363055140221974"
      ]
     },
     "execution_count": 339,
     "metadata": {},
     "output_type": "execute_result"
    }
   ],
   "source": [
    "nx.attribute_assortativity_coefficient(L, 'highOutRatio')"
   ]
  },
  {
   "cell_type": "code",
   "execution_count": 340,
   "metadata": {
    "collapsed": false
   },
   "outputs": [],
   "source": [
    "l_bothFreqTalk={key:True if (i>1) & (o>1) else False for key,i,o in zip(l_ordInDegree.keys(),l_in_ratio,l_out_ratio)}"
   ]
  },
  {
   "cell_type": "code",
   "execution_count": 341,
   "metadata": {
    "collapsed": true
   },
   "outputs": [],
   "source": [
    "nx.set_node_attributes(L,'highBothRatios',l_bothFreqTalk)"
   ]
  },
  {
   "cell_type": "code",
   "execution_count": 342,
   "metadata": {
    "collapsed": false
   },
   "outputs": [
    {
     "data": {
      "text/plain": [
       "0.7286058561272444"
      ]
     },
     "execution_count": 342,
     "metadata": {},
     "output_type": "execute_result"
    }
   ],
   "source": [
    "nx.attribute_assortativity_coefficient(L, 'highBothRatios')"
   ]
  },
  {
   "cell_type": "markdown",
   "metadata": {},
   "source": [
    "** Strong Ties Assort Takeaways:**\n",
    "* Before in, out, and both are about 50% - good number of people talk to others like them\n",
    "* During the in drops (celebrity/official phenomenon), but both goes up - regular strong tie people talk to each other more\n",
    "* After the both goes up even further (the rest about 50%) - need for coversations persists, strengthens\n",
    "* And Long After, both is still up (less than After) - still need to talk\n",
    "* Bring in the resilience of communities and ties"
   ]
  },
  {
   "cell_type": "code",
   "execution_count": 343,
   "metadata": {
    "collapsed": false
   },
   "outputs": [],
   "source": [
    "strongTieUsers=[key for key,val in bothFreqTalk.items() if val==True]"
   ]
  },
  {
   "cell_type": "code",
   "execution_count": 344,
   "metadata": {
    "collapsed": false
   },
   "outputs": [],
   "source": [
    "np.savetxt('../data/strongTieUsers.txt', strongTieUsers, fmt='%s', delimiter=',')"
   ]
  }
 ],
 "metadata": {
  "kernelspec": {
   "display_name": "Python 2",
   "language": "python",
   "name": "python2"
  },
  "language_info": {
   "codemirror_mode": {
    "name": "ipython",
    "version": 2
   },
   "file_extension": ".py",
   "mimetype": "text/x-python",
   "name": "python",
   "nbconvert_exporter": "python",
   "pygments_lexer": "ipython2",
   "version": "2.7.6"
  }
 },
 "nbformat": 4,
 "nbformat_minor": 1
}
