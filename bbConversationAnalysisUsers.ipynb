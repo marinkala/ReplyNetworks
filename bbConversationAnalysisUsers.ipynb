{
 "cells": [
  {
   "cell_type": "code",
   "execution_count": 1,
   "metadata": {
    "collapsed": true
   },
   "outputs": [],
   "source": [
    "import pandas as pd\n",
    "import numpy as np\n",
    "import ast\n",
    "import collections as c\n",
    "import matplotlib.pyplot as plt\n",
    "\n",
    "%matplotlib inline"
   ]
  },
  {
   "cell_type": "code",
   "execution_count": 45,
   "metadata": {
    "collapsed": false
   },
   "outputs": [],
   "source": [
    "convs=pd.read_csv('../data/bbAllFullConvosMore.csv',sep=';')"
   ]
  },
  {
   "cell_type": "code",
   "execution_count": 46,
   "metadata": {
    "collapsed": true
   },
   "outputs": [],
   "source": [
    "convs.allNames=convs.allNames.apply(lambda x: ast.literal_eval(x))"
   ]
  },
  {
   "cell_type": "code",
   "execution_count": 15,
   "metadata": {
    "collapsed": false
   },
   "outputs": [],
   "source": [
    "allUsers=list(set(convs.allNames.sum()))"
   ]
  },
  {
   "cell_type": "code",
   "execution_count": 16,
   "metadata": {
    "collapsed": false
   },
   "outputs": [
    {
     "data": {
      "text/plain": [
       "2935"
      ]
     },
     "execution_count": 16,
     "metadata": {},
     "output_type": "execute_result"
    }
   ],
   "source": [
    "len(allUsers)"
   ]
  },
  {
   "cell_type": "markdown",
   "metadata": {},
   "source": [
    "So 2935 unique users participated in our local conversations"
   ]
  },
  {
   "cell_type": "code",
   "execution_count": 12,
   "metadata": {
    "collapsed": true
   },
   "outputs": [],
   "source": [
    "before=convs[pd.to_datetime(convs.convoEndTime)<pd.to_datetime('2012-10-27 00:00:00')]"
   ]
  },
  {
   "cell_type": "code",
   "execution_count": 13,
   "metadata": {
    "collapsed": true
   },
   "outputs": [],
   "source": [
    "during=convs[(pd.to_datetime(convs.date0)>=pd.to_datetime('2012-10-27 00:00:00')) & (pd.to_datetime(convs.convoEndTime)<=pd.to_datetime('2012-11-04 11:59:59'))]"
   ]
  },
  {
   "cell_type": "code",
   "execution_count": 14,
   "metadata": {
    "collapsed": true
   },
   "outputs": [],
   "source": [
    "after=convs[pd.to_datetime(convs.date0)>=pd.to_datetime('2012-11-05 00:00:00')]"
   ]
  },
  {
   "cell_type": "code",
   "execution_count": 17,
   "metadata": {
    "collapsed": true
   },
   "outputs": [],
   "source": [
    "bUsers=list(set(before.allNames.sum()))"
   ]
  },
  {
   "cell_type": "code",
   "execution_count": 18,
   "metadata": {
    "collapsed": false
   },
   "outputs": [
    {
     "data": {
      "text/plain": [
       "1050"
      ]
     },
     "execution_count": 18,
     "metadata": {},
     "output_type": "execute_result"
    }
   ],
   "source": [
    "len(bUsers)"
   ]
  },
  {
   "cell_type": "code",
   "execution_count": 19,
   "metadata": {
    "collapsed": true
   },
   "outputs": [],
   "source": [
    "dUsers=list(set(during.allNames.sum()))"
   ]
  },
  {
   "cell_type": "code",
   "execution_count": 20,
   "metadata": {
    "collapsed": false
   },
   "outputs": [
    {
     "data": {
      "text/plain": [
       "1660"
      ]
     },
     "execution_count": 20,
     "metadata": {},
     "output_type": "execute_result"
    }
   ],
   "source": [
    "len(dUsers)"
   ]
  },
  {
   "cell_type": "code",
   "execution_count": 21,
   "metadata": {
    "collapsed": true
   },
   "outputs": [],
   "source": [
    "aUsers=list(set(after.allNames.sum()))"
   ]
  },
  {
   "cell_type": "code",
   "execution_count": 22,
   "metadata": {
    "collapsed": false
   },
   "outputs": [
    {
     "data": {
      "text/plain": [
       "1781"
      ]
     },
     "execution_count": 22,
     "metadata": {},
     "output_type": "execute_result"
    }
   ],
   "source": [
    "len(aUsers)"
   ]
  },
  {
   "cell_type": "code",
   "execution_count": 24,
   "metadata": {
    "collapsed": false
   },
   "outputs": [
    {
     "data": {
      "text/plain": [
       "558"
      ]
     },
     "execution_count": 24,
     "metadata": {},
     "output_type": "execute_result"
    }
   ],
   "source": [
    "len(set(bUsers) & set(dUsers))"
   ]
  },
  {
   "cell_type": "code",
   "execution_count": 25,
   "metadata": {
    "collapsed": false
   },
   "outputs": [
    {
     "data": {
      "text/plain": [
       "842"
      ]
     },
     "execution_count": 25,
     "metadata": {},
     "output_type": "execute_result"
    }
   ],
   "source": [
    "len(set(dUsers) & set(aUsers))"
   ]
  },
  {
   "cell_type": "code",
   "execution_count": 26,
   "metadata": {
    "collapsed": false
   },
   "outputs": [
    {
     "data": {
      "text/plain": [
       "620"
      ]
     },
     "execution_count": 26,
     "metadata": {},
     "output_type": "execute_result"
    }
   ],
   "source": [
    "len(set(bUsers) & set(aUsers))"
   ]
  },
  {
   "cell_type": "code",
   "execution_count": 27,
   "metadata": {
    "collapsed": false
   },
   "outputs": [
    {
     "data": {
      "text/plain": [
       "424"
      ]
     },
     "execution_count": 27,
     "metadata": {},
     "output_type": "execute_result"
    }
   ],
   "source": [
    "len(set(dUsers) & set(aUsers) & set(bUsers))"
   ]
  },
  {
   "cell_type": "markdown",
   "metadata": {},
   "source": [
    "* So more than a half of before users were also active during\n",
    "* And about a half of during users were active after \n",
    "* Over 400 users were active in all three periods"
   ]
  },
  {
   "cell_type": "markdown",
   "metadata": {},
   "source": [
    "# Patterns by users"
   ]
  },
  {
   "cell_type": "markdown",
   "metadata": {},
   "source": [
    "### One-person conversations"
   ]
  },
  {
   "cell_type": "code",
   "execution_count": 34,
   "metadata": {
    "collapsed": false
   },
   "outputs": [
    {
     "data": {
      "text/plain": [
       "0.2574065080135988"
      ]
     },
     "execution_count": 34,
     "metadata": {},
     "output_type": "execute_result"
    }
   ],
   "source": [
    "len(convs[convs.userSetLen==1])/float(len(convs))"
   ]
  },
  {
   "cell_type": "markdown",
   "metadata": {},
   "source": [
    "Quarter of all conversations are users responding to themselves!!!"
   ]
  },
  {
   "cell_type": "code",
   "execution_count": 70,
   "metadata": {
    "collapsed": false
   },
   "outputs": [
    {
     "data": {
      "text/plain": [
       "2.0"
      ]
     },
     "execution_count": 70,
     "metadata": {},
     "output_type": "execute_result"
    }
   ],
   "source": [
    "np.median(convs.convSize[convs.userSetLen==1])"
   ]
  },
  {
   "cell_type": "code",
   "execution_count": 43,
   "metadata": {
    "collapsed": false
   },
   "outputs": [
    {
     "data": {
      "text/plain": [
       "2.0"
      ]
     },
     "execution_count": 43,
     "metadata": {},
     "output_type": "execute_result"
    }
   ],
   "source": [
    "np.percentile(convs.convSize[convs.userSetLen==1],90)"
   ]
  },
  {
   "cell_type": "code",
   "execution_count": 39,
   "metadata": {
    "collapsed": false
   },
   "outputs": [
    {
     "data": {
      "text/plain": [
       "12"
      ]
     },
     "execution_count": 39,
     "metadata": {},
     "output_type": "execute_result"
    }
   ],
   "source": [
    "max(convs.convSize[convs.userSetLen==1])"
   ]
  },
  {
   "cell_type": "code",
   "execution_count": 49,
   "metadata": {
    "collapsed": false,
    "scrolled": true
   },
   "outputs": [
    {
     "data": {
      "text/html": [
       "<div>\n",
       "<table border=\"1\" class=\"dataframe\">\n",
       "  <thead>\n",
       "    <tr style=\"text-align: right;\">\n",
       "      <th></th>\n",
       "      <th>Unnamed: 0</th>\n",
       "      <th>tweet0</th>\n",
       "      <th>date0</th>\n",
       "      <th>username0</th>\n",
       "      <th>text0</th>\n",
       "      <th>tweet1</th>\n",
       "      <th>date1</th>\n",
       "      <th>username1</th>\n",
       "      <th>text1</th>\n",
       "      <th>tweet2</th>\n",
       "      <th>...</th>\n",
       "      <th>text43</th>\n",
       "      <th>branching</th>\n",
       "      <th>convSize</th>\n",
       "      <th>allNames</th>\n",
       "      <th>convoEndTime</th>\n",
       "      <th>convoLen</th>\n",
       "      <th>userSetLen</th>\n",
       "      <th>avgTimePerReply</th>\n",
       "      <th>longTailed</th>\n",
       "      <th>medianReplyTime</th>\n",
       "    </tr>\n",
       "  </thead>\n",
       "  <tbody>\n",
       "    <tr>\n",
       "      <th>84</th>\n",
       "      <td>84</td>\n",
       "      <td>269602947242029056</td>\n",
       "      <td>2012-11-17 00:48:46</td>\n",
       "      <td>anthonyd1972</td>\n",
       "      <td>#whitehouse defense bizarre by the day. #petre...</td>\n",
       "      <td>269603217615233026</td>\n",
       "      <td>2012-11-17 00:49:50</td>\n",
       "      <td>anthonyd1972</td>\n",
       "      <td>@anthonyd1972 so if the CIA talking points wer...</td>\n",
       "      <td>269603536260706304</td>\n",
       "      <td>...</td>\n",
       "      <td>0</td>\n",
       "      <td>True</td>\n",
       "      <td>12</td>\n",
       "      <td>[anthonyd1972]</td>\n",
       "      <td>2012-11-17 00:56:09</td>\n",
       "      <td>443</td>\n",
       "      <td>1</td>\n",
       "      <td>40.272727</td>\n",
       "      <td>True</td>\n",
       "      <td>81</td>\n",
       "    </tr>\n",
       "  </tbody>\n",
       "</table>\n",
       "<p>1 rows × 186 columns</p>\n",
       "</div>"
      ],
      "text/plain": [
       "    Unnamed: 0              tweet0                date0     username0  \\\n",
       "84          84  269602947242029056  2012-11-17 00:48:46  anthonyd1972   \n",
       "\n",
       "                                                text0              tweet1  \\\n",
       "84  #whitehouse defense bizarre by the day. #petre...  269603217615233026   \n",
       "\n",
       "                  date1     username1  \\\n",
       "84  2012-11-17 00:49:50  anthonyd1972   \n",
       "\n",
       "                                                text1              tweet2  \\\n",
       "84  @anthonyd1972 so if the CIA talking points wer...  269603536260706304   \n",
       "\n",
       "         ...       text43 branching convSize        allNames  \\\n",
       "84       ...            0      True       12  [anthonyd1972]   \n",
       "\n",
       "           convoEndTime convoLen userSetLen  avgTimePerReply longTailed  \\\n",
       "84  2012-11-17 00:56:09      443          1        40.272727       True   \n",
       "\n",
       "   medianReplyTime  \n",
       "84              81  \n",
       "\n",
       "[1 rows x 186 columns]"
      ]
     },
     "execution_count": 49,
     "metadata": {},
     "output_type": "execute_result"
    }
   ],
   "source": [
    "convs[(convs.userSetLen==1) & (convs.convSize==12)] # add .values to see as list"
   ]
  },
  {
   "cell_type": "markdown",
   "metadata": {},
   "source": [
    "So the vast majority of these (90%) are one reply to oneself, but there is a self-conversation of 12 steps (rant about politics)"
   ]
  },
  {
   "cell_type": "code",
   "execution_count": 53,
   "metadata": {
    "collapsed": false
   },
   "outputs": [
    {
     "data": {
      "text/plain": [
       "236.0"
      ]
     },
     "execution_count": 53,
     "metadata": {},
     "output_type": "execute_result"
    }
   ],
   "source": [
    "np.median(convs.convoLen[convs.userSetLen==1])"
   ]
  },
  {
   "cell_type": "code",
   "execution_count": 68,
   "metadata": {
    "collapsed": false
   },
   "outputs": [
    {
     "data": {
      "text/plain": [
       "<matplotlib.text.Text at 0x7f7b69cf1d90>"
      ]
     },
     "execution_count": 68,
     "metadata": {},
     "output_type": "execute_result"
    },
    {
     "data": {
      "image/png": "[encoded data removed]",
      "text/plain": [
       "<matplotlib.figure.Figure at 0x7f7b67e26f50>"
      ]
     },
     "metadata": {},
     "output_type": "display_data"
    }
   ],
   "source": [
    "convoLen = convs.convoLen[convs.userSetLen==1].dropna().tolist()\n",
    "bins=np.logspace(0, int(np.log(max(convoLen))), 100)\n",
    "width=bins[1:]-bins[:-1]\n",
    "h, b=np.histogram(convoLen,bins)\n",
    "h=h/float(sum(h))\n",
    "plt.bar(b[:-1], h, width, color='c')\n",
    "#plt.plot(bins[:-1], fit[:-1]*width, linewidth=2)\n",
    "plt.gca().set_xscale(\"log\")\n",
    "plt.xlim(xmin=0,xmax=10**6.5)\n",
    "plt.ylim(ymin=0, ymax=0.08)\n",
    "plt.title('One-person conversation lengths in seconds')"
   ]
  },
  {
   "cell_type": "code",
   "execution_count": 54,
   "metadata": {
    "collapsed": false
   },
   "outputs": [
    {
     "data": {
      "text/plain": [
       "224.5"
      ]
     },
     "execution_count": 54,
     "metadata": {},
     "output_type": "execute_result"
    }
   ],
   "source": [
    "np.median(convs.avgTimePerReply[convs.userSetLen==1])"
   ]
  },
  {
   "cell_type": "code",
   "execution_count": 55,
   "metadata": {
    "collapsed": false
   },
   "outputs": [
    {
     "data": {
      "text/plain": [
       "226.5"
      ]
     },
     "execution_count": 55,
     "metadata": {},
     "output_type": "execute_result"
    }
   ],
   "source": [
    "np.median(convs.medianReplyTime[convs.userSetLen==1])"
   ]
  },
  {
   "cell_type": "code",
   "execution_count": 69,
   "metadata": {
    "collapsed": false
   },
   "outputs": [
    {
     "data": {
      "text/plain": [
       "<matplotlib.text.Text at 0x7f7b694e6250>"
      ]
     },
     "execution_count": 69,
     "metadata": {},
     "output_type": "execute_result"
    },
    {
     "data": {
      "image/png": "[encoded data removed]",
      "text/plain": [
       "<matplotlib.figure.Figure at 0x7f7b691db4d0>"
      ]
     },
     "metadata": {},
     "output_type": "display_data"
    }
   ],
   "source": [
    "medRepTime=convs[convs.userSetLen==1].medianReplyTime.dropna().tolist()\n",
    "bins=np.logspace(0, int(np.log(max(medRepTime))), 100)\n",
    "width=bins[1:]-bins[:-1]\n",
    "h, b=np.histogram(medRepTime,bins)\n",
    "h=h/float(sum(h))\n",
    "plt.bar(b[:-1], h, width, color='c')\n",
    "#plt.plot(bins[:-1], fit[:-1]*width, linewidth=2)\n",
    "plt.gca().set_xscale(\"log\")\n",
    "plt.xlim(xmin=0,xmax=10**6.5)\n",
    "plt.ylim(ymin=0, ymax=0.08)\n",
    "plt.title('Median time (s) between turns in one-person conversations')"
   ]
  },
  {
   "cell_type": "markdown",
   "metadata": {},
   "source": [
    "** Takeway:**\n",
    "* So the conversations users have with themselves tend to be quite a bit shorter than all the conversations\n",
    "* While the number of tweet still has median of 2.0 and 90th percentile of 2 as well\n",
    "* The avg and median gaps between replies in the conversation are much shorter than overall\n",
    "* Pretty intuitive, since they don't have to wait for another party for a reply - no back and forth"
   ]
  },
  {
   "cell_type": "markdown",
   "metadata": {},
   "source": [
    "### Two-person conversations"
   ]
  },
  {
   "cell_type": "code",
   "execution_count": 56,
   "metadata": {
    "collapsed": false
   },
   "outputs": [
    {
     "data": {
      "text/plain": [
       "0.7264044034320868"
      ]
     },
     "execution_count": 56,
     "metadata": {},
     "output_type": "execute_result"
    }
   ],
   "source": [
    "len(convs[convs.userSetLen==2])/float(len(convs))"
   ]
  },
  {
   "cell_type": "markdown",
   "metadata": {},
   "source": [
    "Almost three quarters of the conversations are with just one other person"
   ]
  },
  {
   "cell_type": "code",
   "execution_count": 71,
   "metadata": {
    "collapsed": false
   },
   "outputs": [
    {
     "data": {
      "text/plain": [
       "2.0"
      ]
     },
     "execution_count": 71,
     "metadata": {},
     "output_type": "execute_result"
    }
   ],
   "source": [
    "np.median(convs.convSize[convs.userSetLen==2])"
   ]
  },
  {
   "cell_type": "code",
   "execution_count": 72,
   "metadata": {
    "collapsed": false
   },
   "outputs": [
    {
     "data": {
      "text/plain": [
       "4.0"
      ]
     },
     "execution_count": 72,
     "metadata": {},
     "output_type": "execute_result"
    }
   ],
   "source": [
    "np.percentile(convs.convSize[convs.userSetLen==2],90)"
   ]
  },
  {
   "cell_type": "code",
   "execution_count": 73,
   "metadata": {
    "collapsed": false
   },
   "outputs": [
    {
     "data": {
      "text/plain": [
       "44"
      ]
     },
     "execution_count": 73,
     "metadata": {},
     "output_type": "execute_result"
    }
   ],
   "source": [
    "max(convs.convSize[convs.userSetLen==2])"
   ]
  },
  {
   "cell_type": "code",
   "execution_count": 77,
   "metadata": {
    "collapsed": false,
    "scrolled": true
   },
   "outputs": [
    {
     "data": {
      "text/plain": [
       "array([[157, 273878290891157505, '2012-11-28 19:57:27', 'Megglezzz',\n",
       "        'When boredom strikes I wish I had someone to chat with. #WorkProblema #Only2and1/2HoursToGo',\n",
       "        273880135822897153, '2012-11-28 20:04:47', 'DDougyy',\n",
       "        \"@Megglezzz Me too. What's up?\", 273880423673786368,\n",
       "        '2012-11-28 20:05:56', 'Megglezzz',\n",
       "        '@DDougyy skittles, iced tea, music, and work. Yourself?',\n",
       "        273882120517214208, '2012-11-28 20:12:40', 'DDougyy',\n",
       "        \"@Megglezzz Water and work. And it's 1,000 degrees in here. So I'll be asleep soon lol\",\n",
       "        273882398444384257, '2012-11-28 20:13:46', 'Megglezzz',\n",
       "        \"@DDougyy I feel your pain lol. It's about 900 degrees in here. Was about 1,000 until someone cracked a window.\",\n",
       "        273884185071067136, '2012-11-28 20:20:52', 'DDougyy',\n",
       "        '@Megglezzz I wish I had a window near me :(', 273885113794842624,\n",
       "        '2012-11-28 20:24:34', 'Megglezzz',\n",
       "        '@DDougyy I sit one cubical away from the window. I catch the slight breeze lol',\n",
       "        273886661878878209, '2012-11-28 20:30:43', 'DDougyy',\n",
       "        '@Megglezzz Can we trade desks?', 273886929009922048,\n",
       "        '2012-11-28 20:31:47', 'Megglezzz',\n",
       "        '@DDougyy sure, you can do all my work for me too.',\n",
       "        273890450484649985, '2012-11-28 20:45:46', 'DDougyy',\n",
       "        \"@Megglezzz Well then you'd have to do all mine as well lol\",\n",
       "        273890720627183616, '2012-11-28 20:46:51', 'Megglezzz',\n",
       "        \"@DDougyy I'm conveniently out of the country lol didn't you know? Lol\",\n",
       "        273898738748096512, '2012-11-28 21:18:42', 'DDougyy',\n",
       "        '@Megglezzz Oh is that so? Your tweet says Bayonne, NJ :P',\n",
       "        273899758190481408, '2012-11-28 21:22:45', 'Megglezzz',\n",
       "        '@DDougyy that is out of the country! Lol', 273900334492045312,\n",
       "        '2012-11-28 21:25:03', 'DDougyy',\n",
       "        \"@Megglezzz Oh then what's it like? I've never been.\",\n",
       "        273900622514909184, '2012-11-28 21:26:11', 'Megglezzz',\n",
       "        '@DDougyy at the moment cold, nice sunset, boring, small very small.',\n",
       "        273902715678121984, '2012-11-28 21:34:30', 'DDougyy',\n",
       "        '@Megglezzz Sounds decent enough to me lol', 273903088937627648,\n",
       "        '2012-11-28 21:35:59', 'Megglezzz',\n",
       "        \"@DDougyy Lol it's an okay place.\", 273904389046034432,\n",
       "        '2012-11-28 21:41:09', 'DDougyy',\n",
       "        \"@Megglezzz Well it sounds nicer than work, and where I'm going next lol\",\n",
       "        273905086021922816, '2012-11-28 21:43:56', 'Megglezzz',\n",
       "        \"@DDougyy I'm happy it's right home after work lol\",\n",
       "        273922670679175168, '2012-11-28 22:53:48', 'DDougyy',\n",
       "        '@Megglezzz Lucky you lol', 273927221817786370,\n",
       "        '2012-11-28 23:11:53', 'Megglezzz',\n",
       "        '@DDougyy I know lol. Always good to be home', 273933388057022465,\n",
       "        '2012-11-28 23:36:23', 'DDougyy',\n",
       "        \"@Megglezzz I've finally made it to mine lol\", 273934601347547137,\n",
       "        '2012-11-28 23:41:13', 'Megglezzz',\n",
       "        '@DDougyy huzzah!! How does it feel?', 273936127696707584,\n",
       "        '2012-11-28 23:47:16', 'DDougyy',\n",
       "        '@Megglezzz Very comfortable. I landed on my bed lol you?',\n",
       "        273941519680032769, '2012-11-29 00:08:42', 'Megglezzz',\n",
       "        '@DDougyy my couch to watch Rizzoli , Isles', 273956558554136576,\n",
       "        '2012-11-29 01:08:28', 'DDougyy',\n",
       "        \"@Megglezzz Never seen it lol I'll be hitting up Netflix for my Top Gear fix pretty soon.\",\n",
       "        273957030753103872, '2012-11-29 01:10:20', 'Megglezzz',\n",
       "        \"@DDougyy I'm trying to avoid Netflix cause I know I'll end up with Doctor Who on\",\n",
       "        273960520812466176, '2012-11-29 01:24:12', 'DDougyy',\n",
       "        \"@Megglezzz Well that isn't exactly a bad thing...\",\n",
       "        273966908397740032, '2012-11-29 01:49:35', 'Megglezzz',\n",
       "        \"@DDougyy no it's not lol. It's an addiction. A very brilliant addiction\",\n",
       "        273979595244593152, '2012-11-29 02:40:00', 'DDougyy',\n",
       "        '@Megglezzz The addiction is not sticking with me just yet. Need to try harder I think :P',\n",
       "        273981602265174018, '2012-11-29 02:47:58', 'Megglezzz',\n",
       "        \"@DDougyy I think once you hit series 2 and David Tennant's run you'll be hooked. That's how it always works. Lol\",\n",
       "        273983289704976384, '2012-11-29 02:54:41', 'DDougyy',\n",
       "        '@Megglezzz Hmmkay noted lol', 273984795564965888,\n",
       "        '2012-11-29 03:00:40', 'Megglezzz',\n",
       "        \"@DDougyy stick with it and you won't be disappointed! Lol\",\n",
       "        273985543610712064, '2012-11-29 03:03:38', 'DDougyy',\n",
       "        '@Megglezzz Yes miss lol', 273986911872376834,\n",
       "        '2012-11-29 03:09:04', 'Megglezzz',\n",
       "        '@DDougyy awesome! You get a cookie!', 273988175725228033,\n",
       "        '2012-11-29 03:14:06', 'DDougyy',\n",
       "        \"@Megglezzz I do?! Wasn't expecting that lol\", 273989297164664832,\n",
       "        '2012-11-29 03:18:33', 'Megglezzz',\n",
       "        '@DDougyy yup! Cookie for all!', 273990788566880256,\n",
       "        '2012-11-29 03:24:29', 'DDougyy', \"@Megglezzz You're so nice!\",\n",
       "        273991989433868288, '2012-11-29 03:29:15', 'Megglezzz',\n",
       "        '@DDougyy aw thanks! I try to be lol', 274000940800036864,\n",
       "        '2012-11-29 04:04:49', 'DDougyy',\n",
       "        '@Megglezzz Good! Nice people are...nicer :P', 274003075038056448,\n",
       "        '2012-11-29 04:13:18', 'Megglezzz', \"@DDougyy you don't say lol\",\n",
       "        274003914045661185, '2012-11-29 04:16:38', 'DDougyy',\n",
       "        '@Megglezzz I know, very profound statement.', 274009161975619584,\n",
       "        '2012-11-29 04:37:29', 'Megglezzz',\n",
       "        '@DDougyy who would have ever thought of that lol.',\n",
       "        274011668424568832, '2012-11-29 04:47:27', 'DDougyy',\n",
       "        \"@Megglezzz That's why people keep me around, for the very intelligent things I say. And when I say intelligent, I mean silly.\",\n",
       "        False, 44, ['DDougyy', 'Megglezzz'], '2012-11-29 04:47:27', 31800,\n",
       "        2, 739.534883721, True, 363.0]], dtype=object)"
      ]
     },
     "execution_count": 77,
     "metadata": {},
     "output_type": "execute_result"
    }
   ],
   "source": [
    "convs[(convs.userSetLen==2) & (convs.convSize==44)].values"
   ]
  },
  {
   "cell_type": "markdown",
   "metadata": {},
   "source": [
    "* The median suggests that about half of these are still just one tweet and one reply - short exchanges\n",
    "* The 90th percentile being 4 suggests that bigger proportion of these are longer than in one-person conversations\n",
    "* The longest convo here is 44 steps - bored work chat and discussion of tv shows, maybe light flirting?\n",
    "* The 3 out of 4 two-person conversations with 12 tweets are about Sandy in some way: evacuation, prep, infrustricture failure, role of global warming"
   ]
  },
  {
   "cell_type": "code",
   "execution_count": 64,
   "metadata": {
    "collapsed": false,
    "scrolled": true
   },
   "outputs": [
    {
     "data": {
      "text/plain": [
       "array([[48, 263634418994909185, '2012-10-31 13:31:58', 'pacovell',\n",
       "        '@JOEDOEchef these are pretty different failures, but we should be designing and building better systems here',\n",
       "        263714145256480768, '2012-10-31 18:48:46', 'JOEDOEchef',\n",
       "        '@pacovell not so. Both were water related failures(ie floods) occurring at power stations near bodies of water',\n",
       "        263716756823080960, '2012-10-31 18:59:09', 'pacovell',\n",
       "        '@JOEDOEchef Tokyo failure, major earthquake and tsunami took generation offline.  Our generation is OK. Still, improved design would help.',\n",
       "        263717928594198528, '2012-10-31 19:03:48', 'pacovell',\n",
       "        \"@JOEDOEchef I guess what I'm saying is if Tokyo events happened here it would be FAR worse than in Tokyo - they have better infrastructure\",\n",
       "        263720371415576577, '2012-10-31 19:13:30', 'JOEDOEchef',\n",
       "        '@pacovell my pt exactly!  This is a joke!  This is not a tsunami !!!  If it was this would be apocalypse!',\n",
       "        263719997438840832, '2012-10-31 19:12:01', 'JOEDOEchef',\n",
       "        '@pacovell not sure u research is based in fact. Tokyo and Japan for tht matter have Tiny pop compared to NE coast of US.',\n",
       "        263727244093030400, '2012-10-31 19:40:49', 'pacovell',\n",
       "        '@JOEDOEchef Japan 180m ppl area roughly size of CA, Tokyo 13m ppl',\n",
       "        263760802580951040, '2012-10-31 21:54:10', 'JOEDOEchef',\n",
       "        '@pacovell are u proving my point for me. Not sure what ur getting at. 1 response worse than the last',\n",
       "        263790483636105216, '2012-10-31 23:52:06', 'pacovell',\n",
       "        '@JOEDOEchef how is 180m japan smaller than 112m east coast, as you say? Or 13m Tokyo smaller than 8m NYC? #countingfail',\n",
       "        263811298939260928, '2012-11-01 01:14:49', 'JOEDOEchef',\n",
       "        '@pacovell one is the center of the universe and the other is a puppet. #importancefail',\n",
       "        263811839949942785, '2012-11-01 01:16:58', 'JOEDOEchef',\n",
       "        '@pacovell is 112m is part of an even larger country(larger in all ways than Japan) we should be leading not following their poor example',\n",
       "        263812085014732800, '2012-11-01 01:17:57', 'JOEDOEchef',\n",
       "        \"@pacovell we rebuilt them after ww2not other way around. ConEd is a modern day joke that is 50 urs old. U could've seen this coming yrs ago\",\n",
       "        0, '0', '0', '0', 0, '0', '0', '0', 0, '0', '0', '0', 0, '0', '0',\n",
       "        '0', 0, '0', '0', '0', 0, '0', '0', '0', 0, '0', '0', '0', 0, '0',\n",
       "        '0', '0', 0, '0', '0', '0', 0, '0', '0', '0', 0, '0', '0', '0', 0,\n",
       "        '0', '0', '0', 0, '0', '0', '0', 0, '0', '0', '0', 0, '0', '0',\n",
       "        '0', 0, '0', '0', '0', 0, '0', '0', '0', 0, '0', '0', '0', 0, '0',\n",
       "        '0', '0', 0, '0', '0', '0', 0, '0', '0', '0', 0, '0', '0', '0', 0,\n",
       "        '0', '0', '0', 0, '0', '0', '0', 0, '0', '0', '0', 0, '0', '0',\n",
       "        '0', 0, '0', '0', '0', 0, '0', '0', '0', 0, '0', '0', '0', 0, '0',\n",
       "        '0', '0', 0, '0', '0', '0', 0, '0', '0', '0', True, 12,\n",
       "        ['JOEDOEchef', 'pacovell'], '2012-11-01 01:17:57', 42359, 2,\n",
       "        3850.81818182, True, 1175.5],\n",
       "       [397, 264086468639744001, '2012-11-01 19:28:15', 'shaig',\n",
       "        '.@MikeBloomberg supports Obama as opposed to Romney due to Obamas views on #globalwarming #womensrights #equalrights http://t.co/lrjGbkrA',\n",
       "        264088261180420096, '2012-11-01 19:35:22', 'superacidjax',\n",
       "        \"@shaig The global warming nonsense has nothing to do with this storm. It's simply a Trojan Horse for economic control.\",\n",
       "        264092371774492673, '2012-11-01 19:51:42', 'shaig',\n",
       "        '@superacidjax ? Trojan horse for economic control?',\n",
       "        264093473559437312, '2012-11-01 19:56:05', 'superacidjax',\n",
       "        \"@shaig I'm more worried about benzene and sulfur dioxide but the gov wastes time policing cow shit b/c of global 'warming.'\",\n",
       "        264093115995000832, '2012-11-01 19:54:40', 'superacidjax',\n",
       "        '@shaig We should reduce pollution, but calling CO2 a pollutant just gives the EPA the power to control whatever they want.',\n",
       "        264092917558280193, '2012-11-01 19:53:52', 'superacidjax',\n",
       "        '@shaig Sure. Global Warming regs make guys like Al Gore rich while controlling the means of production.',\n",
       "        264093361890279426, '2012-11-01 19:55:38', 'shaig',\n",
       "        '@superacidjax disagree', 264093764463767554,\n",
       "        '2012-11-01 19:57:14', 'superacidjax',\n",
       "        \"@shaig The radical enviro movement began right around the fall of communism. It isn't a coincidence.\",\n",
       "        264093882252419072, '2012-11-01 19:57:42', 'superacidjax',\n",
       "        '@shaig More importantly, are you surviving ok from the strorm?',\n",
       "        264094262633828352, '2012-11-01 19:59:13', 'shaig',\n",
       "        '@superacidjax Im good, we live in UES, minor damage only - you?',\n",
       "        264097140387758081, '2012-11-01 20:10:39', 'superacidjax',\n",
       "        \"@shaig bad shape in Jersey City.. My wife is giving birth any day and the hospitals are on generators.. But we're ok! Thanks and be safe!\",\n",
       "        264098421575667712, '2012-11-01 20:15:45', 'shaig',\n",
       "        '@superacidjax exciting times, Im sure the hospital are first priority for power so you should be good, best wishes for a healthy delivery',\n",
       "        0, '0', '0', '0', 0, '0', '0', '0', 0, '0', '0', '0', 0, '0', '0',\n",
       "        '0', 0, '0', '0', '0', 0, '0', '0', '0', 0, '0', '0', '0', 0, '0',\n",
       "        '0', '0', 0, '0', '0', '0', 0, '0', '0', '0', 0, '0', '0', '0', 0,\n",
       "        '0', '0', '0', 0, '0', '0', '0', 0, '0', '0', '0', 0, '0', '0',\n",
       "        '0', 0, '0', '0', '0', 0, '0', '0', '0', 0, '0', '0', '0', 0, '0',\n",
       "        '0', '0', 0, '0', '0', '0', 0, '0', '0', '0', 0, '0', '0', '0', 0,\n",
       "        '0', '0', '0', 0, '0', '0', '0', 0, '0', '0', '0', 0, '0', '0',\n",
       "        '0', 0, '0', '0', '0', 0, '0', '0', '0', 0, '0', '0', '0', 0, '0',\n",
       "        '0', '0', 0, '0', '0', '0', 0, '0', '0', '0', True, 12,\n",
       "        ['superacidjax', 'shaig'], '2012-11-01 20:15:45', 2850, 2,\n",
       "        259.09090909099996, True, 263.0],\n",
       "       [956, 260146553841389568, '2012-10-21 22:32:26', 'solari3035',\n",
       "        '@maggz630 why is Phil Evans so hot #omg #lovehim',\n",
       "        260147239610101760, '2012-10-21 22:35:09', 'maggieperetti',\n",
       "        \"@solari3035 i know omg #philevansisperf. He's so hot that i want to bake cookies on him. awk :)\",\n",
       "        260147545995612160, '2012-10-21 22:36:22', 'solari3035',\n",
       "        \"@maggz630 I'd bake cookies on him #philbemine I wanna see him wed.\",\n",
       "        260147999810912256, '2012-10-21 22:38:11', 'maggieperetti',\n",
       "        '@solari3035 same #philbemine. but wait whats wed. ?',\n",
       "        260148212743163904, '2012-10-21 22:39:01', 'solari3035',\n",
       "        '@maggz630 the concert were you have to be 18 years or older ',\n",
       "        260148439885697024, '2012-10-21 22:39:56', 'maggieperetti',\n",
       "        '@solari3035 ohh yea you should go :D and tell my baby Phil that i said hi :3',\n",
       "        260148679283974144, '2012-10-21 22:40:53', 'solari3035',\n",
       "        \"@maggz630 that's if @tiffanyxoo13 parents say yes\",\n",
       "        260149004380295168, '2012-10-21 22:42:10', 'maggieperetti',\n",
       "        '@solari3035 @tiffanyxoo13 are you guys going to the show in Boonton December 1st.',\n",
       "        260149272891256833, '2012-10-21 22:43:14', 'solari3035',\n",
       "        '@maggz630 @tiffanyxoo13 where', 260149446501871618,\n",
       "        '2012-10-21 22:43:56', 'maggieperetti',\n",
       "        '@solari3035 @tiffanyxoo13 Boonton NJ', 260149547458756608,\n",
       "        '2012-10-21 22:44:20', 'solari3035',\n",
       "        '@maggz630 @tiffanyxoo13 I must go', 260149672130252801,\n",
       "        '2012-10-21 22:44:49', 'maggieperetti',\n",
       "        '@solari3035 @tiffanyxoo13 yesssss you have to :D', 0, '0', '0',\n",
       "        '0', 0, '0', '0', '0', 0, '0', '0', '0', 0, '0', '0', '0', 0, '0',\n",
       "        '0', '0', 0, '0', '0', '0', 0, '0', '0', '0', 0, '0', '0', '0', 0,\n",
       "        '0', '0', '0', 0, '0', '0', '0', 0, '0', '0', '0', 0, '0', '0',\n",
       "        '0', 0, '0', '0', '0', 0, '0', '0', '0', 0, '0', '0', '0', 0, '0',\n",
       "        '0', '0', 0, '0', '0', '0', 0, '0', '0', '0', 0, '0', '0', '0', 0,\n",
       "        '0', '0', '0', 0, '0', '0', '0', 0, '0', '0', '0', 0, '0', '0',\n",
       "        '0', 0, '0', '0', '0', 0, '0', '0', '0', 0, '0', '0', '0', 0, '0',\n",
       "        '0', '0', 0, '0', '0', '0', 0, '0', '0', '0', 0, '0', '0', '0', 0,\n",
       "        '0', '0', '0', 0, '0', '0', '0', False, 12,\n",
       "        ['maggieperetti', 'solari3035'], '2012-10-21 22:44:49', 743, 2,\n",
       "        67.54545454550001, True, 57.0],\n",
       "       [1571, 262560648104378368, '2012-10-28 14:25:11', 'JamesDeanX',\n",
       "        'Packing packing packing... Argo fucking packing...',\n",
       "        262566314755903488, '2012-10-28 14:47:42', 'MaggieBoruk',\n",
       "        '@JamesDeanX hey that sounds like my weekend! Only now Sandy is interfering with the Argo part ',\n",
       "        262566635838255104, '2012-10-28 14:48:58', 'JamesDeanX',\n",
       "        '@MaggieBoruk Why? Movies are the best part of hurricane!!!',\n",
       "        262567513961922560, '2012-10-28 14:52:28', 'MaggieBoruk',\n",
       "        \"@JamesDeanX not if there is no power!!  Plus I'm in an evac zone so I'm guessing Bloomie is gonna kick me out today\",\n",
       "        262568000803192832, '2012-10-28 14:54:24', 'JamesDeanX',\n",
       "        '@MaggieBoruk Oh my... Take care and stay dry!!!! #Sandy stay away!!!',\n",
       "        262568532758384642, '2012-10-28 14:56:31', 'MaggieBoruk',\n",
       "        \"@JamesDeanX thanks! I'm on the 20th floor so I'm not worried about flooding, but no power/water would be the worst! Boo! Hope u r safe + dry\",\n",
       "        262568703730790400, '2012-10-28 14:57:11', 'JamesDeanX',\n",
       "        \"@MaggieBoruk I'm leaving the country for that... :p hope the flight won't get canceled...\",\n",
       "        262569716852330497, '2012-10-28 15:01:13', 'MaggieBoruk',\n",
       "        '@JamesDeanX well they already grounded flights into LGA and mass transit is getting shit down tonight!! Good luck!',\n",
       "        262570017382600705, '2012-10-28 15:02:25', 'JamesDeanX',\n",
       "        '@MaggieBoruk Think I might need to do grocery shopping... Just in case...',\n",
       "        262622239483113472, '2012-10-28 18:29:55', 'MaggieBoruk',\n",
       "        '@JamesDeanX yeah you better! We have abandoned our abode and are on the way to dry land (hopefully) in Jerz. Stay safe!',\n",
       "        262622394219380736, '2012-10-28 18:30:32', 'JamesDeanX',\n",
       "        '@MaggieBoruk stay dry!!!', 262569784057688064,\n",
       "        '2012-10-28 15:01:29', 'JamesDeanX', '@MaggieBoruk Shit...', 0,\n",
       "        '0', '0', '0', 0, '0', '0', '0', 0, '0', '0', '0', 0, '0', '0',\n",
       "        '0', 0, '0', '0', '0', 0, '0', '0', '0', 0, '0', '0', '0', 0, '0',\n",
       "        '0', '0', 0, '0', '0', '0', 0, '0', '0', '0', 0, '0', '0', '0', 0,\n",
       "        '0', '0', '0', 0, '0', '0', '0', 0, '0', '0', '0', 0, '0', '0',\n",
       "        '0', 0, '0', '0', '0', 0, '0', '0', '0', 0, '0', '0', '0', 0, '0',\n",
       "        '0', '0', 0, '0', '0', '0', 0, '0', '0', '0', 0, '0', '0', '0', 0,\n",
       "        '0', '0', '0', 0, '0', '0', '0', 0, '0', '0', '0', 0, '0', '0',\n",
       "        '0', 0, '0', '0', '0', 0, '0', '0', '0', 0, '0', '0', '0', 0, '0',\n",
       "        '0', '0', 0, '0', '0', '0', 0, '0', '0', '0', True, 12,\n",
       "        ['MaggieBoruk', 'JamesDeanX'], '2012-10-28 15:01:29', 2178, 2,\n",
       "        198.0, True, 121.5]], dtype=object)"
      ]
     },
     "execution_count": 64,
     "metadata": {},
     "output_type": "execute_result"
    }
   ],
   "source": [
    "convs[(convs.userSetLen==2) & (convs.convSize==12)].values"
   ]
  },
  {
   "cell_type": "code",
   "execution_count": 65,
   "metadata": {
    "collapsed": false
   },
   "outputs": [
    {
     "data": {
      "text/plain": [
       "990.0"
      ]
     },
     "execution_count": 65,
     "metadata": {},
     "output_type": "execute_result"
    }
   ],
   "source": [
    "np.median(convs.convoLen[convs.userSetLen==2])"
   ]
  },
  {
   "cell_type": "code",
   "execution_count": 74,
   "metadata": {
    "collapsed": false
   },
   "outputs": [
    {
     "data": {
      "text/plain": [
       "<matplotlib.text.Text at 0x7f7b691f3ad0>"
      ]
     },
     "execution_count": 74,
     "metadata": {},
     "output_type": "execute_result"
    },
    {
     "data": {
      "image/png": "[encoded data removed]",
      "text/plain": [
       "<matplotlib.figure.Figure at 0x7f7b69238d10>"
      ]
     },
     "metadata": {},
     "output_type": "display_data"
    }
   ],
   "source": [
    "convoLen = convs.convoLen[convs.userSetLen==2].dropna().tolist()\n",
    "bins=np.logspace(0, int(np.log(max(convoLen))), 100)\n",
    "width=bins[1:]-bins[:-1]\n",
    "h, b=np.histogram(convoLen,bins)\n",
    "h=h/float(sum(h))\n",
    "plt.bar(b[:-1], h, width, color='c')\n",
    "#plt.plot(bins[:-1], fit[:-1]*width, linewidth=2)\n",
    "plt.gca().set_xscale(\"log\")\n",
    "plt.xlim(xmin=0,xmax=10**6.5)\n",
    "plt.ylim(ymin=0, ymax=0.08)\n",
    "plt.title('Two-person conversation lengths in seconds')"
   ]
  },
  {
   "cell_type": "code",
   "execution_count": 66,
   "metadata": {
    "collapsed": false
   },
   "outputs": [
    {
     "data": {
      "text/plain": [
       "613.0"
      ]
     },
     "execution_count": 66,
     "metadata": {},
     "output_type": "execute_result"
    }
   ],
   "source": [
    "np.median(convs.avgTimePerReply[convs.userSetLen==2])"
   ]
  },
  {
   "cell_type": "code",
   "execution_count": 75,
   "metadata": {
    "collapsed": false
   },
   "outputs": [
    {
     "data": {
      "text/plain": [
       "528.0"
      ]
     },
     "execution_count": 75,
     "metadata": {},
     "output_type": "execute_result"
    }
   ],
   "source": [
    "np.median(convs.medianReplyTime[convs.userSetLen==2])"
   ]
  },
  {
   "cell_type": "code",
   "execution_count": 76,
   "metadata": {
    "collapsed": false
   },
   "outputs": [
    {
     "data": {
      "text/plain": [
       "<matplotlib.text.Text at 0x7f7b695333d0>"
      ]
     },
     "execution_count": 76,
     "metadata": {},
     "output_type": "execute_result"
    },
    {
     "data": {
      "image/png": "[encoded data removed]",
      "text/plain": [
       "<matplotlib.figure.Figure at 0x7f7b682c2fd0>"
      ]
     },
     "metadata": {},
     "output_type": "display_data"
    }
   ],
   "source": [
    "medRepTime=convs[convs.userSetLen==2].medianReplyTime.dropna().tolist()\n",
    "bins=np.logspace(0, int(np.log(max(medRepTime))), 100)\n",
    "width=bins[1:]-bins[:-1]\n",
    "h, b=np.histogram(medRepTime,bins)\n",
    "h=h/float(sum(h))\n",
    "plt.bar(b[:-1], h, width, color='c')\n",
    "#plt.plot(bins[:-1], fit[:-1]*width, linewidth=2)\n",
    "plt.gca().set_xscale(\"log\")\n",
    "plt.xlim(xmin=0,xmax=10**6.5)\n",
    "plt.ylim(ymin=0, ymax=0.08)\n",
    "plt.title('Median time (s) between turns in two-person conversations')"
   ]
  },
  {
   "cell_type": "markdown",
   "metadata": {},
   "source": [
    "** Takeway:**\n",
    "* The two-person conversations are longer than overall (median)\n",
    "* And much longer than one-person conversations\n",
    "* The median number of steps is still 2, but 90th percentile is now 4 -  bigger proportion of these are longer than in one-person conversations\n",
    "* In addition, the breaks between tweets are longer than overall (445s) and definitely one-person conversations\n",
    "* **Difference between monolog and dialiog/ personal and social**"
   ]
  },
  {
   "cell_type": "markdown",
   "metadata": {},
   "source": [
    "### More-than-two person conversations"
   ]
  },
  {
   "cell_type": "code",
   "execution_count": 78,
   "metadata": {
    "collapsed": false
   },
   "outputs": [
    {
     "data": {
      "text/plain": [
       "0.016189088554314394"
      ]
     },
     "execution_count": 78,
     "metadata": {},
     "output_type": "execute_result"
    }
   ],
   "source": [
    "len(convs[convs.userSetLen>2])/float(len(convs))"
   ]
  },
  {
   "cell_type": "markdown",
   "metadata": {},
   "source": [
    "Only **1.6%** of the conversations are with more than two people"
   ]
  },
  {
   "cell_type": "code",
   "execution_count": 79,
   "metadata": {
    "collapsed": false
   },
   "outputs": [
    {
     "data": {
      "text/plain": [
       "4.0"
      ]
     },
     "execution_count": 79,
     "metadata": {},
     "output_type": "execute_result"
    }
   ],
   "source": [
    "np.median(convs.convSize[convs.userSetLen>2])"
   ]
  },
  {
   "cell_type": "code",
   "execution_count": 80,
   "metadata": {
    "collapsed": false
   },
   "outputs": [
    {
     "data": {
      "text/plain": [
       "6.1000000000000085"
      ]
     },
     "execution_count": 80,
     "metadata": {},
     "output_type": "execute_result"
    }
   ],
   "source": [
    "np.percentile(convs.convSize[convs.userSetLen>2],90)"
   ]
  },
  {
   "cell_type": "code",
   "execution_count": 81,
   "metadata": {
    "collapsed": false
   },
   "outputs": [
    {
     "data": {
      "text/plain": [
       "12"
      ]
     },
     "execution_count": 81,
     "metadata": {},
     "output_type": "execute_result"
    }
   ],
   "source": [
    "max(convs.convSize[convs.userSetLen>2])"
   ]
  },
  {
   "cell_type": "code",
   "execution_count": 82,
   "metadata": {
    "collapsed": false,
    "scrolled": true
   },
   "outputs": [
    {
     "data": {
      "text/plain": [
       "array([[1988, 272404270014406658, '2012-11-24 18:20:13', 'artiekass',\n",
       "        '@Jerrod_TheHour why did the article about Norwalk high soccer compare us to Obama and Fairfield to Romney?  Not necessary and a bit racist',\n",
       "        272413044506767360, '2012-11-24 18:55:05', 'MMAMeg',\n",
       "        '@artiekass @jerrod_thehour awful reference on so many levels',\n",
       "        272496307422257152, '2012-11-25 00:25:57', 'Jerrod_TheHour',\n",
       "        '@artiekass the columns intent was to celebrate the team and its diversity. We have spoken to the team and they understood that.',\n",
       "        272495921126862851, '2012-11-25 00:24:24', 'Jerrod_TheHour',\n",
       "        \"@artiekass while I could see someone disagreeing with the over the top picture painted in the column I don't see it as racist\",\n",
       "        272497459341709312, '2012-11-25 00:30:31', 'Jerrod_TheHour',\n",
       "        '@artiekass I for one may have avoided several comparisons but know the author, his intentions , heart , stand behind him for that.',\n",
       "        272504137978101761, '2012-11-25 00:57:04', 'artiekass',\n",
       "        '@Jerrod_TheHour I am sure he has a good heart but that article has caused offense throughout the entire NHS student body. An apology please.',\n",
       "        272504832013770752, '2012-11-25 00:59:49', 'Jerrod_TheHour',\n",
       "        '@artiekass I have not received any complaints beyond yours and when @NikonNash reached out to the coach he was fine with it.',\n",
       "        272505689287573504, '2012-11-25 01:03:13', 'artiekass',\n",
       "        '@Jerrod_TheHour @nikonnash may not get direct complaints but kids are sharing their disappointment on twitter. Remember I have 2 at NHS.',\n",
       "        272517490783948802, '2012-11-25 01:50:07', 'MMAMeg',\n",
       "        '@artiekass @jerrod_thehour @nikonnash the reference has no place in society. A retraction or apology would set the right example.',\n",
       "        272520126451036160, '2012-11-25 02:00:35', 'artiekass',\n",
       "        '@MMAMeg agreed!', 272503890052780032, '2012-11-25 00:56:04',\n",
       "        'artiekass',\n",
       "        '@Jerrod_TheHour Fairfield prep have movie star looks, fat wallets and comely girlfriends?  Stereotypes!  You have to see that Jerrod.',\n",
       "        272504386331230209, '2012-11-25 00:58:03', 'Jerrod_TheHour',\n",
       "        \"@artiekass I don't disagree that they are stereotypes.\", 0, '0',\n",
       "        '0', '0', 0, '0', '0', '0', 0, '0', '0', '0', 0, '0', '0', '0', 0,\n",
       "        '0', '0', '0', 0, '0', '0', '0', 0, '0', '0', '0', 0, '0', '0',\n",
       "        '0', 0, '0', '0', '0', 0, '0', '0', '0', 0, '0', '0', '0', 0, '0',\n",
       "        '0', '0', 0, '0', '0', '0', 0, '0', '0', '0', 0, '0', '0', '0', 0,\n",
       "        '0', '0', '0', 0, '0', '0', '0', 0, '0', '0', '0', 0, '0', '0',\n",
       "        '0', 0, '0', '0', '0', 0, '0', '0', '0', 0, '0', '0', '0', 0, '0',\n",
       "        '0', '0', 0, '0', '0', '0', 0, '0', '0', '0', 0, '0', '0', '0', 0,\n",
       "        '0', '0', '0', 0, '0', '0', '0', 0, '0', '0', '0', 0, '0', '0',\n",
       "        '0', 0, '0', '0', '0', 0, '0', '0', '0', True, 12,\n",
       "        ['artiekass', 'MMAMeg', 'Jerrod_TheHour'], '2012-11-25 00:58:03',\n",
       "        23870, 3, 2170.0, True, 628.0]], dtype=object)"
      ]
     },
     "execution_count": 82,
     "metadata": {},
     "output_type": "execute_result"
    }
   ],
   "source": [
    "convs[(convs.userSetLen>2) & (convs.convSize==12)].values"
   ]
  },
  {
   "cell_type": "markdown",
   "metadata": {},
   "source": [
    "* The median length of these conversations is 4 and the 90th percentile is 6\n",
    "* This suggests that these are, on average, longer conversations than overall than overall and one- and two-person convos\n",
    "* The longest convo here is 12 steps - discussion of stereotypes in an article about HS football team"
   ]
  },
  {
   "cell_type": "code",
   "execution_count": 83,
   "metadata": {
    "collapsed": false
   },
   "outputs": [
    {
     "data": {
      "text/plain": [
       "1287.0"
      ]
     },
     "execution_count": 83,
     "metadata": {},
     "output_type": "execute_result"
    }
   ],
   "source": [
    "np.median(convs.convoLen[convs.userSetLen>2])"
   ]
  },
  {
   "cell_type": "code",
   "execution_count": 86,
   "metadata": {
    "collapsed": false
   },
   "outputs": [
    {
     "data": {
      "text/plain": [
       "<matplotlib.text.Text at 0x7f7b675f5c50>"
      ]
     },
     "execution_count": 86,
     "metadata": {},
     "output_type": "execute_result"
    },
    {
     "data": {
      "image/png": "[encoded data removed]",
      "text/plain": [
       "<matplotlib.figure.Figure at 0x7f7b69fa78d0>"
      ]
     },
     "metadata": {},
     "output_type": "display_data"
    }
   ],
   "source": [
    "convoLen = convs.convoLen[convs.userSetLen>2].dropna().tolist()\n",
    "bins=np.logspace(0, int(np.log(max(convoLen))), 100)\n",
    "width=bins[1:]-bins[:-1]\n",
    "h, b=np.histogram(convoLen,bins)\n",
    "h=h/float(sum(h))\n",
    "plt.bar(b[:-1], h, width, color='c')\n",
    "#plt.plot(bins[:-1], fit[:-1]*width, linewidth=2)\n",
    "plt.gca().set_xscale(\"log\")\n",
    "plt.xlim(xmin=0,xmax=10**6.5)\n",
    "plt.ylim(ymin=0, ymax=0.08)\n",
    "plt.title('More-than-two-person conversation lengths in seconds')"
   ]
  },
  {
   "cell_type": "markdown",
   "metadata": {},
   "source": [
    "The number of these conversations is too small for a clear distribution at this resolution (100 bars)"
   ]
  },
  {
   "cell_type": "code",
   "execution_count": 87,
   "metadata": {
    "collapsed": false
   },
   "outputs": [
    {
     "data": {
      "text/plain": [
       "442.39999999999998"
      ]
     },
     "execution_count": 87,
     "metadata": {},
     "output_type": "execute_result"
    }
   ],
   "source": [
    "np.median(convs.avgTimePerReply[convs.userSetLen>2])"
   ]
  },
  {
   "cell_type": "code",
   "execution_count": 88,
   "metadata": {
    "collapsed": false
   },
   "outputs": [
    {
     "data": {
      "text/plain": [
       "720.25"
      ]
     },
     "execution_count": 88,
     "metadata": {},
     "output_type": "execute_result"
    }
   ],
   "source": [
    "np.median(convs.medianReplyTime[convs.userSetLen>2])"
   ]
  },
  {
   "cell_type": "code",
   "execution_count": 89,
   "metadata": {
    "collapsed": false
   },
   "outputs": [
    {
     "data": {
      "text/plain": [
       "<matplotlib.text.Text at 0x7f7b67d08c10>"
      ]
     },
     "execution_count": 89,
     "metadata": {},
     "output_type": "execute_result"
    },
    {
     "data": {
      "image/png": "[encoded data removed]",
      "text/plain": [
       "<matplotlib.figure.Figure at 0x7f7b67a89f90>"
      ]
     },
     "metadata": {},
     "output_type": "display_data"
    }
   ],
   "source": [
    "medRepTime=convs[convs.userSetLen>2].medianReplyTime.dropna().tolist()\n",
    "bins=np.logspace(0, int(np.log(max(medRepTime))), 100)\n",
    "width=bins[1:]-bins[:-1]\n",
    "h, b=np.histogram(medRepTime,bins)\n",
    "h=h/float(sum(h))\n",
    "plt.bar(b[:-1], h, width, color='c')\n",
    "#plt.plot(bins[:-1], fit[:-1]*width, linewidth=2)\n",
    "plt.gca().set_xscale(\"log\")\n",
    "plt.xlim(xmin=0,xmax=10**6.5)\n",
    "plt.ylim(ymin=0, ymax=0.08)\n",
    "plt.title('Median time (s) between turns in more-than-two-person conversations')"
   ]
  },
  {
   "cell_type": "markdown",
   "metadata": {},
   "source": [
    "** Takeway:**\n",
    "* The more-than-two-person conversations are longer than overall (median)\n",
    "* And much longer than one-person and two-person conversations\n",
    "* The number of tweets in these conversations are higher than overall and others (median=4, 90th=6)\n",
    "* But the breaks between tweets are the same as overall and slightly longer than two-person (check for sig)\n",
    "* **As long as it's a dialog/social, more or less the same tempo of conversation is kept**"
   ]
  },
  {
   "cell_type": "markdown",
   "metadata": {},
   "source": [
    "# Conversation types (# users) across time stages"
   ]
  },
  {
   "cell_type": "code",
   "execution_count": 90,
   "metadata": {
    "collapsed": false
   },
   "outputs": [
    {
     "data": {
      "text/plain": [
       "0.1960498623927473"
      ]
     },
     "execution_count": 90,
     "metadata": {},
     "output_type": "execute_result"
    }
   ],
   "source": [
    "len(before)/float(len(convs))"
   ]
  },
  {
   "cell_type": "code",
   "execution_count": 91,
   "metadata": {
    "collapsed": false
   },
   "outputs": [
    {
     "data": {
      "text/plain": [
       "0.3118018455560952"
      ]
     },
     "execution_count": 91,
     "metadata": {},
     "output_type": "execute_result"
    }
   ],
   "source": [
    "len(during)/float(len(convs))"
   ]
  },
  {
   "cell_type": "code",
   "execution_count": 92,
   "metadata": {
    "collapsed": false
   },
   "outputs": [
    {
     "data": {
      "text/plain": [
       "0.4659219685931682"
      ]
     },
     "execution_count": 92,
     "metadata": {},
     "output_type": "execute_result"
    }
   ],
   "source": [
    "len(after)/float(len(convs))"
   ]
  },
  {
   "cell_type": "code",
   "execution_count": null,
   "metadata": {
    "collapsed": true
   },
   "outputs": [],
   "source": []
  }
 ],
 "metadata": {
  "kernelspec": {
   "display_name": "Python 2",
   "language": "python",
   "name": "python2"
  },
  "language_info": {
   "codemirror_mode": {
    "name": "ipython",
    "version": 2
   },
   "file_extension": ".py",
   "mimetype": "text/x-python",
   "name": "python",
   "nbconvert_exporter": "python",
   "pygments_lexer": "ipython2",
   "version": "2.7.6"
  }
 },
 "nbformat": 4,
 "nbformat_minor": 1
}
