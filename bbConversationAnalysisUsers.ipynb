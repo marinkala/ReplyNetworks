{
 "cells": [
  {
   "cell_type": "code",
   "execution_count": 1,
   "metadata": {
    "collapsed": true
   },
   "outputs": [],
   "source": [
    "import pandas as pd\n",
    "import numpy as np\n",
    "import ast\n",
    "import collections as c\n",
    "import matplotlib.pyplot as plt\n",
    "\n",
    "%matplotlib inline"
   ]
  },
  {
   "cell_type": "code",
   "execution_count": 2,
   "metadata": {
    "collapsed": false
   },
   "outputs": [
    {
     "name": "stderr",
     "output_type": "stream",
     "text": [
      "/home/mako0970/.local/lib/python2.7/site-packages/IPython/core/interactiveshell.py:2902: DtypeWarning: Columns (38,39,40,42,43,44,46,47,48,50,51,52,54,55,56,58,59,60,62,63,64,66,67,68,70,71,72,74,75,76,78,79,80,82,83,84,86,87,88,90,91,92,94,95,96,98,99,100,102,103,104,106,107,108,110,111,112,114,115,116,118,119,120,122,123,124,126,127,128,130,131,132,134,135,136,138,139,140,142,143,144,146,147,148,150,151,152,154,155,156,158,159,160,162,163,164,166,167,168,170,171,172) have mixed types. Specify dtype option on import or set low_memory=False.\n",
      "  interactivity=interactivity, compiler=compiler, result=result)\n"
     ]
    }
   ],
   "source": [
    "convs=pd.read_csv('../data/bbAllFullConvosAW.csv',sep=';')"
   ]
  },
  {
   "cell_type": "code",
   "execution_count": 3,
   "metadata": {
    "collapsed": false
   },
   "outputs": [
    {
     "data": {
      "text/plain": [
       "5279"
      ]
     },
     "execution_count": 3,
     "metadata": {},
     "output_type": "execute_result"
    }
   ],
   "source": [
    "len(convs)"
   ]
  },
  {
   "cell_type": "code",
   "execution_count": 5,
   "metadata": {
    "collapsed": true
   },
   "outputs": [],
   "source": [
    "convs.allNames=convs.allNames.apply(lambda x: ast.literal_eval(x))"
   ]
  },
  {
   "cell_type": "code",
   "execution_count": 6,
   "metadata": {
    "collapsed": false
   },
   "outputs": [],
   "source": [
    "allUsers=list(set(convs.allNames.sum()))"
   ]
  },
  {
   "cell_type": "code",
   "execution_count": 7,
   "metadata": {
    "collapsed": false
   },
   "outputs": [
    {
     "data": {
      "text/plain": [
       "2752"
      ]
     },
     "execution_count": 7,
     "metadata": {},
     "output_type": "execute_result"
    }
   ],
   "source": [
    "len(allUsers)"
   ]
  },
  {
   "cell_type": "markdown",
   "metadata": {},
   "source": [
    "So 2752 unique users participated in our local conversations"
   ]
  },
  {
   "cell_type": "code",
   "execution_count": 8,
   "metadata": {
    "collapsed": true
   },
   "outputs": [],
   "source": [
    "before=convs[(pd.to_datetime(convs.date0)>=pd.to_datetime('2012-10-15 00:00:00')) & (pd.to_datetime(convs.convoEndTime)<pd.to_datetime('2012-10-25 00:00:00'))]"
   ]
  },
  {
   "cell_type": "code",
   "execution_count": 9,
   "metadata": {
    "collapsed": true
   },
   "outputs": [],
   "source": [
    "during=convs[(pd.to_datetime(convs.date0)>=pd.to_datetime('2012-10-25 00:00:00')) & (pd.to_datetime(convs.convoEndTime)<pd.to_datetime('2012-11-04 00:00:00'))]"
   ]
  },
  {
   "cell_type": "code",
   "execution_count": 10,
   "metadata": {
    "collapsed": true
   },
   "outputs": [],
   "source": [
    "after=convs[(pd.to_datetime(convs.date0)>=pd.to_datetime('2012-11-04 00:00:00')) & (pd.to_datetime(convs.convoEndTime)<pd.to_datetime('2012-11-14 00:00:00'))]"
   ]
  },
  {
   "cell_type": "code",
   "execution_count": 11,
   "metadata": {
    "collapsed": true
   },
   "outputs": [],
   "source": [
    "lafter=convs[(pd.to_datetime(convs.date0)>=pd.to_datetime('2012-11-14 00:00:00')) & (pd.to_datetime(convs.convoEndTime)<pd.to_datetime('2012-11-23 00:00:00'))]"
   ]
  },
  {
   "cell_type": "code",
   "execution_count": 12,
   "metadata": {
    "collapsed": true
   },
   "outputs": [],
   "source": [
    "bUsers=list(set(before.allNames.sum()))"
   ]
  },
  {
   "cell_type": "code",
   "execution_count": 13,
   "metadata": {
    "collapsed": false
   },
   "outputs": [
    {
     "data": {
      "text/plain": [
       "778"
      ]
     },
     "execution_count": 13,
     "metadata": {},
     "output_type": "execute_result"
    }
   ],
   "source": [
    "len(bUsers)"
   ]
  },
  {
   "cell_type": "code",
   "execution_count": 14,
   "metadata": {
    "collapsed": true
   },
   "outputs": [],
   "source": [
    "dUsers=list(set(during.allNames.sum()))"
   ]
  },
  {
   "cell_type": "code",
   "execution_count": 15,
   "metadata": {
    "collapsed": false
   },
   "outputs": [
    {
     "data": {
      "text/plain": [
       "1758"
      ]
     },
     "execution_count": 15,
     "metadata": {},
     "output_type": "execute_result"
    }
   ],
   "source": [
    "len(dUsers)"
   ]
  },
  {
   "cell_type": "code",
   "execution_count": 16,
   "metadata": {
    "collapsed": true
   },
   "outputs": [],
   "source": [
    "aUsers=list(set(after.allNames.sum()))"
   ]
  },
  {
   "cell_type": "code",
   "execution_count": 17,
   "metadata": {
    "collapsed": false
   },
   "outputs": [
    {
     "data": {
      "text/plain": [
       "1233"
      ]
     },
     "execution_count": 17,
     "metadata": {},
     "output_type": "execute_result"
    }
   ],
   "source": [
    "len(aUsers)"
   ]
  },
  {
   "cell_type": "code",
   "execution_count": 18,
   "metadata": {
    "collapsed": true
   },
   "outputs": [],
   "source": [
    "laUsers=list(set(lafter.allNames.sum()))"
   ]
  },
  {
   "cell_type": "code",
   "execution_count": 19,
   "metadata": {
    "collapsed": false
   },
   "outputs": [
    {
     "data": {
      "text/plain": [
       "828"
      ]
     },
     "execution_count": 19,
     "metadata": {},
     "output_type": "execute_result"
    }
   ],
   "source": [
    "len(laUsers)"
   ]
  },
  {
   "cell_type": "code",
   "execution_count": 20,
   "metadata": {
    "collapsed": false
   },
   "outputs": [
    {
     "data": {
      "text/plain": [
       "465"
      ]
     },
     "execution_count": 20,
     "metadata": {},
     "output_type": "execute_result"
    }
   ],
   "source": [
    "len(set(bUsers) & set(dUsers))"
   ]
  },
  {
   "cell_type": "code",
   "execution_count": 21,
   "metadata": {
    "collapsed": false
   },
   "outputs": [
    {
     "data": {
      "text/plain": [
       "359"
      ]
     },
     "execution_count": 21,
     "metadata": {},
     "output_type": "execute_result"
    }
   ],
   "source": [
    "len(set(bUsers) & set(aUsers))"
   ]
  },
  {
   "cell_type": "code",
   "execution_count": 22,
   "metadata": {
    "collapsed": false
   },
   "outputs": [
    {
     "data": {
      "text/plain": [
       "276"
      ]
     },
     "execution_count": 22,
     "metadata": {},
     "output_type": "execute_result"
    }
   ],
   "source": [
    "len(set(bUsers) & set(laUsers))"
   ]
  },
  {
   "cell_type": "code",
   "execution_count": 23,
   "metadata": {
    "collapsed": false
   },
   "outputs": [
    {
     "data": {
      "text/plain": [
       "696"
      ]
     },
     "execution_count": 23,
     "metadata": {},
     "output_type": "execute_result"
    }
   ],
   "source": [
    "len(set(dUsers) & set(aUsers))"
   ]
  },
  {
   "cell_type": "code",
   "execution_count": 24,
   "metadata": {
    "collapsed": false
   },
   "outputs": [
    {
     "data": {
      "text/plain": [
       "477"
      ]
     },
     "execution_count": 24,
     "metadata": {},
     "output_type": "execute_result"
    }
   ],
   "source": [
    "len(set(dUsers) & set(laUsers))"
   ]
  },
  {
   "cell_type": "code",
   "execution_count": 25,
   "metadata": {
    "collapsed": false
   },
   "outputs": [
    {
     "data": {
      "text/plain": [
       "445"
      ]
     },
     "execution_count": 25,
     "metadata": {},
     "output_type": "execute_result"
    }
   ],
   "source": [
    "len(set(aUsers) & set(laUsers))"
   ]
  },
  {
   "cell_type": "code",
   "execution_count": 26,
   "metadata": {
    "collapsed": false
   },
   "outputs": [
    {
     "data": {
      "text/plain": [
       "166"
      ]
     },
     "execution_count": 26,
     "metadata": {},
     "output_type": "execute_result"
    }
   ],
   "source": [
    "len(set(dUsers) & set(aUsers) & set(bUsers) & set(laUsers))"
   ]
  },
  {
   "cell_type": "markdown",
   "metadata": {},
   "source": [
    "* So more than a half of before users were also active during and about hald in after\n",
    "* And about 40% of during users were active after and almost 30% lafter\n",
    "* Over 150 users were active in all four periods"
   ]
  },
  {
   "cell_type": "markdown",
   "metadata": {},
   "source": [
    "# Patterns by users"
   ]
  },
  {
   "cell_type": "markdown",
   "metadata": {},
   "source": [
    "### One-person conversations"
   ]
  },
  {
   "cell_type": "code",
   "execution_count": 27,
   "metadata": {
    "collapsed": false
   },
   "outputs": [
    {
     "data": {
      "text/plain": [
       "0.2509945065353287"
      ]
     },
     "execution_count": 27,
     "metadata": {},
     "output_type": "execute_result"
    }
   ],
   "source": [
    "len(convs[convs.userSetLen==1])/float(len(convs))"
   ]
  },
  {
   "cell_type": "markdown",
   "metadata": {},
   "source": [
    "Quarter of all conversations are users responding to themselves!!!"
   ]
  },
  {
   "cell_type": "code",
   "execution_count": 28,
   "metadata": {
    "collapsed": false
   },
   "outputs": [
    {
     "data": {
      "text/plain": [
       "2.0"
      ]
     },
     "execution_count": 28,
     "metadata": {},
     "output_type": "execute_result"
    }
   ],
   "source": [
    "np.median(convs.convSize[convs.userSetLen==1])"
   ]
  },
  {
   "cell_type": "code",
   "execution_count": 29,
   "metadata": {
    "collapsed": false
   },
   "outputs": [
    {
     "data": {
      "text/plain": [
       "2.0"
      ]
     },
     "execution_count": 29,
     "metadata": {},
     "output_type": "execute_result"
    }
   ],
   "source": [
    "np.percentile(convs.convSize[convs.userSetLen==1],90)"
   ]
  },
  {
   "cell_type": "code",
   "execution_count": 30,
   "metadata": {
    "collapsed": false
   },
   "outputs": [
    {
     "data": {
      "text/plain": [
       "12"
      ]
     },
     "execution_count": 30,
     "metadata": {},
     "output_type": "execute_result"
    }
   ],
   "source": [
    "max(convs.convSize[convs.userSetLen==1])"
   ]
  },
  {
   "cell_type": "code",
   "execution_count": 33,
   "metadata": {
    "collapsed": false,
    "scrolled": true
   },
   "outputs": [
    {
     "data": {
      "text/html": [
       "<div>\n",
       "<table border=\"1\" class=\"dataframe\">\n",
       "  <thead>\n",
       "    <tr style=\"text-align: right;\">\n",
       "      <th></th>\n",
       "      <th>Unnamed: 0</th>\n",
       "      <th>tweet0</th>\n",
       "      <th>date0</th>\n",
       "      <th>username0</th>\n",
       "      <th>text0</th>\n",
       "      <th>tweet1</th>\n",
       "      <th>date1</th>\n",
       "      <th>username1</th>\n",
       "      <th>text1</th>\n",
       "      <th>tweet2</th>\n",
       "      <th>...</th>\n",
       "      <th>text43</th>\n",
       "      <th>branching</th>\n",
       "      <th>convSize</th>\n",
       "      <th>allNames</th>\n",
       "      <th>convoEndTime</th>\n",
       "      <th>convoLen</th>\n",
       "      <th>userSetLen</th>\n",
       "      <th>avgTimePerReply</th>\n",
       "      <th>longTailed</th>\n",
       "      <th>medianReplyTime</th>\n",
       "    </tr>\n",
       "  </thead>\n",
       "  <tbody>\n",
       "    <tr>\n",
       "      <th>72</th>\n",
       "      <td>84</td>\n",
       "      <td>269602947242029056</td>\n",
       "      <td>2012-11-17 00:48:46</td>\n",
       "      <td>anthonyd1972</td>\n",
       "      <td>#whitehouse defense bizarre by the day. #petre...</td>\n",
       "      <td>269603217615233026</td>\n",
       "      <td>2012-11-17 00:49:50</td>\n",
       "      <td>anthonyd1972</td>\n",
       "      <td>@anthonyd1972 so if the CIA talking points wer...</td>\n",
       "      <td>269603536260706304</td>\n",
       "      <td>...</td>\n",
       "      <td>0</td>\n",
       "      <td>True</td>\n",
       "      <td>12</td>\n",
       "      <td>[anthonyd1972]</td>\n",
       "      <td>2012-11-17 00:56:09</td>\n",
       "      <td>443</td>\n",
       "      <td>1</td>\n",
       "      <td>40.272727</td>\n",
       "      <td>True</td>\n",
       "      <td>81</td>\n",
       "    </tr>\n",
       "  </tbody>\n",
       "</table>\n",
       "<p>1 rows × 186 columns</p>\n",
       "</div>"
      ],
      "text/plain": [
       "    Unnamed: 0              tweet0                date0     username0  \\\n",
       "72          84  269602947242029056  2012-11-17 00:48:46  anthonyd1972   \n",
       "\n",
       "                                                text0              tweet1  \\\n",
       "72  #whitehouse defense bizarre by the day. #petre...  269603217615233026   \n",
       "\n",
       "                  date1     username1  \\\n",
       "72  2012-11-17 00:49:50  anthonyd1972   \n",
       "\n",
       "                                                text1              tweet2  \\\n",
       "72  @anthonyd1972 so if the CIA talking points wer...  269603536260706304   \n",
       "\n",
       "         ...       text43 branching convSize        allNames  \\\n",
       "72       ...            0      True       12  [anthonyd1972]   \n",
       "\n",
       "           convoEndTime convoLen userSetLen  avgTimePerReply longTailed  \\\n",
       "72  2012-11-17 00:56:09      443          1        40.272727       True   \n",
       "\n",
       "   medianReplyTime  \n",
       "72              81  \n",
       "\n",
       "[1 rows x 186 columns]"
      ]
     },
     "execution_count": 33,
     "metadata": {},
     "output_type": "execute_result"
    }
   ],
   "source": [
    "convs[(convs.userSetLen==1) & (convs.convSize==12)] # add .values to see as list"
   ]
  },
  {
   "cell_type": "markdown",
   "metadata": {},
   "source": [
    "So the vast majority of these (90%) are one reply to oneself, but there is a self-conversation of 12 steps (rant about politics)"
   ]
  },
  {
   "cell_type": "code",
   "execution_count": 34,
   "metadata": {
    "collapsed": false
   },
   "outputs": [
    {
     "data": {
      "text/plain": [
       "233.0"
      ]
     },
     "execution_count": 34,
     "metadata": {},
     "output_type": "execute_result"
    }
   ],
   "source": [
    "np.median(convs.convoLen[convs.userSetLen==1])"
   ]
  },
  {
   "cell_type": "code",
   "execution_count": 35,
   "metadata": {
    "collapsed": false
   },
   "outputs": [
    {
     "data": {
      "text/plain": [
       "<matplotlib.text.Text at 0x7fe882aeaed0>"
      ]
     },
     "execution_count": 35,
     "metadata": {},
     "output_type": "execute_result"
    },
    {
     "data": {
      "image/png": "[encoded data removed]",
      "text/plain": [
       "<matplotlib.figure.Figure at 0x7fe8a8245110>"
      ]
     },
     "metadata": {},
     "output_type": "display_data"
    }
   ],
   "source": [
    "convoLen = convs.convoLen[convs.userSetLen==1].dropna().tolist()\n",
    "bins=np.logspace(0, int(np.log(max(convoLen))), 100)\n",
    "width=bins[1:]-bins[:-1]\n",
    "h, b=np.histogram(convoLen,bins)\n",
    "h=h/float(sum(h))\n",
    "plt.bar(b[:-1], h, width, color='c')\n",
    "#plt.plot(bins[:-1], fit[:-1]*width, linewidth=2)\n",
    "plt.gca().set_xscale(\"log\")\n",
    "plt.xlim(xmin=0,xmax=10**6.5)\n",
    "plt.ylim(ymin=0, ymax=0.08)\n",
    "plt.title('One-person conversation lengths in seconds')"
   ]
  },
  {
   "cell_type": "code",
   "execution_count": 36,
   "metadata": {
    "collapsed": false
   },
   "outputs": [
    {
     "data": {
      "text/plain": [
       "221.0"
      ]
     },
     "execution_count": 36,
     "metadata": {},
     "output_type": "execute_result"
    }
   ],
   "source": [
    "np.median(convs.avgTimePerReply[convs.userSetLen==1])"
   ]
  },
  {
   "cell_type": "code",
   "execution_count": 37,
   "metadata": {
    "collapsed": false
   },
   "outputs": [
    {
     "data": {
      "text/plain": [
       "224.0"
      ]
     },
     "execution_count": 37,
     "metadata": {},
     "output_type": "execute_result"
    }
   ],
   "source": [
    "np.median(convs.medianReplyTime[convs.userSetLen==1])"
   ]
  },
  {
   "cell_type": "code",
   "execution_count": 38,
   "metadata": {
    "collapsed": false
   },
   "outputs": [
    {
     "data": {
      "text/plain": [
       "<matplotlib.text.Text at 0x7fe8825a2210>"
      ]
     },
     "execution_count": 38,
     "metadata": {},
     "output_type": "execute_result"
    },
    {
     "data": {
      "image/png": "[encoded data removed]",
      "text/plain": [
       "<matplotlib.figure.Figure at 0x7fe882a28f10>"
      ]
     },
     "metadata": {},
     "output_type": "display_data"
    }
   ],
   "source": [
    "medRepTime=convs[convs.userSetLen==1].medianReplyTime.dropna().tolist()\n",
    "bins=np.logspace(0, int(np.log(max(medRepTime))), 100)\n",
    "width=bins[1:]-bins[:-1]\n",
    "h, b=np.histogram(medRepTime,bins)\n",
    "h=h/float(sum(h))\n",
    "plt.bar(b[:-1], h, width, color='c')\n",
    "#plt.plot(bins[:-1], fit[:-1]*width, linewidth=2)\n",
    "plt.gca().set_xscale(\"log\")\n",
    "plt.xlim(xmin=0,xmax=10**6.5)\n",
    "plt.ylim(ymin=0, ymax=0.08)\n",
    "plt.title('Median time (s) between turns in one-person conversations')"
   ]
  },
  {
   "cell_type": "markdown",
   "metadata": {},
   "source": [
    "** Takeway:**\n",
    "* So the conversations users have with themselves tend to be quite a bit shorter than all the conversations\n",
    "* While the number of tweets still has median of 2.0 and 90th percentile of 2 as well\n",
    "* The avg and median gaps between replies in the conversation are much shorter than overall\n",
    "* Pretty intuitive, since they don't have to wait for another party for a reply - no back and forth"
   ]
  },
  {
   "cell_type": "markdown",
   "metadata": {},
   "source": [
    "### Two-person conversations"
   ]
  },
  {
   "cell_type": "code",
   "execution_count": 39,
   "metadata": {
    "collapsed": false
   },
   "outputs": [
    {
     "data": {
      "text/plain": [
       "0.7323356696344004"
      ]
     },
     "execution_count": 39,
     "metadata": {},
     "output_type": "execute_result"
    }
   ],
   "source": [
    "len(convs[convs.userSetLen==2])/float(len(convs))"
   ]
  },
  {
   "cell_type": "markdown",
   "metadata": {},
   "source": [
    "Almost three quarters of the conversations are with just one other person"
   ]
  },
  {
   "cell_type": "code",
   "execution_count": 40,
   "metadata": {
    "collapsed": false
   },
   "outputs": [
    {
     "data": {
      "text/plain": [
       "2.0"
      ]
     },
     "execution_count": 40,
     "metadata": {},
     "output_type": "execute_result"
    }
   ],
   "source": [
    "np.median(convs.convSize[convs.userSetLen==2])"
   ]
  },
  {
   "cell_type": "code",
   "execution_count": 41,
   "metadata": {
    "collapsed": false
   },
   "outputs": [
    {
     "data": {
      "text/plain": [
       "4.0"
      ]
     },
     "execution_count": 41,
     "metadata": {},
     "output_type": "execute_result"
    }
   ],
   "source": [
    "np.percentile(convs.convSize[convs.userSetLen==2],90)"
   ]
  },
  {
   "cell_type": "code",
   "execution_count": 42,
   "metadata": {
    "collapsed": false
   },
   "outputs": [
    {
     "data": {
      "text/plain": [
       "43"
      ]
     },
     "execution_count": 42,
     "metadata": {},
     "output_type": "execute_result"
    }
   ],
   "source": [
    "max(convs.convSize[convs.userSetLen==2])"
   ]
  },
  {
   "cell_type": "code",
   "execution_count": 44,
   "metadata": {
    "collapsed": false,
    "scrolled": true
   },
   "outputs": [
    {
     "data": {
      "text/plain": [
       "array([[44, 261901117695332352, '2012-10-26 18:44:27', 'Megglezzz',\n",
       "        \"Fuck the @NHL @NHLPA , all of the greedy monkeys that have denied us hockey. If you think we're gonna be forgiving after this you're wrong\",\n",
       "        261904642399686657, '2012-10-26 18:58:27', 'DDougyy',\n",
       "        '@Megglezzz I read that as \"greasy monkeys\" instead of greedy. Also thought we could lose some humor with the latest news.',\n",
       "        261904999309791232, '2012-10-26 18:59:52', 'Megglezzz',\n",
       "        '@DDougyy greasy monkeys huh? Yeah that could work too. But this seriously makes me ashamed to call myself a fan.',\n",
       "        261908598827917312, '2012-10-26 19:14:10', 'DDougyy',\n",
       "        \"@Megglezzz I know, right? It's kind off embarrassing.\",\n",
       "        261909742300053504, '2012-10-26 19:18:43', 'Megglezzz',\n",
       "        '@DDougyy and they wonder why no one respects the sport',\n",
       "        261911804198936578, '2012-10-26 19:26:54', 'DDougyy',\n",
       "        '@Megglezzz Yep, I hear ya. :(', 261912049620246528,\n",
       "        '2012-10-26 19:27:53', 'Megglezzz',\n",
       "        \"@DDougyy they wouldn't be allowed in the cool kids club. Nope. Lol\",\n",
       "        261915793703460864, '2012-10-26 19:42:46', 'DDougyy',\n",
       "        \"@Megglezzz Pfft I'd laugh if they even asked to be in lol\",\n",
       "        261918878215585792, '2012-10-26 19:55:01', 'Megglezzz',\n",
       "        '@DDougyy shoot them down instantly', 261926267023134720,\n",
       "        '2012-10-26 20:24:23', 'DDougyy',\n",
       "        '@Megglezzz Indeed. Is Siberia treating you well today?',\n",
       "        261926722436481024, '2012-10-26 20:26:11', 'Megglezzz',\n",
       "        '@DDougyy as well as can be expected. A bit chilly here.',\n",
       "        261942235942252544, '2012-10-26 21:27:50', 'DDougyy',\n",
       "        '@Megglezzz Well I hope you had a blanket lol', 261944722904449025,\n",
       "        '2012-10-26 21:37:43', 'Megglezzz',\n",
       "        '@DDougyy nope just a sweater lol', 261959710947819520,\n",
       "        '2012-10-26 22:37:16', 'DDougyy',\n",
       "        \"@Megglezzz Well at least it's the weekend...finally.\",\n",
       "        261961200315797504, '2012-10-26 22:43:11', 'Megglezzz',\n",
       "        '@DDougyy thank god! I need the break!', 261961316623863809,\n",
       "        '2012-10-26 22:43:39', 'DDougyy',\n",
       "        '@Megglezzz Me too. Going to sleep so well tonight.',\n",
       "        261962216180428800, '2012-10-26 22:47:14', 'Megglezzz',\n",
       "        '@DDougyy oh me too. I could use a nap already',\n",
       "        261972355516088321, '2012-10-26 23:27:31', 'DDougyy',\n",
       "        \"@Megglezzz Oh me too. I'm at NJPAC for a show with my parents. Will be asleep 10 minutes in\",\n",
       "        261973021785468928, '2012-10-26 23:30:10', 'Megglezzz',\n",
       "        \"@DDougyy oh sounds exciting lol. I'm home with the friends depending on what costume to wear to the bar tomorrow lmao\",\n",
       "        261977373665292288, '2012-10-26 23:47:27', 'DDougyy',\n",
       "        \"@Megglezzz Ms. Pacman. First idea that came to my head cause that's what my sis is doing lol\",\n",
       "        261978460703039488, '2012-10-26 23:51:47', 'Megglezzz',\n",
       "        \"@DDougyy I'm probably dressing up as a Roman girl lol\",\n",
       "        261978902124179456, '2012-10-26 23:53:32', 'DDougyy',\n",
       "        '@Megglezzz That sounds a little bit easier than my idea on short notice lol',\n",
       "        261981126195818497, '2012-10-27 00:02:22', 'Megglezzz',\n",
       "        \"@DDougyy I'd just use my costume from last year lol\",\n",
       "        261994934712799232, '2012-10-27 00:57:14', 'DDougyy',\n",
       "        '@Megglezzz Haha you sound like me.', 261996596248584192,\n",
       "        '2012-10-27 01:03:50', 'Megglezzz', '@DDougyy lol really?',\n",
       "        261996769171365891, '2012-10-27 01:04:32', 'DDougyy',\n",
       "        \"@Megglezzz Yeah I'm not that creative lol\", 261997066853683200,\n",
       "        '2012-10-27 01:05:43', 'Megglezzz',\n",
       "        '@DDougyy lol I was gonna wear my Amy Pond outfit but that got shot down as being too boring',\n",
       "        262035848927793153, '2012-10-27 03:39:49', 'DDougyy',\n",
       "        '@Megglezzz Would enough people get it? I dunno if there are enough Dr. Who fans out there :-/',\n",
       "        262038706700042242, '2012-10-27 03:51:10', 'Megglezzz',\n",
       "        '@DDougyy probably not lol. I was thinking girl version of 11th Doctor as well',\n",
       "        262046218627207168, '2012-10-27 04:21:01', 'DDougyy',\n",
       "        \"@Megglezzz See, this is why I need to watch Dr. Who. I hadn't even realized there had been 11 doctors already lol\",\n",
       "        262051105268183040, '2012-10-27 04:40:26', 'Megglezzz',\n",
       "        '@DDougyy yes you do. Aside from the fact it is an amazing show there are 11 different Doctors to enjoy as well',\n",
       "        262058503357755393, '2012-10-27 05:09:50', 'DDougyy',\n",
       "        '@Megglezzz Do you know if Netflix has any?', 262156952107368448,\n",
       "        '2012-10-27 11:41:02', 'Megglezzz',\n",
       "        '@DDougyy I know Netflix has all of New Who. As for classic, they have a selection of 1 2 3 4 5 , 7th Doctors. 4th Doctor was the best lol',\n",
       "        262224746232549379, '2012-10-27 16:10:26', 'DDougyy',\n",
       "        '@Megglezzz Hmmkay thank you!', 262228717722558464,\n",
       "        '2012-10-27 16:26:12', 'Megglezzz', \"@DDougyy you're welcome!\",\n",
       "        262230709517840385, '2012-10-27 16:34:07', 'DDougyy',\n",
       "        '@Megglezzz Excited for the storm?', 262238462806208512,\n",
       "        '2012-10-27 17:04:56', 'Megglezzz',\n",
       "        '@DDougyy of course. Sounds like such fun', 262241216136101888,\n",
       "        '2012-10-27 17:15:52', 'DDougyy',\n",
       "        \"@Megglezzz I'm totally excited....not.\", 262244626667286528,\n",
       "        '2012-10-27 17:29:25', 'Megglezzz',\n",
       "        \"@DDougyy and the question remains: will it be as bad as they're saying\",\n",
       "        262250937874268161, '2012-10-27 17:54:30', 'DDougyy',\n",
       "        \"@Megglezzz Probably not, but I'm still planning on my house being without power for at least 2 days.\",\n",
       "        262251152064790529, '2012-10-27 17:55:21', 'Megglezzz',\n",
       "        '@DDougyy yeah we stocked up here with flashlights and batteries just in case',\n",
       "        262252030679216128, '2012-10-27 17:58:51', 'DDougyy',\n",
       "        '@Megglezzz I just got back from the gas station to fill all our gas cans just in case...where everyone else in the world was.',\n",
       "        262254450029244417, '2012-10-27 18:08:27', 'Megglezzz',\n",
       "        '@DDougyy this whole weekend every place is gonna be a mad house full of people',\n",
       "        0, 0, 0, 0, False, 43, ['DDougyy', 'Megglezzz'],\n",
       "        '2012-10-27 18:08:27', 84240, 2, 2005.71428571, True, 668.5]], dtype=object)"
      ]
     },
     "execution_count": 44,
     "metadata": {},
     "output_type": "execute_result"
    }
   ],
   "source": [
    "convs[(convs.userSetLen==2) & (convs.convSize==43)].values"
   ]
  },
  {
   "cell_type": "markdown",
   "metadata": {},
   "source": [
    "* The median suggests that about half of these are still just one tweet and one reply - short exchanges\n",
    "* The 90th percentile being 4 suggests that bigger proportion of these are longer than in one-person conversations\n",
    "* The longest convo here is 43 steps - hockey and Dr. WHO, with concerns about Sandy and preparation at the end\n",
    "* The 3 out of 4 two-person conversations with 12 tweets are about Sandy in some way: evacuation, prep, infrustricture failure, role of global warming"
   ]
  },
  {
   "cell_type": "code",
   "execution_count": 45,
   "metadata": {
    "collapsed": false,
    "scrolled": true
   },
   "outputs": [
    {
     "data": {
      "text/plain": [
       "array([[48, 263634418994909185, '2012-10-31 13:31:58', 'pacovell',\n",
       "        '@JOEDOEchef these are pretty different failures, but we should be designing and building better systems here',\n",
       "        263714145256480768, '2012-10-31 18:48:46', 'JOEDOEchef',\n",
       "        '@pacovell not so. Both were water related failures(ie floods) occurring at power stations near bodies of water',\n",
       "        263716756823080960, '2012-10-31 18:59:09', 'pacovell',\n",
       "        '@JOEDOEchef Tokyo failure, major earthquake and tsunami took generation offline.  Our generation is OK. Still, improved design would help.',\n",
       "        263717928594198528, '2012-10-31 19:03:48', 'pacovell',\n",
       "        \"@JOEDOEchef I guess what I'm saying is if Tokyo events happened here it would be FAR worse than in Tokyo - they have better infrastructure\",\n",
       "        263720371415576577, '2012-10-31 19:13:30', 'JOEDOEchef',\n",
       "        '@pacovell my pt exactly!  This is a joke!  This is not a tsunami !!!  If it was this would be apocalypse!',\n",
       "        263719997438840832, '2012-10-31 19:12:01', 'JOEDOEchef',\n",
       "        '@pacovell not sure u research is based in fact. Tokyo and Japan for tht matter have Tiny pop compared to NE coast of US.',\n",
       "        263727244093030400, '2012-10-31 19:40:49', 'pacovell',\n",
       "        '@JOEDOEchef Japan 180m ppl area roughly size of CA, Tokyo 13m ppl',\n",
       "        263760802580951040, '2012-10-31 21:54:10', 'JOEDOEchef',\n",
       "        '@pacovell are u proving my point for me. Not sure what ur getting at. 1 response worse than the last',\n",
       "        263790483636105216, '2012-10-31 23:52:06', 'pacovell',\n",
       "        '@JOEDOEchef how is 180m japan smaller than 112m east coast, as you say? Or 13m Tokyo smaller than 8m NYC? #countingfail',\n",
       "        263811298939260928, '2012-11-01 01:14:49', 'JOEDOEchef',\n",
       "        '@pacovell one is the center of the universe and the other is a puppet. #importancefail',\n",
       "        263811839949942785, '2012-11-01 01:16:58', 'JOEDOEchef',\n",
       "        '@pacovell is 112m is part of an even larger country(larger in all ways than Japan) we should be leading not following their poor example',\n",
       "        263812085014732800, '2012-11-01 01:17:57', 'JOEDOEchef',\n",
       "        \"@pacovell we rebuilt them after ww2not other way around. ConEd is a modern day joke that is 50 urs old. U could've seen this coming yrs ago\",\n",
       "        0, '0', '0', '0', 0, '0', '0', '0', 0, '0', '0', '0', 0, '0', '0',\n",
       "        '0', 0, '0', '0', '0', 0, '0', '0', '0', 0, '0', '0', '0', 0, '0',\n",
       "        '0', '0', 0, '0', '0', '0', 0, '0', '0', '0', 0, '0', '0', '0', 0,\n",
       "        '0', '0', '0', 0, '0', '0', '0', 0, '0', '0', '0', 0, '0', '0',\n",
       "        '0', 0, '0', '0', '0', 0, '0', '0', '0', 0, '0', '0', '0', 0, '0',\n",
       "        '0', '0', 0, '0', '0', '0', 0, '0', '0', '0', 0, '0', '0', '0', 0,\n",
       "        '0', '0', '0', 0, '0', '0', '0', 0, '0', '0', '0', 0, '0', '0',\n",
       "        '0', 0, '0', '0', '0', 0, '0', '0', '0', 0, '0', '0', '0', 0, '0',\n",
       "        '0', '0', 0, '0', '0', '0', 0, 0, 0, 0, True, 12,\n",
       "        ['JOEDOEchef', 'pacovell'], '2012-11-01 01:17:57', 42359, 2,\n",
       "        3850.81818182, True, 1175.5],\n",
       "       [397, 264086468639744001, '2012-11-01 19:28:15', 'shaig',\n",
       "        '.@MikeBloomberg supports Obama as opposed to Romney due to Obamas views on #globalwarming #womensrights #equalrights http://t.co/lrjGbkrA',\n",
       "        264088261180420096, '2012-11-01 19:35:22', 'superacidjax',\n",
       "        \"@shaig The global warming nonsense has nothing to do with this storm. It's simply a Trojan Horse for economic control.\",\n",
       "        264092371774492673, '2012-11-01 19:51:42', 'shaig',\n",
       "        '@superacidjax ? Trojan horse for economic control?',\n",
       "        264093473559437312, '2012-11-01 19:56:05', 'superacidjax',\n",
       "        \"@shaig I'm more worried about benzene and sulfur dioxide but the gov wastes time policing cow shit b/c of global 'warming.'\",\n",
       "        264093115995000832, '2012-11-01 19:54:40', 'superacidjax',\n",
       "        '@shaig We should reduce pollution, but calling CO2 a pollutant just gives the EPA the power to control whatever they want.',\n",
       "        264092917558280193, '2012-11-01 19:53:52', 'superacidjax',\n",
       "        '@shaig Sure. Global Warming regs make guys like Al Gore rich while controlling the means of production.',\n",
       "        264093361890279426, '2012-11-01 19:55:38', 'shaig',\n",
       "        '@superacidjax disagree', 264093764463767554,\n",
       "        '2012-11-01 19:57:14', 'superacidjax',\n",
       "        \"@shaig The radical enviro movement began right around the fall of communism. It isn't a coincidence.\",\n",
       "        264093882252419072, '2012-11-01 19:57:42', 'superacidjax',\n",
       "        '@shaig More importantly, are you surviving ok from the strorm?',\n",
       "        264094262633828352, '2012-11-01 19:59:13', 'shaig',\n",
       "        '@superacidjax Im good, we live in UES, minor damage only - you?',\n",
       "        264097140387758081, '2012-11-01 20:10:39', 'superacidjax',\n",
       "        \"@shaig bad shape in Jersey City.. My wife is giving birth any day and the hospitals are on generators.. But we're ok! Thanks and be safe!\",\n",
       "        264098421575667712, '2012-11-01 20:15:45', 'shaig',\n",
       "        '@superacidjax exciting times, Im sure the hospital are first priority for power so you should be good, best wishes for a healthy delivery',\n",
       "        0, '0', '0', '0', 0, '0', '0', '0', 0, '0', '0', '0', 0, '0', '0',\n",
       "        '0', 0, '0', '0', '0', 0, '0', '0', '0', 0, '0', '0', '0', 0, '0',\n",
       "        '0', '0', 0, '0', '0', '0', 0, '0', '0', '0', 0, '0', '0', '0', 0,\n",
       "        '0', '0', '0', 0, '0', '0', '0', 0, '0', '0', '0', 0, '0', '0',\n",
       "        '0', 0, '0', '0', '0', 0, '0', '0', '0', 0, '0', '0', '0', 0, '0',\n",
       "        '0', '0', 0, '0', '0', '0', 0, '0', '0', '0', 0, '0', '0', '0', 0,\n",
       "        '0', '0', '0', 0, '0', '0', '0', 0, '0', '0', '0', 0, '0', '0',\n",
       "        '0', 0, '0', '0', '0', 0, '0', '0', '0', 0, '0', '0', '0', 0, '0',\n",
       "        '0', '0', 0, '0', '0', '0', 0, 0, 0, 0, True, 12,\n",
       "        ['superacidjax', 'shaig'], '2012-11-01 20:15:45', 2850, 2,\n",
       "        259.09090909099996, True, 263.0],\n",
       "       [956, 260146553841389568, '2012-10-21 22:32:26', 'solari3035',\n",
       "        '@maggz630 why is Phil Evans so hot #omg #lovehim',\n",
       "        260147239610101760, '2012-10-21 22:35:09', 'maggieperetti',\n",
       "        \"@solari3035 i know omg #philevansisperf. He's so hot that i want to bake cookies on him. awk :)\",\n",
       "        260147545995612160, '2012-10-21 22:36:22', 'solari3035',\n",
       "        \"@maggz630 I'd bake cookies on him #philbemine I wanna see him wed.\",\n",
       "        260147999810912256, '2012-10-21 22:38:11', 'maggieperetti',\n",
       "        '@solari3035 same #philbemine. but wait whats wed. ?',\n",
       "        260148212743163904, '2012-10-21 22:39:01', 'solari3035',\n",
       "        '@maggz630 the concert were you have to be 18 years or older ',\n",
       "        260148439885697024, '2012-10-21 22:39:56', 'maggieperetti',\n",
       "        '@solari3035 ohh yea you should go :D and tell my baby Phil that i said hi :3',\n",
       "        260148679283974144, '2012-10-21 22:40:53', 'solari3035',\n",
       "        \"@maggz630 that's if @tiffanyxoo13 parents say yes\",\n",
       "        260149004380295168, '2012-10-21 22:42:10', 'maggieperetti',\n",
       "        '@solari3035 @tiffanyxoo13 are you guys going to the show in Boonton December 1st.',\n",
       "        260149272891256833, '2012-10-21 22:43:14', 'solari3035',\n",
       "        '@maggz630 @tiffanyxoo13 where', 260149446501871618,\n",
       "        '2012-10-21 22:43:56', 'maggieperetti',\n",
       "        '@solari3035 @tiffanyxoo13 Boonton NJ', 260149547458756608,\n",
       "        '2012-10-21 22:44:20', 'solari3035',\n",
       "        '@maggz630 @tiffanyxoo13 I must go', 260149672130252801,\n",
       "        '2012-10-21 22:44:49', 'maggieperetti',\n",
       "        '@solari3035 @tiffanyxoo13 yesssss you have to :D', 0, '0', '0',\n",
       "        '0', 0, '0', '0', '0', 0, '0', '0', '0', 0, '0', '0', '0', 0, '0',\n",
       "        '0', '0', 0, '0', '0', '0', 0, '0', '0', '0', 0, '0', '0', '0', 0,\n",
       "        '0', '0', '0', 0, '0', '0', '0', 0, '0', '0', '0', 0, '0', '0',\n",
       "        '0', 0, '0', '0', '0', 0, '0', '0', '0', 0, '0', '0', '0', 0, '0',\n",
       "        '0', '0', 0, '0', '0', '0', 0, '0', '0', '0', 0, '0', '0', '0', 0,\n",
       "        '0', '0', '0', 0, '0', '0', '0', 0, '0', '0', '0', 0, '0', '0',\n",
       "        '0', 0, '0', '0', '0', 0, '0', '0', '0', 0, '0', '0', '0', 0, '0',\n",
       "        '0', '0', 0, '0', '0', '0', 0, '0', '0', '0', 0, '0', '0', '0', 0,\n",
       "        '0', '0', '0', 0, 0, 0, 0, False, 12,\n",
       "        ['maggieperetti', 'solari3035'], '2012-10-21 22:44:49', 743, 2,\n",
       "        67.54545454550001, True, 57.0],\n",
       "       [1571, 262560648104378368, '2012-10-28 14:25:11', 'JamesDeanX',\n",
       "        'Packing packing packing... Argo fucking packing...',\n",
       "        262566314755903488, '2012-10-28 14:47:42', 'MaggieBoruk',\n",
       "        '@JamesDeanX hey that sounds like my weekend! Only now Sandy is interfering with the Argo part ',\n",
       "        262566635838255104, '2012-10-28 14:48:58', 'JamesDeanX',\n",
       "        '@MaggieBoruk Why? Movies are the best part of hurricane!!!',\n",
       "        262567513961922560, '2012-10-28 14:52:28', 'MaggieBoruk',\n",
       "        \"@JamesDeanX not if there is no power!!  Plus I'm in an evac zone so I'm guessing Bloomie is gonna kick me out today\",\n",
       "        262568000803192832, '2012-10-28 14:54:24', 'JamesDeanX',\n",
       "        '@MaggieBoruk Oh my... Take care and stay dry!!!! #Sandy stay away!!!',\n",
       "        262568532758384642, '2012-10-28 14:56:31', 'MaggieBoruk',\n",
       "        \"@JamesDeanX thanks! I'm on the 20th floor so I'm not worried about flooding, but no power/water would be the worst! Boo! Hope u r safe + dry\",\n",
       "        262568703730790400, '2012-10-28 14:57:11', 'JamesDeanX',\n",
       "        \"@MaggieBoruk I'm leaving the country for that... :p hope the flight won't get canceled...\",\n",
       "        262569716852330497, '2012-10-28 15:01:13', 'MaggieBoruk',\n",
       "        '@JamesDeanX well they already grounded flights into LGA and mass transit is getting shit down tonight!! Good luck!',\n",
       "        262570017382600705, '2012-10-28 15:02:25', 'JamesDeanX',\n",
       "        '@MaggieBoruk Think I might need to do grocery shopping... Just in case...',\n",
       "        262622239483113472, '2012-10-28 18:29:55', 'MaggieBoruk',\n",
       "        '@JamesDeanX yeah you better! We have abandoned our abode and are on the way to dry land (hopefully) in Jerz. Stay safe!',\n",
       "        262622394219380736, '2012-10-28 18:30:32', 'JamesDeanX',\n",
       "        '@MaggieBoruk stay dry!!!', 262569784057688064,\n",
       "        '2012-10-28 15:01:29', 'JamesDeanX', '@MaggieBoruk Shit...', 0,\n",
       "        '0', '0', '0', 0, '0', '0', '0', 0, '0', '0', '0', 0, '0', '0',\n",
       "        '0', 0, '0', '0', '0', 0, '0', '0', '0', 0, '0', '0', '0', 0, '0',\n",
       "        '0', '0', 0, '0', '0', '0', 0, '0', '0', '0', 0, '0', '0', '0', 0,\n",
       "        '0', '0', '0', 0, '0', '0', '0', 0, '0', '0', '0', 0, '0', '0',\n",
       "        '0', 0, '0', '0', '0', 0, '0', '0', '0', 0, '0', '0', '0', 0, '0',\n",
       "        '0', '0', 0, '0', '0', '0', 0, '0', '0', '0', 0, '0', '0', '0', 0,\n",
       "        '0', '0', '0', 0, '0', '0', '0', 0, '0', '0', '0', 0, '0', '0',\n",
       "        '0', 0, '0', '0', '0', 0, '0', '0', '0', 0, '0', '0', '0', 0, '0',\n",
       "        '0', '0', 0, '0', '0', '0', 0, 0, 0, 0, True, 12,\n",
       "        ['MaggieBoruk', 'JamesDeanX'], '2012-10-28 15:01:29', 2178, 2,\n",
       "        198.0, True, 121.5]], dtype=object)"
      ]
     },
     "execution_count": 45,
     "metadata": {},
     "output_type": "execute_result"
    }
   ],
   "source": [
    "convs[(convs.userSetLen==2) & (convs.convSize==12)].values"
   ]
  },
  {
   "cell_type": "code",
   "execution_count": 46,
   "metadata": {
    "collapsed": false
   },
   "outputs": [
    {
     "data": {
      "text/plain": [
       "948.5"
      ]
     },
     "execution_count": 46,
     "metadata": {},
     "output_type": "execute_result"
    }
   ],
   "source": [
    "np.median(convs.convoLen[convs.userSetLen==2])"
   ]
  },
  {
   "cell_type": "code",
   "execution_count": 47,
   "metadata": {
    "collapsed": false
   },
   "outputs": [
    {
     "data": {
      "text/plain": [
       "<matplotlib.text.Text at 0x7fe8823140d0>"
      ]
     },
     "execution_count": 47,
     "metadata": {},
     "output_type": "execute_result"
    },
    {
     "data": {
      "image/png": "[encoded data removed]",
      "text/plain": [
       "<matplotlib.figure.Figure at 0x7fe882a28210>"
      ]
     },
     "metadata": {},
     "output_type": "display_data"
    }
   ],
   "source": [
    "convoLen = convs.convoLen[convs.userSetLen==2].dropna().tolist()\n",
    "bins=np.logspace(0, int(np.log(max(convoLen))), 100)\n",
    "width=bins[1:]-bins[:-1]\n",
    "h, b=np.histogram(convoLen,bins)\n",
    "h=h/float(sum(h))\n",
    "plt.bar(b[:-1], h, width, color='c')\n",
    "#plt.plot(bins[:-1], fit[:-1]*width, linewidth=2)\n",
    "plt.gca().set_xscale(\"log\")\n",
    "plt.xlim(xmin=0,xmax=10**6.5)\n",
    "plt.ylim(ymin=0, ymax=0.08)\n",
    "plt.title('Two-person conversation lengths in seconds')"
   ]
  },
  {
   "cell_type": "code",
   "execution_count": 48,
   "metadata": {
    "collapsed": false
   },
   "outputs": [
    {
     "data": {
      "text/plain": [
       "582.83333333349992"
      ]
     },
     "execution_count": 48,
     "metadata": {},
     "output_type": "execute_result"
    }
   ],
   "source": [
    "np.median(convs.avgTimePerReply[convs.userSetLen==2])"
   ]
  },
  {
   "cell_type": "code",
   "execution_count": 49,
   "metadata": {
    "collapsed": false
   },
   "outputs": [
    {
     "data": {
      "text/plain": [
       "511.0"
      ]
     },
     "execution_count": 49,
     "metadata": {},
     "output_type": "execute_result"
    }
   ],
   "source": [
    "np.median(convs.medianReplyTime[convs.userSetLen==2])"
   ]
  },
  {
   "cell_type": "code",
   "execution_count": 50,
   "metadata": {
    "collapsed": false
   },
   "outputs": [
    {
     "data": {
      "text/plain": [
       "<matplotlib.text.Text at 0x7fe8825da410>"
      ]
     },
     "execution_count": 50,
     "metadata": {},
     "output_type": "execute_result"
    },
    {
     "data": {
      "image/png": "[encoded data removed]",
      "text/plain": [
       "<matplotlib.figure.Figure at 0x7fe88350d850>"
      ]
     },
     "metadata": {},
     "output_type": "display_data"
    }
   ],
   "source": [
    "medRepTime=convs[convs.userSetLen==2].medianReplyTime.dropna().tolist()\n",
    "bins=np.logspace(0, int(np.log(max(medRepTime))), 100)\n",
    "width=bins[1:]-bins[:-1]\n",
    "h, b=np.histogram(medRepTime,bins)\n",
    "h=h/float(sum(h))\n",
    "plt.bar(b[:-1], h, width, color='c')\n",
    "#plt.plot(bins[:-1], fit[:-1]*width, linewidth=2)\n",
    "plt.gca().set_xscale(\"log\")\n",
    "plt.xlim(xmin=0,xmax=10**6.5)\n",
    "plt.ylim(ymin=0, ymax=0.08)\n",
    "plt.title('Median time (s) between turns in two-person conversations')"
   ]
  },
  {
   "cell_type": "markdown",
   "metadata": {},
   "source": [
    "** Takeway:**\n",
    "* The two-person conversations are longer than overall (median)\n",
    "* And much longer than one-person conversations\n",
    "* The median number of steps is still 2, but 90th percentile is now 4 -  bigger proportion of these are longer than in one-person conversations\n",
    "* In addition, the breaks between tweets are longer than overall (438s) and definitely one-person conversations\n",
    "* **Difference between monolog and dialiog/ personal and social**"
   ]
  },
  {
   "cell_type": "markdown",
   "metadata": {},
   "source": [
    "### More-than-two person conversations"
   ]
  },
  {
   "cell_type": "code",
   "execution_count": 51,
   "metadata": {
    "collapsed": false
   },
   "outputs": [
    {
     "data": {
      "text/plain": [
       "0.016669823830270884"
      ]
     },
     "execution_count": 51,
     "metadata": {},
     "output_type": "execute_result"
    }
   ],
   "source": [
    "len(convs[convs.userSetLen>2])/float(len(convs))"
   ]
  },
  {
   "cell_type": "markdown",
   "metadata": {},
   "source": [
    "Only **1.7%** of the conversations are with more than two people"
   ]
  },
  {
   "cell_type": "code",
   "execution_count": 52,
   "metadata": {
    "collapsed": false
   },
   "outputs": [
    {
     "data": {
      "text/plain": [
       "4.0"
      ]
     },
     "execution_count": 52,
     "metadata": {},
     "output_type": "execute_result"
    }
   ],
   "source": [
    "np.median(convs.convSize[convs.userSetLen>2])"
   ]
  },
  {
   "cell_type": "code",
   "execution_count": 53,
   "metadata": {
    "collapsed": false
   },
   "outputs": [
    {
     "data": {
      "text/plain": [
       "6.0"
      ]
     },
     "execution_count": 53,
     "metadata": {},
     "output_type": "execute_result"
    }
   ],
   "source": [
    "np.percentile(convs.convSize[convs.userSetLen>2],90)"
   ]
  },
  {
   "cell_type": "code",
   "execution_count": 54,
   "metadata": {
    "collapsed": false
   },
   "outputs": [
    {
     "data": {
      "text/plain": [
       "11"
      ]
     },
     "execution_count": 54,
     "metadata": {},
     "output_type": "execute_result"
    }
   ],
   "source": [
    "max(convs.convSize[convs.userSetLen>2])"
   ]
  },
  {
   "cell_type": "code",
   "execution_count": 55,
   "metadata": {
    "collapsed": false,
    "scrolled": true
   },
   "outputs": [
    {
     "data": {
      "text/plain": [
       "array([[574, 264477309006925826, '2012-11-02 21:21:18', 'NYCMayorsOffice',\n",
       "        'We have decided to cancel the NYC marathon. The New York Road Runners will have additional information in days ahead for participants.',\n",
       "        264477517690306562, '2012-11-02 21:22:08', 'ThomasSickler',\n",
       "        '@NYCMayorsOffice THANK YOU! THANK GOD ITS CANCELED #NYCMarathon',\n",
       "        264486296720916481, '2012-11-02 21:57:01', 'CG_DarkAngel',\n",
       "        \"@NYCMayorsOffice @MikeBloomberg Thank you for canceling NYC's marathon.  It was the right move.  #fb\",\n",
       "        264570354259865600, '2012-11-03 03:31:02', 'PaulyFook',\n",
       "        '@NYCMayorsOffice Waiting for the Mayor to take responsibility as to why it was canceled so late. No excuses.',\n",
       "        264484676402552832, '2012-11-02 21:50:35', 'emburkh',\n",
       "        '@NYCMayorsOffice @NYCService maybe the runners can #volunteer instead!',\n",
       "        264482738990632960, '2012-11-02 21:42:53', 'FlemingPhD',\n",
       "        \"@NYCMayorsOffice : Thank God.  Good decision.  We are proud of your wisdom in correcting course and focusing resources on Sandy's victims.\",\n",
       "        264511213189357568, '2012-11-02 23:36:02', 'Cowwgurl',\n",
       "        \"@NYCMayorsOffice It's the right decision! Thank You!\",\n",
       "        264481171906392064, '2012-11-02 21:36:39', 'LizTowler',\n",
       "        '@NYCMayorsOffice thanks for making the right decision. Hope to help as a volunteer for NYC Service http://t.co/qq4y3KZ9',\n",
       "        264480614927958016, '2012-11-02 21:34:27', 'NorEasterNJ',\n",
       "        '@NYCMayorsOffice Good move Mikey', 264478436540682240,\n",
       "        '2012-11-02 21:25:47', 'tfernandes113',\n",
       "        'Good job! RT @NYCMayorsOffice: We have decided to cancel the NYC marathon.',\n",
       "        264478062291324928, '2012-11-02 21:24:18', 'LonerganM',\n",
       "        '@NYCMayorsOffice Thank you.  New York thanks you.', 0, '0', '0',\n",
       "        '0', 0, '0', '0', '0', 0, '0', '0', '0', 0, '0', '0', '0', 0, '0',\n",
       "        '0', '0', 0, '0', '0', '0', 0, '0', '0', '0', 0, '0', '0', '0', 0,\n",
       "        '0', '0', '0', 0, '0', '0', '0', 0, '0', '0', '0', 0, '0', '0',\n",
       "        '0', 0, '0', '0', '0', 0, '0', '0', '0', 0, '0', '0', '0', 0, '0',\n",
       "        '0', '0', 0, '0', '0', '0', 0, '0', '0', '0', 0, '0', '0', '0', 0,\n",
       "        '0', '0', '0', 0, '0', '0', '0', 0, '0', '0', '0', 0, '0', '0',\n",
       "        '0', 0, '0', '0', '0', 0, '0', '0', '0', 0, '0', '0', '0', 0, '0',\n",
       "        '0', '0', 0, '0', '0', '0', 0, '0', '0', '0', 0, '0', '0', '0', 0,\n",
       "        '0', '0', '0', 0, '0', '0', '0', 0, 0, 0, 0, True, 11,\n",
       "        ['Cowwgurl', 'ThomasSickler', 'emburkh', 'NorEasterNJ', 'NYCMayorsOffice', 'CG_DarkAngel', 'LonerganM', 'PaulyFook', 'tfernandes113', 'FlemingPhD', 'LizTowler'],\n",
       "        '2012-11-02 21:24:18', 180, 11, 18.0, True, 4441.0]], dtype=object)"
      ]
     },
     "execution_count": 55,
     "metadata": {},
     "output_type": "execute_result"
    }
   ],
   "source": [
    "convs[(convs.userSetLen>2) & (convs.convSize==11)].values"
   ]
  },
  {
   "cell_type": "markdown",
   "metadata": {},
   "source": [
    "* The median length of these conversations is 4 and the 90th percentile is 6\n",
    "* This suggests that these are, on average, longer conversations than overall than overall and one- and two-person convos\n",
    "* The longest convo here is 12 steps - discussion of NYC marathon being cancelled"
   ]
  },
  {
   "cell_type": "code",
   "execution_count": 56,
   "metadata": {
    "collapsed": false
   },
   "outputs": [
    {
     "data": {
      "text/plain": [
       "1213.5"
      ]
     },
     "execution_count": 56,
     "metadata": {},
     "output_type": "execute_result"
    }
   ],
   "source": [
    "np.median(convs.convoLen[convs.userSetLen>2])"
   ]
  },
  {
   "cell_type": "code",
   "execution_count": 60,
   "metadata": {
    "collapsed": false
   },
   "outputs": [
    {
     "data": {
      "text/plain": [
       "<matplotlib.text.Text at 0x7fe880ebbad0>"
      ]
     },
     "execution_count": 60,
     "metadata": {},
     "output_type": "execute_result"
    },
    {
     "data": {
      "image/png": "[encoded data removed]",
      "text/plain": [
       "<matplotlib.figure.Figure at 0x7fe882a57590>"
      ]
     },
     "metadata": {},
     "output_type": "display_data"
    }
   ],
   "source": [
    "convoLen = convs.convoLen[convs.userSetLen>2].dropna().tolist()\n",
    "bins=np.logspace(0, int(np.log(max(convoLen))), 100)\n",
    "width=bins[1:]-bins[:-1]\n",
    "h, b=np.histogram(convoLen,bins)\n",
    "h=h/float(sum(h))\n",
    "plt.bar(b[:-1], h, width, color='c')\n",
    "#plt.plot(bins[:-1], fit[:-1]*width, linewidth=2)\n",
    "plt.gca().set_xscale(\"log\")\n",
    "plt.xlim(xmin=0,xmax=10**6.5)\n",
    "plt.ylim(ymin=0, ymax=0.08)\n",
    "plt.title('More-than-two-person conversation lengths in seconds')"
   ]
  },
  {
   "cell_type": "markdown",
   "metadata": {},
   "source": [
    "The number of these conversations is too small for a clear distribution at this resolution (100 bars)"
   ]
  },
  {
   "cell_type": "code",
   "execution_count": 61,
   "metadata": {
    "collapsed": false
   },
   "outputs": [
    {
     "data": {
      "text/plain": [
       "412.5"
      ]
     },
     "execution_count": 61,
     "metadata": {},
     "output_type": "execute_result"
    }
   ],
   "source": [
    "np.median(convs.avgTimePerReply[convs.userSetLen>2])"
   ]
  },
  {
   "cell_type": "code",
   "execution_count": 62,
   "metadata": {
    "collapsed": false
   },
   "outputs": [
    {
     "data": {
      "text/plain": [
       "769.75"
      ]
     },
     "execution_count": 62,
     "metadata": {},
     "output_type": "execute_result"
    }
   ],
   "source": [
    "np.median(convs.medianReplyTime[convs.userSetLen>2])"
   ]
  },
  {
   "cell_type": "code",
   "execution_count": 63,
   "metadata": {
    "collapsed": false
   },
   "outputs": [
    {
     "data": {
      "text/plain": [
       "<matplotlib.text.Text at 0x7fe880a30f10>"
      ]
     },
     "execution_count": 63,
     "metadata": {},
     "output_type": "execute_result"
    },
    {
     "data": {
      "image/png": "[encoded data removed]",
      "text/plain": [
       "<matplotlib.figure.Figure at 0x7fe881f9a5d0>"
      ]
     },
     "metadata": {},
     "output_type": "display_data"
    }
   ],
   "source": [
    "medRepTime=convs[convs.userSetLen>2].medianReplyTime.dropna().tolist()\n",
    "bins=np.logspace(0, int(np.log(max(medRepTime))), 100)\n",
    "width=bins[1:]-bins[:-1]\n",
    "h, b=np.histogram(medRepTime,bins)\n",
    "h=h/float(sum(h))\n",
    "plt.bar(b[:-1], h, width, color='c')\n",
    "#plt.plot(bins[:-1], fit[:-1]*width, linewidth=2)\n",
    "plt.gca().set_xscale(\"log\")\n",
    "plt.xlim(xmin=0,xmax=10**6.5)\n",
    "plt.ylim(ymin=0, ymax=0.08)\n",
    "plt.title('Median time (s) between turns in more-than-two-person conversations')"
   ]
  },
  {
   "cell_type": "markdown",
   "metadata": {},
   "source": [
    "** Takeway:**\n",
    "* The more-than-two-person conversations are longer than overall (median)\n",
    "* And much longer than one-person and two-person conversations\n",
    "* The number of tweets in these conversations are higher than overall and others (median=4, 90th=6)\n",
    "* But the breaks between tweets are the same as overall and slightly longer than two-person (**CHECK FOR SIG**)\n",
    "* **As long as it's a dialog/social, more or less the same tempo of conversation is kept**"
   ]
  },
  {
   "cell_type": "markdown",
   "metadata": {},
   "source": [
    "# Conversation types (# users) across time stages"
   ]
  },
  {
   "cell_type": "code",
   "execution_count": 64,
   "metadata": {
    "collapsed": false
   },
   "outputs": [
    {
     "data": {
      "text/plain": [
       "0.15438530024625877"
      ]
     },
     "execution_count": 64,
     "metadata": {},
     "output_type": "execute_result"
    }
   ],
   "source": [
    "len(before)/float(len(convs))"
   ]
  },
  {
   "cell_type": "code",
   "execution_count": 65,
   "metadata": {
    "collapsed": false
   },
   "outputs": [
    {
     "data": {
      "text/plain": [
       "0.39193028982761885"
      ]
     },
     "execution_count": 65,
     "metadata": {},
     "output_type": "execute_result"
    }
   ],
   "source": [
    "len(during)/float(len(convs))"
   ]
  },
  {
   "cell_type": "code",
   "execution_count": 66,
   "metadata": {
    "collapsed": false
   },
   "outputs": [
    {
     "data": {
      "text/plain": [
       "0.27467323356696344"
      ]
     },
     "execution_count": 66,
     "metadata": {},
     "output_type": "execute_result"
    }
   ],
   "source": [
    "len(after)/float(len(convs))"
   ]
  },
  {
   "cell_type": "code",
   "execution_count": 67,
   "metadata": {
    "collapsed": false
   },
   "outputs": [
    {
     "data": {
      "text/plain": [
       "0.16650880848645577"
      ]
     },
     "execution_count": 67,
     "metadata": {},
     "output_type": "execute_result"
    }
   ],
   "source": [
    "len(lafter)/float(len(convs))"
   ]
  },
  {
   "cell_type": "code",
   "execution_count": null,
   "metadata": {
    "collapsed": true
   },
   "outputs": [],
   "source": []
  }
 ],
 "metadata": {
  "kernelspec": {
   "display_name": "Python 2",
   "language": "python",
   "name": "python2"
  },
  "language_info": {
   "codemirror_mode": {
    "name": "ipython",
    "version": 2
   },
   "file_extension": ".py",
   "mimetype": "text/x-python",
   "name": "python",
   "nbconvert_exporter": "python",
   "pygments_lexer": "ipython2",
   "version": "2.7.6"
  }
 },
 "nbformat": 4,
 "nbformat_minor": 1
}
