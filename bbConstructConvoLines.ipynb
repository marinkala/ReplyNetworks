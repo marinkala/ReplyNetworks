{
 "cells": [
  {
   "cell_type": "markdown",
   "metadata": {},
   "source": [
    "This is the first look at the both sides of the conversation - replies and their originals from relevant users (found through the keyword search)"
   ]
  },
  {
   "cell_type": "code",
   "execution_count": 143,
   "metadata": {
    "collapsed": true
   },
   "outputs": [],
   "source": [
    "import pandas as pd\n",
    "import numpy as np\n",
    "import matplotlib\n",
    "from collections import Counter\n",
    "from scipy.stats import lognorm\n",
    "\n",
    "%matplotlib inline\n",
    "import matplotlib.pyplot as plt"
   ]
  },
  {
   "cell_type": "markdown",
   "metadata": {},
   "source": [
    "This is the data for the users who: \n",
    "* replied to at least one tweet from a relevant user (user found through keyword search)\n",
    "* were replied to and were also a relevant user (the other side)"
   ]
  },
  {
   "cell_type": "code",
   "execution_count": 107,
   "metadata": {
    "collapsed": true
   },
   "outputs": [],
   "source": [
    "df=pd.read_csv('../data/bbContextOntopicRepliesBothSidesDF.csv',sep=';')"
   ]
  },
  {
   "cell_type": "code",
   "execution_count": 43,
   "metadata": {},
   "outputs": [
    {
     "data": {
      "text/plain": [
       "2535246"
      ]
     },
     "execution_count": 43,
     "metadata": {},
     "output_type": "execute_result"
    }
   ],
   "source": [
    "len(df)"
   ]
  },
  {
   "cell_type": "code",
   "execution_count": 44,
   "metadata": {},
   "outputs": [
    {
     "data": {
      "text/plain": [
       "10011"
      ]
     },
     "execution_count": 44,
     "metadata": {},
     "output_type": "execute_result"
    }
   ],
   "source": [
    "len(df.user_id.unique())"
   ]
  },
  {
   "cell_type": "markdown",
   "metadata": {},
   "source": [
    "Number of users is consistent with Contextual_GetUsersBothSidesReplies where this list was collated"
   ]
  },
  {
   "cell_type": "code",
   "execution_count": 45,
   "metadata": {},
   "outputs": [
    {
     "data": {
      "text/plain": [
       "Index([u'id', u'username', u'user_id', u'geo_enabled', u'followCount',\n",
       "       u'friendCount', u'faveCount', u'tweetCount', u'date', u'timing',\n",
       "       u'coordinates', u'location', u'source', u'retweetCount', u'isRetweet',\n",
       "       u'origTweet', u'origUser', u'origTime', u'origPlace',\n",
       "       u'origUserCreated', u'contributors', u'hashtags', u'has_media', u'urls',\n",
       "       u'mentions', u'replyWho', u'replyWhat', u'text'],\n",
       "      dtype='object')"
      ]
     },
     "execution_count": 45,
     "metadata": {},
     "output_type": "execute_result"
    }
   ],
   "source": [
    "df.columns"
   ]
  },
  {
   "cell_type": "code",
   "execution_count": 325,
   "metadata": {
    "collapsed": true
   },
   "outputs": [],
   "source": [
    "repliedToTweets=(df.replyWhat[df.replyWhat!=0]).unique()"
   ]
  },
  {
   "cell_type": "code",
   "execution_count": 326,
   "metadata": {},
   "outputs": [
    {
     "data": {
      "text/plain": [
       "599658"
      ]
     },
     "execution_count": 326,
     "metadata": {},
     "output_type": "execute_result"
    }
   ],
   "source": [
    "len(repliedToTweets)"
   ]
  },
  {
   "cell_type": "code",
   "execution_count": 327,
   "metadata": {},
   "outputs": [
    {
     "data": {
      "text/plain": [
       "0.236528920664898"
      ]
     },
     "execution_count": 327,
     "metadata": {},
     "output_type": "execute_result"
    }
   ],
   "source": [
    "float(Out[7])/Out[3]"
   ]
  },
  {
   "cell_type": "markdown",
   "metadata": {},
   "source": [
    "So almost a quarter of the local contextual tweets is Replies\n",
    "\n",
    "*Compare with proportion of replies in overall bb data set (later)*"
   ]
  },
  {
   "cell_type": "code",
   "execution_count": 130,
   "metadata": {},
   "outputs": [
    {
     "data": {
      "text/plain": [
       "9375"
      ]
     },
     "execution_count": 130,
     "metadata": {},
     "output_type": "execute_result"
    }
   ],
   "source": [
    "len((df.user_id[df.replyWho!='0']).unique())"
   ]
  },
  {
   "cell_type": "markdown",
   "metadata": {},
   "source": [
    "* In Contextual_GetUsersBothSidesReplies, there were only 7207 repliers who responded to a tweet from relevant user also in bb\n",
    "* This means that another 2168 users with replies in this data set are part of 2804 users who were replied to\n",
    "* So a good proportion of them (77%) themselevs had replies"
   ]
  },
  {
   "cell_type": "code",
   "execution_count": 158,
   "metadata": {
    "collapsed": true
   },
   "outputs": [],
   "source": [
    "bbRepliersOnly=np.fromfile('/home/mako0970/ReplyPaperNew/data/bbContextRepliers.csv', sep=',', dtype=int)"
   ]
  },
  {
   "cell_type": "code",
   "execution_count": 160,
   "metadata": {},
   "outputs": [],
   "source": [
    "bbRepliers=list(set(bbRepliersOnly) & set(df.user_id.unique()))"
   ]
  },
  {
   "cell_type": "code",
   "execution_count": 164,
   "metadata": {},
   "outputs": [
    {
     "data": {
      "text/plain": [
       "7207"
      ]
     },
     "execution_count": 164,
     "metadata": {},
     "output_type": "execute_result"
    }
   ],
   "source": [
    "len(bbRepliers)"
   ]
  },
  {
   "cell_type": "code",
   "execution_count": 328,
   "metadata": {
    "collapsed": true
   },
   "outputs": [],
   "source": [
    "repToTweetsInDF=list(set(repliedToTweets)& set(df.id))"
   ]
  },
  {
   "cell_type": "code",
   "execution_count": 329,
   "metadata": {},
   "outputs": [
    {
     "data": {
      "text/plain": [
       "9885"
      ]
     },
     "execution_count": 329,
     "metadata": {},
     "output_type": "execute_result"
    }
   ],
   "source": [
    "len(repToTweetsInDF)"
   ]
  },
  {
   "cell_type": "markdown",
   "metadata": {},
   "source": [
    "Only about 10K tweets that local users replied to are by other local users"
   ]
  },
  {
   "cell_type": "markdown",
   "metadata": {},
   "source": [
    "Maybe instead of looking for the original tweets by locals I should broaden to the entire East Coast?"
   ]
  },
  {
   "cell_type": "code",
   "execution_count": 166,
   "metadata": {},
   "outputs": [],
   "source": [
    "bbRepOrigTweets=(df.replyWhat[(df.replyWho!=0) & (df.user_id.isin(bbRepliers))]).unique()"
   ]
  },
  {
   "cell_type": "code",
   "execution_count": 167,
   "metadata": {},
   "outputs": [
    {
     "data": {
      "text/plain": [
       "7467"
      ]
     },
     "execution_count": 167,
     "metadata": {},
     "output_type": "execute_result"
    }
   ],
   "source": [
    "len(list(set(bbRepOrigTweets)& set(df.id)))"
   ]
  },
  {
   "cell_type": "markdown",
   "metadata": {},
   "source": [
    "So the 7207 bb ontopic repliers produced 7467 replies to tweets that were also in this data set (by ontopic bb users)"
   ]
  },
  {
   "cell_type": "code",
   "execution_count": 168,
   "metadata": {
    "collapsed": true
   },
   "outputs": [],
   "source": [
    "bbReplBS=np.fromfile('/home/mako0970/ReplyPaperNew/data/bbContextRepliesBothSidesUserIDs.csv', sep=',', dtype=int)"
   ]
  },
  {
   "cell_type": "code",
   "execution_count": 171,
   "metadata": {
    "collapsed": true
   },
   "outputs": [],
   "source": [
    "bbOrigUsers=list(set(bbReplBS) - set(bbRepliers))"
   ]
  },
  {
   "cell_type": "code",
   "execution_count": 172,
   "metadata": {},
   "outputs": [
    {
     "data": {
      "text/plain": [
       "2804"
      ]
     },
     "execution_count": 172,
     "metadata": {},
     "output_type": "execute_result"
    }
   ],
   "source": [
    "len(bbOrigUsers)"
   ]
  },
  {
   "cell_type": "markdown",
   "metadata": {},
   "source": [
    "2804 of the replies were generated by the original authors - users whose tweets were replied to in the keyword set"
   ]
  },
  {
   "cell_type": "code",
   "execution_count": 173,
   "metadata": {
    "collapsed": true
   },
   "outputs": [],
   "source": [
    "bbOrigUsersOrigTweets=(df.replyWhat[(df.replyWho!=0) & (df.user_id.isin(bbOrigUsers))]).unique()"
   ]
  },
  {
   "cell_type": "code",
   "execution_count": 174,
   "metadata": {},
   "outputs": [
    {
     "data": {
      "text/plain": [
       "2453"
      ]
     },
     "execution_count": 174,
     "metadata": {},
     "output_type": "execute_result"
    }
   ],
   "source": [
    "len(list(set(bbOrigUsersOrigTweets)& set(df.id)))"
   ]
  },
  {
   "cell_type": "code",
   "execution_count": 175,
   "metadata": {},
   "outputs": [
    {
     "data": {
      "text/plain": [
       "9885"
      ]
     },
     "execution_count": 175,
     "metadata": {},
     "output_type": "execute_result"
    }
   ],
   "source": [
    "len((set(bbRepOrigTweets)& set(df.id)) | (set(bbOrigUsersOrigTweets)& set(df.id)))"
   ]
  },
  {
   "cell_type": "markdown",
   "metadata": {},
   "source": [
    "So all the replies were produced by either repliers or the users whose tweets were repled to (who didn't have to have any replies by design -> <10011 tweets)"
   ]
  },
  {
   "cell_type": "markdown",
   "metadata": {},
   "source": [
    "# Add info about the original tweets to DF"
   ]
  },
  {
   "cell_type": "code",
   "execution_count": 111,
   "metadata": {},
   "outputs": [],
   "source": [
    "df['replyOrigTime']=0\n",
    "df['replyOrigText']=0\n",
    "df['replyOrigReplyWhat']=0\n",
    "df['replyOrigReplyWho']=0"
   ]
  },
  {
   "cell_type": "code",
   "execution_count": 112,
   "metadata": {},
   "outputs": [],
   "source": [
    "for id in repToTweetsInDF:\n",
    "    df.loc[df.replyWhat==id, 'replyOrigTime']=(df.loc[df.id==id,'date']).values[0]\n",
    "    df.loc[df.replyWhat==id, 'replyOrigText']=(df.loc[df.id==id,'text']).values[0]\n",
    "    df.loc[df.replyWhat==id, 'replyOrigReplyWhat']=(df.loc[df.id==id,'replyWhat']).values[0]\n",
    "    df.loc[df.replyWhat==id, 'replyOrigReplyWho']=(df.loc[df.id==id,'replyWho']).values[0]"
   ]
  },
  {
   "cell_type": "code",
   "execution_count": 177,
   "metadata": {},
   "outputs": [
    {
     "data": {
      "text/plain": [
       "10373"
      ]
     },
     "execution_count": 177,
     "metadata": {},
     "output_type": "execute_result"
    }
   ],
   "source": [
    "len((df[df.replyOrigTime!=0])"
   ]
  },
  {
   "cell_type": "markdown",
   "metadata": {},
   "source": [
    "10373 tweets replied to 9885 distinct tweets. So some originals had more than one reply"
   ]
  },
  {
   "cell_type": "code",
   "execution_count": 179,
   "metadata": {},
   "outputs": [
    {
     "data": {
      "text/plain": [
       "5272"
      ]
     },
     "execution_count": 179,
     "metadata": {},
     "output_type": "execute_result"
    }
   ],
   "source": [
    "len(df[df.replyOrigReplyWhat!=0])"
   ]
  },
  {
   "cell_type": "markdown",
   "metadata": {},
   "source": [
    "So more than half of tweets that were replied to are themselves replies"
   ]
  },
  {
   "cell_type": "code",
   "execution_count": 181,
   "metadata": {},
   "outputs": [
    {
     "data": {
      "text/plain": [
       "5973"
      ]
     },
     "execution_count": 181,
     "metadata": {},
     "output_type": "execute_result"
    }
   ],
   "source": [
    "len(df[(df.replyOrigReplyWho!=0)& (df.replyOrigReplyWho!='0')])"
   ]
  },
  {
   "cell_type": "markdown",
   "metadata": {
    "collapsed": true
   },
   "source": [
    "701 originals that are themselves replies have usernames but not tweets IDs? **Why?**"
   ]
  },
  {
   "cell_type": "code",
   "execution_count": 186,
   "metadata": {
    "scrolled": true
   },
   "outputs": [
    {
     "data": {
      "text/html": [
       "<div>\n",
       "<table border=\"1\" class=\"dataframe\">\n",
       "  <thead>\n",
       "    <tr style=\"text-align: right;\">\n",
       "      <th></th>\n",
       "      <th>id</th>\n",
       "      <th>username</th>\n",
       "      <th>user_id</th>\n",
       "      <th>geo_enabled</th>\n",
       "      <th>followCount</th>\n",
       "      <th>friendCount</th>\n",
       "      <th>faveCount</th>\n",
       "      <th>tweetCount</th>\n",
       "      <th>date</th>\n",
       "      <th>timing</th>\n",
       "      <th>...</th>\n",
       "      <th>has_media</th>\n",
       "      <th>urls</th>\n",
       "      <th>mentions</th>\n",
       "      <th>replyWho</th>\n",
       "      <th>replyWhat</th>\n",
       "      <th>text</th>\n",
       "      <th>replyOrigTime</th>\n",
       "      <th>replyOrigText</th>\n",
       "      <th>replyOrigReplyWhat</th>\n",
       "      <th>replyOrigReplyWho</th>\n",
       "    </tr>\n",
       "  </thead>\n",
       "  <tbody>\n",
       "    <tr>\n",
       "      <th>4802</th>\n",
       "      <td>256938585092157440</td>\n",
       "      <td>DanKloefflerABC</td>\n",
       "      <td>22239799</td>\n",
       "      <td>True</td>\n",
       "      <td>1174</td>\n",
       "      <td>634</td>\n",
       "      <td>8</td>\n",
       "      <td>1139</td>\n",
       "      <td>2012-10-13 02:05:07</td>\n",
       "      <td>before</td>\n",
       "      <td>...</td>\n",
       "      <td>False</td>\n",
       "      <td>[]</td>\n",
       "      <td>[u'LindseySnell']</td>\n",
       "      <td>LindseySnell</td>\n",
       "      <td>256931226965905408</td>\n",
       "      <td>@LindseySnell Thank you! But can I trade that ...</td>\n",
       "      <td>2012-10-13 01:35:52</td>\n",
       "      <td>@DanKloefflerABC I'm so proud of you!</td>\n",
       "      <td>0</td>\n",
       "      <td>DanKloefflerABC</td>\n",
       "    </tr>\n",
       "    <tr>\n",
       "      <th>8799</th>\n",
       "      <td>256971531786285057</td>\n",
       "      <td>DDougyy</td>\n",
       "      <td>26957356</td>\n",
       "      <td>False</td>\n",
       "      <td>546</td>\n",
       "      <td>494</td>\n",
       "      <td>100</td>\n",
       "      <td>20315</td>\n",
       "      <td>2012-10-13 04:16:02</td>\n",
       "      <td>before</td>\n",
       "      <td>...</td>\n",
       "      <td>False</td>\n",
       "      <td>[]</td>\n",
       "      <td>[u'Megglezzz', u'AlbanyDevils']</td>\n",
       "      <td>Megglezzz</td>\n",
       "      <td>256969224558362624</td>\n",
       "      <td>@Megglezzz @albanydevils I want this info too!</td>\n",
       "      <td>2012-10-13 04:06:52</td>\n",
       "      <td>@AlbanyDevils where can one watch/listen to to...</td>\n",
       "      <td>0</td>\n",
       "      <td>AlbanyDevils</td>\n",
       "    </tr>\n",
       "    <tr>\n",
       "      <th>13430</th>\n",
       "      <td>257086128446906368</td>\n",
       "      <td>terrymarley</td>\n",
       "      <td>24914924</td>\n",
       "      <td>True</td>\n",
       "      <td>584</td>\n",
       "      <td>676</td>\n",
       "      <td>36</td>\n",
       "      <td>5289</td>\n",
       "      <td>2012-10-13 11:51:24</td>\n",
       "      <td>before</td>\n",
       "      <td>...</td>\n",
       "      <td>False</td>\n",
       "      <td>[u'http://philadelphia.cbslocal.com/2012/10/12...</td>\n",
       "      <td>[u'DalilaRobin']</td>\n",
       "      <td>DalilaRobin</td>\n",
       "      <td>257083385405661184</td>\n",
       "      <td>@DalilaRobin Tell them this is CAPA Alumni wee...</td>\n",
       "      <td>2012-10-13 11:40:30</td>\n",
       "      <td>@terrymarley, I am beating the drum. You want ...</td>\n",
       "      <td>0</td>\n",
       "      <td>terrymarley</td>\n",
       "    </tr>\n",
       "    <tr>\n",
       "      <th>13457</th>\n",
       "      <td>257086614071816192</td>\n",
       "      <td>terrymarley</td>\n",
       "      <td>24914924</td>\n",
       "      <td>True</td>\n",
       "      <td>584</td>\n",
       "      <td>676</td>\n",
       "      <td>36</td>\n",
       "      <td>5289</td>\n",
       "      <td>2012-10-13 11:53:19</td>\n",
       "      <td>before</td>\n",
       "      <td>...</td>\n",
       "      <td>False</td>\n",
       "      <td>[]</td>\n",
       "      <td>[u'DalilaRobin']</td>\n",
       "      <td>DalilaRobin</td>\n",
       "      <td>257083385405661184</td>\n",
       "      <td>@DalilaRobin Please have a peaceful weekend an...</td>\n",
       "      <td>2012-10-13 11:40:30</td>\n",
       "      <td>@terrymarley, I am beating the drum. You want ...</td>\n",
       "      <td>0</td>\n",
       "      <td>terrymarley</td>\n",
       "    </tr>\n",
       "    <tr>\n",
       "      <th>23479</th>\n",
       "      <td>257180555429437440</td>\n",
       "      <td>PatPizzy</td>\n",
       "      <td>479270769</td>\n",
       "      <td>True</td>\n",
       "      <td>128</td>\n",
       "      <td>121</td>\n",
       "      <td>332</td>\n",
       "      <td>5942</td>\n",
       "      <td>2012-10-13 18:06:37</td>\n",
       "      <td>before</td>\n",
       "      <td>...</td>\n",
       "      <td>False</td>\n",
       "      <td>[]</td>\n",
       "      <td>[u'ADaza91']</td>\n",
       "      <td>ADaza91</td>\n",
       "      <td>257178830119243777</td>\n",
       "      <td>@ADaza91 Ighttttttt</td>\n",
       "      <td>2012-10-13 17:59:45</td>\n",
       "      <td>@PatPizzy  yo when u get a chance watch this h...</td>\n",
       "      <td>0</td>\n",
       "      <td>PatPizzy</td>\n",
       "    </tr>\n",
       "    <tr>\n",
       "      <th>28142</th>\n",
       "      <td>257220844181389312</td>\n",
       "      <td>FrankRamblings</td>\n",
       "      <td>16857622</td>\n",
       "      <td>True</td>\n",
       "      <td>9686</td>\n",
       "      <td>518</td>\n",
       "      <td>1816</td>\n",
       "      <td>88275</td>\n",
       "      <td>2012-10-13 20:46:42</td>\n",
       "      <td>before</td>\n",
       "      <td>...</td>\n",
       "      <td>False</td>\n",
       "      <td>[]</td>\n",
       "      <td>[u'MallorieRose']</td>\n",
       "      <td>MallorieRose</td>\n",
       "      <td>257217707152379905</td>\n",
       "      <td>@MallorieRose wow! Ill have to get it from you...</td>\n",
       "      <td>2012-10-13 20:34:14</td>\n",
       "      <td>@frankramblings homework already!</td>\n",
       "      <td>0</td>\n",
       "      <td>FrankRamblings</td>\n",
       "    </tr>\n",
       "    <tr>\n",
       "      <th>36937</th>\n",
       "      <td>257292202869391360</td>\n",
       "      <td>jhdemicco</td>\n",
       "      <td>9916742</td>\n",
       "      <td>True</td>\n",
       "      <td>429</td>\n",
       "      <td>417</td>\n",
       "      <td>8</td>\n",
       "      <td>486</td>\n",
       "      <td>2012-10-14 01:30:16</td>\n",
       "      <td>before</td>\n",
       "      <td>...</td>\n",
       "      <td>False</td>\n",
       "      <td>[]</td>\n",
       "      <td>[u'bjdu4', u'teresalabarbera']</td>\n",
       "      <td>bjdu4</td>\n",
       "      <td>257269414070722561</td>\n",
       "      <td>@bjdu4 @teresalabarbera You guys look great. C...</td>\n",
       "      <td>2012-10-13 23:59:42</td>\n",
       "      <td>@teresalabarbera purpling out at a dinner in h...</td>\n",
       "      <td>0</td>\n",
       "      <td>teresalabarbera</td>\n",
       "    </tr>\n",
       "    <tr>\n",
       "      <th>37376</th>\n",
       "      <td>257295437688614912</td>\n",
       "      <td>maryskribz</td>\n",
       "      <td>398707167</td>\n",
       "      <td>True</td>\n",
       "      <td>280</td>\n",
       "      <td>253</td>\n",
       "      <td>4574</td>\n",
       "      <td>6498</td>\n",
       "      <td>2012-10-14 01:43:07</td>\n",
       "      <td>before</td>\n",
       "      <td>...</td>\n",
       "      <td>False</td>\n",
       "      <td>[]</td>\n",
       "      <td>[]</td>\n",
       "      <td>tconleey</td>\n",
       "      <td>257295177146843137</td>\n",
       "      <td>@tomconl3y got in trouble so I went home :(</td>\n",
       "      <td>2012-10-14 01:42:05</td>\n",
       "      <td>@maryskribz Where are yew</td>\n",
       "      <td>0</td>\n",
       "      <td>maryskribz</td>\n",
       "    </tr>\n",
       "    <tr>\n",
       "      <th>39544</th>\n",
       "      <td>257310275651383296</td>\n",
       "      <td>SGottiR</td>\n",
       "      <td>187969481</td>\n",
       "      <td>True</td>\n",
       "      <td>131</td>\n",
       "      <td>249</td>\n",
       "      <td>519</td>\n",
       "      <td>8408</td>\n",
       "      <td>2012-10-14 02:42:04</td>\n",
       "      <td>before</td>\n",
       "      <td>...</td>\n",
       "      <td>False</td>\n",
       "      <td>[]</td>\n",
       "      <td>[u'SGottiR', u'alexrodriguezNY', u'NickSwisher...</td>\n",
       "      <td>SGottiR</td>\n",
       "      <td>257309882582192128</td>\n",
       "      <td>@SGottiR @alexrodriguezNY @NickSwisher @cgrand...</td>\n",
       "      <td>2012-10-14 02:40:31</td>\n",
       "      <td>@alexrodriguezNY @NickSwisher @cgrand14 @Robin...</td>\n",
       "      <td>0</td>\n",
       "      <td>alexrodriguezNY</td>\n",
       "    </tr>\n",
       "    <tr>\n",
       "      <th>39558</th>\n",
       "      <td>257310426839257090</td>\n",
       "      <td>SGottiR</td>\n",
       "      <td>187969481</td>\n",
       "      <td>True</td>\n",
       "      <td>131</td>\n",
       "      <td>249</td>\n",
       "      <td>519</td>\n",
       "      <td>8408</td>\n",
       "      <td>2012-10-14 02:42:41</td>\n",
       "      <td>before</td>\n",
       "      <td>...</td>\n",
       "      <td>False</td>\n",
       "      <td>[]</td>\n",
       "      <td>[u'SGottiR', u'alexrodriguezNY', u'NickSwisher...</td>\n",
       "      <td>SGottiR</td>\n",
       "      <td>257309882582192128</td>\n",
       "      <td>@SGottiR @alexrodriguezNY @NickSwisher @cgrand...</td>\n",
       "      <td>2012-10-14 02:40:31</td>\n",
       "      <td>@alexrodriguezNY @NickSwisher @cgrand14 @Robin...</td>\n",
       "      <td>0</td>\n",
       "      <td>alexrodriguezNY</td>\n",
       "    </tr>\n",
       "    <tr>\n",
       "      <th>47786</th>\n",
       "      <td>257418807356817408</td>\n",
       "      <td>VDtrio</td>\n",
       "      <td>44634656</td>\n",
       "      <td>True</td>\n",
       "      <td>456</td>\n",
       "      <td>904</td>\n",
       "      <td>177</td>\n",
       "      <td>2290</td>\n",
       "      <td>2012-10-14 09:53:20</td>\n",
       "      <td>before</td>\n",
       "      <td>...</td>\n",
       "      <td>False</td>\n",
       "      <td>[]</td>\n",
       "      <td>[u'MattyF410']</td>\n",
       "      <td>MattyF410</td>\n",
       "      <td>257418592692367360</td>\n",
       "      <td>@MattyF410 I got the boot from the college clu...</td>\n",
       "      <td>2012-10-14 09:52:29</td>\n",
       "      <td>@VDtrio take a Advil  and drink some water bef...</td>\n",
       "      <td>0</td>\n",
       "      <td>VDtrio</td>\n",
       "    </tr>\n",
       "    <tr>\n",
       "      <th>49295</th>\n",
       "      <td>257469195590172672</td>\n",
       "      <td>exit0jazzfest</td>\n",
       "      <td>615174732</td>\n",
       "      <td>True</td>\n",
       "      <td>487</td>\n",
       "      <td>708</td>\n",
       "      <td>17</td>\n",
       "      <td>1062</td>\n",
       "      <td>2012-10-14 13:13:34</td>\n",
       "      <td>before</td>\n",
       "      <td>...</td>\n",
       "      <td>False</td>\n",
       "      <td>[]</td>\n",
       "      <td>[u'CookeCapeMay', u'VisitCapeMay', u'ACPressTo...</td>\n",
       "      <td>CookeCapeMay</td>\n",
       "      <td>257460169007575040</td>\n",
       "      <td>@CookeCapeMay @visitcapemay @acpresstopnews gr...</td>\n",
       "      <td>2012-10-14 12:37:42</td>\n",
       "      <td>@VisitCapeMay Comeback? More like continued tr...</td>\n",
       "      <td>0</td>\n",
       "      <td>VisitCapeMay</td>\n",
       "    </tr>\n",
       "    <tr>\n",
       "      <th>60225</th>\n",
       "      <td>257554768212398080</td>\n",
       "      <td>TDaneNYC</td>\n",
       "      <td>249340194</td>\n",
       "      <td>True</td>\n",
       "      <td>5834</td>\n",
       "      <td>6453</td>\n",
       "      <td>305</td>\n",
       "      <td>3518</td>\n",
       "      <td>2012-10-14 18:53:36</td>\n",
       "      <td>before</td>\n",
       "      <td>...</td>\n",
       "      <td>False</td>\n",
       "      <td>[u'http://www.youtube.com/watch?v=wT8NO5FDS7E']</td>\n",
       "      <td>[u'TDaneNYC', u'claudiusraphael']</td>\n",
       "      <td>TDaneNYC</td>\n",
       "      <td>257300752580616194</td>\n",
       "      <td>@TDaneNYC @claudiusraphael Just say Hello Clau...</td>\n",
       "      <td>2012-10-14 02:04:14</td>\n",
       "      <td>@claudiusraphael wow you're not following me.....</td>\n",
       "      <td>0</td>\n",
       "      <td>claudiusraphael</td>\n",
       "    </tr>\n",
       "    <tr>\n",
       "      <th>67455</th>\n",
       "      <td>257604377118904320</td>\n",
       "      <td>TaraDoll629</td>\n",
       "      <td>629657102</td>\n",
       "      <td>True</td>\n",
       "      <td>52</td>\n",
       "      <td>207</td>\n",
       "      <td>1494</td>\n",
       "      <td>543</td>\n",
       "      <td>2012-10-14 22:10:44</td>\n",
       "      <td>before</td>\n",
       "      <td>...</td>\n",
       "      <td>False</td>\n",
       "      <td>[]</td>\n",
       "      <td>[u'TaraDoll629', u'NY_Comic_Con', u'LouFerrigno']</td>\n",
       "      <td>TaraDoll629</td>\n",
       "      <td>257602934190256130</td>\n",
       "      <td>@TaraDoll629 @NY_Comic_Con @LouFerrigno</td>\n",
       "      <td>2012-10-14 22:05:02</td>\n",
       "      <td>@NY_Comic_Con  I always wanted to meet the hul...</td>\n",
       "      <td>0</td>\n",
       "      <td>NY_Comic_Con</td>\n",
       "    </tr>\n",
       "    <tr>\n",
       "      <th>68015</th>\n",
       "      <td>257608090764079104</td>\n",
       "      <td>ECava</td>\n",
       "      <td>820394</td>\n",
       "      <td>False</td>\n",
       "      <td>6493</td>\n",
       "      <td>4260</td>\n",
       "      <td>3226</td>\n",
       "      <td>44934</td>\n",
       "      <td>2012-10-14 22:25:29</td>\n",
       "      <td>before</td>\n",
       "      <td>...</td>\n",
       "      <td>False</td>\n",
       "      <td>[]</td>\n",
       "      <td>[u'ThisGirlCanEat', u'RichardBlais', u'RachBar...</td>\n",
       "      <td>ThisGirlCanEat</td>\n",
       "      <td>257554660397830144</td>\n",
       "      <td>@ThisGirlCanEat @richardblais @rachbarb So goo...</td>\n",
       "      <td>2012-10-14 18:53:10</td>\n",
       "      <td>@richardblais #farmtotable #brunch #nycwff wit...</td>\n",
       "      <td>0</td>\n",
       "      <td>RichardBlais</td>\n",
       "    </tr>\n",
       "    <tr>\n",
       "      <th>69689</th>\n",
       "      <td>257618248697270274</td>\n",
       "      <td>jodimckee</td>\n",
       "      <td>14128866</td>\n",
       "      <td>True</td>\n",
       "      <td>523</td>\n",
       "      <td>668</td>\n",
       "      <td>1424</td>\n",
       "      <td>5826</td>\n",
       "      <td>2012-10-14 23:05:51</td>\n",
       "      <td>before</td>\n",
       "      <td>...</td>\n",
       "      <td>False</td>\n",
       "      <td>[]</td>\n",
       "      <td>[u'kellypurkey']</td>\n",
       "      <td>kellypurkey</td>\n",
       "      <td>257591785528889344</td>\n",
       "      <td>@kellypurkey so sweet!!</td>\n",
       "      <td>2012-10-14 21:20:42</td>\n",
       "      <td>@jodimckee have you seen this - do cute! http:...</td>\n",
       "      <td>0</td>\n",
       "      <td>jodimckee</td>\n",
       "    </tr>\n",
       "    <tr>\n",
       "      <th>73396</th>\n",
       "      <td>257640693806272512</td>\n",
       "      <td>iamamayzing</td>\n",
       "      <td>23371988</td>\n",
       "      <td>True</td>\n",
       "      <td>4092</td>\n",
       "      <td>621</td>\n",
       "      <td>1584</td>\n",
       "      <td>14422</td>\n",
       "      <td>2012-10-15 00:35:02</td>\n",
       "      <td>before</td>\n",
       "      <td>...</td>\n",
       "      <td>False</td>\n",
       "      <td>[]</td>\n",
       "      <td>[u'TheMiszuk', u'MikeNouveau']</td>\n",
       "      <td>TheMiszuk</td>\n",
       "      <td>257636630318424064</td>\n",
       "      <td>@TheMiszuk @mikenouveau for me??</td>\n",
       "      <td>2012-10-15 00:18:53</td>\n",
       "      <td>@mikenouveau it's crumble weather! http://t.co...</td>\n",
       "      <td>0</td>\n",
       "      <td>MikeNouveau</td>\n",
       "    </tr>\n",
       "    <tr>\n",
       "      <th>74412</th>\n",
       "      <td>257646549016920064</td>\n",
       "      <td>iamamayzing</td>\n",
       "      <td>23371988</td>\n",
       "      <td>True</td>\n",
       "      <td>4092</td>\n",
       "      <td>621</td>\n",
       "      <td>1584</td>\n",
       "      <td>14422</td>\n",
       "      <td>2012-10-15 00:58:18</td>\n",
       "      <td>before</td>\n",
       "      <td>...</td>\n",
       "      <td>False</td>\n",
       "      <td>[]</td>\n",
       "      <td>[u'TheMiszuk', u'MikeNouveau']</td>\n",
       "      <td>TheMiszuk</td>\n",
       "      <td>257644190169694209</td>\n",
       "      <td>@TheMiszuk @MikeNouveau i just had a pumpkin p...</td>\n",
       "      <td>2012-10-15 00:48:56</td>\n",
       "      <td>@mikenouveau @iamamayzing here we go! #fall ht...</td>\n",
       "      <td>0</td>\n",
       "      <td>MikeNouveau</td>\n",
       "    </tr>\n",
       "    <tr>\n",
       "      <th>82059</th>\n",
       "      <td>257689663857389568</td>\n",
       "      <td>cnimbelli</td>\n",
       "      <td>220439126</td>\n",
       "      <td>True</td>\n",
       "      <td>187</td>\n",
       "      <td>424</td>\n",
       "      <td>261</td>\n",
       "      <td>2885</td>\n",
       "      <td>2012-10-15 03:49:38</td>\n",
       "      <td>before</td>\n",
       "      <td>...</td>\n",
       "      <td>False</td>\n",
       "      <td>[]</td>\n",
       "      <td>[u'cnimbelli', u'McCainBlogette']</td>\n",
       "      <td>cnimbelli</td>\n",
       "      <td>257683124195045376</td>\n",
       "      <td>@cnimbelli @McCainBlogette my...that was suppo...</td>\n",
       "      <td>2012-10-15 03:23:38</td>\n",
       "      <td>@McCainBlogette be mary matalin?</td>\n",
       "      <td>0</td>\n",
       "      <td>MeghanMcCain</td>\n",
       "    </tr>\n",
       "    <tr>\n",
       "      <th>93264</th>\n",
       "      <td>257870702047268864</td>\n",
       "      <td>veesaidshesaid</td>\n",
       "      <td>126280749</td>\n",
       "      <td>True</td>\n",
       "      <td>347</td>\n",
       "      <td>273</td>\n",
       "      <td>510</td>\n",
       "      <td>5908</td>\n",
       "      <td>2012-10-15 15:49:01</td>\n",
       "      <td>before</td>\n",
       "      <td>...</td>\n",
       "      <td>False</td>\n",
       "      <td>[]</td>\n",
       "      <td>[u'teamoney']</td>\n",
       "      <td>teamoney</td>\n",
       "      <td>257847821309456384</td>\n",
       "      <td>@teamoney be back tomorrow!  MISH YOU!</td>\n",
       "      <td>2012-10-15 14:18:05</td>\n",
       "      <td>@veesaidshesaid come back! I miss you!</td>\n",
       "      <td>0</td>\n",
       "      <td>veesaidshesaid</td>\n",
       "    </tr>\n",
       "    <tr>\n",
       "      <th>93912</th>\n",
       "      <td>257875106469130240</td>\n",
       "      <td>merrybubbles</td>\n",
       "      <td>100500394</td>\n",
       "      <td>True</td>\n",
       "      <td>2588</td>\n",
       "      <td>2034</td>\n",
       "      <td>229</td>\n",
       "      <td>21978</td>\n",
       "      <td>2012-10-15 16:06:31</td>\n",
       "      <td>before</td>\n",
       "      <td>...</td>\n",
       "      <td>False</td>\n",
       "      <td>[]</td>\n",
       "      <td>[u'Jmodio']</td>\n",
       "      <td>Jmodio</td>\n",
       "      <td>257874039853432832</td>\n",
       "      <td>@jmodio Good so far. Are you coming, #pivotcon</td>\n",
       "      <td>2012-10-15 16:02:16</td>\n",
       "      <td>@merrybubbles How's #pivotcon?</td>\n",
       "      <td>0</td>\n",
       "      <td>merrybubbles</td>\n",
       "    </tr>\n",
       "    <tr>\n",
       "      <th>96470</th>\n",
       "      <td>257894736344543232</td>\n",
       "      <td>allahjust</td>\n",
       "      <td>720917438</td>\n",
       "      <td>True</td>\n",
       "      <td>35</td>\n",
       "      <td>16</td>\n",
       "      <td>104</td>\n",
       "      <td>837</td>\n",
       "      <td>2012-10-15 17:24:31</td>\n",
       "      <td>before</td>\n",
       "      <td>...</td>\n",
       "      <td>False</td>\n",
       "      <td>[]</td>\n",
       "      <td>[u'allahjust', u'RisingPhoenix48']</td>\n",
       "      <td>allahjust</td>\n",
       "      <td>257867898062794752</td>\n",
       "      <td>@allahjust @RisingPhoenix48 islam i an get my ...</td>\n",
       "      <td>2012-10-15 15:37:52</td>\n",
       "      <td>@RisingPhoenix48 islam having problems with t-...</td>\n",
       "      <td>0</td>\n",
       "      <td>RisingPhoenix48</td>\n",
       "    </tr>\n",
       "    <tr>\n",
       "      <th>103068</th>\n",
       "      <td>257944437722845186</td>\n",
       "      <td>MMAMeg</td>\n",
       "      <td>295312101</td>\n",
       "      <td>True</td>\n",
       "      <td>459</td>\n",
       "      <td>864</td>\n",
       "      <td>116</td>\n",
       "      <td>1947</td>\n",
       "      <td>2012-10-15 20:42:00</td>\n",
       "      <td>before</td>\n",
       "      <td>...</td>\n",
       "      <td>False</td>\n",
       "      <td>[]</td>\n",
       "      <td>[u'MMAMeg', u'DavidBeckworth']</td>\n",
       "      <td>MMAMeg</td>\n",
       "      <td>257467933821923330</td>\n",
       "      <td>@MMAMeg @davidbeckworth :-) you, Lars and a sp...</td>\n",
       "      <td>2012-10-14 13:08:33</td>\n",
       "      <td>@DavidBeckworth Market Monetarism for Presiden...</td>\n",
       "      <td>0</td>\n",
       "      <td>DavidBeckworth</td>\n",
       "    </tr>\n",
       "    <tr>\n",
       "      <th>119929</th>\n",
       "      <td>258050223941746691</td>\n",
       "      <td>cdessi</td>\n",
       "      <td>13832882</td>\n",
       "      <td>True</td>\n",
       "      <td>15675</td>\n",
       "      <td>8497</td>\n",
       "      <td>17</td>\n",
       "      <td>10583</td>\n",
       "      <td>2012-10-16 03:42:22</td>\n",
       "      <td>before</td>\n",
       "      <td>...</td>\n",
       "      <td>False</td>\n",
       "      <td>[]</td>\n",
       "      <td>[u'NatashaChef']</td>\n",
       "      <td>NatashaChef</td>\n",
       "      <td>257996272693305344</td>\n",
       "      <td>@NatashaChef thank you - happy you enjoyed! Lo...</td>\n",
       "      <td>2012-10-16 00:07:59</td>\n",
       "      <td>@cdessi Great social media lecture tonight. Am...</td>\n",
       "      <td>0</td>\n",
       "      <td>cdessi</td>\n",
       "    </tr>\n",
       "    <tr>\n",
       "      <th>122847</th>\n",
       "      <td>258082106108956672</td>\n",
       "      <td>Littlebethell</td>\n",
       "      <td>23076978</td>\n",
       "      <td>True</td>\n",
       "      <td>95</td>\n",
       "      <td>96</td>\n",
       "      <td>239</td>\n",
       "      <td>1620</td>\n",
       "      <td>2012-10-16 05:49:03</td>\n",
       "      <td>before</td>\n",
       "      <td>...</td>\n",
       "      <td>False</td>\n",
       "      <td>[]</td>\n",
       "      <td>[u'Littlebethell', u'vinnydproject', u'greensk...</td>\n",
       "      <td>Littlebethell</td>\n",
       "      <td>258081909576433665</td>\n",
       "      <td>@Littlebethell @vinnydproject @greenskulls21 @...</td>\n",
       "      <td>2012-10-16 05:48:16</td>\n",
       "      <td>@vinnydproject @greenskulls21 @romarykearins @...</td>\n",
       "      <td>0</td>\n",
       "      <td>vinnydproject</td>\n",
       "    </tr>\n",
       "    <tr>\n",
       "      <th>128450</th>\n",
       "      <td>258201318592761856</td>\n",
       "      <td>TWC_NYNJ</td>\n",
       "      <td>121165704</td>\n",
       "      <td>True</td>\n",
       "      <td>7286</td>\n",
       "      <td>305</td>\n",
       "      <td>22</td>\n",
       "      <td>7355</td>\n",
       "      <td>2012-10-16 13:42:46</td>\n",
       "      <td>before</td>\n",
       "      <td>...</td>\n",
       "      <td>False</td>\n",
       "      <td>[u'https://myservices.timewarnercable.com/']</td>\n",
       "      <td>[u'rjgoldsborough']</td>\n",
       "      <td>rjgoldsborough</td>\n",
       "      <td>258189427543769091</td>\n",
       "      <td>@rjgoldsborough Try this link https://t.co/5Tp...</td>\n",
       "      <td>2012-10-16 12:55:31</td>\n",
       "      <td>@TWCable_NYC http://t.co/sX6IZYgd down?</td>\n",
       "      <td>0</td>\n",
       "      <td>TWC_NYNJ</td>\n",
       "    </tr>\n",
       "    <tr>\n",
       "      <th>134225</th>\n",
       "      <td>258241213277302785</td>\n",
       "      <td>filmfresser</td>\n",
       "      <td>275746407</td>\n",
       "      <td>True</td>\n",
       "      <td>1260</td>\n",
       "      <td>1540</td>\n",
       "      <td>757</td>\n",
       "      <td>6725</td>\n",
       "      <td>2012-10-16 16:21:17</td>\n",
       "      <td>before</td>\n",
       "      <td>...</td>\n",
       "      <td>False</td>\n",
       "      <td>[]</td>\n",
       "      <td>[u'LindseyM_8', u'milktrucknyc']</td>\n",
       "      <td>LindseyM_8</td>\n",
       "      <td>258239025100517377</td>\n",
       "      <td>@LindseyM_8 @milktrucknyc now on a mission. #k...</td>\n",
       "      <td>2012-10-16 16:12:36</td>\n",
       "      <td>@filmfresser there is also @milktrucknyc and i...</td>\n",
       "      <td>0</td>\n",
       "      <td>filmfresser</td>\n",
       "    </tr>\n",
       "    <tr>\n",
       "      <th>138174</th>\n",
       "      <td>258267806020288512</td>\n",
       "      <td>allahjust</td>\n",
       "      <td>720917438</td>\n",
       "      <td>True</td>\n",
       "      <td>35</td>\n",
       "      <td>16</td>\n",
       "      <td>104</td>\n",
       "      <td>837</td>\n",
       "      <td>2012-10-16 18:06:57</td>\n",
       "      <td>before</td>\n",
       "      <td>...</td>\n",
       "      <td>False</td>\n",
       "      <td>[]</td>\n",
       "      <td>[u'allahjust', u'TheRevAl']</td>\n",
       "      <td>allahjust</td>\n",
       "      <td>258216721318551552</td>\n",
       "      <td>@allahjust @TheRevAl  what ever ben ammi ben i...</td>\n",
       "      <td>2012-10-16 14:43:58</td>\n",
       "      <td>@TheRevAl @allahjust are you readyto go throu ...</td>\n",
       "      <td>0</td>\n",
       "      <td>TheRevAl</td>\n",
       "    </tr>\n",
       "    <tr>\n",
       "      <th>141877</th>\n",
       "      <td>258292786137284608</td>\n",
       "      <td>jdenivo</td>\n",
       "      <td>38422492</td>\n",
       "      <td>True</td>\n",
       "      <td>43</td>\n",
       "      <td>162</td>\n",
       "      <td>1</td>\n",
       "      <td>529</td>\n",
       "      <td>2012-10-16 19:46:13</td>\n",
       "      <td>before</td>\n",
       "      <td>...</td>\n",
       "      <td>False</td>\n",
       "      <td>[]</td>\n",
       "      <td>[u'jdenivo', u'villadh']</td>\n",
       "      <td>jdenivo</td>\n",
       "      <td>258281136424370176</td>\n",
       "      <td>@jdenivo @villadh how about a #FF giveaway?  #...</td>\n",
       "      <td>2012-10-16 18:59:56</td>\n",
       "      <td>@villadh #hashtag is too long. #WhatHappensInT...</td>\n",
       "      <td>0</td>\n",
       "      <td>villadh</td>\n",
       "    </tr>\n",
       "    <tr>\n",
       "      <th>150974</th>\n",
       "      <td>258351513536167936</td>\n",
       "      <td>arojass</td>\n",
       "      <td>9626672</td>\n",
       "      <td>True</td>\n",
       "      <td>520</td>\n",
       "      <td>1207</td>\n",
       "      <td>1058</td>\n",
       "      <td>7974</td>\n",
       "      <td>2012-10-16 23:39:35</td>\n",
       "      <td>before</td>\n",
       "      <td>...</td>\n",
       "      <td>False</td>\n",
       "      <td>[]</td>\n",
       "      <td>[u'MariaJesusV']</td>\n",
       "      <td>MariaJesusV</td>\n",
       "      <td>258299393210449920</td>\n",
       "      <td>@MariaJesusV O_o no se si reirme o no...</td>\n",
       "      <td>2012-10-16 20:12:28</td>\n",
       "      <td>@arojass  mira lo que me pregnuta Klout!: Is A...</td>\n",
       "      <td>0</td>\n",
       "      <td>arojass</td>\n",
       "    </tr>\n",
       "    <tr>\n",
       "      <th>...</th>\n",
       "      <td>...</td>\n",
       "      <td>...</td>\n",
       "      <td>...</td>\n",
       "      <td>...</td>\n",
       "      <td>...</td>\n",
       "      <td>...</td>\n",
       "      <td>...</td>\n",
       "      <td>...</td>\n",
       "      <td>...</td>\n",
       "      <td>...</td>\n",
       "      <td>...</td>\n",
       "      <td>...</td>\n",
       "      <td>...</td>\n",
       "      <td>...</td>\n",
       "      <td>...</td>\n",
       "      <td>...</td>\n",
       "      <td>...</td>\n",
       "      <td>...</td>\n",
       "      <td>...</td>\n",
       "      <td>...</td>\n",
       "      <td>...</td>\n",
       "    </tr>\n",
       "    <tr>\n",
       "      <th>2437764</th>\n",
       "      <td>273941814694776833</td>\n",
       "      <td>ARwestbayBWI</td>\n",
       "      <td>115122667</td>\n",
       "      <td>True</td>\n",
       "      <td>359</td>\n",
       "      <td>2006</td>\n",
       "      <td>164</td>\n",
       "      <td>10467</td>\n",
       "      <td>2012-11-29 00:09:52</td>\n",
       "      <td>after</td>\n",
       "      <td>...</td>\n",
       "      <td>False</td>\n",
       "      <td>[]</td>\n",
       "      <td>[u'ARwestbayBWI', u'aots']</td>\n",
       "      <td>ARwestbayBWI</td>\n",
       "      <td>273941127617445888</td>\n",
       "      <td>@ARwestbayBWI @aots Bailey looking hot.</td>\n",
       "      <td>2012-11-29 00:07:09</td>\n",
       "      <td>@aots Candace Bailey in the house :)</td>\n",
       "      <td>0</td>\n",
       "      <td>aots</td>\n",
       "    </tr>\n",
       "    <tr>\n",
       "      <th>2439210</th>\n",
       "      <td>273948719731310592</td>\n",
       "      <td>codyy_8</td>\n",
       "      <td>883534292</td>\n",
       "      <td>True</td>\n",
       "      <td>222</td>\n",
       "      <td>212</td>\n",
       "      <td>2165</td>\n",
       "      <td>1734</td>\n",
       "      <td>2012-11-29 00:37:19</td>\n",
       "      <td>after</td>\n",
       "      <td>...</td>\n",
       "      <td>False</td>\n",
       "      <td>[]</td>\n",
       "      <td>[u'codyy_8', u'aaronglickstein']</td>\n",
       "      <td>codyy_8</td>\n",
       "      <td>273948597614178304</td>\n",
       "      <td>@codyy_8 @aaronglickstein retweet*</td>\n",
       "      <td>2012-11-29 00:36:50</td>\n",
       "      <td>@aaronglickstein explain my last tweet...</td>\n",
       "      <td>0</td>\n",
       "      <td>aaronglickstein</td>\n",
       "    </tr>\n",
       "    <tr>\n",
       "      <th>2445511</th>\n",
       "      <td>273975433232519168</td>\n",
       "      <td>jetsfan25894</td>\n",
       "      <td>342985553</td>\n",
       "      <td>True</td>\n",
       "      <td>5</td>\n",
       "      <td>15</td>\n",
       "      <td>2</td>\n",
       "      <td>239</td>\n",
       "      <td>2012-11-29 02:23:28</td>\n",
       "      <td>after</td>\n",
       "      <td>...</td>\n",
       "      <td>False</td>\n",
       "      <td>[]</td>\n",
       "      <td>[u'jetsfan25894', u'Incarceratedbob']</td>\n",
       "      <td>jetsfan25894</td>\n",
       "      <td>273974772755476480</td>\n",
       "      <td>@jetsfan25894 @incarceratedbob thought i saw f...</td>\n",
       "      <td>2012-11-29 02:20:50</td>\n",
       "      <td>@incarceratedbob Brooklyn refusing to get robb...</td>\n",
       "      <td>0</td>\n",
       "      <td>Incarceratedbob</td>\n",
       "    </tr>\n",
       "    <tr>\n",
       "      <th>2446066</th>\n",
       "      <td>273977539477794816</td>\n",
       "      <td>DrDiva82</td>\n",
       "      <td>68291288</td>\n",
       "      <td>True</td>\n",
       "      <td>870</td>\n",
       "      <td>1202</td>\n",
       "      <td>55</td>\n",
       "      <td>10881</td>\n",
       "      <td>2012-11-29 02:31:50</td>\n",
       "      <td>after</td>\n",
       "      <td>...</td>\n",
       "      <td>False</td>\n",
       "      <td>[]</td>\n",
       "      <td>[u'DrDiva82', u'maddow', u'theosmelek', u'Gott...</td>\n",
       "      <td>DrDiva82</td>\n",
       "      <td>273976676315189249</td>\n",
       "      <td>@DrDiva82 @maddow @theosmelek @GottaLaff @npba...</td>\n",
       "      <td>2012-11-29 02:28:24</td>\n",
       "      <td>@maddow @theosmelek @GottaLaff @npbat I concur...</td>\n",
       "      <td>0</td>\n",
       "      <td>maddow</td>\n",
       "    </tr>\n",
       "    <tr>\n",
       "      <th>2449915</th>\n",
       "      <td>273991373118644224</td>\n",
       "      <td>ARwestbayBWI</td>\n",
       "      <td>115122667</td>\n",
       "      <td>True</td>\n",
       "      <td>359</td>\n",
       "      <td>2006</td>\n",
       "      <td>164</td>\n",
       "      <td>10467</td>\n",
       "      <td>2012-11-29 03:26:48</td>\n",
       "      <td>after</td>\n",
       "      <td>...</td>\n",
       "      <td>False</td>\n",
       "      <td>[]</td>\n",
       "      <td>[u'ARwestbayBWI', u'Lawrence']</td>\n",
       "      <td>ARwestbayBWI</td>\n",
       "      <td>273988188593348609</td>\n",
       "      <td>@ARwestbayBWI @Lawrence #thelastword Norquist ...</td>\n",
       "      <td>2012-11-29 03:14:09</td>\n",
       "      <td>@Lawrence  #thelastword We need compromise fro...</td>\n",
       "      <td>0</td>\n",
       "      <td>Lawrence</td>\n",
       "    </tr>\n",
       "    <tr>\n",
       "      <th>2455896</th>\n",
       "      <td>274021775690592256</td>\n",
       "      <td>adriennebyard</td>\n",
       "      <td>31521860</td>\n",
       "      <td>True</td>\n",
       "      <td>810</td>\n",
       "      <td>546</td>\n",
       "      <td>135</td>\n",
       "      <td>11357</td>\n",
       "      <td>2012-11-29 05:27:37</td>\n",
       "      <td>after</td>\n",
       "      <td>...</td>\n",
       "      <td>False</td>\n",
       "      <td>[]</td>\n",
       "      <td>[u'blqwaah']</td>\n",
       "      <td>blqwaah</td>\n",
       "      <td>274015193045020672</td>\n",
       "      <td>@blqwaah I'm at home :( been here all day.</td>\n",
       "      <td>2012-11-29 05:01:27</td>\n",
       "      <td>@adriennebyard laser rainbow. west village, ov...</td>\n",
       "      <td>0</td>\n",
       "      <td>adriennebyard</td>\n",
       "    </tr>\n",
       "    <tr>\n",
       "      <th>2456561</th>\n",
       "      <td>274027973852672000</td>\n",
       "      <td>Rah_UniQue</td>\n",
       "      <td>167650848</td>\n",
       "      <td>True</td>\n",
       "      <td>126</td>\n",
       "      <td>1081</td>\n",
       "      <td>538</td>\n",
       "      <td>23103</td>\n",
       "      <td>2012-11-29 05:52:14</td>\n",
       "      <td>after</td>\n",
       "      <td>...</td>\n",
       "      <td>False</td>\n",
       "      <td>[]</td>\n",
       "      <td>[u'Rah_UniQue']</td>\n",
       "      <td>Rah_UniQue</td>\n",
       "      <td>274027772005998592</td>\n",
       "      <td>@Rah_UniQue \" I drop book \" lol \" rah hulk, sm...</td>\n",
       "      <td>2012-11-29 05:51:26</td>\n",
       "      <td>@PullPilePodcast Victoria Hand was a lesbian? ...</td>\n",
       "      <td>0</td>\n",
       "      <td>PullPilePodcast</td>\n",
       "    </tr>\n",
       "    <tr>\n",
       "      <th>2468398</th>\n",
       "      <td>274187419237113859</td>\n",
       "      <td>htmiguel</td>\n",
       "      <td>6344992</td>\n",
       "      <td>True</td>\n",
       "      <td>832</td>\n",
       "      <td>136</td>\n",
       "      <td>1081</td>\n",
       "      <td>2874</td>\n",
       "      <td>2012-11-29 16:25:49</td>\n",
       "      <td>after</td>\n",
       "      <td>...</td>\n",
       "      <td>False</td>\n",
       "      <td>[]</td>\n",
       "      <td>[u'SamRoberts456', u'wesleyverhoeve', u'theres...</td>\n",
       "      <td>SamRoberts456</td>\n",
       "      <td>274158988818518017</td>\n",
       "      <td>@SamRoberts456 @wesleyverhoeve that's awesome ...</td>\n",
       "      <td>2012-11-29 14:32:51</td>\n",
       "      <td>@wesleyverhoeve Thanks for giving me the heads...</td>\n",
       "      <td>0</td>\n",
       "      <td>wesleyverhoeve</td>\n",
       "    </tr>\n",
       "    <tr>\n",
       "      <th>2469664</th>\n",
       "      <td>274195493150670848</td>\n",
       "      <td>monsterphotoiso</td>\n",
       "      <td>20892719</td>\n",
       "      <td>True</td>\n",
       "      <td>615</td>\n",
       "      <td>894</td>\n",
       "      <td>184</td>\n",
       "      <td>4527</td>\n",
       "      <td>2012-11-29 16:57:54</td>\n",
       "      <td>after</td>\n",
       "      <td>...</td>\n",
       "      <td>False</td>\n",
       "      <td>[]</td>\n",
       "      <td>[u'ArtemAltman', u'worklifereward']</td>\n",
       "      <td>ArtemAltman</td>\n",
       "      <td>274195097636179968</td>\n",
       "      <td>@ArtemAltman No Problem, We both was mentioned...</td>\n",
       "      <td>2012-11-29 16:56:20</td>\n",
       "      <td>@monsterphotoiso Hey! Thanks for the follow! W...</td>\n",
       "      <td>0</td>\n",
       "      <td>monsterphotoiso</td>\n",
       "    </tr>\n",
       "    <tr>\n",
       "      <th>2471180</th>\n",
       "      <td>274205076850102272</td>\n",
       "      <td>sammers133</td>\n",
       "      <td>28844809</td>\n",
       "      <td>True</td>\n",
       "      <td>255</td>\n",
       "      <td>356</td>\n",
       "      <td>5</td>\n",
       "      <td>2398</td>\n",
       "      <td>2012-11-29 17:35:59</td>\n",
       "      <td>after</td>\n",
       "      <td>...</td>\n",
       "      <td>False</td>\n",
       "      <td>[]</td>\n",
       "      <td>[u'nycsloane', u'devour', u'BreakMedia']</td>\n",
       "      <td>nycsloane</td>\n",
       "      <td>274203698241089536</td>\n",
       "      <td>@nycsloane @devour HAHA. I saw this a few days...</td>\n",
       "      <td>2012-11-29 17:30:30</td>\n",
       "      <td>@sammers133 more pranks: Terrifying Elevator P...</td>\n",
       "      <td>0</td>\n",
       "      <td>sammers133</td>\n",
       "    </tr>\n",
       "    <tr>\n",
       "      <th>2473545</th>\n",
       "      <td>274220336902455296</td>\n",
       "      <td>LeMichaelAngelo</td>\n",
       "      <td>45073357</td>\n",
       "      <td>True</td>\n",
       "      <td>1035</td>\n",
       "      <td>919</td>\n",
       "      <td>97</td>\n",
       "      <td>12882</td>\n",
       "      <td>2012-11-29 18:36:37</td>\n",
       "      <td>after</td>\n",
       "      <td>...</td>\n",
       "      <td>False</td>\n",
       "      <td>[]</td>\n",
       "      <td>[u'PapiitoIdance']</td>\n",
       "      <td>PapiitoIdance</td>\n",
       "      <td>274220028189110272</td>\n",
       "      <td>@PapiitoIdance looks like hes headed to the pr...</td>\n",
       "      <td>2012-11-29 18:35:24</td>\n",
       "      <td>@LeMichaelAngelo Michael stop trying make fetc...</td>\n",
       "      <td>0</td>\n",
       "      <td>LeMichaelAngelo</td>\n",
       "    </tr>\n",
       "    <tr>\n",
       "      <th>2475135</th>\n",
       "      <td>274230045650845696</td>\n",
       "      <td>PaulEWalsh</td>\n",
       "      <td>16997090</td>\n",
       "      <td>True</td>\n",
       "      <td>1325</td>\n",
       "      <td>287</td>\n",
       "      <td>178</td>\n",
       "      <td>6254</td>\n",
       "      <td>2012-11-29 19:15:12</td>\n",
       "      <td>after</td>\n",
       "      <td>...</td>\n",
       "      <td>False</td>\n",
       "      <td>[]</td>\n",
       "      <td>[u'abrackin']</td>\n",
       "      <td>abrackin</td>\n",
       "      <td>274202940321976320</td>\n",
       "      <td>@abrackin ,0)</td>\n",
       "      <td>2012-11-29 17:27:30</td>\n",
       "      <td>@PaulEWalsh You are cracking me up with your t...</td>\n",
       "      <td>0</td>\n",
       "      <td>PaulEWalsh</td>\n",
       "    </tr>\n",
       "    <tr>\n",
       "      <th>2477082</th>\n",
       "      <td>274242336215662592</td>\n",
       "      <td>EsWookieGrande</td>\n",
       "      <td>21838230</td>\n",
       "      <td>True</td>\n",
       "      <td>373</td>\n",
       "      <td>663</td>\n",
       "      <td>17</td>\n",
       "      <td>11134</td>\n",
       "      <td>2012-11-29 20:04:02</td>\n",
       "      <td>after</td>\n",
       "      <td>...</td>\n",
       "      <td>False</td>\n",
       "      <td>[]</td>\n",
       "      <td>[u'sfDOOM', u'killsteenkill']</td>\n",
       "      <td>sfDOOM</td>\n",
       "      <td>274231931464466432</td>\n",
       "      <td>@sfDOOM @KILLSTEENKILL - Jim Cornett is terrif...</td>\n",
       "      <td>2012-11-29 19:22:42</td>\n",
       "      <td>@esWookieGrande Let's get drunk and watch @KIL...</td>\n",
       "      <td>0</td>\n",
       "      <td>EsWookieGrande</td>\n",
       "    </tr>\n",
       "    <tr>\n",
       "      <th>2487401</th>\n",
       "      <td>274303808660701184</td>\n",
       "      <td>Ahhhbreee</td>\n",
       "      <td>45751594</td>\n",
       "      <td>True</td>\n",
       "      <td>221</td>\n",
       "      <td>367</td>\n",
       "      <td>475</td>\n",
       "      <td>3376</td>\n",
       "      <td>2012-11-30 00:08:19</td>\n",
       "      <td>after</td>\n",
       "      <td>...</td>\n",
       "      <td>True</td>\n",
       "      <td>[]</td>\n",
       "      <td>[u'its_aubrey', u'dearterah']</td>\n",
       "      <td>Ahhhbreee</td>\n",
       "      <td>274302058398621696</td>\n",
       "      <td>@Its_Aubrey @dearterah http://t.co/FLaJzuPE</td>\n",
       "      <td>2012-11-30 00:01:21</td>\n",
       "      <td>@dearterah Twiinz. Like us, and like our babie...</td>\n",
       "      <td>0</td>\n",
       "      <td>dearterah</td>\n",
       "    </tr>\n",
       "    <tr>\n",
       "      <th>2490520</th>\n",
       "      <td>274320751925014528</td>\n",
       "      <td>jesselamb</td>\n",
       "      <td>20000181</td>\n",
       "      <td>True</td>\n",
       "      <td>1162</td>\n",
       "      <td>315</td>\n",
       "      <td>806</td>\n",
       "      <td>11698</td>\n",
       "      <td>2012-11-30 01:15:38</td>\n",
       "      <td>after</td>\n",
       "      <td>...</td>\n",
       "      <td>False</td>\n",
       "      <td>[]</td>\n",
       "      <td>[u'tonybgoode', u'jwegener', u'Alex_Godin']</td>\n",
       "      <td>tonybgoode</td>\n",
       "      <td>274320626741813248</td>\n",
       "      <td>@tonybgoode @jwegener @Alex_Godin I am. On a c...</td>\n",
       "      <td>2012-11-30 01:15:08</td>\n",
       "      <td>@jwegener @jesselamb @alex_godin Are you guys ...</td>\n",
       "      <td>0</td>\n",
       "      <td>jwegener</td>\n",
       "    </tr>\n",
       "    <tr>\n",
       "      <th>2492270</th>\n",
       "      <td>274328508866646016</td>\n",
       "      <td>jesselamb</td>\n",
       "      <td>20000181</td>\n",
       "      <td>True</td>\n",
       "      <td>1162</td>\n",
       "      <td>315</td>\n",
       "      <td>806</td>\n",
       "      <td>11698</td>\n",
       "      <td>2012-11-30 01:46:27</td>\n",
       "      <td>after</td>\n",
       "      <td>...</td>\n",
       "      <td>False</td>\n",
       "      <td>[]</td>\n",
       "      <td>[u'tonybgoode', u'jwegener', u'Alex_Godin']</td>\n",
       "      <td>tonybgoode</td>\n",
       "      <td>274320626741813248</td>\n",
       "      <td>@tonybgoode @jwegener @Alex_Godin gonna run la...</td>\n",
       "      <td>2012-11-30 01:15:08</td>\n",
       "      <td>@jwegener @jesselamb @alex_godin Are you guys ...</td>\n",
       "      <td>0</td>\n",
       "      <td>jwegener</td>\n",
       "    </tr>\n",
       "    <tr>\n",
       "      <th>2492696</th>\n",
       "      <td>274330368914636800</td>\n",
       "      <td>justinstoned</td>\n",
       "      <td>187396018</td>\n",
       "      <td>True</td>\n",
       "      <td>2820</td>\n",
       "      <td>2148</td>\n",
       "      <td>2033</td>\n",
       "      <td>40535</td>\n",
       "      <td>2012-11-30 01:53:51</td>\n",
       "      <td>after</td>\n",
       "      <td>...</td>\n",
       "      <td>False</td>\n",
       "      <td>[]</td>\n",
       "      <td>[u'CarrieM213']</td>\n",
       "      <td>OSWarehouse</td>\n",
       "      <td>274312916948377601</td>\n",
       "      <td>I totally #uptwinkle that @520ClintonOS @Carri...</td>\n",
       "      <td>2012-11-30 00:44:30</td>\n",
       "      <td>@CarrieM213 520 Clinton needs your Social Medi...</td>\n",
       "      <td>0</td>\n",
       "      <td>CarrieM213</td>\n",
       "    </tr>\n",
       "    <tr>\n",
       "      <th>2494462</th>\n",
       "      <td>274338313907863552</td>\n",
       "      <td>rastafanahy</td>\n",
       "      <td>47939392</td>\n",
       "      <td>True</td>\n",
       "      <td>57</td>\n",
       "      <td>240</td>\n",
       "      <td>128</td>\n",
       "      <td>1509</td>\n",
       "      <td>2012-11-30 02:25:25</td>\n",
       "      <td>after</td>\n",
       "      <td>...</td>\n",
       "      <td>False</td>\n",
       "      <td>[]</td>\n",
       "      <td>[u'rastafanahy', u'BarackObama', u'MittRomney'...</td>\n",
       "      <td>rastafanahy</td>\n",
       "      <td>274300390391046144</td>\n",
       "      <td>@rastafanahy @barackobama @mittromney @NathanH...</td>\n",
       "      <td>2012-11-29 23:54:43</td>\n",
       "      <td>@BarackObama to @mittromney: call me maybe!</td>\n",
       "      <td>0</td>\n",
       "      <td>BarackObama</td>\n",
       "    </tr>\n",
       "    <tr>\n",
       "      <th>2494646</th>\n",
       "      <td>274339111148593152</td>\n",
       "      <td>praptism</td>\n",
       "      <td>41053367</td>\n",
       "      <td>False</td>\n",
       "      <td>368</td>\n",
       "      <td>480</td>\n",
       "      <td>456</td>\n",
       "      <td>7642</td>\n",
       "      <td>2012-11-30 02:28:35</td>\n",
       "      <td>after</td>\n",
       "      <td>...</td>\n",
       "      <td>False</td>\n",
       "      <td>[]</td>\n",
       "      <td>[u'standingidlyby']</td>\n",
       "      <td>standingidlyby</td>\n",
       "      <td>274338577305980928</td>\n",
       "      <td>@standingidlyby I feel you. You will get to re...</td>\n",
       "      <td>2012-11-30 02:26:28</td>\n",
       "      <td>@praptism I'm exhausted...</td>\n",
       "      <td>0</td>\n",
       "      <td>praptism</td>\n",
       "    </tr>\n",
       "    <tr>\n",
       "      <th>2494831</th>\n",
       "      <td>274339866395938816</td>\n",
       "      <td>praptism</td>\n",
       "      <td>41053367</td>\n",
       "      <td>False</td>\n",
       "      <td>368</td>\n",
       "      <td>480</td>\n",
       "      <td>456</td>\n",
       "      <td>7642</td>\n",
       "      <td>2012-11-30 02:31:35</td>\n",
       "      <td>after</td>\n",
       "      <td>...</td>\n",
       "      <td>False</td>\n",
       "      <td>[]</td>\n",
       "      <td>[u'standingidlyby', u'rahulstwoscents']</td>\n",
       "      <td>standingidlyby</td>\n",
       "      <td>274339399561510912</td>\n",
       "      <td>@standingidlyby @rahulstwoscents Lol. Someone ...</td>\n",
       "      <td>2012-11-30 02:29:44</td>\n",
       "      <td>@rahulstwoscents @praptism as opposed to an ol...</td>\n",
       "      <td>0</td>\n",
       "      <td>rahulstwoscents</td>\n",
       "    </tr>\n",
       "    <tr>\n",
       "      <th>2494884</th>\n",
       "      <td>274340126593794048</td>\n",
       "      <td>rahulstwoscents</td>\n",
       "      <td>369873370</td>\n",
       "      <td>True</td>\n",
       "      <td>205</td>\n",
       "      <td>679</td>\n",
       "      <td>72</td>\n",
       "      <td>4958</td>\n",
       "      <td>2012-11-30 02:32:37</td>\n",
       "      <td>after</td>\n",
       "      <td>...</td>\n",
       "      <td>False</td>\n",
       "      <td>[]</td>\n",
       "      <td>[u'standingidlyby', u'praptism']</td>\n",
       "      <td>standingidlyby</td>\n",
       "      <td>274339399561510912</td>\n",
       "      <td>@standingidlyby Clearly he didn't, @praptism. ...</td>\n",
       "      <td>2012-11-30 02:29:44</td>\n",
       "      <td>@rahulstwoscents @praptism as opposed to an ol...</td>\n",
       "      <td>0</td>\n",
       "      <td>rahulstwoscents</td>\n",
       "    </tr>\n",
       "    <tr>\n",
       "      <th>2495715</th>\n",
       "      <td>274343730255912960</td>\n",
       "      <td>rachelmanzer</td>\n",
       "      <td>31639146</td>\n",
       "      <td>True</td>\n",
       "      <td>283</td>\n",
       "      <td>464</td>\n",
       "      <td>26</td>\n",
       "      <td>4279</td>\n",
       "      <td>2012-11-30 02:46:57</td>\n",
       "      <td>after</td>\n",
       "      <td>...</td>\n",
       "      <td>False</td>\n",
       "      <td>[]</td>\n",
       "      <td>[u'howellmetsfan']</td>\n",
       "      <td>howellmetsfan</td>\n",
       "      <td>274322916756312064</td>\n",
       "      <td>@howellmetsfan the roof to my kids outside pla...</td>\n",
       "      <td>2012-11-30 01:24:14</td>\n",
       "      <td>@rachelmanzer what did u do to yourself this t...</td>\n",
       "      <td>0</td>\n",
       "      <td>rachelmanzer</td>\n",
       "    </tr>\n",
       "    <tr>\n",
       "      <th>2497160</th>\n",
       "      <td>274349275255824384</td>\n",
       "      <td>OSWarehouse</td>\n",
       "      <td>925788792</td>\n",
       "      <td>True</td>\n",
       "      <td>2800</td>\n",
       "      <td>695</td>\n",
       "      <td>510</td>\n",
       "      <td>3335</td>\n",
       "      <td>2012-11-30 03:08:59</td>\n",
       "      <td>after</td>\n",
       "      <td>...</td>\n",
       "      <td>False</td>\n",
       "      <td>[]</td>\n",
       "      <td>[u'DTGiveBack', u'StatenIslandOS']</td>\n",
       "      <td>DTGiveBack</td>\n",
       "      <td>274348542561243136</td>\n",
       "      <td>@DTGiveBack You might connect with folks at @S...</td>\n",
       "      <td>2012-11-30 03:06:04</td>\n",
       "      <td>@520ClintonOS thanks for the retweet! Looking ...</td>\n",
       "      <td>0</td>\n",
       "      <td>OSWarehouse</td>\n",
       "    </tr>\n",
       "    <tr>\n",
       "      <th>2499728</th>\n",
       "      <td>274360511531974657</td>\n",
       "      <td>ZephanGilani</td>\n",
       "      <td>147774022</td>\n",
       "      <td>True</td>\n",
       "      <td>245</td>\n",
       "      <td>149</td>\n",
       "      <td>745</td>\n",
       "      <td>5143</td>\n",
       "      <td>2012-11-30 03:53:37</td>\n",
       "      <td>after</td>\n",
       "      <td>...</td>\n",
       "      <td>False</td>\n",
       "      <td>[]</td>\n",
       "      <td>[u'ZephanGilani', u'realchristrotty']</td>\n",
       "      <td>ZephanGilani</td>\n",
       "      <td>274360436126785537</td>\n",
       "      <td>@ZephanGilani @realchristrotty obviously im pi...</td>\n",
       "      <td>2012-11-30 03:53:20</td>\n",
       "      <td>@realchristrotty so you comment a paragraph of...</td>\n",
       "      <td>0</td>\n",
       "      <td>realchristrotty</td>\n",
       "    </tr>\n",
       "    <tr>\n",
       "      <th>2502408</th>\n",
       "      <td>274374580469125121</td>\n",
       "      <td>praptism</td>\n",
       "      <td>41053367</td>\n",
       "      <td>False</td>\n",
       "      <td>368</td>\n",
       "      <td>480</td>\n",
       "      <td>456</td>\n",
       "      <td>7642</td>\n",
       "      <td>2012-11-30 04:49:32</td>\n",
       "      <td>after</td>\n",
       "      <td>...</td>\n",
       "      <td>False</td>\n",
       "      <td>[]</td>\n",
       "      <td>[u'standingidlyby', u'OfficialRhea', u'AnnieKh...</td>\n",
       "      <td>standingidlyby</td>\n",
       "      <td>274374429637738496</td>\n",
       "      <td>@standingidlyby @OfficialRhea @AnnieKhan_x Oui...</td>\n",
       "      <td>2012-11-30 04:48:56</td>\n",
       "      <td>@officialrhea @anniekhan_x @praptism count me in!</td>\n",
       "      <td>0</td>\n",
       "      <td>OfficialRhea</td>\n",
       "    </tr>\n",
       "    <tr>\n",
       "      <th>2506335</th>\n",
       "      <td>274426735263625216</td>\n",
       "      <td>boydbaptist</td>\n",
       "      <td>195285559</td>\n",
       "      <td>True</td>\n",
       "      <td>81</td>\n",
       "      <td>93</td>\n",
       "      <td>0</td>\n",
       "      <td>1255</td>\n",
       "      <td>2012-11-30 08:16:46</td>\n",
       "      <td>after</td>\n",
       "      <td>...</td>\n",
       "      <td>False</td>\n",
       "      <td>[]</td>\n",
       "      <td>[u'denisdoeland']</td>\n",
       "      <td>denisdoeland</td>\n",
       "      <td>274426368035528704</td>\n",
       "      <td>@denisdoeland Heel vet! Binnenkort sowieso sam...</td>\n",
       "      <td>2012-11-30 08:15:19</td>\n",
       "      <td>@Boydbaptist Mooi spul voor ons :-) 'http://t....</td>\n",
       "      <td>0</td>\n",
       "      <td>boydbaptist</td>\n",
       "    </tr>\n",
       "    <tr>\n",
       "      <th>2516415</th>\n",
       "      <td>274548197374955520</td>\n",
       "      <td>Shaila</td>\n",
       "      <td>7352472</td>\n",
       "      <td>True</td>\n",
       "      <td>1277</td>\n",
       "      <td>409</td>\n",
       "      <td>405</td>\n",
       "      <td>5098</td>\n",
       "      <td>2012-11-30 16:19:25</td>\n",
       "      <td>after</td>\n",
       "      <td>...</td>\n",
       "      <td>False</td>\n",
       "      <td>[]</td>\n",
       "      <td>[u'SandersAK', u'philtoronto']</td>\n",
       "      <td>SandersAK</td>\n",
       "      <td>274548100499124224</td>\n",
       "      <td>@SandersAK @philtoronto gross :)</td>\n",
       "      <td>2012-11-30 16:19:02</td>\n",
       "      <td>@philtoronto I want to dm you but Im allowed. ...</td>\n",
       "      <td>0</td>\n",
       "      <td>philtoronto</td>\n",
       "    </tr>\n",
       "    <tr>\n",
       "      <th>2518398</th>\n",
       "      <td>274559736253390848</td>\n",
       "      <td>marshamichelleb</td>\n",
       "      <td>402445725</td>\n",
       "      <td>True</td>\n",
       "      <td>108</td>\n",
       "      <td>786</td>\n",
       "      <td>123</td>\n",
       "      <td>804</td>\n",
       "      <td>2012-11-30 17:05:16</td>\n",
       "      <td>after</td>\n",
       "      <td>...</td>\n",
       "      <td>False</td>\n",
       "      <td>[]</td>\n",
       "      <td>[u'DyiingBride']</td>\n",
       "      <td>DyiingBride</td>\n",
       "      <td>274549588797562881</td>\n",
       "      <td>@DyiingBride  ive been sick bad migraines and ...</td>\n",
       "      <td>2012-11-30 16:24:57</td>\n",
       "      <td>@marshamichelleb you ok, sweet mama? Its been ...</td>\n",
       "      <td>0</td>\n",
       "      <td>marshamichelleb</td>\n",
       "    </tr>\n",
       "    <tr>\n",
       "      <th>2524391</th>\n",
       "      <td>274595774057308161</td>\n",
       "      <td>coreybhale</td>\n",
       "      <td>33433812</td>\n",
       "      <td>True</td>\n",
       "      <td>170</td>\n",
       "      <td>592</td>\n",
       "      <td>223</td>\n",
       "      <td>1740</td>\n",
       "      <td>2012-11-30 19:28:28</td>\n",
       "      <td>after</td>\n",
       "      <td>...</td>\n",
       "      <td>False</td>\n",
       "      <td>[]</td>\n",
       "      <td>[u'janatrantow', u'Etsy']</td>\n",
       "      <td>janatrantow</td>\n",
       "      <td>274590133511131136</td>\n",
       "      <td>@janatrantow @etsy it was great meeting you too!</td>\n",
       "      <td>2012-11-30 19:06:04</td>\n",
       "      <td>@coreybhale great to meet at @etsy! Ill reach ...</td>\n",
       "      <td>0</td>\n",
       "      <td>coreybhale</td>\n",
       "    </tr>\n",
       "    <tr>\n",
       "      <th>2528585</th>\n",
       "      <td>274621993050054657</td>\n",
       "      <td>cjPTS</td>\n",
       "      <td>201968322</td>\n",
       "      <td>True</td>\n",
       "      <td>220</td>\n",
       "      <td>201</td>\n",
       "      <td>144</td>\n",
       "      <td>6349</td>\n",
       "      <td>2012-11-30 21:12:40</td>\n",
       "      <td>after</td>\n",
       "      <td>...</td>\n",
       "      <td>False</td>\n",
       "      <td>[]</td>\n",
       "      <td>[u'KidDuddy']</td>\n",
       "      <td>KidDuddy</td>\n",
       "      <td>274396910679359488</td>\n",
       "      <td>@KidDuddy  kitteh kitteh mowmowz</td>\n",
       "      <td>2012-11-30 06:18:16</td>\n",
       "      <td>@cjPTS I'm really liking your new profile pict...</td>\n",
       "      <td>0</td>\n",
       "      <td>cjPTS</td>\n",
       "    </tr>\n",
       "  </tbody>\n",
       "</table>\n",
       "<p>701 rows × 32 columns</p>\n",
       "</div>"
      ],
      "text/plain": [
       "                         id         username    user_id geo_enabled  \\\n",
       "4802     256938585092157440  DanKloefflerABC   22239799        True   \n",
       "8799     256971531786285057          DDougyy   26957356       False   \n",
       "13430    257086128446906368      terrymarley   24914924        True   \n",
       "13457    257086614071816192      terrymarley   24914924        True   \n",
       "23479    257180555429437440         PatPizzy  479270769        True   \n",
       "28142    257220844181389312   FrankRamblings   16857622        True   \n",
       "36937    257292202869391360        jhdemicco    9916742        True   \n",
       "37376    257295437688614912       maryskribz  398707167        True   \n",
       "39544    257310275651383296          SGottiR  187969481        True   \n",
       "39558    257310426839257090          SGottiR  187969481        True   \n",
       "47786    257418807356817408           VDtrio   44634656        True   \n",
       "49295    257469195590172672    exit0jazzfest  615174732        True   \n",
       "60225    257554768212398080         TDaneNYC  249340194        True   \n",
       "67455    257604377118904320      TaraDoll629  629657102        True   \n",
       "68015    257608090764079104            ECava     820394       False   \n",
       "69689    257618248697270274        jodimckee   14128866        True   \n",
       "73396    257640693806272512      iamamayzing   23371988        True   \n",
       "74412    257646549016920064      iamamayzing   23371988        True   \n",
       "82059    257689663857389568        cnimbelli  220439126        True   \n",
       "93264    257870702047268864   veesaidshesaid  126280749        True   \n",
       "93912    257875106469130240     merrybubbles  100500394        True   \n",
       "96470    257894736344543232        allahjust  720917438        True   \n",
       "103068   257944437722845186           MMAMeg  295312101        True   \n",
       "119929   258050223941746691           cdessi   13832882        True   \n",
       "122847   258082106108956672    Littlebethell   23076978        True   \n",
       "128450   258201318592761856         TWC_NYNJ  121165704        True   \n",
       "134225   258241213277302785      filmfresser  275746407        True   \n",
       "138174   258267806020288512        allahjust  720917438        True   \n",
       "141877   258292786137284608          jdenivo   38422492        True   \n",
       "150974   258351513536167936          arojass    9626672        True   \n",
       "...                     ...              ...        ...         ...   \n",
       "2437764  273941814694776833     ARwestbayBWI  115122667        True   \n",
       "2439210  273948719731310592          codyy_8  883534292        True   \n",
       "2445511  273975433232519168     jetsfan25894  342985553        True   \n",
       "2446066  273977539477794816         DrDiva82   68291288        True   \n",
       "2449915  273991373118644224     ARwestbayBWI  115122667        True   \n",
       "2455896  274021775690592256    adriennebyard   31521860        True   \n",
       "2456561  274027973852672000       Rah_UniQue  167650848        True   \n",
       "2468398  274187419237113859         htmiguel    6344992        True   \n",
       "2469664  274195493150670848  monsterphotoiso   20892719        True   \n",
       "2471180  274205076850102272       sammers133   28844809        True   \n",
       "2473545  274220336902455296  LeMichaelAngelo   45073357        True   \n",
       "2475135  274230045650845696       PaulEWalsh   16997090        True   \n",
       "2477082  274242336215662592   EsWookieGrande   21838230        True   \n",
       "2487401  274303808660701184        Ahhhbreee   45751594        True   \n",
       "2490520  274320751925014528        jesselamb   20000181        True   \n",
       "2492270  274328508866646016        jesselamb   20000181        True   \n",
       "2492696  274330368914636800     justinstoned  187396018        True   \n",
       "2494462  274338313907863552      rastafanahy   47939392        True   \n",
       "2494646  274339111148593152         praptism   41053367       False   \n",
       "2494831  274339866395938816         praptism   41053367       False   \n",
       "2494884  274340126593794048  rahulstwoscents  369873370        True   \n",
       "2495715  274343730255912960     rachelmanzer   31639146        True   \n",
       "2497160  274349275255824384      OSWarehouse  925788792        True   \n",
       "2499728  274360511531974657     ZephanGilani  147774022        True   \n",
       "2502408  274374580469125121         praptism   41053367       False   \n",
       "2506335  274426735263625216      boydbaptist  195285559        True   \n",
       "2516415  274548197374955520           Shaila    7352472        True   \n",
       "2518398  274559736253390848  marshamichelleb  402445725        True   \n",
       "2524391  274595774057308161       coreybhale   33433812        True   \n",
       "2528585  274621993050054657            cjPTS  201968322        True   \n",
       "\n",
       "         followCount  friendCount  faveCount  tweetCount                 date  \\\n",
       "4802            1174          634          8        1139  2012-10-13 02:05:07   \n",
       "8799             546          494        100       20315  2012-10-13 04:16:02   \n",
       "13430            584          676         36        5289  2012-10-13 11:51:24   \n",
       "13457            584          676         36        5289  2012-10-13 11:53:19   \n",
       "23479            128          121        332        5942  2012-10-13 18:06:37   \n",
       "28142           9686          518       1816       88275  2012-10-13 20:46:42   \n",
       "36937            429          417          8         486  2012-10-14 01:30:16   \n",
       "37376            280          253       4574        6498  2012-10-14 01:43:07   \n",
       "39544            131          249        519        8408  2012-10-14 02:42:04   \n",
       "39558            131          249        519        8408  2012-10-14 02:42:41   \n",
       "47786            456          904        177        2290  2012-10-14 09:53:20   \n",
       "49295            487          708         17        1062  2012-10-14 13:13:34   \n",
       "60225           5834         6453        305        3518  2012-10-14 18:53:36   \n",
       "67455             52          207       1494         543  2012-10-14 22:10:44   \n",
       "68015           6493         4260       3226       44934  2012-10-14 22:25:29   \n",
       "69689            523          668       1424        5826  2012-10-14 23:05:51   \n",
       "73396           4092          621       1584       14422  2012-10-15 00:35:02   \n",
       "74412           4092          621       1584       14422  2012-10-15 00:58:18   \n",
       "82059            187          424        261        2885  2012-10-15 03:49:38   \n",
       "93264            347          273        510        5908  2012-10-15 15:49:01   \n",
       "93912           2588         2034        229       21978  2012-10-15 16:06:31   \n",
       "96470             35           16        104         837  2012-10-15 17:24:31   \n",
       "103068           459          864        116        1947  2012-10-15 20:42:00   \n",
       "119929         15675         8497         17       10583  2012-10-16 03:42:22   \n",
       "122847            95           96        239        1620  2012-10-16 05:49:03   \n",
       "128450          7286          305         22        7355  2012-10-16 13:42:46   \n",
       "134225          1260         1540        757        6725  2012-10-16 16:21:17   \n",
       "138174            35           16        104         837  2012-10-16 18:06:57   \n",
       "141877            43          162          1         529  2012-10-16 19:46:13   \n",
       "150974           520         1207       1058        7974  2012-10-16 23:39:35   \n",
       "...              ...          ...        ...         ...                  ...   \n",
       "2437764          359         2006        164       10467  2012-11-29 00:09:52   \n",
       "2439210          222          212       2165        1734  2012-11-29 00:37:19   \n",
       "2445511            5           15          2         239  2012-11-29 02:23:28   \n",
       "2446066          870         1202         55       10881  2012-11-29 02:31:50   \n",
       "2449915          359         2006        164       10467  2012-11-29 03:26:48   \n",
       "2455896          810          546        135       11357  2012-11-29 05:27:37   \n",
       "2456561          126         1081        538       23103  2012-11-29 05:52:14   \n",
       "2468398          832          136       1081        2874  2012-11-29 16:25:49   \n",
       "2469664          615          894        184        4527  2012-11-29 16:57:54   \n",
       "2471180          255          356          5        2398  2012-11-29 17:35:59   \n",
       "2473545         1035          919         97       12882  2012-11-29 18:36:37   \n",
       "2475135         1325          287        178        6254  2012-11-29 19:15:12   \n",
       "2477082          373          663         17       11134  2012-11-29 20:04:02   \n",
       "2487401          221          367        475        3376  2012-11-30 00:08:19   \n",
       "2490520         1162          315        806       11698  2012-11-30 01:15:38   \n",
       "2492270         1162          315        806       11698  2012-11-30 01:46:27   \n",
       "2492696         2820         2148       2033       40535  2012-11-30 01:53:51   \n",
       "2494462           57          240        128        1509  2012-11-30 02:25:25   \n",
       "2494646          368          480        456        7642  2012-11-30 02:28:35   \n",
       "2494831          368          480        456        7642  2012-11-30 02:31:35   \n",
       "2494884          205          679         72        4958  2012-11-30 02:32:37   \n",
       "2495715          283          464         26        4279  2012-11-30 02:46:57   \n",
       "2497160         2800          695        510        3335  2012-11-30 03:08:59   \n",
       "2499728          245          149        745        5143  2012-11-30 03:53:37   \n",
       "2502408          368          480        456        7642  2012-11-30 04:49:32   \n",
       "2506335           81           93          0        1255  2012-11-30 08:16:46   \n",
       "2516415         1277          409        405        5098  2012-11-30 16:19:25   \n",
       "2518398          108          786        123         804  2012-11-30 17:05:16   \n",
       "2524391          170          592        223        1740  2012-11-30 19:28:28   \n",
       "2528585          220          201        144        6349  2012-11-30 21:12:40   \n",
       "\n",
       "         timing        ...        has_media  \\\n",
       "4802     before        ...            False   \n",
       "8799     before        ...            False   \n",
       "13430    before        ...            False   \n",
       "13457    before        ...            False   \n",
       "23479    before        ...            False   \n",
       "28142    before        ...            False   \n",
       "36937    before        ...            False   \n",
       "37376    before        ...            False   \n",
       "39544    before        ...            False   \n",
       "39558    before        ...            False   \n",
       "47786    before        ...            False   \n",
       "49295    before        ...            False   \n",
       "60225    before        ...            False   \n",
       "67455    before        ...            False   \n",
       "68015    before        ...            False   \n",
       "69689    before        ...            False   \n",
       "73396    before        ...            False   \n",
       "74412    before        ...            False   \n",
       "82059    before        ...            False   \n",
       "93264    before        ...            False   \n",
       "93912    before        ...            False   \n",
       "96470    before        ...            False   \n",
       "103068   before        ...            False   \n",
       "119929   before        ...            False   \n",
       "122847   before        ...            False   \n",
       "128450   before        ...            False   \n",
       "134225   before        ...            False   \n",
       "138174   before        ...            False   \n",
       "141877   before        ...            False   \n",
       "150974   before        ...            False   \n",
       "...         ...        ...              ...   \n",
       "2437764   after        ...            False   \n",
       "2439210   after        ...            False   \n",
       "2445511   after        ...            False   \n",
       "2446066   after        ...            False   \n",
       "2449915   after        ...            False   \n",
       "2455896   after        ...            False   \n",
       "2456561   after        ...            False   \n",
       "2468398   after        ...            False   \n",
       "2469664   after        ...            False   \n",
       "2471180   after        ...            False   \n",
       "2473545   after        ...            False   \n",
       "2475135   after        ...            False   \n",
       "2477082   after        ...            False   \n",
       "2487401   after        ...             True   \n",
       "2490520   after        ...            False   \n",
       "2492270   after        ...            False   \n",
       "2492696   after        ...            False   \n",
       "2494462   after        ...            False   \n",
       "2494646   after        ...            False   \n",
       "2494831   after        ...            False   \n",
       "2494884   after        ...            False   \n",
       "2495715   after        ...            False   \n",
       "2497160   after        ...            False   \n",
       "2499728   after        ...            False   \n",
       "2502408   after        ...            False   \n",
       "2506335   after        ...            False   \n",
       "2516415   after        ...            False   \n",
       "2518398   after        ...            False   \n",
       "2524391   after        ...            False   \n",
       "2528585   after        ...            False   \n",
       "\n",
       "                                                      urls  \\\n",
       "4802                                                    []   \n",
       "8799                                                    []   \n",
       "13430    [u'http://philadelphia.cbslocal.com/2012/10/12...   \n",
       "13457                                                   []   \n",
       "23479                                                   []   \n",
       "28142                                                   []   \n",
       "36937                                                   []   \n",
       "37376                                                   []   \n",
       "39544                                                   []   \n",
       "39558                                                   []   \n",
       "47786                                                   []   \n",
       "49295                                                   []   \n",
       "60225      [u'http://www.youtube.com/watch?v=wT8NO5FDS7E']   \n",
       "67455                                                   []   \n",
       "68015                                                   []   \n",
       "69689                                                   []   \n",
       "73396                                                   []   \n",
       "74412                                                   []   \n",
       "82059                                                   []   \n",
       "93264                                                   []   \n",
       "93912                                                   []   \n",
       "96470                                                   []   \n",
       "103068                                                  []   \n",
       "119929                                                  []   \n",
       "122847                                                  []   \n",
       "128450        [u'https://myservices.timewarnercable.com/']   \n",
       "134225                                                  []   \n",
       "138174                                                  []   \n",
       "141877                                                  []   \n",
       "150974                                                  []   \n",
       "...                                                    ...   \n",
       "2437764                                                 []   \n",
       "2439210                                                 []   \n",
       "2445511                                                 []   \n",
       "2446066                                                 []   \n",
       "2449915                                                 []   \n",
       "2455896                                                 []   \n",
       "2456561                                                 []   \n",
       "2468398                                                 []   \n",
       "2469664                                                 []   \n",
       "2471180                                                 []   \n",
       "2473545                                                 []   \n",
       "2475135                                                 []   \n",
       "2477082                                                 []   \n",
       "2487401                                                 []   \n",
       "2490520                                                 []   \n",
       "2492270                                                 []   \n",
       "2492696                                                 []   \n",
       "2494462                                                 []   \n",
       "2494646                                                 []   \n",
       "2494831                                                 []   \n",
       "2494884                                                 []   \n",
       "2495715                                                 []   \n",
       "2497160                                                 []   \n",
       "2499728                                                 []   \n",
       "2502408                                                 []   \n",
       "2506335                                                 []   \n",
       "2516415                                                 []   \n",
       "2518398                                                 []   \n",
       "2524391                                                 []   \n",
       "2528585                                                 []   \n",
       "\n",
       "                                                  mentions        replyWho  \\\n",
       "4802                                     [u'LindseySnell']    LindseySnell   \n",
       "8799                       [u'Megglezzz', u'AlbanyDevils']       Megglezzz   \n",
       "13430                                     [u'DalilaRobin']     DalilaRobin   \n",
       "13457                                     [u'DalilaRobin']     DalilaRobin   \n",
       "23479                                         [u'ADaza91']         ADaza91   \n",
       "28142                                    [u'MallorieRose']    MallorieRose   \n",
       "36937                       [u'bjdu4', u'teresalabarbera']           bjdu4   \n",
       "37376                                                   []        tconleey   \n",
       "39544    [u'SGottiR', u'alexrodriguezNY', u'NickSwisher...         SGottiR   \n",
       "39558    [u'SGottiR', u'alexrodriguezNY', u'NickSwisher...         SGottiR   \n",
       "47786                                       [u'MattyF410']       MattyF410   \n",
       "49295    [u'CookeCapeMay', u'VisitCapeMay', u'ACPressTo...    CookeCapeMay   \n",
       "60225                    [u'TDaneNYC', u'claudiusraphael']        TDaneNYC   \n",
       "67455    [u'TaraDoll629', u'NY_Comic_Con', u'LouFerrigno']     TaraDoll629   \n",
       "68015    [u'ThisGirlCanEat', u'RichardBlais', u'RachBar...  ThisGirlCanEat   \n",
       "69689                                     [u'kellypurkey']     kellypurkey   \n",
       "73396                       [u'TheMiszuk', u'MikeNouveau']       TheMiszuk   \n",
       "74412                       [u'TheMiszuk', u'MikeNouveau']       TheMiszuk   \n",
       "82059                    [u'cnimbelli', u'McCainBlogette']       cnimbelli   \n",
       "93264                                        [u'teamoney']        teamoney   \n",
       "93912                                          [u'Jmodio']          Jmodio   \n",
       "96470                   [u'allahjust', u'RisingPhoenix48']       allahjust   \n",
       "103068                      [u'MMAMeg', u'DavidBeckworth']          MMAMeg   \n",
       "119929                                    [u'NatashaChef']     NatashaChef   \n",
       "122847   [u'Littlebethell', u'vinnydproject', u'greensk...   Littlebethell   \n",
       "128450                                 [u'rjgoldsborough']  rjgoldsborough   \n",
       "134225                    [u'LindseyM_8', u'milktrucknyc']      LindseyM_8   \n",
       "138174                         [u'allahjust', u'TheRevAl']       allahjust   \n",
       "141877                            [u'jdenivo', u'villadh']         jdenivo   \n",
       "150974                                    [u'MariaJesusV']     MariaJesusV   \n",
       "...                                                    ...             ...   \n",
       "2437764                         [u'ARwestbayBWI', u'aots']    ARwestbayBWI   \n",
       "2439210                   [u'codyy_8', u'aaronglickstein']         codyy_8   \n",
       "2445511              [u'jetsfan25894', u'Incarceratedbob']    jetsfan25894   \n",
       "2446066  [u'DrDiva82', u'maddow', u'theosmelek', u'Gott...        DrDiva82   \n",
       "2449915                     [u'ARwestbayBWI', u'Lawrence']    ARwestbayBWI   \n",
       "2455896                                       [u'blqwaah']         blqwaah   \n",
       "2456561                                    [u'Rah_UniQue']      Rah_UniQue   \n",
       "2468398  [u'SamRoberts456', u'wesleyverhoeve', u'theres...   SamRoberts456   \n",
       "2469664                [u'ArtemAltman', u'worklifereward']     ArtemAltman   \n",
       "2471180           [u'nycsloane', u'devour', u'BreakMedia']       nycsloane   \n",
       "2473545                                 [u'PapiitoIdance']   PapiitoIdance   \n",
       "2475135                                      [u'abrackin']        abrackin   \n",
       "2477082                      [u'sfDOOM', u'killsteenkill']          sfDOOM   \n",
       "2487401                      [u'its_aubrey', u'dearterah']       Ahhhbreee   \n",
       "2490520        [u'tonybgoode', u'jwegener', u'Alex_Godin']      tonybgoode   \n",
       "2492270        [u'tonybgoode', u'jwegener', u'Alex_Godin']      tonybgoode   \n",
       "2492696                                    [u'CarrieM213']     OSWarehouse   \n",
       "2494462  [u'rastafanahy', u'BarackObama', u'MittRomney'...     rastafanahy   \n",
       "2494646                                [u'standingidlyby']  standingidlyby   \n",
       "2494831            [u'standingidlyby', u'rahulstwoscents']  standingidlyby   \n",
       "2494884                   [u'standingidlyby', u'praptism']  standingidlyby   \n",
       "2495715                                 [u'howellmetsfan']   howellmetsfan   \n",
       "2497160                 [u'DTGiveBack', u'StatenIslandOS']      DTGiveBack   \n",
       "2499728              [u'ZephanGilani', u'realchristrotty']    ZephanGilani   \n",
       "2502408  [u'standingidlyby', u'OfficialRhea', u'AnnieKh...  standingidlyby   \n",
       "2506335                                  [u'denisdoeland']    denisdoeland   \n",
       "2516415                     [u'SandersAK', u'philtoronto']       SandersAK   \n",
       "2518398                                   [u'DyiingBride']     DyiingBride   \n",
       "2524391                          [u'janatrantow', u'Etsy']     janatrantow   \n",
       "2528585                                      [u'KidDuddy']        KidDuddy   \n",
       "\n",
       "                  replyWhat  \\\n",
       "4802     256931226965905408   \n",
       "8799     256969224558362624   \n",
       "13430    257083385405661184   \n",
       "13457    257083385405661184   \n",
       "23479    257178830119243777   \n",
       "28142    257217707152379905   \n",
       "36937    257269414070722561   \n",
       "37376    257295177146843137   \n",
       "39544    257309882582192128   \n",
       "39558    257309882582192128   \n",
       "47786    257418592692367360   \n",
       "49295    257460169007575040   \n",
       "60225    257300752580616194   \n",
       "67455    257602934190256130   \n",
       "68015    257554660397830144   \n",
       "69689    257591785528889344   \n",
       "73396    257636630318424064   \n",
       "74412    257644190169694209   \n",
       "82059    257683124195045376   \n",
       "93264    257847821309456384   \n",
       "93912    257874039853432832   \n",
       "96470    257867898062794752   \n",
       "103068   257467933821923330   \n",
       "119929   257996272693305344   \n",
       "122847   258081909576433665   \n",
       "128450   258189427543769091   \n",
       "134225   258239025100517377   \n",
       "138174   258216721318551552   \n",
       "141877   258281136424370176   \n",
       "150974   258299393210449920   \n",
       "...                     ...   \n",
       "2437764  273941127617445888   \n",
       "2439210  273948597614178304   \n",
       "2445511  273974772755476480   \n",
       "2446066  273976676315189249   \n",
       "2449915  273988188593348609   \n",
       "2455896  274015193045020672   \n",
       "2456561  274027772005998592   \n",
       "2468398  274158988818518017   \n",
       "2469664  274195097636179968   \n",
       "2471180  274203698241089536   \n",
       "2473545  274220028189110272   \n",
       "2475135  274202940321976320   \n",
       "2477082  274231931464466432   \n",
       "2487401  274302058398621696   \n",
       "2490520  274320626741813248   \n",
       "2492270  274320626741813248   \n",
       "2492696  274312916948377601   \n",
       "2494462  274300390391046144   \n",
       "2494646  274338577305980928   \n",
       "2494831  274339399561510912   \n",
       "2494884  274339399561510912   \n",
       "2495715  274322916756312064   \n",
       "2497160  274348542561243136   \n",
       "2499728  274360436126785537   \n",
       "2502408  274374429637738496   \n",
       "2506335  274426368035528704   \n",
       "2516415  274548100499124224   \n",
       "2518398  274549588797562881   \n",
       "2524391  274590133511131136   \n",
       "2528585  274396910679359488   \n",
       "\n",
       "                                                      text  \\\n",
       "4802     @LindseySnell Thank you! But can I trade that ...   \n",
       "8799        @Megglezzz @albanydevils I want this info too!   \n",
       "13430    @DalilaRobin Tell them this is CAPA Alumni wee...   \n",
       "13457    @DalilaRobin Please have a peaceful weekend an...   \n",
       "23479                                  @ADaza91 Ighttttttt   \n",
       "28142    @MallorieRose wow! Ill have to get it from you...   \n",
       "36937    @bjdu4 @teresalabarbera You guys look great. C...   \n",
       "37376          @tomconl3y got in trouble so I went home :(   \n",
       "39544    @SGottiR @alexrodriguezNY @NickSwisher @cgrand...   \n",
       "39558    @SGottiR @alexrodriguezNY @NickSwisher @cgrand...   \n",
       "47786    @MattyF410 I got the boot from the college clu...   \n",
       "49295    @CookeCapeMay @visitcapemay @acpresstopnews gr...   \n",
       "60225    @TDaneNYC @claudiusraphael Just say Hello Clau...   \n",
       "67455              @TaraDoll629 @NY_Comic_Con @LouFerrigno   \n",
       "68015    @ThisGirlCanEat @richardblais @rachbarb So goo...   \n",
       "69689                              @kellypurkey so sweet!!   \n",
       "73396                    @TheMiszuk @mikenouveau for me??    \n",
       "74412    @TheMiszuk @MikeNouveau i just had a pumpkin p...   \n",
       "82059    @cnimbelli @McCainBlogette my...that was suppo...   \n",
       "93264               @teamoney be back tomorrow!  MISH YOU!   \n",
       "93912       @jmodio Good so far. Are you coming, #pivotcon   \n",
       "96470    @allahjust @RisingPhoenix48 islam i an get my ...   \n",
       "103068   @MMAMeg @davidbeckworth :-) you, Lars and a sp...   \n",
       "119929   @NatashaChef thank you - happy you enjoyed! Lo...   \n",
       "122847   @Littlebethell @vinnydproject @greenskulls21 @...   \n",
       "128450   @rjgoldsborough Try this link https://t.co/5Tp...   \n",
       "134225   @LindseyM_8 @milktrucknyc now on a mission. #k...   \n",
       "138174   @allahjust @TheRevAl  what ever ben ammi ben i...   \n",
       "141877   @jdenivo @villadh how about a #FF giveaway?  #...   \n",
       "150974            @MariaJesusV O_o no se si reirme o no...   \n",
       "...                                                    ...   \n",
       "2437764            @ARwestbayBWI @aots Bailey looking hot.   \n",
       "2439210                 @codyy_8 @aaronglickstein retweet*   \n",
       "2445511  @jetsfan25894 @incarceratedbob thought i saw f...   \n",
       "2446066  @DrDiva82 @maddow @theosmelek @GottaLaff @npba...   \n",
       "2449915  @ARwestbayBWI @Lawrence #thelastword Norquist ...   \n",
       "2455896         @blqwaah I'm at home :( been here all day.   \n",
       "2456561  @Rah_UniQue \" I drop book \" lol \" rah hulk, sm...   \n",
       "2468398  @SamRoberts456 @wesleyverhoeve that's awesome ...   \n",
       "2469664  @ArtemAltman No Problem, We both was mentioned...   \n",
       "2471180  @nycsloane @devour HAHA. I saw this a few days...   \n",
       "2473545  @PapiitoIdance looks like hes headed to the pr...   \n",
       "2475135                                      @abrackin ,0)   \n",
       "2477082  @sfDOOM @KILLSTEENKILL - Jim Cornett is terrif...   \n",
       "2487401        @Its_Aubrey @dearterah http://t.co/FLaJzuPE   \n",
       "2490520  @tonybgoode @jwegener @Alex_Godin I am. On a c...   \n",
       "2492270  @tonybgoode @jwegener @Alex_Godin gonna run la...   \n",
       "2492696  I totally #uptwinkle that @520ClintonOS @Carri...   \n",
       "2494462  @rastafanahy @barackobama @mittromney @NathanH...   \n",
       "2494646  @standingidlyby I feel you. You will get to re...   \n",
       "2494831  @standingidlyby @rahulstwoscents Lol. Someone ...   \n",
       "2494884  @standingidlyby Clearly he didn't, @praptism. ...   \n",
       "2495715  @howellmetsfan the roof to my kids outside pla...   \n",
       "2497160  @DTGiveBack You might connect with folks at @S...   \n",
       "2499728  @ZephanGilani @realchristrotty obviously im pi...   \n",
       "2502408  @standingidlyby @OfficialRhea @AnnieKhan_x Oui...   \n",
       "2506335  @denisdoeland Heel vet! Binnenkort sowieso sam...   \n",
       "2516415                   @SandersAK @philtoronto gross :)   \n",
       "2518398  @DyiingBride  ive been sick bad migraines and ...   \n",
       "2524391   @janatrantow @etsy it was great meeting you too!   \n",
       "2528585                   @KidDuddy  kitteh kitteh mowmowz   \n",
       "\n",
       "               replyOrigTime  \\\n",
       "4802     2012-10-13 01:35:52   \n",
       "8799     2012-10-13 04:06:52   \n",
       "13430    2012-10-13 11:40:30   \n",
       "13457    2012-10-13 11:40:30   \n",
       "23479    2012-10-13 17:59:45   \n",
       "28142    2012-10-13 20:34:14   \n",
       "36937    2012-10-13 23:59:42   \n",
       "37376    2012-10-14 01:42:05   \n",
       "39544    2012-10-14 02:40:31   \n",
       "39558    2012-10-14 02:40:31   \n",
       "47786    2012-10-14 09:52:29   \n",
       "49295    2012-10-14 12:37:42   \n",
       "60225    2012-10-14 02:04:14   \n",
       "67455    2012-10-14 22:05:02   \n",
       "68015    2012-10-14 18:53:10   \n",
       "69689    2012-10-14 21:20:42   \n",
       "73396    2012-10-15 00:18:53   \n",
       "74412    2012-10-15 00:48:56   \n",
       "82059    2012-10-15 03:23:38   \n",
       "93264    2012-10-15 14:18:05   \n",
       "93912    2012-10-15 16:02:16   \n",
       "96470    2012-10-15 15:37:52   \n",
       "103068   2012-10-14 13:08:33   \n",
       "119929   2012-10-16 00:07:59   \n",
       "122847   2012-10-16 05:48:16   \n",
       "128450   2012-10-16 12:55:31   \n",
       "134225   2012-10-16 16:12:36   \n",
       "138174   2012-10-16 14:43:58   \n",
       "141877   2012-10-16 18:59:56   \n",
       "150974   2012-10-16 20:12:28   \n",
       "...                      ...   \n",
       "2437764  2012-11-29 00:07:09   \n",
       "2439210  2012-11-29 00:36:50   \n",
       "2445511  2012-11-29 02:20:50   \n",
       "2446066  2012-11-29 02:28:24   \n",
       "2449915  2012-11-29 03:14:09   \n",
       "2455896  2012-11-29 05:01:27   \n",
       "2456561  2012-11-29 05:51:26   \n",
       "2468398  2012-11-29 14:32:51   \n",
       "2469664  2012-11-29 16:56:20   \n",
       "2471180  2012-11-29 17:30:30   \n",
       "2473545  2012-11-29 18:35:24   \n",
       "2475135  2012-11-29 17:27:30   \n",
       "2477082  2012-11-29 19:22:42   \n",
       "2487401  2012-11-30 00:01:21   \n",
       "2490520  2012-11-30 01:15:08   \n",
       "2492270  2012-11-30 01:15:08   \n",
       "2492696  2012-11-30 00:44:30   \n",
       "2494462  2012-11-29 23:54:43   \n",
       "2494646  2012-11-30 02:26:28   \n",
       "2494831  2012-11-30 02:29:44   \n",
       "2494884  2012-11-30 02:29:44   \n",
       "2495715  2012-11-30 01:24:14   \n",
       "2497160  2012-11-30 03:06:04   \n",
       "2499728  2012-11-30 03:53:20   \n",
       "2502408  2012-11-30 04:48:56   \n",
       "2506335  2012-11-30 08:15:19   \n",
       "2516415  2012-11-30 16:19:02   \n",
       "2518398  2012-11-30 16:24:57   \n",
       "2524391  2012-11-30 19:06:04   \n",
       "2528585  2012-11-30 06:18:16   \n",
       "\n",
       "                                             replyOrigText replyOrigReplyWhat  \\\n",
       "4802                 @DanKloefflerABC I'm so proud of you!                  0   \n",
       "8799     @AlbanyDevils where can one watch/listen to to...                  0   \n",
       "13430    @terrymarley, I am beating the drum. You want ...                  0   \n",
       "13457    @terrymarley, I am beating the drum. You want ...                  0   \n",
       "23479    @PatPizzy  yo when u get a chance watch this h...                  0   \n",
       "28142                    @frankramblings homework already!                  0   \n",
       "36937    @teresalabarbera purpling out at a dinner in h...                  0   \n",
       "37376                            @maryskribz Where are yew                  0   \n",
       "39544    @alexrodriguezNY @NickSwisher @cgrand14 @Robin...                  0   \n",
       "39558    @alexrodriguezNY @NickSwisher @cgrand14 @Robin...                  0   \n",
       "47786    @VDtrio take a Advil  and drink some water bef...                  0   \n",
       "49295    @VisitCapeMay Comeback? More like continued tr...                  0   \n",
       "60225    @claudiusraphael wow you're not following me.....                  0   \n",
       "67455    @NY_Comic_Con  I always wanted to meet the hul...                  0   \n",
       "68015    @richardblais #farmtotable #brunch #nycwff wit...                  0   \n",
       "69689    @jodimckee have you seen this - do cute! http:...                  0   \n",
       "73396    @mikenouveau it's crumble weather! http://t.co...                  0   \n",
       "74412    @mikenouveau @iamamayzing here we go! #fall ht...                  0   \n",
       "82059                     @McCainBlogette be mary matalin?                  0   \n",
       "93264               @veesaidshesaid come back! I miss you!                  0   \n",
       "93912                       @merrybubbles How's #pivotcon?                  0   \n",
       "96470    @RisingPhoenix48 islam having problems with t-...                  0   \n",
       "103068   @DavidBeckworth Market Monetarism for Presiden...                  0   \n",
       "119929   @cdessi Great social media lecture tonight. Am...                  0   \n",
       "122847   @vinnydproject @greenskulls21 @romarykearins @...                  0   \n",
       "128450             @TWCable_NYC http://t.co/sX6IZYgd down?                  0   \n",
       "134225   @filmfresser there is also @milktrucknyc and i...                  0   \n",
       "138174   @TheRevAl @allahjust are you readyto go throu ...                  0   \n",
       "141877   @villadh #hashtag is too long. #WhatHappensInT...                  0   \n",
       "150974   @arojass  mira lo que me pregnuta Klout!: Is A...                  0   \n",
       "...                                                    ...                ...   \n",
       "2437764               @aots Candace Bailey in the house :)                  0   \n",
       "2439210          @aaronglickstein explain my last tweet...                  0   \n",
       "2445511  @incarceratedbob Brooklyn refusing to get robb...                  0   \n",
       "2446066  @maddow @theosmelek @GottaLaff @npbat I concur...                  0   \n",
       "2449915  @Lawrence  #thelastword We need compromise fro...                  0   \n",
       "2455896  @adriennebyard laser rainbow. west village, ov...                  0   \n",
       "2456561  @PullPilePodcast Victoria Hand was a lesbian? ...                  0   \n",
       "2468398  @wesleyverhoeve Thanks for giving me the heads...                  0   \n",
       "2469664  @monsterphotoiso Hey! Thanks for the follow! W...                  0   \n",
       "2471180  @sammers133 more pranks: Terrifying Elevator P...                  0   \n",
       "2473545  @LeMichaelAngelo Michael stop trying make fetc...                  0   \n",
       "2475135  @PaulEWalsh You are cracking me up with your t...                  0   \n",
       "2477082  @esWookieGrande Let's get drunk and watch @KIL...                  0   \n",
       "2487401  @dearterah Twiinz. Like us, and like our babie...                  0   \n",
       "2490520  @jwegener @jesselamb @alex_godin Are you guys ...                  0   \n",
       "2492270  @jwegener @jesselamb @alex_godin Are you guys ...                  0   \n",
       "2492696  @CarrieM213 520 Clinton needs your Social Medi...                  0   \n",
       "2494462       @BarackObama to @mittromney: call me maybe!                   0   \n",
       "2494646                         @praptism I'm exhausted...                  0   \n",
       "2494831  @rahulstwoscents @praptism as opposed to an ol...                  0   \n",
       "2494884  @rahulstwoscents @praptism as opposed to an ol...                  0   \n",
       "2495715  @rachelmanzer what did u do to yourself this t...                  0   \n",
       "2497160  @520ClintonOS thanks for the retweet! Looking ...                  0   \n",
       "2499728  @realchristrotty so you comment a paragraph of...                  0   \n",
       "2502408  @officialrhea @anniekhan_x @praptism count me in!                  0   \n",
       "2506335  @Boydbaptist Mooi spul voor ons :-) 'http://t....                  0   \n",
       "2516415  @philtoronto I want to dm you but Im allowed. ...                  0   \n",
       "2518398  @marshamichelleb you ok, sweet mama? Its been ...                  0   \n",
       "2524391  @coreybhale great to meet at @etsy! Ill reach ...                  0   \n",
       "2528585  @cjPTS I'm really liking your new profile pict...                  0   \n",
       "\n",
       "        replyOrigReplyWho  \n",
       "4802      DanKloefflerABC  \n",
       "8799         AlbanyDevils  \n",
       "13430         terrymarley  \n",
       "13457         terrymarley  \n",
       "23479            PatPizzy  \n",
       "28142      FrankRamblings  \n",
       "36937     teresalabarbera  \n",
       "37376          maryskribz  \n",
       "39544     alexrodriguezNY  \n",
       "39558     alexrodriguezNY  \n",
       "47786              VDtrio  \n",
       "49295        VisitCapeMay  \n",
       "60225     claudiusraphael  \n",
       "67455        NY_Comic_Con  \n",
       "68015        RichardBlais  \n",
       "69689           jodimckee  \n",
       "73396         MikeNouveau  \n",
       "74412         MikeNouveau  \n",
       "82059        MeghanMcCain  \n",
       "93264      veesaidshesaid  \n",
       "93912        merrybubbles  \n",
       "96470     RisingPhoenix48  \n",
       "103068     DavidBeckworth  \n",
       "119929             cdessi  \n",
       "122847      vinnydproject  \n",
       "128450           TWC_NYNJ  \n",
       "134225        filmfresser  \n",
       "138174           TheRevAl  \n",
       "141877            villadh  \n",
       "150974            arojass  \n",
       "...                   ...  \n",
       "2437764              aots  \n",
       "2439210   aaronglickstein  \n",
       "2445511   Incarceratedbob  \n",
       "2446066            maddow  \n",
       "2449915          Lawrence  \n",
       "2455896     adriennebyard  \n",
       "2456561   PullPilePodcast  \n",
       "2468398    wesleyverhoeve  \n",
       "2469664   monsterphotoiso  \n",
       "2471180        sammers133  \n",
       "2473545   LeMichaelAngelo  \n",
       "2475135        PaulEWalsh  \n",
       "2477082    EsWookieGrande  \n",
       "2487401         dearterah  \n",
       "2490520          jwegener  \n",
       "2492270          jwegener  \n",
       "2492696        CarrieM213  \n",
       "2494462       BarackObama  \n",
       "2494646          praptism  \n",
       "2494831   rahulstwoscents  \n",
       "2494884   rahulstwoscents  \n",
       "2495715      rachelmanzer  \n",
       "2497160       OSWarehouse  \n",
       "2499728   realchristrotty  \n",
       "2502408      OfficialRhea  \n",
       "2506335       boydbaptist  \n",
       "2516415       philtoronto  \n",
       "2518398   marshamichelleb  \n",
       "2524391        coreybhale  \n",
       "2528585             cjPTS  \n",
       "\n",
       "[701 rows x 32 columns]"
      ]
     },
     "execution_count": 186,
     "metadata": {},
     "output_type": "execute_result"
    }
   ],
   "source": [
    "df[(df.replyOrigReplyWho!=0)& (df.replyOrigReplyWho!='0') & (df.replyOrigReplyWhat==0)]"
   ]
  },
  {
   "cell_type": "code",
   "execution_count": 190,
   "metadata": {},
   "outputs": [],
   "source": [
    "origOrigTweets=list(set(df.replyOrigReplyWhat[df.replyOrigReplyWhat!=0]) & set(df.id))"
   ]
  },
  {
   "cell_type": "code",
   "execution_count": 191,
   "metadata": {},
   "outputs": [
    {
     "data": {
      "text/plain": [
       "3673"
      ]
     },
     "execution_count": 191,
     "metadata": {},
     "output_type": "execute_result"
    }
   ],
   "source": [
    "len(origOrigTweets)"
   ]
  },
  {
   "cell_type": "markdown",
   "metadata": {},
   "source": [
    "3673 of these originals that are themselves replies are responding to the tweets that are also in the data set"
   ]
  },
  {
   "cell_type": "markdown",
   "metadata": {},
   "source": [
    "# Add info about the second level of replied to tweets to the DF"
   ]
  },
  {
   "cell_type": "code",
   "execution_count": 194,
   "metadata": {
    "collapsed": true
   },
   "outputs": [],
   "source": [
    "df['reply2OrigTime']=0\n",
    "df['reply2OrigText']=0\n",
    "df['reply2OrigReplyWhat']=0\n",
    "df['reply2OrigReplyWho']=0"
   ]
  },
  {
   "cell_type": "code",
   "execution_count": 196,
   "metadata": {
    "collapsed": true
   },
   "outputs": [],
   "source": [
    "for id in origOrigTweets:\n",
    "    df.loc[df.replyOrigReplyWhat==id, 'reply2OrigTime']=(df.loc[df.id==id,'date']).values[0]\n",
    "    df.loc[df.replyOrigReplyWhat==id, 'reply2OrigText']=(df.loc[df.id==id,'text']).values[0]\n",
    "    df.loc[df.replyOrigReplyWhat==id, 'reply2OrigReplyWhat']=(df.loc[df.id==id,'replyWhat']).values[0]\n",
    "    df.loc[df.replyOrigReplyWhat==id, 'reply2OrigReplyWho']=(df.loc[df.id==id,'replyWho']).values[0]"
   ]
  },
  {
   "cell_type": "code",
   "execution_count": 197,
   "metadata": {},
   "outputs": [
    {
     "data": {
      "text/plain": [
       "3925"
      ]
     },
     "execution_count": 197,
     "metadata": {},
     "output_type": "execute_result"
    }
   ],
   "source": [
    "len(df[df.reply2OrigTime!=0])"
   ]
  },
  {
   "cell_type": "code",
   "execution_count": 200,
   "metadata": {},
   "outputs": [
    {
     "data": {
      "text/plain": [
       "2526"
      ]
     },
     "execution_count": 200,
     "metadata": {},
     "output_type": "execute_result"
    }
   ],
   "source": [
    "len(df[(df.reply2OrigReplyWho!=0) & (df.reply2OrigReplyWho!='0')])"
   ]
  },
  {
   "cell_type": "code",
   "execution_count": 201,
   "metadata": {},
   "outputs": [
    {
     "data": {
      "text/plain": [
       "2301"
      ]
     },
     "execution_count": 201,
     "metadata": {},
     "output_type": "execute_result"
    }
   ],
   "source": [
    "len(df[df.reply2OrigReplyWhat!=0])"
   ]
  },
  {
   "cell_type": "code",
   "execution_count": 210,
   "metadata": {},
   "outputs": [
    {
     "data": {
      "text/plain": [
       "225"
      ]
     },
     "execution_count": 210,
     "metadata": {},
     "output_type": "execute_result"
    }
   ],
   "source": [
    "len(df[(df.reply2OrigReplyWho!=0) & (df.reply2OrigReplyWho!='0') & (df.reply2OrigReplyWhat==0)])"
   ]
  },
  {
   "cell_type": "markdown",
   "metadata": {},
   "source": [
    "So again, we have 2526 original originals that are themselves replies, but 225 of those only have the user, not the tweet id of their originals"
   ]
  },
  {
   "cell_type": "code",
   "execution_count": 213,
   "metadata": {
    "collapsed": true
   },
   "outputs": [],
   "source": [
    "orig3Tweets=list(set(df.reply2OrigReplyWhat[df.reply2OrigReplyWhat!=0]) & set(df.id))"
   ]
  },
  {
   "cell_type": "code",
   "execution_count": 214,
   "metadata": {},
   "outputs": [
    {
     "data": {
      "text/plain": [
       "1893"
      ]
     },
     "execution_count": 214,
     "metadata": {},
     "output_type": "execute_result"
    }
   ],
   "source": [
    "len(orig3Tweets)"
   ]
  },
  {
   "cell_type": "markdown",
   "metadata": {},
   "source": [
    "And 1893 of those are in the data set"
   ]
  },
  {
   "cell_type": "markdown",
   "metadata": {},
   "source": [
    "# Add info about the 3rd level of replied to tweets to the DF"
   ]
  },
  {
   "cell_type": "code",
   "execution_count": 212,
   "metadata": {
    "collapsed": true
   },
   "outputs": [],
   "source": [
    "df['reply3OrigTime']=0\n",
    "df['reply3OrigText']=0\n",
    "df['reply3OrigReplyWhat']=0\n",
    "df['reply3OrigReplyWho']=0"
   ]
  },
  {
   "cell_type": "code",
   "execution_count": 215,
   "metadata": {
    "collapsed": true
   },
   "outputs": [],
   "source": [
    "for id in orig3Tweets:\n",
    "    df.loc[df.reply2OrigReplyWhat==id, 'reply3OrigTime']=(df.loc[df.id==id,'date']).values[0]\n",
    "    df.loc[df.reply2OrigReplyWhat==id, 'reply3OrigText']=(df.loc[df.id==id,'text']).values[0]\n",
    "    df.loc[df.reply2OrigReplyWhat==id, 'reply3OrigReplyWhat']=(df.loc[df.id==id,'replyWhat']).values[0]\n",
    "    df.loc[df.reply2OrigReplyWhat==id, 'reply3OrigReplyWho']=(df.loc[df.id==id,'replyWho']).values[0]"
   ]
  },
  {
   "cell_type": "code",
   "execution_count": 216,
   "metadata": {},
   "outputs": [
    {
     "data": {
      "text/plain": [
       "2040"
      ]
     },
     "execution_count": 216,
     "metadata": {},
     "output_type": "execute_result"
    }
   ],
   "source": [
    "len(df[df.reply3OrigTime!=0])"
   ]
  },
  {
   "cell_type": "code",
   "execution_count": 217,
   "metadata": {},
   "outputs": [
    {
     "data": {
      "text/plain": [
       "1403"
      ]
     },
     "execution_count": 217,
     "metadata": {},
     "output_type": "execute_result"
    }
   ],
   "source": [
    "len(df[(df.reply3OrigReplyWho!=0) & (df.reply3OrigReplyWho!='0')])"
   ]
  },
  {
   "cell_type": "code",
   "execution_count": 218,
   "metadata": {},
   "outputs": [
    {
     "data": {
      "text/plain": [
       "1315"
      ]
     },
     "execution_count": 218,
     "metadata": {},
     "output_type": "execute_result"
    }
   ],
   "source": [
    "len(df[df.reply3OrigReplyWhat!=0])"
   ]
  },
  {
   "cell_type": "code",
   "execution_count": 221,
   "metadata": {},
   "outputs": [
    {
     "data": {
      "text/plain": [
       "88"
      ]
     },
     "execution_count": 221,
     "metadata": {},
     "output_type": "execute_result"
    }
   ],
   "source": [
    "len(df[(df.reply3OrigReplyWho!=0) & (df.reply3OrigReplyWho!='0') & (df.reply3OrigReplyWhat==0)])"
   ]
  },
  {
   "cell_type": "code",
   "execution_count": 231,
   "metadata": {
    "collapsed": true
   },
   "outputs": [],
   "source": [
    "orig4Tweets=list(set(df.reply3OrigReplyWhat[df.reply3OrigReplyWhat!=0]) & set(df.id))"
   ]
  },
  {
   "cell_type": "code",
   "execution_count": 232,
   "metadata": {},
   "outputs": [
    {
     "data": {
      "text/plain": [
       "1121"
      ]
     },
     "execution_count": 232,
     "metadata": {},
     "output_type": "execute_result"
    }
   ],
   "source": [
    "len(orig4Tweets)"
   ]
  },
  {
   "cell_type": "markdown",
   "metadata": {},
   "source": [
    "# Add info about the 4th level of replied to tweets to the DF"
   ]
  },
  {
   "cell_type": "code",
   "execution_count": 233,
   "metadata": {
    "collapsed": true
   },
   "outputs": [],
   "source": [
    "df['reply4OrigTime']=0\n",
    "df['reply4OrigText']=0\n",
    "df['reply4OrigReplyWhat']=0\n",
    "df['reply4OrigReplyWho']=0"
   ]
  },
  {
   "cell_type": "code",
   "execution_count": 234,
   "metadata": {
    "collapsed": true
   },
   "outputs": [],
   "source": [
    "for id in orig4Tweets:\n",
    "    df.loc[df.reply3OrigReplyWhat==id, 'reply4OrigTime']=(df.loc[df.id==id,'date']).values[0]\n",
    "    df.loc[df.reply3OrigReplyWhat==id, 'reply4OrigText']=(df.loc[df.id==id,'text']).values[0]\n",
    "    df.loc[df.reply3OrigReplyWhat==id, 'reply4OrigReplyWhat']=(df.loc[df.id==id,'replyWhat']).values[0]\n",
    "    df.loc[df.reply3OrigReplyWhat==id, 'reply4OrigReplyWho']=(df.loc[df.id==id,'replyWho']).values[0]"
   ]
  },
  {
   "cell_type": "code",
   "execution_count": 235,
   "metadata": {},
   "outputs": [
    {
     "data": {
      "text/plain": [
       "1216"
      ]
     },
     "execution_count": 235,
     "metadata": {},
     "output_type": "execute_result"
    }
   ],
   "source": [
    "len(df[df.reply4OrigTime!=0])"
   ]
  },
  {
   "cell_type": "code",
   "execution_count": 236,
   "metadata": {},
   "outputs": [
    {
     "data": {
      "text/plain": [
       "897"
      ]
     },
     "execution_count": 236,
     "metadata": {},
     "output_type": "execute_result"
    }
   ],
   "source": [
    "len(df[(df.reply4OrigReplyWho!=0) & (df.reply4OrigReplyWho!='0')])"
   ]
  },
  {
   "cell_type": "code",
   "execution_count": 237,
   "metadata": {},
   "outputs": [
    {
     "data": {
      "text/plain": [
       "841"
      ]
     },
     "execution_count": 237,
     "metadata": {},
     "output_type": "execute_result"
    }
   ],
   "source": [
    "len(df[df.reply4OrigReplyWhat!=0])"
   ]
  },
  {
   "cell_type": "code",
   "execution_count": 239,
   "metadata": {
    "collapsed": true
   },
   "outputs": [],
   "source": [
    "orig5Tweets=list(set(df.reply4OrigReplyWhat[df.reply4OrigReplyWhat!=0]) & set(df.id))"
   ]
  },
  {
   "cell_type": "code",
   "execution_count": 240,
   "metadata": {},
   "outputs": [
    {
     "data": {
      "text/plain": [
       "737"
      ]
     },
     "execution_count": 240,
     "metadata": {},
     "output_type": "execute_result"
    }
   ],
   "source": [
    "len(orig5Tweets)"
   ]
  },
  {
   "cell_type": "markdown",
   "metadata": {},
   "source": [
    "Many of the conversation strands are in the df multiple times - from multiple persepctive!!! BEWARE"
   ]
  },
  {
   "cell_type": "markdown",
   "metadata": {},
   "source": [
    "# Add info about the 5th level of replied to tweets to the DF"
   ]
  },
  {
   "cell_type": "code",
   "execution_count": 247,
   "metadata": {
    "collapsed": true
   },
   "outputs": [],
   "source": [
    "df['reply5OrigTime']=0\n",
    "df['reply5OrigText']=0\n",
    "df['reply5OrigReplyWhat']=0\n",
    "df['reply5OrigReplyWho']=0"
   ]
  },
  {
   "cell_type": "code",
   "execution_count": 248,
   "metadata": {
    "collapsed": true
   },
   "outputs": [],
   "source": [
    "for id in orig5Tweets:\n",
    "    df.loc[df.reply4OrigReplyWhat==id, 'reply5OrigTime']=(df.loc[df.id==id,'date']).values[0]\n",
    "    df.loc[df.reply4OrigReplyWhat==id, 'reply5OrigText']=(df.loc[df.id==id,'text']).values[0]\n",
    "    df.loc[df.reply4OrigReplyWhat==id, 'reply5OrigReplyWhat']=(df.loc[df.id==id,'replyWhat']).values[0]\n",
    "    df.loc[df.reply4OrigReplyWhat==id, 'reply5OrigReplyWho']=(df.loc[df.id==id,'replyWho']).values[0]"
   ]
  },
  {
   "cell_type": "code",
   "execution_count": 249,
   "metadata": {},
   "outputs": [
    {
     "data": {
      "text/plain": [
       "797"
      ]
     },
     "execution_count": 249,
     "metadata": {},
     "output_type": "execute_result"
    }
   ],
   "source": [
    "len(df[df.reply5OrigTime!=0])"
   ]
  },
  {
   "cell_type": "code",
   "execution_count": 254,
   "metadata": {},
   "outputs": [
    {
     "data": {
      "text/plain": [
       "628"
      ]
     },
     "execution_count": 254,
     "metadata": {},
     "output_type": "execute_result"
    }
   ],
   "source": [
    "len(df[(df.reply5OrigReplyWho!=0) & (df.reply5OrigReplyWho!='0')])"
   ]
  },
  {
   "cell_type": "code",
   "execution_count": 255,
   "metadata": {},
   "outputs": [
    {
     "data": {
      "text/plain": [
       "596"
      ]
     },
     "execution_count": 255,
     "metadata": {},
     "output_type": "execute_result"
    }
   ],
   "source": [
    "len(df[df.reply5OrigReplyWhat!=0])"
   ]
  },
  {
   "cell_type": "code",
   "execution_count": 256,
   "metadata": {
    "collapsed": true
   },
   "outputs": [],
   "source": [
    "orig6Tweets=list(set(df.reply5OrigReplyWhat[df.reply5OrigReplyWhat!=0]) & set(df.id))"
   ]
  },
  {
   "cell_type": "code",
   "execution_count": 257,
   "metadata": {},
   "outputs": [
    {
     "data": {
      "text/plain": [
       "532"
      ]
     },
     "execution_count": 257,
     "metadata": {},
     "output_type": "execute_result"
    }
   ],
   "source": [
    "len(orig6Tweets)"
   ]
  },
  {
   "cell_type": "markdown",
   "metadata": {},
   "source": [
    "# Add info about the 6th level of replied to tweets to the DF"
   ]
  },
  {
   "cell_type": "code",
   "execution_count": 258,
   "metadata": {
    "collapsed": true
   },
   "outputs": [],
   "source": [
    "df['reply6OrigTime']=0\n",
    "df['reply6OrigText']=0\n",
    "df['reply6OrigReplyWhat']=0\n",
    "df['reply6OrigReplyWho']=0"
   ]
  },
  {
   "cell_type": "code",
   "execution_count": 259,
   "metadata": {
    "collapsed": true
   },
   "outputs": [],
   "source": [
    "for id in orig6Tweets:\n",
    "    df.loc[df.reply5OrigReplyWhat==id, 'reply6OrigTime']=(df.loc[df.id==id,'date']).values[0]\n",
    "    df.loc[df.reply5OrigReplyWhat==id, 'reply6OrigText']=(df.loc[df.id==id,'text']).values[0]\n",
    "    df.loc[df.reply5OrigReplyWhat==id, 'reply6OrigReplyWhat']=(df.loc[df.id==id,'replyWhat']).values[0]\n",
    "    df.loc[df.reply5OrigReplyWhat==id, 'reply6OrigReplyWho']=(df.loc[df.id==id,'replyWho']).values[0]"
   ]
  },
  {
   "cell_type": "code",
   "execution_count": 260,
   "metadata": {},
   "outputs": [
    {
     "data": {
      "text/plain": [
       "571"
      ]
     },
     "execution_count": 260,
     "metadata": {},
     "output_type": "execute_result"
    }
   ],
   "source": [
    "len(df[df.reply6OrigTime!=0])"
   ]
  },
  {
   "cell_type": "code",
   "execution_count": 261,
   "metadata": {},
   "outputs": [
    {
     "data": {
      "text/plain": [
       "489"
      ]
     },
     "execution_count": 261,
     "metadata": {},
     "output_type": "execute_result"
    }
   ],
   "source": [
    "len(df[(df.reply6OrigReplyWho!=0) & (df.reply6OrigReplyWho!='0')])"
   ]
  },
  {
   "cell_type": "code",
   "execution_count": 262,
   "metadata": {},
   "outputs": [
    {
     "data": {
      "text/plain": [
       "466"
      ]
     },
     "execution_count": 262,
     "metadata": {},
     "output_type": "execute_result"
    }
   ],
   "source": [
    "len(df[df.reply6OrigReplyWhat!=0])"
   ]
  },
  {
   "cell_type": "code",
   "execution_count": 265,
   "metadata": {},
   "outputs": [],
   "source": [
    "orig7Tweets=list(set(df.reply6OrigReplyWhat[df.reply6OrigReplyWhat!=0]) & set(df.id))"
   ]
  },
  {
   "cell_type": "code",
   "execution_count": 266,
   "metadata": {},
   "outputs": [
    {
     "data": {
      "text/plain": [
       "420"
      ]
     },
     "execution_count": 266,
     "metadata": {},
     "output_type": "execute_result"
    }
   ],
   "source": [
    "len(orig7Tweets)"
   ]
  },
  {
   "cell_type": "markdown",
   "metadata": {},
   "source": [
    "# Add info about the 7th level of replied to tweets to the DF"
   ]
  },
  {
   "cell_type": "code",
   "execution_count": 267,
   "metadata": {
    "collapsed": true
   },
   "outputs": [],
   "source": [
    "df['reply7OrigTime']=0\n",
    "df['reply7OrigText']=0\n",
    "df['reply7OrigReplyWhat']=0\n",
    "df['reply7OrigReplyWho']=0"
   ]
  },
  {
   "cell_type": "code",
   "execution_count": 268,
   "metadata": {
    "collapsed": true
   },
   "outputs": [],
   "source": [
    "for id in orig7Tweets:\n",
    "    df.loc[df.reply6OrigReplyWhat==id, 'reply7OrigTime']=(df.loc[df.id==id,'date']).values[0]\n",
    "    df.loc[df.reply6OrigReplyWhat==id, 'reply7OrigText']=(df.loc[df.id==id,'text']).values[0]\n",
    "    df.loc[df.reply6OrigReplyWhat==id, 'reply7OrigReplyWhat']=(df.loc[df.id==id,'replyWhat']).values[0]\n",
    "    df.loc[df.reply6OrigReplyWhat==id, 'reply7OrigReplyWho']=(df.loc[df.id==id,'replyWho']).values[0]"
   ]
  },
  {
   "cell_type": "code",
   "execution_count": 269,
   "metadata": {},
   "outputs": [
    {
     "data": {
      "text/plain": [
       "450"
      ]
     },
     "execution_count": 269,
     "metadata": {},
     "output_type": "execute_result"
    }
   ],
   "source": [
    "len(df[df.reply7OrigTime!=0])"
   ]
  },
  {
   "cell_type": "code",
   "execution_count": 270,
   "metadata": {},
   "outputs": [
    {
     "data": {
      "text/plain": [
       "402"
      ]
     },
     "execution_count": 270,
     "metadata": {},
     "output_type": "execute_result"
    }
   ],
   "source": [
    "len(df[(df.reply7OrigReplyWho!=0) & (df.reply7OrigReplyWho!='0')])"
   ]
  },
  {
   "cell_type": "code",
   "execution_count": 271,
   "metadata": {},
   "outputs": [
    {
     "data": {
      "text/plain": [
       "390"
      ]
     },
     "execution_count": 271,
     "metadata": {},
     "output_type": "execute_result"
    }
   ],
   "source": [
    "len(df[df.reply7OrigReplyWhat!=0])"
   ]
  },
  {
   "cell_type": "code",
   "execution_count": 272,
   "metadata": {
    "collapsed": true
   },
   "outputs": [],
   "source": [
    "orig8Tweets=list(set(df.reply7OrigReplyWhat[df.reply7OrigReplyWhat!=0]) & set(df.id))"
   ]
  },
  {
   "cell_type": "code",
   "execution_count": 273,
   "metadata": {},
   "outputs": [
    {
     "data": {
      "text/plain": [
       "354"
      ]
     },
     "execution_count": 273,
     "metadata": {},
     "output_type": "execute_result"
    }
   ],
   "source": [
    "len(orig8Tweets)"
   ]
  },
  {
   "cell_type": "markdown",
   "metadata": {},
   "source": [
    "# Add info about the 8th level of replied to tweets to the DF"
   ]
  },
  {
   "cell_type": "code",
   "execution_count": 274,
   "metadata": {
    "collapsed": true
   },
   "outputs": [],
   "source": [
    "df['reply8OrigTime']=0\n",
    "df['reply8OrigText']=0\n",
    "df['reply8OrigReplyWhat']=0\n",
    "df['reply8OrigReplyWho']=0"
   ]
  },
  {
   "cell_type": "code",
   "execution_count": 275,
   "metadata": {
    "collapsed": true
   },
   "outputs": [],
   "source": [
    "for id in orig8Tweets:\n",
    "    df.loc[df.reply7OrigReplyWhat==id, 'reply8OrigTime']=(df.loc[df.id==id,'date']).values[0]\n",
    "    df.loc[df.reply7OrigReplyWhat==id, 'reply8OrigText']=(df.loc[df.id==id,'text']).values[0]\n",
    "    df.loc[df.reply7OrigReplyWhat==id, 'reply8OrigReplyWhat']=(df.loc[df.id==id,'replyWhat']).values[0]\n",
    "    df.loc[df.reply7OrigReplyWhat==id, 'reply8OrigReplyWho']=(df.loc[df.id==id,'replyWho']).values[0]"
   ]
  },
  {
   "cell_type": "code",
   "execution_count": 276,
   "metadata": {},
   "outputs": [
    {
     "data": {
      "text/plain": [
       "377"
      ]
     },
     "execution_count": 276,
     "metadata": {},
     "output_type": "execute_result"
    }
   ],
   "source": [
    "len(df[df.reply8OrigTime!=0])"
   ]
  },
  {
   "cell_type": "code",
   "execution_count": 277,
   "metadata": {},
   "outputs": [
    {
     "data": {
      "text/plain": [
       "339"
      ]
     },
     "execution_count": 277,
     "metadata": {},
     "output_type": "execute_result"
    }
   ],
   "source": [
    "len(df[(df.reply8OrigReplyWho!=0) & (df.reply8OrigReplyWho!='0')])"
   ]
  },
  {
   "cell_type": "code",
   "execution_count": 278,
   "metadata": {},
   "outputs": [
    {
     "data": {
      "text/plain": [
       "333"
      ]
     },
     "execution_count": 278,
     "metadata": {},
     "output_type": "execute_result"
    }
   ],
   "source": [
    "len(df[df.reply8OrigReplyWhat!=0])"
   ]
  },
  {
   "cell_type": "code",
   "execution_count": 279,
   "metadata": {
    "collapsed": true
   },
   "outputs": [],
   "source": [
    "orig9Tweets=list(set(df.reply8OrigReplyWhat[df.reply8OrigReplyWhat!=0]) & set(df.id))"
   ]
  },
  {
   "cell_type": "code",
   "execution_count": 280,
   "metadata": {},
   "outputs": [
    {
     "data": {
      "text/plain": [
       "309"
      ]
     },
     "execution_count": 280,
     "metadata": {},
     "output_type": "execute_result"
    }
   ],
   "source": [
    "len(orig9Tweets)"
   ]
  },
  {
   "cell_type": "markdown",
   "metadata": {},
   "source": [
    "As the tweet has more and more originals, the originals are more likely to have originals - I guess we are selcting for certain users - people who go back and forth, do it a lot?"
   ]
  },
  {
   "cell_type": "markdown",
   "metadata": {},
   "source": [
    "# Add info about the 9th level of replied to tweets to the DF"
   ]
  },
  {
   "cell_type": "code",
   "execution_count": 281,
   "metadata": {
    "collapsed": true
   },
   "outputs": [],
   "source": [
    "df['reply9OrigTime']=0\n",
    "df['reply9OrigText']=0\n",
    "df['reply9OrigReplyWhat']=0\n",
    "df['reply9OrigReplyWho']=0"
   ]
  },
  {
   "cell_type": "code",
   "execution_count": 282,
   "metadata": {
    "collapsed": true
   },
   "outputs": [],
   "source": [
    "for id in orig9Tweets:\n",
    "    df.loc[df.reply8OrigReplyWhat==id, 'reply9OrigTime']=(df.loc[df.id==id,'date']).values[0]\n",
    "    df.loc[df.reply8OrigReplyWhat==id, 'reply9OrigText']=(df.loc[df.id==id,'text']).values[0]\n",
    "    df.loc[df.reply8OrigReplyWhat==id, 'reply9OrigReplyWhat']=(df.loc[df.id==id,'replyWhat']).values[0]\n",
    "    df.loc[df.reply8OrigReplyWhat==id, 'reply9OrigReplyWho']=(df.loc[df.id==id,'replyWho']).values[0]"
   ]
  },
  {
   "cell_type": "code",
   "execution_count": 284,
   "metadata": {},
   "outputs": [
    {
     "data": {
      "text/plain": [
       "326"
      ]
     },
     "execution_count": 284,
     "metadata": {},
     "output_type": "execute_result"
    }
   ],
   "source": [
    "len(df[df.reply9OrigTime!=0])"
   ]
  },
  {
   "cell_type": "code",
   "execution_count": 285,
   "metadata": {},
   "outputs": [
    {
     "data": {
      "text/plain": [
       "308"
      ]
     },
     "execution_count": 285,
     "metadata": {},
     "output_type": "execute_result"
    }
   ],
   "source": [
    "len(df[(df.reply9OrigReplyWho!=0) & (df.reply9OrigReplyWho!='0')])"
   ]
  },
  {
   "cell_type": "code",
   "execution_count": 286,
   "metadata": {},
   "outputs": [
    {
     "data": {
      "text/plain": [
       "303"
      ]
     },
     "execution_count": 286,
     "metadata": {},
     "output_type": "execute_result"
    }
   ],
   "source": [
    "len(df[df.reply9OrigReplyWhat!=0])"
   ]
  },
  {
   "cell_type": "code",
   "execution_count": 287,
   "metadata": {
    "collapsed": true
   },
   "outputs": [],
   "source": [
    "orig10Tweets=list(set(df.reply9OrigReplyWhat[df.reply9OrigReplyWhat!=0]) & set(df.id))"
   ]
  },
  {
   "cell_type": "code",
   "execution_count": 288,
   "metadata": {},
   "outputs": [
    {
     "data": {
      "text/plain": [
       "282"
      ]
     },
     "execution_count": 288,
     "metadata": {},
     "output_type": "execute_result"
    }
   ],
   "source": [
    "len(orig10Tweets)"
   ]
  },
  {
   "cell_type": "markdown",
   "metadata": {},
   "source": [
    "# Add info about the 10th level of replied to tweets to the DF"
   ]
  },
  {
   "cell_type": "code",
   "execution_count": 289,
   "metadata": {
    "collapsed": true
   },
   "outputs": [],
   "source": [
    "df['reply10OrigTime']=0\n",
    "df['reply10OrigText']=0\n",
    "df['reply10OrigReplyWhat']=0\n",
    "df['reply10OrigReplyWho']=0"
   ]
  },
  {
   "cell_type": "code",
   "execution_count": 290,
   "metadata": {
    "collapsed": true
   },
   "outputs": [],
   "source": [
    "for id in orig10Tweets:\n",
    "    df.loc[df.reply9OrigReplyWhat==id, 'reply10OrigTime']=(df.loc[df.id==id,'date']).values[0]\n",
    "    df.loc[df.reply9OrigReplyWhat==id, 'reply10OrigText']=(df.loc[df.id==id,'text']).values[0]\n",
    "    df.loc[df.reply9OrigReplyWhat==id, 'reply10OrigReplyWhat']=(df.loc[df.id==id,'replyWhat']).values[0]\n",
    "    df.loc[df.reply9OrigReplyWhat==id, 'reply10OrigReplyWho']=(df.loc[df.id==id,'replyWho']).values[0]"
   ]
  },
  {
   "cell_type": "code",
   "execution_count": 291,
   "metadata": {},
   "outputs": [
    {
     "data": {
      "text/plain": [
       "298"
      ]
     },
     "execution_count": 291,
     "metadata": {},
     "output_type": "execute_result"
    }
   ],
   "source": [
    "len(df[df.reply10OrigTime!=0])"
   ]
  },
  {
   "cell_type": "code",
   "execution_count": 292,
   "metadata": {},
   "outputs": [
    {
     "data": {
      "text/plain": [
       "283"
      ]
     },
     "execution_count": 292,
     "metadata": {},
     "output_type": "execute_result"
    }
   ],
   "source": [
    "len(df[(df.reply10OrigReplyWho!=0) & (df.reply10OrigReplyWho!='0')])"
   ]
  },
  {
   "cell_type": "code",
   "execution_count": 293,
   "metadata": {},
   "outputs": [
    {
     "data": {
      "text/plain": [
       "279"
      ]
     },
     "execution_count": 293,
     "metadata": {},
     "output_type": "execute_result"
    }
   ],
   "source": [
    "len(df[df.reply10OrigReplyWhat!=0])"
   ]
  },
  {
   "cell_type": "code",
   "execution_count": 294,
   "metadata": {
    "collapsed": true
   },
   "outputs": [],
   "source": [
    "orig11Tweets=list(set(df.reply10OrigReplyWhat[df.reply10OrigReplyWhat!=0]) & set(df.id))"
   ]
  },
  {
   "cell_type": "code",
   "execution_count": 295,
   "metadata": {},
   "outputs": [
    {
     "data": {
      "text/plain": [
       "260"
      ]
     },
     "execution_count": 295,
     "metadata": {},
     "output_type": "execute_result"
    }
   ],
   "source": [
    "len(orig11Tweets)"
   ]
  },
  {
   "cell_type": "markdown",
   "metadata": {},
   "source": [
    "# Add info about the 11th level of replied to tweets to the DF"
   ]
  },
  {
   "cell_type": "code",
   "execution_count": 296,
   "metadata": {
    "collapsed": true
   },
   "outputs": [],
   "source": [
    "df['reply11OrigTime']=0\n",
    "df['reply11OrigText']=0\n",
    "df['reply11OrigReplyWhat']=0\n",
    "df['reply11OrigReplyWho']=0"
   ]
  },
  {
   "cell_type": "code",
   "execution_count": 297,
   "metadata": {
    "collapsed": true
   },
   "outputs": [],
   "source": [
    "for id in orig11Tweets:\n",
    "    df.loc[df.reply10OrigReplyWhat==id, 'reply11OrigTime']=(df.loc[df.id==id,'date']).values[0]\n",
    "    df.loc[df.reply10OrigReplyWhat==id, 'reply11OrigText']=(df.loc[df.id==id,'text']).values[0]\n",
    "    df.loc[df.reply10OrigReplyWhat==id, 'reply11OrigReplyWhat']=(df.loc[df.id==id,'replyWhat']).values[0]\n",
    "    df.loc[df.reply10OrigReplyWhat==id, 'reply11OrigReplyWho']=(df.loc[df.id==id,'replyWho']).values[0]"
   ]
  },
  {
   "cell_type": "code",
   "execution_count": 299,
   "metadata": {},
   "outputs": [
    {
     "data": {
      "text/plain": [
       "275"
      ]
     },
     "execution_count": 299,
     "metadata": {},
     "output_type": "execute_result"
    }
   ],
   "source": [
    "len(df[df.reply11OrigTime!=0])"
   ]
  },
  {
   "cell_type": "code",
   "execution_count": 300,
   "metadata": {},
   "outputs": [
    {
     "data": {
      "text/plain": [
       "263"
      ]
     },
     "execution_count": 300,
     "metadata": {},
     "output_type": "execute_result"
    }
   ],
   "source": [
    "len(df[(df.reply11OrigReplyWho!=0) & (df.reply11OrigReplyWho!='0')])"
   ]
  },
  {
   "cell_type": "code",
   "execution_count": 301,
   "metadata": {},
   "outputs": [
    {
     "data": {
      "text/plain": [
       "259"
      ]
     },
     "execution_count": 301,
     "metadata": {},
     "output_type": "execute_result"
    }
   ],
   "source": [
    "len(df[df.reply11OrigReplyWhat!=0])"
   ]
  },
  {
   "cell_type": "code",
   "execution_count": 302,
   "metadata": {
    "collapsed": true
   },
   "outputs": [],
   "source": [
    "orig12Tweets=list(set(df.reply11OrigReplyWhat[df.reply11OrigReplyWhat!=0]) & set(df.id))"
   ]
  },
  {
   "cell_type": "code",
   "execution_count": 303,
   "metadata": {},
   "outputs": [
    {
     "data": {
      "text/plain": [
       "241"
      ]
     },
     "execution_count": 303,
     "metadata": {},
     "output_type": "execute_result"
    }
   ],
   "source": [
    "len(orig12Tweets)"
   ]
  },
  {
   "cell_type": "markdown",
   "metadata": {},
   "source": [
    "# Add info about the 12th level of replied to tweets to the DF"
   ]
  },
  {
   "cell_type": "code",
   "execution_count": 307,
   "metadata": {
    "collapsed": true
   },
   "outputs": [],
   "source": [
    "df['reply12OrigTime']=0\n",
    "df['reply12OrigText']=0\n",
    "df['reply12OrigReplyWhat']=0\n",
    "df['reply12OrigReplyWho']=0"
   ]
  },
  {
   "cell_type": "code",
   "execution_count": 308,
   "metadata": {
    "collapsed": true
   },
   "outputs": [],
   "source": [
    "for id in orig12Tweets:\n",
    "    df.loc[df.reply11OrigReplyWhat==id, 'reply12OrigTime']=(df.loc[df.id==id,'date']).values[0]\n",
    "    df.loc[df.reply11OrigReplyWhat==id, 'reply12OrigText']=(df.loc[df.id==id,'text']).values[0]\n",
    "    df.loc[df.reply11OrigReplyWhat==id, 'reply12OrigReplyWhat']=(df.loc[df.id==id,'replyWhat']).values[0]\n",
    "    df.loc[df.reply11OrigReplyWhat==id, 'reply12OrigReplyWho']=(df.loc[df.id==id,'replyWho']).values[0]"
   ]
  },
  {
   "cell_type": "code",
   "execution_count": 309,
   "metadata": {},
   "outputs": [
    {
     "data": {
      "text/plain": [
       "255"
      ]
     },
     "execution_count": 309,
     "metadata": {},
     "output_type": "execute_result"
    }
   ],
   "source": [
    "len(df[df.reply12OrigTime!=0])"
   ]
  },
  {
   "cell_type": "code",
   "execution_count": 310,
   "metadata": {},
   "outputs": [
    {
     "data": {
      "text/plain": [
       "243"
      ]
     },
     "execution_count": 310,
     "metadata": {},
     "output_type": "execute_result"
    }
   ],
   "source": [
    "len(df[(df.reply12OrigReplyWho!=0) & (df.reply12OrigReplyWho!='0')])"
   ]
  },
  {
   "cell_type": "code",
   "execution_count": 311,
   "metadata": {},
   "outputs": [
    {
     "data": {
      "text/plain": [
       "241"
      ]
     },
     "execution_count": 311,
     "metadata": {},
     "output_type": "execute_result"
    }
   ],
   "source": [
    "len(df[df.reply12OrigReplyWhat!=0])"
   ]
  },
  {
   "cell_type": "code",
   "execution_count": 312,
   "metadata": {
    "collapsed": true
   },
   "outputs": [],
   "source": [
    "orig13Tweets=list(set(df.reply12OrigReplyWhat[df.reply12OrigReplyWhat!=0]) & set(df.id))"
   ]
  },
  {
   "cell_type": "code",
   "execution_count": 313,
   "metadata": {},
   "outputs": [
    {
     "data": {
      "text/plain": [
       "224"
      ]
     },
     "execution_count": 313,
     "metadata": {},
     "output_type": "execute_result"
    }
   ],
   "source": [
    "len(orig13Tweets)"
   ]
  },
  {
   "cell_type": "markdown",
   "metadata": {},
   "source": [
    "# Add info about the 13th level of replied to tweets to the DF"
   ]
  },
  {
   "cell_type": "code",
   "execution_count": 315,
   "metadata": {
    "collapsed": true
   },
   "outputs": [],
   "source": [
    "df['reply13OrigTime']=0\n",
    "df['reply13OrigText']=0\n",
    "df['reply13OrigReplyWhat']=0\n",
    "df['reply13OrigReplyWho']=0"
   ]
  },
  {
   "cell_type": "code",
   "execution_count": 316,
   "metadata": {
    "collapsed": true
   },
   "outputs": [],
   "source": [
    "for id in orig13Tweets:\n",
    "    df.loc[df.reply12OrigReplyWhat==id, 'reply13OrigTime']=(df.loc[df.id==id,'date']).values[0]\n",
    "    df.loc[df.reply12OrigReplyWhat==id, 'reply13OrigText']=(df.loc[df.id==id,'text']).values[0]\n",
    "    df.loc[df.reply12OrigReplyWhat==id, 'reply13OrigReplyWhat']=(df.loc[df.id==id,'replyWhat']).values[0]\n",
    "    df.loc[df.reply12OrigReplyWhat==id, 'reply13OrigReplyWho']=(df.loc[df.id==id,'replyWho']).values[0]"
   ]
  },
  {
   "cell_type": "code",
   "execution_count": 317,
   "metadata": {},
   "outputs": [
    {
     "data": {
      "text/plain": [
       "237"
      ]
     },
     "execution_count": 317,
     "metadata": {},
     "output_type": "execute_result"
    }
   ],
   "source": [
    "len(df[df.reply13OrigTime!=0])"
   ]
  },
  {
   "cell_type": "code",
   "execution_count": 318,
   "metadata": {},
   "outputs": [
    {
     "data": {
      "text/plain": [
       "225"
      ]
     },
     "execution_count": 318,
     "metadata": {},
     "output_type": "execute_result"
    }
   ],
   "source": [
    "len(df[(df.reply13OrigReplyWho!=0) & (df.reply13OrigReplyWho!='0')])"
   ]
  },
  {
   "cell_type": "code",
   "execution_count": 319,
   "metadata": {},
   "outputs": [
    {
     "data": {
      "text/plain": [
       "219"
      ]
     },
     "execution_count": 319,
     "metadata": {},
     "output_type": "execute_result"
    }
   ],
   "source": [
    "len(df[df.reply13OrigReplyWhat!=0])"
   ]
  },
  {
   "cell_type": "code",
   "execution_count": 321,
   "metadata": {},
   "outputs": [
    {
     "data": {
      "text/plain": [
       "array([ 74255540,  26957356, 335957725, 625674545, 278916697,  33195508,\n",
       "       526539681,  21201205,  56464727, 329752526, 378383396, 426071565])"
      ]
     },
     "execution_count": 321,
     "metadata": {},
     "output_type": "execute_result"
    }
   ],
   "source": [
    "df.user_id[df.reply13OrigReplyWhat!=0].unique()"
   ]
  },
  {
   "cell_type": "markdown",
   "metadata": {},
   "source": [
    "The same 12 users keep going back and forth"
   ]
  },
  {
   "cell_type": "code",
   "execution_count": 322,
   "metadata": {
    "collapsed": true
   },
   "outputs": [],
   "source": [
    "orig14Tweets=list(set(df.reply13OrigReplyWhat[df.reply13OrigReplyWhat!=0]) & set(df.id))"
   ]
  },
  {
   "cell_type": "code",
   "execution_count": 323,
   "metadata": {},
   "outputs": [
    {
     "data": {
      "text/plain": [
       "207"
      ]
     },
     "execution_count": 323,
     "metadata": {},
     "output_type": "execute_result"
    }
   ],
   "source": [
    "len(orig14Tweets)"
   ]
  },
  {
   "cell_type": "markdown",
   "metadata": {},
   "source": [
    "# Add info about the 14th level of replied to tweets to the DF"
   ]
  },
  {
   "cell_type": "code",
   "execution_count": 330,
   "metadata": {
    "collapsed": true
   },
   "outputs": [],
   "source": [
    "df['reply14OrigTime']=0\n",
    "df['reply14OrigText']=0\n",
    "df['reply14OrigReplyWhat']=0\n",
    "df['reply14OrigReplyWho']=0"
   ]
  },
  {
   "cell_type": "code",
   "execution_count": 331,
   "metadata": {
    "collapsed": true
   },
   "outputs": [],
   "source": [
    "for id in orig14Tweets:\n",
    "    df.loc[df.reply13OrigReplyWhat==id, 'reply14OrigTime']=(df.loc[df.id==id,'date']).values[0]\n",
    "    df.loc[df.reply13OrigReplyWhat==id, 'reply14OrigText']=(df.loc[df.id==id,'text']).values[0]\n",
    "    df.loc[df.reply13OrigReplyWhat==id, 'reply14OrigReplyWhat']=(df.loc[df.id==id,'replyWhat']).values[0]\n",
    "    df.loc[df.reply13OrigReplyWhat==id, 'reply14OrigReplyWho']=(df.loc[df.id==id,'replyWho']).values[0]"
   ]
  },
  {
   "cell_type": "code",
   "execution_count": 333,
   "metadata": {},
   "outputs": [
    {
     "data": {
      "text/plain": [
       "216"
      ]
     },
     "execution_count": 333,
     "metadata": {},
     "output_type": "execute_result"
    }
   ],
   "source": [
    "len(df[df.reply14OrigTime!=0])"
   ]
  },
  {
   "cell_type": "code",
   "execution_count": 334,
   "metadata": {},
   "outputs": [
    {
     "data": {
      "text/plain": [
       "205"
      ]
     },
     "execution_count": 334,
     "metadata": {},
     "output_type": "execute_result"
    }
   ],
   "source": [
    "len(df[(df.reply14OrigReplyWho!=0) & (df.reply14OrigReplyWho!='0')])"
   ]
  },
  {
   "cell_type": "code",
   "execution_count": 335,
   "metadata": {},
   "outputs": [
    {
     "data": {
      "text/plain": [
       "203"
      ]
     },
     "execution_count": 335,
     "metadata": {},
     "output_type": "execute_result"
    }
   ],
   "source": [
    "len(df[df.reply14OrigReplyWhat!=0])"
   ]
  },
  {
   "cell_type": "code",
   "execution_count": 336,
   "metadata": {
    "collapsed": true
   },
   "outputs": [],
   "source": [
    "orig15Tweets=list(set(df.reply14OrigReplyWhat[df.reply14OrigReplyWhat!=0]) & set(df.id))"
   ]
  },
  {
   "cell_type": "code",
   "execution_count": 337,
   "metadata": {},
   "outputs": [
    {
     "data": {
      "text/plain": [
       "192"
      ]
     },
     "execution_count": 337,
     "metadata": {},
     "output_type": "execute_result"
    }
   ],
   "source": [
    "len(orig15Tweets)"
   ]
  },
  {
   "cell_type": "code",
   "execution_count": 339,
   "metadata": {},
   "outputs": [
    {
     "data": {
      "text/plain": [
       "array([ 26957356,  74255540, 625674545, 526539681,  33195508,  21201205,\n",
       "       278916697, 329752526,  56464727, 426071565, 378383396])"
      ]
     },
     "execution_count": 339,
     "metadata": {},
     "output_type": "execute_result"
    }
   ],
   "source": [
    "df.user_id[df.reply14OrigReplyWhat!=0].unique()"
   ]
  },
  {
   "cell_type": "markdown",
   "metadata": {},
   "source": [
    "# Add info about the 15th level of replied to tweets to the DF"
   ]
  },
  {
   "cell_type": "code",
   "execution_count": 356,
   "metadata": {},
   "outputs": [],
   "source": [
    "df['reply15OrigTime']=0\n",
    "df['reply15OrigText']=0\n",
    "df['reply15OrigReplyWhat']=0\n",
    "df['reply15OrigReplyWho']=0"
   ]
  },
  {
   "cell_type": "code",
   "execution_count": 357,
   "metadata": {},
   "outputs": [],
   "source": [
    "for id in orig15Tweets:\n",
    "    df.loc[df.reply14OrigReplyWhat==id, 'reply15OrigTime']=(df.loc[df.id==id,'date']).values[0]\n",
    "    df.loc[df.reply14OrigReplyWhat==id, 'reply15OrigText']=(df.loc[df.id==id,'text']).values[0]\n",
    "    df.loc[df.reply14OrigReplyWhat==id, 'reply15OrigReplyWhat']=(df.loc[df.id==id,'replyWhat']).values[0]\n",
    "    df.loc[df.reply14OrigReplyWhat==id, 'reply15OrigReplyWho']=(df.loc[df.id==id,'replyWho']).values[0]"
   ]
  },
  {
   "cell_type": "code",
   "execution_count": 358,
   "metadata": {},
   "outputs": [
    {
     "data": {
      "text/plain": [
       "201"
      ]
     },
     "execution_count": 358,
     "metadata": {},
     "output_type": "execute_result"
    }
   ],
   "source": [
    "len(df[df.reply15OrigTime!=0])"
   ]
  },
  {
   "cell_type": "code",
   "execution_count": 359,
   "metadata": {},
   "outputs": [
    {
     "data": {
      "text/plain": [
       "190"
      ]
     },
     "execution_count": 359,
     "metadata": {},
     "output_type": "execute_result"
    }
   ],
   "source": [
    "len(df[(df.reply15OrigReplyWho!=0) & (df.reply15OrigReplyWho!='0')])"
   ]
  },
  {
   "cell_type": "code",
   "execution_count": 361,
   "metadata": {},
   "outputs": [
    {
     "data": {
      "text/plain": [
       "187"
      ]
     },
     "execution_count": 361,
     "metadata": {},
     "output_type": "execute_result"
    }
   ],
   "source": [
    "len(df[df.reply15OrigReplyWhat!=0])"
   ]
  },
  {
   "cell_type": "code",
   "execution_count": 362,
   "metadata": {
    "collapsed": true
   },
   "outputs": [],
   "source": [
    "orig16Tweets=list(set(df.reply15OrigReplyWhat[df.reply15OrigReplyWhat!=0]) & set(df.id))"
   ]
  },
  {
   "cell_type": "code",
   "execution_count": 363,
   "metadata": {},
   "outputs": [
    {
     "data": {
      "text/plain": [
       "177"
      ]
     },
     "execution_count": 363,
     "metadata": {},
     "output_type": "execute_result"
    }
   ],
   "source": [
    "len(orig16Tweets)"
   ]
  },
  {
   "cell_type": "code",
   "execution_count": 370,
   "metadata": {
    "collapsed": true
   },
   "outputs": [],
   "source": [
    "del df['origTweet']\n",
    "del df['origUser']\n",
    "del df['origTime']\n",
    "del df['origPlace']\n",
    "del df['origUserCreated']"
   ]
  },
  {
   "cell_type": "markdown",
   "metadata": {},
   "source": [
    "df[df.reply15OrigReplyWhat!=0].loc[30450]"
   ]
  },
  {
   "cell_type": "markdown",
   "metadata": {},
   "source": [
    "Remove some columns not needed for this analsis to keep DF smaller"
   ]
  },
  {
   "cell_type": "markdown",
   "metadata": {},
   "source": [
    "# Add info about the 16th level of replied to tweets to the DF"
   ]
  },
  {
   "cell_type": "code",
   "execution_count": 372,
   "metadata": {
    "collapsed": true
   },
   "outputs": [],
   "source": [
    "df['reply16OrigTime']=0\n",
    "df['reply16OrigText']=0\n",
    "df['reply16OrigReplyWhat']=0\n",
    "df['reply16OrigReplyWho']=0"
   ]
  },
  {
   "cell_type": "code",
   "execution_count": 373,
   "metadata": {
    "collapsed": true
   },
   "outputs": [],
   "source": [
    "for id in orig16Tweets:\n",
    "    df.loc[df.reply15OrigReplyWhat==id, 'reply16OrigTime']=(df.loc[df.id==id,'date']).values[0]\n",
    "    df.loc[df.reply15OrigReplyWhat==id, 'reply16OrigText']=(df.loc[df.id==id,'text']).values[0]\n",
    "    df.loc[df.reply15OrigReplyWhat==id, 'reply16OrigReplyWhat']=(df.loc[df.id==id,'replyWhat']).values[0]\n",
    "    df.loc[df.reply15OrigReplyWhat==id, 'reply16OrigReplyWho']=(df.loc[df.id==id,'replyWho']).values[0]"
   ]
  },
  {
   "cell_type": "code",
   "execution_count": 374,
   "metadata": {},
   "outputs": [
    {
     "data": {
      "text/plain": [
       "185"
      ]
     },
     "execution_count": 374,
     "metadata": {},
     "output_type": "execute_result"
    }
   ],
   "source": [
    "len(df[df.reply16OrigTime!=0])"
   ]
  },
  {
   "cell_type": "code",
   "execution_count": 375,
   "metadata": {},
   "outputs": [
    {
     "data": {
      "text/plain": [
       "176"
      ]
     },
     "execution_count": 375,
     "metadata": {},
     "output_type": "execute_result"
    }
   ],
   "source": [
    "len(df[(df.reply16OrigReplyWho!=0) & (df.reply16OrigReplyWho!='0')])"
   ]
  },
  {
   "cell_type": "code",
   "execution_count": 376,
   "metadata": {},
   "outputs": [
    {
     "data": {
      "text/plain": [
       "173"
      ]
     },
     "execution_count": 376,
     "metadata": {},
     "output_type": "execute_result"
    }
   ],
   "source": [
    "len(df[df.reply16OrigReplyWhat!=0])"
   ]
  },
  {
   "cell_type": "code",
   "execution_count": 377,
   "metadata": {
    "collapsed": true
   },
   "outputs": [],
   "source": [
    "orig17Tweets=list(set(df.reply16OrigReplyWhat[df.reply16OrigReplyWhat!=0]) & set(df.id))"
   ]
  },
  {
   "cell_type": "code",
   "execution_count": 378,
   "metadata": {},
   "outputs": [
    {
     "data": {
      "text/plain": [
       "165"
      ]
     },
     "execution_count": 378,
     "metadata": {},
     "output_type": "execute_result"
    }
   ],
   "source": [
    "len(orig17Tweets)"
   ]
  },
  {
   "cell_type": "markdown",
   "metadata": {},
   "source": [
    "# Add info about the 17th level of replied to tweets to the DF"
   ]
  },
  {
   "cell_type": "code",
   "execution_count": 380,
   "metadata": {
    "collapsed": true
   },
   "outputs": [],
   "source": [
    "df['reply17OrigTime']=0\n",
    "df['reply17OrigText']=0\n",
    "df['reply17OrigReplyWhat']=0\n",
    "df['reply17OrigReplyWho']=0"
   ]
  },
  {
   "cell_type": "code",
   "execution_count": 381,
   "metadata": {
    "collapsed": true
   },
   "outputs": [],
   "source": [
    "for id in orig17Tweets:\n",
    "    df.loc[df.reply16OrigReplyWhat==id, 'reply17OrigTime']=(df.loc[df.id==id,'date']).values[0]\n",
    "    df.loc[df.reply16OrigReplyWhat==id, 'reply17OrigText']=(df.loc[df.id==id,'text']).values[0]\n",
    "    df.loc[df.reply16OrigReplyWhat==id, 'reply17OrigReplyWhat']=(df.loc[df.id==id,'replyWhat']).values[0]\n",
    "    df.loc[df.reply16OrigReplyWhat==id, 'reply17OrigReplyWho']=(df.loc[df.id==id,'replyWho']).values[0]"
   ]
  },
  {
   "cell_type": "code",
   "execution_count": 382,
   "metadata": {},
   "outputs": [
    {
     "data": {
      "text/plain": [
       "170"
      ]
     },
     "execution_count": 382,
     "metadata": {},
     "output_type": "execute_result"
    }
   ],
   "source": [
    "len(df[df.reply17OrigTime!=0])"
   ]
  },
  {
   "cell_type": "code",
   "execution_count": 383,
   "metadata": {},
   "outputs": [
    {
     "data": {
      "text/plain": [
       "162"
      ]
     },
     "execution_count": 383,
     "metadata": {},
     "output_type": "execute_result"
    }
   ],
   "source": [
    "len(df[(df.reply17OrigReplyWho!=0) & (df.reply17OrigReplyWho!='0')])"
   ]
  },
  {
   "cell_type": "code",
   "execution_count": 384,
   "metadata": {},
   "outputs": [
    {
     "data": {
      "text/plain": [
       "160"
      ]
     },
     "execution_count": 384,
     "metadata": {},
     "output_type": "execute_result"
    }
   ],
   "source": [
    "len(df[df.reply17OrigReplyWhat!=0])"
   ]
  },
  {
   "cell_type": "code",
   "execution_count": 385,
   "metadata": {
    "collapsed": true
   },
   "outputs": [],
   "source": [
    "orig18Tweets=list(set(df.reply17OrigReplyWhat[df.reply17OrigReplyWhat!=0]) & set(df.id))"
   ]
  },
  {
   "cell_type": "code",
   "execution_count": 386,
   "metadata": {},
   "outputs": [
    {
     "data": {
      "text/plain": [
       "154"
      ]
     },
     "execution_count": 386,
     "metadata": {},
     "output_type": "execute_result"
    }
   ],
   "source": [
    "len(orig18Tweets)"
   ]
  },
  {
   "cell_type": "markdown",
   "metadata": {},
   "source": [
    "# Add info about the 18th level of replied to tweets to the DF"
   ]
  },
  {
   "cell_type": "code",
   "execution_count": 387,
   "metadata": {
    "collapsed": true
   },
   "outputs": [],
   "source": [
    "df['reply18OrigTime']=0\n",
    "df['reply18OrigText']=0\n",
    "df['reply18OrigReplyWhat']=0\n",
    "df['reply18OrigReplyWho']=0"
   ]
  },
  {
   "cell_type": "code",
   "execution_count": 388,
   "metadata": {
    "collapsed": true
   },
   "outputs": [],
   "source": [
    "for id in orig18Tweets:\n",
    "    df.loc[df.reply17OrigReplyWhat==id, 'reply18OrigTime']=(df.loc[df.id==id,'date']).values[0]\n",
    "    df.loc[df.reply17OrigReplyWhat==id, 'reply18OrigText']=(df.loc[df.id==id,'text']).values[0]\n",
    "    df.loc[df.reply17OrigReplyWhat==id, 'reply18OrigReplyWhat']=(df.loc[df.id==id,'replyWhat']).values[0]\n",
    "    df.loc[df.reply17OrigReplyWhat==id, 'reply18OrigReplyWho']=(df.loc[df.id==id,'replyWho']).values[0]"
   ]
  },
  {
   "cell_type": "code",
   "execution_count": 389,
   "metadata": {},
   "outputs": [
    {
     "data": {
      "text/plain": [
       "158"
      ]
     },
     "execution_count": 389,
     "metadata": {},
     "output_type": "execute_result"
    }
   ],
   "source": [
    "len(df[df.reply18OrigTime!=0])"
   ]
  },
  {
   "cell_type": "code",
   "execution_count": 390,
   "metadata": {},
   "outputs": [
    {
     "data": {
      "text/plain": [
       "150"
      ]
     },
     "execution_count": 390,
     "metadata": {},
     "output_type": "execute_result"
    }
   ],
   "source": [
    "len(df[(df.reply18OrigReplyWho!=0) & (df.reply18OrigReplyWho!='0')])"
   ]
  },
  {
   "cell_type": "code",
   "execution_count": 391,
   "metadata": {},
   "outputs": [
    {
     "data": {
      "text/plain": [
       "149"
      ]
     },
     "execution_count": 391,
     "metadata": {},
     "output_type": "execute_result"
    }
   ],
   "source": [
    "len(df[df.reply18OrigReplyWhat!=0])"
   ]
  },
  {
   "cell_type": "code",
   "execution_count": 392,
   "metadata": {
    "collapsed": true
   },
   "outputs": [],
   "source": [
    "orig19Tweets=list(set(df.reply18OrigReplyWhat[df.reply18OrigReplyWhat!=0]) & set(df.id))"
   ]
  },
  {
   "cell_type": "code",
   "execution_count": 394,
   "metadata": {},
   "outputs": [
    {
     "data": {
      "text/plain": [
       "143"
      ]
     },
     "execution_count": 394,
     "metadata": {},
     "output_type": "execute_result"
    }
   ],
   "source": [
    "len(orig19Tweets)"
   ]
  },
  {
   "cell_type": "markdown",
   "metadata": {},
   "source": [
    "# Add info about the 19th level of replied to tweets to the DF"
   ]
  },
  {
   "cell_type": "code",
   "execution_count": 395,
   "metadata": {
    "collapsed": true
   },
   "outputs": [],
   "source": [
    "df['reply19OrigTime']=0\n",
    "df['reply19OrigText']=0\n",
    "df['reply19OrigReplyWhat']=0\n",
    "df['reply19OrigReplyWho']=0"
   ]
  },
  {
   "cell_type": "code",
   "execution_count": 396,
   "metadata": {
    "collapsed": true
   },
   "outputs": [],
   "source": [
    "for id in orig19Tweets:\n",
    "    df.loc[df.reply18OrigReplyWhat==id, 'reply19OrigTime']=(df.loc[df.id==id,'date']).values[0]\n",
    "    df.loc[df.reply18OrigReplyWhat==id, 'reply19OrigText']=(df.loc[df.id==id,'text']).values[0]\n",
    "    df.loc[df.reply18OrigReplyWhat==id, 'reply19OrigReplyWhat']=(df.loc[df.id==id,'replyWhat']).values[0]\n",
    "    df.loc[df.reply18OrigReplyWhat==id, 'reply19OrigReplyWho']=(df.loc[df.id==id,'replyWho']).values[0]"
   ]
  },
  {
   "cell_type": "code",
   "execution_count": 397,
   "metadata": {},
   "outputs": [
    {
     "data": {
      "text/plain": [
       "147"
      ]
     },
     "execution_count": 397,
     "metadata": {},
     "output_type": "execute_result"
    }
   ],
   "source": [
    "len(df[df.reply19OrigTime!=0])"
   ]
  },
  {
   "cell_type": "code",
   "execution_count": 398,
   "metadata": {},
   "outputs": [
    {
     "data": {
      "text/plain": [
       "139"
      ]
     },
     "execution_count": 398,
     "metadata": {},
     "output_type": "execute_result"
    }
   ],
   "source": [
    "len(df[(df.reply19OrigReplyWho!=0) & (df.reply19OrigReplyWho!='0')])"
   ]
  },
  {
   "cell_type": "code",
   "execution_count": 399,
   "metadata": {},
   "outputs": [
    {
     "data": {
      "text/plain": [
       "138"
      ]
     },
     "execution_count": 399,
     "metadata": {},
     "output_type": "execute_result"
    }
   ],
   "source": [
    "len(df[df.reply19OrigReplyWhat!=0])"
   ]
  },
  {
   "cell_type": "code",
   "execution_count": 400,
   "metadata": {
    "collapsed": true
   },
   "outputs": [],
   "source": [
    "orig20Tweets=list(set(df.reply19OrigReplyWhat[df.reply19OrigReplyWhat!=0]) & set(df.id))"
   ]
  },
  {
   "cell_type": "code",
   "execution_count": 401,
   "metadata": {},
   "outputs": [
    {
     "data": {
      "text/plain": [
       "132"
      ]
     },
     "execution_count": 401,
     "metadata": {},
     "output_type": "execute_result"
    }
   ],
   "source": [
    "len(orig20Tweets)"
   ]
  },
  {
   "cell_type": "markdown",
   "metadata": {},
   "source": [
    "# Add info about the 20th level of replied to tweets to the DF"
   ]
  },
  {
   "cell_type": "code",
   "execution_count": 403,
   "metadata": {
    "collapsed": true
   },
   "outputs": [],
   "source": [
    "df['reply20OrigTime']=0\n",
    "df['reply20OrigText']=0\n",
    "df['reply20OrigReplyWhat']=0\n",
    "df['reply20OrigReplyWho']=0"
   ]
  },
  {
   "cell_type": "code",
   "execution_count": 404,
   "metadata": {
    "collapsed": true
   },
   "outputs": [],
   "source": [
    "for id in orig20Tweets:\n",
    "    df.loc[df.reply19OrigReplyWhat==id, 'reply20OrigTime']=(df.loc[df.id==id,'date']).values[0]\n",
    "    df.loc[df.reply19OrigReplyWhat==id, 'reply20OrigText']=(df.loc[df.id==id,'text']).values[0]\n",
    "    df.loc[df.reply19OrigReplyWhat==id, 'reply20OrigReplyWhat']=(df.loc[df.id==id,'replyWhat']).values[0]\n",
    "    df.loc[df.reply19OrigReplyWhat==id, 'reply20OrigReplyWho']=(df.loc[df.id==id,'replyWho']).values[0]"
   ]
  },
  {
   "cell_type": "code",
   "execution_count": 406,
   "metadata": {},
   "outputs": [
    {
     "data": {
      "text/plain": [
       "136"
      ]
     },
     "execution_count": 406,
     "metadata": {},
     "output_type": "execute_result"
    }
   ],
   "source": [
    "len(df[df.reply20OrigTime!=0])"
   ]
  },
  {
   "cell_type": "code",
   "execution_count": 408,
   "metadata": {},
   "outputs": [
    {
     "data": {
      "text/plain": [
       "128"
      ]
     },
     "execution_count": 408,
     "metadata": {},
     "output_type": "execute_result"
    }
   ],
   "source": [
    "len(df[(df.reply20OrigReplyWho!=0) & (df.reply20OrigReplyWho!='0')])"
   ]
  },
  {
   "cell_type": "code",
   "execution_count": 409,
   "metadata": {},
   "outputs": [
    {
     "data": {
      "text/plain": [
       "127"
      ]
     },
     "execution_count": 409,
     "metadata": {},
     "output_type": "execute_result"
    }
   ],
   "source": [
    "len(df[df.reply20OrigReplyWhat!=0])"
   ]
  },
  {
   "cell_type": "code",
   "execution_count": 410,
   "metadata": {
    "collapsed": true
   },
   "outputs": [],
   "source": [
    "orig21Tweets=list(set(df.reply20OrigReplyWhat[df.reply20OrigReplyWhat!=0]) & set(df.id))"
   ]
  },
  {
   "cell_type": "code",
   "execution_count": 411,
   "metadata": {},
   "outputs": [
    {
     "data": {
      "text/plain": [
       "121"
      ]
     },
     "execution_count": 411,
     "metadata": {},
     "output_type": "execute_result"
    }
   ],
   "source": [
    "len(orig21Tweets)"
   ]
  },
  {
   "cell_type": "markdown",
   "metadata": {},
   "source": [
    "# Add info about the 21th level of replied to tweets to the DF"
   ]
  },
  {
   "cell_type": "code",
   "execution_count": 422,
   "metadata": {
    "collapsed": true
   },
   "outputs": [],
   "source": [
    "df['reply21OrigTime']=0\n",
    "df['reply21OrigText']=0\n",
    "df['reply21OrigReplyWhat']=0\n",
    "df['reply21OrigReplyWho']=0"
   ]
  },
  {
   "cell_type": "code",
   "execution_count": 423,
   "metadata": {
    "collapsed": true
   },
   "outputs": [],
   "source": [
    "for id in orig21Tweets:\n",
    "    df.loc[df.reply20OrigReplyWhat==id, 'reply21OrigTime']=(df.loc[df.id==id,'date']).values[0]\n",
    "    df.loc[df.reply20OrigReplyWhat==id, 'reply21OrigText']=(df.loc[df.id==id,'text']).values[0]\n",
    "    df.loc[df.reply20OrigReplyWhat==id, 'reply21OrigReplyWhat']=(df.loc[df.id==id,'replyWhat']).values[0]\n",
    "    df.loc[df.reply20OrigReplyWhat==id, 'reply21OrigReplyWho']=(df.loc[df.id==id,'replyWho']).values[0]"
   ]
  },
  {
   "cell_type": "code",
   "execution_count": 424,
   "metadata": {},
   "outputs": [
    {
     "data": {
      "text/plain": [
       "124"
      ]
     },
     "execution_count": 424,
     "metadata": {},
     "output_type": "execute_result"
    }
   ],
   "source": [
    "len(df[df.reply21OrigTime!=0])"
   ]
  },
  {
   "cell_type": "code",
   "execution_count": 425,
   "metadata": {},
   "outputs": [
    {
     "data": {
      "text/plain": [
       "116"
      ]
     },
     "execution_count": 425,
     "metadata": {},
     "output_type": "execute_result"
    }
   ],
   "source": [
    "len(df[(df.reply21OrigReplyWho!=0) & (df.reply21OrigReplyWho!='0')])"
   ]
  },
  {
   "cell_type": "code",
   "execution_count": 426,
   "metadata": {},
   "outputs": [
    {
     "data": {
      "text/plain": [
       "115"
      ]
     },
     "execution_count": 426,
     "metadata": {},
     "output_type": "execute_result"
    }
   ],
   "source": [
    "len(df[df.reply21OrigReplyWhat!=0])"
   ]
  },
  {
   "cell_type": "code",
   "execution_count": 427,
   "metadata": {
    "collapsed": true
   },
   "outputs": [],
   "source": [
    "orig22Tweets=list(set(df.reply21OrigReplyWhat[df.reply21OrigReplyWhat!=0]) & set(df.id))"
   ]
  },
  {
   "cell_type": "code",
   "execution_count": 428,
   "metadata": {},
   "outputs": [
    {
     "data": {
      "text/plain": [
       "110"
      ]
     },
     "execution_count": 428,
     "metadata": {},
     "output_type": "execute_result"
    }
   ],
   "source": [
    "len(orig22Tweets)"
   ]
  },
  {
   "cell_type": "markdown",
   "metadata": {},
   "source": [
    "# Add info about the 22th level of replied to tweets to the DF"
   ]
  },
  {
   "cell_type": "code",
   "execution_count": 429,
   "metadata": {
    "collapsed": true
   },
   "outputs": [],
   "source": [
    "df['reply22OrigTime']=0\n",
    "df['reply22OrigText']=0\n",
    "df['reply22OrigReplyWhat']=0\n",
    "df['reply22OrigReplyWho']=0"
   ]
  },
  {
   "cell_type": "code",
   "execution_count": 430,
   "metadata": {
    "collapsed": true
   },
   "outputs": [],
   "source": [
    "for id in orig22Tweets:\n",
    "    df.loc[df.reply21OrigReplyWhat==id, 'reply22OrigTime']=(df.loc[df.id==id,'date']).values[0]\n",
    "    df.loc[df.reply21OrigReplyWhat==id, 'reply22OrigText']=(df.loc[df.id==id,'text']).values[0]\n",
    "    df.loc[df.reply21OrigReplyWhat==id, 'reply22OrigReplyWhat']=(df.loc[df.id==id,'replyWhat']).values[0]\n",
    "    df.loc[df.reply21OrigReplyWhat==id, 'reply22OrigReplyWho']=(df.loc[df.id==id,'replyWho']).values[0]"
   ]
  },
  {
   "cell_type": "code",
   "execution_count": 431,
   "metadata": {},
   "outputs": [
    {
     "data": {
      "text/plain": [
       "112"
      ]
     },
     "execution_count": 431,
     "metadata": {},
     "output_type": "execute_result"
    }
   ],
   "source": [
    "len(df[df.reply22OrigTime!=0])"
   ]
  },
  {
   "cell_type": "code",
   "execution_count": 432,
   "metadata": {},
   "outputs": [
    {
     "data": {
      "text/plain": [
       "104"
      ]
     },
     "execution_count": 432,
     "metadata": {},
     "output_type": "execute_result"
    }
   ],
   "source": [
    "len(df[(df.reply22OrigReplyWho!=0) & (df.reply22OrigReplyWho!='0')])"
   ]
  },
  {
   "cell_type": "code",
   "execution_count": 434,
   "metadata": {},
   "outputs": [
    {
     "data": {
      "text/plain": [
       "104"
      ]
     },
     "execution_count": 434,
     "metadata": {},
     "output_type": "execute_result"
    }
   ],
   "source": [
    "len(df[df.reply22OrigReplyWhat!=0])"
   ]
  },
  {
   "cell_type": "code",
   "execution_count": 435,
   "metadata": {
    "collapsed": true
   },
   "outputs": [],
   "source": [
    "orig23Tweets=list(set(df.reply22OrigReplyWhat[df.reply22OrigReplyWhat!=0]) & set(df.id))"
   ]
  },
  {
   "cell_type": "code",
   "execution_count": 436,
   "metadata": {},
   "outputs": [
    {
     "data": {
      "text/plain": [
       "100"
      ]
     },
     "execution_count": 436,
     "metadata": {},
     "output_type": "execute_result"
    }
   ],
   "source": [
    "len(orig23Tweets)"
   ]
  },
  {
   "cell_type": "markdown",
   "metadata": {},
   "source": [
    "# Add info about the 23th level of replied to tweets to the DF"
   ]
  },
  {
   "cell_type": "code",
   "execution_count": 438,
   "metadata": {
    "collapsed": true
   },
   "outputs": [],
   "source": [
    "df['reply23OrigTime']=0\n",
    "df['reply23OrigText']=0\n",
    "df['reply23OrigReplyWhat']=0\n",
    "df['reply23OrigReplyWho']=0"
   ]
  },
  {
   "cell_type": "code",
   "execution_count": 439,
   "metadata": {
    "collapsed": true
   },
   "outputs": [],
   "source": [
    "for id in orig23Tweets:\n",
    "    df.loc[df.reply22OrigReplyWhat==id, 'reply23OrigTime']=(df.loc[df.id==id,'date']).values[0]\n",
    "    df.loc[df.reply22OrigReplyWhat==id, 'reply23OrigText']=(df.loc[df.id==id,'text']).values[0]\n",
    "    df.loc[df.reply22OrigReplyWhat==id, 'reply23OrigReplyWhat']=(df.loc[df.id==id,'replyWhat']).values[0]\n",
    "    df.loc[df.reply22OrigReplyWhat==id, 'reply23OrigReplyWho']=(df.loc[df.id==id,'replyWho']).values[0]"
   ]
  },
  {
   "cell_type": "code",
   "execution_count": 440,
   "metadata": {},
   "outputs": [
    {
     "data": {
      "text/plain": [
       "100"
      ]
     },
     "execution_count": 440,
     "metadata": {},
     "output_type": "execute_result"
    }
   ],
   "source": [
    "len(df[df.reply23OrigTime!=0])"
   ]
  },
  {
   "cell_type": "code",
   "execution_count": 441,
   "metadata": {},
   "outputs": [
    {
     "data": {
      "text/plain": [
       "92"
      ]
     },
     "execution_count": 441,
     "metadata": {},
     "output_type": "execute_result"
    }
   ],
   "source": [
    "len(df[(df.reply23OrigReplyWho!=0) & (df.reply23OrigReplyWho!='0')])"
   ]
  },
  {
   "cell_type": "code",
   "execution_count": 442,
   "metadata": {},
   "outputs": [
    {
     "data": {
      "text/plain": [
       "92"
      ]
     },
     "execution_count": 442,
     "metadata": {},
     "output_type": "execute_result"
    }
   ],
   "source": [
    "len(df[df.reply23OrigReplyWhat!=0])"
   ]
  },
  {
   "cell_type": "code",
   "execution_count": 443,
   "metadata": {
    "collapsed": true
   },
   "outputs": [],
   "source": [
    "orig24Tweets=list(set(df.reply23OrigReplyWhat[df.reply23OrigReplyWhat!=0]) & set(df.id))"
   ]
  },
  {
   "cell_type": "code",
   "execution_count": 444,
   "metadata": {},
   "outputs": [
    {
     "data": {
      "text/plain": [
       "90"
      ]
     },
     "execution_count": 444,
     "metadata": {},
     "output_type": "execute_result"
    }
   ],
   "source": [
    "len(orig24Tweets)"
   ]
  },
  {
   "cell_type": "markdown",
   "metadata": {},
   "source": [
    "# Add info about the 24th level of replied to tweets to the DF"
   ]
  },
  {
   "cell_type": "code",
   "execution_count": 446,
   "metadata": {},
   "outputs": [],
   "source": [
    "df['reply24OrigTime']=0\n",
    "df['reply24OrigText']=0\n",
    "df['reply24OrigReplyWhat']=0\n",
    "df['reply24OrigReplyWho']=0"
   ]
  },
  {
   "cell_type": "code",
   "execution_count": 447,
   "metadata": {
    "collapsed": true
   },
   "outputs": [],
   "source": [
    "for id in orig24Tweets:\n",
    "    df.loc[df.reply23OrigReplyWhat==id, 'reply24OrigTime']=(df.loc[df.id==id,'date']).values[0]\n",
    "    df.loc[df.reply23OrigReplyWhat==id, 'reply24OrigText']=(df.loc[df.id==id,'text']).values[0]\n",
    "    df.loc[df.reply23OrigReplyWhat==id, 'reply24OrigReplyWhat']=(df.loc[df.id==id,'replyWhat']).values[0]\n",
    "    df.loc[df.reply23OrigReplyWhat==id, 'reply24OrigReplyWho']=(df.loc[df.id==id,'replyWho']).values[0]"
   ]
  },
  {
   "cell_type": "code",
   "execution_count": 448,
   "metadata": {},
   "outputs": [
    {
     "data": {
      "text/plain": [
       "90"
      ]
     },
     "execution_count": 448,
     "metadata": {},
     "output_type": "execute_result"
    }
   ],
   "source": [
    "len(df[df.reply24OrigTime!=0])"
   ]
  },
  {
   "cell_type": "code",
   "execution_count": 449,
   "metadata": {},
   "outputs": [
    {
     "data": {
      "text/plain": [
       "82"
      ]
     },
     "execution_count": 449,
     "metadata": {},
     "output_type": "execute_result"
    }
   ],
   "source": [
    "len(df[(df.reply24OrigReplyWho!=0) & (df.reply24OrigReplyWho!='0')])"
   ]
  },
  {
   "cell_type": "code",
   "execution_count": 450,
   "metadata": {},
   "outputs": [
    {
     "data": {
      "text/plain": [
       "82"
      ]
     },
     "execution_count": 450,
     "metadata": {},
     "output_type": "execute_result"
    }
   ],
   "source": [
    "len(df[df.reply24OrigReplyWhat!=0])"
   ]
  },
  {
   "cell_type": "code",
   "execution_count": 451,
   "metadata": {
    "collapsed": true
   },
   "outputs": [],
   "source": [
    "orig25Tweets=list(set(df.reply24OrigReplyWhat[df.reply24OrigReplyWhat!=0]) & set(df.id))"
   ]
  },
  {
   "cell_type": "code",
   "execution_count": 452,
   "metadata": {},
   "outputs": [
    {
     "data": {
      "text/plain": [
       "80"
      ]
     },
     "execution_count": 452,
     "metadata": {},
     "output_type": "execute_result"
    }
   ],
   "source": [
    "len(orig25Tweets)"
   ]
  },
  {
   "cell_type": "markdown",
   "metadata": {},
   "source": [
    "# Add info about the 25th level of replied to tweets to the DF"
   ]
  },
  {
   "cell_type": "code",
   "execution_count": 456,
   "metadata": {
    "collapsed": true
   },
   "outputs": [],
   "source": [
    "df['reply25OrigTime']=0\n",
    "df['reply25OrigText']=0\n",
    "df['reply25OrigReplyWhat']=0\n",
    "df['reply25OrigReplyWho']=0"
   ]
  },
  {
   "cell_type": "code",
   "execution_count": 457,
   "metadata": {
    "collapsed": true
   },
   "outputs": [],
   "source": [
    "for id in orig25Tweets:\n",
    "    df.loc[df.reply24OrigReplyWhat==id, 'reply25OrigTime']=(df.loc[df.id==id,'date']).values[0]\n",
    "    df.loc[df.reply24OrigReplyWhat==id, 'reply25OrigText']=(df.loc[df.id==id,'text']).values[0]\n",
    "    df.loc[df.reply24OrigReplyWhat==id, 'reply25OrigReplyWhat']=(df.loc[df.id==id,'replyWhat']).values[0]\n",
    "    df.loc[df.reply24OrigReplyWhat==id, 'reply25OrigReplyWho']=(df.loc[df.id==id,'replyWho']).values[0]"
   ]
  },
  {
   "cell_type": "code",
   "execution_count": 458,
   "metadata": {},
   "outputs": [
    {
     "data": {
      "text/plain": [
       "80"
      ]
     },
     "execution_count": 458,
     "metadata": {},
     "output_type": "execute_result"
    }
   ],
   "source": [
    "len(df[df.reply25OrigTime!=0])"
   ]
  },
  {
   "cell_type": "code",
   "execution_count": 459,
   "metadata": {},
   "outputs": [
    {
     "data": {
      "text/plain": [
       "73"
      ]
     },
     "execution_count": 459,
     "metadata": {},
     "output_type": "execute_result"
    }
   ],
   "source": [
    "len(df[(df.reply25OrigReplyWho!=0) & (df.reply25OrigReplyWho!='0')])"
   ]
  },
  {
   "cell_type": "code",
   "execution_count": 460,
   "metadata": {},
   "outputs": [
    {
     "data": {
      "text/plain": [
       "73"
      ]
     },
     "execution_count": 460,
     "metadata": {},
     "output_type": "execute_result"
    }
   ],
   "source": [
    "len(df[df.reply25OrigReplyWhat!=0])"
   ]
  },
  {
   "cell_type": "code",
   "execution_count": 461,
   "metadata": {
    "collapsed": true
   },
   "outputs": [],
   "source": [
    "orig26Tweets=list(set(df.reply25OrigReplyWhat[df.reply25OrigReplyWhat!=0]) & set(df.id))"
   ]
  },
  {
   "cell_type": "code",
   "execution_count": 462,
   "metadata": {},
   "outputs": [
    {
     "data": {
      "text/plain": [
       "72"
      ]
     },
     "execution_count": 462,
     "metadata": {},
     "output_type": "execute_result"
    }
   ],
   "source": [
    "len(orig26Tweets)"
   ]
  },
  {
   "cell_type": "code",
   "execution_count": 463,
   "metadata": {},
   "outputs": [
    {
     "data": {
      "text/plain": [
       "array([74255540, 26957356, 56464727])"
      ]
     },
     "execution_count": 463,
     "metadata": {},
     "output_type": "execute_result"
    }
   ],
   "source": [
    "df.user_id[df.reply25OrigReplyWhat!=0].unique()"
   ]
  },
  {
   "cell_type": "markdown",
   "metadata": {},
   "source": [
    "# Add info about the 26th level of replied to tweets to the DF"
   ]
  },
  {
   "cell_type": "code",
   "execution_count": 464,
   "metadata": {
    "collapsed": true
   },
   "outputs": [],
   "source": [
    "df['reply26OrigTime']=0\n",
    "df['reply26OrigText']=0\n",
    "df['reply26OrigReplyWhat']=0\n",
    "df['reply26OrigReplyWho']=0"
   ]
  },
  {
   "cell_type": "code",
   "execution_count": 465,
   "metadata": {
    "collapsed": true
   },
   "outputs": [],
   "source": [
    "for id in orig26Tweets:\n",
    "    df.loc[df.reply25OrigReplyWhat==id, 'reply26OrigTime']=(df.loc[df.id==id,'date']).values[0]\n",
    "    df.loc[df.reply25OrigReplyWhat==id, 'reply26OrigText']=(df.loc[df.id==id,'text']).values[0]\n",
    "    df.loc[df.reply25OrigReplyWhat==id, 'reply26OrigReplyWhat']=(df.loc[df.id==id,'replyWhat']).values[0]\n",
    "    df.loc[df.reply25OrigReplyWhat==id, 'reply26OrigReplyWho']=(df.loc[df.id==id,'replyWho']).values[0]"
   ]
  },
  {
   "cell_type": "code",
   "execution_count": 466,
   "metadata": {
    "collapsed": true
   },
   "outputs": [],
   "source": [
    "orig27Tweets=list(set(df.reply26OrigReplyWhat[df.reply26OrigReplyWhat!=0]) & set(df.id))"
   ]
  },
  {
   "cell_type": "code",
   "execution_count": 467,
   "metadata": {},
   "outputs": [
    {
     "data": {
      "text/plain": [
       "66"
      ]
     },
     "execution_count": 467,
     "metadata": {},
     "output_type": "execute_result"
    }
   ],
   "source": [
    "len(orig27Tweets)"
   ]
  },
  {
   "cell_type": "markdown",
   "metadata": {},
   "source": [
    "# Add info about the 27th level of replied to tweets to the DF"
   ]
  },
  {
   "cell_type": "code",
   "execution_count": 470,
   "metadata": {},
   "outputs": [],
   "source": [
    "df['reply27OrigTime']=0\n",
    "df['reply27OrigText']=0\n",
    "df['reply27OrigReplyWhat']=0\n",
    "df['reply27OrigReplyWho']=0"
   ]
  },
  {
   "cell_type": "code",
   "execution_count": 471,
   "metadata": {
    "collapsed": true
   },
   "outputs": [],
   "source": [
    "for id in orig27Tweets:\n",
    "    df.loc[df.reply26OrigReplyWhat==id, 'reply27OrigTime']=(df.loc[df.id==id,'date']).values[0]\n",
    "    df.loc[df.reply26OrigReplyWhat==id, 'reply27OrigText']=(df.loc[df.id==id,'text']).values[0]\n",
    "    df.loc[df.reply26OrigReplyWhat==id, 'reply27OrigReplyWhat']=(df.loc[df.id==id,'replyWhat']).values[0]\n",
    "    df.loc[df.reply26OrigReplyWhat==id, 'reply27OrigReplyWho']=(df.loc[df.id==id,'replyWho']).values[0]"
   ]
  },
  {
   "cell_type": "code",
   "execution_count": 472,
   "metadata": {
    "collapsed": true
   },
   "outputs": [],
   "source": [
    "orig28Tweets=list(set(df.reply27OrigReplyWhat[df.reply27OrigReplyWhat!=0]) & set(df.id))"
   ]
  },
  {
   "cell_type": "code",
   "execution_count": 473,
   "metadata": {},
   "outputs": [
    {
     "data": {
      "text/plain": [
       "60"
      ]
     },
     "execution_count": 473,
     "metadata": {},
     "output_type": "execute_result"
    }
   ],
   "source": [
    "len(orig28Tweets)"
   ]
  },
  {
   "cell_type": "code",
   "execution_count": 474,
   "metadata": {},
   "outputs": [
    {
     "data": {
      "text/plain": [
       "array(['Megglezzz', 'DDougyy'], dtype=object)"
      ]
     },
     "execution_count": 474,
     "metadata": {},
     "output_type": "execute_result"
    }
   ],
   "source": [
    "df.username[df.reply27OrigReplyWhat!=0].unique()"
   ]
  },
  {
   "cell_type": "markdown",
   "metadata": {},
   "source": [
    "# Add info about the 28th level of replied to tweets to the DF"
   ]
  },
  {
   "cell_type": "code",
   "execution_count": 475,
   "metadata": {
    "collapsed": true
   },
   "outputs": [],
   "source": [
    "df['reply28OrigTime']=0\n",
    "df['reply28OrigText']=0\n",
    "df['reply28OrigReplyWhat']=0\n",
    "df['reply28OrigReplyWho']=0"
   ]
  },
  {
   "cell_type": "code",
   "execution_count": 476,
   "metadata": {
    "collapsed": true
   },
   "outputs": [],
   "source": [
    "for id in orig28Tweets:\n",
    "    df.loc[df.reply27OrigReplyWhat==id, 'reply28OrigTime']=(df.loc[df.id==id,'date']).values[0]\n",
    "    df.loc[df.reply27OrigReplyWhat==id, 'reply28OrigText']=(df.loc[df.id==id,'text']).values[0]\n",
    "    df.loc[df.reply27OrigReplyWhat==id, 'reply28OrigReplyWhat']=(df.loc[df.id==id,'replyWhat']).values[0]\n",
    "    df.loc[df.reply27OrigReplyWhat==id, 'reply28OrigReplyWho']=(df.loc[df.id==id,'replyWho']).values[0]"
   ]
  },
  {
   "cell_type": "code",
   "execution_count": 477,
   "metadata": {
    "collapsed": true
   },
   "outputs": [],
   "source": [
    "orig29Tweets=list(set(df.reply28OrigReplyWhat[df.reply28OrigReplyWhat!=0]) & set(df.id))"
   ]
  },
  {
   "cell_type": "code",
   "execution_count": 478,
   "metadata": {},
   "outputs": [
    {
     "data": {
      "text/plain": [
       "55"
      ]
     },
     "execution_count": 478,
     "metadata": {},
     "output_type": "execute_result"
    }
   ],
   "source": [
    "len(orig29Tweets)"
   ]
  },
  {
   "cell_type": "code",
   "execution_count": 480,
   "metadata": {},
   "outputs": [
    {
     "data": {
      "text/plain": [
       "array(['DDougyy', 'Megglezzz'], dtype=object)"
      ]
     },
     "execution_count": 480,
     "metadata": {},
     "output_type": "execute_result"
    }
   ],
   "source": [
    "df.username[df.reply28OrigReplyWhat!=0].unique()"
   ]
  },
  {
   "cell_type": "markdown",
   "metadata": {},
   "source": [
    "# Add info about the 29th level of replied to tweets to the DF"
   ]
  },
  {
   "cell_type": "code",
   "execution_count": 481,
   "metadata": {
    "collapsed": true
   },
   "outputs": [],
   "source": [
    "df['reply29OrigTime']=0\n",
    "df['reply29OrigText']=0\n",
    "df['reply29OrigReplyWhat']=0\n",
    "df['reply29OrigReplyWho']=0"
   ]
  },
  {
   "cell_type": "code",
   "execution_count": 482,
   "metadata": {
    "collapsed": true
   },
   "outputs": [],
   "source": [
    "for id in orig29Tweets:\n",
    "    df.loc[df.reply28OrigReplyWhat==id, 'reply29OrigTime']=(df.loc[df.id==id,'date']).values[0]\n",
    "    df.loc[df.reply28OrigReplyWhat==id, 'reply29OrigText']=(df.loc[df.id==id,'text']).values[0]\n",
    "    df.loc[df.reply28OrigReplyWhat==id, 'reply29OrigReplyWhat']=(df.loc[df.id==id,'replyWhat']).values[0]\n",
    "    df.loc[df.reply28OrigReplyWhat==id, 'reply29OrigReplyWho']=(df.loc[df.id==id,'replyWho']).values[0]"
   ]
  },
  {
   "cell_type": "code",
   "execution_count": 483,
   "metadata": {
    "collapsed": true
   },
   "outputs": [],
   "source": [
    "orig30Tweets=list(set(df.reply29OrigReplyWhat[df.reply29OrigReplyWhat!=0]) & set(df.id))"
   ]
  },
  {
   "cell_type": "code",
   "execution_count": 484,
   "metadata": {},
   "outputs": [
    {
     "data": {
      "text/plain": [
       "50"
      ]
     },
     "execution_count": 484,
     "metadata": {},
     "output_type": "execute_result"
    }
   ],
   "source": [
    "len(orig30Tweets)"
   ]
  },
  {
   "cell_type": "markdown",
   "metadata": {},
   "source": [
    "# Add info about the 30th level of replied to tweets to the DF"
   ]
  },
  {
   "cell_type": "code",
   "execution_count": 486,
   "metadata": {
    "collapsed": true
   },
   "outputs": [],
   "source": [
    "df['reply30OrigTime']=0\n",
    "df['reply30OrigText']=0\n",
    "df['reply30OrigReplyWhat']=0\n",
    "df['reply30OrigReplyWho']=0"
   ]
  },
  {
   "cell_type": "code",
   "execution_count": 487,
   "metadata": {
    "collapsed": true
   },
   "outputs": [],
   "source": [
    "for id in orig30Tweets:\n",
    "    df.loc[df.reply29OrigReplyWhat==id, 'reply30OrigTime']=(df.loc[df.id==id,'date']).values[0]\n",
    "    df.loc[df.reply29OrigReplyWhat==id, 'reply30OrigText']=(df.loc[df.id==id,'text']).values[0]\n",
    "    df.loc[df.reply29OrigReplyWhat==id, 'reply30OrigReplyWhat']=(df.loc[df.id==id,'replyWhat']).values[0]\n",
    "    df.loc[df.reply29OrigReplyWhat==id, 'reply30OrigReplyWho']=(df.loc[df.id==id,'replyWho']).values[0]"
   ]
  },
  {
   "cell_type": "code",
   "execution_count": 488,
   "metadata": {
    "collapsed": true
   },
   "outputs": [],
   "source": [
    "orig31Tweets=list(set(df.reply30OrigReplyWhat[df.reply30OrigReplyWhat!=0]) & set(df.id))"
   ]
  },
  {
   "cell_type": "code",
   "execution_count": 489,
   "metadata": {},
   "outputs": [
    {
     "data": {
      "text/plain": [
       "45"
      ]
     },
     "execution_count": 489,
     "metadata": {},
     "output_type": "execute_result"
    }
   ],
   "source": [
    "len(orig31Tweets)"
   ]
  },
  {
   "cell_type": "markdown",
   "metadata": {},
   "source": [
    "# Add info about the 31th level of replied to tweets to the DF"
   ]
  },
  {
   "cell_type": "code",
   "execution_count": 490,
   "metadata": {
    "collapsed": true
   },
   "outputs": [],
   "source": [
    "df['reply31OrigTime']=0\n",
    "df['reply31OrigText']=0\n",
    "df['reply31OrigReplyWhat']=0\n",
    "df['reply31OrigReplyWho']=0"
   ]
  },
  {
   "cell_type": "code",
   "execution_count": 491,
   "metadata": {
    "collapsed": true
   },
   "outputs": [],
   "source": [
    "for id in orig31Tweets:\n",
    "    df.loc[df.reply30OrigReplyWhat==id, 'reply31OrigTime']=(df.loc[df.id==id,'date']).values[0]\n",
    "    df.loc[df.reply30OrigReplyWhat==id, 'reply31OrigText']=(df.loc[df.id==id,'text']).values[0]\n",
    "    df.loc[df.reply30OrigReplyWhat==id, 'reply31OrigReplyWhat']=(df.loc[df.id==id,'replyWhat']).values[0]\n",
    "    df.loc[df.reply30OrigReplyWhat==id, 'reply31OrigReplyWho']=(df.loc[df.id==id,'replyWho']).values[0]"
   ]
  },
  {
   "cell_type": "code",
   "execution_count": 492,
   "metadata": {
    "collapsed": true
   },
   "outputs": [],
   "source": [
    "orig32Tweets=list(set(df.reply31OrigReplyWhat[df.reply31OrigReplyWhat!=0]) & set(df.id))"
   ]
  },
  {
   "cell_type": "code",
   "execution_count": 493,
   "metadata": {},
   "outputs": [
    {
     "data": {
      "text/plain": [
       "40"
      ]
     },
     "execution_count": 493,
     "metadata": {},
     "output_type": "execute_result"
    }
   ],
   "source": [
    "len(orig32Tweets)"
   ]
  },
  {
   "cell_type": "markdown",
   "metadata": {},
   "source": [
    "# Add info about the 32th level of replied to tweets to the DF"
   ]
  },
  {
   "cell_type": "code",
   "execution_count": 494,
   "metadata": {
    "collapsed": true
   },
   "outputs": [],
   "source": [
    "df['reply32OrigTime']=0\n",
    "df['reply32OrigText']=0\n",
    "df['reply32OrigReplyWhat']=0\n",
    "df['reply32OrigReplyWho']=0"
   ]
  },
  {
   "cell_type": "code",
   "execution_count": 495,
   "metadata": {
    "collapsed": true
   },
   "outputs": [],
   "source": [
    "for id in orig32Tweets:\n",
    "    df.loc[df.reply31OrigReplyWhat==id, 'reply32OrigTime']=(df.loc[df.id==id,'date']).values[0]\n",
    "    df.loc[df.reply31OrigReplyWhat==id, 'reply32OrigText']=(df.loc[df.id==id,'text']).values[0]\n",
    "    df.loc[df.reply31OrigReplyWhat==id, 'reply32OrigReplyWhat']=(df.loc[df.id==id,'replyWhat']).values[0]\n",
    "    df.loc[df.reply31OrigReplyWhat==id, 'reply32OrigReplyWho']=(df.loc[df.id==id,'replyWho']).values[0]"
   ]
  },
  {
   "cell_type": "code",
   "execution_count": 496,
   "metadata": {
    "collapsed": true
   },
   "outputs": [],
   "source": [
    "orig33Tweets=list(set(df.reply32OrigReplyWhat[df.reply32OrigReplyWhat!=0]) & set(df.id))"
   ]
  },
  {
   "cell_type": "code",
   "execution_count": 497,
   "metadata": {},
   "outputs": [
    {
     "data": {
      "text/plain": [
       "35"
      ]
     },
     "execution_count": 497,
     "metadata": {},
     "output_type": "execute_result"
    }
   ],
   "source": [
    "len(orig33Tweets)"
   ]
  },
  {
   "cell_type": "markdown",
   "metadata": {},
   "source": [
    "# Add info about the 33th level of replied to tweets to the DF"
   ]
  },
  {
   "cell_type": "code",
   "execution_count": 498,
   "metadata": {
    "collapsed": true
   },
   "outputs": [],
   "source": [
    "df['reply33OrigTime']=0\n",
    "df['reply33OrigText']=0\n",
    "df['reply33OrigReplyWhat']=0\n",
    "df['reply33OrigReplyWho']=0"
   ]
  },
  {
   "cell_type": "code",
   "execution_count": 499,
   "metadata": {
    "collapsed": true
   },
   "outputs": [],
   "source": [
    "for id in orig33Tweets:\n",
    "    df.loc[df.reply32OrigReplyWhat==id, 'reply33OrigTime']=(df.loc[df.id==id,'date']).values[0]\n",
    "    df.loc[df.reply32OrigReplyWhat==id, 'reply33OrigText']=(df.loc[df.id==id,'text']).values[0]\n",
    "    df.loc[df.reply32OrigReplyWhat==id, 'reply33OrigReplyWhat']=(df.loc[df.id==id,'replyWhat']).values[0]\n",
    "    df.loc[df.reply32OrigReplyWhat==id, 'reply33OrigReplyWho']=(df.loc[df.id==id,'replyWho']).values[0]"
   ]
  },
  {
   "cell_type": "code",
   "execution_count": 500,
   "metadata": {
    "collapsed": true
   },
   "outputs": [],
   "source": [
    "orig34Tweets=list(set(df.reply33OrigReplyWhat[df.reply33OrigReplyWhat!=0]) & set(df.id))"
   ]
  },
  {
   "cell_type": "code",
   "execution_count": 501,
   "metadata": {},
   "outputs": [
    {
     "data": {
      "text/plain": [
       "30"
      ]
     },
     "execution_count": 501,
     "metadata": {},
     "output_type": "execute_result"
    }
   ],
   "source": [
    "len(orig34Tweets)"
   ]
  },
  {
   "cell_type": "markdown",
   "metadata": {},
   "source": [
    "# Add info about the 34th level of replied to tweets to the DF"
   ]
  },
  {
   "cell_type": "code",
   "execution_count": 502,
   "metadata": {
    "collapsed": true
   },
   "outputs": [],
   "source": [
    "df['reply34OrigTime']=0\n",
    "df['reply34OrigText']=0\n",
    "df['reply34OrigReplyWhat']=0\n",
    "df['reply34OrigReplyWho']=0"
   ]
  },
  {
   "cell_type": "code",
   "execution_count": 503,
   "metadata": {
    "collapsed": true
   },
   "outputs": [],
   "source": [
    "for id in orig34Tweets:\n",
    "    df.loc[df.reply33OrigReplyWhat==id, 'reply34OrigTime']=(df.loc[df.id==id,'date']).values[0]\n",
    "    df.loc[df.reply33OrigReplyWhat==id, 'reply34OrigText']=(df.loc[df.id==id,'text']).values[0]\n",
    "    df.loc[df.reply33OrigReplyWhat==id, 'reply34OrigReplyWhat']=(df.loc[df.id==id,'replyWhat']).values[0]\n",
    "    df.loc[df.reply33OrigReplyWhat==id, 'reply34OrigReplyWho']=(df.loc[df.id==id,'replyWho']).values[0]"
   ]
  },
  {
   "cell_type": "code",
   "execution_count": 504,
   "metadata": {
    "collapsed": true
   },
   "outputs": [],
   "source": [
    "orig35Tweets=list(set(df.reply34OrigReplyWhat[df.reply34OrigReplyWhat!=0]) & set(df.id))"
   ]
  },
  {
   "cell_type": "code",
   "execution_count": 505,
   "metadata": {},
   "outputs": [
    {
     "data": {
      "text/plain": [
       "26"
      ]
     },
     "execution_count": 505,
     "metadata": {},
     "output_type": "execute_result"
    }
   ],
   "source": [
    "len(orig35Tweets)"
   ]
  },
  {
   "cell_type": "code",
   "execution_count": 506,
   "metadata": {},
   "outputs": [
    {
     "data": {
      "text/plain": [
       "array(['Megglezzz', 'DDougyy'], dtype=object)"
      ]
     },
     "execution_count": 506,
     "metadata": {},
     "output_type": "execute_result"
    }
   ],
   "source": [
    "df.username[df.reply33OrigReplyWhat!=0].unique()"
   ]
  },
  {
   "cell_type": "markdown",
   "metadata": {},
   "source": [
    "# Add info about the 35th level of replied to tweets to the DF"
   ]
  },
  {
   "cell_type": "code",
   "execution_count": 507,
   "metadata": {
    "collapsed": true
   },
   "outputs": [],
   "source": [
    "df['reply35OrigTime']=0\n",
    "df['reply35OrigText']=0\n",
    "df['reply35OrigReplyWhat']=0\n",
    "df['reply35OrigReplyWho']=0"
   ]
  },
  {
   "cell_type": "code",
   "execution_count": 508,
   "metadata": {
    "collapsed": true
   },
   "outputs": [],
   "source": [
    "for id in orig35Tweets:\n",
    "    df.loc[df.reply34OrigReplyWhat==id, 'reply35OrigTime']=(df.loc[df.id==id,'date']).values[0]\n",
    "    df.loc[df.reply34OrigReplyWhat==id, 'reply35OrigText']=(df.loc[df.id==id,'text']).values[0]\n",
    "    df.loc[df.reply34OrigReplyWhat==id, 'reply35OrigReplyWhat']=(df.loc[df.id==id,'replyWhat']).values[0]\n",
    "    df.loc[df.reply34OrigReplyWhat==id, 'reply35OrigReplyWho']=(df.loc[df.id==id,'replyWho']).values[0]"
   ]
  },
  {
   "cell_type": "code",
   "execution_count": 509,
   "metadata": {
    "collapsed": true
   },
   "outputs": [],
   "source": [
    "orig36Tweets=list(set(df.reply35OrigReplyWhat[df.reply35OrigReplyWhat!=0]) & set(df.id))"
   ]
  },
  {
   "cell_type": "code",
   "execution_count": 510,
   "metadata": {},
   "outputs": [
    {
     "data": {
      "text/plain": [
       "22"
      ]
     },
     "execution_count": 510,
     "metadata": {},
     "output_type": "execute_result"
    }
   ],
   "source": [
    "len(orig36Tweets)"
   ]
  },
  {
   "cell_type": "markdown",
   "metadata": {},
   "source": [
    "# Add info about the 36th level of replied to tweets to the DF"
   ]
  },
  {
   "cell_type": "code",
   "execution_count": 511,
   "metadata": {
    "collapsed": true
   },
   "outputs": [],
   "source": [
    "df['reply36OrigTime']=0\n",
    "df['reply36OrigText']=0\n",
    "df['reply36OrigReplyWhat']=0\n",
    "df['reply36OrigReplyWho']=0"
   ]
  },
  {
   "cell_type": "code",
   "execution_count": 512,
   "metadata": {
    "collapsed": true
   },
   "outputs": [],
   "source": [
    "for id in orig36Tweets:\n",
    "    df.loc[df.reply35OrigReplyWhat==id, 'reply36OrigTime']=(df.loc[df.id==id,'date']).values[0]\n",
    "    df.loc[df.reply35OrigReplyWhat==id, 'reply36OrigText']=(df.loc[df.id==id,'text']).values[0]\n",
    "    df.loc[df.reply35OrigReplyWhat==id, 'reply36OrigReplyWhat']=(df.loc[df.id==id,'replyWhat']).values[0]\n",
    "    df.loc[df.reply35OrigReplyWhat==id, 'reply36OrigReplyWho']=(df.loc[df.id==id,'replyWho']).values[0]"
   ]
  },
  {
   "cell_type": "code",
   "execution_count": 513,
   "metadata": {
    "collapsed": true
   },
   "outputs": [],
   "source": [
    "orig37Tweets=list(set(df.reply36OrigReplyWhat[df.reply36OrigReplyWhat!=0]) & set(df.id))"
   ]
  },
  {
   "cell_type": "code",
   "execution_count": 514,
   "metadata": {},
   "outputs": [
    {
     "data": {
      "text/plain": [
       "18"
      ]
     },
     "execution_count": 514,
     "metadata": {},
     "output_type": "execute_result"
    }
   ],
   "source": [
    "len(orig37Tweets)"
   ]
  },
  {
   "cell_type": "markdown",
   "metadata": {},
   "source": [
    "# Add info about the 37th level of replied to tweets to the DF"
   ]
  },
  {
   "cell_type": "code",
   "execution_count": 515,
   "metadata": {
    "collapsed": true
   },
   "outputs": [],
   "source": [
    "df['reply37OrigTime']=0\n",
    "df['reply37OrigText']=0\n",
    "df['reply37OrigReplyWhat']=0\n",
    "df['reply37OrigReplyWho']=0"
   ]
  },
  {
   "cell_type": "code",
   "execution_count": 516,
   "metadata": {
    "collapsed": true
   },
   "outputs": [],
   "source": [
    "for id in orig37Tweets:\n",
    "    df.loc[df.reply36OrigReplyWhat==id, 'reply37OrigTime']=(df.loc[df.id==id,'date']).values[0]\n",
    "    df.loc[df.reply36OrigReplyWhat==id, 'reply37OrigText']=(df.loc[df.id==id,'text']).values[0]\n",
    "    df.loc[df.reply36OrigReplyWhat==id, 'reply37OrigReplyWhat']=(df.loc[df.id==id,'replyWhat']).values[0]\n",
    "    df.loc[df.reply36OrigReplyWhat==id, 'reply37OrigReplyWho']=(df.loc[df.id==id,'replyWho']).values[0]"
   ]
  },
  {
   "cell_type": "code",
   "execution_count": 517,
   "metadata": {
    "collapsed": true
   },
   "outputs": [],
   "source": [
    "orig38Tweets=list(set(df.reply37OrigReplyWhat[df.reply37OrigReplyWhat!=0]) & set(df.id))"
   ]
  },
  {
   "cell_type": "code",
   "execution_count": 518,
   "metadata": {},
   "outputs": [
    {
     "data": {
      "text/plain": [
       "14"
      ]
     },
     "execution_count": 518,
     "metadata": {},
     "output_type": "execute_result"
    }
   ],
   "source": [
    "len(orig38Tweets)"
   ]
  },
  {
   "cell_type": "markdown",
   "metadata": {},
   "source": [
    "# Add info about the 38th level of replied to tweets to the DF"
   ]
  },
  {
   "cell_type": "code",
   "execution_count": 519,
   "metadata": {
    "collapsed": true
   },
   "outputs": [],
   "source": [
    "df['reply38OrigTime']=0\n",
    "df['reply38OrigText']=0\n",
    "df['reply38OrigReplyWhat']=0\n",
    "df['reply38OrigReplyWho']=0"
   ]
  },
  {
   "cell_type": "code",
   "execution_count": 520,
   "metadata": {
    "collapsed": true
   },
   "outputs": [],
   "source": [
    "for id in orig38Tweets:\n",
    "    df.loc[df.reply37OrigReplyWhat==id, 'reply38OrigTime']=(df.loc[df.id==id,'date']).values[0]\n",
    "    df.loc[df.reply37OrigReplyWhat==id, 'reply38OrigText']=(df.loc[df.id==id,'text']).values[0]\n",
    "    df.loc[df.reply37OrigReplyWhat==id, 'reply38OrigReplyWhat']=(df.loc[df.id==id,'replyWhat']).values[0]\n",
    "    df.loc[df.reply37OrigReplyWhat==id, 'reply38OrigReplyWho']=(df.loc[df.id==id,'replyWho']).values[0]"
   ]
  },
  {
   "cell_type": "code",
   "execution_count": 521,
   "metadata": {
    "collapsed": true
   },
   "outputs": [],
   "source": [
    "orig39Tweets=list(set(df.reply38OrigReplyWhat[df.reply38OrigReplyWhat!=0]) & set(df.id))"
   ]
  },
  {
   "cell_type": "code",
   "execution_count": 522,
   "metadata": {},
   "outputs": [
    {
     "data": {
      "text/plain": [
       "11"
      ]
     },
     "execution_count": 522,
     "metadata": {},
     "output_type": "execute_result"
    }
   ],
   "source": [
    "len(orig39Tweets)"
   ]
  },
  {
   "cell_type": "markdown",
   "metadata": {},
   "source": [
    "# Add info about the 39th level of replied to tweets to the DF"
   ]
  },
  {
   "cell_type": "code",
   "execution_count": 523,
   "metadata": {
    "collapsed": true
   },
   "outputs": [],
   "source": [
    "df['reply39OrigTime']=0\n",
    "df['reply39OrigText']=0\n",
    "df['reply39OrigReplyWhat']=0\n",
    "df['reply39OrigReplyWho']=0"
   ]
  },
  {
   "cell_type": "code",
   "execution_count": 524,
   "metadata": {
    "collapsed": true
   },
   "outputs": [],
   "source": [
    "for id in orig39Tweets:\n",
    "    df.loc[df.reply38OrigReplyWhat==id, 'reply39OrigTime']=(df.loc[df.id==id,'date']).values[0]\n",
    "    df.loc[df.reply38OrigReplyWhat==id, 'reply39OrigText']=(df.loc[df.id==id,'text']).values[0]\n",
    "    df.loc[df.reply38OrigReplyWhat==id, 'reply39OrigReplyWhat']=(df.loc[df.id==id,'replyWhat']).values[0]\n",
    "    df.loc[df.reply38OrigReplyWhat==id, 'reply39OrigReplyWho']=(df.loc[df.id==id,'replyWho']).values[0]"
   ]
  },
  {
   "cell_type": "code",
   "execution_count": 525,
   "metadata": {
    "collapsed": true
   },
   "outputs": [],
   "source": [
    "orig40Tweets=list(set(df.reply39OrigReplyWhat[df.reply39OrigReplyWhat!=0]) & set(df.id))"
   ]
  },
  {
   "cell_type": "code",
   "execution_count": 526,
   "metadata": {},
   "outputs": [
    {
     "data": {
      "text/plain": [
       "8"
      ]
     },
     "execution_count": 526,
     "metadata": {},
     "output_type": "execute_result"
    }
   ],
   "source": [
    "len(orig40Tweets)"
   ]
  },
  {
   "cell_type": "markdown",
   "metadata": {},
   "source": [
    "# Add info about the 40th level of replied to tweets to the DF"
   ]
  },
  {
   "cell_type": "code",
   "execution_count": 527,
   "metadata": {
    "collapsed": true
   },
   "outputs": [],
   "source": [
    "df['reply40OrigTime']=0\n",
    "df['reply40OrigText']=0\n",
    "df['reply40OrigReplyWhat']=0\n",
    "df['reply40OrigReplyWho']=0"
   ]
  },
  {
   "cell_type": "code",
   "execution_count": 528,
   "metadata": {
    "collapsed": true
   },
   "outputs": [],
   "source": [
    "for id in orig40Tweets:\n",
    "    df.loc[df.reply39OrigReplyWhat==id, 'reply40OrigTime']=(df.loc[df.id==id,'date']).values[0]\n",
    "    df.loc[df.reply39OrigReplyWhat==id, 'reply40OrigText']=(df.loc[df.id==id,'text']).values[0]\n",
    "    df.loc[df.reply39OrigReplyWhat==id, 'reply40OrigReplyWhat']=(df.loc[df.id==id,'replyWhat']).values[0]\n",
    "    df.loc[df.reply39OrigReplyWhat==id, 'reply40OrigReplyWho']=(df.loc[df.id==id,'replyWho']).values[0]"
   ]
  },
  {
   "cell_type": "code",
   "execution_count": 529,
   "metadata": {
    "collapsed": true
   },
   "outputs": [],
   "source": [
    "orig41Tweets=list(set(df.reply40OrigReplyWhat[df.reply40OrigReplyWhat!=0]) & set(df.id))"
   ]
  },
  {
   "cell_type": "code",
   "execution_count": 530,
   "metadata": {},
   "outputs": [
    {
     "data": {
      "text/plain": [
       "5"
      ]
     },
     "execution_count": 530,
     "metadata": {},
     "output_type": "execute_result"
    }
   ],
   "source": [
    "len(orig41Tweets)"
   ]
  },
  {
   "cell_type": "markdown",
   "metadata": {},
   "source": [
    "# Add info about the 41th level of replied to tweets to the DF"
   ]
  },
  {
   "cell_type": "code",
   "execution_count": 531,
   "metadata": {
    "collapsed": true
   },
   "outputs": [],
   "source": [
    "df['reply41OrigTime']=0\n",
    "df['reply41OrigText']=0\n",
    "df['reply41OrigReplyWhat']=0\n",
    "df['reply41OrigReplyWho']=0"
   ]
  },
  {
   "cell_type": "code",
   "execution_count": 532,
   "metadata": {
    "collapsed": true
   },
   "outputs": [],
   "source": [
    "for id in orig41Tweets:\n",
    "    df.loc[df.reply40OrigReplyWhat==id, 'reply41OrigTime']=(df.loc[df.id==id,'date']).values[0]\n",
    "    df.loc[df.reply40OrigReplyWhat==id, 'reply41OrigText']=(df.loc[df.id==id,'text']).values[0]\n",
    "    df.loc[df.reply40OrigReplyWhat==id, 'reply41OrigReplyWhat']=(df.loc[df.id==id,'replyWhat']).values[0]\n",
    "    df.loc[df.reply40OrigReplyWhat==id, 'reply41OrigReplyWho']=(df.loc[df.id==id,'replyWho']).values[0]"
   ]
  },
  {
   "cell_type": "code",
   "execution_count": 533,
   "metadata": {
    "collapsed": true
   },
   "outputs": [],
   "source": [
    "orig42Tweets=list(set(df.reply41OrigReplyWhat[df.reply41OrigReplyWhat!=0]) & set(df.id))"
   ]
  },
  {
   "cell_type": "code",
   "execution_count": 534,
   "metadata": {},
   "outputs": [
    {
     "data": {
      "text/plain": [
       "3"
      ]
     },
     "execution_count": 534,
     "metadata": {},
     "output_type": "execute_result"
    }
   ],
   "source": [
    "len(orig42Tweets)"
   ]
  },
  {
   "cell_type": "markdown",
   "metadata": {},
   "source": [
    "# Add info about the 42th level of replied to tweets to the DF"
   ]
  },
  {
   "cell_type": "code",
   "execution_count": 535,
   "metadata": {
    "collapsed": true
   },
   "outputs": [],
   "source": [
    "df['reply42OrigTime']=0\n",
    "df['reply42OrigText']=0\n",
    "df['reply42OrigReplyWhat']=0\n",
    "df['reply42OrigReplyWho']=0"
   ]
  },
  {
   "cell_type": "code",
   "execution_count": 536,
   "metadata": {
    "collapsed": true
   },
   "outputs": [],
   "source": [
    "for id in orig42Tweets:\n",
    "    df.loc[df.reply41OrigReplyWhat==id, 'reply42OrigTime']=(df.loc[df.id==id,'date']).values[0]\n",
    "    df.loc[df.reply41OrigReplyWhat==id, 'reply42OrigText']=(df.loc[df.id==id,'text']).values[0]\n",
    "    df.loc[df.reply41OrigReplyWhat==id, 'reply42OrigReplyWhat']=(df.loc[df.id==id,'replyWhat']).values[0]\n",
    "    df.loc[df.reply41OrigReplyWhat==id, 'reply42OrigReplyWho']=(df.loc[df.id==id,'replyWho']).values[0]"
   ]
  },
  {
   "cell_type": "code",
   "execution_count": 537,
   "metadata": {
    "collapsed": true
   },
   "outputs": [],
   "source": [
    "orig43Tweets=list(set(df.reply42OrigReplyWhat[df.reply42OrigReplyWhat!=0]) & set(df.id))"
   ]
  },
  {
   "cell_type": "code",
   "execution_count": 538,
   "metadata": {},
   "outputs": [
    {
     "data": {
      "text/plain": [
       "1"
      ]
     },
     "execution_count": 538,
     "metadata": {},
     "output_type": "execute_result"
    }
   ],
   "source": [
    "len(orig43Tweets)"
   ]
  },
  {
   "cell_type": "code",
   "execution_count": 539,
   "metadata": {},
   "outputs": [
    {
     "data": {
      "text/plain": [
       "2454450    DDougyy\n",
       "Name: username, dtype: object"
      ]
     },
     "execution_count": 539,
     "metadata": {},
     "output_type": "execute_result"
    }
   ],
   "source": [
    "df.username[df.reply42OrigReplyWhat!=0]"
   ]
  },
  {
   "cell_type": "markdown",
   "metadata": {},
   "source": [
    "# Add info about the 43th level of replied to tweets to the DF"
   ]
  },
  {
   "cell_type": "code",
   "execution_count": 540,
   "metadata": {
    "collapsed": true
   },
   "outputs": [],
   "source": [
    "df['reply43OrigTime']=0\n",
    "df['reply43OrigText']=0\n",
    "df['reply43OrigReplyWhat']=0\n",
    "df['reply43OrigReplyWho']=0"
   ]
  },
  {
   "cell_type": "code",
   "execution_count": 541,
   "metadata": {
    "collapsed": true
   },
   "outputs": [],
   "source": [
    "for id in orig43Tweets:\n",
    "    df.loc[df.reply42OrigReplyWhat==id, 'reply43OrigTime']=(df.loc[df.id==id,'date']).values[0]\n",
    "    df.loc[df.reply42OrigReplyWhat==id, 'reply43OrigText']=(df.loc[df.id==id,'text']).values[0]\n",
    "    df.loc[df.reply42OrigReplyWhat==id, 'reply43OrigReplyWhat']=(df.loc[df.id==id,'replyWhat']).values[0]\n",
    "    df.loc[df.reply42OrigReplyWhat==id, 'reply43OrigReplyWho']=(df.loc[df.id==id,'replyWho']).values[0]"
   ]
  },
  {
   "cell_type": "code",
   "execution_count": 542,
   "metadata": {
    "collapsed": true
   },
   "outputs": [],
   "source": [
    "orig44Tweets=list(set(df.reply43OrigReplyWhat[df.reply43OrigReplyWhat!=0]) & set(df.id))"
   ]
  },
  {
   "cell_type": "code",
   "execution_count": 543,
   "metadata": {},
   "outputs": [
    {
     "data": {
      "text/plain": [
       "0"
      ]
     },
     "execution_count": 543,
     "metadata": {},
     "output_type": "execute_result"
    }
   ],
   "source": [
    "len(orig44Tweets)"
   ]
  },
  {
   "cell_type": "markdown",
   "metadata": {},
   "source": [
    "#  Get and save all teh convos"
   ]
  },
  {
   "cell_type": "code",
   "execution_count": 545,
   "metadata": {
    "collapsed": true
   },
   "outputs": [],
   "source": [
    "reps=df[df.replyWhat!=0]"
   ]
  },
  {
   "cell_type": "code",
   "execution_count": 547,
   "metadata": {},
   "outputs": [],
   "source": [
    "reps.to_csv('../data/bbAllConvoLinesDF.csv',sep=';', index=False)"
   ]
  }
 ],
 "metadata": {
  "kernelspec": {
   "display_name": "Python 3",
   "language": "python",
   "name": "python3"
  },
  "language_info": {
   "codemirror_mode": {
    "name": "ipython",
    "version": 3
   },
   "file_extension": ".py",
   "mimetype": "text/x-python",
   "name": "python",
   "nbconvert_exporter": "python",
   "pygments_lexer": "ipython3",
   "version": "3.5.2"
  }
 },
 "nbformat": 4,
 "nbformat_minor": 1
}
