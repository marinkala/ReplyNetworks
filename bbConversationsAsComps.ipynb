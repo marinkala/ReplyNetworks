{
 "cells": [
  {
   "cell_type": "code",
   "execution_count": 7,
   "metadata": {
    "collapsed": true
   },
   "outputs": [],
   "source": [
    "import pandas as pd\n",
    "import numpy as np\n",
    "import networkx as nx\n",
    "import collections as c\n",
    "import matplotlib.pyplot as plt\n",
    "\n",
    "%matplotlib inline"
   ]
  },
  {
   "cell_type": "code",
   "execution_count": 335,
   "metadata": {
    "collapsed": false,
    "scrolled": true
   },
   "outputs": [],
   "source": [
    "df=pd.read_csv('../data/bbAllConvoLinesDFmore.csv',sep=';')"
   ]
  },
  {
   "cell_type": "markdown",
   "metadata": {},
   "source": [
    "Using this dataset only includes replies to people who are also in the dataset (local and ontopic). This excludes the conversations with celebrities and such — like the 96 replies to a One Direction singer that constitutes the Largest Connected Component of the network if we use the overall bb reply dataset."
   ]
  },
  {
   "cell_type": "code",
   "execution_count": 86,
   "metadata": {
    "collapsed": false
   },
   "outputs": [
    {
     "data": {
      "text/plain": [
       "10373"
      ]
     },
     "execution_count": 86,
     "metadata": {},
     "output_type": "execute_result"
    }
   ],
   "source": [
    "len(df)"
   ]
  },
  {
   "cell_type": "code",
   "execution_count": 87,
   "metadata": {
    "collapsed": false,
    "scrolled": true
   },
   "outputs": [
    {
     "data": {
      "text/plain": [
       "array(['Unnamed: 0', 'id', 'username', 'user_id', 'geo_enabled',\n",
       "       'followCount', 'friendCount', 'faveCount', 'tweetCount', 'date',\n",
       "       'timing', 'coordinates', 'location', 'source', 'retweetCount',\n",
       "       'isRetweet', 'contributors', 'hashtags', 'has_media', 'urls',\n",
       "       'mentions', 'replyWho', 'replyWhat', 'text', 'replyOrigTime',\n",
       "       'replyOrigText', 'replyOrigReplyWhat', 'replyOrigReplyWho',\n",
       "       'reply2OrigTime', 'reply2OrigText', 'reply2OrigReplyWhat',\n",
       "       'reply2OrigReplyWho', 'reply3OrigTime', 'reply3OrigText',\n",
       "       'reply3OrigReplyWhat', 'reply3OrigReplyWho', 'reply4OrigTime',\n",
       "       'reply4OrigText', 'reply4OrigReplyWhat', 'reply4OrigReplyWho',\n",
       "       'reply5OrigTime', 'reply5OrigText', 'reply5OrigReplyWhat',\n",
       "       'reply5OrigReplyWho', 'reply6OrigTime', 'reply6OrigText',\n",
       "       'reply6OrigReplyWhat', 'reply6OrigReplyWho', 'reply7OrigTime',\n",
       "       'reply7OrigText', 'reply7OrigReplyWhat', 'reply7OrigReplyWho',\n",
       "       'reply8OrigTime', 'reply8OrigText', 'reply8OrigReplyWhat',\n",
       "       'reply8OrigReplyWho', 'reply9OrigTime', 'reply9OrigText',\n",
       "       'reply9OrigReplyWhat', 'reply9OrigReplyWho', 'reply10OrigTime',\n",
       "       'reply10OrigText', 'reply10OrigReplyWhat', 'reply10OrigReplyWho',\n",
       "       'reply11OrigTime', 'reply11OrigText', 'reply11OrigReplyWhat',\n",
       "       'reply11OrigReplyWho', 'reply12OrigTime', 'reply12OrigText',\n",
       "       'reply12OrigReplyWhat', 'reply12OrigReplyWho', 'reply13OrigTime',\n",
       "       'reply13OrigText', 'reply13OrigReplyWhat', 'reply13OrigReplyWho',\n",
       "       'reply14OrigTime', 'reply14OrigText', 'reply14OrigReplyWhat',\n",
       "       'reply14OrigReplyWho', 'reply15OrigTime', 'reply15OrigText',\n",
       "       'reply15OrigReplyWhat', 'reply15OrigReplyWho', 'reply16OrigTime',\n",
       "       'reply16OrigText', 'reply16OrigReplyWhat', 'reply16OrigReplyWho',\n",
       "       'reply17OrigTime', 'reply17OrigText', 'reply17OrigReplyWhat',\n",
       "       'reply17OrigReplyWho', 'reply18OrigTime', 'reply18OrigText',\n",
       "       'reply18OrigReplyWhat', 'reply18OrigReplyWho', 'reply19OrigTime',\n",
       "       'reply19OrigText', 'reply19OrigReplyWhat', 'reply19OrigReplyWho',\n",
       "       'reply20OrigTime', 'reply20OrigText', 'reply20OrigReplyWhat',\n",
       "       'reply20OrigReplyWho', 'reply21OrigTime', 'reply21OrigText',\n",
       "       'reply21OrigReplyWhat', 'reply21OrigReplyWho', 'reply22OrigTime',\n",
       "       'reply22OrigText', 'reply22OrigReplyWhat', 'reply22OrigReplyWho',\n",
       "       'reply23OrigTime', 'reply23OrigText', 'reply23OrigReplyWhat',\n",
       "       'reply23OrigReplyWho', 'reply24OrigTime', 'reply24OrigText',\n",
       "       'reply24OrigReplyWhat', 'reply24OrigReplyWho', 'reply25OrigTime',\n",
       "       'reply25OrigText', 'reply25OrigReplyWhat', 'reply25OrigReplyWho',\n",
       "       'reply26OrigTime', 'reply26OrigText', 'reply26OrigReplyWhat',\n",
       "       'reply26OrigReplyWho', 'reply27OrigTime', 'reply27OrigText',\n",
       "       'reply27OrigReplyWhat', 'reply27OrigReplyWho', 'reply28OrigTime',\n",
       "       'reply28OrigText', 'reply28OrigReplyWhat', 'reply28OrigReplyWho',\n",
       "       'reply29OrigTime', 'reply29OrigText', 'reply29OrigReplyWhat',\n",
       "       'reply29OrigReplyWho', 'reply30OrigTime', 'reply30OrigText',\n",
       "       'reply30OrigReplyWhat', 'reply30OrigReplyWho', 'reply31OrigTime',\n",
       "       'reply31OrigText', 'reply31OrigReplyWhat', 'reply31OrigReplyWho',\n",
       "       'reply32OrigTime', 'reply32OrigText', 'reply32OrigReplyWhat',\n",
       "       'reply32OrigReplyWho', 'reply33OrigTime', 'reply33OrigText',\n",
       "       'reply33OrigReplyWhat', 'reply33OrigReplyWho', 'reply34OrigTime',\n",
       "       'reply34OrigText', 'reply34OrigReplyWhat', 'reply34OrigReplyWho',\n",
       "       'reply35OrigTime', 'reply35OrigText', 'reply35OrigReplyWhat',\n",
       "       'reply35OrigReplyWho', 'reply36OrigTime', 'reply36OrigText',\n",
       "       'reply36OrigReplyWhat', 'reply36OrigReplyWho', 'reply37OrigTime',\n",
       "       'reply37OrigText', 'reply37OrigReplyWhat', 'reply37OrigReplyWho',\n",
       "       'reply38OrigTime', 'reply38OrigText', 'reply38OrigReplyWhat',\n",
       "       'reply38OrigReplyWho', 'reply39OrigTime', 'reply39OrigText',\n",
       "       'reply39OrigReplyWhat', 'reply39OrigReplyWho', 'reply40OrigTime',\n",
       "       'reply40OrigText', 'reply40OrigReplyWhat', 'reply40OrigReplyWho',\n",
       "       'reply41OrigTime', 'reply41OrigText', 'reply41OrigReplyWhat',\n",
       "       'reply41OrigReplyWho', 'reply42OrigTime', 'reply42OrigText',\n",
       "       'reply42OrigReplyWhat', 'reply42OrigReplyWho', 'reply43OrigTime',\n",
       "       'reply43OrigText', 'reply43OrigReplyWhat', 'reply43OrigReplyWho',\n",
       "       'dateObj', 'repSecDiff', 'repSet', 'lenRepSet', 'convNames',\n",
       "       'convStart', 'branchConvo'], dtype=object)"
      ]
     },
     "execution_count": 87,
     "metadata": {},
     "output_type": "execute_result"
    }
   ],
   "source": [
    "df.columns.values"
   ]
  },
  {
   "cell_type": "markdown",
   "metadata": {},
   "source": [
    "# Construct reply network of tweets"
   ]
  },
  {
   "cell_type": "code",
   "execution_count": 88,
   "metadata": {
    "collapsed": false
   },
   "outputs": [
    {
     "data": {
      "text/plain": [
       "10373"
      ]
     },
     "execution_count": 88,
     "metadata": {},
     "output_type": "execute_result"
    }
   ],
   "source": [
    "len(df[df.replyOrigTime!='0'])"
   ]
  },
  {
   "cell_type": "code",
   "execution_count": 120,
   "metadata": {
    "collapsed": true
   },
   "outputs": [],
   "source": [
    "tweetEdgeList=df[['replyWhat', 'id']]"
   ]
  },
  {
   "cell_type": "code",
   "execution_count": 121,
   "metadata": {
    "collapsed": false
   },
   "outputs": [],
   "source": [
    "tweetEdgeList.to_csv('../data/replyTweetNetOverall.csv',sep=',', header=False, index=False)"
   ]
  },
  {
   "cell_type": "code",
   "execution_count": 8,
   "metadata": {
    "collapsed": false
   },
   "outputs": [],
   "source": [
    "G=nx.read_edgelist('../data/replyTweetNetOverall.csv',delimiter=',',create_using=nx.DiGraph(), nodetype=int)"
   ]
  },
  {
   "cell_type": "code",
   "execution_count": 123,
   "metadata": {
    "collapsed": false
   },
   "outputs": [
    {
     "data": {
      "text/plain": [
       "16550"
      ]
     },
     "execution_count": 123,
     "metadata": {},
     "output_type": "execute_result"
    }
   ],
   "source": [
    "G.number_of_nodes()"
   ]
  },
  {
   "cell_type": "code",
   "execution_count": 124,
   "metadata": {
    "collapsed": false
   },
   "outputs": [
    {
     "data": {
      "text/plain": [
       "10373"
      ]
     },
     "execution_count": 124,
     "metadata": {},
     "output_type": "execute_result"
    }
   ],
   "source": [
    "G.number_of_edges()"
   ]
  },
  {
   "cell_type": "code",
   "execution_count": 125,
   "metadata": {
    "collapsed": false
   },
   "outputs": [
    {
     "data": {
      "text/plain": [
       "3.787342870271366e-05"
      ]
     },
     "execution_count": 125,
     "metadata": {},
     "output_type": "execute_result"
    }
   ],
   "source": [
    "nx.density(G)"
   ]
  },
  {
   "cell_type": "code",
   "execution_count": 126,
   "metadata": {
    "collapsed": false
   },
   "outputs": [],
   "source": [
    "degrees=nx.degree(G)"
   ]
  },
  {
   "cell_type": "code",
   "execution_count": 127,
   "metadata": {
    "collapsed": false
   },
   "outputs": [
    {
     "data": {
      "text/plain": [
       "1.2535347432024169"
      ]
     },
     "execution_count": 127,
     "metadata": {},
     "output_type": "execute_result"
    }
   ],
   "source": [
    "np.mean(degrees.values())"
   ]
  },
  {
   "cell_type": "code",
   "execution_count": 128,
   "metadata": {
    "collapsed": false
   },
   "outputs": [
    {
     "data": {
      "text/plain": [
       "10"
      ]
     },
     "execution_count": 128,
     "metadata": {},
     "output_type": "execute_result"
    }
   ],
   "source": [
    "max(degrees.values())"
   ]
  },
  {
   "cell_type": "code",
   "execution_count": 129,
   "metadata": {
    "collapsed": true
   },
   "outputs": [],
   "source": [
    "out_deg=G.out_degree()"
   ]
  },
  {
   "cell_type": "code",
   "execution_count": 130,
   "metadata": {
    "collapsed": false
   },
   "outputs": [
    {
     "data": {
      "text/plain": [
       "10"
      ]
     },
     "execution_count": 130,
     "metadata": {},
     "output_type": "execute_result"
    }
   ],
   "source": [
    "max(out_deg.values())"
   ]
  },
  {
   "cell_type": "code",
   "execution_count": 131,
   "metadata": {
    "collapsed": false
   },
   "outputs": [
    {
     "data": {
      "text/plain": [
       "264477309006925826"
      ]
     },
     "execution_count": 131,
     "metadata": {},
     "output_type": "execute_result"
    }
   ],
   "source": [
    "out_deg.keys()[out_deg.values().index(10)]"
   ]
  },
  {
   "cell_type": "code",
   "execution_count": 136,
   "metadata": {
    "collapsed": false
   },
   "outputs": [
    {
     "data": {
      "text/html": [
       "<div>\n",
       "<table border=\"1\" class=\"dataframe\">\n",
       "  <thead>\n",
       "    <tr style=\"text-align: right;\">\n",
       "      <th></th>\n",
       "      <th>username</th>\n",
       "      <th>text</th>\n",
       "      <th>replyWho</th>\n",
       "      <th>replyOrigText</th>\n",
       "    </tr>\n",
       "  </thead>\n",
       "  <tbody>\n",
       "    <tr>\n",
       "      <th>4849</th>\n",
       "      <td>ThomasSickler</td>\n",
       "      <td>@NYCMayorsOffice THANK YOU! THANK GOD ITS CANC...</td>\n",
       "      <td>NYCMayorsOffice</td>\n",
       "      <td>We have decided to cancel the NYC marathon. Th...</td>\n",
       "    </tr>\n",
       "    <tr>\n",
       "      <th>4851</th>\n",
       "      <td>LonerganM</td>\n",
       "      <td>@NYCMayorsOffice Thank you.  New York thanks you.</td>\n",
       "      <td>NYCMayorsOffice</td>\n",
       "      <td>We have decided to cancel the NYC marathon. Th...</td>\n",
       "    </tr>\n",
       "    <tr>\n",
       "      <th>4853</th>\n",
       "      <td>tfernandes113</td>\n",
       "      <td>Good job! RT @NYCMayorsOffice: We have decided...</td>\n",
       "      <td>NYCMayorsOffice</td>\n",
       "      <td>We have decided to cancel the NYC marathon. Th...</td>\n",
       "    </tr>\n",
       "    <tr>\n",
       "      <th>4860</th>\n",
       "      <td>NorEasterNJ</td>\n",
       "      <td>@NYCMayorsOffice Good move Mikey</td>\n",
       "      <td>NYCMayorsOffice</td>\n",
       "      <td>We have decided to cancel the NYC marathon. Th...</td>\n",
       "    </tr>\n",
       "    <tr>\n",
       "      <th>4863</th>\n",
       "      <td>LizTowler</td>\n",
       "      <td>@NYCMayorsOffice thanks for making the right d...</td>\n",
       "      <td>NYCMayorsOffice</td>\n",
       "      <td>We have decided to cancel the NYC marathon. Th...</td>\n",
       "    </tr>\n",
       "    <tr>\n",
       "      <th>4869</th>\n",
       "      <td>FlemingPhD</td>\n",
       "      <td>@NYCMayorsOffice : Thank God.  Good decision. ...</td>\n",
       "      <td>NYCMayorsOffice</td>\n",
       "      <td>We have decided to cancel the NYC marathon. Th...</td>\n",
       "    </tr>\n",
       "    <tr>\n",
       "      <th>4873</th>\n",
       "      <td>emburkh</td>\n",
       "      <td>@NYCMayorsOffice @NYCService maybe the runners...</td>\n",
       "      <td>NYCMayorsOffice</td>\n",
       "      <td>We have decided to cancel the NYC marathon. Th...</td>\n",
       "    </tr>\n",
       "    <tr>\n",
       "      <th>4874</th>\n",
       "      <td>CG_DarkAngel</td>\n",
       "      <td>@NYCMayorsOffice @MikeBloomberg Thank you for ...</td>\n",
       "      <td>NYCMayorsOffice</td>\n",
       "      <td>We have decided to cancel the NYC marathon. Th...</td>\n",
       "    </tr>\n",
       "    <tr>\n",
       "      <th>4910</th>\n",
       "      <td>Cowwgurl</td>\n",
       "      <td>@NYCMayorsOffice It's the right decision! Than...</td>\n",
       "      <td>NYCMayorsOffice</td>\n",
       "      <td>We have decided to cancel the NYC marathon. Th...</td>\n",
       "    </tr>\n",
       "    <tr>\n",
       "      <th>5049</th>\n",
       "      <td>PaulyFook</td>\n",
       "      <td>@NYCMayorsOffice Waiting for the Mayor to take...</td>\n",
       "      <td>NYCMayorsOffice</td>\n",
       "      <td>We have decided to cancel the NYC marathon. Th...</td>\n",
       "    </tr>\n",
       "  </tbody>\n",
       "</table>\n",
       "</div>"
      ],
      "text/plain": [
       "           username                                               text  \\\n",
       "4849  ThomasSickler  @NYCMayorsOffice THANK YOU! THANK GOD ITS CANC...   \n",
       "4851      LonerganM  @NYCMayorsOffice Thank you.  New York thanks you.   \n",
       "4853  tfernandes113  Good job! RT @NYCMayorsOffice: We have decided...   \n",
       "4860    NorEasterNJ                   @NYCMayorsOffice Good move Mikey   \n",
       "4863      LizTowler  @NYCMayorsOffice thanks for making the right d...   \n",
       "4869     FlemingPhD  @NYCMayorsOffice : Thank God.  Good decision. ...   \n",
       "4873        emburkh  @NYCMayorsOffice @NYCService maybe the runners...   \n",
       "4874   CG_DarkAngel  @NYCMayorsOffice @MikeBloomberg Thank you for ...   \n",
       "4910       Cowwgurl  @NYCMayorsOffice It's the right decision! Than...   \n",
       "5049      PaulyFook  @NYCMayorsOffice Waiting for the Mayor to take...   \n",
       "\n",
       "             replyWho                                      replyOrigText  \n",
       "4849  NYCMayorsOffice  We have decided to cancel the NYC marathon. Th...  \n",
       "4851  NYCMayorsOffice  We have decided to cancel the NYC marathon. Th...  \n",
       "4853  NYCMayorsOffice  We have decided to cancel the NYC marathon. Th...  \n",
       "4860  NYCMayorsOffice  We have decided to cancel the NYC marathon. Th...  \n",
       "4863  NYCMayorsOffice  We have decided to cancel the NYC marathon. Th...  \n",
       "4869  NYCMayorsOffice  We have decided to cancel the NYC marathon. Th...  \n",
       "4873  NYCMayorsOffice  We have decided to cancel the NYC marathon. Th...  \n",
       "4874  NYCMayorsOffice  We have decided to cancel the NYC marathon. Th...  \n",
       "4910  NYCMayorsOffice  We have decided to cancel the NYC marathon. Th...  \n",
       "5049  NYCMayorsOffice  We have decided to cancel the NYC marathon. Th...  "
      ]
     },
     "execution_count": 136,
     "metadata": {},
     "output_type": "execute_result"
    }
   ],
   "source": [
    "df[['username','text','replyWho','replyOrigText']][df.replyWhat==264477309006925826]"
   ]
  },
  {
   "cell_type": "markdown",
   "metadata": {},
   "source": [
    "So the local tweet most replied to was NYCMayorsOffice cancelling the marathon!!!"
   ]
  },
  {
   "cell_type": "markdown",
   "metadata": {
    "collapsed": false
   },
   "source": [
    "# Annotate tweet network with usernames and text"
   ]
  },
  {
   "cell_type": "code",
   "execution_count": 11,
   "metadata": {
    "collapsed": false
   },
   "outputs": [],
   "source": [
    "userNameDict=dict(zip(df.id.values, df.username.values))"
   ]
  },
  {
   "cell_type": "code",
   "execution_count": 12,
   "metadata": {
    "collapsed": false
   },
   "outputs": [],
   "source": [
    "textDict=dict(zip(df.id.values, df.text.values))"
   ]
  },
  {
   "cell_type": "code",
   "execution_count": 74,
   "metadata": {
    "collapsed": true
   },
   "outputs": [],
   "source": [
    "dateDict=dict(zip(df.id.values, df.date.values))"
   ]
  },
  {
   "cell_type": "code",
   "execution_count": 13,
   "metadata": {
    "collapsed": false
   },
   "outputs": [],
   "source": [
    "nx.set_node_attributes(G,'username',userNameDict)"
   ]
  },
  {
   "cell_type": "code",
   "execution_count": 14,
   "metadata": {
    "collapsed": false
   },
   "outputs": [],
   "source": [
    "nx.set_node_attributes(G,'text',textDict)"
   ]
  },
  {
   "cell_type": "code",
   "execution_count": 75,
   "metadata": {
    "collapsed": true
   },
   "outputs": [],
   "source": [
    "nx.set_node_attributes(G,'date',dateDict)"
   ]
  },
  {
   "cell_type": "code",
   "execution_count": 76,
   "metadata": {
    "collapsed": true
   },
   "outputs": [],
   "source": [
    "comps=list(nx.weakly_connected_component_subgraphs(G))"
   ]
  },
  {
   "cell_type": "code",
   "execution_count": 77,
   "metadata": {
    "collapsed": false
   },
   "outputs": [],
   "source": [
    "gcc=sorted(comps, key = len, reverse=True)"
   ]
  },
  {
   "cell_type": "code",
   "execution_count": 17,
   "metadata": {
    "collapsed": false
   },
   "outputs": [],
   "source": [
    "g0=gcc[0]"
   ]
  },
  {
   "cell_type": "code",
   "execution_count": 18,
   "metadata": {
    "collapsed": false
   },
   "outputs": [
    {
     "data": {
      "text/plain": [
       "44"
      ]
     },
     "execution_count": 18,
     "metadata": {},
     "output_type": "execute_result"
    }
   ],
   "source": [
    "len(g0)"
   ]
  },
  {
   "cell_type": "code",
   "execution_count": 145,
   "metadata": {
    "collapsed": false
   },
   "outputs": [
    {
     "data": {
      "text/plain": [
       "43"
      ]
     },
     "execution_count": 145,
     "metadata": {},
     "output_type": "execute_result"
    }
   ],
   "source": [
    "g0.number_of_edges()"
   ]
  },
  {
   "cell_type": "code",
   "execution_count": 149,
   "metadata": {
    "collapsed": false
   },
   "outputs": [
    {
     "data": {
      "text/plain": [
       "43"
      ]
     },
     "execution_count": 149,
     "metadata": {},
     "output_type": "execute_result"
    }
   ],
   "source": [
    "nx.diameter(nx.Graph(g0))"
   ]
  },
  {
   "cell_type": "code",
   "execution_count": 193,
   "metadata": {
    "collapsed": false
   },
   "outputs": [
    {
     "data": {
      "text/plain": [
       "1"
      ]
     },
     "execution_count": 193,
     "metadata": {},
     "output_type": "execute_result"
    }
   ],
   "source": [
    "max(g0.out_degree().values())"
   ]
  },
  {
   "cell_type": "markdown",
   "metadata": {
    "collapsed": false
   },
   "source": [
    "So, as we know, there is no branching here - each next tweet responds to the last. This means at most out-degree of 1"
   ]
  },
  {
   "cell_type": "code",
   "execution_count": 150,
   "metadata": {
    "collapsed": false
   },
   "outputs": [
    {
     "data": {
      "text/plain": [
       "6177"
      ]
     },
     "execution_count": 150,
     "metadata": {},
     "output_type": "execute_result"
    }
   ],
   "source": [
    "len(comps)"
   ]
  },
  {
   "cell_type": "markdown",
   "metadata": {},
   "source": [
    "This is the number of conversations"
   ]
  },
  {
   "cell_type": "code",
   "execution_count": 19,
   "metadata": {
    "collapsed": true
   },
   "outputs": [],
   "source": [
    "g1=gcc[1]"
   ]
  },
  {
   "cell_type": "code",
   "execution_count": 157,
   "metadata": {
    "collapsed": false
   },
   "outputs": [
    {
     "data": {
      "text/plain": [
       "43"
      ]
     },
     "execution_count": 157,
     "metadata": {},
     "output_type": "execute_result"
    }
   ],
   "source": [
    "len(g1)"
   ]
  },
  {
   "cell_type": "code",
   "execution_count": 158,
   "metadata": {
    "collapsed": false
   },
   "outputs": [
    {
     "data": {
      "text/plain": [
       "42"
      ]
     },
     "execution_count": 158,
     "metadata": {},
     "output_type": "execute_result"
    }
   ],
   "source": [
    "g1.number_of_edges()"
   ]
  },
  {
   "cell_type": "code",
   "execution_count": 159,
   "metadata": {
    "collapsed": false
   },
   "outputs": [
    {
     "data": {
      "text/plain": [
       "42"
      ]
     },
     "execution_count": 159,
     "metadata": {},
     "output_type": "execute_result"
    }
   ],
   "source": [
    "nx.diameter(nx.Graph(g1))"
   ]
  },
  {
   "cell_type": "code",
   "execution_count": 194,
   "metadata": {
    "collapsed": false
   },
   "outputs": [
    {
     "data": {
      "text/plain": [
       "1"
      ]
     },
     "execution_count": 194,
     "metadata": {},
     "output_type": "execute_result"
    }
   ],
   "source": [
    "max(g1.out_degree().values())"
   ]
  },
  {
   "cell_type": "code",
   "execution_count": 20,
   "metadata": {
    "collapsed": true
   },
   "outputs": [],
   "source": [
    "g2=gcc[2]"
   ]
  },
  {
   "cell_type": "code",
   "execution_count": 161,
   "metadata": {
    "collapsed": false
   },
   "outputs": [
    {
     "data": {
      "text/plain": [
       "41"
      ]
     },
     "execution_count": 161,
     "metadata": {},
     "output_type": "execute_result"
    }
   ],
   "source": [
    "len(g2)"
   ]
  },
  {
   "cell_type": "code",
   "execution_count": 189,
   "metadata": {
    "collapsed": false
   },
   "outputs": [
    {
     "data": {
      "text/html": [
       "<div>\n",
       "<table border=\"1\" class=\"dataframe\">\n",
       "  <thead>\n",
       "    <tr style=\"text-align: right;\">\n",
       "      <th></th>\n",
       "      <th>Unnamed: 0</th>\n",
       "      <th>id</th>\n",
       "      <th>username</th>\n",
       "      <th>user_id</th>\n",
       "      <th>geo_enabled</th>\n",
       "      <th>followCount</th>\n",
       "      <th>friendCount</th>\n",
       "      <th>faveCount</th>\n",
       "      <th>tweetCount</th>\n",
       "      <th>date</th>\n",
       "      <th>...</th>\n",
       "      <th>reply43OrigText</th>\n",
       "      <th>reply43OrigReplyWhat</th>\n",
       "      <th>reply43OrigReplyWho</th>\n",
       "      <th>dateObj</th>\n",
       "      <th>repSecDiff</th>\n",
       "      <th>repSet</th>\n",
       "      <th>lenRepSet</th>\n",
       "      <th>convNames</th>\n",
       "      <th>convStart</th>\n",
       "      <th>branchConvo</th>\n",
       "    </tr>\n",
       "  </thead>\n",
       "  <tbody>\n",
       "    <tr>\n",
       "      <th>2235</th>\n",
       "      <td>154239</td>\n",
       "      <td>262254450029244417</td>\n",
       "      <td>Megglezzz</td>\n",
       "      <td>74255540</td>\n",
       "      <td>True</td>\n",
       "      <td>232</td>\n",
       "      <td>743</td>\n",
       "      <td>17</td>\n",
       "      <td>4292</td>\n",
       "      <td>2012-10-27 18:08:27</td>\n",
       "      <td>...</td>\n",
       "      <td>0</td>\n",
       "      <td>0</td>\n",
       "      <td>0</td>\n",
       "      <td>2012-10-27 18:08:27</td>\n",
       "      <td>576</td>\n",
       "      <td>set([262252030679216128, 262254450029244417, 2...</td>\n",
       "      <td>43</td>\n",
       "      <td>set(['DDougyy', 'Megglezzz'])</td>\n",
       "      <td>261901117695332352</td>\n",
       "      <td>0</td>\n",
       "    </tr>\n",
       "    <tr>\n",
       "      <th>10066</th>\n",
       "      <td>604623</td>\n",
       "      <td>274009161975619584</td>\n",
       "      <td>Megglezzz</td>\n",
       "      <td>74255540</td>\n",
       "      <td>True</td>\n",
       "      <td>232</td>\n",
       "      <td>743</td>\n",
       "      <td>17</td>\n",
       "      <td>4292</td>\n",
       "      <td>2012-11-29 04:37:29</td>\n",
       "      <td>...</td>\n",
       "      <td>0</td>\n",
       "      <td>0</td>\n",
       "      <td>0</td>\n",
       "      <td>2012-11-29 04:37:29</td>\n",
       "      <td>1251</td>\n",
       "      <td>set([274009161975619584, 274003914045661185, 2...</td>\n",
       "      <td>43</td>\n",
       "      <td>set(['DDougyy', 'Megglezzz'])</td>\n",
       "      <td>273878290891157505</td>\n",
       "      <td>0</td>\n",
       "    </tr>\n",
       "  </tbody>\n",
       "</table>\n",
       "<p>2 rows × 203 columns</p>\n",
       "</div>"
      ],
      "text/plain": [
       "       Unnamed: 0                  id   username   user_id geo_enabled  \\\n",
       "2235       154239  262254450029244417  Megglezzz  74255540        True   \n",
       "10066      604623  274009161975619584  Megglezzz  74255540        True   \n",
       "\n",
       "       followCount  friendCount  faveCount  tweetCount                 date  \\\n",
       "2235           232          743         17        4292  2012-10-27 18:08:27   \n",
       "10066          232          743         17        4292  2012-11-29 04:37:29   \n",
       "\n",
       "          ...     reply43OrigText reply43OrigReplyWhat reply43OrigReplyWho  \\\n",
       "2235      ...                   0                    0                   0   \n",
       "10066     ...                   0                    0                   0   \n",
       "\n",
       "                   dateObj  repSecDiff  \\\n",
       "2235   2012-10-27 18:08:27         576   \n",
       "10066  2012-11-29 04:37:29        1251   \n",
       "\n",
       "                                                  repSet  lenRepSet  \\\n",
       "2235   set([262252030679216128, 262254450029244417, 2...         43   \n",
       "10066  set([274009161975619584, 274003914045661185, 2...         43   \n",
       "\n",
       "                           convNames           convStart branchConvo  \n",
       "2235   set(['DDougyy', 'Megglezzz'])  261901117695332352           0  \n",
       "10066  set(['DDougyy', 'Megglezzz'])  273878290891157505           0  \n",
       "\n",
       "[2 rows x 203 columns]"
      ]
     },
     "execution_count": 189,
     "metadata": {},
     "output_type": "execute_result"
    }
   ],
   "source": [
    "df[df.lenRepSet==43]"
   ]
  },
  {
   "cell_type": "code",
   "execution_count": 176,
   "metadata": {
    "collapsed": false
   },
   "outputs": [],
   "source": [
    "compSizes=[]\n",
    "maxOutDeg=[]\n",
    "for g in comps:\n",
    "    compSizes.append(len(g))\n",
    "    maxOutDeg.append(max(g.out_degree().values()))"
   ]
  },
  {
   "cell_type": "code",
   "execution_count": 201,
   "metadata": {
    "collapsed": false
   },
   "outputs": [
    {
     "data": {
      "text/plain": [
       "(array([  4.26700000e+03,   1.04500000e+03,   4.00000000e+02,\n",
       "          2.08000000e+02,   9.50000000e+01,   6.80000000e+01,\n",
       "          2.90000000e+01,   2.30000000e+01,   9.00000000e+00,\n",
       "          7.00000000e+00,   6.00000000e+00,   1.00000000e+00,\n",
       "          2.00000000e+00,   0.00000000e+00,   3.00000000e+00,\n",
       "          2.00000000e+00,   1.00000000e+00,   0.00000000e+00,\n",
       "          0.00000000e+00,   0.00000000e+00,   0.00000000e+00,\n",
       "          0.00000000e+00,   0.00000000e+00,   1.00000000e+00,\n",
       "          1.00000000e+00,   0.00000000e+00,   1.00000000e+00,\n",
       "          0.00000000e+00,   1.00000000e+00,   1.00000000e+00,\n",
       "          0.00000000e+00,   0.00000000e+00,   1.00000000e+00,\n",
       "          0.00000000e+00,   1.00000000e+00,   0.00000000e+00,\n",
       "          1.00000000e+00,   0.00000000e+00,   0.00000000e+00,\n",
       "          1.00000000e+00,   0.00000000e+00,   2.00000000e+00]),\n",
       " array([  2.,   3.,   4.,   5.,   6.,   7.,   8.,   9.,  10.,  11.,  12.,\n",
       "         13.,  14.,  15.,  16.,  17.,  18.,  19.,  20.,  21.,  22.,  23.,\n",
       "         24.,  25.,  26.,  27.,  28.,  29.,  30.,  31.,  32.,  33.,  34.,\n",
       "         35.,  36.,  37.,  38.,  39.,  40.,  41.,  42.,  43.,  44.]),\n",
       " <a list of 42 Patch objects>)"
      ]
     },
     "execution_count": 201,
     "metadata": {},
     "output_type": "execute_result"
    },
    {
     "data": {
      "image/png": "[encoded data removed]",
      "text/plain": [
       "<matplotlib.figure.Figure at 0x7f5249941d90>"
      ]
     },
     "metadata": {},
     "output_type": "display_data"
    }
   ],
   "source": [
    "plt.hist(compSizes,42)"
   ]
  },
  {
   "cell_type": "code",
   "execution_count": 1,
   "metadata": {
    "collapsed": false
   },
   "outputs": [
    {
     "ename": "NameError",
     "evalue": "name 'c' is not defined",
     "output_type": "error",
     "traceback": [
      "\u001b[1;31m---------------------------------------------------------------------------\u001b[0m",
      "\u001b[1;31mNameError\u001b[0m                                 Traceback (most recent call last)",
      "\u001b[1;32m<ipython-input-1-4393abcb4afd>\u001b[0m in \u001b[0;36m<module>\u001b[1;34m()\u001b[0m\n\u001b[1;32m----> 1\u001b[1;33m \u001b[0mfreq\u001b[0m\u001b[1;33m=\u001b[0m\u001b[0mc\u001b[0m\u001b[1;33m.\u001b[0m\u001b[0mCounter\u001b[0m\u001b[1;33m(\u001b[0m\u001b[0mcompSizes\u001b[0m\u001b[1;33m)\u001b[0m\u001b[1;33m\u001b[0m\u001b[0m\n\u001b[0m\u001b[0;32m      2\u001b[0m \u001b[0my\u001b[0m\u001b[1;33m=\u001b[0m\u001b[0mfreq\u001b[0m\u001b[1;33m.\u001b[0m\u001b[0mvalues\u001b[0m\u001b[1;33m(\u001b[0m\u001b[1;33m)\u001b[0m\u001b[1;33m\u001b[0m\u001b[0m\n\u001b[0;32m      3\u001b[0m \u001b[0mx\u001b[0m\u001b[1;33m=\u001b[0m\u001b[0mfreq\u001b[0m\u001b[1;33m.\u001b[0m\u001b[0mkeys\u001b[0m\u001b[1;33m(\u001b[0m\u001b[1;33m)\u001b[0m\u001b[1;33m\u001b[0m\u001b[0m\n\u001b[0;32m      4\u001b[0m \u001b[0mlogx\u001b[0m\u001b[1;33m=\u001b[0m\u001b[0mnp\u001b[0m\u001b[1;33m.\u001b[0m\u001b[0mlog\u001b[0m\u001b[1;33m(\u001b[0m\u001b[0mx\u001b[0m\u001b[1;33m)\u001b[0m\u001b[1;33m\u001b[0m\u001b[0m\n\u001b[0;32m      5\u001b[0m \u001b[0mlogy\u001b[0m\u001b[1;33m=\u001b[0m\u001b[0mnp\u001b[0m\u001b[1;33m.\u001b[0m\u001b[0mlog\u001b[0m\u001b[1;33m(\u001b[0m\u001b[0my\u001b[0m\u001b[1;33m)\u001b[0m\u001b[1;33m\u001b[0m\u001b[0m\n",
      "\u001b[1;31mNameError\u001b[0m: name 'c' is not defined"
     ]
    }
   ],
   "source": [
    "freq=c.Counter(compSizes)\n",
    "y=freq.values()\n",
    "x=freq.keys()\n",
    "logx=np.log(x)\n",
    "logy=np.log(y)\n",
    "coeffs=np.polyfit(logx,logy,deg=1)\n",
    "poly=np.poly1d(coeffs)\n",
    "a=np.exp(coeffs[1])\n",
    "b=coeffs[0]\n",
    "eq='y='+str(round(a,2))+'*x^('+str(round(b,2))+')'\n",
    "\n",
    "plt.figure()\n",
    "plt.loglog(x,y,'co') \n",
    "plt.xlabel('Number of tweets in the conversation')\n",
    "plt.ylabel('Frequency')\n",
    "plt.title('Loglog plot of conversation sizes (steps)')\n",
    "plt.xlim(xmin=-0,xmax=45)\n",
    "plt.ylim(ymin=0,ymax=10**3.7)\n",
    "yfit = lambda x: np.exp(poly(np.log(x)))\n",
    "plt.loglog(x,yfit(x),linewidth=2,c='r',label=eq)\n",
    "plt.legend(loc=\"upper right\")"
   ]
  },
  {
   "cell_type": "code",
   "execution_count": 212,
   "metadata": {
    "collapsed": false
   },
   "outputs": [
    {
     "data": {
      "text/plain": [
       "368"
      ]
     },
     "execution_count": 212,
     "metadata": {},
     "output_type": "execute_result"
    }
   ],
   "source": [
    "sum(d>1 for d in maxOutDeg)"
   ]
  },
  {
   "cell_type": "markdown",
   "metadata": {},
   "source": [
    "Check why the numbers from network (6177 convos, 368 branch) differ slightly from df (6175 convos, 369 branch)"
   ]
  },
  {
   "cell_type": "code",
   "execution_count": 143,
   "metadata": {
    "collapsed": false
   },
   "outputs": [],
   "source": [
    "branchConvoStarts=df.convStart[df.branchConvo>0].unique().tolist()"
   ]
  },
  {
   "cell_type": "code",
   "execution_count": 225,
   "metadata": {
    "collapsed": true
   },
   "outputs": [],
   "source": [
    "for g in comps:\n",
    "    for s in branchConvoStarts:\n",
    "        if s in g:\n",
    "            branchConvoStarts=branchConvoStarts.remove(s)"
   ]
  },
  {
   "cell_type": "code",
   "execution_count": 235,
   "metadata": {
    "collapsed": false
   },
   "outputs": [
    {
     "data": {
      "text/plain": [
       "False"
      ]
     },
     "execution_count": 235,
     "metadata": {},
     "output_type": "execute_result"
    }
   ],
   "source": [
    "branchConvoStarts[0] in G"
   ]
  },
  {
   "cell_type": "code",
   "execution_count": 257,
   "metadata": {
    "collapsed": false
   },
   "outputs": [
    {
     "data": {
      "text/plain": [
       "id                                                    257898385686794240\n",
       "text                   @JohnnycBlaze no where?  I'm confused I have n...\n",
       "replyWhat                                             257892840766590976\n",
       "replyOrigText                     @El_Hindu226 saw my spidey framed pic?\n",
       "replyOrigReplyWhat                                    257888498995052544\n",
       "reply2OrigText           @JohnnycBlaze for what? Did u attach something?\n",
       "reply2OrigReplyWhat                                   257885425685901312\n",
       "reply3OrigText                   @El_Hindu226 thankx for this by the way\n",
       "reply3OrigReplyWhat                                   255499297834008576\n",
       "reply4OrigText                                                         0\n",
       "Name: 346, dtype: object"
      ]
     },
     "execution_count": 257,
     "metadata": {},
     "output_type": "execute_result"
    }
   ],
   "source": [
    "df[['id','text','replyWhat','replyOrigText','replyOrigReplyWhat','reply2OrigText','reply2OrigReplyWhat','reply3OrigText','reply3OrigReplyWhat','reply4OrigText']].loc[346]"
   ]
  },
  {
   "cell_type": "markdown",
   "metadata": {},
   "source": [
    "**So we don't have the original in our data set**, we have the tweets starting from 1312, which points to the original (but not more info)"
   ]
  },
  {
   "cell_type": "code",
   "execution_count": 262,
   "metadata": {
    "collapsed": false
   },
   "outputs": [
    {
     "data": {
      "text/html": [
       "<div>\n",
       "<table border=\"1\" class=\"dataframe\">\n",
       "  <thead>\n",
       "    <tr style=\"text-align: right;\">\n",
       "      <th></th>\n",
       "      <th>Unnamed: 0</th>\n",
       "      <th>id</th>\n",
       "      <th>username</th>\n",
       "      <th>user_id</th>\n",
       "      <th>geo_enabled</th>\n",
       "      <th>followCount</th>\n",
       "      <th>friendCount</th>\n",
       "      <th>faveCount</th>\n",
       "      <th>tweetCount</th>\n",
       "      <th>date</th>\n",
       "      <th>...</th>\n",
       "      <th>reply43OrigText</th>\n",
       "      <th>reply43OrigReplyWhat</th>\n",
       "      <th>reply43OrigReplyWho</th>\n",
       "      <th>dateObj</th>\n",
       "      <th>repSecDiff</th>\n",
       "      <th>repSet</th>\n",
       "      <th>lenRepSet</th>\n",
       "      <th>convNames</th>\n",
       "      <th>convStart</th>\n",
       "      <th>branchConvo</th>\n",
       "    </tr>\n",
       "  </thead>\n",
       "  <tbody>\n",
       "    <tr>\n",
       "      <th>335</th>\n",
       "      <td>22640</td>\n",
       "      <td>257888498995052544</td>\n",
       "      <td>El_Hindu226</td>\n",
       "      <td>201824165</td>\n",
       "      <td>True</td>\n",
       "      <td>28</td>\n",
       "      <td>222</td>\n",
       "      <td>1</td>\n",
       "      <td>392</td>\n",
       "      <td>2012-10-15 16:59:44</td>\n",
       "      <td>...</td>\n",
       "      <td>0</td>\n",
       "      <td>0</td>\n",
       "      <td>0</td>\n",
       "      <td>2012-10-15 16:59:44</td>\n",
       "      <td>733</td>\n",
       "      <td>set([257888498995052544, 257885425685901312, 2...</td>\n",
       "      <td>3</td>\n",
       "      <td>set(['JohnnycBlaze', 'El_Hindu226'])</td>\n",
       "      <td>255499297834008576</td>\n",
       "      <td>1</td>\n",
       "    </tr>\n",
       "  </tbody>\n",
       "</table>\n",
       "<p>1 rows × 203 columns</p>\n",
       "</div>"
      ],
      "text/plain": [
       "     Unnamed: 0                  id     username    user_id geo_enabled  \\\n",
       "335       22640  257888498995052544  El_Hindu226  201824165        True   \n",
       "\n",
       "     followCount  friendCount  faveCount  tweetCount                 date  \\\n",
       "335           28          222          1         392  2012-10-15 16:59:44   \n",
       "\n",
       "        ...     reply43OrigText reply43OrigReplyWhat reply43OrigReplyWho  \\\n",
       "335     ...                   0                    0                   0   \n",
       "\n",
       "                 dateObj  repSecDiff  \\\n",
       "335  2012-10-15 16:59:44         733   \n",
       "\n",
       "                                                repSet  lenRepSet  \\\n",
       "335  set([257888498995052544, 257885425685901312, 2...          3   \n",
       "\n",
       "                                convNames           convStart branchConvo  \n",
       "335  set(['JohnnycBlaze', 'El_Hindu226'])  255499297834008576           1  \n",
       "\n",
       "[1 rows x 203 columns]"
      ]
     },
     "execution_count": 262,
     "metadata": {},
     "output_type": "execute_result"
    }
   ],
   "source": [
    "df[df.replyWhat==257885425685901312]"
   ]
  },
  {
   "cell_type": "markdown",
   "metadata": {},
   "source": [
    "# Build Full conversation DF based on components"
   ]
  },
  {
   "cell_type": "code",
   "execution_count": 79,
   "metadata": {
    "collapsed": false
   },
   "outputs": [],
   "source": [
    "compList=[]\n",
    "for c in comps:\n",
    "    compList.append(nx.topological_sort(c))"
   ]
  },
  {
   "cell_type": "markdown",
   "metadata": {},
   "source": [
    "Tweet 0 is the original, which starts the conversation"
   ]
  },
  {
   "cell_type": "code",
   "execution_count": 323,
   "metadata": {
    "collapsed": false
   },
   "outputs": [],
   "source": [
    "cols=[]\n",
    "for i in xrange(44):\n",
    "    cols.append('tweet'+str(i))"
   ]
  },
  {
   "cell_type": "code",
   "execution_count": 324,
   "metadata": {
    "collapsed": false,
    "scrolled": true
   },
   "outputs": [],
   "source": [
    "convs=pd.DataFrame(compList, dtype='object', columns=cols)"
   ]
  },
  {
   "cell_type": "code",
   "execution_count": 325,
   "metadata": {
    "collapsed": false
   },
   "outputs": [],
   "source": [
    "convs=convs.fillna(0)"
   ]
  },
  {
   "cell_type": "code",
   "execution_count": 326,
   "metadata": {
    "collapsed": false
   },
   "outputs": [],
   "source": [
    "newColOrder=[]\n",
    "for i in xrange(44):\n",
    "    dateCol='date'+str(i)\n",
    "    convs[dateCol]=0\n",
    "    userCol='username'+str(i)\n",
    "    convs[userCol]=0\n",
    "    textCol='text'+str(i)\n",
    "    convs[textCol]=0\n",
    "    tweetCol='tweet'+str(i)\n",
    "    newColOrder.append(tweetCol)\n",
    "    newColOrder.append(dateCol)\n",
    "    newColOrder.append(userCol)\n",
    "    newColOrder.append(textCol)"
   ]
  },
  {
   "cell_type": "markdown",
   "metadata": {},
   "source": [
    "reorder the columns to have info about each tweet together"
   ]
  },
  {
   "cell_type": "code",
   "execution_count": 327,
   "metadata": {
    "collapsed": false
   },
   "outputs": [],
   "source": [
    "convs=convs[newColOrder]"
   ]
  },
  {
   "cell_type": "markdown",
   "metadata": {},
   "source": [
    "fill in all the values"
   ]
  },
  {
   "cell_type": "code",
   "execution_count": 328,
   "metadata": {
    "collapsed": false,
    "scrolled": true
   },
   "outputs": [],
   "source": [
    "convs['branching']=convs.tweet0.isin(branchConvoStarts)"
   ]
  },
  {
   "cell_type": "code",
   "execution_count": 162,
   "metadata": {
    "collapsed": false
   },
   "outputs": [],
   "source": [
    "branchConvosNotInComps=list(set(branchConvoStarts) - set(convs.tweet0.tolist()))"
   ]
  },
  {
   "cell_type": "code",
   "execution_count": 164,
   "metadata": {
    "collapsed": false
   },
   "outputs": [
    {
     "data": {
      "text/plain": [
       "False"
      ]
     },
     "execution_count": 164,
     "metadata": {},
     "output_type": "execute_result"
    }
   ],
   "source": [
    "branchConvosNotInComps[0] in G"
   ]
  },
  {
   "cell_type": "markdown",
   "metadata": {},
   "source": [
    "So this particular original tweet, while in DF is not in the graph! What's going on?"
   ]
  },
  {
   "cell_type": "code",
   "execution_count": 171,
   "metadata": {
    "collapsed": true
   },
   "outputs": [
    {
     "data": {
      "text/html": [
       "<div>\n",
       "<table border=\"1\" class=\"dataframe\">\n",
       "  <thead>\n",
       "    <tr style=\"text-align: right;\">\n",
       "      <th></th>\n",
       "      <th>id</th>\n",
       "      <th>username</th>\n",
       "      <th>text</th>\n",
       "      <th>date</th>\n",
       "      <th>replyWho</th>\n",
       "      <th>replyWhat</th>\n",
       "      <th>replyOrigTime</th>\n",
       "      <th>replyOrigText</th>\n",
       "      <th>replyOrigReplyWhat</th>\n",
       "      <th>replyOrigReplyWho</th>\n",
       "      <th>reply2OrigTime</th>\n",
       "      <th>reply2OrigText</th>\n",
       "      <th>reply2OrigReplyWhat</th>\n",
       "      <th>convStart</th>\n",
       "    </tr>\n",
       "  </thead>\n",
       "  <tbody>\n",
       "    <tr>\n",
       "      <th>5464</th>\n",
       "      <td>265138772717477889</td>\n",
       "      <td>sabrinaroseee</td>\n",
       "      <td>@Sara_Persiano @shannondicksonn how do you kno...</td>\n",
       "      <td>2012-11-04 17:09:44</td>\n",
       "      <td>Sara_Persiano</td>\n",
       "      <td>265136910593318912</td>\n",
       "      <td>2012-11-04 17:02:20</td>\n",
       "      <td>@shannondicksonn not until the 12th</td>\n",
       "      <td>265136439702978560</td>\n",
       "      <td>shannondicksonn</td>\n",
       "      <td>0</td>\n",
       "      <td>0</td>\n",
       "      <td>0</td>\n",
       "      <td>265136439702978560</td>\n",
       "    </tr>\n",
       "    <tr>\n",
       "      <th>5465</th>\n",
       "      <td>265138981430243328</td>\n",
       "      <td>Sara_Persiano</td>\n",
       "      <td>@sabrinaroseee @shannondicksonn my brothers fr...</td>\n",
       "      <td>2012-11-04 17:10:33</td>\n",
       "      <td>sabrinaroseee</td>\n",
       "      <td>265138772717477889</td>\n",
       "      <td>2012-11-04 17:09:44</td>\n",
       "      <td>@Sara_Persiano @shannondicksonn how do you kno...</td>\n",
       "      <td>265136910593318912</td>\n",
       "      <td>Sara_Persiano</td>\n",
       "      <td>2012-11-04 17:02:20</td>\n",
       "      <td>@shannondicksonn not until the 12th</td>\n",
       "      <td>265136439702978560</td>\n",
       "      <td>265136439702978560</td>\n",
       "    </tr>\n",
       "    <tr>\n",
       "      <th>5466</th>\n",
       "      <td>265139021531975680</td>\n",
       "      <td>Sara_Persiano</td>\n",
       "      <td>@sabrinaroseee @shannondicksonn buses theb we ...</td>\n",
       "      <td>2012-11-04 17:10:43</td>\n",
       "      <td>sabrinaroseee</td>\n",
       "      <td>265138772717477889</td>\n",
       "      <td>2012-11-04 17:09:44</td>\n",
       "      <td>@Sara_Persiano @shannondicksonn how do you kno...</td>\n",
       "      <td>265136910593318912</td>\n",
       "      <td>Sara_Persiano</td>\n",
       "      <td>2012-11-04 17:02:20</td>\n",
       "      <td>@shannondicksonn not until the 12th</td>\n",
       "      <td>265136439702978560</td>\n",
       "      <td>265136439702978560</td>\n",
       "    </tr>\n",
       "    <tr>\n",
       "      <th>5469</th>\n",
       "      <td>265139154902462465</td>\n",
       "      <td>sabrinaroseee</td>\n",
       "      <td>@Sara_Persiano @shannondicksonn YAY</td>\n",
       "      <td>2012-11-04 17:11:15</td>\n",
       "      <td>Sara_Persiano</td>\n",
       "      <td>265138981430243328</td>\n",
       "      <td>2012-11-04 17:10:33</td>\n",
       "      <td>@sabrinaroseee @shannondicksonn my brothers fr...</td>\n",
       "      <td>265138772717477889</td>\n",
       "      <td>sabrinaroseee</td>\n",
       "      <td>2012-11-04 17:09:44</td>\n",
       "      <td>@Sara_Persiano @shannondicksonn how do you kno...</td>\n",
       "      <td>265136910593318912</td>\n",
       "      <td>265136439702978560</td>\n",
       "    </tr>\n",
       "  </tbody>\n",
       "</table>\n",
       "</div>"
      ],
      "text/plain": [
       "                      id       username  \\\n",
       "5464  265138772717477889  sabrinaroseee   \n",
       "5465  265138981430243328  Sara_Persiano   \n",
       "5466  265139021531975680  Sara_Persiano   \n",
       "5469  265139154902462465  sabrinaroseee   \n",
       "\n",
       "                                                   text                 date  \\\n",
       "5464  @Sara_Persiano @shannondicksonn how do you kno...  2012-11-04 17:09:44   \n",
       "5465  @sabrinaroseee @shannondicksonn my brothers fr...  2012-11-04 17:10:33   \n",
       "5466  @sabrinaroseee @shannondicksonn buses theb we ...  2012-11-04 17:10:43   \n",
       "5469                @Sara_Persiano @shannondicksonn YAY  2012-11-04 17:11:15   \n",
       "\n",
       "           replyWho           replyWhat        replyOrigTime  \\\n",
       "5464  Sara_Persiano  265136910593318912  2012-11-04 17:02:20   \n",
       "5465  sabrinaroseee  265138772717477889  2012-11-04 17:09:44   \n",
       "5466  sabrinaroseee  265138772717477889  2012-11-04 17:09:44   \n",
       "5469  Sara_Persiano  265138981430243328  2012-11-04 17:10:33   \n",
       "\n",
       "                                          replyOrigText  replyOrigReplyWhat  \\\n",
       "5464                @shannondicksonn not until the 12th  265136439702978560   \n",
       "5465  @Sara_Persiano @shannondicksonn how do you kno...  265136910593318912   \n",
       "5466  @Sara_Persiano @shannondicksonn how do you kno...  265136910593318912   \n",
       "5469  @sabrinaroseee @shannondicksonn my brothers fr...  265138772717477889   \n",
       "\n",
       "     replyOrigReplyWho       reply2OrigTime  \\\n",
       "5464   shannondicksonn                    0   \n",
       "5465     Sara_Persiano  2012-11-04 17:02:20   \n",
       "5466     Sara_Persiano  2012-11-04 17:02:20   \n",
       "5469     sabrinaroseee  2012-11-04 17:09:44   \n",
       "\n",
       "                                         reply2OrigText  reply2OrigReplyWhat  \\\n",
       "5464                                                  0                    0   \n",
       "5465                @shannondicksonn not until the 12th   265136439702978560   \n",
       "5466                @shannondicksonn not until the 12th   265136439702978560   \n",
       "5469  @Sara_Persiano @shannondicksonn how do you kno...   265136910593318912   \n",
       "\n",
       "               convStart  \n",
       "5464  265136439702978560  \n",
       "5465  265136439702978560  \n",
       "5466  265136439702978560  \n",
       "5469  265136439702978560  "
      ]
     },
     "execution_count": 171,
     "metadata": {},
     "output_type": "execute_result"
    }
   ],
   "source": [
    "df[['id','username','text', 'date','replyWho', 'replyWhat', 'replyOrigTime',\n",
    "       'replyOrigText', 'replyOrigReplyWhat', 'replyOrigReplyWho',\n",
    "       'reply2OrigTime', 'reply2OrigText', 'reply2OrigReplyWhat','convStart']][df.convStart==branchConvosNotInComps[0]]"
   ]
  },
  {
   "cell_type": "markdown",
   "metadata": {},
   "source": [
    "So we don't have the original tweet that started this convo in our data set. What about the second one: 265136910593318912?"
   ]
  },
  {
   "cell_type": "code",
   "execution_count": 172,
   "metadata": {
    "collapsed": false
   },
   "outputs": [
    {
     "data": {
      "text/plain": [
       "True"
      ]
     },
     "execution_count": 172,
     "metadata": {},
     "output_type": "execute_result"
    }
   ],
   "source": [
    "265136910593318912 in G"
   ]
  },
  {
   "cell_type": "markdown",
   "metadata": {},
   "source": [
    "So we are missing some original tweets from the network b/c we have a mention of them (as a scond order reply to in df), but don't actually have them in the file - so miss them in the way we construct the network. And **that's ok for the convo nets**, since we don't have their text!!!"
   ]
  },
  {
   "cell_type": "markdown",
   "metadata": {},
   "source": [
    "# Determine branching by degree, not df"
   ]
  },
  {
   "cell_type": "code",
   "execution_count": 329,
   "metadata": {
    "collapsed": false
   },
   "outputs": [],
   "source": [
    "convs['branching']=[i>1 for i in maxOutDeg]"
   ]
  },
  {
   "cell_type": "code",
   "execution_count": 330,
   "metadata": {
    "collapsed": true
   },
   "outputs": [],
   "source": [
    "convs['convSize']=compSizes"
   ]
  },
  {
   "cell_type": "markdown",
   "metadata": {},
   "source": [
    "Fill in the original tweet info. This is tricky b/c we only have these as ReplyWhat, so multiple rows in df correspond to a single tweet0. Sadly, have to do this in a loop (just this once)."
   ]
  },
  {
   "cell_type": "code",
   "execution_count": 347,
   "metadata": {
    "collapsed": false,
    "scrolled": true
   },
   "outputs": [],
   "source": [
    "for index, row in convs.iterrows():\n",
    "    #convs.loc[index,'text0']=df.replyOrigText[df.replyWhat==int(row['tweet0'])].drop_duplicates().values[0]\n",
    "    convs.loc[index,'date0']=df.replyOrigTime[df.replyWhat==int(row['tweet0'])].drop_duplicates().values[0]\n",
    "    convs.loc[index,'username0']=df.replyWho[df.replyWhat==int(row['tweet0'])].drop_duplicates().values[0]"
   ]
  },
  {
   "cell_type": "markdown",
   "metadata": {},
   "source": [
    "Fill in all the other cells"
   ]
  },
  {
   "cell_type": "code",
   "execution_count": 379,
   "metadata": {
    "collapsed": false
   },
   "outputs": [],
   "source": [
    "for i in range(1,44):\n",
    "    textCol='text'+str(i)\n",
    "    dateCol='date'+str(i)\n",
    "    usernameCol='username'+str(i)\n",
    "    tweetCol='tweet'+str(i)\n",
    "    temp=pd.merge(left=convs, right=df[['id','username','date','text']],how='left', left_on=tweetCol, right_on='id')\n",
    "    convs[[textCol,dateCol,usernameCol]]=temp[['text','date','username']]"
   ]
  },
  {
   "cell_type": "code",
   "execution_count": 392,
   "metadata": {
    "collapsed": true
   },
   "outputs": [],
   "source": [
    "convs=convs.fillna(0)"
   ]
  },
  {
   "cell_type": "code",
   "execution_count": 459,
   "metadata": {
    "collapsed": false
   },
   "outputs": [],
   "source": [
    "def ReplyNameSet(row):\n",
    "    chain=set()\n",
    "    for i in xrange(44):\n",
    "        colName='username'+str(i)\n",
    "        if str(row[colName])!='0':\n",
    "            chain=chain | set([row[colName]])\n",
    "    return list(chain)"
   ]
  },
  {
   "cell_type": "code",
   "execution_count": 460,
   "metadata": {
    "collapsed": false,
    "scrolled": true
   },
   "outputs": [],
   "source": [
    "convs['allNames']=convs.apply(ReplyNameSet, axis=1)"
   ]
  },
  {
   "cell_type": "code",
   "execution_count": 397,
   "metadata": {
    "collapsed": false
   },
   "outputs": [],
   "source": [
    "def convoEndTime(row):\n",
    "    #chain=set([row.id, row.replyWhat, row.replyOrigReplyWhat])\n",
    "    i=43\n",
    "    colName='tweet'+str(i)\n",
    "    while row[colName]==0:\n",
    "        i-=1\n",
    "        colName='tweet'+str(i)\n",
    "    return row['date'+str(i)]"
   ]
  },
  {
   "cell_type": "code",
   "execution_count": 410,
   "metadata": {
    "collapsed": false
   },
   "outputs": [],
   "source": [
    "convs['convoEndTime']=convs.apply(convoEndTime, axis=1)"
   ]
  },
  {
   "cell_type": "code",
   "execution_count": 461,
   "metadata": {
    "collapsed": false,
    "scrolled": true
   },
   "outputs": [],
   "source": [
    "convs.to_csv('../data/bbAllFullConvos.csv',sep=';', index=False)"
   ]
  }
 ],
 "metadata": {
  "kernelspec": {
   "display_name": "Python 2",
   "language": "python",
   "name": "python2"
  },
  "language_info": {
   "codemirror_mode": {
    "name": "ipython",
    "version": 2
   },
   "file_extension": ".py",
   "mimetype": "text/x-python",
   "name": "python",
   "nbconvert_exporter": "python",
   "pygments_lexer": "ipython2",
   "version": "2.7.6"
  }
 },
 "nbformat": 4,
 "nbformat_minor": 0
}
